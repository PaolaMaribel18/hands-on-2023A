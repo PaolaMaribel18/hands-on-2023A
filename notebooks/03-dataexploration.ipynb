{
 "cells": [
  {
   "cell_type": "markdown",
   "id": "a9dd9ff3-7e7b-4239-a285-9edd2f8df0b4",
   "metadata": {},
   "source": [
    "# 03. Hands On: Data Exploration"
   ]
  },
  {
   "cell_type": "markdown",
   "id": "a11e80cd-b2e9-4abe-99a2-6ce6d9214096",
   "metadata": {},
   "source": [
    "## 1 Summarization"
   ]
  },
  {
   "cell_type": "markdown",
   "id": "d5f29016-5c05-4011-ab80-249077b94bd4",
   "metadata": {},
   "source": [
    "Load the data set carIns final. It already has the imputation of missing values."
   ]
  },
  {
   "cell_type": "code",
   "execution_count": null,
   "id": "22a9904b-b035-43bf-a731-572bfef158a8",
   "metadata": {},
   "outputs": [],
   "source": []
  },
  {
   "cell_type": "markdown",
   "id": "5f5047b0-d1fd-4e74-bcdd-b58b0c9e9b72",
   "metadata": {},
   "source": [
    "### 1. Using the package dplyr, answer the following questions:"
   ]
  },
  {
   "cell_type": "markdown",
   "id": "adea3cf7-28a3-4897-b58a-2905e978c66b",
   "metadata": {},
   "source": [
    "#### (a) Obtain the number of cars by bodyStyle."
   ]
  },
  {
   "cell_type": "markdown",
   "id": "c0ccab54-df27-46d5-8042-5c27f86ab651",
   "metadata": {},
   "source": [
    "#### (b) Obtain the number of cars by bodyStyle and fuelType."
   ]
  },
  {
   "cell_type": "markdown",
   "id": "c5f5b6a0-52eb-4f58-a996-19b6cf82635f",
   "metadata": {},
   "source": [
    "#### (c) Obtain the mean and the standard deviation of the attribute cityMpg by bodyStyle in ascending order."
   ]
  },
  {
   "cell_type": "markdown",
   "id": "3b560eb5-bcc8-4afa-b907-0bb6a92fe4a6",
   "metadata": {},
   "source": [
    "#### (d) Also by bodyStyle, and for the attributes cityMpg and highwayMpg, obtain the mean, the standard deviation, the median and the inter-quartile range."
   ]
  },
  {
   "cell_type": "markdown",
   "id": "f853fbc2-0162-4a0f-b909-5d9d7dc72e85",
   "metadata": {},
   "source": []
  }
 ],
 "metadata": {
  "kernelspec": {
   "display_name": "R",
   "language": "R",
   "name": "ir"
  },
  "language_info": {
   "codemirror_mode": "r",
   "file_extension": ".r",
   "mimetype": "text/x-r-source",
   "name": "R",
   "pygments_lexer": "r",
   "version": "4.3.0"
  }
 },
 "nbformat": 4,
 "nbformat_minor": 5
}
