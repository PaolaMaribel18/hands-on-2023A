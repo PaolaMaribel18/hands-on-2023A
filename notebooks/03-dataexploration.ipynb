{
 "cells": [
  {
   "cell_type": "markdown",
   "id": "a9dd9ff3-7e7b-4239-a285-9edd2f8df0b4",
   "metadata": {},
   "source": [
    "# 03. Hands On: Data Exploration"
   ]
  },
  {
   "cell_type": "markdown",
   "id": "a11e80cd-b2e9-4abe-99a2-6ce6d9214096",
   "metadata": {},
   "source": [
    "## 1 Summarization"
   ]
  },
  {
   "cell_type": "markdown",
   "id": "d5f29016-5c05-4011-ab80-249077b94bd4",
   "metadata": {},
   "source": [
    "Load the data set carIns final. It already has the imputation of missing values."
   ]
  },
  {
   "cell_type": "code",
   "execution_count": 5,
   "id": "22a9904b-b035-43bf-a731-572bfef158a8",
   "metadata": {},
   "outputs": [
    {
     "data": {
      "text/html": [
       "<table class=\"dataframe\">\n",
       "<caption>A tibble: 5 × 26</caption>\n",
       "<thead>\n",
       "\t<tr><th></th><th scope=col>symb</th><th scope=col>normLoss</th><th scope=col>make</th><th scope=col>fuelType</th><th scope=col>aspiration</th><th scope=col>nDoors</th><th scope=col>bodyStyle</th><th scope=col>driveWheels</th><th scope=col>engineLocation</th><th scope=col>wheelBase</th><th scope=col>⋯</th><th scope=col>engineSize</th><th scope=col>fuelSystem</th><th scope=col>bore</th><th scope=col>stroke</th><th scope=col>compressionRatio</th><th scope=col>horsePower</th><th scope=col>peakRpm</th><th scope=col>cityMpg</th><th scope=col>highwayMpg</th><th scope=col>price</th></tr>\n",
       "\t<tr><th></th><th scope=col>&lt;int&gt;</th><th scope=col>&lt;int&gt;</th><th scope=col>&lt;fct&gt;</th><th scope=col>&lt;fct&gt;</th><th scope=col>&lt;fct&gt;</th><th scope=col>&lt;fct&gt;</th><th scope=col>&lt;fct&gt;</th><th scope=col>&lt;fct&gt;</th><th scope=col>&lt;fct&gt;</th><th scope=col>&lt;dbl&gt;</th><th scope=col>⋯</th><th scope=col>&lt;int&gt;</th><th scope=col>&lt;fct&gt;</th><th scope=col>&lt;dbl&gt;</th><th scope=col>&lt;dbl&gt;</th><th scope=col>&lt;dbl&gt;</th><th scope=col>&lt;int&gt;</th><th scope=col>&lt;int&gt;</th><th scope=col>&lt;int&gt;</th><th scope=col>&lt;int&gt;</th><th scope=col>&lt;int&gt;</th></tr>\n",
       "</thead>\n",
       "<tbody>\n",
       "\t<tr><th scope=row>1</th><td>3</td><td>161</td><td>alfa-romero</td><td>gas</td><td>std</td><td>two </td><td>convertible</td><td>rwd</td><td>front</td><td>88.6</td><td>⋯</td><td>130</td><td>mpfi</td><td>3.47</td><td>2.68</td><td> 9</td><td>111</td><td>5000</td><td>21</td><td>27</td><td>13495</td></tr>\n",
       "\t<tr><th scope=row>2</th><td>3</td><td>161</td><td>alfa-romero</td><td>gas</td><td>std</td><td>two </td><td>convertible</td><td>rwd</td><td>front</td><td>88.6</td><td>⋯</td><td>130</td><td>mpfi</td><td>3.47</td><td>2.68</td><td> 9</td><td>111</td><td>5000</td><td>21</td><td>27</td><td>16500</td></tr>\n",
       "\t<tr><th scope=row>3</th><td>1</td><td>161</td><td>alfa-romero</td><td>gas</td><td>std</td><td>two </td><td>hatchback  </td><td>rwd</td><td>front</td><td>94.5</td><td>⋯</td><td>152</td><td>mpfi</td><td>2.68</td><td>3.47</td><td> 9</td><td>154</td><td>5000</td><td>19</td><td>26</td><td>16500</td></tr>\n",
       "\t<tr><th scope=row>4</th><td>2</td><td>164</td><td>audi       </td><td>gas</td><td>std</td><td>four</td><td>sedan      </td><td>fwd</td><td>front</td><td>99.8</td><td>⋯</td><td>109</td><td>mpfi</td><td>3.19</td><td>3.40</td><td>10</td><td>102</td><td>5500</td><td>24</td><td>30</td><td>13950</td></tr>\n",
       "\t<tr><th scope=row>5</th><td>2</td><td>164</td><td>audi       </td><td>gas</td><td>std</td><td>four</td><td>sedan      </td><td>4wd</td><td>front</td><td>99.4</td><td>⋯</td><td>136</td><td>mpfi</td><td>3.19</td><td>3.40</td><td> 8</td><td>115</td><td>5500</td><td>18</td><td>22</td><td>17450</td></tr>\n",
       "</tbody>\n",
       "</table>\n"
      ],
      "text/latex": [
       "A tibble: 5 × 26\n",
       "\\begin{tabular}{r|lllllllllllllllllllll}\n",
       "  & symb & normLoss & make & fuelType & aspiration & nDoors & bodyStyle & driveWheels & engineLocation & wheelBase & ⋯ & engineSize & fuelSystem & bore & stroke & compressionRatio & horsePower & peakRpm & cityMpg & highwayMpg & price\\\\\n",
       "  & <int> & <int> & <fct> & <fct> & <fct> & <fct> & <fct> & <fct> & <fct> & <dbl> & ⋯ & <int> & <fct> & <dbl> & <dbl> & <dbl> & <int> & <int> & <int> & <int> & <int>\\\\\n",
       "\\hline\n",
       "\t1 & 3 & 161 & alfa-romero & gas & std & two  & convertible & rwd & front & 88.6 & ⋯ & 130 & mpfi & 3.47 & 2.68 &  9 & 111 & 5000 & 21 & 27 & 13495\\\\\n",
       "\t2 & 3 & 161 & alfa-romero & gas & std & two  & convertible & rwd & front & 88.6 & ⋯ & 130 & mpfi & 3.47 & 2.68 &  9 & 111 & 5000 & 21 & 27 & 16500\\\\\n",
       "\t3 & 1 & 161 & alfa-romero & gas & std & two  & hatchback   & rwd & front & 94.5 & ⋯ & 152 & mpfi & 2.68 & 3.47 &  9 & 154 & 5000 & 19 & 26 & 16500\\\\\n",
       "\t4 & 2 & 164 & audi        & gas & std & four & sedan       & fwd & front & 99.8 & ⋯ & 109 & mpfi & 3.19 & 3.40 & 10 & 102 & 5500 & 24 & 30 & 13950\\\\\n",
       "\t5 & 2 & 164 & audi        & gas & std & four & sedan       & 4wd & front & 99.4 & ⋯ & 136 & mpfi & 3.19 & 3.40 &  8 & 115 & 5500 & 18 & 22 & 17450\\\\\n",
       "\\end{tabular}\n"
      ],
      "text/markdown": [
       "\n",
       "A tibble: 5 × 26\n",
       "\n",
       "| <!--/--> | symb &lt;int&gt; | normLoss &lt;int&gt; | make &lt;fct&gt; | fuelType &lt;fct&gt; | aspiration &lt;fct&gt; | nDoors &lt;fct&gt; | bodyStyle &lt;fct&gt; | driveWheels &lt;fct&gt; | engineLocation &lt;fct&gt; | wheelBase &lt;dbl&gt; | ⋯ ⋯ | engineSize &lt;int&gt; | fuelSystem &lt;fct&gt; | bore &lt;dbl&gt; | stroke &lt;dbl&gt; | compressionRatio &lt;dbl&gt; | horsePower &lt;int&gt; | peakRpm &lt;int&gt; | cityMpg &lt;int&gt; | highwayMpg &lt;int&gt; | price &lt;int&gt; |\n",
       "|---|---|---|---|---|---|---|---|---|---|---|---|---|---|---|---|---|---|---|---|---|---|\n",
       "| 1 | 3 | 161 | alfa-romero | gas | std | two  | convertible | rwd | front | 88.6 | ⋯ | 130 | mpfi | 3.47 | 2.68 |  9 | 111 | 5000 | 21 | 27 | 13495 |\n",
       "| 2 | 3 | 161 | alfa-romero | gas | std | two  | convertible | rwd | front | 88.6 | ⋯ | 130 | mpfi | 3.47 | 2.68 |  9 | 111 | 5000 | 21 | 27 | 16500 |\n",
       "| 3 | 1 | 161 | alfa-romero | gas | std | two  | hatchback   | rwd | front | 94.5 | ⋯ | 152 | mpfi | 2.68 | 3.47 |  9 | 154 | 5000 | 19 | 26 | 16500 |\n",
       "| 4 | 2 | 164 | audi        | gas | std | four | sedan       | fwd | front | 99.8 | ⋯ | 109 | mpfi | 3.19 | 3.40 | 10 | 102 | 5500 | 24 | 30 | 13950 |\n",
       "| 5 | 2 | 164 | audi        | gas | std | four | sedan       | 4wd | front | 99.4 | ⋯ | 136 | mpfi | 3.19 | 3.40 |  8 | 115 | 5500 | 18 | 22 | 17450 |\n",
       "\n"
      ],
      "text/plain": [
       "  symb normLoss make        fuelType aspiration nDoors bodyStyle   driveWheels\n",
       "1 3    161      alfa-romero gas      std        two    convertible rwd        \n",
       "2 3    161      alfa-romero gas      std        two    convertible rwd        \n",
       "3 1    161      alfa-romero gas      std        two    hatchback   rwd        \n",
       "4 2    164      audi        gas      std        four   sedan       fwd        \n",
       "5 2    164      audi        gas      std        four   sedan       4wd        \n",
       "  engineLocation wheelBase ⋯ engineSize fuelSystem bore stroke compressionRatio\n",
       "1 front          88.6      ⋯ 130        mpfi       3.47 2.68    9              \n",
       "2 front          88.6      ⋯ 130        mpfi       3.47 2.68    9              \n",
       "3 front          94.5      ⋯ 152        mpfi       2.68 3.47    9              \n",
       "4 front          99.8      ⋯ 109        mpfi       3.19 3.40   10              \n",
       "5 front          99.4      ⋯ 136        mpfi       3.19 3.40    8              \n",
       "  horsePower peakRpm cityMpg highwayMpg price\n",
       "1 111        5000    21      27         13495\n",
       "2 111        5000    21      27         16500\n",
       "3 154        5000    19      26         16500\n",
       "4 102        5500    24      30         13950\n",
       "5 115        5500    18      22         17450"
      ]
     },
     "metadata": {},
     "output_type": "display_data"
    }
   ],
   "source": [
    "#Load the data set\n",
    "load(\"C:/Users/Paola/Documents/GitHub/hands-on-2023A/data/03_dataexploration/carIns_final.Rdata\")\n",
    "\n",
    "head(carIns_final,5)"
   ]
  },
  {
   "cell_type": "markdown",
   "id": "5f5047b0-d1fd-4e74-bcdd-b58b0c9e9b72",
   "metadata": {},
   "source": [
    "### 1. Using the package dplyr, answer the following questions:"
   ]
  },
  {
   "cell_type": "code",
   "execution_count": 7,
   "id": "5dfedbd8-3c56-46d0-bd16-a5505c6a68c2",
   "metadata": {},
   "outputs": [
    {
     "name": "stderr",
     "output_type": "stream",
     "text": [
      "\n",
      "Attaching package: 'dplyr'\n",
      "\n",
      "\n",
      "The following objects are masked from 'package:stats':\n",
      "\n",
      "    filter, lag\n",
      "\n",
      "\n",
      "The following objects are masked from 'package:base':\n",
      "\n",
      "    intersect, setdiff, setequal, union\n",
      "\n",
      "\n"
     ]
    }
   ],
   "source": [
    "#Load packages\n",
    "library(dplyr)"
   ]
  },
  {
   "cell_type": "markdown",
   "id": "adea3cf7-28a3-4897-b58a-2905e978c66b",
   "metadata": {},
   "source": [
    "#### (a) Obtain the number of cars by bodyStyle."
   ]
  },
  {
   "cell_type": "code",
   "execution_count": 8,
   "id": "5eb0661f-2cd9-4e7e-854b-5d461f73beeb",
   "metadata": {},
   "outputs": [
    {
     "data": {
      "text/html": [
       "<table class=\"dataframe\">\n",
       "<caption>A grouped_df: 5 × 2</caption>\n",
       "<thead>\n",
       "\t<tr><th scope=col>bodyStyle</th><th scope=col>n</th></tr>\n",
       "\t<tr><th scope=col>&lt;fct&gt;</th><th scope=col>&lt;int&gt;</th></tr>\n",
       "</thead>\n",
       "<tbody>\n",
       "\t<tr><td>convertible</td><td> 6</td></tr>\n",
       "\t<tr><td>hardtop    </td><td> 8</td></tr>\n",
       "\t<tr><td>hatchback  </td><td>70</td></tr>\n",
       "\t<tr><td>sedan      </td><td>96</td></tr>\n",
       "\t<tr><td>wagon      </td><td>25</td></tr>\n",
       "</tbody>\n",
       "</table>\n"
      ],
      "text/latex": [
       "A grouped\\_df: 5 × 2\n",
       "\\begin{tabular}{ll}\n",
       " bodyStyle & n\\\\\n",
       " <fct> & <int>\\\\\n",
       "\\hline\n",
       "\t convertible &  6\\\\\n",
       "\t hardtop     &  8\\\\\n",
       "\t hatchback   & 70\\\\\n",
       "\t sedan       & 96\\\\\n",
       "\t wagon       & 25\\\\\n",
       "\\end{tabular}\n"
      ],
      "text/markdown": [
       "\n",
       "A grouped_df: 5 × 2\n",
       "\n",
       "| bodyStyle &lt;fct&gt; | n &lt;int&gt; |\n",
       "|---|---|\n",
       "| convertible |  6 |\n",
       "| hardtop     |  8 |\n",
       "| hatchback   | 70 |\n",
       "| sedan       | 96 |\n",
       "| wagon       | 25 |\n",
       "\n"
      ],
      "text/plain": [
       "  bodyStyle   n \n",
       "1 convertible  6\n",
       "2 hardtop      8\n",
       "3 hatchback   70\n",
       "4 sedan       96\n",
       "5 wagon       25"
      ]
     },
     "metadata": {},
     "output_type": "display_data"
    }
   ],
   "source": [
    "carIns_final %>% group_by(bodyStyle) %>% count()"
   ]
  },
  {
   "cell_type": "markdown",
   "id": "c0ccab54-df27-46d5-8042-5c27f86ab651",
   "metadata": {},
   "source": [
    "#### (b) Obtain the number of cars by bodyStyle and fuelType."
   ]
  },
  {
   "cell_type": "code",
   "execution_count": 9,
   "id": "21013fd7-2a5e-4501-a1da-2dae28958981",
   "metadata": {},
   "outputs": [
    {
     "data": {
      "text/html": [
       "<table class=\"dataframe\">\n",
       "<caption>A grouped_df: 5 × 2</caption>\n",
       "<thead>\n",
       "\t<tr><th scope=col>bodyStyle</th><th scope=col>n</th></tr>\n",
       "\t<tr><th scope=col>&lt;fct&gt;</th><th scope=col>&lt;int&gt;</th></tr>\n",
       "</thead>\n",
       "<tbody>\n",
       "\t<tr><td>convertible</td><td> 6</td></tr>\n",
       "\t<tr><td>hardtop    </td><td> 8</td></tr>\n",
       "\t<tr><td>hatchback  </td><td>70</td></tr>\n",
       "\t<tr><td>sedan      </td><td>96</td></tr>\n",
       "\t<tr><td>wagon      </td><td>25</td></tr>\n",
       "</tbody>\n",
       "</table>\n"
      ],
      "text/latex": [
       "A grouped\\_df: 5 × 2\n",
       "\\begin{tabular}{ll}\n",
       " bodyStyle & n\\\\\n",
       " <fct> & <int>\\\\\n",
       "\\hline\n",
       "\t convertible &  6\\\\\n",
       "\t hardtop     &  8\\\\\n",
       "\t hatchback   & 70\\\\\n",
       "\t sedan       & 96\\\\\n",
       "\t wagon       & 25\\\\\n",
       "\\end{tabular}\n"
      ],
      "text/markdown": [
       "\n",
       "A grouped_df: 5 × 2\n",
       "\n",
       "| bodyStyle &lt;fct&gt; | n &lt;int&gt; |\n",
       "|---|---|\n",
       "| convertible |  6 |\n",
       "| hardtop     |  8 |\n",
       "| hatchback   | 70 |\n",
       "| sedan       | 96 |\n",
       "| wagon       | 25 |\n",
       "\n"
      ],
      "text/plain": [
       "  bodyStyle   n \n",
       "1 convertible  6\n",
       "2 hardtop      8\n",
       "3 hatchback   70\n",
       "4 sedan       96\n",
       "5 wagon       25"
      ]
     },
     "metadata": {},
     "output_type": "display_data"
    }
   ],
   "source": [
    "df %>% group_by(bodyStyle) %>% count()"
   ]
  },
  {
   "cell_type": "markdown",
   "id": "c5f5b6a0-52eb-4f58-a996-19b6cf82635f",
   "metadata": {},
   "source": [
    "#### (c) Obtain the mean and the standard deviation of the attribute cityMpg by bodyStyle in ascending order."
   ]
  },
  {
   "cell_type": "code",
   "execution_count": 10,
   "id": "dfe2806c-c75e-40e0-944f-0e3bb7d8bfc9",
   "metadata": {},
   "outputs": [
    {
     "data": {
      "text/html": [
       "<table class=\"dataframe\">\n",
       "<caption>A grouped_df: 64 × 3</caption>\n",
       "<thead>\n",
       "\t<tr><th scope=col>bodyStyle</th><th scope=col>cityMpg</th><th scope=col>n</th></tr>\n",
       "\t<tr><th scope=col>&lt;fct&gt;</th><th scope=col>&lt;int&gt;</th><th scope=col>&lt;int&gt;</th></tr>\n",
       "</thead>\n",
       "<tbody>\n",
       "\t<tr><td>convertible</td><td>16</td><td> 1</td></tr>\n",
       "\t<tr><td>convertible</td><td>17</td><td> 1</td></tr>\n",
       "\t<tr><td>convertible</td><td>21</td><td> 2</td></tr>\n",
       "\t<tr><td>convertible</td><td>24</td><td> 2</td></tr>\n",
       "\t<tr><td>hardtop    </td><td>14</td><td> 1</td></tr>\n",
       "\t<tr><td>hardtop    </td><td>17</td><td> 2</td></tr>\n",
       "\t<tr><td>hardtop    </td><td>22</td><td> 1</td></tr>\n",
       "\t<tr><td>hardtop    </td><td>24</td><td> 3</td></tr>\n",
       "\t<tr><td>hardtop    </td><td>31</td><td> 1</td></tr>\n",
       "\t<tr><td>hatchback  </td><td>16</td><td> 2</td></tr>\n",
       "\t<tr><td>hatchback  </td><td>17</td><td> 5</td></tr>\n",
       "\t<tr><td>hatchback  </td><td>19</td><td>12</td></tr>\n",
       "\t<tr><td>hatchback  </td><td>20</td><td> 1</td></tr>\n",
       "\t<tr><td>hatchback  </td><td>21</td><td> 2</td></tr>\n",
       "\t<tr><td>hatchback  </td><td>23</td><td> 2</td></tr>\n",
       "\t<tr><td>hatchback  </td><td>24</td><td> 7</td></tr>\n",
       "\t<tr><td>hatchback  </td><td>25</td><td> 1</td></tr>\n",
       "\t<tr><td>hatchback  </td><td>26</td><td> 6</td></tr>\n",
       "\t<tr><td>hatchback  </td><td>27</td><td> 5</td></tr>\n",
       "\t<tr><td>hatchback  </td><td>28</td><td> 1</td></tr>\n",
       "\t<tr><td>hatchback  </td><td>29</td><td> 1</td></tr>\n",
       "\t<tr><td>hatchback  </td><td>30</td><td> 4</td></tr>\n",
       "\t<tr><td>hatchback  </td><td>31</td><td>12</td></tr>\n",
       "\t<tr><td>hatchback  </td><td>35</td><td> 1</td></tr>\n",
       "\t<tr><td>hatchback  </td><td>37</td><td> 3</td></tr>\n",
       "\t<tr><td>hatchback  </td><td>38</td><td> 3</td></tr>\n",
       "\t<tr><td>hatchback  </td><td>47</td><td> 1</td></tr>\n",
       "\t<tr><td>hatchback  </td><td>49</td><td> 1</td></tr>\n",
       "\t<tr><td>sedan      </td><td>13</td><td> 1</td></tr>\n",
       "\t<tr><td>sedan      </td><td>14</td><td> 1</td></tr>\n",
       "\t<tr><td>⋮</td><td>⋮</td><td>⋮</td></tr>\n",
       "\t<tr><td>sedan</td><td>19</td><td>11</td></tr>\n",
       "\t<tr><td>sedan</td><td>20</td><td> 2</td></tr>\n",
       "\t<tr><td>sedan</td><td>21</td><td> 4</td></tr>\n",
       "\t<tr><td>sedan</td><td>22</td><td> 2</td></tr>\n",
       "\t<tr><td>sedan</td><td>23</td><td> 6</td></tr>\n",
       "\t<tr><td>sedan</td><td>24</td><td> 7</td></tr>\n",
       "\t<tr><td>sedan</td><td>25</td><td> 3</td></tr>\n",
       "\t<tr><td>sedan</td><td>26</td><td> 6</td></tr>\n",
       "\t<tr><td>sedan</td><td>27</td><td> 7</td></tr>\n",
       "\t<tr><td>sedan</td><td>28</td><td> 5</td></tr>\n",
       "\t<tr><td>sedan</td><td>29</td><td> 2</td></tr>\n",
       "\t<tr><td>sedan</td><td>30</td><td> 3</td></tr>\n",
       "\t<tr><td>sedan</td><td>31</td><td>12</td></tr>\n",
       "\t<tr><td>sedan</td><td>32</td><td> 1</td></tr>\n",
       "\t<tr><td>sedan</td><td>33</td><td> 1</td></tr>\n",
       "\t<tr><td>sedan</td><td>34</td><td> 1</td></tr>\n",
       "\t<tr><td>sedan</td><td>36</td><td> 1</td></tr>\n",
       "\t<tr><td>sedan</td><td>37</td><td> 3</td></tr>\n",
       "\t<tr><td>sedan</td><td>38</td><td> 4</td></tr>\n",
       "\t<tr><td>sedan</td><td>45</td><td> 1</td></tr>\n",
       "\t<tr><td>wagon</td><td>17</td><td> 2</td></tr>\n",
       "\t<tr><td>wagon</td><td>19</td><td> 4</td></tr>\n",
       "\t<tr><td>wagon</td><td>22</td><td> 1</td></tr>\n",
       "\t<tr><td>wagon</td><td>23</td><td> 4</td></tr>\n",
       "\t<tr><td>wagon</td><td>24</td><td> 3</td></tr>\n",
       "\t<tr><td>wagon</td><td>25</td><td> 4</td></tr>\n",
       "\t<tr><td>wagon</td><td>27</td><td> 2</td></tr>\n",
       "\t<tr><td>wagon</td><td>28</td><td> 1</td></tr>\n",
       "\t<tr><td>wagon</td><td>30</td><td> 1</td></tr>\n",
       "\t<tr><td>wagon</td><td>31</td><td> 3</td></tr>\n",
       "</tbody>\n",
       "</table>\n"
      ],
      "text/latex": [
       "A grouped\\_df: 64 × 3\n",
       "\\begin{tabular}{lll}\n",
       " bodyStyle & cityMpg & n\\\\\n",
       " <fct> & <int> & <int>\\\\\n",
       "\\hline\n",
       "\t convertible & 16 &  1\\\\\n",
       "\t convertible & 17 &  1\\\\\n",
       "\t convertible & 21 &  2\\\\\n",
       "\t convertible & 24 &  2\\\\\n",
       "\t hardtop     & 14 &  1\\\\\n",
       "\t hardtop     & 17 &  2\\\\\n",
       "\t hardtop     & 22 &  1\\\\\n",
       "\t hardtop     & 24 &  3\\\\\n",
       "\t hardtop     & 31 &  1\\\\\n",
       "\t hatchback   & 16 &  2\\\\\n",
       "\t hatchback   & 17 &  5\\\\\n",
       "\t hatchback   & 19 & 12\\\\\n",
       "\t hatchback   & 20 &  1\\\\\n",
       "\t hatchback   & 21 &  2\\\\\n",
       "\t hatchback   & 23 &  2\\\\\n",
       "\t hatchback   & 24 &  7\\\\\n",
       "\t hatchback   & 25 &  1\\\\\n",
       "\t hatchback   & 26 &  6\\\\\n",
       "\t hatchback   & 27 &  5\\\\\n",
       "\t hatchback   & 28 &  1\\\\\n",
       "\t hatchback   & 29 &  1\\\\\n",
       "\t hatchback   & 30 &  4\\\\\n",
       "\t hatchback   & 31 & 12\\\\\n",
       "\t hatchback   & 35 &  1\\\\\n",
       "\t hatchback   & 37 &  3\\\\\n",
       "\t hatchback   & 38 &  3\\\\\n",
       "\t hatchback   & 47 &  1\\\\\n",
       "\t hatchback   & 49 &  1\\\\\n",
       "\t sedan       & 13 &  1\\\\\n",
       "\t sedan       & 14 &  1\\\\\n",
       "\t ⋮ & ⋮ & ⋮\\\\\n",
       "\t sedan & 19 & 11\\\\\n",
       "\t sedan & 20 &  2\\\\\n",
       "\t sedan & 21 &  4\\\\\n",
       "\t sedan & 22 &  2\\\\\n",
       "\t sedan & 23 &  6\\\\\n",
       "\t sedan & 24 &  7\\\\\n",
       "\t sedan & 25 &  3\\\\\n",
       "\t sedan & 26 &  6\\\\\n",
       "\t sedan & 27 &  7\\\\\n",
       "\t sedan & 28 &  5\\\\\n",
       "\t sedan & 29 &  2\\\\\n",
       "\t sedan & 30 &  3\\\\\n",
       "\t sedan & 31 & 12\\\\\n",
       "\t sedan & 32 &  1\\\\\n",
       "\t sedan & 33 &  1\\\\\n",
       "\t sedan & 34 &  1\\\\\n",
       "\t sedan & 36 &  1\\\\\n",
       "\t sedan & 37 &  3\\\\\n",
       "\t sedan & 38 &  4\\\\\n",
       "\t sedan & 45 &  1\\\\\n",
       "\t wagon & 17 &  2\\\\\n",
       "\t wagon & 19 &  4\\\\\n",
       "\t wagon & 22 &  1\\\\\n",
       "\t wagon & 23 &  4\\\\\n",
       "\t wagon & 24 &  3\\\\\n",
       "\t wagon & 25 &  4\\\\\n",
       "\t wagon & 27 &  2\\\\\n",
       "\t wagon & 28 &  1\\\\\n",
       "\t wagon & 30 &  1\\\\\n",
       "\t wagon & 31 &  3\\\\\n",
       "\\end{tabular}\n"
      ],
      "text/markdown": [
       "\n",
       "A grouped_df: 64 × 3\n",
       "\n",
       "| bodyStyle &lt;fct&gt; | cityMpg &lt;int&gt; | n &lt;int&gt; |\n",
       "|---|---|---|\n",
       "| convertible | 16 |  1 |\n",
       "| convertible | 17 |  1 |\n",
       "| convertible | 21 |  2 |\n",
       "| convertible | 24 |  2 |\n",
       "| hardtop     | 14 |  1 |\n",
       "| hardtop     | 17 |  2 |\n",
       "| hardtop     | 22 |  1 |\n",
       "| hardtop     | 24 |  3 |\n",
       "| hardtop     | 31 |  1 |\n",
       "| hatchback   | 16 |  2 |\n",
       "| hatchback   | 17 |  5 |\n",
       "| hatchback   | 19 | 12 |\n",
       "| hatchback   | 20 |  1 |\n",
       "| hatchback   | 21 |  2 |\n",
       "| hatchback   | 23 |  2 |\n",
       "| hatchback   | 24 |  7 |\n",
       "| hatchback   | 25 |  1 |\n",
       "| hatchback   | 26 |  6 |\n",
       "| hatchback   | 27 |  5 |\n",
       "| hatchback   | 28 |  1 |\n",
       "| hatchback   | 29 |  1 |\n",
       "| hatchback   | 30 |  4 |\n",
       "| hatchback   | 31 | 12 |\n",
       "| hatchback   | 35 |  1 |\n",
       "| hatchback   | 37 |  3 |\n",
       "| hatchback   | 38 |  3 |\n",
       "| hatchback   | 47 |  1 |\n",
       "| hatchback   | 49 |  1 |\n",
       "| sedan       | 13 |  1 |\n",
       "| sedan       | 14 |  1 |\n",
       "| ⋮ | ⋮ | ⋮ |\n",
       "| sedan | 19 | 11 |\n",
       "| sedan | 20 |  2 |\n",
       "| sedan | 21 |  4 |\n",
       "| sedan | 22 |  2 |\n",
       "| sedan | 23 |  6 |\n",
       "| sedan | 24 |  7 |\n",
       "| sedan | 25 |  3 |\n",
       "| sedan | 26 |  6 |\n",
       "| sedan | 27 |  7 |\n",
       "| sedan | 28 |  5 |\n",
       "| sedan | 29 |  2 |\n",
       "| sedan | 30 |  3 |\n",
       "| sedan | 31 | 12 |\n",
       "| sedan | 32 |  1 |\n",
       "| sedan | 33 |  1 |\n",
       "| sedan | 34 |  1 |\n",
       "| sedan | 36 |  1 |\n",
       "| sedan | 37 |  3 |\n",
       "| sedan | 38 |  4 |\n",
       "| sedan | 45 |  1 |\n",
       "| wagon | 17 |  2 |\n",
       "| wagon | 19 |  4 |\n",
       "| wagon | 22 |  1 |\n",
       "| wagon | 23 |  4 |\n",
       "| wagon | 24 |  3 |\n",
       "| wagon | 25 |  4 |\n",
       "| wagon | 27 |  2 |\n",
       "| wagon | 28 |  1 |\n",
       "| wagon | 30 |  1 |\n",
       "| wagon | 31 |  3 |\n",
       "\n"
      ],
      "text/plain": [
       "   bodyStyle   cityMpg n \n",
       "1  convertible 16       1\n",
       "2  convertible 17       1\n",
       "3  convertible 21       2\n",
       "4  convertible 24       2\n",
       "5  hardtop     14       1\n",
       "6  hardtop     17       2\n",
       "7  hardtop     22       1\n",
       "8  hardtop     24       3\n",
       "9  hardtop     31       1\n",
       "10 hatchback   16       2\n",
       "11 hatchback   17       5\n",
       "12 hatchback   19      12\n",
       "13 hatchback   20       1\n",
       "14 hatchback   21       2\n",
       "15 hatchback   23       2\n",
       "16 hatchback   24       7\n",
       "17 hatchback   25       1\n",
       "18 hatchback   26       6\n",
       "19 hatchback   27       5\n",
       "20 hatchback   28       1\n",
       "21 hatchback   29       1\n",
       "22 hatchback   30       4\n",
       "23 hatchback   31      12\n",
       "24 hatchback   35       1\n",
       "25 hatchback   37       3\n",
       "26 hatchback   38       3\n",
       "27 hatchback   47       1\n",
       "28 hatchback   49       1\n",
       "29 sedan       13       1\n",
       "30 sedan       14       1\n",
       "⋮  ⋮           ⋮       ⋮ \n",
       "35 sedan       19      11\n",
       "36 sedan       20       2\n",
       "37 sedan       21       4\n",
       "38 sedan       22       2\n",
       "39 sedan       23       6\n",
       "40 sedan       24       7\n",
       "41 sedan       25       3\n",
       "42 sedan       26       6\n",
       "43 sedan       27       7\n",
       "44 sedan       28       5\n",
       "45 sedan       29       2\n",
       "46 sedan       30       3\n",
       "47 sedan       31      12\n",
       "48 sedan       32       1\n",
       "49 sedan       33       1\n",
       "50 sedan       34       1\n",
       "51 sedan       36       1\n",
       "52 sedan       37       3\n",
       "53 sedan       38       4\n",
       "54 sedan       45       1\n",
       "55 wagon       17       2\n",
       "56 wagon       19       4\n",
       "57 wagon       22       1\n",
       "58 wagon       23       4\n",
       "59 wagon       24       3\n",
       "60 wagon       25       4\n",
       "61 wagon       27       2\n",
       "62 wagon       28       1\n",
       "63 wagon       30       1\n",
       "64 wagon       31       3"
      ]
     },
     "metadata": {},
     "output_type": "display_data"
    }
   ],
   "source": [
    "df %>% group_by(bodyStyle, cityMpg) %>% count"
   ]
  },
  {
   "cell_type": "markdown",
   "id": "3b560eb5-bcc8-4afa-b907-0bb6a92fe4a6",
   "metadata": {},
   "source": [
    "#### (d) Also by bodyStyle, and for the attributes cityMpg and highwayMpg, obtain the mean, the standard deviation, the median and the inter-quartile range."
   ]
  },
  {
   "cell_type": "code",
   "execution_count": 11,
   "id": "ca19a16c-1bc8-4a60-bd89-6710d205c548",
   "metadata": {},
   "outputs": [
    {
     "data": {
      "text/html": [
       "<table class=\"dataframe\">\n",
       "<caption>A tibble: 5 × 2</caption>\n",
       "<thead>\n",
       "\t<tr><th scope=col>bodyStyle</th><th scope=col>cityMpg.mean</th></tr>\n",
       "\t<tr><th scope=col>&lt;fct&gt;</th><th scope=col>&lt;dbl&gt;</th></tr>\n",
       "</thead>\n",
       "<tbody>\n",
       "\t<tr><td>convertible</td><td>20.50000</td></tr>\n",
       "\t<tr><td>hardtop    </td><td>21.62500</td></tr>\n",
       "\t<tr><td>hatchback  </td><td>26.31429</td></tr>\n",
       "\t<tr><td>sedan      </td><td>25.32292</td></tr>\n",
       "\t<tr><td>wagon      </td><td>24.04000</td></tr>\n",
       "</tbody>\n",
       "</table>\n"
      ],
      "text/latex": [
       "A tibble: 5 × 2\n",
       "\\begin{tabular}{ll}\n",
       " bodyStyle & cityMpg.mean\\\\\n",
       " <fct> & <dbl>\\\\\n",
       "\\hline\n",
       "\t convertible & 20.50000\\\\\n",
       "\t hardtop     & 21.62500\\\\\n",
       "\t hatchback   & 26.31429\\\\\n",
       "\t sedan       & 25.32292\\\\\n",
       "\t wagon       & 24.04000\\\\\n",
       "\\end{tabular}\n"
      ],
      "text/markdown": [
       "\n",
       "A tibble: 5 × 2\n",
       "\n",
       "| bodyStyle &lt;fct&gt; | cityMpg.mean &lt;dbl&gt; |\n",
       "|---|---|\n",
       "| convertible | 20.50000 |\n",
       "| hardtop     | 21.62500 |\n",
       "| hatchback   | 26.31429 |\n",
       "| sedan       | 25.32292 |\n",
       "| wagon       | 24.04000 |\n",
       "\n"
      ],
      "text/plain": [
       "  bodyStyle   cityMpg.mean\n",
       "1 convertible 20.50000    \n",
       "2 hardtop     21.62500    \n",
       "3 hatchback   26.31429    \n",
       "4 sedan       25.32292    \n",
       "5 wagon       24.04000    "
      ]
     },
     "metadata": {},
     "output_type": "display_data"
    }
   ],
   "source": [
    "carIns_final %>% group_by(bodyStyle) %>% summarize (cityMpg.mean=mean(cityMpg))"
   ]
  },
  {
   "cell_type": "code",
   "execution_count": 12,
   "id": "19b2f069-0b97-4758-8452-a48d24c16390",
   "metadata": {},
   "outputs": [
    {
     "data": {
      "text/html": [
       "<table class=\"dataframe\">\n",
       "<caption>A tibble: 5 × 2</caption>\n",
       "<thead>\n",
       "\t<tr><th scope=col>bodyStyle</th><th scope=col>cityMpg.sd</th></tr>\n",
       "\t<tr><th scope=col>&lt;fct&gt;</th><th scope=col>&lt;dbl&gt;</th></tr>\n",
       "</thead>\n",
       "<tbody>\n",
       "\t<tr><td>convertible</td><td>3.391165</td></tr>\n",
       "\t<tr><td>hardtop    </td><td>5.423165</td></tr>\n",
       "\t<tr><td>hatchback  </td><td>7.169870</td></tr>\n",
       "\t<tr><td>sedan      </td><td>6.599035</td></tr>\n",
       "\t<tr><td>wagon      </td><td>4.217819</td></tr>\n",
       "</tbody>\n",
       "</table>\n"
      ],
      "text/latex": [
       "A tibble: 5 × 2\n",
       "\\begin{tabular}{ll}\n",
       " bodyStyle & cityMpg.sd\\\\\n",
       " <fct> & <dbl>\\\\\n",
       "\\hline\n",
       "\t convertible & 3.391165\\\\\n",
       "\t hardtop     & 5.423165\\\\\n",
       "\t hatchback   & 7.169870\\\\\n",
       "\t sedan       & 6.599035\\\\\n",
       "\t wagon       & 4.217819\\\\\n",
       "\\end{tabular}\n"
      ],
      "text/markdown": [
       "\n",
       "A tibble: 5 × 2\n",
       "\n",
       "| bodyStyle &lt;fct&gt; | cityMpg.sd &lt;dbl&gt; |\n",
       "|---|---|\n",
       "| convertible | 3.391165 |\n",
       "| hardtop     | 5.423165 |\n",
       "| hatchback   | 7.169870 |\n",
       "| sedan       | 6.599035 |\n",
       "| wagon       | 4.217819 |\n",
       "\n"
      ],
      "text/plain": [
       "  bodyStyle   cityMpg.sd\n",
       "1 convertible 3.391165  \n",
       "2 hardtop     5.423165  \n",
       "3 hatchback   7.169870  \n",
       "4 sedan       6.599035  \n",
       "5 wagon       4.217819  "
      ]
     },
     "metadata": {},
     "output_type": "display_data"
    }
   ],
   "source": [
    "carIns_final %>% group_by(bodyStyle) %>% summarize (cityMpg.sd=sd(cityMpg))"
   ]
  },
  {
   "cell_type": "code",
   "execution_count": 13,
   "id": "21315721-0eda-4c81-a3bc-6c4db3edcbd7",
   "metadata": {},
   "outputs": [
    {
     "data": {
      "text/html": [
       "<table class=\"dataframe\">\n",
       "<caption>A tibble: 5 × 3</caption>\n",
       "<thead>\n",
       "\t<tr><th scope=col>bodyStyle</th><th scope=col>cityMpg.mean</th><th scope=col>cityMpg.sd</th></tr>\n",
       "\t<tr><th scope=col>&lt;fct&gt;</th><th scope=col>&lt;dbl&gt;</th><th scope=col>&lt;dbl&gt;</th></tr>\n",
       "</thead>\n",
       "<tbody>\n",
       "\t<tr><td>convertible</td><td>20.50000</td><td>3.391165</td></tr>\n",
       "\t<tr><td>hardtop    </td><td>21.62500</td><td>5.423165</td></tr>\n",
       "\t<tr><td>hatchback  </td><td>26.31429</td><td>7.169870</td></tr>\n",
       "\t<tr><td>sedan      </td><td>25.32292</td><td>6.599035</td></tr>\n",
       "\t<tr><td>wagon      </td><td>24.04000</td><td>4.217819</td></tr>\n",
       "</tbody>\n",
       "</table>\n"
      ],
      "text/latex": [
       "A tibble: 5 × 3\n",
       "\\begin{tabular}{lll}\n",
       " bodyStyle & cityMpg.mean & cityMpg.sd\\\\\n",
       " <fct> & <dbl> & <dbl>\\\\\n",
       "\\hline\n",
       "\t convertible & 20.50000 & 3.391165\\\\\n",
       "\t hardtop     & 21.62500 & 5.423165\\\\\n",
       "\t hatchback   & 26.31429 & 7.169870\\\\\n",
       "\t sedan       & 25.32292 & 6.599035\\\\\n",
       "\t wagon       & 24.04000 & 4.217819\\\\\n",
       "\\end{tabular}\n"
      ],
      "text/markdown": [
       "\n",
       "A tibble: 5 × 3\n",
       "\n",
       "| bodyStyle &lt;fct&gt; | cityMpg.mean &lt;dbl&gt; | cityMpg.sd &lt;dbl&gt; |\n",
       "|---|---|---|\n",
       "| convertible | 20.50000 | 3.391165 |\n",
       "| hardtop     | 21.62500 | 5.423165 |\n",
       "| hatchback   | 26.31429 | 7.169870 |\n",
       "| sedan       | 25.32292 | 6.599035 |\n",
       "| wagon       | 24.04000 | 4.217819 |\n",
       "\n"
      ],
      "text/plain": [
       "  bodyStyle   cityMpg.mean cityMpg.sd\n",
       "1 convertible 20.50000     3.391165  \n",
       "2 hardtop     21.62500     5.423165  \n",
       "3 hatchback   26.31429     7.169870  \n",
       "4 sedan       25.32292     6.599035  \n",
       "5 wagon       24.04000     4.217819  "
      ]
     },
     "metadata": {},
     "output_type": "display_data"
    }
   ],
   "source": [
    "carIns_final %>% group_by(bodyStyle) %>% summarize (cityMpg.mean=mean(cityMpg), cityMpg.sd=sd(cityMpg))"
   ]
  },
  {
   "cell_type": "code",
   "execution_count": null,
   "id": "98bfea85-44bb-4975-953b-25a332c66487",
   "metadata": {},
   "outputs": [],
   "source": []
  }
 ],
 "metadata": {
  "kernelspec": {
   "display_name": "R",
   "language": "R",
   "name": "ir"
  },
  "language_info": {
   "codemirror_mode": "r",
   "file_extension": ".r",
   "mimetype": "text/x-r-source",
   "name": "R",
   "pygments_lexer": "r",
   "version": "4.3.0"
  }
 },
 "nbformat": 4,
 "nbformat_minor": 5
}
