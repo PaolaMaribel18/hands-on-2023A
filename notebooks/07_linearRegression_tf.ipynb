{
  "nbformat": 4,
  "nbformat_minor": 0,
  "metadata": {
    "colab": {
      "provenance": [],
      "cell_execution_strategy": "setup",
      "authorship_tag": "ABX9TyMuiz3pM0n8QF4BX6VD+T2/",
      "include_colab_link": true
    },
    "kernelspec": {
      "name": "python3",
      "display_name": "Python 3"
    },
    "language_info": {
      "name": "python"
    },
    "accelerator": "TPU"
  },
  "cells": [
    {
      "cell_type": "markdown",
      "metadata": {
        "id": "view-in-github",
        "colab_type": "text"
      },
      "source": [
        "<a href=\"https://colab.research.google.com/github/PaolaMaribel18/hands-on-2023A/blob/master/notebooks/07_linearRegression_tf.ipynb\" target=\"_parent\"><img src=\"https://colab.research.google.com/assets/colab-badge.svg\" alt=\"Open In Colab\"/></a>"
      ]
    },
    {
      "cell_type": "markdown",
      "source": [
        "#7 Linear Regression with TensorFlow using the California Housing Dataset\n",
        "The goal of this exercise is to implement a linear regression model using TensorFlow to predict **house prices** based on the California Housing Dataset. The dataset contains various features such as average income, housing average age, and more. Your task is to build a linear regression model and evaluate its performance."
      ],
      "metadata": {
        "id": "3MsMWjV-Qtjy"
      }
    },
    {
      "cell_type": "markdown",
      "source": [
        "##Import the required libraries:\n",
        "\n"
      ],
      "metadata": {
        "id": "o1iTaYvZQ1m8"
      }
    },
    {
      "cell_type": "code",
      "execution_count": 22,
      "metadata": {
        "id": "5hkm-DwsNYcZ"
      },
      "outputs": [],
      "source": [
        "import pandas as pd\n",
        "import numpy as np\n",
        "from sklearn.datasets import fetch_california_housing\n",
        "from sklearn.model_selection import train_test_split\n",
        "from sklearn.preprocessing import StandardScaler\n",
        "\n",
        "import tensorflow.compat.v1 as tf\n",
        "\n",
        "tf.disable_v2_behavior()"
      ]
    },
    {
      "cell_type": "markdown",
      "source": [
        "##Load the California Housing Dataset\n",
        "\n"
      ],
      "metadata": {
        "id": "oXbwMftUQ5Xu"
      }
    },
    {
      "cell_type": "code",
      "source": [
        "raw = fetch_california_housing()\n",
        "X = pd.DataFrame(data=raw['data'], columns=raw['feature_names'])\n",
        "X"
      ],
      "metadata": {
        "colab": {
          "base_uri": "https://localhost:8080/",
          "height": 424
        },
        "id": "n4OuoC10Q8ET",
        "outputId": "a6565e9b-9504-4c8d-9a9a-3776deafc4a3"
      },
      "execution_count": 2,
      "outputs": [
        {
          "output_type": "execute_result",
          "data": {
            "text/plain": [
              "       MedInc  HouseAge  AveRooms  AveBedrms  Population  AveOccup  Latitude  \\\n",
              "0      8.3252      41.0  6.984127   1.023810       322.0  2.555556     37.88   \n",
              "1      8.3014      21.0  6.238137   0.971880      2401.0  2.109842     37.86   \n",
              "2      7.2574      52.0  8.288136   1.073446       496.0  2.802260     37.85   \n",
              "3      5.6431      52.0  5.817352   1.073059       558.0  2.547945     37.85   \n",
              "4      3.8462      52.0  6.281853   1.081081       565.0  2.181467     37.85   \n",
              "...       ...       ...       ...        ...         ...       ...       ...   \n",
              "20635  1.5603      25.0  5.045455   1.133333       845.0  2.560606     39.48   \n",
              "20636  2.5568      18.0  6.114035   1.315789       356.0  3.122807     39.49   \n",
              "20637  1.7000      17.0  5.205543   1.120092      1007.0  2.325635     39.43   \n",
              "20638  1.8672      18.0  5.329513   1.171920       741.0  2.123209     39.43   \n",
              "20639  2.3886      16.0  5.254717   1.162264      1387.0  2.616981     39.37   \n",
              "\n",
              "       Longitude  \n",
              "0        -122.23  \n",
              "1        -122.22  \n",
              "2        -122.24  \n",
              "3        -122.25  \n",
              "4        -122.25  \n",
              "...          ...  \n",
              "20635    -121.09  \n",
              "20636    -121.21  \n",
              "20637    -121.22  \n",
              "20638    -121.32  \n",
              "20639    -121.24  \n",
              "\n",
              "[20640 rows x 8 columns]"
            ],
            "text/html": [
              "\n",
              "\n",
              "  <div id=\"df-97404283-60af-4150-ab5f-3253b4aba6b3\">\n",
              "    <div class=\"colab-df-container\">\n",
              "      <div>\n",
              "<style scoped>\n",
              "    .dataframe tbody tr th:only-of-type {\n",
              "        vertical-align: middle;\n",
              "    }\n",
              "\n",
              "    .dataframe tbody tr th {\n",
              "        vertical-align: top;\n",
              "    }\n",
              "\n",
              "    .dataframe thead th {\n",
              "        text-align: right;\n",
              "    }\n",
              "</style>\n",
              "<table border=\"1\" class=\"dataframe\">\n",
              "  <thead>\n",
              "    <tr style=\"text-align: right;\">\n",
              "      <th></th>\n",
              "      <th>MedInc</th>\n",
              "      <th>HouseAge</th>\n",
              "      <th>AveRooms</th>\n",
              "      <th>AveBedrms</th>\n",
              "      <th>Population</th>\n",
              "      <th>AveOccup</th>\n",
              "      <th>Latitude</th>\n",
              "      <th>Longitude</th>\n",
              "    </tr>\n",
              "  </thead>\n",
              "  <tbody>\n",
              "    <tr>\n",
              "      <th>0</th>\n",
              "      <td>8.3252</td>\n",
              "      <td>41.0</td>\n",
              "      <td>6.984127</td>\n",
              "      <td>1.023810</td>\n",
              "      <td>322.0</td>\n",
              "      <td>2.555556</td>\n",
              "      <td>37.88</td>\n",
              "      <td>-122.23</td>\n",
              "    </tr>\n",
              "    <tr>\n",
              "      <th>1</th>\n",
              "      <td>8.3014</td>\n",
              "      <td>21.0</td>\n",
              "      <td>6.238137</td>\n",
              "      <td>0.971880</td>\n",
              "      <td>2401.0</td>\n",
              "      <td>2.109842</td>\n",
              "      <td>37.86</td>\n",
              "      <td>-122.22</td>\n",
              "    </tr>\n",
              "    <tr>\n",
              "      <th>2</th>\n",
              "      <td>7.2574</td>\n",
              "      <td>52.0</td>\n",
              "      <td>8.288136</td>\n",
              "      <td>1.073446</td>\n",
              "      <td>496.0</td>\n",
              "      <td>2.802260</td>\n",
              "      <td>37.85</td>\n",
              "      <td>-122.24</td>\n",
              "    </tr>\n",
              "    <tr>\n",
              "      <th>3</th>\n",
              "      <td>5.6431</td>\n",
              "      <td>52.0</td>\n",
              "      <td>5.817352</td>\n",
              "      <td>1.073059</td>\n",
              "      <td>558.0</td>\n",
              "      <td>2.547945</td>\n",
              "      <td>37.85</td>\n",
              "      <td>-122.25</td>\n",
              "    </tr>\n",
              "    <tr>\n",
              "      <th>4</th>\n",
              "      <td>3.8462</td>\n",
              "      <td>52.0</td>\n",
              "      <td>6.281853</td>\n",
              "      <td>1.081081</td>\n",
              "      <td>565.0</td>\n",
              "      <td>2.181467</td>\n",
              "      <td>37.85</td>\n",
              "      <td>-122.25</td>\n",
              "    </tr>\n",
              "    <tr>\n",
              "      <th>...</th>\n",
              "      <td>...</td>\n",
              "      <td>...</td>\n",
              "      <td>...</td>\n",
              "      <td>...</td>\n",
              "      <td>...</td>\n",
              "      <td>...</td>\n",
              "      <td>...</td>\n",
              "      <td>...</td>\n",
              "    </tr>\n",
              "    <tr>\n",
              "      <th>20635</th>\n",
              "      <td>1.5603</td>\n",
              "      <td>25.0</td>\n",
              "      <td>5.045455</td>\n",
              "      <td>1.133333</td>\n",
              "      <td>845.0</td>\n",
              "      <td>2.560606</td>\n",
              "      <td>39.48</td>\n",
              "      <td>-121.09</td>\n",
              "    </tr>\n",
              "    <tr>\n",
              "      <th>20636</th>\n",
              "      <td>2.5568</td>\n",
              "      <td>18.0</td>\n",
              "      <td>6.114035</td>\n",
              "      <td>1.315789</td>\n",
              "      <td>356.0</td>\n",
              "      <td>3.122807</td>\n",
              "      <td>39.49</td>\n",
              "      <td>-121.21</td>\n",
              "    </tr>\n",
              "    <tr>\n",
              "      <th>20637</th>\n",
              "      <td>1.7000</td>\n",
              "      <td>17.0</td>\n",
              "      <td>5.205543</td>\n",
              "      <td>1.120092</td>\n",
              "      <td>1007.0</td>\n",
              "      <td>2.325635</td>\n",
              "      <td>39.43</td>\n",
              "      <td>-121.22</td>\n",
              "    </tr>\n",
              "    <tr>\n",
              "      <th>20638</th>\n",
              "      <td>1.8672</td>\n",
              "      <td>18.0</td>\n",
              "      <td>5.329513</td>\n",
              "      <td>1.171920</td>\n",
              "      <td>741.0</td>\n",
              "      <td>2.123209</td>\n",
              "      <td>39.43</td>\n",
              "      <td>-121.32</td>\n",
              "    </tr>\n",
              "    <tr>\n",
              "      <th>20639</th>\n",
              "      <td>2.3886</td>\n",
              "      <td>16.0</td>\n",
              "      <td>5.254717</td>\n",
              "      <td>1.162264</td>\n",
              "      <td>1387.0</td>\n",
              "      <td>2.616981</td>\n",
              "      <td>39.37</td>\n",
              "      <td>-121.24</td>\n",
              "    </tr>\n",
              "  </tbody>\n",
              "</table>\n",
              "<p>20640 rows × 8 columns</p>\n",
              "</div>\n",
              "      <button class=\"colab-df-convert\" onclick=\"convertToInteractive('df-97404283-60af-4150-ab5f-3253b4aba6b3')\"\n",
              "              title=\"Convert this dataframe to an interactive table.\"\n",
              "              style=\"display:none;\">\n",
              "\n",
              "  <svg xmlns=\"http://www.w3.org/2000/svg\" height=\"24px\"viewBox=\"0 0 24 24\"\n",
              "       width=\"24px\">\n",
              "    <path d=\"M0 0h24v24H0V0z\" fill=\"none\"/>\n",
              "    <path d=\"M18.56 5.44l.94 2.06.94-2.06 2.06-.94-2.06-.94-.94-2.06-.94 2.06-2.06.94zm-11 1L8.5 8.5l.94-2.06 2.06-.94-2.06-.94L8.5 2.5l-.94 2.06-2.06.94zm10 10l.94 2.06.94-2.06 2.06-.94-2.06-.94-.94-2.06-.94 2.06-2.06.94z\"/><path d=\"M17.41 7.96l-1.37-1.37c-.4-.4-.92-.59-1.43-.59-.52 0-1.04.2-1.43.59L10.3 9.45l-7.72 7.72c-.78.78-.78 2.05 0 2.83L4 21.41c.39.39.9.59 1.41.59.51 0 1.02-.2 1.41-.59l7.78-7.78 2.81-2.81c.8-.78.8-2.07 0-2.86zM5.41 20L4 18.59l7.72-7.72 1.47 1.35L5.41 20z\"/>\n",
              "  </svg>\n",
              "      </button>\n",
              "\n",
              "\n",
              "\n",
              "    <div id=\"df-bdeec1f6-4057-43a5-9d22-6cf37f6bda26\">\n",
              "      <button class=\"colab-df-quickchart\" onclick=\"quickchart('df-bdeec1f6-4057-43a5-9d22-6cf37f6bda26')\"\n",
              "              title=\"Suggest charts.\"\n",
              "              style=\"display:none;\">\n",
              "\n",
              "<svg xmlns=\"http://www.w3.org/2000/svg\" height=\"24px\"viewBox=\"0 0 24 24\"\n",
              "     width=\"24px\">\n",
              "    <g>\n",
              "        <path d=\"M19 3H5c-1.1 0-2 .9-2 2v14c0 1.1.9 2 2 2h14c1.1 0 2-.9 2-2V5c0-1.1-.9-2-2-2zM9 17H7v-7h2v7zm4 0h-2V7h2v10zm4 0h-2v-4h2v4z\"/>\n",
              "    </g>\n",
              "</svg>\n",
              "      </button>\n",
              "    </div>\n",
              "\n",
              "<style>\n",
              "  .colab-df-quickchart {\n",
              "    background-color: #E8F0FE;\n",
              "    border: none;\n",
              "    border-radius: 50%;\n",
              "    cursor: pointer;\n",
              "    display: none;\n",
              "    fill: #1967D2;\n",
              "    height: 32px;\n",
              "    padding: 0 0 0 0;\n",
              "    width: 32px;\n",
              "  }\n",
              "\n",
              "  .colab-df-quickchart:hover {\n",
              "    background-color: #E2EBFA;\n",
              "    box-shadow: 0px 1px 2px rgba(60, 64, 67, 0.3), 0px 1px 3px 1px rgba(60, 64, 67, 0.15);\n",
              "    fill: #174EA6;\n",
              "  }\n",
              "\n",
              "  [theme=dark] .colab-df-quickchart {\n",
              "    background-color: #3B4455;\n",
              "    fill: #D2E3FC;\n",
              "  }\n",
              "\n",
              "  [theme=dark] .colab-df-quickchart:hover {\n",
              "    background-color: #434B5C;\n",
              "    box-shadow: 0px 1px 3px 1px rgba(0, 0, 0, 0.15);\n",
              "    filter: drop-shadow(0px 1px 2px rgba(0, 0, 0, 0.3));\n",
              "    fill: #FFFFFF;\n",
              "  }\n",
              "</style>\n",
              "\n",
              "    <script>\n",
              "      async function quickchart(key) {\n",
              "        const containerElement = document.querySelector('#' + key);\n",
              "        const charts = await google.colab.kernel.invokeFunction(\n",
              "            'suggestCharts', [key], {});\n",
              "      }\n",
              "    </script>\n",
              "\n",
              "      <script>\n",
              "\n",
              "function displayQuickchartButton(domScope) {\n",
              "  let quickchartButtonEl =\n",
              "    domScope.querySelector('#df-bdeec1f6-4057-43a5-9d22-6cf37f6bda26 button.colab-df-quickchart');\n",
              "  quickchartButtonEl.style.display =\n",
              "    google.colab.kernel.accessAllowed ? 'block' : 'none';\n",
              "}\n",
              "\n",
              "        displayQuickchartButton(document);\n",
              "      </script>\n",
              "      <style>\n",
              "    .colab-df-container {\n",
              "      display:flex;\n",
              "      flex-wrap:wrap;\n",
              "      gap: 12px;\n",
              "    }\n",
              "\n",
              "    .colab-df-convert {\n",
              "      background-color: #E8F0FE;\n",
              "      border: none;\n",
              "      border-radius: 50%;\n",
              "      cursor: pointer;\n",
              "      display: none;\n",
              "      fill: #1967D2;\n",
              "      height: 32px;\n",
              "      padding: 0 0 0 0;\n",
              "      width: 32px;\n",
              "    }\n",
              "\n",
              "    .colab-df-convert:hover {\n",
              "      background-color: #E2EBFA;\n",
              "      box-shadow: 0px 1px 2px rgba(60, 64, 67, 0.3), 0px 1px 3px 1px rgba(60, 64, 67, 0.15);\n",
              "      fill: #174EA6;\n",
              "    }\n",
              "\n",
              "    [theme=dark] .colab-df-convert {\n",
              "      background-color: #3B4455;\n",
              "      fill: #D2E3FC;\n",
              "    }\n",
              "\n",
              "    [theme=dark] .colab-df-convert:hover {\n",
              "      background-color: #434B5C;\n",
              "      box-shadow: 0px 1px 3px 1px rgba(0, 0, 0, 0.15);\n",
              "      filter: drop-shadow(0px 1px 2px rgba(0, 0, 0, 0.3));\n",
              "      fill: #FFFFFF;\n",
              "    }\n",
              "  </style>\n",
              "\n",
              "      <script>\n",
              "        const buttonEl =\n",
              "          document.querySelector('#df-97404283-60af-4150-ab5f-3253b4aba6b3 button.colab-df-convert');\n",
              "        buttonEl.style.display =\n",
              "          google.colab.kernel.accessAllowed ? 'block' : 'none';\n",
              "\n",
              "        async function convertToInteractive(key) {\n",
              "          const element = document.querySelector('#df-97404283-60af-4150-ab5f-3253b4aba6b3');\n",
              "          const dataTable =\n",
              "            await google.colab.kernel.invokeFunction('convertToInteractive',\n",
              "                                                     [key], {});\n",
              "          if (!dataTable) return;\n",
              "\n",
              "          const docLinkHtml = 'Like what you see? Visit the ' +\n",
              "            '<a target=\"_blank\" href=https://colab.research.google.com/notebooks/data_table.ipynb>data table notebook</a>'\n",
              "            + ' to learn more about interactive tables.';\n",
              "          element.innerHTML = '';\n",
              "          dataTable['output_type'] = 'display_data';\n",
              "          await google.colab.output.renderOutput(dataTable, element);\n",
              "          const docLink = document.createElement('div');\n",
              "          docLink.innerHTML = docLinkHtml;\n",
              "          element.appendChild(docLink);\n",
              "        }\n",
              "      </script>\n",
              "    </div>\n",
              "  </div>\n"
            ]
          },
          "metadata": {},
          "execution_count": 2
        }
      ]
    },
    {
      "cell_type": "code",
      "source": [
        "y = pd.Series(raw['target'])\n",
        "y"
      ],
      "metadata": {
        "colab": {
          "base_uri": "https://localhost:8080/"
        },
        "id": "G2Vc3T4dVIoh",
        "outputId": "601dc050-65db-49c0-ee14-a352c5d9d725"
      },
      "execution_count": 3,
      "outputs": [
        {
          "output_type": "execute_result",
          "data": {
            "text/plain": [
              "0        4.526\n",
              "1        3.585\n",
              "2        3.521\n",
              "3        3.413\n",
              "4        3.422\n",
              "         ...  \n",
              "20635    0.781\n",
              "20636    0.771\n",
              "20637    0.923\n",
              "20638    0.847\n",
              "20639    0.894\n",
              "Length: 20640, dtype: float64"
            ]
          },
          "metadata": {},
          "execution_count": 3
        }
      ]
    },
    {
      "cell_type": "markdown",
      "source": [
        "##Preprocess the data:\n",
        "\n"
      ],
      "metadata": {
        "id": "bJEjDqIGRI4G"
      }
    },
    {
      "cell_type": "markdown",
      "source": [
        "*   Normalize the features using the mean and standard deviation."
      ],
      "metadata": {
        "id": "jXHKRvwGRNs0"
      }
    },
    {
      "cell_type": "code",
      "source": [
        "# Normalize the features using the mean and standard deviation\n",
        "scaler = StandardScaler()\n",
        "X_normalized = scaler.fit_transform(X)"
      ],
      "metadata": {
        "id": "hh1cD1EeReU-"
      },
      "execution_count": 4,
      "outputs": []
    },
    {
      "cell_type": "code",
      "source": [
        "X_normalized"
      ],
      "metadata": {
        "colab": {
          "base_uri": "https://localhost:8080/"
        },
        "id": "xBdiHCmllL6-",
        "outputId": "54f30323-7db0-4797-d815-e03d7b13d0fa"
      },
      "execution_count": 5,
      "outputs": [
        {
          "output_type": "execute_result",
          "data": {
            "text/plain": [
              "array([[ 2.34476576,  0.98214266,  0.62855945, ..., -0.04959654,\n",
              "         1.05254828, -1.32783522],\n",
              "       [ 2.33223796, -0.60701891,  0.32704136, ..., -0.09251223,\n",
              "         1.04318455, -1.32284391],\n",
              "       [ 1.7826994 ,  1.85618152,  1.15562047, ..., -0.02584253,\n",
              "         1.03850269, -1.33282653],\n",
              "       ...,\n",
              "       [-1.14259331, -0.92485123, -0.09031802, ..., -0.0717345 ,\n",
              "         1.77823747, -0.8237132 ],\n",
              "       [-1.05458292, -0.84539315, -0.04021111, ..., -0.09122515,\n",
              "         1.77823747, -0.87362627],\n",
              "       [-0.78012947, -1.00430931, -0.07044252, ..., -0.04368215,\n",
              "         1.75014627, -0.83369581]])"
            ]
          },
          "metadata": {},
          "execution_count": 5
        }
      ]
    },
    {
      "cell_type": "markdown",
      "source": [
        "* Split the dataset into training and testing sets (e.g., 80% for training, 20% for testing).\n"
      ],
      "metadata": {
        "id": "9V2Clc1DRUpa"
      }
    },
    {
      "cell_type": "code",
      "source": [
        "# Split the dataset into training and testing sets\n",
        "X_train, X_test, y_train, y_test = train_test_split(X_normalized, y, test_size=0.2, random_state=42)"
      ],
      "metadata": {
        "id": "4x7v02I3Re5s"
      },
      "execution_count": 6,
      "outputs": []
    },
    {
      "cell_type": "code",
      "source": [
        "\n",
        "X_train.shape, X_test.shape"
      ],
      "metadata": {
        "colab": {
          "base_uri": "https://localhost:8080/"
        },
        "id": "j7yYU4E-GRh4",
        "outputId": "86d6000d-97e8-44e3-f604-ab75fa042827"
      },
      "execution_count": 7,
      "outputs": [
        {
          "output_type": "execute_result",
          "data": {
            "text/plain": [
              "((16512, 8), (4128, 8))"
            ]
          },
          "metadata": {},
          "execution_count": 7
        }
      ]
    },
    {
      "cell_type": "markdown",
      "source": [
        "##Define the TensorFlow graph:\n",
        "\n"
      ],
      "metadata": {
        "id": "UDqaRpIoRZSU"
      }
    },
    {
      "cell_type": "markdown",
      "source": [
        "* Create placeholders for the input features (X) and target variable (y).\n"
      ],
      "metadata": {
        "id": "xSHNANgJUfM0"
      }
    },
    {
      "cell_type": "code",
      "source": [
        "nf=X_train.shape[1]\n",
        "X_placeholder = tf.placeholder(shape=(None, nf), dtype=tf.float32)\n",
        "y_placeholder = tf.placeholder(shape=(None), dtype=tf.float32)"
      ],
      "metadata": {
        "id": "rJDO3j3xRdJ9"
      },
      "execution_count": 8,
      "outputs": []
    },
    {
      "cell_type": "markdown",
      "source": [
        "* Create variables for the model's weights (W) and bias (b).\n"
      ],
      "metadata": {
        "id": "f1l17pkV1vX0"
      }
    },
    {
      "cell_type": "code",
      "source": [
        "W = tf.Variable(tf.random_normal(shape=(nf, 1)), name='weights')\n",
        "b = tf.Variable(tf.zeros(shape=(1,)), name='bias')"
      ],
      "metadata": {
        "id": "L7PNwWM2ZS5U"
      },
      "execution_count": 9,
      "outputs": []
    },
    {
      "cell_type": "markdown",
      "source": [
        "* Define the linear regression model using the equation: y_pred = X * W + b.\n"
      ],
      "metadata": {
        "id": "2cVblMSY1wjJ"
      }
    },
    {
      "cell_type": "code",
      "source": [
        "y_pred = tf.matmul(X_placeholder, W) + b\n"
      ],
      "metadata": {
        "id": "iVAtyF3YZoIL"
      },
      "execution_count": 10,
      "outputs": []
    },
    {
      "cell_type": "markdown",
      "source": [
        "* Define the loss function as the mean squared error between the predicted values and the true values.\n"
      ],
      "metadata": {
        "id": "NPd-DqS21y0p"
      }
    },
    {
      "cell_type": "code",
      "source": [
        "loss = tf.reduce_mean(tf.square(y_pred - y_placeholder))\n"
      ],
      "metadata": {
        "id": "z9lCcCMrZsh5"
      },
      "execution_count": 11,
      "outputs": []
    },
    {
      "cell_type": "markdown",
      "source": [
        "* Choose an optimizer (e.g., Gradient Descent) to minimize the loss function.\n"
      ],
      "metadata": {
        "id": "TZUS5oOd12p8"
      }
    },
    {
      "cell_type": "code",
      "source": [
        "optimizer = tf.train.GradientDescentOptimizer(learning_rate=0.001)\n",
        "train_op = optimizer.minimize(loss)"
      ],
      "metadata": {
        "id": "gZ7x84euZ1SB"
      },
      "execution_count": 12,
      "outputs": []
    },
    {
      "cell_type": "markdown",
      "source": [
        "## Train the model\n"
      ],
      "metadata": {
        "id": "hFHihZdldVtq"
      }
    },
    {
      "cell_type": "markdown",
      "source": [
        "* Initialize TensorFlow session.\n",
        "* Initialize the model's variables.\n",
        "* Set the number of training epochs and the learning rate.\n",
        "* For each epoch, iterate through the training dataset and update the model's parameters using the optimizer.\n",
        "* Print the training loss at regular intervals."
      ],
      "metadata": {
        "id": "E-kF3uZH2e0c"
      }
    },
    {
      "cell_type": "code",
      "source": [
        "#Initialize the model's variables.\n",
        "num_epochs = 100\n",
        "batch_size = 32\n",
        "train_loss_history = []\n",
        "val_loss_history = []\n",
        "\n",
        "#Initialize TensorFlow session.\n",
        "init = tf.global_variables_initializer()\n",
        "\n",
        "with tf.Session() as sess:\n",
        "    sess.run(init)\n",
        "\n",
        "    for epoch in range(num_epochs):\n",
        "        for i in range(0, len(X_train), batch_size):\n",
        "            X_batch = X_train[i:i+batch_size]\n",
        "            y_batch = y_train[i:i+batch_size]\n",
        "\n",
        "            #For each epoch, iterate through the training dataset and update the model's parameters using the optimizer.\n",
        "            sess.run(train_op, feed_dict={X_placeholder: X_batch, y_placeholder: y_batch})\n",
        "\n",
        "        train_loss = sess.run(loss, feed_dict={X_placeholder: X_train, y_placeholder: y_train})\n",
        "        val_loss = sess.run(loss, feed_dict={X_placeholder: X_test, y_placeholder: y_test})\n",
        "        train_loss_history.append(train_loss)\n",
        "        val_loss_history.append(val_loss)\n",
        "        #Print the training loss at regular intervals.\n",
        "        if epoch % 1.5 == 0:\n",
        "            print(f'Epoch {epoch}: Training Loss = {train_loss:.4f}, Validation Loss = {val_loss:.4f}')\n",
        "\n",
        "    y_pred_test = sess.run(y_pred, feed_dict={X_placeholder: X_test})\n"
      ],
      "metadata": {
        "colab": {
          "base_uri": "https://localhost:8080/"
        },
        "id": "ocR5OfOpDmaN",
        "outputId": "d518aa94-a198-4f17-d57a-758d526c9656"
      },
      "execution_count": 14,
      "outputs": [
        {
          "output_type": "stream",
          "name": "stdout",
          "text": [
            "Epoch 0: Training Loss = 2.4940, Validation Loss = 2.4636\n",
            "Epoch 3: Training Loss = 1.4517, Validation Loss = 1.4538\n",
            "Epoch 6: Training Loss = 1.4034, Validation Loss = 1.3969\n",
            "Epoch 9: Training Loss = 1.3771, Validation Loss = 1.3630\n",
            "Epoch 12: Training Loss = 1.3612, Validation Loss = 1.3422\n",
            "Epoch 15: Training Loss = 1.3515, Validation Loss = 1.3295\n",
            "Epoch 18: Training Loss = 1.3456, Validation Loss = 1.3219\n",
            "Epoch 21: Training Loss = 1.3421, Validation Loss = 1.3174\n",
            "Epoch 24: Training Loss = 1.3401, Validation Loss = 1.3147\n",
            "Epoch 27: Training Loss = 1.3388, Validation Loss = 1.3131\n",
            "Epoch 30: Training Loss = 1.3382, Validation Loss = 1.3122\n",
            "Epoch 33: Training Loss = 1.3378, Validation Loss = 1.3117\n",
            "Epoch 36: Training Loss = 1.3376, Validation Loss = 1.3115\n",
            "Epoch 39: Training Loss = 1.3375, Validation Loss = 1.3113\n",
            "Epoch 42: Training Loss = 1.3375, Validation Loss = 1.3113\n",
            "Epoch 45: Training Loss = 1.3375, Validation Loss = 1.3113\n",
            "Epoch 48: Training Loss = 1.3375, Validation Loss = 1.3113\n",
            "Epoch 51: Training Loss = 1.3375, Validation Loss = 1.3113\n",
            "Epoch 54: Training Loss = 1.3375, Validation Loss = 1.3114\n",
            "Epoch 57: Training Loss = 1.3375, Validation Loss = 1.3114\n",
            "Epoch 60: Training Loss = 1.3376, Validation Loss = 1.3114\n",
            "Epoch 63: Training Loss = 1.3376, Validation Loss = 1.3114\n",
            "Epoch 66: Training Loss = 1.3376, Validation Loss = 1.3114\n",
            "Epoch 69: Training Loss = 1.3376, Validation Loss = 1.3115\n",
            "Epoch 72: Training Loss = 1.3376, Validation Loss = 1.3115\n",
            "Epoch 75: Training Loss = 1.3376, Validation Loss = 1.3115\n",
            "Epoch 78: Training Loss = 1.3376, Validation Loss = 1.3115\n",
            "Epoch 81: Training Loss = 1.3376, Validation Loss = 1.3115\n",
            "Epoch 84: Training Loss = 1.3376, Validation Loss = 1.3115\n",
            "Epoch 87: Training Loss = 1.3376, Validation Loss = 1.3115\n",
            "Epoch 90: Training Loss = 1.3376, Validation Loss = 1.3115\n",
            "Epoch 93: Training Loss = 1.3376, Validation Loss = 1.3115\n",
            "Epoch 96: Training Loss = 1.3376, Validation Loss = 1.3115\n",
            "Epoch 99: Training Loss = 1.3376, Validation Loss = 1.3115\n"
          ]
        }
      ]
    },
    {
      "cell_type": "markdown",
      "source": [
        "##Evaluate the model:\n",
        "\n"
      ],
      "metadata": {
        "id": "bNAD--0125hZ"
      }
    },
    {
      "cell_type": "markdown",
      "source": [
        "* Calculate the mean squared error (MSE) between the predicted and true values.\n"
      ],
      "metadata": {
        "id": "0jYQNCEL3CpL"
      }
    },
    {
      "cell_type": "code",
      "source": [
        "# Evaluate the model\n",
        "from sklearn.metrics import mean_squared_error\n",
        "\n",
        "mse = mean_squared_error(y_test, y_pred_test)"
      ],
      "metadata": {
        "id": "ErLm6li93IIl"
      },
      "execution_count": 15,
      "outputs": []
    },
    {
      "cell_type": "markdown",
      "source": [
        "* Print the MSE as a measure of the model's performance.\n"
      ],
      "metadata": {
        "id": "-37sN9VK3Jpk"
      }
    },
    {
      "cell_type": "code",
      "source": [
        "\n",
        "print(f'Mean Squared Error (MSE): {mse:.4f}')"
      ],
      "metadata": {
        "colab": {
          "base_uri": "https://localhost:8080/"
        },
        "id": "53N2J8udlI7g",
        "outputId": "56e3ae9f-92c5-4d87-96d0-9cbce77b0d40"
      },
      "execution_count": 16,
      "outputs": [
        {
          "output_type": "stream",
          "name": "stdout",
          "text": [
            "Mean Squared Error (MSE): 1.2606\n"
          ]
        }
      ]
    },
    {
      "cell_type": "markdown",
      "source": [
        "* Use the trained model to make predictions on the test dataset.\n"
      ],
      "metadata": {
        "id": "FazMkFDj3Agz"
      }
    },
    {
      "cell_type": "code",
      "source": [
        "from tabulate import tabulate\n",
        "# Reshape the arrays to be 1-dimensional\n",
        "y_test = y_test.values.flatten()\n",
        "y_pred_test = y_pred_test.flatten()\n",
        "\n",
        "# Print the true labels and predicted labels in a table\n",
        "results_table = pd.DataFrame({'True Label': y_test[:10], 'Predicted Label': y_pred_test[:10]})\n",
        "print(tabulate(results_table, headers='keys'))"
      ],
      "metadata": {
        "colab": {
          "base_uri": "https://localhost:8080/"
        },
        "id": "EnBlZOXcsD2Y",
        "outputId": "f821dda8-ccb1-4ade-ce81-e8ad922b3849"
      },
      "execution_count": 17,
      "outputs": [
        {
          "output_type": "stream",
          "name": "stdout",
          "text": [
            "      True Label    Predicted Label\n",
            "--  ------------  -----------------\n",
            " 0       0.477              2.02817\n",
            " 1       0.458              2.06041\n",
            " 2       5.00001            2.08908\n",
            " 3       2.186              2.09709\n",
            " 4       2.78               2.08453\n",
            " 5       1.587              2.07223\n",
            " 6       1.982              2.08719\n",
            " 7       1.575              2.07238\n",
            " 8       3.4                2.1033\n",
            " 9       4.466              2.12627\n"
          ]
        }
      ]
    },
    {
      "cell_type": "code",
      "source": [
        "# Plot the training loss\n",
        "import matplotlib.pyplot as plt\n",
        "\n",
        "epochs = range(0, num_epochs, 1)\n",
        "plt.plot(epochs, train_loss_history, label='Training Loss')\n",
        "plt.plot(epochs, val_loss_history, label='Validation Loss')\n",
        "plt.xlabel('Epoch')\n",
        "plt.ylabel('Loss')\n",
        "plt.title('Training and Validation Loss over Epochs')\n",
        "plt.legend()\n",
        "plt.show()"
      ],
      "metadata": {
        "colab": {
          "base_uri": "https://localhost:8080/",
          "height": 472
        },
        "id": "78A7cFzUcPLw",
        "outputId": "3f953ac4-6094-42e7-de9a-512c20cde0c4"
      },
      "execution_count": 20,
      "outputs": [
        {
          "output_type": "display_data",
          "data": {
            "text/plain": [
              "<Figure size 640x480 with 1 Axes>"
            ],
            "image/png": "[encoded data removed]"
          },
          "metadata": {}
        }
      ]
    }
  ]
}