{
  "nbformat": 4,
  "nbformat_minor": 0,
  "metadata": {
    "colab": {
      "provenance": [],
      "cell_execution_strategy": "setup",
      "authorship_tag": "ABX9TyMsy3O82u13YiP50rIJHA4p",
      "include_colab_link": true
    },
    "kernelspec": {
      "name": "python3",
      "display_name": "Python 3"
    },
    "language_info": {
      "name": "python"
    },
    "accelerator": "TPU"
  },
  "cells": [
    {
      "cell_type": "markdown",
      "metadata": {
        "id": "view-in-github",
        "colab_type": "text"
      },
      "source": [
        "<a href=\"https://colab.research.google.com/github/PaolaMaribel18/hands-on-2023A/blob/master/notebooks/07_linearRegression_tf.ipynb\" target=\"_parent\"><img src=\"https://colab.research.google.com/assets/colab-badge.svg\" alt=\"Open In Colab\"/></a>"
      ]
    },
    {
      "cell_type": "markdown",
      "source": [
        "#7 Linear Regression with TensorFlow using the California Housing Dataset\n",
        "The goal of this exercise is to implement a linear regression model using TensorFlow to predict **house prices** based on the California Housing Dataset. The dataset contains various features such as average income, housing average age, and more. Your task is to build a linear regression model and evaluate its performance."
      ],
      "metadata": {
        "id": "3MsMWjV-Qtjy"
      }
    },
    {
      "cell_type": "markdown",
      "source": [
        "##Import the required libraries:\n",
        "\n"
      ],
      "metadata": {
        "id": "o1iTaYvZQ1m8"
      }
    },
    {
      "cell_type": "code",
      "execution_count": null,
      "metadata": {
        "id": "5hkm-DwsNYcZ"
      },
      "outputs": [],
      "source": [
        "import pandas as pd\n",
        "from sklearn.datasets import fetch_california_housing\n",
        "from sklearn.model_selection import train_test_split\n",
        "from sklearn.preprocessing import StandardScaler\n",
        "\n",
        "import tensorflow.compat.v1 as tf\n",
        "\n",
        "tf.disable_v2_behavior()"
      ]
    },
    {
      "cell_type": "markdown",
      "source": [
        "##Load the California Housing Dataset\n",
        "\n"
      ],
      "metadata": {
        "id": "oXbwMftUQ5Xu"
      }
    },
    {
      "cell_type": "code",
      "source": [
        "raw = fetch_california_housing()\n",
        "X = pd.DataFrame(data=raw['data'], columns=raw['feature_names'])\n",
        "X"
      ],
      "metadata": {
        "colab": {
          "base_uri": "https://localhost:8080/",
          "height": 424
        },
        "id": "n4OuoC10Q8ET",
        "outputId": "d645534b-7e62-4230-8b0d-c30848072352"
      },
      "execution_count": null,
      "outputs": [
        {
          "output_type": "execute_result",
          "data": {
            "text/plain": [
              "       MedInc  HouseAge  AveRooms  AveBedrms  Population  AveOccup  Latitude  \\\n",
              "0      8.3252      41.0  6.984127   1.023810       322.0  2.555556     37.88   \n",
              "1      8.3014      21.0  6.238137   0.971880      2401.0  2.109842     37.86   \n",
              "2      7.2574      52.0  8.288136   1.073446       496.0  2.802260     37.85   \n",
              "3      5.6431      52.0  5.817352   1.073059       558.0  2.547945     37.85   \n",
              "4      3.8462      52.0  6.281853   1.081081       565.0  2.181467     37.85   \n",
              "...       ...       ...       ...        ...         ...       ...       ...   \n",
              "20635  1.5603      25.0  5.045455   1.133333       845.0  2.560606     39.48   \n",
              "20636  2.5568      18.0  6.114035   1.315789       356.0  3.122807     39.49   \n",
              "20637  1.7000      17.0  5.205543   1.120092      1007.0  2.325635     39.43   \n",
              "20638  1.8672      18.0  5.329513   1.171920       741.0  2.123209     39.43   \n",
              "20639  2.3886      16.0  5.254717   1.162264      1387.0  2.616981     39.37   \n",
              "\n",
              "       Longitude  \n",
              "0        -122.23  \n",
              "1        -122.22  \n",
              "2        -122.24  \n",
              "3        -122.25  \n",
              "4        -122.25  \n",
              "...          ...  \n",
              "20635    -121.09  \n",
              "20636    -121.21  \n",
              "20637    -121.22  \n",
              "20638    -121.32  \n",
              "20639    -121.24  \n",
              "\n",
              "[20640 rows x 8 columns]"
            ],
            "text/html": [
              "\n",
              "\n",
              "  <div id=\"df-2b6072e5-f9b7-41aa-a08f-36941ecdbb51\">\n",
              "    <div class=\"colab-df-container\">\n",
              "      <div>\n",
              "<style scoped>\n",
              "    .dataframe tbody tr th:only-of-type {\n",
              "        vertical-align: middle;\n",
              "    }\n",
              "\n",
              "    .dataframe tbody tr th {\n",
              "        vertical-align: top;\n",
              "    }\n",
              "\n",
              "    .dataframe thead th {\n",
              "        text-align: right;\n",
              "    }\n",
              "</style>\n",
              "<table border=\"1\" class=\"dataframe\">\n",
              "  <thead>\n",
              "    <tr style=\"text-align: right;\">\n",
              "      <th></th>\n",
              "      <th>MedInc</th>\n",
              "      <th>HouseAge</th>\n",
              "      <th>AveRooms</th>\n",
              "      <th>AveBedrms</th>\n",
              "      <th>Population</th>\n",
              "      <th>AveOccup</th>\n",
              "      <th>Latitude</th>\n",
              "      <th>Longitude</th>\n",
              "    </tr>\n",
              "  </thead>\n",
              "  <tbody>\n",
              "    <tr>\n",
              "      <th>0</th>\n",
              "      <td>8.3252</td>\n",
              "      <td>41.0</td>\n",
              "      <td>6.984127</td>\n",
              "      <td>1.023810</td>\n",
              "      <td>322.0</td>\n",
              "      <td>2.555556</td>\n",
              "      <td>37.88</td>\n",
              "      <td>-122.23</td>\n",
              "    </tr>\n",
              "    <tr>\n",
              "      <th>1</th>\n",
              "      <td>8.3014</td>\n",
              "      <td>21.0</td>\n",
              "      <td>6.238137</td>\n",
              "      <td>0.971880</td>\n",
              "      <td>2401.0</td>\n",
              "      <td>2.109842</td>\n",
              "      <td>37.86</td>\n",
              "      <td>-122.22</td>\n",
              "    </tr>\n",
              "    <tr>\n",
              "      <th>2</th>\n",
              "      <td>7.2574</td>\n",
              "      <td>52.0</td>\n",
              "      <td>8.288136</td>\n",
              "      <td>1.073446</td>\n",
              "      <td>496.0</td>\n",
              "      <td>2.802260</td>\n",
              "      <td>37.85</td>\n",
              "      <td>-122.24</td>\n",
              "    </tr>\n",
              "    <tr>\n",
              "      <th>3</th>\n",
              "      <td>5.6431</td>\n",
              "      <td>52.0</td>\n",
              "      <td>5.817352</td>\n",
              "      <td>1.073059</td>\n",
              "      <td>558.0</td>\n",
              "      <td>2.547945</td>\n",
              "      <td>37.85</td>\n",
              "      <td>-122.25</td>\n",
              "    </tr>\n",
              "    <tr>\n",
              "      <th>4</th>\n",
              "      <td>3.8462</td>\n",
              "      <td>52.0</td>\n",
              "      <td>6.281853</td>\n",
              "      <td>1.081081</td>\n",
              "      <td>565.0</td>\n",
              "      <td>2.181467</td>\n",
              "      <td>37.85</td>\n",
              "      <td>-122.25</td>\n",
              "    </tr>\n",
              "    <tr>\n",
              "      <th>...</th>\n",
              "      <td>...</td>\n",
              "      <td>...</td>\n",
              "      <td>...</td>\n",
              "      <td>...</td>\n",
              "      <td>...</td>\n",
              "      <td>...</td>\n",
              "      <td>...</td>\n",
              "      <td>...</td>\n",
              "    </tr>\n",
              "    <tr>\n",
              "      <th>20635</th>\n",
              "      <td>1.5603</td>\n",
              "      <td>25.0</td>\n",
              "      <td>5.045455</td>\n",
              "      <td>1.133333</td>\n",
              "      <td>845.0</td>\n",
              "      <td>2.560606</td>\n",
              "      <td>39.48</td>\n",
              "      <td>-121.09</td>\n",
              "    </tr>\n",
              "    <tr>\n",
              "      <th>20636</th>\n",
              "      <td>2.5568</td>\n",
              "      <td>18.0</td>\n",
              "      <td>6.114035</td>\n",
              "      <td>1.315789</td>\n",
              "      <td>356.0</td>\n",
              "      <td>3.122807</td>\n",
              "      <td>39.49</td>\n",
              "      <td>-121.21</td>\n",
              "    </tr>\n",
              "    <tr>\n",
              "      <th>20637</th>\n",
              "      <td>1.7000</td>\n",
              "      <td>17.0</td>\n",
              "      <td>5.205543</td>\n",
              "      <td>1.120092</td>\n",
              "      <td>1007.0</td>\n",
              "      <td>2.325635</td>\n",
              "      <td>39.43</td>\n",
              "      <td>-121.22</td>\n",
              "    </tr>\n",
              "    <tr>\n",
              "      <th>20638</th>\n",
              "      <td>1.8672</td>\n",
              "      <td>18.0</td>\n",
              "      <td>5.329513</td>\n",
              "      <td>1.171920</td>\n",
              "      <td>741.0</td>\n",
              "      <td>2.123209</td>\n",
              "      <td>39.43</td>\n",
              "      <td>-121.32</td>\n",
              "    </tr>\n",
              "    <tr>\n",
              "      <th>20639</th>\n",
              "      <td>2.3886</td>\n",
              "      <td>16.0</td>\n",
              "      <td>5.254717</td>\n",
              "      <td>1.162264</td>\n",
              "      <td>1387.0</td>\n",
              "      <td>2.616981</td>\n",
              "      <td>39.37</td>\n",
              "      <td>-121.24</td>\n",
              "    </tr>\n",
              "  </tbody>\n",
              "</table>\n",
              "<p>20640 rows × 8 columns</p>\n",
              "</div>\n",
              "      <button class=\"colab-df-convert\" onclick=\"convertToInteractive('df-2b6072e5-f9b7-41aa-a08f-36941ecdbb51')\"\n",
              "              title=\"Convert this dataframe to an interactive table.\"\n",
              "              style=\"display:none;\">\n",
              "\n",
              "  <svg xmlns=\"http://www.w3.org/2000/svg\" height=\"24px\"viewBox=\"0 0 24 24\"\n",
              "       width=\"24px\">\n",
              "    <path d=\"M0 0h24v24H0V0z\" fill=\"none\"/>\n",
              "    <path d=\"M18.56 5.44l.94 2.06.94-2.06 2.06-.94-2.06-.94-.94-2.06-.94 2.06-2.06.94zm-11 1L8.5 8.5l.94-2.06 2.06-.94-2.06-.94L8.5 2.5l-.94 2.06-2.06.94zm10 10l.94 2.06.94-2.06 2.06-.94-2.06-.94-.94-2.06-.94 2.06-2.06.94z\"/><path d=\"M17.41 7.96l-1.37-1.37c-.4-.4-.92-.59-1.43-.59-.52 0-1.04.2-1.43.59L10.3 9.45l-7.72 7.72c-.78.78-.78 2.05 0 2.83L4 21.41c.39.39.9.59 1.41.59.51 0 1.02-.2 1.41-.59l7.78-7.78 2.81-2.81c.8-.78.8-2.07 0-2.86zM5.41 20L4 18.59l7.72-7.72 1.47 1.35L5.41 20z\"/>\n",
              "  </svg>\n",
              "      </button>\n",
              "\n",
              "\n",
              "\n",
              "    <div id=\"df-199300f9-ed88-48bc-b677-6c181689eac1\">\n",
              "      <button class=\"colab-df-quickchart\" onclick=\"quickchart('df-199300f9-ed88-48bc-b677-6c181689eac1')\"\n",
              "              title=\"Suggest charts.\"\n",
              "              style=\"display:none;\">\n",
              "\n",
              "<svg xmlns=\"http://www.w3.org/2000/svg\" height=\"24px\"viewBox=\"0 0 24 24\"\n",
              "     width=\"24px\">\n",
              "    <g>\n",
              "        <path d=\"M19 3H5c-1.1 0-2 .9-2 2v14c0 1.1.9 2 2 2h14c1.1 0 2-.9 2-2V5c0-1.1-.9-2-2-2zM9 17H7v-7h2v7zm4 0h-2V7h2v10zm4 0h-2v-4h2v4z\"/>\n",
              "    </g>\n",
              "</svg>\n",
              "      </button>\n",
              "    </div>\n",
              "\n",
              "<style>\n",
              "  .colab-df-quickchart {\n",
              "    background-color: #E8F0FE;\n",
              "    border: none;\n",
              "    border-radius: 50%;\n",
              "    cursor: pointer;\n",
              "    display: none;\n",
              "    fill: #1967D2;\n",
              "    height: 32px;\n",
              "    padding: 0 0 0 0;\n",
              "    width: 32px;\n",
              "  }\n",
              "\n",
              "  .colab-df-quickchart:hover {\n",
              "    background-color: #E2EBFA;\n",
              "    box-shadow: 0px 1px 2px rgba(60, 64, 67, 0.3), 0px 1px 3px 1px rgba(60, 64, 67, 0.15);\n",
              "    fill: #174EA6;\n",
              "  }\n",
              "\n",
              "  [theme=dark] .colab-df-quickchart {\n",
              "    background-color: #3B4455;\n",
              "    fill: #D2E3FC;\n",
              "  }\n",
              "\n",
              "  [theme=dark] .colab-df-quickchart:hover {\n",
              "    background-color: #434B5C;\n",
              "    box-shadow: 0px 1px 3px 1px rgba(0, 0, 0, 0.15);\n",
              "    filter: drop-shadow(0px 1px 2px rgba(0, 0, 0, 0.3));\n",
              "    fill: #FFFFFF;\n",
              "  }\n",
              "</style>\n",
              "\n",
              "    <script>\n",
              "      async function quickchart(key) {\n",
              "        const containerElement = document.querySelector('#' + key);\n",
              "        const charts = await google.colab.kernel.invokeFunction(\n",
              "            'suggestCharts', [key], {});\n",
              "      }\n",
              "    </script>\n",
              "\n",
              "      <script>\n",
              "\n",
              "function displayQuickchartButton(domScope) {\n",
              "  let quickchartButtonEl =\n",
              "    domScope.querySelector('#df-199300f9-ed88-48bc-b677-6c181689eac1 button.colab-df-quickchart');\n",
              "  quickchartButtonEl.style.display =\n",
              "    google.colab.kernel.accessAllowed ? 'block' : 'none';\n",
              "}\n",
              "\n",
              "        displayQuickchartButton(document);\n",
              "      </script>\n",
              "      <style>\n",
              "    .colab-df-container {\n",
              "      display:flex;\n",
              "      flex-wrap:wrap;\n",
              "      gap: 12px;\n",
              "    }\n",
              "\n",
              "    .colab-df-convert {\n",
              "      background-color: #E8F0FE;\n",
              "      border: none;\n",
              "      border-radius: 50%;\n",
              "      cursor: pointer;\n",
              "      display: none;\n",
              "      fill: #1967D2;\n",
              "      height: 32px;\n",
              "      padding: 0 0 0 0;\n",
              "      width: 32px;\n",
              "    }\n",
              "\n",
              "    .colab-df-convert:hover {\n",
              "      background-color: #E2EBFA;\n",
              "      box-shadow: 0px 1px 2px rgba(60, 64, 67, 0.3), 0px 1px 3px 1px rgba(60, 64, 67, 0.15);\n",
              "      fill: #174EA6;\n",
              "    }\n",
              "\n",
              "    [theme=dark] .colab-df-convert {\n",
              "      background-color: #3B4455;\n",
              "      fill: #D2E3FC;\n",
              "    }\n",
              "\n",
              "    [theme=dark] .colab-df-convert:hover {\n",
              "      background-color: #434B5C;\n",
              "      box-shadow: 0px 1px 3px 1px rgba(0, 0, 0, 0.15);\n",
              "      filter: drop-shadow(0px 1px 2px rgba(0, 0, 0, 0.3));\n",
              "      fill: #FFFFFF;\n",
              "    }\n",
              "  </style>\n",
              "\n",
              "      <script>\n",
              "        const buttonEl =\n",
              "          document.querySelector('#df-2b6072e5-f9b7-41aa-a08f-36941ecdbb51 button.colab-df-convert');\n",
              "        buttonEl.style.display =\n",
              "          google.colab.kernel.accessAllowed ? 'block' : 'none';\n",
              "\n",
              "        async function convertToInteractive(key) {\n",
              "          const element = document.querySelector('#df-2b6072e5-f9b7-41aa-a08f-36941ecdbb51');\n",
              "          const dataTable =\n",
              "            await google.colab.kernel.invokeFunction('convertToInteractive',\n",
              "                                                     [key], {});\n",
              "          if (!dataTable) return;\n",
              "\n",
              "          const docLinkHtml = 'Like what you see? Visit the ' +\n",
              "            '<a target=\"_blank\" href=https://colab.research.google.com/notebooks/data_table.ipynb>data table notebook</a>'\n",
              "            + ' to learn more about interactive tables.';\n",
              "          element.innerHTML = '';\n",
              "          dataTable['output_type'] = 'display_data';\n",
              "          await google.colab.output.renderOutput(dataTable, element);\n",
              "          const docLink = document.createElement('div');\n",
              "          docLink.innerHTML = docLinkHtml;\n",
              "          element.appendChild(docLink);\n",
              "        }\n",
              "      </script>\n",
              "    </div>\n",
              "  </div>\n"
            ]
          },
          "metadata": {},
          "execution_count": 136
        }
      ]
    },
    {
      "cell_type": "code",
      "source": [
        "y = pd.Series(raw['target'])\n",
        "y"
      ],
      "metadata": {
        "colab": {
          "base_uri": "https://localhost:8080/"
        },
        "id": "G2Vc3T4dVIoh",
        "outputId": "56d72543-8fce-4e6d-bd2f-545c939e65ca"
      },
      "execution_count": null,
      "outputs": [
        {
          "output_type": "execute_result",
          "data": {
            "text/plain": [
              "0        4.526\n",
              "1        3.585\n",
              "2        3.521\n",
              "3        3.413\n",
              "4        3.422\n",
              "         ...  \n",
              "20635    0.781\n",
              "20636    0.771\n",
              "20637    0.923\n",
              "20638    0.847\n",
              "20639    0.894\n",
              "Length: 20640, dtype: float64"
            ]
          },
          "metadata": {},
          "execution_count": 137
        }
      ]
    },
    {
      "cell_type": "markdown",
      "source": [
        "##Preprocess the data:\n",
        "\n"
      ],
      "metadata": {
        "id": "bJEjDqIGRI4G"
      }
    },
    {
      "cell_type": "markdown",
      "source": [
        "*   Normalize the features using the mean and standard deviation."
      ],
      "metadata": {
        "id": "jXHKRvwGRNs0"
      }
    },
    {
      "cell_type": "code",
      "source": [
        "# Normalize the features using the mean and standard deviation\n",
        "scaler = StandardScaler()\n",
        "X_normalized = scaler.fit_transform(X)"
      ],
      "metadata": {
        "id": "hh1cD1EeReU-"
      },
      "execution_count": null,
      "outputs": []
    },
    {
      "cell_type": "markdown",
      "source": [
        "* Split the dataset into training and testing sets (e.g., 80% for training, 20% for testing).\n"
      ],
      "metadata": {
        "id": "9V2Clc1DRUpa"
      }
    },
    {
      "cell_type": "code",
      "source": [
        "# Split the dataset into training and testing sets\n",
        "X_train, X_test, y_train, y_test = train_test_split(X_normalized, y, test_size=0.2, random_state=42)"
      ],
      "metadata": {
        "id": "4x7v02I3Re5s"
      },
      "execution_count": null,
      "outputs": []
    },
    {
      "cell_type": "markdown",
      "source": [
        "##Define the TensorFlow graph:\n",
        "\n"
      ],
      "metadata": {
        "id": "UDqaRpIoRZSU"
      }
    },
    {
      "cell_type": "markdown",
      "source": [
        "* Create placeholders for the input features (X) and target variable (y).\n"
      ],
      "metadata": {
        "id": "xSHNANgJUfM0"
      }
    },
    {
      "cell_type": "code",
      "source": [
        "nf=X_train.shape[1]\n",
        "X_placeholder = tf.placeholder(shape=(None, nf), dtype=tf.float32)\n",
        "y_placeholder = tf.placeholder(shape=(None,), dtype=tf.float32)"
      ],
      "metadata": {
        "id": "rJDO3j3xRdJ9"
      },
      "execution_count": null,
      "outputs": []
    },
    {
      "cell_type": "markdown",
      "source": [
        "* Create variables for the model's weights (W) and bias (b).\n"
      ],
      "metadata": {
        "id": "f1l17pkV1vX0"
      }
    },
    {
      "cell_type": "code",
      "source": [
        "W = tf.Variable(tf.random_normal(shape=(nf, 1)), name='weights')\n",
        "b = tf.Variable(tf.zeros(shape=(1,)), name='bias')"
      ],
      "metadata": {
        "id": "L7PNwWM2ZS5U"
      },
      "execution_count": null,
      "outputs": []
    },
    {
      "cell_type": "markdown",
      "source": [
        "* Define the linear regression model using the equation: y_pred = X * W + b.\n"
      ],
      "metadata": {
        "id": "2cVblMSY1wjJ"
      }
    },
    {
      "cell_type": "code",
      "source": [
        "y_pred = tf.matmul(X_placeholder, W) + b\n"
      ],
      "metadata": {
        "id": "iVAtyF3YZoIL"
      },
      "execution_count": null,
      "outputs": []
    },
    {
      "cell_type": "markdown",
      "source": [
        "* Define the loss function as the mean squared error between the predicted values and the true values.\n"
      ],
      "metadata": {
        "id": "NPd-DqS21y0p"
      }
    },
    {
      "cell_type": "code",
      "source": [
        "loss = tf.reduce_mean(tf.square(y_pred - y_placeholder))\n"
      ],
      "metadata": {
        "id": "z9lCcCMrZsh5"
      },
      "execution_count": null,
      "outputs": []
    },
    {
      "cell_type": "markdown",
      "source": [
        "* Choose an optimizer (e.g., Gradient Descent) to minimize the loss function.\n"
      ],
      "metadata": {
        "id": "TZUS5oOd12p8"
      }
    },
    {
      "cell_type": "code",
      "source": [
        "optimizer = tf.train.GradientDescentOptimizer(learning_rate=0.001)\n",
        "train_op = optimizer.minimize(loss)"
      ],
      "metadata": {
        "id": "gZ7x84euZ1SB"
      },
      "execution_count": null,
      "outputs": []
    },
    {
      "cell_type": "markdown",
      "source": [
        "## Train the model\n"
      ],
      "metadata": {
        "id": "hFHihZdldVtq"
      }
    },
    {
      "cell_type": "markdown",
      "source": [
        "* Initialize TensorFlow session.\n",
        "* Initialize the model's variables.\n",
        "* Set the number of training epochs and the learning rate.\n",
        "* For each epoch, iterate through the training dataset and update the model's parameters using the optimizer.\n",
        "* Print the training loss at regular intervals."
      ],
      "metadata": {
        "id": "E-kF3uZH2e0c"
      }
    },
    {
      "cell_type": "code",
      "source": [
        "#Initialize the model's variables.\n",
        "num_epochs = 100\n",
        "batch_size = 32\n",
        "train_loss_history = []\n",
        "val_loss_history = []\n",
        "\n",
        "init = tf.global_variables_initializer()\n",
        "\n",
        "#Initialize TensorFlow session.\n",
        "with tf.Session() as sess:\n",
        "    sess.run(init)\n",
        "\n",
        "    for epoch in range(num_epochs):\n",
        "        num_batches = len(X_train) // batch_size\n",
        "\n",
        "        for batch in range(num_batches):\n",
        "            start = batch * batch_size\n",
        "            end = (batch + 1) * batch_size\n",
        "\n",
        "            X_batch = X_train[start:end]\n",
        "            y_batch = y_train[start:end]\n",
        "            #For each epoch, iterate through the training dataset and update the model's parameters using the optimizer.\n",
        "            sess.run(train_op, feed_dict={X_placeholder: X_batch, y_placeholder: y_batch})\n",
        "\n",
        "\n",
        "        if epoch % 1.5 == 0:\n",
        "            train_loss = sess.run(loss, feed_dict={X_placeholder: X_train, y_placeholder: y_train})\n",
        "            val_loss = sess.run(loss, feed_dict={X_placeholder: X_test, y_placeholder: y_test})\n",
        "            train_loss_history.append(train_loss)\n",
        "            val_loss_history.append(val_loss)\n",
        "            #Print the training loss at regular intervals.\n",
        "            print(f'Epoch {epoch}: Training Loss = {train_loss:.4f}, Validation Loss = {val_loss:.4f}')\n",
        "\n",
        "    y_pred_test = sess.run(y_pred, feed_dict={X_placeholder: X_test})\n"
      ],
      "metadata": {
        "colab": {
          "base_uri": "https://localhost:8080/"
        },
        "id": "5-J34x_waCbp",
        "outputId": "fb06d9d7-6553-4b9d-d359-3a56e115c508"
      },
      "execution_count": null,
      "outputs": [
        {
          "output_type": "stream",
          "name": "stdout",
          "text": [
            "Epoch 0: Training Loss = 1.9897, Validation Loss = 1.9404\n",
            "Epoch 3: Training Loss = 1.3790, Validation Loss = 1.3704\n",
            "Epoch 6: Training Loss = 1.3621, Validation Loss = 1.3479\n",
            "Epoch 9: Training Loss = 1.3524, Validation Loss = 1.3338\n",
            "Epoch 12: Training Loss = 1.3465, Validation Loss = 1.3251\n",
            "Epoch 15: Training Loss = 1.3429, Validation Loss = 1.3197\n",
            "Epoch 18: Training Loss = 1.3407, Validation Loss = 1.3164\n",
            "Epoch 21: Training Loss = 1.3394, Validation Loss = 1.3143\n",
            "Epoch 24: Training Loss = 1.3386, Validation Loss = 1.3131\n",
            "Epoch 27: Training Loss = 1.3381, Validation Loss = 1.3124\n",
            "Epoch 30: Training Loss = 1.3379, Validation Loss = 1.3119\n",
            "Epoch 33: Training Loss = 1.3377, Validation Loss = 1.3117\n",
            "Epoch 36: Training Loss = 1.3376, Validation Loss = 1.3116\n",
            "Epoch 39: Training Loss = 1.3376, Validation Loss = 1.3115\n",
            "Epoch 42: Training Loss = 1.3376, Validation Loss = 1.3114\n",
            "Epoch 45: Training Loss = 1.3376, Validation Loss = 1.3114\n",
            "Epoch 48: Training Loss = 1.3376, Validation Loss = 1.3114\n",
            "Epoch 51: Training Loss = 1.3376, Validation Loss = 1.3114\n",
            "Epoch 54: Training Loss = 1.3376, Validation Loss = 1.3114\n",
            "Epoch 57: Training Loss = 1.3376, Validation Loss = 1.3114\n",
            "Epoch 60: Training Loss = 1.3376, Validation Loss = 1.3115\n",
            "Epoch 63: Training Loss = 1.3376, Validation Loss = 1.3115\n",
            "Epoch 66: Training Loss = 1.3376, Validation Loss = 1.3115\n",
            "Epoch 69: Training Loss = 1.3376, Validation Loss = 1.3115\n",
            "Epoch 72: Training Loss = 1.3376, Validation Loss = 1.3115\n",
            "Epoch 75: Training Loss = 1.3376, Validation Loss = 1.3115\n",
            "Epoch 78: Training Loss = 1.3376, Validation Loss = 1.3115\n",
            "Epoch 81: Training Loss = 1.3376, Validation Loss = 1.3115\n",
            "Epoch 84: Training Loss = 1.3376, Validation Loss = 1.3115\n",
            "Epoch 87: Training Loss = 1.3376, Validation Loss = 1.3115\n",
            "Epoch 90: Training Loss = 1.3376, Validation Loss = 1.3115\n",
            "Epoch 93: Training Loss = 1.3376, Validation Loss = 1.3115\n",
            "Epoch 96: Training Loss = 1.3376, Validation Loss = 1.3115\n",
            "Epoch 99: Training Loss = 1.3376, Validation Loss = 1.3115\n"
          ]
        }
      ]
    },
    {
      "cell_type": "markdown",
      "source": [
        "##Evaluate the model:\n",
        "\n"
      ],
      "metadata": {
        "id": "bNAD--0125hZ"
      }
    },
    {
      "cell_type": "markdown",
      "source": [
        "* Calculate the mean squared error (MSE) between the predicted and true values.\n"
      ],
      "metadata": {
        "id": "0jYQNCEL3CpL"
      }
    },
    {
      "cell_type": "code",
      "source": [
        "# Evaluate the model\n",
        "from sklearn.metrics import mean_squared_error\n",
        "\n",
        "mse = mean_squared_error(y_test, y_pred_test)"
      ],
      "metadata": {
        "id": "ErLm6li93IIl"
      },
      "execution_count": null,
      "outputs": []
    },
    {
      "cell_type": "markdown",
      "source": [
        "* Print the MSE as a measure of the model's performance.\n"
      ],
      "metadata": {
        "id": "-37sN9VK3Jpk"
      }
    },
    {
      "cell_type": "code",
      "source": [
        "\n",
        "print(f'Mean Squared Error (MSE): {mse:.4f}')"
      ],
      "metadata": {
        "colab": {
          "base_uri": "https://localhost:8080/"
        },
        "id": "53N2J8udlI7g",
        "outputId": "27d35333-ed31-44b1-9836-db9f674cedfb"
      },
      "execution_count": null,
      "outputs": [
        {
          "output_type": "stream",
          "name": "stdout",
          "text": [
            "Mean Squared Error (MSE): 1.2604\n"
          ]
        }
      ]
    },
    {
      "cell_type": "markdown",
      "source": [
        "* Use the trained model to make predictions on the test dataset.\n"
      ],
      "metadata": {
        "id": "FazMkFDj3Agz"
      }
    },
    {
      "cell_type": "code",
      "source": [
        "from tabulate import tabulate\n",
        "# Reshape the arrays to be 1-dimensional\n",
        "y_test = y_test.values.flatten()\n",
        "y_pred_test = y_pred_test.flatten()\n",
        "\n",
        "# Print the true labels and predicted labels in a table\n",
        "results_table = pd.DataFrame({'True Label': y_test[:10], 'Predicted Label': y_pred_test[:10]})\n",
        "print(tabulate(results_table, headers='keys'))"
      ],
      "metadata": {
        "colab": {
          "base_uri": "https://localhost:8080/"
        },
        "id": "EnBlZOXcsD2Y",
        "outputId": "57643cea-2381-4d30-f242-f61e936c997e"
      },
      "execution_count": null,
      "outputs": [
        {
          "output_type": "stream",
          "name": "stdout",
          "text": [
            "      True Label    Predicted Label\n",
            "--  ------------  -----------------\n",
            " 0       0.477              2.02764\n",
            " 1       0.458              2.06087\n",
            " 2       5.00001            2.0883\n",
            " 3       2.186              2.09764\n",
            " 4       2.78               2.08635\n",
            " 5       1.587              2.07183\n",
            " 6       1.982              2.08727\n",
            " 7       1.575              2.0724\n",
            " 8       3.4                2.10314\n",
            " 9       4.466              2.12529\n"
          ]
        }
      ]
    },
    {
      "cell_type": "code",
      "source": [
        "# Plot the training loss\n",
        "import matplotlib.pyplot as plt\n",
        "\n",
        "epochs = range(0, num_epochs, 3)\n",
        "plt.plot(epochs, train_loss_history, label='Training Loss')\n",
        "plt.plot(epochs, val_loss_history, label='Validation Loss')\n",
        "plt.xlabel('Epoch')\n",
        "plt.ylabel('Loss')\n",
        "plt.title('Training and Validation Loss over Epochs')\n",
        "plt.legend()\n",
        "plt.show()"
      ],
      "metadata": {
        "colab": {
          "base_uri": "https://localhost:8080/",
          "height": 472
        },
        "id": "78A7cFzUcPLw",
        "outputId": "79f4facf-0062-4734-96e8-588d8afd8f66"
      },
      "execution_count": null,
      "outputs": [
        {
          "output_type": "display_data",
          "data": {
            "text/plain": [
              "<Figure size 640x480 with 1 Axes>"
            ],
            "image/png": "[encoded data removed]"
          },
          "metadata": {}
        }
      ]
    }
  ]
}