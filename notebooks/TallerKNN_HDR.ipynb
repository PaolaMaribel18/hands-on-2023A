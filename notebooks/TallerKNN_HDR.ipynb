{
  "nbformat": 4,
  "nbformat_minor": 0,
  "metadata": {
    "colab": {
      "provenance": [],
      "toc_visible": true,
      "include_colab_link": true
    },
    "kernelspec": {
      "name": "python3",
      "display_name": "Python 3"
    },
    "language_info": {
      "name": "python"
    }
  },
  "cells": [
    {
      "cell_type": "markdown",
      "metadata": {
        "id": "view-in-github",
        "colab_type": "text"
      },
      "source": [
        "<a href=\"https://colab.research.google.com/github/PaolaMaribel18/hands-on-2023A/blob/master/notebooks/TallerKNN_HDR.ipynb\" target=\"_parent\"><img src=\"https://colab.research.google.com/assets/colab-badge.svg\" alt=\"Open In Colab\"/></a>"
      ]
    },
    {
      "cell_type": "markdown",
      "source": [
        "#KNN: Handwritten Digit Recognition"
      ],
      "metadata": {
        "id": "BqcJ0yg79R0p"
      }
    },
    {
      "cell_type": "markdown",
      "source": [
        "**Description:**\n",
        "Provide students with a dataset of handwritten digits (eg. the MNIST dataset).\n",
        "\n",
        "The task is to implement the k-Nearest Neighbors algorithm to classify the digits correctly."
      ],
      "metadata": {
        "id": "GIk6I1v19Whb"
      }
    },
    {
      "cell_type": "markdown",
      "source": [
        "###1. Data Preprocessing"
      ],
      "metadata": {
        "id": "cFyJWM3f93G9"
      }
    },
    {
      "cell_type": "markdown",
      "source": [
        "####Importing libraries"
      ],
      "metadata": {
        "id": "mneMq7hu_IEu"
      }
    },
    {
      "cell_type": "code",
      "source": [
        "import numpy as np\n",
        "from sklearn import datasets\n",
        "from sklearn.model_selection import train_test_split\n",
        "from sklearn.neighbors import KNeighborsClassifier\n",
        "from sklearn.metrics import accuracy_score, precision_score, recall_score, f1_score, confusion_matrix\n",
        "import matplotlib.pyplot as plt"
      ],
      "metadata": {
        "id": "y7O3Eh9U_KJ1"
      },
      "execution_count": null,
      "outputs": []
    },
    {
      "cell_type": "markdown",
      "source": [
        "####Proper data preprocessing"
      ],
      "metadata": {
        "id": "oe_13LL--VPh"
      }
    },
    {
      "cell_type": "markdown",
      "source": [
        "#####Load dataset"
      ],
      "metadata": {
        "id": "YLLrtctm_TOS"
      }
    },
    {
      "cell_type": "code",
      "source": [
        "# Load MNIST from scikit-learn\n",
        "mnist = datasets.fetch_openml(\"mnist_784\")\n"
      ],
      "metadata": {
        "colab": {
          "base_uri": "https://localhost:8080/"
        },
        "id": "wXI8t2UZ_UvC",
        "outputId": "22399996-16e8-49aa-abf4-9052c304c4ae"
      },
      "execution_count": null,
      "outputs": [
        {
          "output_type": "stream",
          "name": "stderr",
          "text": [
            "/usr/local/lib/python3.10/dist-packages/sklearn/datasets/_openml.py:968: FutureWarning: The default value of `parser` will change from `'liac-arff'` to `'auto'` in 1.4. You can set `parser='auto'` to silence this warning. Therefore, an `ImportError` will be raised from 1.4 if the dataset is dense and pandas is not installed. Note that the pandas parser may return different data types. See the Notes Section in fetch_openml's API doc for details.\n",
            "  warn(\n"
          ]
        }
      ]
    },
    {
      "cell_type": "code",
      "source": [
        "digits = datasets.load_digits()"
      ],
      "metadata": {
        "id": "CjNeb5hdCnQ1"
      },
      "execution_count": null,
      "outputs": []
    },
    {
      "cell_type": "code",
      "source": [
        "X = digits.data\n",
        "y = digits.target"
      ],
      "metadata": {
        "id": "36Q9eR0-DLUA"
      },
      "execution_count": null,
      "outputs": []
    },
    {
      "cell_type": "markdown",
      "source": [
        "#####Scaling"
      ],
      "metadata": {
        "id": "9kr0orx1JU9j"
      }
    },
    {
      "cell_type": "code",
      "source": [
        "X = X / 255.0  # Scale the pixel values to the range [0, 1]"
      ],
      "metadata": {
        "id": "EapUjz3aDNyg"
      },
      "execution_count": null,
      "outputs": []
    },
    {
      "cell_type": "markdown",
      "source": [
        "#####Splitting the data"
      ],
      "metadata": {
        "id": "7EzptjeKJWz-"
      }
    },
    {
      "cell_type": "code",
      "source": [
        "X_train, X_test, y_train, y_test = train_test_split(X, y, test_size=0.2, random_state=42)"
      ],
      "metadata": {
        "id": "ioPQzWLKDSNI"
      },
      "execution_count": null,
      "outputs": []
    },
    {
      "cell_type": "markdown",
      "source": [
        "###2. Model Building"
      ],
      "metadata": {
        "id": "kJpUTDS299fB"
      }
    },
    {
      "cell_type": "markdown",
      "source": [
        "Selection of an aprpropiate 'k' value and implementation of knn algorithm"
      ],
      "metadata": {
        "id": "SZwChXV5-40l"
      }
    },
    {
      "cell_type": "code",
      "source": [
        "#The choice of the k value in K-Nearest Neighbors (KNN) is a critical decision and should be based on experimentation and problem-specific considerations.\n",
        "# In the context of classifying handwritten digits using KNN, k=5\n",
        "k_value = 5\n",
        "knn = KNeighborsClassifier(n_neighbors=k_value)\n",
        "knn.fit(X_train, y_train)"
      ],
      "metadata": {
        "id": "Hg-BRbZE9M2t",
        "colab": {
          "base_uri": "https://localhost:8080/",
          "height": 74
        },
        "outputId": "d8283c54-405c-4f42-fe87-96125a51a87c"
      },
      "execution_count": null,
      "outputs": [
        {
          "output_type": "execute_result",
          "data": {
            "text/plain": [
              "KNeighborsClassifier()"
            ],
            "text/html": [
              "<style>#sk-container-id-3 {color: black;background-color: white;}#sk-container-id-3 pre{padding: 0;}#sk-container-id-3 div.sk-toggleable {background-color: white;}#sk-container-id-3 label.sk-toggleable__label {cursor: pointer;display: block;width: 100%;margin-bottom: 0;padding: 0.3em;box-sizing: border-box;text-align: center;}#sk-container-id-3 label.sk-toggleable__label-arrow:before {content: \"▸\";float: left;margin-right: 0.25em;color: #696969;}#sk-container-id-3 label.sk-toggleable__label-arrow:hover:before {color: black;}#sk-container-id-3 div.sk-estimator:hover label.sk-toggleable__label-arrow:before {color: black;}#sk-container-id-3 div.sk-toggleable__content {max-height: 0;max-width: 0;overflow: hidden;text-align: left;background-color: #f0f8ff;}#sk-container-id-3 div.sk-toggleable__content pre {margin: 0.2em;color: black;border-radius: 0.25em;background-color: #f0f8ff;}#sk-container-id-3 input.sk-toggleable__control:checked~div.sk-toggleable__content {max-height: 200px;max-width: 100%;overflow: auto;}#sk-container-id-3 input.sk-toggleable__control:checked~label.sk-toggleable__label-arrow:before {content: \"▾\";}#sk-container-id-3 div.sk-estimator input.sk-toggleable__control:checked~label.sk-toggleable__label {background-color: #d4ebff;}#sk-container-id-3 div.sk-label input.sk-toggleable__control:checked~label.sk-toggleable__label {background-color: #d4ebff;}#sk-container-id-3 input.sk-hidden--visually {border: 0;clip: rect(1px 1px 1px 1px);clip: rect(1px, 1px, 1px, 1px);height: 1px;margin: -1px;overflow: hidden;padding: 0;position: absolute;width: 1px;}#sk-container-id-3 div.sk-estimator {font-family: monospace;background-color: #f0f8ff;border: 1px dotted black;border-radius: 0.25em;box-sizing: border-box;margin-bottom: 0.5em;}#sk-container-id-3 div.sk-estimator:hover {background-color: #d4ebff;}#sk-container-id-3 div.sk-parallel-item::after {content: \"\";width: 100%;border-bottom: 1px solid gray;flex-grow: 1;}#sk-container-id-3 div.sk-label:hover label.sk-toggleable__label {background-color: #d4ebff;}#sk-container-id-3 div.sk-serial::before {content: \"\";position: absolute;border-left: 1px solid gray;box-sizing: border-box;top: 0;bottom: 0;left: 50%;z-index: 0;}#sk-container-id-3 div.sk-serial {display: flex;flex-direction: column;align-items: center;background-color: white;padding-right: 0.2em;padding-left: 0.2em;position: relative;}#sk-container-id-3 div.sk-item {position: relative;z-index: 1;}#sk-container-id-3 div.sk-parallel {display: flex;align-items: stretch;justify-content: center;background-color: white;position: relative;}#sk-container-id-3 div.sk-item::before, #sk-container-id-3 div.sk-parallel-item::before {content: \"\";position: absolute;border-left: 1px solid gray;box-sizing: border-box;top: 0;bottom: 0;left: 50%;z-index: -1;}#sk-container-id-3 div.sk-parallel-item {display: flex;flex-direction: column;z-index: 1;position: relative;background-color: white;}#sk-container-id-3 div.sk-parallel-item:first-child::after {align-self: flex-end;width: 50%;}#sk-container-id-3 div.sk-parallel-item:last-child::after {align-self: flex-start;width: 50%;}#sk-container-id-3 div.sk-parallel-item:only-child::after {width: 0;}#sk-container-id-3 div.sk-dashed-wrapped {border: 1px dashed gray;margin: 0 0.4em 0.5em 0.4em;box-sizing: border-box;padding-bottom: 0.4em;background-color: white;}#sk-container-id-3 div.sk-label label {font-family: monospace;font-weight: bold;display: inline-block;line-height: 1.2em;}#sk-container-id-3 div.sk-label-container {text-align: center;}#sk-container-id-3 div.sk-container {/* jupyter's `normalize.less` sets `[hidden] { display: none; }` but bootstrap.min.css set `[hidden] { display: none !important; }` so we also need the `!important` here to be able to override the default hidden behavior on the sphinx rendered scikit-learn.org. See: https://github.com/scikit-learn/scikit-learn/issues/21755 */display: inline-block !important;position: relative;}#sk-container-id-3 div.sk-text-repr-fallback {display: none;}</style><div id=\"sk-container-id-3\" class=\"sk-top-container\"><div class=\"sk-text-repr-fallback\"><pre>KNeighborsClassifier()</pre><b>In a Jupyter environment, please rerun this cell to show the HTML representation or trust the notebook. <br />On GitHub, the HTML representation is unable to render, please try loading this page with nbviewer.org.</b></div><div class=\"sk-container\" hidden><div class=\"sk-item\"><div class=\"sk-estimator sk-toggleable\"><input class=\"sk-toggleable__control sk-hidden--visually\" id=\"sk-estimator-id-3\" type=\"checkbox\" checked><label for=\"sk-estimator-id-3\" class=\"sk-toggleable__label sk-toggleable__label-arrow\">KNeighborsClassifier</label><div class=\"sk-toggleable__content\"><pre>KNeighborsClassifier()</pre></div></div></div></div></div>"
            ]
          },
          "metadata": {},
          "execution_count": 19
        }
      ]
    },
    {
      "cell_type": "markdown",
      "source": [
        "###3. Model Evaluation"
      ],
      "metadata": {
        "id": "GV-GotTW-G5m"
      }
    },
    {
      "cell_type": "markdown",
      "source": [
        "Evaluation of the model using accuracy, precision, recall, f1-score"
      ],
      "metadata": {
        "id": "l_771_kL-3NG"
      }
    },
    {
      "cell_type": "code",
      "source": [
        "y_pred = knn.predict(X_test)\n",
        "\n",
        "accuracy = accuracy_score(y_test, y_pred)\n",
        "precision = precision_score(y_test, y_pred, average='weighted')\n",
        "recall = recall_score(y_test, y_pred, average='weighted')\n",
        "f1 = f1_score(y_test, y_pred, average='weighted')\n",
        "\n",
        "print(f'Accuracy: {accuracy:.4f}')\n",
        "print(f'Precision: {precision:.4f}')\n",
        "print(f'Recall: {recall:.4f}')\n",
        "print(f'F1 Score: {f1:.4f}')"
      ],
      "metadata": {
        "id": "HYxF6q8e-MFl",
        "colab": {
          "base_uri": "https://localhost:8080/"
        },
        "outputId": "c2378bd8-f749-47a8-c499-dd1f25882e3e"
      },
      "execution_count": null,
      "outputs": [
        {
          "output_type": "stream",
          "name": "stdout",
          "text": [
            "Accuracy: 0.9861\n",
            "Precision: 0.9862\n",
            "Recall: 0.9861\n",
            "F1 Score: 0.9861\n"
          ]
        }
      ]
    },
    {
      "cell_type": "markdown",
      "source": [
        "### 4. Visualization"
      ],
      "metadata": {
        "id": "yNSy6pOb-Lcv"
      }
    },
    {
      "cell_type": "markdown",
      "source": [
        "Visualization of some correctly and incorrectly classified digits"
      ],
      "metadata": {
        "id": "SLg9wjMdKBUJ"
      }
    },
    {
      "cell_type": "code",
      "source": [
        "correctly_classified = np.where(y_pred == y_test)[0]\n",
        "incorrectly_classified = np.where(y_pred != y_test)[0]\n"
      ],
      "metadata": {
        "id": "iEOuSXQqAexx"
      },
      "execution_count": null,
      "outputs": []
    },
    {
      "cell_type": "code",
      "source": [
        "plt.figure(figsize=(12, 6))\n",
        "for i, idx in enumerate(correctly_classified[:5]):\n",
        "    plt.subplot(2, 5, i + 1)\n",
        "    plt.imshow(X_test[idx].reshape(8, 8), cmap='gray')\n",
        "    plt.title(f'Pred: {y_pred[idx]}, Actual: {y_test[idx]}')\n",
        "    plt.axis('off')"
      ],
      "metadata": {
        "colab": {
          "base_uri": "https://localhost:8080/",
          "height": 219
        },
        "id": "b2gcK3T6Dpzo",
        "outputId": "b060f4d7-c12b-4802-b110-fdd22e3a159c"
      },
      "execution_count": null,
      "outputs": [
        {
          "output_type": "display_data",
          "data": {
            "text/plain": [
              "<Figure size 1200x600 with 5 Axes>"
            ],
            "image/png": "[encoded data removed]"
          },
          "metadata": {}
        }
      ]
    },
    {
      "cell_type": "code",
      "source": [
        "plt.figure(figsize=(12, 6))\n",
        "for i, idx in enumerate(incorrectly_classified[:5]):\n",
        "    plt.subplot(2, 5, i + 6)\n",
        "    plt.imshow(X_test[idx].reshape(8, 8), cmap='gray')\n",
        "    plt.title(f'Pred: {y_pred[idx]}, Actual: {y_test[idx]}')\n",
        "    plt.axis('off')"
      ],
      "metadata": {
        "colab": {
          "base_uri": "https://localhost:8080/",
          "height": 219
        },
        "id": "W0Rr83G3DxGd",
        "outputId": "dae13f0b-7154-49aa-a060-5e6e1a3b91c7"
      },
      "execution_count": null,
      "outputs": [
        {
          "output_type": "display_data",
          "data": {
            "text/plain": [
              "<Figure size 1200x600 with 5 Axes>"
            ],
            "image/png": "[encoded data removed]"
          },
          "metadata": {}
        }
      ]
    }
  ]
}