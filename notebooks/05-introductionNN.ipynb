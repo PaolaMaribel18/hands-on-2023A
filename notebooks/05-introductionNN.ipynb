{
  "nbformat": 4,
  "nbformat_minor": 0,
  "metadata": {
    "colab": {
      "provenance": []
    },
    "kernelspec": {
      "name": "python3",
      "display_name": "Python 3"
    },
    "language_info": {
      "name": "python"
    },
    "accelerator": "TPU"
  },
  "cells": [
    {
      "cell_type": "markdown",
      "source": [
        "#5 Introduction to Neural Networks in Python"
      ],
      "metadata": {
        "id": "0D-deSh0UWi1"
      }
    },
    {
      "cell_type": "markdown",
      "source": [
        "Neural networks have revolutionized the field of AI and are the backbone of many cutting-edge technologies we interact with daily. Understanding the basics of neural networks is crucial for anyone interested in ML and AI, as they provide the foundation to explore more advanced techniques and contribute to groundbreaking innovations."
      ],
      "metadata": {
        "id": "nnH-n36wUXW8"
      }
    },
    {
      "cell_type": "markdown",
      "source": [
        "##Exercise: Building a Neural Network Classifier"
      ],
      "metadata": {
        "id": "GDvE97I4UYiE"
      }
    },
    {
      "cell_type": "markdown",
      "source": [
        "Objective: Build a neural network classifier using TensorFlow and apply it to a classification task.\n",
        "\n"
      ],
      "metadata": {
        "id": "-4-cKTOqVUW8"
      }
    },
    {
      "cell_type": "markdown",
      "source": [
        "###Importing libraries"
      ],
      "metadata": {
        "id": "PLXAVFT7WJrV"
      }
    },
    {
      "cell_type": "code",
      "execution_count": null,
      "metadata": {
        "id": "gAf4qIceK6Ye"
      },
      "outputs": [],
      "source": [
        "import tensorflow as tf\n",
        "from tensorflow import keras\n",
        "import pandas as pd\n",
        "import numpy as np\n"
      ]
    },
    {
      "cell_type": "markdown",
      "source": [
        "###Splitting dataset"
      ],
      "metadata": {
        "id": "ti05UiL6WQRs"
      }
    },
    {
      "cell_type": "markdown",
      "source": [
        "For this example, we'll use the MNIST handwritten digits dataset. We have to split the dataset it into training and testing sets. The MNIST dataset is loaded using keras.datasets.mnist.load_data(), and the pixel values are normalized to the range of 0 to 1."
      ],
      "metadata": {
        "id": "jQldEDDlVeHM"
      }
    },
    {
      "cell_type": "code",
      "source": [
        "# Divide dataset into Train and Test sets\n",
        "(x_train, y_train), (x_test, y_test) = keras.datasets.mnist.load_data()\n",
        "x_train"
      ],
      "metadata": {
        "colab": {
          "base_uri": "https://localhost:8080/"
        },
        "id": "5Je2fQ_GPKUN",
        "outputId": "cc414a4a-f60d-4888-c52f-3ff1053ab3c1"
      },
      "execution_count": null,
      "outputs": [
        {
          "output_type": "execute_result",
          "data": {
            "text/plain": [
              "array([[[0, 0, 0, ..., 0, 0, 0],\n",
              "        [0, 0, 0, ..., 0, 0, 0],\n",
              "        [0, 0, 0, ..., 0, 0, 0],\n",
              "        ...,\n",
              "        [0, 0, 0, ..., 0, 0, 0],\n",
              "        [0, 0, 0, ..., 0, 0, 0],\n",
              "        [0, 0, 0, ..., 0, 0, 0]],\n",
              "\n",
              "       [[0, 0, 0, ..., 0, 0, 0],\n",
              "        [0, 0, 0, ..., 0, 0, 0],\n",
              "        [0, 0, 0, ..., 0, 0, 0],\n",
              "        ...,\n",
              "        [0, 0, 0, ..., 0, 0, 0],\n",
              "        [0, 0, 0, ..., 0, 0, 0],\n",
              "        [0, 0, 0, ..., 0, 0, 0]],\n",
              "\n",
              "       [[0, 0, 0, ..., 0, 0, 0],\n",
              "        [0, 0, 0, ..., 0, 0, 0],\n",
              "        [0, 0, 0, ..., 0, 0, 0],\n",
              "        ...,\n",
              "        [0, 0, 0, ..., 0, 0, 0],\n",
              "        [0, 0, 0, ..., 0, 0, 0],\n",
              "        [0, 0, 0, ..., 0, 0, 0]],\n",
              "\n",
              "       ...,\n",
              "\n",
              "       [[0, 0, 0, ..., 0, 0, 0],\n",
              "        [0, 0, 0, ..., 0, 0, 0],\n",
              "        [0, 0, 0, ..., 0, 0, 0],\n",
              "        ...,\n",
              "        [0, 0, 0, ..., 0, 0, 0],\n",
              "        [0, 0, 0, ..., 0, 0, 0],\n",
              "        [0, 0, 0, ..., 0, 0, 0]],\n",
              "\n",
              "       [[0, 0, 0, ..., 0, 0, 0],\n",
              "        [0, 0, 0, ..., 0, 0, 0],\n",
              "        [0, 0, 0, ..., 0, 0, 0],\n",
              "        ...,\n",
              "        [0, 0, 0, ..., 0, 0, 0],\n",
              "        [0, 0, 0, ..., 0, 0, 0],\n",
              "        [0, 0, 0, ..., 0, 0, 0]],\n",
              "\n",
              "       [[0, 0, 0, ..., 0, 0, 0],\n",
              "        [0, 0, 0, ..., 0, 0, 0],\n",
              "        [0, 0, 0, ..., 0, 0, 0],\n",
              "        ...,\n",
              "        [0, 0, 0, ..., 0, 0, 0],\n",
              "        [0, 0, 0, ..., 0, 0, 0],\n",
              "        [0, 0, 0, ..., 0, 0, 0]]], dtype=uint8)"
            ]
          },
          "metadata": {},
          "execution_count": 12
        }
      ]
    },
    {
      "cell_type": "code",
      "source": [
        "# Normalize pixel values to the range of 0 to 1\n",
        "x_train = x_train / 255.0\n",
        "x_test = x_test / 255.0"
      ],
      "metadata": {
        "id": "tE953bQlQ1R8"
      },
      "execution_count": null,
      "outputs": []
    },
    {
      "cell_type": "markdown",
      "source": [
        "###Neural Network Architecture"
      ],
      "metadata": {
        "id": "uhOzcZ7dWU10"
      }
    },
    {
      "cell_type": "markdown",
      "source": [
        "A sequential model is defined using keras.Sequential(). It consists of a Flatten layer to convert the 2D images into a 1D array, a fully connected Dense layer with ReLU activation, and a final Dense layer with softmax activation for multi-class classification."
      ],
      "metadata": {
        "id": "5dfJoCGuVhil"
      }
    },
    {
      "cell_type": "code",
      "source": [
        "# Specify the Neural Network Architecture\n",
        "model = keras.Sequential([\n",
        "    keras.layers.Flatten(input_shape=(28, 28)),\n",
        "    keras.layers.Dense(128, activation='relu'),\n",
        "    keras.layers.Dense(10, activation='softmax')\n",
        "])"
      ],
      "metadata": {
        "id": "uz4KCB0-PZt4"
      },
      "execution_count": null,
      "outputs": []
    },
    {
      "cell_type": "markdown",
      "source": [
        "###Model Compilation"
      ],
      "metadata": {
        "id": "3qa_F03uWecz"
      }
    },
    {
      "cell_type": "markdown",
      "source": [
        "The model is compiled using model.compile(). We specify the optimizer as 'adam', the loss function as 'sparse_categorical_crossentropy' (suitable for integer labels), and the evaluation metric as accuracy."
      ],
      "metadata": {
        "id": "VJLio8ynVlXb"
      }
    },
    {
      "cell_type": "code",
      "source": [
        "# Model Compilation\n",
        "model.compile(optimizer='adam',\n",
        "              loss='sparse_categorical_crossentropy',\n",
        "              metrics=['accuracy'])"
      ],
      "metadata": {
        "id": "cv0Gvt5SRUNH"
      },
      "execution_count": null,
      "outputs": []
    },
    {
      "cell_type": "markdown",
      "source": [
        "###Model Training"
      ],
      "metadata": {
        "id": "aZZ4i6OXWsIL"
      }
    },
    {
      "cell_type": "markdown",
      "source": [
        "The model is trained on the training data using model.fit(). We specify the number of epochs (5) and the batch size (32).\n",
        "\n"
      ],
      "metadata": {
        "id": "wLaky-FDVtjL"
      }
    },
    {
      "cell_type": "code",
      "source": [
        "# Model Training\n",
        "model.fit(x_train, y_train, epochs=5, batch_size=32)"
      ],
      "metadata": {
        "colab": {
          "base_uri": "https://localhost:8080/"
        },
        "id": "dHXAb7IrRZfD",
        "outputId": "f1dc952e-438a-4daa-8e06-f0e3efd850f8"
      },
      "execution_count": null,
      "outputs": [
        {
          "output_type": "stream",
          "name": "stdout",
          "text": [
            "Epoch 1/5\n",
            "1875/1875 [==============================] - 10s 5ms/step - loss: 0.2573 - accuracy: 0.9277\n",
            "Epoch 2/5\n",
            "1875/1875 [==============================] - 8s 5ms/step - loss: 0.1119 - accuracy: 0.9665\n",
            "Epoch 3/5\n",
            "1875/1875 [==============================] - 8s 4ms/step - loss: 0.0768 - accuracy: 0.9772\n",
            "Epoch 4/5\n",
            "1875/1875 [==============================] - 9s 5ms/step - loss: 0.0579 - accuracy: 0.9821\n",
            "Epoch 5/5\n",
            "1875/1875 [==============================] - 9s 5ms/step - loss: 0.0450 - accuracy: 0.9854\n"
          ]
        },
        {
          "output_type": "execute_result",
          "data": {
            "text/plain": [
              "<keras.callbacks.History at 0x7f6e8873ae00>"
            ]
          },
          "metadata": {},
          "execution_count": 16
        }
      ]
    },
    {
      "cell_type": "markdown",
      "source": [
        "###Model Evaluation"
      ],
      "metadata": {
        "id": "TjlbwNpqW6Qj"
      }
    },
    {
      "cell_type": "markdown",
      "source": [
        "The model is evaluated on the testing data using model.evaluate(), which returns the test loss and test accuracy.\n",
        "\n"
      ],
      "metadata": {
        "id": "JLmByi5tV28E"
      }
    },
    {
      "cell_type": "code",
      "source": [
        "# Step 5: Model Evaluation\n",
        "test_loss, test_acc = model.evaluate(x_test, y_test)\n",
        "print('Test loss:', test_loss)\n",
        "print('Test accuracy:', test_acc)"
      ],
      "metadata": {
        "colab": {
          "base_uri": "https://localhost:8080/"
        },
        "id": "4fvl1BrVSNFr",
        "outputId": "c5ceae14-d246-4320-9939-1f7fa7f7fb3e"
      },
      "execution_count": null,
      "outputs": [
        {
          "output_type": "stream",
          "name": "stdout",
          "text": [
            "313/313 [==============================] - 1s 2ms/step - loss: 0.0710 - accuracy: 0.9790\n",
            "Test loss: 0.07103545218706131\n",
            "Test accuracy: 0.9789999723434448\n"
          ]
        }
      ]
    },
    {
      "cell_type": "markdown",
      "source": [
        "###Model Testing"
      ],
      "metadata": {
        "id": "hRA_WngCW_4L"
      }
    },
    {
      "cell_type": "markdown",
      "source": [
        "The model is used to make predictions on the first five examples from the testing data. The predictions are obtained using model.predict(), and the predicted labels and true labels are displayed."
      ],
      "metadata": {
        "id": "6Jkqwlw5V4nE"
      }
    },
    {
      "cell_type": "code",
      "source": [
        "# Model Testing\n",
        "predictions = model.predict(x_test)\n",
        "for i in range(5):\n",
        "    predicted_label = tf.argmax(predictions[i])\n",
        "    true_label = y_test[i]\n",
        "    print(\"Predicted label:\", predicted_label.numpy())\n",
        "    print(\"True label:\", true_label)"
      ],
      "metadata": {
        "colab": {
          "base_uri": "https://localhost:8080/"
        },
        "id": "3k2Ep6-nSRxq",
        "outputId": "5cafd29f-82e3-46d7-afc8-0b9daa10434d"
      },
      "execution_count": null,
      "outputs": [
        {
          "output_type": "stream",
          "name": "stdout",
          "text": [
            "313/313 [==============================] - 1s 2ms/step\n",
            "Predicted label: 7\n",
            "True label: 7\n",
            "Predicted label: 2\n",
            "True label: 2\n",
            "Predicted label: 1\n",
            "True label: 1\n",
            "Predicted label: 0\n",
            "True label: 0\n",
            "Predicted label: 4\n",
            "True label: 4\n"
          ]
        }
      ]
    }
  ]
}