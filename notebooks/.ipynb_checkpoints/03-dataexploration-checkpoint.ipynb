{
 "cells": [
  {
   "cell_type": "markdown",
   "id": "a9dd9ff3-7e7b-4239-a285-9edd2f8df0b4",
   "metadata": {
    "tags": []
   },
   "source": [
    "# 03. Hands On: Data Exploration"
   ]
  },
  {
   "cell_type": "markdown",
   "id": "a11e80cd-b2e9-4abe-99a2-6ce6d9214096",
   "metadata": {},
   "source": [
    "## 1 Summarization"
   ]
  },
  {
   "cell_type": "markdown",
   "id": "d5f29016-5c05-4011-ab80-249077b94bd4",
   "metadata": {},
   "source": [
    "Load the data set carIns final. It already has the imputation of missing values."
   ]
  },
  {
   "cell_type": "code",
   "execution_count": 2,
   "id": "22a9904b-b035-43bf-a731-572bfef158a8",
   "metadata": {},
   "outputs": [
    {
     "data": {
      "text/html": [
       "<table>\n",
       "<thead><tr><th scope=col>symb</th><th scope=col>normLoss</th><th scope=col>make</th><th scope=col>fuelType</th><th scope=col>aspiration</th><th scope=col>nDoors</th><th scope=col>bodyStyle</th><th scope=col>driveWheels</th><th scope=col>engineLocation</th><th scope=col>wheelBase</th><th scope=col>...</th><th scope=col>engineSize</th><th scope=col>fuelSystem</th><th scope=col>bore</th><th scope=col>stroke</th><th scope=col>compressionRatio</th><th scope=col>horsePower</th><th scope=col>peakRpm</th><th scope=col>cityMpg</th><th scope=col>highwayMpg</th><th scope=col>price</th></tr></thead>\n",
       "<tbody>\n",
       "\t<tr><td>3          </td><td>161        </td><td>alfa-romero</td><td>gas        </td><td>std        </td><td>two        </td><td>convertible</td><td>rwd        </td><td>front      </td><td>88.6       </td><td>...        </td><td>130        </td><td>mpfi       </td><td>3.47       </td><td>2.68       </td><td> 9         </td><td>111        </td><td>5000       </td><td>21         </td><td>27         </td><td>13495      </td></tr>\n",
       "\t<tr><td>3          </td><td>161        </td><td>alfa-romero</td><td>gas        </td><td>std        </td><td>two        </td><td>convertible</td><td>rwd        </td><td>front      </td><td>88.6       </td><td>...        </td><td>130        </td><td>mpfi       </td><td>3.47       </td><td>2.68       </td><td> 9         </td><td>111        </td><td>5000       </td><td>21         </td><td>27         </td><td>16500      </td></tr>\n",
       "\t<tr><td>1          </td><td>161        </td><td>alfa-romero</td><td>gas        </td><td>std        </td><td>two        </td><td>hatchback  </td><td>rwd        </td><td>front      </td><td>94.5       </td><td>...        </td><td>152        </td><td>mpfi       </td><td>2.68       </td><td>3.47       </td><td> 9         </td><td>154        </td><td>5000       </td><td>19         </td><td>26         </td><td>16500      </td></tr>\n",
       "\t<tr><td>2          </td><td>164        </td><td>audi       </td><td>gas        </td><td>std        </td><td>four       </td><td>sedan      </td><td>fwd        </td><td>front      </td><td>99.8       </td><td>...        </td><td>109        </td><td>mpfi       </td><td>3.19       </td><td>3.40       </td><td>10         </td><td>102        </td><td>5500       </td><td>24         </td><td>30         </td><td>13950      </td></tr>\n",
       "\t<tr><td>2          </td><td>164        </td><td>audi       </td><td>gas        </td><td>std        </td><td>four       </td><td>sedan      </td><td>4wd        </td><td>front      </td><td>99.4       </td><td>...        </td><td>136        </td><td>mpfi       </td><td>3.19       </td><td>3.40       </td><td> 8         </td><td>115        </td><td>5500       </td><td>18         </td><td>22         </td><td>17450      </td></tr>\n",
       "</tbody>\n",
       "</table>\n"
      ],
      "text/latex": [
       "\\begin{tabular}{r|llllllllllllllllllllllllll}\n",
       " symb & normLoss & make & fuelType & aspiration & nDoors & bodyStyle & driveWheels & engineLocation & wheelBase & ... & engineSize & fuelSystem & bore & stroke & compressionRatio & horsePower & peakRpm & cityMpg & highwayMpg & price\\\\\n",
       "\\hline\n",
       "\t 3           & 161         & alfa-romero & gas         & std         & two         & convertible & rwd         & front       & 88.6        & ...         & 130         & mpfi        & 3.47        & 2.68        &  9          & 111         & 5000        & 21          & 27          & 13495      \\\\\n",
       "\t 3           & 161         & alfa-romero & gas         & std         & two         & convertible & rwd         & front       & 88.6        & ...         & 130         & mpfi        & 3.47        & 2.68        &  9          & 111         & 5000        & 21          & 27          & 16500      \\\\\n",
       "\t 1           & 161         & alfa-romero & gas         & std         & two         & hatchback   & rwd         & front       & 94.5        & ...         & 152         & mpfi        & 2.68        & 3.47        &  9          & 154         & 5000        & 19          & 26          & 16500      \\\\\n",
       "\t 2           & 164         & audi        & gas         & std         & four        & sedan       & fwd         & front       & 99.8        & ...         & 109         & mpfi        & 3.19        & 3.40        & 10          & 102         & 5500        & 24          & 30          & 13950      \\\\\n",
       "\t 2           & 164         & audi        & gas         & std         & four        & sedan       & 4wd         & front       & 99.4        & ...         & 136         & mpfi        & 3.19        & 3.40        &  8          & 115         & 5500        & 18          & 22          & 17450      \\\\\n",
       "\\end{tabular}\n"
      ],
      "text/markdown": [
       "\n",
       "| symb | normLoss | make | fuelType | aspiration | nDoors | bodyStyle | driveWheels | engineLocation | wheelBase | ... | engineSize | fuelSystem | bore | stroke | compressionRatio | horsePower | peakRpm | cityMpg | highwayMpg | price |\n",
       "|---|---|---|---|---|---|---|---|---|---|---|---|---|---|---|---|---|---|---|---|---|\n",
       "| 3           | 161         | alfa-romero | gas         | std         | two         | convertible | rwd         | front       | 88.6        | ...         | 130         | mpfi        | 3.47        | 2.68        |  9          | 111         | 5000        | 21          | 27          | 13495       |\n",
       "| 3           | 161         | alfa-romero | gas         | std         | two         | convertible | rwd         | front       | 88.6        | ...         | 130         | mpfi        | 3.47        | 2.68        |  9          | 111         | 5000        | 21          | 27          | 16500       |\n",
       "| 1           | 161         | alfa-romero | gas         | std         | two         | hatchback   | rwd         | front       | 94.5        | ...         | 152         | mpfi        | 2.68        | 3.47        |  9          | 154         | 5000        | 19          | 26          | 16500       |\n",
       "| 2           | 164         | audi        | gas         | std         | four        | sedan       | fwd         | front       | 99.8        | ...         | 109         | mpfi        | 3.19        | 3.40        | 10          | 102         | 5500        | 24          | 30          | 13950       |\n",
       "| 2           | 164         | audi        | gas         | std         | four        | sedan       | 4wd         | front       | 99.4        | ...         | 136         | mpfi        | 3.19        | 3.40        |  8          | 115         | 5500        | 18          | 22          | 17450       |\n",
       "\n"
      ],
      "text/plain": [
       "  symb normLoss make        fuelType aspiration nDoors bodyStyle   driveWheels\n",
       "1 3    161      alfa-romero gas      std        two    convertible rwd        \n",
       "2 3    161      alfa-romero gas      std        two    convertible rwd        \n",
       "3 1    161      alfa-romero gas      std        two    hatchback   rwd        \n",
       "4 2    164      audi        gas      std        four   sedan       fwd        \n",
       "5 2    164      audi        gas      std        four   sedan       4wd        \n",
       "  engineLocation wheelBase ... engineSize fuelSystem bore stroke\n",
       "1 front          88.6      ... 130        mpfi       3.47 2.68  \n",
       "2 front          88.6      ... 130        mpfi       3.47 2.68  \n",
       "3 front          94.5      ... 152        mpfi       2.68 3.47  \n",
       "4 front          99.8      ... 109        mpfi       3.19 3.40  \n",
       "5 front          99.4      ... 136        mpfi       3.19 3.40  \n",
       "  compressionRatio horsePower peakRpm cityMpg highwayMpg price\n",
       "1  9               111        5000    21      27         13495\n",
       "2  9               111        5000    21      27         16500\n",
       "3  9               154        5000    19      26         16500\n",
       "4 10               102        5500    24      30         13950\n",
       "5  8               115        5500    18      22         17450"
      ]
     },
     "metadata": {},
     "output_type": "display_data"
    }
   ],
   "source": [
    "#Load the data set\n",
    "load(\"C:/Users/pcuser/Documents/GitHub/hands-on-2023A/data/03_dataexploration/carIns_final.Rdata\")\n",
    "\n",
    "head(carIns_final,5)"
   ]
  },
  {
   "cell_type": "markdown",
   "id": "5f5047b0-d1fd-4e74-bcdd-b58b0c9e9b72",
   "metadata": {},
   "source": [
    "### 1. Using the package dplyr, answer the following questions:"
   ]
  },
  {
   "cell_type": "code",
   "execution_count": 3,
   "id": "5dfedbd8-3c56-46d0-bd16-a5505c6a68c2",
   "metadata": {},
   "outputs": [
    {
     "name": "stderr",
     "output_type": "stream",
     "text": [
      "\n",
      "Attaching package: 'dplyr'\n",
      "\n",
      "The following objects are masked from 'package:stats':\n",
      "\n",
      "    filter, lag\n",
      "\n",
      "The following objects are masked from 'package:base':\n",
      "\n",
      "    intersect, setdiff, setequal, union\n",
      "\n"
     ]
    }
   ],
   "source": [
    "#Load packages\n",
    "library(dplyr)"
   ]
  },
  {
   "cell_type": "markdown",
   "id": "adea3cf7-28a3-4897-b58a-2905e978c66b",
   "metadata": {},
   "source": [
    "#### (a) Obtain the number of cars by bodyStyle."
   ]
  },
  {
   "cell_type": "code",
   "execution_count": 4,
   "id": "5eb0661f-2cd9-4e7e-854b-5d461f73beeb",
   "metadata": {},
   "outputs": [
    {
     "data": {
      "text/html": [
       "<table>\n",
       "<thead><tr><th scope=col>bodyStyle</th><th scope=col>n</th></tr></thead>\n",
       "<tbody>\n",
       "\t<tr><td>convertible</td><td> 6         </td></tr>\n",
       "\t<tr><td>hardtop    </td><td> 8         </td></tr>\n",
       "\t<tr><td>hatchback  </td><td>70         </td></tr>\n",
       "\t<tr><td>sedan      </td><td>96         </td></tr>\n",
       "\t<tr><td>wagon      </td><td>25         </td></tr>\n",
       "</tbody>\n",
       "</table>\n"
      ],
      "text/latex": [
       "\\begin{tabular}{r|ll}\n",
       " bodyStyle & n\\\\\n",
       "\\hline\n",
       "\t convertible &  6         \\\\\n",
       "\t hardtop     &  8         \\\\\n",
       "\t hatchback   & 70         \\\\\n",
       "\t sedan       & 96         \\\\\n",
       "\t wagon       & 25         \\\\\n",
       "\\end{tabular}\n"
      ],
      "text/markdown": [
       "\n",
       "| bodyStyle | n |\n",
       "|---|---|\n",
       "| convertible |  6          |\n",
       "| hardtop     |  8          |\n",
       "| hatchback   | 70          |\n",
       "| sedan       | 96          |\n",
       "| wagon       | 25          |\n",
       "\n"
      ],
      "text/plain": [
       "  bodyStyle   n \n",
       "1 convertible  6\n",
       "2 hardtop      8\n",
       "3 hatchback   70\n",
       "4 sedan       96\n",
       "5 wagon       25"
      ]
     },
     "metadata": {},
     "output_type": "display_data"
    }
   ],
   "source": [
    "#'group_by' function is used to group the data by bodyStyle\n",
    "carIns_final %>% group_by(bodyStyle) %>% count()"
   ]
  },
  {
   "cell_type": "markdown",
   "id": "c0ccab54-df27-46d5-8042-5c27f86ab651",
   "metadata": {},
   "source": [
    "#### (b) Obtain the number of cars by bodyStyle and fuelType."
   ]
  },
  {
   "cell_type": "code",
   "execution_count": 9,
   "id": "21013fd7-2a5e-4501-a1da-2dae28958981",
   "metadata": {},
   "outputs": [
    {
     "data": {
      "text/html": [
       "<table>\n",
       "<thead><tr><th scope=col>bodyStyle</th><th scope=col>fuelType</th><th scope=col>n</th></tr></thead>\n",
       "<tbody>\n",
       "\t<tr><td>convertible</td><td>gas        </td><td> 6         </td></tr>\n",
       "\t<tr><td>hardtop    </td><td>diesel     </td><td> 1         </td></tr>\n",
       "\t<tr><td>hardtop    </td><td>gas        </td><td> 7         </td></tr>\n",
       "\t<tr><td>hatchback  </td><td>diesel     </td><td> 1         </td></tr>\n",
       "\t<tr><td>hatchback  </td><td>gas        </td><td>69         </td></tr>\n",
       "\t<tr><td>sedan      </td><td>diesel     </td><td>15         </td></tr>\n",
       "\t<tr><td>sedan      </td><td>gas        </td><td>81         </td></tr>\n",
       "\t<tr><td>wagon      </td><td>diesel     </td><td> 3         </td></tr>\n",
       "\t<tr><td>wagon      </td><td>gas        </td><td>22         </td></tr>\n",
       "</tbody>\n",
       "</table>\n"
      ],
      "text/latex": [
       "\\begin{tabular}{r|lll}\n",
       " bodyStyle & fuelType & n\\\\\n",
       "\\hline\n",
       "\t convertible & gas         &  6         \\\\\n",
       "\t hardtop     & diesel      &  1         \\\\\n",
       "\t hardtop     & gas         &  7         \\\\\n",
       "\t hatchback   & diesel      &  1         \\\\\n",
       "\t hatchback   & gas         & 69         \\\\\n",
       "\t sedan       & diesel      & 15         \\\\\n",
       "\t sedan       & gas         & 81         \\\\\n",
       "\t wagon       & diesel      &  3         \\\\\n",
       "\t wagon       & gas         & 22         \\\\\n",
       "\\end{tabular}\n"
      ],
      "text/markdown": [
       "\n",
       "| bodyStyle | fuelType | n |\n",
       "|---|---|---|\n",
       "| convertible | gas         |  6          |\n",
       "| hardtop     | diesel      |  1          |\n",
       "| hardtop     | gas         |  7          |\n",
       "| hatchback   | diesel      |  1          |\n",
       "| hatchback   | gas         | 69          |\n",
       "| sedan       | diesel      | 15          |\n",
       "| sedan       | gas         | 81          |\n",
       "| wagon       | diesel      |  3          |\n",
       "| wagon       | gas         | 22          |\n",
       "\n"
      ],
      "text/plain": [
       "  bodyStyle   fuelType n \n",
       "1 convertible gas       6\n",
       "2 hardtop     diesel    1\n",
       "3 hardtop     gas       7\n",
       "4 hatchback   diesel    1\n",
       "5 hatchback   gas      69\n",
       "6 sedan       diesel   15\n",
       "7 sedan       gas      81\n",
       "8 wagon       diesel    3\n",
       "9 wagon       gas      22"
      ]
     },
     "metadata": {},
     "output_type": "display_data"
    }
   ],
   "source": [
    "#'group_by' function is used to group the data by bodyStyle and fuelType.\n",
    "carIns_final  %>% group_by(bodyStyle, fuelType) %>% count()"
   ]
  },
  {
   "cell_type": "markdown",
   "id": "c5f5b6a0-52eb-4f58-a996-19b6cf82635f",
   "metadata": {},
   "source": [
    "#### (c) Obtain the mean and the standard deviation of the attribute cityMpg by bodyStyle in ascending order."
   ]
  },
  {
   "cell_type": "code",
   "execution_count": 10,
   "id": "21315721-0eda-4c81-a3bc-6c4db3edcbd7",
   "metadata": {},
   "outputs": [
    {
     "data": {
      "text/html": [
       "<table>\n",
       "<thead><tr><th scope=col>bodyStyle</th><th scope=col>cityMpg.mean</th><th scope=col>cityMpg.sd</th></tr></thead>\n",
       "<tbody>\n",
       "\t<tr><td>convertible</td><td>20.50000   </td><td>3.391165   </td></tr>\n",
       "\t<tr><td>hardtop    </td><td>21.62500   </td><td>5.423165   </td></tr>\n",
       "\t<tr><td>wagon      </td><td>24.04000   </td><td>4.217819   </td></tr>\n",
       "\t<tr><td>sedan      </td><td>25.32292   </td><td>6.599035   </td></tr>\n",
       "\t<tr><td>hatchback  </td><td>26.31429   </td><td>7.169870   </td></tr>\n",
       "</tbody>\n",
       "</table>\n"
      ],
      "text/latex": [
       "\\begin{tabular}{r|lll}\n",
       " bodyStyle & cityMpg.mean & cityMpg.sd\\\\\n",
       "\\hline\n",
       "\t convertible & 20.50000    & 3.391165   \\\\\n",
       "\t hardtop     & 21.62500    & 5.423165   \\\\\n",
       "\t wagon       & 24.04000    & 4.217819   \\\\\n",
       "\t sedan       & 25.32292    & 6.599035   \\\\\n",
       "\t hatchback   & 26.31429    & 7.169870   \\\\\n",
       "\\end{tabular}\n"
      ],
      "text/markdown": [
       "\n",
       "| bodyStyle | cityMpg.mean | cityMpg.sd |\n",
       "|---|---|---|\n",
       "| convertible | 20.50000    | 3.391165    |\n",
       "| hardtop     | 21.62500    | 5.423165    |\n",
       "| wagon       | 24.04000    | 4.217819    |\n",
       "| sedan       | 25.32292    | 6.599035    |\n",
       "| hatchback   | 26.31429    | 7.169870    |\n",
       "\n"
      ],
      "text/plain": [
       "  bodyStyle   cityMpg.mean cityMpg.sd\n",
       "1 convertible 20.50000     3.391165  \n",
       "2 hardtop     21.62500     5.423165  \n",
       "3 wagon       24.04000     4.217819  \n",
       "4 sedan       25.32292     6.599035  \n",
       "5 hatchback   26.31429     7.169870  "
      ]
     },
     "metadata": {},
     "output_type": "display_data"
    }
   ],
   "source": [
    "# Modify the previous code to calculate the meand and standard deviation with summarize function\n",
    "# Arranges the results in ascending order based on the cityMpg.mean using the arrange function\n",
    "carIns_final %>% group_by(bodyStyle) %>% summarize (cityMpg.mean=mean(cityMpg), cityMpg.sd=sd(cityMpg)) %>%\n",
    "arrange(cityMpg.mean)"
   ]
  },
  {
   "cell_type": "markdown",
   "id": "413a7719-5a2d-4bd7-b585-e990314042ba",
   "metadata": {},
   "source": [
    "#### (d) Also by bodyStyle, and for the attributes cityMpg and highwayMpg, obtain the mean, the standard deviation, the median and the inter-quartile range."
   ]
  },
  {
   "cell_type": "code",
   "execution_count": 40,
   "id": "4994fa7a-bce1-4d85-9cff-2be63a4a1f0b",
   "metadata": {},
   "outputs": [
    {
     "data": {
      "text/html": [
       "<table>\n",
       "<thead><tr><th scope=col>bodyStyle</th><th scope=col>cityMpg.mean</th><th scope=col>cityMpg.sd</th><th scope=col>highwayMpg.median</th><th scope=col>cityMpg.iqr</th></tr></thead>\n",
       "<tbody>\n",
       "\t<tr><td>convertible</td><td>20.50000   </td><td>3.391165   </td><td>27.0       </td><td> 5.25      </td></tr>\n",
       "\t<tr><td>hardtop    </td><td>21.62500   </td><td>5.423165   </td><td>27.5       </td><td> 7.00      </td></tr>\n",
       "\t<tr><td>hatchback  </td><td>26.31429   </td><td>7.169870   </td><td>31.5       </td><td>12.00      </td></tr>\n",
       "\t<tr><td>sedan      </td><td>25.32292   </td><td>6.599035   </td><td>30.5       </td><td>11.25      </td></tr>\n",
       "\t<tr><td>wagon      </td><td>24.04000   </td><td>4.217819   </td><td>29.0       </td><td> 5.00      </td></tr>\n",
       "</tbody>\n",
       "</table>\n"
      ],
      "text/latex": [
       "\\begin{tabular}{r|lllll}\n",
       " bodyStyle & cityMpg.mean & cityMpg.sd & highwayMpg.median & cityMpg.iqr\\\\\n",
       "\\hline\n",
       "\t convertible & 20.50000    & 3.391165    & 27.0        &  5.25      \\\\\n",
       "\t hardtop     & 21.62500    & 5.423165    & 27.5        &  7.00      \\\\\n",
       "\t hatchback   & 26.31429    & 7.169870    & 31.5        & 12.00      \\\\\n",
       "\t sedan       & 25.32292    & 6.599035    & 30.5        & 11.25      \\\\\n",
       "\t wagon       & 24.04000    & 4.217819    & 29.0        &  5.00      \\\\\n",
       "\\end{tabular}\n"
      ],
      "text/markdown": [
       "\n",
       "| bodyStyle | cityMpg.mean | cityMpg.sd | highwayMpg.median | cityMpg.iqr |\n",
       "|---|---|---|---|---|\n",
       "| convertible | 20.50000    | 3.391165    | 27.0        |  5.25       |\n",
       "| hardtop     | 21.62500    | 5.423165    | 27.5        |  7.00       |\n",
       "| hatchback   | 26.31429    | 7.169870    | 31.5        | 12.00       |\n",
       "| sedan       | 25.32292    | 6.599035    | 30.5        | 11.25       |\n",
       "| wagon       | 24.04000    | 4.217819    | 29.0        |  5.00       |\n",
       "\n"
      ],
      "text/plain": [
       "  bodyStyle   cityMpg.mean cityMpg.sd highwayMpg.median cityMpg.iqr\n",
       "1 convertible 20.50000     3.391165   27.0               5.25      \n",
       "2 hardtop     21.62500     5.423165   27.5               7.00      \n",
       "3 hatchback   26.31429     7.169870   31.5              12.00      \n",
       "4 sedan       25.32292     6.599035   30.5              11.25      \n",
       "5 wagon       24.04000     4.217819   29.0               5.00      "
      ]
     },
     "metadata": {},
     "output_type": "display_data"
    }
   ],
   "source": [
    "#Modify the previous code to calculate the median an the interquartile range with median and IQR functions\n",
    "carIns_final %>% group_by(bodyStyle) %>% summarize (cityMpg.mean=mean(cityMpg), cityMpg.sd=sd(cityMpg),\n",
    "                                                    highwayMpg.median=median( highwayMpg),\n",
    "                                                    cityMpg.iqr = IQR(cityMpg))"
   ]
  },
  {
   "cell_type": "markdown",
   "id": "0ba360ab-dff5-40c2-8086-b93353d64e93",
   "metadata": {},
   "source": [
    "## 2 Visualization"
   ]
  },
  {
   "cell_type": "markdown",
   "id": "9b3e6981-a85a-41b0-975f-9fb8e693bda3",
   "metadata": {},
   "source": [
    "### 2. Using the package ggplot2, create graphs that you find adequate to answer the following questions."
   ]
  },
  {
   "cell_type": "code",
   "execution_count": 13,
   "id": "60924bb0-fe73-496f-b560-055982e01b93",
   "metadata": {},
   "outputs": [
    {
     "name": "stderr",
     "output_type": "stream",
     "text": [
      "also installing the dependencies 'cli', 'farver', 'isoband', 'lifecycle', 'rlang', 'scales', 'vctrs', 'withr'\n",
      "\n"
     ]
    },
    {
     "name": "stdout",
     "output_type": "stream",
     "text": [
      "\n",
      "  There are binary versions available but the source versions are later:\n",
      "          binary source needs_compilation\n",
      "cli        2.5.0  3.6.1              TRUE\n",
      "farver     2.1.0  2.1.1              TRUE\n",
      "isoband    0.2.4  0.2.7              TRUE\n",
      "lifecycle  1.0.0  1.0.3             FALSE\n",
      "rlang     0.4.11  1.1.1              TRUE\n",
      "scales     1.1.1  1.2.1             FALSE\n",
      "vctrs      0.3.8  0.6.2              TRUE\n",
      "withr      2.4.2  2.5.0             FALSE\n",
      "ggplot2    3.3.3  3.4.2             FALSE\n",
      "\n",
      "  Binaries will be installed\n",
      "package 'cli' successfully unpacked and MD5 sums checked\n",
      "package 'farver' successfully unpacked and MD5 sums checked\n",
      "package 'isoband' successfully unpacked and MD5 sums checked\n",
      "package 'rlang' successfully unpacked and MD5 sums checked\n",
      "package 'vctrs' successfully unpacked and MD5 sums checked\n",
      "\n",
      "The downloaded binary packages are in\n",
      "\tC:\\Users\\pcuser\\AppData\\Local\\Temp\\RtmpwPBsxf\\downloaded_packages\n"
     ]
    },
    {
     "name": "stderr",
     "output_type": "stream",
     "text": [
      "installing the source packages 'lifecycle', 'scales', 'withr', 'ggplot2'\n",
      "\n",
      "Warning message in install.packages(\"ggplot2\"):\n",
      "\"installation of package 'lifecycle' had non-zero exit status\"Warning message in install.packages(\"ggplot2\"):\n",
      "\"installation of package 'scales' had non-zero exit status\"Warning message in install.packages(\"ggplot2\"):\n",
      "\"installation of package 'ggplot2' had non-zero exit status\""
     ]
    }
   ],
   "source": [
    "#Install the ggplot2 package\n",
    "install.packages(\"ggplot2\")\n"
   ]
  },
  {
   "cell_type": "code",
   "execution_count": 15,
   "id": "fb951980-90ca-4db4-81d7-341c9f556cbf",
   "metadata": {},
   "outputs": [],
   "source": [
    "#Load ggplot2\n",
    "library(ggplot2)"
   ]
  },
  {
   "cell_type": "markdown",
   "id": "fbd21b02-0b11-45c6-bb2c-6aa50c3ab741",
   "metadata": {},
   "source": [
    "#### (e) Show the relationship between the attributes cityMpg and highwayMpg"
   ]
  },
  {
   "cell_type": "code",
   "execution_count": 55,
   "id": "1f1466e6-604b-40d9-a158-ee4a18f8f249",
   "metadata": {},
   "outputs": [
    {
     "data": {
      "image/png": "[encoded data removed]",
      "text/plain": [
       "plot without title"
      ]
     },
     "metadata": {},
     "output_type": "display_data"
    }
   ],
   "source": [
    "#ggplot function is used to create the base plot\n",
    "#aes function specifies that the x axis represents the cityMpg attribute and y axis represents the highwayMpg attribute.\n",
    "#geom_point function is used to create a point plot\n",
    "##ggtitle provide a descriptive title to the plot.\n",
    "ggplot(carIns_final,aes(x=cityMpg, y=highwayMpg))+geom_point(color='darkblue')+\n",
    "ggtitle(\"Relatioship between City and Highway\")"
   ]
  },
  {
   "cell_type": "markdown",
   "id": "3ab894be-38b7-4f28-95a6-f305e6b66602",
   "metadata": {},
   "source": [
    "#### (f) Show the distribution of cars by bodyStyle."
   ]
  },
  {
   "cell_type": "code",
   "execution_count": 51,
   "id": "14c7a553-172f-469d-bf30-a14160731585",
   "metadata": {},
   "outputs": [
    {
     "data": {
      "image/png": "[encoded data removed]",
      "text/plain": [
       "plot without title"
      ]
     },
     "metadata": {},
     "output_type": "display_data"
    }
   ],
   "source": [
    "##geom_bar function is used to create a bar plot\n",
    "ggplot(carIns_final, aes(x=bodyStyle))+geom_bar(fill=\"lightblue\")"
   ]
  },
  {
   "cell_type": "markdown",
   "id": "28ce3cde-c605-40f5-a2b1-4d2fa075239e",
   "metadata": {},
   "source": [
    "#### (g) Show the distribution of cars by price. Suggestion: create bins of width equal to 5000."
   ]
  },
  {
   "cell_type": "code",
   "execution_count": 46,
   "id": "d90b3b00",
   "metadata": {},
   "outputs": [
    {
     "data": {
      "image/png": "[encoded data removed]",
      "text/plain": [
       "plot without title"
      ]
     },
     "metadata": {},
     "output_type": "display_data"
    }
   ],
   "source": [
    "#geom_histogram function is used to create a histogram\n",
    "ggplot(carIns_final, aes(x=price))+ geom_histogram(binwidth = 5000, position = \"identity\", alpha = 0.4)"
   ]
  },
  {
   "cell_type": "markdown",
   "id": "dcee00b2",
   "metadata": {},
   "source": [
    "#### (h) Add the information of the density estimation to the previous graph."
   ]
  },
  {
   "cell_type": "code",
   "execution_count": 45,
   "id": "0ff2d714",
   "metadata": {},
   "outputs": [
    {
     "data": {
      "image/png": "[encoded data removed]",
      "text/plain": [
       "plot without title"
      ]
     },
     "metadata": {},
     "output_type": "display_data"
    }
   ],
   "source": [
    "#geom_density() is used to add the density estimation line to the plot\n",
    "ggplot(carIns_final, aes(x=price))+geom_histogram(aes(y = ..density..), binwidth = 5000, position = \"identity\", alpha = 0.4) +\n",
    "  geom_density(color = \"red\", size = 1)"
   ]
  },
  {
   "cell_type": "markdown",
   "id": "b6249e0c-6d1d-487b-bb8d-8c0875f52924",
   "metadata": {},
   "source": [
    "#### (i) Check (visually) if it is plausible to consider that price follows a normal distribution."
   ]
  },
  {
   "cell_type": "markdown",
   "id": "8f408aee-1fa6-4893-8031-cddbaf835182",
   "metadata": {},
   "source": [
    "#### (j) Show the distribution of price by make attribute. Suggestion: use boxplots and the function coord_flip()."
   ]
  },
  {
   "cell_type": "code",
   "execution_count": 26,
   "id": "c810dea0",
   "metadata": {},
   "outputs": [
    {
     "data": {
      "image/png": "[encoded data removed]",
      "text/plain": [
       "plot without title"
      ]
     },
     "metadata": {},
     "output_type": "display_data"
    }
   ],
   "source": [
    "#geom_boxplot() is then used to create the boxplots based on these variables\n",
    "#coord_flip() is used to flip the x and y axes, resulting in a horizontal orientation of the boxplots\n",
    "ggplot(carIns_final, aes(x=make,y=price))+geom_boxplot()+coord_flip()"
   ]
  },
  {
   "cell_type": "markdown",
   "id": "571b1dcf-6ad7-48b4-b297-0562e2c6f6ba",
   "metadata": {},
   "source": [
    "#### (k) Show the distribution of price by nDoors attribute. Suggestion: use histograms."
   ]
  },
  {
   "cell_type": "code",
   "execution_count": 42,
   "id": "42e35087",
   "metadata": {},
   "outputs": [
    {
     "data": {
      "image/png": "[encoded data removed]",
      "text/plain": [
       "plot without title"
      ]
     },
     "metadata": {},
     "output_type": "display_data"
    }
   ],
   "source": [
    "#fill aesthetic is set to the nDoors attribute\n",
    "ggplot(carIns_final, aes(x=price, fill = nDoors))+ geom_histogram(binwidth = 5000, position = \"identity\", alpha = 0.4)"
   ]
  },
  {
   "cell_type": "markdown",
   "id": "1ee85ede-2846-44b1-a685-287aed291db1",
   "metadata": {},
   "source": [
    "#### (l) Show the distribution of price by bodyStyle and nDoors attributes. Suggestion: use histograms."
   ]
  },
  {
   "cell_type": "code",
   "execution_count": 57,
   "id": "c2161a7c",
   "metadata": {},
   "outputs": [
    {
     "data": {
      "image/png": "[encoded data removed]",
      "text/plain": [
       "plot without title"
      ]
     },
     "metadata": {},
     "output_type": "display_data"
    }
   ],
   "source": [
    "# facet_wrap function is used to create separate panels for each bodyStyle category\n",
    "ggplot(carIns_final, aes(x = price, fill = nDoors)) +\n",
    "  geom_histogram(binwidth = 5000, position = \"identity\", alpha = 0.4) +\n",
    "  facet_wrap(~ bodyStyle, nrow = 2) \n"
   ]
  },
  {
   "cell_type": "markdown",
   "id": "01771723-67cf-42ba-9db9-74a62fa78b42",
   "metadata": {},
   "source": [
    "#### (m) Add the parameter scales=\"free_y\" to the facet function in the previous graph."
   ]
  },
  {
   "cell_type": "code",
   "execution_count": 44,
   "id": "6492b1ee",
   "metadata": {},
   "outputs": [
    {
     "data": {
      "image/png": "[encoded data removed]",
      "text/plain": [
       "plot without title"
      ]
     },
     "metadata": {},
     "output_type": "display_data"
    }
   ],
   "source": [
    "#scales = \"free_y\" to the facet_wrap function, each y-axis scale in the panels will be independent\n",
    "#and adjusted based on the range of values for each facet.\n",
    "ggplot(carIns_final, aes(x = price, fill = nDoors)) + geom_histogram(binwidth = 5000, position = \"identity\", alpha = 0.4) +\n",
    "  facet_wrap(~ bodyStyle, nrow = 2, scales = \"free_y\")"
   ]
  },
  {
   "cell_type": "markdown",
   "id": "df807961-61d0-417d-80fd-21393b0705e5",
   "metadata": {},
   "source": [
    "#### "
   ]
  }
 ],
 "metadata": {
  "kernelspec": {
   "display_name": "R",
   "language": "R",
   "name": "ir"
  },
  "language_info": {
   "codemirror_mode": "r",
   "file_extension": ".r",
   "mimetype": "text/x-r-source",
   "name": "R",
   "pygments_lexer": "r",
   "version": "3.6.1"
  }
 },
 "nbformat": 4,
 "nbformat_minor": 5
}
