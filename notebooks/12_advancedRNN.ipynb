{
  "cells": [
    {
      "cell_type": "markdown",
      "metadata": {
        "id": "view-in-github",
        "colab_type": "text"
      },
      "source": [
        "<a href=\"https://colab.research.google.com/github/PaolaMaribel18/hands-on-2023A/blob/master/notebooks/12_advancedRNN.ipynb\" target=\"_parent\"><img src=\"https://colab.research.google.com/assets/colab-badge.svg\" alt=\"Open In Colab\"/></a>"
      ]
    },
    {
      "cell_type": "markdown",
      "source": [
        "# 12 Advanced Recurrent Neural Networks\n",
        "\n",
        "Advanced Neural Network architectures represent significant advancements in the field of deep learning, which are most used in the domain of sequence modeling and processing. These architectures build upon the traditional feedforward neural networks and introduce recurrent connections, allowing them to exhibit temporal dynamics and memory capabilities.\n",
        "\n",
        "* The Elman RNN employs a simple recurrent loop in its hidden layer, enabling it to capture short-term temporal dependencies, making it suitable for applications such as speech recognition and time series analysis.\n",
        "* The Jordan RNN possesses feedback connections from the output layer to the hidden layer, rendering it capable of modeling longer-term dependencies, which finds applications in machine translation and language modeling tasks.\n",
        "* The Bidirectional RNN combines both forward and backward temporal processing, allowing it to consider both past and future context in its predictions, making it effective in natural language processing tasks such as sentiment analysis and named entity recognition.\n",
        "\n",
        "These advanced neural network architectures significantly expand the modeling capabilities of traditional neural networks and have become indispensable tools in various sequential data processing applications."
      ],
      "metadata": {
        "collapsed": false,
        "id": "0Z4WZ9NAW6u6"
      }
    },
    {
      "cell_type": "markdown",
      "source": [
        "### Exercise\n",
        "Use the IMDB movie reviews dataset to perform sentiment analysis with a Elman, Jordan and Bidirectional RNN.\n",
        "Highlight the differences on the performance of each architecture."
      ],
      "metadata": {
        "collapsed": false,
        "id": "_XrXiIZoW6u-"
      }
    },
    {
      "cell_type": "code",
      "execution_count": 7,
      "metadata": {
        "collapsed": true,
        "id": "VhW8s54tW6u_"
      },
      "outputs": [],
      "source": [
        "from keras.datasets import imdb\n",
        "from keras.preprocessing import sequence\n",
        "from keras.models import Sequential\n",
        "from keras.layers import Embedding, SimpleRNN, Dense, Bidirectional\n",
        "from tensorflow.keras.preprocessing.sequence import pad_sequences"
      ]
    },
    {
      "cell_type": "markdown",
      "source": [
        "####1. Load the IMDB movie reviews dataset"
      ],
      "metadata": {
        "collapsed": false,
        "id": "6zoRunXHW6vB"
      }
    },
    {
      "cell_type": "code",
      "execution_count": 2,
      "outputs": [
        {
          "output_type": "stream",
          "name": "stdout",
          "text": [
            "Downloading data from https://storage.googleapis.com/tensorflow/tf-keras-datasets/imdb.npz\n",
            "17464789/17464789 [==============================] - 2s 0us/step\n"
          ]
        }
      ],
      "source": [
        "max_features = 5000  # Number of words to consider as features\n",
        "max_len_short = 100  # Maximum sequence length for short sequences\n",
        "max_len_long = 500   # Maximum sequence length for long sequences\n",
        "\n",
        "(x_train, y_train), (x_test, y_test) = imdb.load_data(num_words=max_features)"
      ],
      "metadata": {
        "colab": {
          "base_uri": "https://localhost:8080/"
        },
        "id": "ssRmHOO7W6vB",
        "outputId": "82ca41dc-b127-41e7-f3d3-404c705fc442"
      }
    },
    {
      "cell_type": "markdown",
      "source": [
        "####2. Pad sequences to a fixed length for RNN input"
      ],
      "metadata": {
        "collapsed": false,
        "id": "xFBDqfDeW6vC"
      }
    },
    {
      "cell_type": "code",
      "execution_count": 11,
      "outputs": [],
      "source": [
        "x_train_short = pad_sequences(x_train, maxlen=max_len_short)\n",
        "x_test_short = pad_sequences(x_test, maxlen=max_len_short)\n",
        "\n",
        "x_train_long =pad_sequences(x_train, maxlen=max_len_long)\n",
        "x_test_long =pad_sequences(x_test, maxlen=max_len_long)"
      ],
      "metadata": {
        "id": "455yShtbW6vC"
      }
    },
    {
      "cell_type": "markdown",
      "source": [
        "####3. Build the distinct RNN models"
      ],
      "metadata": {
        "collapsed": false,
        "id": "RpYvNrLrW6vC"
      }
    },
    {
      "cell_type": "code",
      "execution_count": 38,
      "outputs": [],
      "source": [
        "def build_elman_rnn_model():\n",
        "    model = Sequential()\n",
        "    model.add(Embedding(max_features, 32))\n",
        "    model.add(SimpleRNN(32, activation='relu'))\n",
        "    model.add(Dense(1, activation='sigmoid'))\n",
        "    return model\n",
        "\n",
        "def build_jordan_rnn_model():\n",
        "    model_jd = Sequential()\n",
        "    model_jd.add(Embedding(max_features, 32))\n",
        "    model_jd.add(SimpleRNN(32, activation='relu',return_sequences=False)) #devuelve solo la salida del último paso de tiempo, se obtiene una única salida al final de la secuencia.\n",
        "    model_jd.add(Dense(1, activation='sigmoid'))\n",
        "    return model_jd\n",
        "\n",
        "def build_bidirectional_rnn_model():\n",
        "    model_bd = Sequential()\n",
        "    model_bd.add(Embedding(max_features, 32))\n",
        "    model_bd.add(Bidirectional(SimpleRNN(32, activation='relu')))\n",
        "    model_bd.add(Dense(1, activation='sigmoid'))\n",
        "    return model_bd"
      ],
      "metadata": {
        "id": "8NVmyGruW6vC"
      }
    },
    {
      "cell_type": "markdown",
      "source": [
        "####4. Train and evaluate the RNN model"
      ],
      "metadata": {
        "collapsed": false,
        "id": "wnmJ4g1JW6vD"
      }
    },
    {
      "cell_type": "markdown",
      "source": [
        "#####Elman"
      ],
      "metadata": {
        "id": "XmNdm-F7Z11Y"
      }
    },
    {
      "cell_type": "code",
      "execution_count": 13,
      "outputs": [],
      "source": [
        "def train_and_evaluate_model(model, x_train, y_train, x_test, y_test):\n",
        "    model.compile(optimizer='adam', loss='binary_crossentropy', metrics=['accuracy'])\n",
        "    history = model.fit(x_train, y_train, epochs=5, batch_size=128, validation_split=0.2)\n",
        "    loss, accuracy = model.evaluate(x_test, y_test)\n",
        "    return loss, accuracy, history"
      ],
      "metadata": {
        "id": "IhbZcBO_W6vD"
      }
    },
    {
      "cell_type": "markdown",
      "source": [
        "#####Jordan"
      ],
      "metadata": {
        "id": "yQcBHyyhZ8z1"
      }
    },
    {
      "cell_type": "code",
      "source": [
        "def train_and_evaluate_model_jd(model_jd, x_train, y_train, x_test, y_test):\n",
        "    model_jd.compile(optimizer='adam', loss='binary_crossentropy', metrics=['accuracy'])\n",
        "    history_jd = model_jd.fit(x_train, y_train, epochs=5, batch_size=128, validation_split=0.2)\n",
        "    loss_jd, accuracy_jd = model_jd.evaluate(x_test, y_test)\n",
        "    return loss_jd, accuracy_jd, history_jd"
      ],
      "metadata": {
        "id": "0p98JZGPaEln"
      },
      "execution_count": 26,
      "outputs": []
    },
    {
      "cell_type": "markdown",
      "source": [
        "#####Bidirectional"
      ],
      "metadata": {
        "id": "HGXUbH3NZ-7d"
      }
    },
    {
      "cell_type": "code",
      "source": [
        "def train_and_evaluate_model_bd(model_bd, x_train, y_train, x_test, y_test):\n",
        "    model_bd.compile(optimizer='adam', loss ='binary_crossentropy', metrics=['accuracy'])\n",
        "    history_bd = model_bd.fit(x_train, y_train, epochs=5, batch_size=128, validation_split=0.2)\n",
        "    loss_bd, accuracy_bd = model_bd.evaluate(x_test, y_test)\n",
        "    return loss_bd, accuracy_bd, history_bd"
      ],
      "metadata": {
        "id": "ADtYFBGqaC39"
      },
      "execution_count": 35,
      "outputs": []
    },
    {
      "cell_type": "markdown",
      "source": [
        "####5. Train and evaluate the RNN model on short sequences"
      ],
      "metadata": {
        "collapsed": false,
        "id": "A-GcXqUrW6vD"
      }
    },
    {
      "cell_type": "markdown",
      "source": [
        "#####Elman"
      ],
      "metadata": {
        "id": "w6pOscxErH3x"
      }
    },
    {
      "cell_type": "code",
      "execution_count": 21,
      "outputs": [
        {
          "output_type": "stream",
          "name": "stdout",
          "text": [
            "\n",
            "Training Elman RNN model on short sequences:\n",
            "Epoch 1/5\n",
            "157/157 [==============================] - 33s 198ms/step - loss: 0.6252 - accuracy: 0.6406 - val_loss: 0.4792 - val_accuracy: 0.7718\n",
            "Epoch 2/5\n",
            "157/157 [==============================] - 22s 143ms/step - loss: 0.4067 - accuracy: 0.8180 - val_loss: 0.3850 - val_accuracy: 0.8242\n",
            "Epoch 3/5\n",
            "157/157 [==============================] - 22s 138ms/step - loss: 0.3065 - accuracy: 0.8712 - val_loss: 0.3688 - val_accuracy: 0.8312\n",
            "Epoch 4/5\n",
            "157/157 [==============================] - 19s 120ms/step - loss: 0.2605 - accuracy: 0.8959 - val_loss: 0.4082 - val_accuracy: 0.8424\n",
            "Epoch 5/5\n",
            "157/157 [==============================] - 19s 120ms/step - loss: 0.2257 - accuracy: 0.9112 - val_loss: 0.3671 - val_accuracy: 0.8350\n",
            "782/782 [==============================] - 9s 11ms/step - loss: 0.3700 - accuracy: 0.8401\n"
          ]
        }
      ],
      "source": [
        "print(\"\\nTraining Elman RNN model on short sequences:\")\n",
        "rnn_model_short = build_elman_rnn_model()\n",
        "loss_short, accuracy_short, history_short = train_and_evaluate_model(\n",
        "    rnn_model_short, x_train_short, y_train, x_test_short, y_test\n",
        ")"
      ],
      "metadata": {
        "colab": {
          "base_uri": "https://localhost:8080/"
        },
        "id": "njA_P_pTW6vD",
        "outputId": "f3e6eca4-a005-4814-b3f8-75587d4405d8"
      }
    },
    {
      "cell_type": "markdown",
      "source": [
        "#####Jordan"
      ],
      "metadata": {
        "id": "CVYQgL_nrKXk"
      }
    },
    {
      "cell_type": "code",
      "source": [
        "print(\"\\nTraining Jordan RNN model on short sequences:\")\n",
        "rnn_model_jd_short = build_jordan_rnn_model()\n",
        "loss_short_jd, accuracy_short_jd, history_short_jd = train_and_evaluate_model_jd(\n",
        "    rnn_model_jd_short, x_train_short, y_train, x_test_short, y_test\n",
        ")"
      ],
      "metadata": {
        "colab": {
          "base_uri": "https://localhost:8080/"
        },
        "id": "SL9Nfg5Bb7nq",
        "outputId": "ae0115b8-3cc6-4ea7-fecb-890c4c3feabc"
      },
      "execution_count": 43,
      "outputs": [
        {
          "output_type": "stream",
          "name": "stdout",
          "text": [
            "\n",
            "Training Jordan RNN model on short sequences:\n",
            "Epoch 1/5\n",
            "157/157 [==============================] - 33s 198ms/step - loss: 0.6108 - accuracy: 0.6526 - val_loss: 0.5124 - val_accuracy: 0.7522\n",
            "Epoch 2/5\n",
            "157/157 [==============================] - 22s 138ms/step - loss: 0.3683 - accuracy: 0.8413 - val_loss: 0.3676 - val_accuracy: 0.8300\n",
            "Epoch 3/5\n",
            "157/157 [==============================] - 19s 120ms/step - loss: 0.2800 - accuracy: 0.8831 - val_loss: 0.3797 - val_accuracy: 0.8368\n",
            "Epoch 4/5\n",
            "157/157 [==============================] - 20s 130ms/step - loss: 0.2443 - accuracy: 0.9025 - val_loss: 0.4157 - val_accuracy: 0.8368\n",
            "Epoch 5/5\n",
            "157/157 [==============================] - 19s 122ms/step - loss: 0.2180 - accuracy: 0.9140 - val_loss: 0.4149 - val_accuracy: 0.8318\n",
            "782/782 [==============================] - 9s 11ms/step - loss: 0.4126 - accuracy: 0.8369\n"
          ]
        }
      ]
    },
    {
      "cell_type": "markdown",
      "source": [
        "#####Bidirectional"
      ],
      "metadata": {
        "id": "Uv08RBADrMDW"
      }
    },
    {
      "cell_type": "code",
      "source": [
        "print(\"\\nTraining Bidirectional RNN model on short sequences:\")\n",
        "rnn_model_bd_short = build_bidirectional_rnn_model()\n",
        "loss_short_bd, accuracy_short_bd, history_short_bd = train_and_evaluate_model_bd(\n",
        "    rnn_model_bd_short, x_train_short, y_train, x_test_short, y_test\n",
        ")"
      ],
      "metadata": {
        "colab": {
          "base_uri": "https://localhost:8080/"
        },
        "id": "6KleR3zTeufz",
        "outputId": "b126e7c6-f58b-4a7e-f15e-d9e9f62cc953"
      },
      "execution_count": 44,
      "outputs": [
        {
          "output_type": "stream",
          "name": "stdout",
          "text": [
            "\n",
            "Training Bidirectional RNN model on short sequences:\n",
            "Epoch 1/5\n",
            "157/157 [==============================] - 52s 312ms/step - loss: 0.6393 - accuracy: 0.6224 - val_loss: 0.4376 - val_accuracy: 0.8090\n",
            "Epoch 2/5\n",
            "157/157 [==============================] - 39s 248ms/step - loss: 0.3754 - accuracy: 0.8396 - val_loss: 0.3460 - val_accuracy: 0.8470\n",
            "Epoch 3/5\n",
            "157/157 [==============================] - 34s 213ms/step - loss: 0.2741 - accuracy: 0.8879 - val_loss: 0.3460 - val_accuracy: 0.8430\n",
            "Epoch 4/5\n",
            "157/157 [==============================] - 33s 213ms/step - loss: 0.2322 - accuracy: 0.9101 - val_loss: 0.3782 - val_accuracy: 0.8426\n",
            "Epoch 5/5\n",
            "157/157 [==============================] - 32s 206ms/step - loss: 0.1919 - accuracy: 0.9283 - val_loss: 0.3801 - val_accuracy: 0.8384\n",
            "782/782 [==============================] - 14s 18ms/step - loss: 0.3923 - accuracy: 0.8372\n"
          ]
        }
      ]
    },
    {
      "cell_type": "markdown",
      "source": [
        "####6. Train and evaluate the RNN model on long sequences"
      ],
      "metadata": {
        "collapsed": false,
        "id": "v_AxFhVRW6vE"
      }
    },
    {
      "cell_type": "markdown",
      "source": [
        "#####Elman"
      ],
      "metadata": {
        "id": "_cXOStGQrWn6"
      }
    },
    {
      "cell_type": "code",
      "execution_count": 39,
      "outputs": [
        {
          "output_type": "stream",
          "name": "stdout",
          "text": [
            "\n",
            "Training Elman RNN model on long sequences:\n",
            "Epoch 1/5\n",
            "157/157 [==============================] - 116s 726ms/step - loss: 1.0544 - accuracy: 0.5749 - val_loss: 0.6724 - val_accuracy: 0.5966\n",
            "Epoch 2/5\n",
            "157/157 [==============================] - 104s 663ms/step - loss: 0.6518 - accuracy: 0.6591 - val_loss: 0.6487 - val_accuracy: 0.6380\n",
            "Epoch 3/5\n",
            "157/157 [==============================] - 99s 623ms/step - loss: 57.5008 - accuracy: 0.6909 - val_loss: 0.6330 - val_accuracy: 0.6380\n",
            "Epoch 4/5\n",
            "157/157 [==============================] - 95s 603ms/step - loss: 0.5865 - accuracy: 0.7164 - val_loss: 0.6181 - val_accuracy: 0.6564\n",
            "Epoch 5/5\n",
            "157/157 [==============================] - 93s 596ms/step - loss: 0.5581 - accuracy: 0.7412 - val_loss: 0.6108 - val_accuracy: 0.6652\n",
            "782/782 [==============================] - 33s 42ms/step - loss: 0.6073 - accuracy: 0.6650\n"
          ]
        }
      ],
      "source": [
        "print(\"\\nTraining Elman RNN model on long sequences:\")\n",
        "rnn_model_long = build_elman_rnn_model()\n",
        "loss_long, accuracy_long, history_long = train_and_evaluate_model(\n",
        "    rnn_model_long, x_train_long, y_train, x_test_long, y_test\n",
        ")"
      ],
      "metadata": {
        "colab": {
          "base_uri": "https://localhost:8080/"
        },
        "id": "e67BmUlHW6vE",
        "outputId": "fdba7e55-7cea-46e9-c21c-1347bd1d5a1a"
      }
    },
    {
      "cell_type": "markdown",
      "source": [
        "#####Jordan"
      ],
      "metadata": {
        "id": "ZhmrFJ0irZ1o"
      }
    },
    {
      "cell_type": "code",
      "source": [
        "print(\"\\nTraining Jordan RNN model on long sequences:\")\n",
        "rnn_model_long_jd = build_jordan_rnn_model()\n",
        "loss_long_jd, accuracy_long_jd, history_long_jd = train_and_evaluate_model_jd(\n",
        "    rnn_model_long_jd, x_train_long, y_train, x_test_long, y_test\n",
        ")"
      ],
      "metadata": {
        "colab": {
          "base_uri": "https://localhost:8080/"
        },
        "id": "Oim-mXwxhG-G",
        "outputId": "d8b7c256-30af-410c-f869-14a48bda3a5a"
      },
      "execution_count": 45,
      "outputs": [
        {
          "output_type": "stream",
          "name": "stdout",
          "text": [
            "\n",
            "Training Jordan RNN model on long sequences:\n",
            "Epoch 1/5\n",
            "157/157 [==============================] - 102s 639ms/step - loss: 0.7015 - accuracy: 0.5869 - val_loss: 0.6703 - val_accuracy: 0.6228\n",
            "Epoch 2/5\n",
            "157/157 [==============================] - 95s 608ms/step - loss: 0.7023 - accuracy: 0.6875 - val_loss: 0.5992 - val_accuracy: 0.6672\n",
            "Epoch 3/5\n",
            "157/157 [==============================] - 92s 583ms/step - loss: 0.5268 - accuracy: 0.7442 - val_loss: 0.4936 - val_accuracy: 0.7728\n",
            "Epoch 4/5\n",
            "157/157 [==============================] - 88s 563ms/step - loss: 0.3986 - accuracy: 0.8451 - val_loss: 0.4241 - val_accuracy: 0.8192\n",
            "Epoch 5/5\n",
            "157/157 [==============================] - 89s 568ms/step - loss: 0.3550 - accuracy: 0.8584 - val_loss: 0.4586 - val_accuracy: 0.7864\n",
            "782/782 [==============================] - 32s 41ms/step - loss: 0.4489 - accuracy: 0.7917\n"
          ]
        }
      ]
    },
    {
      "cell_type": "markdown",
      "source": [
        "#####Bidirectional"
      ],
      "metadata": {
        "id": "CVCLmrNVrcQp"
      }
    },
    {
      "cell_type": "code",
      "source": [
        "print(\"\\nTraining Bidirectional RNN model on long sequences:\")\n",
        "rnn_model_long_bd = build_bidirectional_rnn_model()\n",
        "loss_long_bd, accuracy_long_bd, history_long_bd = train_and_evaluate_model_bd(\n",
        "    rnn_model_long_bd, x_train_long, y_train, x_test_long, y_test\n",
        ")"
      ],
      "metadata": {
        "colab": {
          "base_uri": "https://localhost:8080/"
        },
        "id": "7zYV9kOkhtbK",
        "outputId": "4088601b-f1df-44c7-c5ba-05971ffc365c"
      },
      "execution_count": 46,
      "outputs": [
        {
          "output_type": "stream",
          "name": "stdout",
          "text": [
            "\n",
            "Training Bidirectional RNN model on long sequences:\n",
            "Epoch 1/5\n",
            "157/157 [==============================] - 168s 1s/step - loss: 0.6155 - accuracy: 0.6694 - val_loss: 0.5837 - val_accuracy: 0.7424\n",
            "Epoch 2/5\n",
            "157/157 [==============================] - 170s 1s/step - loss: 0.4429 - accuracy: 0.8202 - val_loss: 0.4469 - val_accuracy: 0.8118\n",
            "Epoch 3/5\n",
            "157/157 [==============================] - 161s 1s/step - loss: 0.3435 - accuracy: 0.8544 - val_loss: 0.3322 - val_accuracy: 0.8608\n",
            "Epoch 4/5\n",
            "157/157 [==============================] - 159s 1s/step - loss: 0.2591 - accuracy: 0.8969 - val_loss: 0.3228 - val_accuracy: 0.8670\n",
            "Epoch 5/5\n",
            "157/157 [==============================] - 155s 987ms/step - loss: 0.2140 - accuracy: 0.9179 - val_loss: 0.3251 - val_accuracy: 0.8638\n",
            "782/782 [==============================] - 62s 79ms/step - loss: 0.3337 - accuracy: 0.8630\n"
          ]
        }
      ]
    },
    {
      "cell_type": "markdown",
      "source": [
        "####7. Compare the results"
      ],
      "metadata": {
        "collapsed": false,
        "id": "gQq-o4xZW6vE"
      }
    },
    {
      "cell_type": "code",
      "execution_count": 47,
      "outputs": [
        {
          "output_type": "stream",
          "name": "stdout",
          "text": [
            "\n",
            "Results on Short Sequences (Elman):\n",
            "Loss: 0.3681, Accuracy: 0.8418\n",
            "\n",
            "Results on Long Sequences (Elman):\n",
            "Loss: 0.3536, Accuracy: 0.8472\n",
            "\n",
            "Results on Short Sequences (Jordan)):\n",
            "Loss: 0.4126, Accuracy: 0.8369\n",
            "\n",
            "Results on Long Sequences (Jordan):\n",
            "Loss: 0.4489, Accuracy: 0.7917\n",
            "\n",
            "Results on Short Sequences (Bidirectional)):\n",
            "Loss: 0.3923, Accuracy: 0.8372\n",
            "\n",
            "Results on Long Sequences (Bidirectional):\n",
            "Loss: 0.3337, Accuracy: 0.8630\n"
          ]
        }
      ],
      "source": [
        "#Elman\n",
        "print(\"\\nResults on Short Sequences (Elman):\")\n",
        "print(f\"Loss: {loss_short:.4f}, Accuracy: {accuracy_short:.4f}\")\n",
        "\n",
        "print(\"\\nResults on Long Sequences (Elman):\")\n",
        "print(f\"Loss: {loss_long:.4f}, Accuracy: {accuracy_long:.4f}\")\n",
        "\n",
        "#Jordan\n",
        "print(\"\\nResults on Short Sequences (Jordan)):\")\n",
        "print(f\"Loss: {loss_short_jd:.4f}, Accuracy: {accuracy_short_jd:.4f}\")\n",
        "\n",
        "print(\"\\nResults on Long Sequences (Jordan):\")\n",
        "print(f\"Loss: {loss_long_jd:.4f}, Accuracy: {accuracy_long_jd:.4f}\")\n",
        "\n",
        "#Bidirectional\n",
        "print(\"\\nResults on Short Sequences (Bidirectional)):\")\n",
        "print(f\"Loss: {loss_short_bd:.4f}, Accuracy: {accuracy_short_bd:.4f}\")\n",
        "\n",
        "print(\"\\nResults on Long Sequences (Bidirectional):\")\n",
        "print(f\"Loss: {loss_long_bd:.4f}, Accuracy: {accuracy_long_bd:.4f}\")"
      ],
      "metadata": {
        "colab": {
          "base_uri": "https://localhost:8080/"
        },
        "id": "w6kiPjabW6vF",
        "outputId": "6d1e47d5-2f49-4ac1-8e57-aae4a00e22c2"
      }
    },
    {
      "cell_type": "code",
      "source": [
        "from tabulate import tabulate\n",
        "\n",
        "# Sample results, replace with your actual values\n",
        "results = [\n",
        "    [\"Elman\", \"Short Sequences\", loss_short, accuracy_short],\n",
        "    [\"Elman\", \"Long Sequences\", loss_long, accuracy_long],\n",
        "    [\"Jordan\", \"Short Sequences\", loss_short_jd, accuracy_short_jd],\n",
        "    [\"Jordan\", \"Long Sequences\", loss_long_jd, accuracy_long_jd],\n",
        "    [\"Bidirectional\", \"Short Sequences\", loss_short_bd, accuracy_short_bd],\n",
        "    [\"Bidirectional\", \"Long Sequences\", loss_long_bd, accuracy_long_bd]\n",
        "]\n",
        "\n",
        "headers = [\"Model Type\", \"Sequence Length\", \"Loss\", \"Accuracy\"]\n",
        "\n",
        "print(\"\\nResults for Different RNN Models:\")\n",
        "print(\"=\" * 50)\n",
        "\n",
        "# Print the results in a formatted table\n",
        "print(tabulate(results, headers=headers, tablefmt=\"grid\"))\n"
      ],
      "metadata": {
        "colab": {
          "base_uri": "https://localhost:8080/"
        },
        "id": "Gtp_1CRtyCnA",
        "outputId": "24df07dd-c849-4d06-d158-abaf7f04b8f0"
      },
      "execution_count": 48,
      "outputs": [
        {
          "output_type": "stream",
          "name": "stdout",
          "text": [
            "\n",
            "Results for Different RNN Models:\n",
            "==================================================\n",
            "+---------------+-------------------+----------+------------+\n",
            "| Model Type    | Sequence Length   |     Loss |   Accuracy |\n",
            "+===============+===================+==========+============+\n",
            "| Elman         | Short Sequences   | 0.368058 |    0.84176 |\n",
            "+---------------+-------------------+----------+------------+\n",
            "| Elman         | Long Sequences    | 0.353645 |    0.84724 |\n",
            "+---------------+-------------------+----------+------------+\n",
            "| Jordan        | Short Sequences   | 0.412564 |    0.83692 |\n",
            "+---------------+-------------------+----------+------------+\n",
            "| Jordan        | Long Sequences    | 0.448894 |    0.79168 |\n",
            "+---------------+-------------------+----------+------------+\n",
            "| Bidirectional | Short Sequences   | 0.392342 |    0.83724 |\n",
            "+---------------+-------------------+----------+------------+\n",
            "| Bidirectional | Long Sequences    | 0.333651 |    0.86304 |\n",
            "+---------------+-------------------+----------+------------+\n"
          ]
        }
      ]
    },
    {
      "cell_type": "markdown",
      "source": [
        "Según los resultados obtenidos, se observa que el modelo Bidireccional superó a los otros en términos de precisión, con un 83.72% en secuencias cortas y un 86.30% en secuencias largas, y pérdidas de 0.3923 y 0.3337 respectivamente."
      ],
      "metadata": {
        "id": "XAs7Xe-Py3A2"
      }
    }
  ],
  "metadata": {
    "kernelspec": {
      "display_name": "Python 3",
      "name": "python3"
    },
    "language_info": {
      "codemirror_mode": {
        "name": "ipython",
        "version": 2
      },
      "file_extension": ".py",
      "mimetype": "text/x-python",
      "name": "python",
      "nbconvert_exporter": "python",
      "pygments_lexer": "ipython2",
      "version": "2.7.6"
    },
    "colab": {
      "provenance": [],
      "toc_visible": true,
      "gpuType": "T4",
      "include_colab_link": true
    },
    "accelerator": "GPU"
  },
  "nbformat": 4,
  "nbformat_minor": 0
}