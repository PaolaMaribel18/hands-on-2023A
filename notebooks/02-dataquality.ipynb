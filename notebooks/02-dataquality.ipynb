{
 "cells": [
  {
   "cell_type": "markdown",
   "metadata": {},
   "source": [
    "# 2 Hands On: Data Quality and Pre-Processing\n",
    "\n",
    "## 1. Assessing Data Quality\n",
    "\n",
    "Load the following packages: dplyr, na.tools, tidyimpute (version from github decisionpatterns/tidyimpute\")\n"
   ]
  },
  {
   "cell_type": "code",
   "execution_count": 1,
   "metadata": {},
   "outputs": [
    {
     "name": "stderr",
     "output_type": "stream",
     "text": [
      "Installing packages into 'C:/Users/Paola/AppData/Local/R/win-library/4.3'\n",
      "(as 'lib' is unspecified)\n",
      "\n"
     ]
    },
    {
     "name": "stdout",
     "output_type": "stream",
     "text": [
      "package 'dplyr' successfully unpacked and MD5 sums checked\n",
      "package 'na.tools' successfully unpacked and MD5 sums checked\n",
      "\n",
      "The downloaded binary packages are in\n",
      "\tC:\\Users\\Paola\\AppData\\Local\\Temp\\Rtmp21qe5a\\downloaded_packages\n"
     ]
    },
    {
     "name": "stderr",
     "output_type": "stream",
     "text": [
      "\n",
      "Attaching package: 'dplyr'\n",
      "\n",
      "\n",
      "The following objects are masked from 'package:stats':\n",
      "\n",
      "    filter, lag\n",
      "\n",
      "\n",
      "The following objects are masked from 'package:base':\n",
      "\n",
      "    intersect, setdiff, setequal, union\n",
      "\n",
      "\n"
     ]
    }
   ],
   "source": [
    "# Install packages \n",
    "install.packages(c(\"dplyr\", \"na.tools\"))\n",
    "#Load packages\n",
    "library(dplyr)\n",
    "library(na.tools)\n"
   ]
  },
  {
   "cell_type": "markdown",
   "metadata": {},
   "source": [
    "\n"
   ]
  },
  {
   "cell_type": "code",
   "execution_count": 2,
   "metadata": {},
   "outputs": [
    {
     "name": "stderr",
     "output_type": "stream",
     "text": [
      "Installing package into 'C:/Users/Paola/AppData/Local/R/win-library/4.3'\n",
      "(as 'lib' is unspecified)\n",
      "\n"
     ]
    },
    {
     "name": "stdout",
     "output_type": "stream",
     "text": [
      "package 'remotes' successfully unpacked and MD5 sums checked\n",
      "\n",
      "The downloaded binary packages are in\n",
      "\tC:\\Users\\Paola\\AppData\\Local\\Temp\\Rtmp21qe5a\\downloaded_packages\n"
     ]
    },
    {
     "name": "stderr",
     "output_type": "stream",
     "text": [
      "Skipping install of 'tidyimpute' from a github remote, the SHA1 (9e07748f) has not changed since last install.\n",
      "  Use `force = TRUE` to force installation\n",
      "\n"
     ]
    }
   ],
   "source": [
    "#To install tidyimpute, install remotes \n",
    "install.packages(\"remotes\")\n",
    "# Install tidyimpute\n",
    "remotes::install_github(\"decisionpatterns/tidyimpute\")\n",
    "#Load package\n",
    "library(tidyimpute)\n"
   ]
  },
  {
   "cell_type": "markdown",
   "metadata": {},
   "source": [
    "\n"
   ]
  },
  {
   "cell_type": "markdown",
   "metadata": {},
   "source": [
    "Load the carInsurance data set about the insurance risk rating of cars based on several characteristics of each car.\n",
    "\n"
   ]
  },
  {
   "cell_type": "code",
   "execution_count": 3,
   "metadata": {},
   "outputs": [
    {
     "data": {
      "text/html": [
       "<table class=\"dataframe\">\n",
       "<caption>A data.frame: 10 × 26</caption>\n",
       "<thead>\n",
       "\t<tr><th></th><th scope=col>symb</th><th scope=col>normLoss</th><th scope=col>make</th><th scope=col>fuelType</th><th scope=col>aspiration</th><th scope=col>nDoors</th><th scope=col>bodyStyle</th><th scope=col>driveWheels</th><th scope=col>engineLocation</th><th scope=col>wheelBase</th><th scope=col>⋯</th><th scope=col>engineSize</th><th scope=col>fuelSystem</th><th scope=col>bore</th><th scope=col>stroke</th><th scope=col>compressionRatio</th><th scope=col>horsePower</th><th scope=col>peakRpm</th><th scope=col>cityMpg</th><th scope=col>highwayMpg</th><th scope=col>price</th></tr>\n",
       "\t<tr><th></th><th scope=col>&lt;int&gt;</th><th scope=col>&lt;int&gt;</th><th scope=col>&lt;fct&gt;</th><th scope=col>&lt;fct&gt;</th><th scope=col>&lt;fct&gt;</th><th scope=col>&lt;fct&gt;</th><th scope=col>&lt;fct&gt;</th><th scope=col>&lt;fct&gt;</th><th scope=col>&lt;fct&gt;</th><th scope=col>&lt;dbl&gt;</th><th scope=col>⋯</th><th scope=col>&lt;int&gt;</th><th scope=col>&lt;fct&gt;</th><th scope=col>&lt;dbl&gt;</th><th scope=col>&lt;dbl&gt;</th><th scope=col>&lt;dbl&gt;</th><th scope=col>&lt;int&gt;</th><th scope=col>&lt;int&gt;</th><th scope=col>&lt;int&gt;</th><th scope=col>&lt;int&gt;</th><th scope=col>&lt;int&gt;</th></tr>\n",
       "</thead>\n",
       "<tbody>\n",
       "\t<tr><th scope=row>1</th><td>3</td><td> NA</td><td>alfa-romero</td><td>gas</td><td>std  </td><td>two </td><td>convertible</td><td>rwd</td><td>front</td><td> 88.6</td><td>⋯</td><td>130</td><td>mpfi</td><td>3.47</td><td>2.68</td><td> 9.0</td><td>111</td><td>5000</td><td>21</td><td>27</td><td>13495</td></tr>\n",
       "\t<tr><th scope=row>2</th><td>3</td><td> NA</td><td>alfa-romero</td><td>gas</td><td>std  </td><td>two </td><td>convertible</td><td>rwd</td><td>front</td><td> 88.6</td><td>⋯</td><td>130</td><td>mpfi</td><td>3.47</td><td>2.68</td><td> 9.0</td><td>111</td><td>5000</td><td>21</td><td>27</td><td>16500</td></tr>\n",
       "\t<tr><th scope=row>3</th><td>1</td><td> NA</td><td>alfa-romero</td><td>gas</td><td>std  </td><td>two </td><td>hatchback  </td><td>rwd</td><td>front</td><td> 94.5</td><td>⋯</td><td>152</td><td>mpfi</td><td>2.68</td><td>3.47</td><td> 9.0</td><td>154</td><td>5000</td><td>19</td><td>26</td><td>16500</td></tr>\n",
       "\t<tr><th scope=row>4</th><td>2</td><td>164</td><td>audi       </td><td>gas</td><td>std  </td><td>four</td><td>sedan      </td><td>fwd</td><td>front</td><td> 99.8</td><td>⋯</td><td>109</td><td>mpfi</td><td>3.19</td><td>3.40</td><td>10.0</td><td>102</td><td>5500</td><td>24</td><td>30</td><td>13950</td></tr>\n",
       "\t<tr><th scope=row>5</th><td>2</td><td>164</td><td>audi       </td><td>gas</td><td>std  </td><td>four</td><td>sedan      </td><td>4wd</td><td>front</td><td> 99.4</td><td>⋯</td><td>136</td><td>mpfi</td><td>3.19</td><td>3.40</td><td> 8.0</td><td>115</td><td>5500</td><td>18</td><td>22</td><td>17450</td></tr>\n",
       "\t<tr><th scope=row>6</th><td>2</td><td> NA</td><td>audi       </td><td>gas</td><td>std  </td><td>two </td><td>sedan      </td><td>fwd</td><td>front</td><td> 99.8</td><td>⋯</td><td>136</td><td>mpfi</td><td>3.19</td><td>3.40</td><td> 8.5</td><td>110</td><td>5500</td><td>19</td><td>25</td><td>15250</td></tr>\n",
       "\t<tr><th scope=row>7</th><td>1</td><td>158</td><td>audi       </td><td>gas</td><td>std  </td><td>four</td><td>sedan      </td><td>fwd</td><td>front</td><td>105.8</td><td>⋯</td><td>136</td><td>mpfi</td><td>3.19</td><td>3.40</td><td> 8.5</td><td>110</td><td>5500</td><td>19</td><td>25</td><td>17710</td></tr>\n",
       "\t<tr><th scope=row>8</th><td>1</td><td> NA</td><td>audi       </td><td>gas</td><td>std  </td><td>four</td><td>wagon      </td><td>fwd</td><td>front</td><td>105.8</td><td>⋯</td><td>136</td><td>mpfi</td><td>3.19</td><td>3.40</td><td> 8.5</td><td>110</td><td>5500</td><td>19</td><td>25</td><td>18920</td></tr>\n",
       "\t<tr><th scope=row>9</th><td>1</td><td>158</td><td>audi       </td><td>gas</td><td>turbo</td><td>four</td><td>sedan      </td><td>fwd</td><td>front</td><td>105.8</td><td>⋯</td><td>131</td><td>mpfi</td><td>3.13</td><td>3.40</td><td> 8.3</td><td>140</td><td>5500</td><td>17</td><td>20</td><td>23875</td></tr>\n",
       "\t<tr><th scope=row>10</th><td>0</td><td> NA</td><td>audi       </td><td>gas</td><td>turbo</td><td>two </td><td>hatchback  </td><td>4wd</td><td>front</td><td> 99.5</td><td>⋯</td><td>131</td><td>mpfi</td><td>3.13</td><td>3.40</td><td> 7.0</td><td>160</td><td>5500</td><td>16</td><td>22</td><td>   NA</td></tr>\n",
       "</tbody>\n",
       "</table>\n"
      ],
      "text/latex": [
       "A data.frame: 10 × 26\n",
       "\\begin{tabular}{r|lllllllllllllllllllll}\n",
       "  & symb & normLoss & make & fuelType & aspiration & nDoors & bodyStyle & driveWheels & engineLocation & wheelBase & ⋯ & engineSize & fuelSystem & bore & stroke & compressionRatio & horsePower & peakRpm & cityMpg & highwayMpg & price\\\\\n",
       "  & <int> & <int> & <fct> & <fct> & <fct> & <fct> & <fct> & <fct> & <fct> & <dbl> & ⋯ & <int> & <fct> & <dbl> & <dbl> & <dbl> & <int> & <int> & <int> & <int> & <int>\\\\\n",
       "\\hline\n",
       "\t1 & 3 &  NA & alfa-romero & gas & std   & two  & convertible & rwd & front &  88.6 & ⋯ & 130 & mpfi & 3.47 & 2.68 &  9.0 & 111 & 5000 & 21 & 27 & 13495\\\\\n",
       "\t2 & 3 &  NA & alfa-romero & gas & std   & two  & convertible & rwd & front &  88.6 & ⋯ & 130 & mpfi & 3.47 & 2.68 &  9.0 & 111 & 5000 & 21 & 27 & 16500\\\\\n",
       "\t3 & 1 &  NA & alfa-romero & gas & std   & two  & hatchback   & rwd & front &  94.5 & ⋯ & 152 & mpfi & 2.68 & 3.47 &  9.0 & 154 & 5000 & 19 & 26 & 16500\\\\\n",
       "\t4 & 2 & 164 & audi        & gas & std   & four & sedan       & fwd & front &  99.8 & ⋯ & 109 & mpfi & 3.19 & 3.40 & 10.0 & 102 & 5500 & 24 & 30 & 13950\\\\\n",
       "\t5 & 2 & 164 & audi        & gas & std   & four & sedan       & 4wd & front &  99.4 & ⋯ & 136 & mpfi & 3.19 & 3.40 &  8.0 & 115 & 5500 & 18 & 22 & 17450\\\\\n",
       "\t6 & 2 &  NA & audi        & gas & std   & two  & sedan       & fwd & front &  99.8 & ⋯ & 136 & mpfi & 3.19 & 3.40 &  8.5 & 110 & 5500 & 19 & 25 & 15250\\\\\n",
       "\t7 & 1 & 158 & audi        & gas & std   & four & sedan       & fwd & front & 105.8 & ⋯ & 136 & mpfi & 3.19 & 3.40 &  8.5 & 110 & 5500 & 19 & 25 & 17710\\\\\n",
       "\t8 & 1 &  NA & audi        & gas & std   & four & wagon       & fwd & front & 105.8 & ⋯ & 136 & mpfi & 3.19 & 3.40 &  8.5 & 110 & 5500 & 19 & 25 & 18920\\\\\n",
       "\t9 & 1 & 158 & audi        & gas & turbo & four & sedan       & fwd & front & 105.8 & ⋯ & 131 & mpfi & 3.13 & 3.40 &  8.3 & 140 & 5500 & 17 & 20 & 23875\\\\\n",
       "\t10 & 0 &  NA & audi        & gas & turbo & two  & hatchback   & 4wd & front &  99.5 & ⋯ & 131 & mpfi & 3.13 & 3.40 &  7.0 & 160 & 5500 & 16 & 22 &    NA\\\\\n",
       "\\end{tabular}\n"
      ],
      "text/markdown": [
       "\n",
       "A data.frame: 10 × 26\n",
       "\n",
       "| <!--/--> | symb &lt;int&gt; | normLoss &lt;int&gt; | make &lt;fct&gt; | fuelType &lt;fct&gt; | aspiration &lt;fct&gt; | nDoors &lt;fct&gt; | bodyStyle &lt;fct&gt; | driveWheels &lt;fct&gt; | engineLocation &lt;fct&gt; | wheelBase &lt;dbl&gt; | ⋯ ⋯ | engineSize &lt;int&gt; | fuelSystem &lt;fct&gt; | bore &lt;dbl&gt; | stroke &lt;dbl&gt; | compressionRatio &lt;dbl&gt; | horsePower &lt;int&gt; | peakRpm &lt;int&gt; | cityMpg &lt;int&gt; | highwayMpg &lt;int&gt; | price &lt;int&gt; |\n",
       "|---|---|---|---|---|---|---|---|---|---|---|---|---|---|---|---|---|---|---|---|---|---|\n",
       "| 1 | 3 |  NA | alfa-romero | gas | std   | two  | convertible | rwd | front |  88.6 | ⋯ | 130 | mpfi | 3.47 | 2.68 |  9.0 | 111 | 5000 | 21 | 27 | 13495 |\n",
       "| 2 | 3 |  NA | alfa-romero | gas | std   | two  | convertible | rwd | front |  88.6 | ⋯ | 130 | mpfi | 3.47 | 2.68 |  9.0 | 111 | 5000 | 21 | 27 | 16500 |\n",
       "| 3 | 1 |  NA | alfa-romero | gas | std   | two  | hatchback   | rwd | front |  94.5 | ⋯ | 152 | mpfi | 2.68 | 3.47 |  9.0 | 154 | 5000 | 19 | 26 | 16500 |\n",
       "| 4 | 2 | 164 | audi        | gas | std   | four | sedan       | fwd | front |  99.8 | ⋯ | 109 | mpfi | 3.19 | 3.40 | 10.0 | 102 | 5500 | 24 | 30 | 13950 |\n",
       "| 5 | 2 | 164 | audi        | gas | std   | four | sedan       | 4wd | front |  99.4 | ⋯ | 136 | mpfi | 3.19 | 3.40 |  8.0 | 115 | 5500 | 18 | 22 | 17450 |\n",
       "| 6 | 2 |  NA | audi        | gas | std   | two  | sedan       | fwd | front |  99.8 | ⋯ | 136 | mpfi | 3.19 | 3.40 |  8.5 | 110 | 5500 | 19 | 25 | 15250 |\n",
       "| 7 | 1 | 158 | audi        | gas | std   | four | sedan       | fwd | front | 105.8 | ⋯ | 136 | mpfi | 3.19 | 3.40 |  8.5 | 110 | 5500 | 19 | 25 | 17710 |\n",
       "| 8 | 1 |  NA | audi        | gas | std   | four | wagon       | fwd | front | 105.8 | ⋯ | 136 | mpfi | 3.19 | 3.40 |  8.5 | 110 | 5500 | 19 | 25 | 18920 |\n",
       "| 9 | 1 | 158 | audi        | gas | turbo | four | sedan       | fwd | front | 105.8 | ⋯ | 131 | mpfi | 3.13 | 3.40 |  8.3 | 140 | 5500 | 17 | 20 | 23875 |\n",
       "| 10 | 0 |  NA | audi        | gas | turbo | two  | hatchback   | 4wd | front |  99.5 | ⋯ | 131 | mpfi | 3.13 | 3.40 |  7.0 | 160 | 5500 | 16 | 22 |    NA |\n",
       "\n"
      ],
      "text/plain": [
       "   symb normLoss make        fuelType aspiration nDoors bodyStyle   driveWheels\n",
       "1  3     NA      alfa-romero gas      std        two    convertible rwd        \n",
       "2  3     NA      alfa-romero gas      std        two    convertible rwd        \n",
       "3  1     NA      alfa-romero gas      std        two    hatchback   rwd        \n",
       "4  2    164      audi        gas      std        four   sedan       fwd        \n",
       "5  2    164      audi        gas      std        four   sedan       4wd        \n",
       "6  2     NA      audi        gas      std        two    sedan       fwd        \n",
       "7  1    158      audi        gas      std        four   sedan       fwd        \n",
       "8  1     NA      audi        gas      std        four   wagon       fwd        \n",
       "9  1    158      audi        gas      turbo      four   sedan       fwd        \n",
       "10 0     NA      audi        gas      turbo      two    hatchback   4wd        \n",
       "   engineLocation wheelBase ⋯ engineSize fuelSystem bore stroke\n",
       "1  front           88.6     ⋯ 130        mpfi       3.47 2.68  \n",
       "2  front           88.6     ⋯ 130        mpfi       3.47 2.68  \n",
       "3  front           94.5     ⋯ 152        mpfi       2.68 3.47  \n",
       "4  front           99.8     ⋯ 109        mpfi       3.19 3.40  \n",
       "5  front           99.4     ⋯ 136        mpfi       3.19 3.40  \n",
       "6  front           99.8     ⋯ 136        mpfi       3.19 3.40  \n",
       "7  front          105.8     ⋯ 136        mpfi       3.19 3.40  \n",
       "8  front          105.8     ⋯ 136        mpfi       3.19 3.40  \n",
       "9  front          105.8     ⋯ 131        mpfi       3.13 3.40  \n",
       "10 front           99.5     ⋯ 131        mpfi       3.13 3.40  \n",
       "   compressionRatio horsePower peakRpm cityMpg highwayMpg price\n",
       "1   9.0             111        5000    21      27         13495\n",
       "2   9.0             111        5000    21      27         16500\n",
       "3   9.0             154        5000    19      26         16500\n",
       "4  10.0             102        5500    24      30         13950\n",
       "5   8.0             115        5500    18      22         17450\n",
       "6   8.5             110        5500    19      25         15250\n",
       "7   8.5             110        5500    19      25         17710\n",
       "8   8.5             110        5500    19      25         18920\n",
       "9   8.3             140        5500    17      20         23875\n",
       "10  7.0             160        5500    16      22            NA"
      ]
     },
     "metadata": {},
     "output_type": "display_data"
    }
   ],
   "source": [
    "#Load the data set\n",
    "load(\"C:/Users/Paola/Documents/GitHub/hands-on-2023A/data/02_dataquality/carInsurance.Rdata\")\n",
    "\n",
    "# Convert the loaded object to a data frame \n",
    "df <- as.data.frame(carIns)\n",
    "\n",
    "# Write the data frame to a CSV file\n",
    "write.csv(df, \"carInsurance.csv\", row.names = FALSE)\n",
    "\n",
    "#Check the new file .csv\n",
    "head(df, 10)"
   ]
  },
  {
   "cell_type": "markdown",
   "metadata": {},
   "source": [
    "### (a) Check if there are any missing values.Tip: use the function any_na()."
   ]
  },
  {
   "cell_type": "code",
   "execution_count": 4,
   "metadata": {},
   "outputs": [
    {
     "name": "stdout",
     "output_type": "stream",
     "text": [
      "[1] \"There are missing values in the dataset.\"\n"
     ]
    }
   ],
   "source": [
    "# Check for missing values\n",
    "if (any_na(df)) {\n",
    "  print(\"There are missing values in the dataset.\")\n",
    "} else {\n",
    "  print(\"There are no missing values in the dataset.\")\n",
    "}\n"
   ]
  },
  {
   "cell_type": "markdown",
   "metadata": {},
   "source": [
    "### (b) Count the number of cases that have, at least, one missing value.Tip: use the function filter_any_na() and then count().\n"
   ]
  },
  {
   "cell_type": "code",
   "execution_count": 5,
   "metadata": {},
   "outputs": [
    {
     "name": "stdout",
     "output_type": "stream",
     "text": [
      "    n\n",
      "1 159\n"
     ]
    }
   ],
   "source": [
    "# Filter cases with at least one missing value and count them\n",
    "missing_cases <- df %>% filter_any_na() %>% count()\n",
    "\n",
    "# Print the number of cases with missing values\n",
    "print(missing_cases)\n"
   ]
  },
  {
   "cell_type": "markdown",
   "metadata": {},
   "source": [
    "### (c) Create a new data set by removing all the cases that have missing values.Tip: use the function drop_rows_any_na()"
   ]
  },
  {
   "cell_type": "code",
   "execution_count": 6,
   "metadata": {
    "tags": []
   },
   "outputs": [
    {
     "data": {
      "text/html": [
       "<table class=\"dataframe\">\n",
       "<caption>A data.frame: 10 × 26</caption>\n",
       "<thead>\n",
       "\t<tr><th></th><th scope=col>symb</th><th scope=col>normLoss</th><th scope=col>make</th><th scope=col>fuelType</th><th scope=col>aspiration</th><th scope=col>nDoors</th><th scope=col>bodyStyle</th><th scope=col>driveWheels</th><th scope=col>engineLocation</th><th scope=col>wheelBase</th><th scope=col>⋯</th><th scope=col>engineSize</th><th scope=col>fuelSystem</th><th scope=col>bore</th><th scope=col>stroke</th><th scope=col>compressionRatio</th><th scope=col>horsePower</th><th scope=col>peakRpm</th><th scope=col>cityMpg</th><th scope=col>highwayMpg</th><th scope=col>price</th></tr>\n",
       "\t<tr><th></th><th scope=col>&lt;int&gt;</th><th scope=col>&lt;int&gt;</th><th scope=col>&lt;fct&gt;</th><th scope=col>&lt;fct&gt;</th><th scope=col>&lt;fct&gt;</th><th scope=col>&lt;fct&gt;</th><th scope=col>&lt;fct&gt;</th><th scope=col>&lt;fct&gt;</th><th scope=col>&lt;fct&gt;</th><th scope=col>&lt;dbl&gt;</th><th scope=col>⋯</th><th scope=col>&lt;int&gt;</th><th scope=col>&lt;fct&gt;</th><th scope=col>&lt;dbl&gt;</th><th scope=col>&lt;dbl&gt;</th><th scope=col>&lt;dbl&gt;</th><th scope=col>&lt;int&gt;</th><th scope=col>&lt;int&gt;</th><th scope=col>&lt;int&gt;</th><th scope=col>&lt;int&gt;</th><th scope=col>&lt;int&gt;</th></tr>\n",
       "</thead>\n",
       "<tbody>\n",
       "\t<tr><th scope=row>4</th><td>2</td><td>164</td><td>audi     </td><td>gas</td><td>std  </td><td>four</td><td>sedan    </td><td>fwd</td><td>front</td><td> 99.8</td><td>⋯</td><td>109</td><td>mpfi</td><td>3.19</td><td>3.40</td><td>10.0</td><td>102</td><td>5500</td><td>24</td><td>30</td><td>13950</td></tr>\n",
       "\t<tr><th scope=row>5</th><td>2</td><td>164</td><td>audi     </td><td>gas</td><td>std  </td><td>four</td><td>sedan    </td><td>4wd</td><td>front</td><td> 99.4</td><td>⋯</td><td>136</td><td>mpfi</td><td>3.19</td><td>3.40</td><td> 8.0</td><td>115</td><td>5500</td><td>18</td><td>22</td><td>17450</td></tr>\n",
       "\t<tr><th scope=row>7</th><td>1</td><td>158</td><td>audi     </td><td>gas</td><td>std  </td><td>four</td><td>sedan    </td><td>fwd</td><td>front</td><td>105.8</td><td>⋯</td><td>136</td><td>mpfi</td><td>3.19</td><td>3.40</td><td> 8.5</td><td>110</td><td>5500</td><td>19</td><td>25</td><td>17710</td></tr>\n",
       "\t<tr><th scope=row>9</th><td>1</td><td>158</td><td>audi     </td><td>gas</td><td>turbo</td><td>four</td><td>sedan    </td><td>fwd</td><td>front</td><td>105.8</td><td>⋯</td><td>131</td><td>mpfi</td><td>3.13</td><td>3.40</td><td> 8.3</td><td>140</td><td>5500</td><td>17</td><td>20</td><td>23875</td></tr>\n",
       "\t<tr><th scope=row>11</th><td>2</td><td>192</td><td>bmw      </td><td>gas</td><td>std  </td><td>two </td><td>sedan    </td><td>rwd</td><td>front</td><td>101.2</td><td>⋯</td><td>108</td><td>mpfi</td><td>3.50</td><td>2.80</td><td> 8.8</td><td>101</td><td>5800</td><td>23</td><td>29</td><td>16430</td></tr>\n",
       "\t<tr><th scope=row>12</th><td>0</td><td>192</td><td>bmw      </td><td>gas</td><td>std  </td><td>four</td><td>sedan    </td><td>rwd</td><td>front</td><td>101.2</td><td>⋯</td><td>108</td><td>mpfi</td><td>3.50</td><td>2.80</td><td> 8.8</td><td>101</td><td>5800</td><td>23</td><td>29</td><td>16925</td></tr>\n",
       "\t<tr><th scope=row>13</th><td>0</td><td>188</td><td>bmw      </td><td>gas</td><td>std  </td><td>two </td><td>sedan    </td><td>rwd</td><td>front</td><td>101.2</td><td>⋯</td><td>164</td><td>mpfi</td><td>3.31</td><td>3.19</td><td> 9.0</td><td>121</td><td>4250</td><td>21</td><td>28</td><td>20970</td></tr>\n",
       "\t<tr><th scope=row>14</th><td>0</td><td>188</td><td>bmw      </td><td>gas</td><td>std  </td><td>four</td><td>sedan    </td><td>rwd</td><td>front</td><td>101.2</td><td>⋯</td><td>164</td><td>mpfi</td><td>3.31</td><td>3.19</td><td> 9.0</td><td>121</td><td>4250</td><td>21</td><td>28</td><td>21105</td></tr>\n",
       "\t<tr><th scope=row>19</th><td>2</td><td>121</td><td>chevrolet</td><td>gas</td><td>std  </td><td>two </td><td>hatchback</td><td>fwd</td><td>front</td><td> 88.4</td><td>⋯</td><td> 61</td><td>2bbl</td><td>2.91</td><td>3.03</td><td> 9.5</td><td> 48</td><td>5100</td><td>47</td><td>53</td><td> 5151</td></tr>\n",
       "\t<tr><th scope=row>20</th><td>1</td><td> 98</td><td>chevrolet</td><td>gas</td><td>std  </td><td>two </td><td>hatchback</td><td>fwd</td><td>front</td><td> 94.5</td><td>⋯</td><td> 90</td><td>2bbl</td><td>3.03</td><td>3.11</td><td> 9.6</td><td> 70</td><td>5400</td><td>38</td><td>43</td><td> 6295</td></tr>\n",
       "</tbody>\n",
       "</table>\n"
      ],
      "text/latex": [
       "A data.frame: 10 × 26\n",
       "\\begin{tabular}{r|lllllllllllllllllllll}\n",
       "  & symb & normLoss & make & fuelType & aspiration & nDoors & bodyStyle & driveWheels & engineLocation & wheelBase & ⋯ & engineSize & fuelSystem & bore & stroke & compressionRatio & horsePower & peakRpm & cityMpg & highwayMpg & price\\\\\n",
       "  & <int> & <int> & <fct> & <fct> & <fct> & <fct> & <fct> & <fct> & <fct> & <dbl> & ⋯ & <int> & <fct> & <dbl> & <dbl> & <dbl> & <int> & <int> & <int> & <int> & <int>\\\\\n",
       "\\hline\n",
       "\t4 & 2 & 164 & audi      & gas & std   & four & sedan     & fwd & front &  99.8 & ⋯ & 109 & mpfi & 3.19 & 3.40 & 10.0 & 102 & 5500 & 24 & 30 & 13950\\\\\n",
       "\t5 & 2 & 164 & audi      & gas & std   & four & sedan     & 4wd & front &  99.4 & ⋯ & 136 & mpfi & 3.19 & 3.40 &  8.0 & 115 & 5500 & 18 & 22 & 17450\\\\\n",
       "\t7 & 1 & 158 & audi      & gas & std   & four & sedan     & fwd & front & 105.8 & ⋯ & 136 & mpfi & 3.19 & 3.40 &  8.5 & 110 & 5500 & 19 & 25 & 17710\\\\\n",
       "\t9 & 1 & 158 & audi      & gas & turbo & four & sedan     & fwd & front & 105.8 & ⋯ & 131 & mpfi & 3.13 & 3.40 &  8.3 & 140 & 5500 & 17 & 20 & 23875\\\\\n",
       "\t11 & 2 & 192 & bmw       & gas & std   & two  & sedan     & rwd & front & 101.2 & ⋯ & 108 & mpfi & 3.50 & 2.80 &  8.8 & 101 & 5800 & 23 & 29 & 16430\\\\\n",
       "\t12 & 0 & 192 & bmw       & gas & std   & four & sedan     & rwd & front & 101.2 & ⋯ & 108 & mpfi & 3.50 & 2.80 &  8.8 & 101 & 5800 & 23 & 29 & 16925\\\\\n",
       "\t13 & 0 & 188 & bmw       & gas & std   & two  & sedan     & rwd & front & 101.2 & ⋯ & 164 & mpfi & 3.31 & 3.19 &  9.0 & 121 & 4250 & 21 & 28 & 20970\\\\\n",
       "\t14 & 0 & 188 & bmw       & gas & std   & four & sedan     & rwd & front & 101.2 & ⋯ & 164 & mpfi & 3.31 & 3.19 &  9.0 & 121 & 4250 & 21 & 28 & 21105\\\\\n",
       "\t19 & 2 & 121 & chevrolet & gas & std   & two  & hatchback & fwd & front &  88.4 & ⋯ &  61 & 2bbl & 2.91 & 3.03 &  9.5 &  48 & 5100 & 47 & 53 &  5151\\\\\n",
       "\t20 & 1 &  98 & chevrolet & gas & std   & two  & hatchback & fwd & front &  94.5 & ⋯ &  90 & 2bbl & 3.03 & 3.11 &  9.6 &  70 & 5400 & 38 & 43 &  6295\\\\\n",
       "\\end{tabular}\n"
      ],
      "text/markdown": [
       "\n",
       "A data.frame: 10 × 26\n",
       "\n",
       "| <!--/--> | symb &lt;int&gt; | normLoss &lt;int&gt; | make &lt;fct&gt; | fuelType &lt;fct&gt; | aspiration &lt;fct&gt; | nDoors &lt;fct&gt; | bodyStyle &lt;fct&gt; | driveWheels &lt;fct&gt; | engineLocation &lt;fct&gt; | wheelBase &lt;dbl&gt; | ⋯ ⋯ | engineSize &lt;int&gt; | fuelSystem &lt;fct&gt; | bore &lt;dbl&gt; | stroke &lt;dbl&gt; | compressionRatio &lt;dbl&gt; | horsePower &lt;int&gt; | peakRpm &lt;int&gt; | cityMpg &lt;int&gt; | highwayMpg &lt;int&gt; | price &lt;int&gt; |\n",
       "|---|---|---|---|---|---|---|---|---|---|---|---|---|---|---|---|---|---|---|---|---|---|\n",
       "| 4 | 2 | 164 | audi      | gas | std   | four | sedan     | fwd | front |  99.8 | ⋯ | 109 | mpfi | 3.19 | 3.40 | 10.0 | 102 | 5500 | 24 | 30 | 13950 |\n",
       "| 5 | 2 | 164 | audi      | gas | std   | four | sedan     | 4wd | front |  99.4 | ⋯ | 136 | mpfi | 3.19 | 3.40 |  8.0 | 115 | 5500 | 18 | 22 | 17450 |\n",
       "| 7 | 1 | 158 | audi      | gas | std   | four | sedan     | fwd | front | 105.8 | ⋯ | 136 | mpfi | 3.19 | 3.40 |  8.5 | 110 | 5500 | 19 | 25 | 17710 |\n",
       "| 9 | 1 | 158 | audi      | gas | turbo | four | sedan     | fwd | front | 105.8 | ⋯ | 131 | mpfi | 3.13 | 3.40 |  8.3 | 140 | 5500 | 17 | 20 | 23875 |\n",
       "| 11 | 2 | 192 | bmw       | gas | std   | two  | sedan     | rwd | front | 101.2 | ⋯ | 108 | mpfi | 3.50 | 2.80 |  8.8 | 101 | 5800 | 23 | 29 | 16430 |\n",
       "| 12 | 0 | 192 | bmw       | gas | std   | four | sedan     | rwd | front | 101.2 | ⋯ | 108 | mpfi | 3.50 | 2.80 |  8.8 | 101 | 5800 | 23 | 29 | 16925 |\n",
       "| 13 | 0 | 188 | bmw       | gas | std   | two  | sedan     | rwd | front | 101.2 | ⋯ | 164 | mpfi | 3.31 | 3.19 |  9.0 | 121 | 4250 | 21 | 28 | 20970 |\n",
       "| 14 | 0 | 188 | bmw       | gas | std   | four | sedan     | rwd | front | 101.2 | ⋯ | 164 | mpfi | 3.31 | 3.19 |  9.0 | 121 | 4250 | 21 | 28 | 21105 |\n",
       "| 19 | 2 | 121 | chevrolet | gas | std   | two  | hatchback | fwd | front |  88.4 | ⋯ |  61 | 2bbl | 2.91 | 3.03 |  9.5 |  48 | 5100 | 47 | 53 |  5151 |\n",
       "| 20 | 1 |  98 | chevrolet | gas | std   | two  | hatchback | fwd | front |  94.5 | ⋯ |  90 | 2bbl | 3.03 | 3.11 |  9.6 |  70 | 5400 | 38 | 43 |  6295 |\n",
       "\n"
      ],
      "text/plain": [
       "   symb normLoss make      fuelType aspiration nDoors bodyStyle driveWheels\n",
       "4  2    164      audi      gas      std        four   sedan     fwd        \n",
       "5  2    164      audi      gas      std        four   sedan     4wd        \n",
       "7  1    158      audi      gas      std        four   sedan     fwd        \n",
       "9  1    158      audi      gas      turbo      four   sedan     fwd        \n",
       "11 2    192      bmw       gas      std        two    sedan     rwd        \n",
       "12 0    192      bmw       gas      std        four   sedan     rwd        \n",
       "13 0    188      bmw       gas      std        two    sedan     rwd        \n",
       "14 0    188      bmw       gas      std        four   sedan     rwd        \n",
       "19 2    121      chevrolet gas      std        two    hatchback fwd        \n",
       "20 1     98      chevrolet gas      std        two    hatchback fwd        \n",
       "   engineLocation wheelBase ⋯ engineSize fuelSystem bore stroke\n",
       "4  front           99.8     ⋯ 109        mpfi       3.19 3.40  \n",
       "5  front           99.4     ⋯ 136        mpfi       3.19 3.40  \n",
       "7  front          105.8     ⋯ 136        mpfi       3.19 3.40  \n",
       "9  front          105.8     ⋯ 131        mpfi       3.13 3.40  \n",
       "11 front          101.2     ⋯ 108        mpfi       3.50 2.80  \n",
       "12 front          101.2     ⋯ 108        mpfi       3.50 2.80  \n",
       "13 front          101.2     ⋯ 164        mpfi       3.31 3.19  \n",
       "14 front          101.2     ⋯ 164        mpfi       3.31 3.19  \n",
       "19 front           88.4     ⋯  61        2bbl       2.91 3.03  \n",
       "20 front           94.5     ⋯  90        2bbl       3.03 3.11  \n",
       "   compressionRatio horsePower peakRpm cityMpg highwayMpg price\n",
       "4  10.0             102        5500    24      30         13950\n",
       "5   8.0             115        5500    18      22         17450\n",
       "7   8.5             110        5500    19      25         17710\n",
       "9   8.3             140        5500    17      20         23875\n",
       "11  8.8             101        5800    23      29         16430\n",
       "12  8.8             101        5800    23      29         16925\n",
       "13  9.0             121        4250    21      28         20970\n",
       "14  9.0             121        4250    21      28         21105\n",
       "19  9.5              48        5100    47      53          5151\n",
       "20  9.6              70        5400    38      43          6295"
      ]
     },
     "metadata": {},
     "output_type": "display_data"
    }
   ],
   "source": [
    "# Create a new dataset without missing values\n",
    "new_df <- drop_rows_any_na(df)\n",
    "#Print the first 10 rows\n",
    "head(new_df,10)\n"
   ]
  },
  {
   "cell_type": "markdown",
   "metadata": {},
   "source": [
    "### (d) Create a new data set by imputing all the missing values with 0. Tip: explore the variants of the function impute()\n"
   ]
  },
  {
   "cell_type": "code",
   "execution_count": 7,
   "metadata": {},
   "outputs": [
    {
     "data": {
      "text/html": [
       "<table class=\"dataframe\">\n",
       "<caption>A data.frame: 10 × 26</caption>\n",
       "<thead>\n",
       "\t<tr><th></th><th scope=col>symb</th><th scope=col>normLoss</th><th scope=col>make</th><th scope=col>fuelType</th><th scope=col>aspiration</th><th scope=col>nDoors</th><th scope=col>bodyStyle</th><th scope=col>driveWheels</th><th scope=col>engineLocation</th><th scope=col>wheelBase</th><th scope=col>⋯</th><th scope=col>engineSize</th><th scope=col>fuelSystem</th><th scope=col>bore</th><th scope=col>stroke</th><th scope=col>compressionRatio</th><th scope=col>horsePower</th><th scope=col>peakRpm</th><th scope=col>cityMpg</th><th scope=col>highwayMpg</th><th scope=col>price</th></tr>\n",
       "\t<tr><th></th><th scope=col>&lt;int&gt;</th><th scope=col>&lt;int&gt;</th><th scope=col>&lt;fct&gt;</th><th scope=col>&lt;fct&gt;</th><th scope=col>&lt;fct&gt;</th><th scope=col>&lt;fct&gt;</th><th scope=col>&lt;fct&gt;</th><th scope=col>&lt;fct&gt;</th><th scope=col>&lt;fct&gt;</th><th scope=col>&lt;dbl&gt;</th><th scope=col>⋯</th><th scope=col>&lt;int&gt;</th><th scope=col>&lt;fct&gt;</th><th scope=col>&lt;dbl&gt;</th><th scope=col>&lt;dbl&gt;</th><th scope=col>&lt;dbl&gt;</th><th scope=col>&lt;int&gt;</th><th scope=col>&lt;int&gt;</th><th scope=col>&lt;int&gt;</th><th scope=col>&lt;int&gt;</th><th scope=col>&lt;int&gt;</th></tr>\n",
       "</thead>\n",
       "<tbody>\n",
       "\t<tr><th scope=row>4</th><td>2</td><td>164</td><td>audi     </td><td>gas</td><td>std  </td><td>four</td><td>sedan    </td><td>fwd</td><td>front</td><td> 99.8</td><td>⋯</td><td>109</td><td>mpfi</td><td>3.19</td><td>3.40</td><td>10.0</td><td>102</td><td>5500</td><td>24</td><td>30</td><td>13950</td></tr>\n",
       "\t<tr><th scope=row>5</th><td>2</td><td>164</td><td>audi     </td><td>gas</td><td>std  </td><td>four</td><td>sedan    </td><td>4wd</td><td>front</td><td> 99.4</td><td>⋯</td><td>136</td><td>mpfi</td><td>3.19</td><td>3.40</td><td> 8.0</td><td>115</td><td>5500</td><td>18</td><td>22</td><td>17450</td></tr>\n",
       "\t<tr><th scope=row>7</th><td>1</td><td>158</td><td>audi     </td><td>gas</td><td>std  </td><td>four</td><td>sedan    </td><td>fwd</td><td>front</td><td>105.8</td><td>⋯</td><td>136</td><td>mpfi</td><td>3.19</td><td>3.40</td><td> 8.5</td><td>110</td><td>5500</td><td>19</td><td>25</td><td>17710</td></tr>\n",
       "\t<tr><th scope=row>9</th><td>1</td><td>158</td><td>audi     </td><td>gas</td><td>turbo</td><td>four</td><td>sedan    </td><td>fwd</td><td>front</td><td>105.8</td><td>⋯</td><td>131</td><td>mpfi</td><td>3.13</td><td>3.40</td><td> 8.3</td><td>140</td><td>5500</td><td>17</td><td>20</td><td>23875</td></tr>\n",
       "\t<tr><th scope=row>11</th><td>2</td><td>192</td><td>bmw      </td><td>gas</td><td>std  </td><td>two </td><td>sedan    </td><td>rwd</td><td>front</td><td>101.2</td><td>⋯</td><td>108</td><td>mpfi</td><td>3.50</td><td>2.80</td><td> 8.8</td><td>101</td><td>5800</td><td>23</td><td>29</td><td>16430</td></tr>\n",
       "\t<tr><th scope=row>12</th><td>0</td><td>192</td><td>bmw      </td><td>gas</td><td>std  </td><td>four</td><td>sedan    </td><td>rwd</td><td>front</td><td>101.2</td><td>⋯</td><td>108</td><td>mpfi</td><td>3.50</td><td>2.80</td><td> 8.8</td><td>101</td><td>5800</td><td>23</td><td>29</td><td>16925</td></tr>\n",
       "\t<tr><th scope=row>13</th><td>0</td><td>188</td><td>bmw      </td><td>gas</td><td>std  </td><td>two </td><td>sedan    </td><td>rwd</td><td>front</td><td>101.2</td><td>⋯</td><td>164</td><td>mpfi</td><td>3.31</td><td>3.19</td><td> 9.0</td><td>121</td><td>4250</td><td>21</td><td>28</td><td>20970</td></tr>\n",
       "\t<tr><th scope=row>14</th><td>0</td><td>188</td><td>bmw      </td><td>gas</td><td>std  </td><td>four</td><td>sedan    </td><td>rwd</td><td>front</td><td>101.2</td><td>⋯</td><td>164</td><td>mpfi</td><td>3.31</td><td>3.19</td><td> 9.0</td><td>121</td><td>4250</td><td>21</td><td>28</td><td>21105</td></tr>\n",
       "\t<tr><th scope=row>19</th><td>2</td><td>121</td><td>chevrolet</td><td>gas</td><td>std  </td><td>two </td><td>hatchback</td><td>fwd</td><td>front</td><td> 88.4</td><td>⋯</td><td> 61</td><td>2bbl</td><td>2.91</td><td>3.03</td><td> 9.5</td><td> 48</td><td>5100</td><td>47</td><td>53</td><td> 5151</td></tr>\n",
       "\t<tr><th scope=row>20</th><td>1</td><td> 98</td><td>chevrolet</td><td>gas</td><td>std  </td><td>two </td><td>hatchback</td><td>fwd</td><td>front</td><td> 94.5</td><td>⋯</td><td> 90</td><td>2bbl</td><td>3.03</td><td>3.11</td><td> 9.6</td><td> 70</td><td>5400</td><td>38</td><td>43</td><td> 6295</td></tr>\n",
       "</tbody>\n",
       "</table>\n"
      ],
      "text/latex": [
       "A data.frame: 10 × 26\n",
       "\\begin{tabular}{r|lllllllllllllllllllll}\n",
       "  & symb & normLoss & make & fuelType & aspiration & nDoors & bodyStyle & driveWheels & engineLocation & wheelBase & ⋯ & engineSize & fuelSystem & bore & stroke & compressionRatio & horsePower & peakRpm & cityMpg & highwayMpg & price\\\\\n",
       "  & <int> & <int> & <fct> & <fct> & <fct> & <fct> & <fct> & <fct> & <fct> & <dbl> & ⋯ & <int> & <fct> & <dbl> & <dbl> & <dbl> & <int> & <int> & <int> & <int> & <int>\\\\\n",
       "\\hline\n",
       "\t4 & 2 & 164 & audi      & gas & std   & four & sedan     & fwd & front &  99.8 & ⋯ & 109 & mpfi & 3.19 & 3.40 & 10.0 & 102 & 5500 & 24 & 30 & 13950\\\\\n",
       "\t5 & 2 & 164 & audi      & gas & std   & four & sedan     & 4wd & front &  99.4 & ⋯ & 136 & mpfi & 3.19 & 3.40 &  8.0 & 115 & 5500 & 18 & 22 & 17450\\\\\n",
       "\t7 & 1 & 158 & audi      & gas & std   & four & sedan     & fwd & front & 105.8 & ⋯ & 136 & mpfi & 3.19 & 3.40 &  8.5 & 110 & 5500 & 19 & 25 & 17710\\\\\n",
       "\t9 & 1 & 158 & audi      & gas & turbo & four & sedan     & fwd & front & 105.8 & ⋯ & 131 & mpfi & 3.13 & 3.40 &  8.3 & 140 & 5500 & 17 & 20 & 23875\\\\\n",
       "\t11 & 2 & 192 & bmw       & gas & std   & two  & sedan     & rwd & front & 101.2 & ⋯ & 108 & mpfi & 3.50 & 2.80 &  8.8 & 101 & 5800 & 23 & 29 & 16430\\\\\n",
       "\t12 & 0 & 192 & bmw       & gas & std   & four & sedan     & rwd & front & 101.2 & ⋯ & 108 & mpfi & 3.50 & 2.80 &  8.8 & 101 & 5800 & 23 & 29 & 16925\\\\\n",
       "\t13 & 0 & 188 & bmw       & gas & std   & two  & sedan     & rwd & front & 101.2 & ⋯ & 164 & mpfi & 3.31 & 3.19 &  9.0 & 121 & 4250 & 21 & 28 & 20970\\\\\n",
       "\t14 & 0 & 188 & bmw       & gas & std   & four & sedan     & rwd & front & 101.2 & ⋯ & 164 & mpfi & 3.31 & 3.19 &  9.0 & 121 & 4250 & 21 & 28 & 21105\\\\\n",
       "\t19 & 2 & 121 & chevrolet & gas & std   & two  & hatchback & fwd & front &  88.4 & ⋯ &  61 & 2bbl & 2.91 & 3.03 &  9.5 &  48 & 5100 & 47 & 53 &  5151\\\\\n",
       "\t20 & 1 &  98 & chevrolet & gas & std   & two  & hatchback & fwd & front &  94.5 & ⋯ &  90 & 2bbl & 3.03 & 3.11 &  9.6 &  70 & 5400 & 38 & 43 &  6295\\\\\n",
       "\\end{tabular}\n"
      ],
      "text/markdown": [
       "\n",
       "A data.frame: 10 × 26\n",
       "\n",
       "| <!--/--> | symb &lt;int&gt; | normLoss &lt;int&gt; | make &lt;fct&gt; | fuelType &lt;fct&gt; | aspiration &lt;fct&gt; | nDoors &lt;fct&gt; | bodyStyle &lt;fct&gt; | driveWheels &lt;fct&gt; | engineLocation &lt;fct&gt; | wheelBase &lt;dbl&gt; | ⋯ ⋯ | engineSize &lt;int&gt; | fuelSystem &lt;fct&gt; | bore &lt;dbl&gt; | stroke &lt;dbl&gt; | compressionRatio &lt;dbl&gt; | horsePower &lt;int&gt; | peakRpm &lt;int&gt; | cityMpg &lt;int&gt; | highwayMpg &lt;int&gt; | price &lt;int&gt; |\n",
       "|---|---|---|---|---|---|---|---|---|---|---|---|---|---|---|---|---|---|---|---|---|---|\n",
       "| 4 | 2 | 164 | audi      | gas | std   | four | sedan     | fwd | front |  99.8 | ⋯ | 109 | mpfi | 3.19 | 3.40 | 10.0 | 102 | 5500 | 24 | 30 | 13950 |\n",
       "| 5 | 2 | 164 | audi      | gas | std   | four | sedan     | 4wd | front |  99.4 | ⋯ | 136 | mpfi | 3.19 | 3.40 |  8.0 | 115 | 5500 | 18 | 22 | 17450 |\n",
       "| 7 | 1 | 158 | audi      | gas | std   | four | sedan     | fwd | front | 105.8 | ⋯ | 136 | mpfi | 3.19 | 3.40 |  8.5 | 110 | 5500 | 19 | 25 | 17710 |\n",
       "| 9 | 1 | 158 | audi      | gas | turbo | four | sedan     | fwd | front | 105.8 | ⋯ | 131 | mpfi | 3.13 | 3.40 |  8.3 | 140 | 5500 | 17 | 20 | 23875 |\n",
       "| 11 | 2 | 192 | bmw       | gas | std   | two  | sedan     | rwd | front | 101.2 | ⋯ | 108 | mpfi | 3.50 | 2.80 |  8.8 | 101 | 5800 | 23 | 29 | 16430 |\n",
       "| 12 | 0 | 192 | bmw       | gas | std   | four | sedan     | rwd | front | 101.2 | ⋯ | 108 | mpfi | 3.50 | 2.80 |  8.8 | 101 | 5800 | 23 | 29 | 16925 |\n",
       "| 13 | 0 | 188 | bmw       | gas | std   | two  | sedan     | rwd | front | 101.2 | ⋯ | 164 | mpfi | 3.31 | 3.19 |  9.0 | 121 | 4250 | 21 | 28 | 20970 |\n",
       "| 14 | 0 | 188 | bmw       | gas | std   | four | sedan     | rwd | front | 101.2 | ⋯ | 164 | mpfi | 3.31 | 3.19 |  9.0 | 121 | 4250 | 21 | 28 | 21105 |\n",
       "| 19 | 2 | 121 | chevrolet | gas | std   | two  | hatchback | fwd | front |  88.4 | ⋯ |  61 | 2bbl | 2.91 | 3.03 |  9.5 |  48 | 5100 | 47 | 53 |  5151 |\n",
       "| 20 | 1 |  98 | chevrolet | gas | std   | two  | hatchback | fwd | front |  94.5 | ⋯ |  90 | 2bbl | 3.03 | 3.11 |  9.6 |  70 | 5400 | 38 | 43 |  6295 |\n",
       "\n"
      ],
      "text/plain": [
       "   symb normLoss make      fuelType aspiration nDoors bodyStyle driveWheels\n",
       "4  2    164      audi      gas      std        four   sedan     fwd        \n",
       "5  2    164      audi      gas      std        four   sedan     4wd        \n",
       "7  1    158      audi      gas      std        four   sedan     fwd        \n",
       "9  1    158      audi      gas      turbo      four   sedan     fwd        \n",
       "11 2    192      bmw       gas      std        two    sedan     rwd        \n",
       "12 0    192      bmw       gas      std        four   sedan     rwd        \n",
       "13 0    188      bmw       gas      std        two    sedan     rwd        \n",
       "14 0    188      bmw       gas      std        four   sedan     rwd        \n",
       "19 2    121      chevrolet gas      std        two    hatchback fwd        \n",
       "20 1     98      chevrolet gas      std        two    hatchback fwd        \n",
       "   engineLocation wheelBase ⋯ engineSize fuelSystem bore stroke\n",
       "4  front           99.8     ⋯ 109        mpfi       3.19 3.40  \n",
       "5  front           99.4     ⋯ 136        mpfi       3.19 3.40  \n",
       "7  front          105.8     ⋯ 136        mpfi       3.19 3.40  \n",
       "9  front          105.8     ⋯ 131        mpfi       3.13 3.40  \n",
       "11 front          101.2     ⋯ 108        mpfi       3.50 2.80  \n",
       "12 front          101.2     ⋯ 108        mpfi       3.50 2.80  \n",
       "13 front          101.2     ⋯ 164        mpfi       3.31 3.19  \n",
       "14 front          101.2     ⋯ 164        mpfi       3.31 3.19  \n",
       "19 front           88.4     ⋯  61        2bbl       2.91 3.03  \n",
       "20 front           94.5     ⋯  90        2bbl       3.03 3.11  \n",
       "   compressionRatio horsePower peakRpm cityMpg highwayMpg price\n",
       "4  10.0             102        5500    24      30         13950\n",
       "5   8.0             115        5500    18      22         17450\n",
       "7   8.5             110        5500    19      25         17710\n",
       "9   8.3             140        5500    17      20         23875\n",
       "11  8.8             101        5800    23      29         16430\n",
       "12  8.8             101        5800    23      29         16925\n",
       "13  9.0             121        4250    21      28         20970\n",
       "14  9.0             121        4250    21      28         21105\n",
       "19  9.5              48        5100    47      53          5151\n",
       "20  9.6              70        5400    38      43          6295"
      ]
     },
     "metadata": {},
     "output_type": "display_data"
    }
   ],
   "source": [
    "# Create a new dataset with missing values imputed as 0\n",
    "new_dataset <- impute(new_df, method = \"fixed\", fixed_value = 0)\n",
    "#Print the first 10 rows\n",
    "head(new_dataset,10)\n"
   ]
  },
  {
   "cell_type": "markdown",
   "metadata": {},
   "source": [
    "### (e) Create a new data set by imputing the mean in all the columns which have double type values.\n"
   ]
  },
  {
   "cell_type": "code",
   "execution_count": 8,
   "metadata": {},
   "outputs": [
    {
     "data": {
      "text/html": [
       "<table class=\"dataframe\">\n",
       "<caption>A data.frame: 10 × 26</caption>\n",
       "<thead>\n",
       "\t<tr><th></th><th scope=col>symb</th><th scope=col>normLoss</th><th scope=col>make</th><th scope=col>fuelType</th><th scope=col>aspiration</th><th scope=col>nDoors</th><th scope=col>bodyStyle</th><th scope=col>driveWheels</th><th scope=col>engineLocation</th><th scope=col>wheelBase</th><th scope=col>⋯</th><th scope=col>engineSize</th><th scope=col>fuelSystem</th><th scope=col>bore</th><th scope=col>stroke</th><th scope=col>compressionRatio</th><th scope=col>horsePower</th><th scope=col>peakRpm</th><th scope=col>cityMpg</th><th scope=col>highwayMpg</th><th scope=col>price</th></tr>\n",
       "\t<tr><th></th><th scope=col>&lt;int&gt;</th><th scope=col>&lt;int&gt;</th><th scope=col>&lt;fct&gt;</th><th scope=col>&lt;fct&gt;</th><th scope=col>&lt;fct&gt;</th><th scope=col>&lt;fct&gt;</th><th scope=col>&lt;fct&gt;</th><th scope=col>&lt;fct&gt;</th><th scope=col>&lt;fct&gt;</th><th scope=col>&lt;dbl&gt;</th><th scope=col>⋯</th><th scope=col>&lt;int&gt;</th><th scope=col>&lt;fct&gt;</th><th scope=col>&lt;dbl&gt;</th><th scope=col>&lt;dbl&gt;</th><th scope=col>&lt;dbl&gt;</th><th scope=col>&lt;int&gt;</th><th scope=col>&lt;int&gt;</th><th scope=col>&lt;int&gt;</th><th scope=col>&lt;int&gt;</th><th scope=col>&lt;int&gt;</th></tr>\n",
       "</thead>\n",
       "<tbody>\n",
       "\t<tr><th scope=row>4</th><td>2</td><td>164</td><td>audi     </td><td>gas</td><td>std  </td><td>four</td><td>sedan    </td><td>fwd</td><td>front</td><td> 99.8</td><td>⋯</td><td>109</td><td>mpfi</td><td>3.19</td><td>3.40</td><td>10.0</td><td>102</td><td>5500</td><td>24</td><td>30</td><td>13950</td></tr>\n",
       "\t<tr><th scope=row>5</th><td>2</td><td>164</td><td>audi     </td><td>gas</td><td>std  </td><td>four</td><td>sedan    </td><td>4wd</td><td>front</td><td> 99.4</td><td>⋯</td><td>136</td><td>mpfi</td><td>3.19</td><td>3.40</td><td> 8.0</td><td>115</td><td>5500</td><td>18</td><td>22</td><td>17450</td></tr>\n",
       "\t<tr><th scope=row>7</th><td>1</td><td>158</td><td>audi     </td><td>gas</td><td>std  </td><td>four</td><td>sedan    </td><td>fwd</td><td>front</td><td>105.8</td><td>⋯</td><td>136</td><td>mpfi</td><td>3.19</td><td>3.40</td><td> 8.5</td><td>110</td><td>5500</td><td>19</td><td>25</td><td>17710</td></tr>\n",
       "\t<tr><th scope=row>9</th><td>1</td><td>158</td><td>audi     </td><td>gas</td><td>turbo</td><td>four</td><td>sedan    </td><td>fwd</td><td>front</td><td>105.8</td><td>⋯</td><td>131</td><td>mpfi</td><td>3.13</td><td>3.40</td><td> 8.3</td><td>140</td><td>5500</td><td>17</td><td>20</td><td>23875</td></tr>\n",
       "\t<tr><th scope=row>11</th><td>2</td><td>192</td><td>bmw      </td><td>gas</td><td>std  </td><td>two </td><td>sedan    </td><td>rwd</td><td>front</td><td>101.2</td><td>⋯</td><td>108</td><td>mpfi</td><td>3.50</td><td>2.80</td><td> 8.8</td><td>101</td><td>5800</td><td>23</td><td>29</td><td>16430</td></tr>\n",
       "\t<tr><th scope=row>12</th><td>0</td><td>192</td><td>bmw      </td><td>gas</td><td>std  </td><td>four</td><td>sedan    </td><td>rwd</td><td>front</td><td>101.2</td><td>⋯</td><td>108</td><td>mpfi</td><td>3.50</td><td>2.80</td><td> 8.8</td><td>101</td><td>5800</td><td>23</td><td>29</td><td>16925</td></tr>\n",
       "\t<tr><th scope=row>13</th><td>0</td><td>188</td><td>bmw      </td><td>gas</td><td>std  </td><td>two </td><td>sedan    </td><td>rwd</td><td>front</td><td>101.2</td><td>⋯</td><td>164</td><td>mpfi</td><td>3.31</td><td>3.19</td><td> 9.0</td><td>121</td><td>4250</td><td>21</td><td>28</td><td>20970</td></tr>\n",
       "\t<tr><th scope=row>14</th><td>0</td><td>188</td><td>bmw      </td><td>gas</td><td>std  </td><td>four</td><td>sedan    </td><td>rwd</td><td>front</td><td>101.2</td><td>⋯</td><td>164</td><td>mpfi</td><td>3.31</td><td>3.19</td><td> 9.0</td><td>121</td><td>4250</td><td>21</td><td>28</td><td>21105</td></tr>\n",
       "\t<tr><th scope=row>19</th><td>2</td><td>121</td><td>chevrolet</td><td>gas</td><td>std  </td><td>two </td><td>hatchback</td><td>fwd</td><td>front</td><td> 88.4</td><td>⋯</td><td> 61</td><td>2bbl</td><td>2.91</td><td>3.03</td><td> 9.5</td><td> 48</td><td>5100</td><td>47</td><td>53</td><td> 5151</td></tr>\n",
       "\t<tr><th scope=row>20</th><td>1</td><td> 98</td><td>chevrolet</td><td>gas</td><td>std  </td><td>two </td><td>hatchback</td><td>fwd</td><td>front</td><td> 94.5</td><td>⋯</td><td> 90</td><td>2bbl</td><td>3.03</td><td>3.11</td><td> 9.6</td><td> 70</td><td>5400</td><td>38</td><td>43</td><td> 6295</td></tr>\n",
       "</tbody>\n",
       "</table>\n"
      ],
      "text/latex": [
       "A data.frame: 10 × 26\n",
       "\\begin{tabular}{r|lllllllllllllllllllll}\n",
       "  & symb & normLoss & make & fuelType & aspiration & nDoors & bodyStyle & driveWheels & engineLocation & wheelBase & ⋯ & engineSize & fuelSystem & bore & stroke & compressionRatio & horsePower & peakRpm & cityMpg & highwayMpg & price\\\\\n",
       "  & <int> & <int> & <fct> & <fct> & <fct> & <fct> & <fct> & <fct> & <fct> & <dbl> & ⋯ & <int> & <fct> & <dbl> & <dbl> & <dbl> & <int> & <int> & <int> & <int> & <int>\\\\\n",
       "\\hline\n",
       "\t4 & 2 & 164 & audi      & gas & std   & four & sedan     & fwd & front &  99.8 & ⋯ & 109 & mpfi & 3.19 & 3.40 & 10.0 & 102 & 5500 & 24 & 30 & 13950\\\\\n",
       "\t5 & 2 & 164 & audi      & gas & std   & four & sedan     & 4wd & front &  99.4 & ⋯ & 136 & mpfi & 3.19 & 3.40 &  8.0 & 115 & 5500 & 18 & 22 & 17450\\\\\n",
       "\t7 & 1 & 158 & audi      & gas & std   & four & sedan     & fwd & front & 105.8 & ⋯ & 136 & mpfi & 3.19 & 3.40 &  8.5 & 110 & 5500 & 19 & 25 & 17710\\\\\n",
       "\t9 & 1 & 158 & audi      & gas & turbo & four & sedan     & fwd & front & 105.8 & ⋯ & 131 & mpfi & 3.13 & 3.40 &  8.3 & 140 & 5500 & 17 & 20 & 23875\\\\\n",
       "\t11 & 2 & 192 & bmw       & gas & std   & two  & sedan     & rwd & front & 101.2 & ⋯ & 108 & mpfi & 3.50 & 2.80 &  8.8 & 101 & 5800 & 23 & 29 & 16430\\\\\n",
       "\t12 & 0 & 192 & bmw       & gas & std   & four & sedan     & rwd & front & 101.2 & ⋯ & 108 & mpfi & 3.50 & 2.80 &  8.8 & 101 & 5800 & 23 & 29 & 16925\\\\\n",
       "\t13 & 0 & 188 & bmw       & gas & std   & two  & sedan     & rwd & front & 101.2 & ⋯ & 164 & mpfi & 3.31 & 3.19 &  9.0 & 121 & 4250 & 21 & 28 & 20970\\\\\n",
       "\t14 & 0 & 188 & bmw       & gas & std   & four & sedan     & rwd & front & 101.2 & ⋯ & 164 & mpfi & 3.31 & 3.19 &  9.0 & 121 & 4250 & 21 & 28 & 21105\\\\\n",
       "\t19 & 2 & 121 & chevrolet & gas & std   & two  & hatchback & fwd & front &  88.4 & ⋯ &  61 & 2bbl & 2.91 & 3.03 &  9.5 &  48 & 5100 & 47 & 53 &  5151\\\\\n",
       "\t20 & 1 &  98 & chevrolet & gas & std   & two  & hatchback & fwd & front &  94.5 & ⋯ &  90 & 2bbl & 3.03 & 3.11 &  9.6 &  70 & 5400 & 38 & 43 &  6295\\\\\n",
       "\\end{tabular}\n"
      ],
      "text/markdown": [
       "\n",
       "A data.frame: 10 × 26\n",
       "\n",
       "| <!--/--> | symb &lt;int&gt; | normLoss &lt;int&gt; | make &lt;fct&gt; | fuelType &lt;fct&gt; | aspiration &lt;fct&gt; | nDoors &lt;fct&gt; | bodyStyle &lt;fct&gt; | driveWheels &lt;fct&gt; | engineLocation &lt;fct&gt; | wheelBase &lt;dbl&gt; | ⋯ ⋯ | engineSize &lt;int&gt; | fuelSystem &lt;fct&gt; | bore &lt;dbl&gt; | stroke &lt;dbl&gt; | compressionRatio &lt;dbl&gt; | horsePower &lt;int&gt; | peakRpm &lt;int&gt; | cityMpg &lt;int&gt; | highwayMpg &lt;int&gt; | price &lt;int&gt; |\n",
       "|---|---|---|---|---|---|---|---|---|---|---|---|---|---|---|---|---|---|---|---|---|---|\n",
       "| 4 | 2 | 164 | audi      | gas | std   | four | sedan     | fwd | front |  99.8 | ⋯ | 109 | mpfi | 3.19 | 3.40 | 10.0 | 102 | 5500 | 24 | 30 | 13950 |\n",
       "| 5 | 2 | 164 | audi      | gas | std   | four | sedan     | 4wd | front |  99.4 | ⋯ | 136 | mpfi | 3.19 | 3.40 |  8.0 | 115 | 5500 | 18 | 22 | 17450 |\n",
       "| 7 | 1 | 158 | audi      | gas | std   | four | sedan     | fwd | front | 105.8 | ⋯ | 136 | mpfi | 3.19 | 3.40 |  8.5 | 110 | 5500 | 19 | 25 | 17710 |\n",
       "| 9 | 1 | 158 | audi      | gas | turbo | four | sedan     | fwd | front | 105.8 | ⋯ | 131 | mpfi | 3.13 | 3.40 |  8.3 | 140 | 5500 | 17 | 20 | 23875 |\n",
       "| 11 | 2 | 192 | bmw       | gas | std   | two  | sedan     | rwd | front | 101.2 | ⋯ | 108 | mpfi | 3.50 | 2.80 |  8.8 | 101 | 5800 | 23 | 29 | 16430 |\n",
       "| 12 | 0 | 192 | bmw       | gas | std   | four | sedan     | rwd | front | 101.2 | ⋯ | 108 | mpfi | 3.50 | 2.80 |  8.8 | 101 | 5800 | 23 | 29 | 16925 |\n",
       "| 13 | 0 | 188 | bmw       | gas | std   | two  | sedan     | rwd | front | 101.2 | ⋯ | 164 | mpfi | 3.31 | 3.19 |  9.0 | 121 | 4250 | 21 | 28 | 20970 |\n",
       "| 14 | 0 | 188 | bmw       | gas | std   | four | sedan     | rwd | front | 101.2 | ⋯ | 164 | mpfi | 3.31 | 3.19 |  9.0 | 121 | 4250 | 21 | 28 | 21105 |\n",
       "| 19 | 2 | 121 | chevrolet | gas | std   | two  | hatchback | fwd | front |  88.4 | ⋯ |  61 | 2bbl | 2.91 | 3.03 |  9.5 |  48 | 5100 | 47 | 53 |  5151 |\n",
       "| 20 | 1 |  98 | chevrolet | gas | std   | two  | hatchback | fwd | front |  94.5 | ⋯ |  90 | 2bbl | 3.03 | 3.11 |  9.6 |  70 | 5400 | 38 | 43 |  6295 |\n",
       "\n"
      ],
      "text/plain": [
       "   symb normLoss make      fuelType aspiration nDoors bodyStyle driveWheels\n",
       "4  2    164      audi      gas      std        four   sedan     fwd        \n",
       "5  2    164      audi      gas      std        four   sedan     4wd        \n",
       "7  1    158      audi      gas      std        four   sedan     fwd        \n",
       "9  1    158      audi      gas      turbo      four   sedan     fwd        \n",
       "11 2    192      bmw       gas      std        two    sedan     rwd        \n",
       "12 0    192      bmw       gas      std        four   sedan     rwd        \n",
       "13 0    188      bmw       gas      std        two    sedan     rwd        \n",
       "14 0    188      bmw       gas      std        four   sedan     rwd        \n",
       "19 2    121      chevrolet gas      std        two    hatchback fwd        \n",
       "20 1     98      chevrolet gas      std        two    hatchback fwd        \n",
       "   engineLocation wheelBase ⋯ engineSize fuelSystem bore stroke\n",
       "4  front           99.8     ⋯ 109        mpfi       3.19 3.40  \n",
       "5  front           99.4     ⋯ 136        mpfi       3.19 3.40  \n",
       "7  front          105.8     ⋯ 136        mpfi       3.19 3.40  \n",
       "9  front          105.8     ⋯ 131        mpfi       3.13 3.40  \n",
       "11 front          101.2     ⋯ 108        mpfi       3.50 2.80  \n",
       "12 front          101.2     ⋯ 108        mpfi       3.50 2.80  \n",
       "13 front          101.2     ⋯ 164        mpfi       3.31 3.19  \n",
       "14 front          101.2     ⋯ 164        mpfi       3.31 3.19  \n",
       "19 front           88.4     ⋯  61        2bbl       2.91 3.03  \n",
       "20 front           94.5     ⋯  90        2bbl       3.03 3.11  \n",
       "   compressionRatio horsePower peakRpm cityMpg highwayMpg price\n",
       "4  10.0             102        5500    24      30         13950\n",
       "5   8.0             115        5500    18      22         17450\n",
       "7   8.5             110        5500    19      25         17710\n",
       "9   8.3             140        5500    17      20         23875\n",
       "11  8.8             101        5800    23      29         16430\n",
       "12  8.8             101        5800    23      29         16925\n",
       "13  9.0             121        4250    21      28         20970\n",
       "14  9.0             121        4250    21      28         21105\n",
       "19  9.5              48        5100    47      53          5151\n",
       "20  9.6              70        5400    38      43          6295"
      ]
     },
     "metadata": {},
     "output_type": "display_data"
    }
   ],
   "source": [
    "# Identify columns with double type values\n",
    "double_columns <- sapply(new_df, is.double)\n",
    "\n",
    "# Impute the mean in the identified columns\n",
    "new_dataset1 <- new_df\n",
    "for (col in names(new_dataset1)[double_columns]) {\n",
    "  new_dataset1[[col]][is.na(new_dataset1[[col]])] <- mean(new_dataset1[[col]], na.rm = TRUE)\n",
    "}\n",
    "head(new_dataset1,10)"
   ]
  },
  {
   "cell_type": "markdown",
   "metadata": {
    "tags": []
   },
   "source": [
    "### (f) Create a new data set by imputing the mode in all the columns which have integer type values."
   ]
  },
  {
   "cell_type": "code",
   "execution_count": 9,
   "metadata": {},
   "outputs": [
    {
     "data": {
      "text/html": [
       "<table class=\"dataframe\">\n",
       "<caption>A data.frame: 10 × 26</caption>\n",
       "<thead>\n",
       "\t<tr><th></th><th scope=col>symb</th><th scope=col>normLoss</th><th scope=col>make</th><th scope=col>fuelType</th><th scope=col>aspiration</th><th scope=col>nDoors</th><th scope=col>bodyStyle</th><th scope=col>driveWheels</th><th scope=col>engineLocation</th><th scope=col>wheelBase</th><th scope=col>⋯</th><th scope=col>engineSize</th><th scope=col>fuelSystem</th><th scope=col>bore</th><th scope=col>stroke</th><th scope=col>compressionRatio</th><th scope=col>horsePower</th><th scope=col>peakRpm</th><th scope=col>cityMpg</th><th scope=col>highwayMpg</th><th scope=col>price</th></tr>\n",
       "\t<tr><th></th><th scope=col>&lt;int&gt;</th><th scope=col>&lt;int&gt;</th><th scope=col>&lt;fct&gt;</th><th scope=col>&lt;fct&gt;</th><th scope=col>&lt;fct&gt;</th><th scope=col>&lt;fct&gt;</th><th scope=col>&lt;fct&gt;</th><th scope=col>&lt;fct&gt;</th><th scope=col>&lt;fct&gt;</th><th scope=col>&lt;dbl&gt;</th><th scope=col>⋯</th><th scope=col>&lt;int&gt;</th><th scope=col>&lt;fct&gt;</th><th scope=col>&lt;dbl&gt;</th><th scope=col>&lt;dbl&gt;</th><th scope=col>&lt;dbl&gt;</th><th scope=col>&lt;int&gt;</th><th scope=col>&lt;int&gt;</th><th scope=col>&lt;int&gt;</th><th scope=col>&lt;int&gt;</th><th scope=col>&lt;int&gt;</th></tr>\n",
       "</thead>\n",
       "<tbody>\n",
       "\t<tr><th scope=row>4</th><td>2</td><td>164</td><td>audi     </td><td>gas</td><td>std  </td><td>four</td><td>sedan    </td><td>fwd</td><td>front</td><td> 99.8</td><td>⋯</td><td>109</td><td>mpfi</td><td>3.19</td><td>3.40</td><td>10.0</td><td>102</td><td>5500</td><td>24</td><td>30</td><td>13950</td></tr>\n",
       "\t<tr><th scope=row>5</th><td>2</td><td>164</td><td>audi     </td><td>gas</td><td>std  </td><td>four</td><td>sedan    </td><td>4wd</td><td>front</td><td> 99.4</td><td>⋯</td><td>136</td><td>mpfi</td><td>3.19</td><td>3.40</td><td> 8.0</td><td>115</td><td>5500</td><td>18</td><td>22</td><td>17450</td></tr>\n",
       "\t<tr><th scope=row>7</th><td>1</td><td>158</td><td>audi     </td><td>gas</td><td>std  </td><td>four</td><td>sedan    </td><td>fwd</td><td>front</td><td>105.8</td><td>⋯</td><td>136</td><td>mpfi</td><td>3.19</td><td>3.40</td><td> 8.5</td><td>110</td><td>5500</td><td>19</td><td>25</td><td>17710</td></tr>\n",
       "\t<tr><th scope=row>9</th><td>1</td><td>158</td><td>audi     </td><td>gas</td><td>turbo</td><td>four</td><td>sedan    </td><td>fwd</td><td>front</td><td>105.8</td><td>⋯</td><td>131</td><td>mpfi</td><td>3.13</td><td>3.40</td><td> 8.3</td><td>140</td><td>5500</td><td>17</td><td>20</td><td>23875</td></tr>\n",
       "\t<tr><th scope=row>11</th><td>2</td><td>192</td><td>bmw      </td><td>gas</td><td>std  </td><td>two </td><td>sedan    </td><td>rwd</td><td>front</td><td>101.2</td><td>⋯</td><td>108</td><td>mpfi</td><td>3.50</td><td>2.80</td><td> 8.8</td><td>101</td><td>5800</td><td>23</td><td>29</td><td>16430</td></tr>\n",
       "\t<tr><th scope=row>12</th><td>0</td><td>192</td><td>bmw      </td><td>gas</td><td>std  </td><td>four</td><td>sedan    </td><td>rwd</td><td>front</td><td>101.2</td><td>⋯</td><td>108</td><td>mpfi</td><td>3.50</td><td>2.80</td><td> 8.8</td><td>101</td><td>5800</td><td>23</td><td>29</td><td>16925</td></tr>\n",
       "\t<tr><th scope=row>13</th><td>0</td><td>188</td><td>bmw      </td><td>gas</td><td>std  </td><td>two </td><td>sedan    </td><td>rwd</td><td>front</td><td>101.2</td><td>⋯</td><td>164</td><td>mpfi</td><td>3.31</td><td>3.19</td><td> 9.0</td><td>121</td><td>4250</td><td>21</td><td>28</td><td>20970</td></tr>\n",
       "\t<tr><th scope=row>14</th><td>0</td><td>188</td><td>bmw      </td><td>gas</td><td>std  </td><td>four</td><td>sedan    </td><td>rwd</td><td>front</td><td>101.2</td><td>⋯</td><td>164</td><td>mpfi</td><td>3.31</td><td>3.19</td><td> 9.0</td><td>121</td><td>4250</td><td>21</td><td>28</td><td>21105</td></tr>\n",
       "\t<tr><th scope=row>19</th><td>2</td><td>121</td><td>chevrolet</td><td>gas</td><td>std  </td><td>two </td><td>hatchback</td><td>fwd</td><td>front</td><td> 88.4</td><td>⋯</td><td> 61</td><td>2bbl</td><td>2.91</td><td>3.03</td><td> 9.5</td><td> 48</td><td>5100</td><td>47</td><td>53</td><td> 5151</td></tr>\n",
       "\t<tr><th scope=row>20</th><td>1</td><td> 98</td><td>chevrolet</td><td>gas</td><td>std  </td><td>two </td><td>hatchback</td><td>fwd</td><td>front</td><td> 94.5</td><td>⋯</td><td> 90</td><td>2bbl</td><td>3.03</td><td>3.11</td><td> 9.6</td><td> 70</td><td>5400</td><td>38</td><td>43</td><td> 6295</td></tr>\n",
       "</tbody>\n",
       "</table>\n"
      ],
      "text/latex": [
       "A data.frame: 10 × 26\n",
       "\\begin{tabular}{r|lllllllllllllllllllll}\n",
       "  & symb & normLoss & make & fuelType & aspiration & nDoors & bodyStyle & driveWheels & engineLocation & wheelBase & ⋯ & engineSize & fuelSystem & bore & stroke & compressionRatio & horsePower & peakRpm & cityMpg & highwayMpg & price\\\\\n",
       "  & <int> & <int> & <fct> & <fct> & <fct> & <fct> & <fct> & <fct> & <fct> & <dbl> & ⋯ & <int> & <fct> & <dbl> & <dbl> & <dbl> & <int> & <int> & <int> & <int> & <int>\\\\\n",
       "\\hline\n",
       "\t4 & 2 & 164 & audi      & gas & std   & four & sedan     & fwd & front &  99.8 & ⋯ & 109 & mpfi & 3.19 & 3.40 & 10.0 & 102 & 5500 & 24 & 30 & 13950\\\\\n",
       "\t5 & 2 & 164 & audi      & gas & std   & four & sedan     & 4wd & front &  99.4 & ⋯ & 136 & mpfi & 3.19 & 3.40 &  8.0 & 115 & 5500 & 18 & 22 & 17450\\\\\n",
       "\t7 & 1 & 158 & audi      & gas & std   & four & sedan     & fwd & front & 105.8 & ⋯ & 136 & mpfi & 3.19 & 3.40 &  8.5 & 110 & 5500 & 19 & 25 & 17710\\\\\n",
       "\t9 & 1 & 158 & audi      & gas & turbo & four & sedan     & fwd & front & 105.8 & ⋯ & 131 & mpfi & 3.13 & 3.40 &  8.3 & 140 & 5500 & 17 & 20 & 23875\\\\\n",
       "\t11 & 2 & 192 & bmw       & gas & std   & two  & sedan     & rwd & front & 101.2 & ⋯ & 108 & mpfi & 3.50 & 2.80 &  8.8 & 101 & 5800 & 23 & 29 & 16430\\\\\n",
       "\t12 & 0 & 192 & bmw       & gas & std   & four & sedan     & rwd & front & 101.2 & ⋯ & 108 & mpfi & 3.50 & 2.80 &  8.8 & 101 & 5800 & 23 & 29 & 16925\\\\\n",
       "\t13 & 0 & 188 & bmw       & gas & std   & two  & sedan     & rwd & front & 101.2 & ⋯ & 164 & mpfi & 3.31 & 3.19 &  9.0 & 121 & 4250 & 21 & 28 & 20970\\\\\n",
       "\t14 & 0 & 188 & bmw       & gas & std   & four & sedan     & rwd & front & 101.2 & ⋯ & 164 & mpfi & 3.31 & 3.19 &  9.0 & 121 & 4250 & 21 & 28 & 21105\\\\\n",
       "\t19 & 2 & 121 & chevrolet & gas & std   & two  & hatchback & fwd & front &  88.4 & ⋯ &  61 & 2bbl & 2.91 & 3.03 &  9.5 &  48 & 5100 & 47 & 53 &  5151\\\\\n",
       "\t20 & 1 &  98 & chevrolet & gas & std   & two  & hatchback & fwd & front &  94.5 & ⋯ &  90 & 2bbl & 3.03 & 3.11 &  9.6 &  70 & 5400 & 38 & 43 &  6295\\\\\n",
       "\\end{tabular}\n"
      ],
      "text/markdown": [
       "\n",
       "A data.frame: 10 × 26\n",
       "\n",
       "| <!--/--> | symb &lt;int&gt; | normLoss &lt;int&gt; | make &lt;fct&gt; | fuelType &lt;fct&gt; | aspiration &lt;fct&gt; | nDoors &lt;fct&gt; | bodyStyle &lt;fct&gt; | driveWheels &lt;fct&gt; | engineLocation &lt;fct&gt; | wheelBase &lt;dbl&gt; | ⋯ ⋯ | engineSize &lt;int&gt; | fuelSystem &lt;fct&gt; | bore &lt;dbl&gt; | stroke &lt;dbl&gt; | compressionRatio &lt;dbl&gt; | horsePower &lt;int&gt; | peakRpm &lt;int&gt; | cityMpg &lt;int&gt; | highwayMpg &lt;int&gt; | price &lt;int&gt; |\n",
       "|---|---|---|---|---|---|---|---|---|---|---|---|---|---|---|---|---|---|---|---|---|---|\n",
       "| 4 | 2 | 164 | audi      | gas | std   | four | sedan     | fwd | front |  99.8 | ⋯ | 109 | mpfi | 3.19 | 3.40 | 10.0 | 102 | 5500 | 24 | 30 | 13950 |\n",
       "| 5 | 2 | 164 | audi      | gas | std   | four | sedan     | 4wd | front |  99.4 | ⋯ | 136 | mpfi | 3.19 | 3.40 |  8.0 | 115 | 5500 | 18 | 22 | 17450 |\n",
       "| 7 | 1 | 158 | audi      | gas | std   | four | sedan     | fwd | front | 105.8 | ⋯ | 136 | mpfi | 3.19 | 3.40 |  8.5 | 110 | 5500 | 19 | 25 | 17710 |\n",
       "| 9 | 1 | 158 | audi      | gas | turbo | four | sedan     | fwd | front | 105.8 | ⋯ | 131 | mpfi | 3.13 | 3.40 |  8.3 | 140 | 5500 | 17 | 20 | 23875 |\n",
       "| 11 | 2 | 192 | bmw       | gas | std   | two  | sedan     | rwd | front | 101.2 | ⋯ | 108 | mpfi | 3.50 | 2.80 |  8.8 | 101 | 5800 | 23 | 29 | 16430 |\n",
       "| 12 | 0 | 192 | bmw       | gas | std   | four | sedan     | rwd | front | 101.2 | ⋯ | 108 | mpfi | 3.50 | 2.80 |  8.8 | 101 | 5800 | 23 | 29 | 16925 |\n",
       "| 13 | 0 | 188 | bmw       | gas | std   | two  | sedan     | rwd | front | 101.2 | ⋯ | 164 | mpfi | 3.31 | 3.19 |  9.0 | 121 | 4250 | 21 | 28 | 20970 |\n",
       "| 14 | 0 | 188 | bmw       | gas | std   | four | sedan     | rwd | front | 101.2 | ⋯ | 164 | mpfi | 3.31 | 3.19 |  9.0 | 121 | 4250 | 21 | 28 | 21105 |\n",
       "| 19 | 2 | 121 | chevrolet | gas | std   | two  | hatchback | fwd | front |  88.4 | ⋯ |  61 | 2bbl | 2.91 | 3.03 |  9.5 |  48 | 5100 | 47 | 53 |  5151 |\n",
       "| 20 | 1 |  98 | chevrolet | gas | std   | two  | hatchback | fwd | front |  94.5 | ⋯ |  90 | 2bbl | 3.03 | 3.11 |  9.6 |  70 | 5400 | 38 | 43 |  6295 |\n",
       "\n"
      ],
      "text/plain": [
       "   symb normLoss make      fuelType aspiration nDoors bodyStyle driveWheels\n",
       "4  2    164      audi      gas      std        four   sedan     fwd        \n",
       "5  2    164      audi      gas      std        four   sedan     4wd        \n",
       "7  1    158      audi      gas      std        four   sedan     fwd        \n",
       "9  1    158      audi      gas      turbo      four   sedan     fwd        \n",
       "11 2    192      bmw       gas      std        two    sedan     rwd        \n",
       "12 0    192      bmw       gas      std        four   sedan     rwd        \n",
       "13 0    188      bmw       gas      std        two    sedan     rwd        \n",
       "14 0    188      bmw       gas      std        four   sedan     rwd        \n",
       "19 2    121      chevrolet gas      std        two    hatchback fwd        \n",
       "20 1     98      chevrolet gas      std        two    hatchback fwd        \n",
       "   engineLocation wheelBase ⋯ engineSize fuelSystem bore stroke\n",
       "4  front           99.8     ⋯ 109        mpfi       3.19 3.40  \n",
       "5  front           99.4     ⋯ 136        mpfi       3.19 3.40  \n",
       "7  front          105.8     ⋯ 136        mpfi       3.19 3.40  \n",
       "9  front          105.8     ⋯ 131        mpfi       3.13 3.40  \n",
       "11 front          101.2     ⋯ 108        mpfi       3.50 2.80  \n",
       "12 front          101.2     ⋯ 108        mpfi       3.50 2.80  \n",
       "13 front          101.2     ⋯ 164        mpfi       3.31 3.19  \n",
       "14 front          101.2     ⋯ 164        mpfi       3.31 3.19  \n",
       "19 front           88.4     ⋯  61        2bbl       2.91 3.03  \n",
       "20 front           94.5     ⋯  90        2bbl       3.03 3.11  \n",
       "   compressionRatio horsePower peakRpm cityMpg highwayMpg price\n",
       "4  10.0             102        5500    24      30         13950\n",
       "5   8.0             115        5500    18      22         17450\n",
       "7   8.5             110        5500    19      25         17710\n",
       "9   8.3             140        5500    17      20         23875\n",
       "11  8.8             101        5800    23      29         16430\n",
       "12  8.8             101        5800    23      29         16925\n",
       "13  9.0             121        4250    21      28         20970\n",
       "14  9.0             121        4250    21      28         21105\n",
       "19  9.5              48        5100    47      53          5151\n",
       "20  9.6              70        5400    38      43          6295"
      ]
     },
     "metadata": {},
     "output_type": "display_data"
    }
   ],
   "source": [
    "# Function to calculate the mode\n",
    "Mode <- function(x) {\n",
    "  ux <- unique(x)\n",
    "  ux[which.max(tabulate(match(x, ux)))]\n",
    "}\n",
    "\n",
    "# Identify columns with integer type values\n",
    "integer_columns <- sapply(new_df, is.integer)\n",
    "\n",
    "# Impute the mode in the identified columns\n",
    "new_dataset2 <- new_df\n",
    "for (col in names(new_dataset2)[integer_columns]) {\n",
    "  new_dataset2[[col]][is.na(new_dataset2[[col]])] <- Mode(new_dataset2[[col]])\n",
    "}\n",
    "head(new_dataset2,10)"
   ]
  },
  {
   "cell_type": "markdown",
   "metadata": {},
   "source": [
    "### (g) Create a new data set by imputing the most frequent value to the column \\\"nDoors\\\". Tip: use the function impute_replace()"
   ]
  },
  {
   "cell_type": "code",
   "execution_count": 10,
   "metadata": {},
   "outputs": [
    {
     "data": {
      "text/html": [
       "<table class=\"dataframe\">\n",
       "<caption>A data.frame: 10 × 26</caption>\n",
       "<thead>\n",
       "\t<tr><th></th><th scope=col>symb</th><th scope=col>normLoss</th><th scope=col>make</th><th scope=col>fuelType</th><th scope=col>aspiration</th><th scope=col>nDoors</th><th scope=col>bodyStyle</th><th scope=col>driveWheels</th><th scope=col>engineLocation</th><th scope=col>wheelBase</th><th scope=col>⋯</th><th scope=col>engineSize</th><th scope=col>fuelSystem</th><th scope=col>bore</th><th scope=col>stroke</th><th scope=col>compressionRatio</th><th scope=col>horsePower</th><th scope=col>peakRpm</th><th scope=col>cityMpg</th><th scope=col>highwayMpg</th><th scope=col>price</th></tr>\n",
       "\t<tr><th></th><th scope=col>&lt;int&gt;</th><th scope=col>&lt;int&gt;</th><th scope=col>&lt;fct&gt;</th><th scope=col>&lt;fct&gt;</th><th scope=col>&lt;fct&gt;</th><th scope=col>&lt;fct&gt;</th><th scope=col>&lt;fct&gt;</th><th scope=col>&lt;fct&gt;</th><th scope=col>&lt;fct&gt;</th><th scope=col>&lt;dbl&gt;</th><th scope=col>⋯</th><th scope=col>&lt;int&gt;</th><th scope=col>&lt;fct&gt;</th><th scope=col>&lt;dbl&gt;</th><th scope=col>&lt;dbl&gt;</th><th scope=col>&lt;dbl&gt;</th><th scope=col>&lt;int&gt;</th><th scope=col>&lt;int&gt;</th><th scope=col>&lt;int&gt;</th><th scope=col>&lt;int&gt;</th><th scope=col>&lt;int&gt;</th></tr>\n",
       "</thead>\n",
       "<tbody>\n",
       "\t<tr><th scope=row>4</th><td>2</td><td>164</td><td>audi     </td><td>gas</td><td>std  </td><td>four</td><td>sedan    </td><td>fwd</td><td>front</td><td> 99.8</td><td>⋯</td><td>109</td><td>mpfi</td><td>3.19</td><td>3.40</td><td>10.0</td><td>102</td><td>5500</td><td>24</td><td>30</td><td>13950</td></tr>\n",
       "\t<tr><th scope=row>5</th><td>2</td><td>164</td><td>audi     </td><td>gas</td><td>std  </td><td>four</td><td>sedan    </td><td>4wd</td><td>front</td><td> 99.4</td><td>⋯</td><td>136</td><td>mpfi</td><td>3.19</td><td>3.40</td><td> 8.0</td><td>115</td><td>5500</td><td>18</td><td>22</td><td>17450</td></tr>\n",
       "\t<tr><th scope=row>7</th><td>1</td><td>158</td><td>audi     </td><td>gas</td><td>std  </td><td>four</td><td>sedan    </td><td>fwd</td><td>front</td><td>105.8</td><td>⋯</td><td>136</td><td>mpfi</td><td>3.19</td><td>3.40</td><td> 8.5</td><td>110</td><td>5500</td><td>19</td><td>25</td><td>17710</td></tr>\n",
       "\t<tr><th scope=row>9</th><td>1</td><td>158</td><td>audi     </td><td>gas</td><td>turbo</td><td>four</td><td>sedan    </td><td>fwd</td><td>front</td><td>105.8</td><td>⋯</td><td>131</td><td>mpfi</td><td>3.13</td><td>3.40</td><td> 8.3</td><td>140</td><td>5500</td><td>17</td><td>20</td><td>23875</td></tr>\n",
       "\t<tr><th scope=row>11</th><td>2</td><td>192</td><td>bmw      </td><td>gas</td><td>std  </td><td>two </td><td>sedan    </td><td>rwd</td><td>front</td><td>101.2</td><td>⋯</td><td>108</td><td>mpfi</td><td>3.50</td><td>2.80</td><td> 8.8</td><td>101</td><td>5800</td><td>23</td><td>29</td><td>16430</td></tr>\n",
       "\t<tr><th scope=row>12</th><td>0</td><td>192</td><td>bmw      </td><td>gas</td><td>std  </td><td>four</td><td>sedan    </td><td>rwd</td><td>front</td><td>101.2</td><td>⋯</td><td>108</td><td>mpfi</td><td>3.50</td><td>2.80</td><td> 8.8</td><td>101</td><td>5800</td><td>23</td><td>29</td><td>16925</td></tr>\n",
       "\t<tr><th scope=row>13</th><td>0</td><td>188</td><td>bmw      </td><td>gas</td><td>std  </td><td>two </td><td>sedan    </td><td>rwd</td><td>front</td><td>101.2</td><td>⋯</td><td>164</td><td>mpfi</td><td>3.31</td><td>3.19</td><td> 9.0</td><td>121</td><td>4250</td><td>21</td><td>28</td><td>20970</td></tr>\n",
       "\t<tr><th scope=row>14</th><td>0</td><td>188</td><td>bmw      </td><td>gas</td><td>std  </td><td>four</td><td>sedan    </td><td>rwd</td><td>front</td><td>101.2</td><td>⋯</td><td>164</td><td>mpfi</td><td>3.31</td><td>3.19</td><td> 9.0</td><td>121</td><td>4250</td><td>21</td><td>28</td><td>21105</td></tr>\n",
       "\t<tr><th scope=row>19</th><td>2</td><td>121</td><td>chevrolet</td><td>gas</td><td>std  </td><td>two </td><td>hatchback</td><td>fwd</td><td>front</td><td> 88.4</td><td>⋯</td><td> 61</td><td>2bbl</td><td>2.91</td><td>3.03</td><td> 9.5</td><td> 48</td><td>5100</td><td>47</td><td>53</td><td> 5151</td></tr>\n",
       "\t<tr><th scope=row>20</th><td>1</td><td> 98</td><td>chevrolet</td><td>gas</td><td>std  </td><td>two </td><td>hatchback</td><td>fwd</td><td>front</td><td> 94.5</td><td>⋯</td><td> 90</td><td>2bbl</td><td>3.03</td><td>3.11</td><td> 9.6</td><td> 70</td><td>5400</td><td>38</td><td>43</td><td> 6295</td></tr>\n",
       "</tbody>\n",
       "</table>\n"
      ],
      "text/latex": [
       "A data.frame: 10 × 26\n",
       "\\begin{tabular}{r|lllllllllllllllllllll}\n",
       "  & symb & normLoss & make & fuelType & aspiration & nDoors & bodyStyle & driveWheels & engineLocation & wheelBase & ⋯ & engineSize & fuelSystem & bore & stroke & compressionRatio & horsePower & peakRpm & cityMpg & highwayMpg & price\\\\\n",
       "  & <int> & <int> & <fct> & <fct> & <fct> & <fct> & <fct> & <fct> & <fct> & <dbl> & ⋯ & <int> & <fct> & <dbl> & <dbl> & <dbl> & <int> & <int> & <int> & <int> & <int>\\\\\n",
       "\\hline\n",
       "\t4 & 2 & 164 & audi      & gas & std   & four & sedan     & fwd & front &  99.8 & ⋯ & 109 & mpfi & 3.19 & 3.40 & 10.0 & 102 & 5500 & 24 & 30 & 13950\\\\\n",
       "\t5 & 2 & 164 & audi      & gas & std   & four & sedan     & 4wd & front &  99.4 & ⋯ & 136 & mpfi & 3.19 & 3.40 &  8.0 & 115 & 5500 & 18 & 22 & 17450\\\\\n",
       "\t7 & 1 & 158 & audi      & gas & std   & four & sedan     & fwd & front & 105.8 & ⋯ & 136 & mpfi & 3.19 & 3.40 &  8.5 & 110 & 5500 & 19 & 25 & 17710\\\\\n",
       "\t9 & 1 & 158 & audi      & gas & turbo & four & sedan     & fwd & front & 105.8 & ⋯ & 131 & mpfi & 3.13 & 3.40 &  8.3 & 140 & 5500 & 17 & 20 & 23875\\\\\n",
       "\t11 & 2 & 192 & bmw       & gas & std   & two  & sedan     & rwd & front & 101.2 & ⋯ & 108 & mpfi & 3.50 & 2.80 &  8.8 & 101 & 5800 & 23 & 29 & 16430\\\\\n",
       "\t12 & 0 & 192 & bmw       & gas & std   & four & sedan     & rwd & front & 101.2 & ⋯ & 108 & mpfi & 3.50 & 2.80 &  8.8 & 101 & 5800 & 23 & 29 & 16925\\\\\n",
       "\t13 & 0 & 188 & bmw       & gas & std   & two  & sedan     & rwd & front & 101.2 & ⋯ & 164 & mpfi & 3.31 & 3.19 &  9.0 & 121 & 4250 & 21 & 28 & 20970\\\\\n",
       "\t14 & 0 & 188 & bmw       & gas & std   & four & sedan     & rwd & front & 101.2 & ⋯ & 164 & mpfi & 3.31 & 3.19 &  9.0 & 121 & 4250 & 21 & 28 & 21105\\\\\n",
       "\t19 & 2 & 121 & chevrolet & gas & std   & two  & hatchback & fwd & front &  88.4 & ⋯ &  61 & 2bbl & 2.91 & 3.03 &  9.5 &  48 & 5100 & 47 & 53 &  5151\\\\\n",
       "\t20 & 1 &  98 & chevrolet & gas & std   & two  & hatchback & fwd & front &  94.5 & ⋯ &  90 & 2bbl & 3.03 & 3.11 &  9.6 &  70 & 5400 & 38 & 43 &  6295\\\\\n",
       "\\end{tabular}\n"
      ],
      "text/markdown": [
       "\n",
       "A data.frame: 10 × 26\n",
       "\n",
       "| <!--/--> | symb &lt;int&gt; | normLoss &lt;int&gt; | make &lt;fct&gt; | fuelType &lt;fct&gt; | aspiration &lt;fct&gt; | nDoors &lt;fct&gt; | bodyStyle &lt;fct&gt; | driveWheels &lt;fct&gt; | engineLocation &lt;fct&gt; | wheelBase &lt;dbl&gt; | ⋯ ⋯ | engineSize &lt;int&gt; | fuelSystem &lt;fct&gt; | bore &lt;dbl&gt; | stroke &lt;dbl&gt; | compressionRatio &lt;dbl&gt; | horsePower &lt;int&gt; | peakRpm &lt;int&gt; | cityMpg &lt;int&gt; | highwayMpg &lt;int&gt; | price &lt;int&gt; |\n",
       "|---|---|---|---|---|---|---|---|---|---|---|---|---|---|---|---|---|---|---|---|---|---|\n",
       "| 4 | 2 | 164 | audi      | gas | std   | four | sedan     | fwd | front |  99.8 | ⋯ | 109 | mpfi | 3.19 | 3.40 | 10.0 | 102 | 5500 | 24 | 30 | 13950 |\n",
       "| 5 | 2 | 164 | audi      | gas | std   | four | sedan     | 4wd | front |  99.4 | ⋯ | 136 | mpfi | 3.19 | 3.40 |  8.0 | 115 | 5500 | 18 | 22 | 17450 |\n",
       "| 7 | 1 | 158 | audi      | gas | std   | four | sedan     | fwd | front | 105.8 | ⋯ | 136 | mpfi | 3.19 | 3.40 |  8.5 | 110 | 5500 | 19 | 25 | 17710 |\n",
       "| 9 | 1 | 158 | audi      | gas | turbo | four | sedan     | fwd | front | 105.8 | ⋯ | 131 | mpfi | 3.13 | 3.40 |  8.3 | 140 | 5500 | 17 | 20 | 23875 |\n",
       "| 11 | 2 | 192 | bmw       | gas | std   | two  | sedan     | rwd | front | 101.2 | ⋯ | 108 | mpfi | 3.50 | 2.80 |  8.8 | 101 | 5800 | 23 | 29 | 16430 |\n",
       "| 12 | 0 | 192 | bmw       | gas | std   | four | sedan     | rwd | front | 101.2 | ⋯ | 108 | mpfi | 3.50 | 2.80 |  8.8 | 101 | 5800 | 23 | 29 | 16925 |\n",
       "| 13 | 0 | 188 | bmw       | gas | std   | two  | sedan     | rwd | front | 101.2 | ⋯ | 164 | mpfi | 3.31 | 3.19 |  9.0 | 121 | 4250 | 21 | 28 | 20970 |\n",
       "| 14 | 0 | 188 | bmw       | gas | std   | four | sedan     | rwd | front | 101.2 | ⋯ | 164 | mpfi | 3.31 | 3.19 |  9.0 | 121 | 4250 | 21 | 28 | 21105 |\n",
       "| 19 | 2 | 121 | chevrolet | gas | std   | two  | hatchback | fwd | front |  88.4 | ⋯ |  61 | 2bbl | 2.91 | 3.03 |  9.5 |  48 | 5100 | 47 | 53 |  5151 |\n",
       "| 20 | 1 |  98 | chevrolet | gas | std   | two  | hatchback | fwd | front |  94.5 | ⋯ |  90 | 2bbl | 3.03 | 3.11 |  9.6 |  70 | 5400 | 38 | 43 |  6295 |\n",
       "\n"
      ],
      "text/plain": [
       "   symb normLoss make      fuelType aspiration nDoors bodyStyle driveWheels\n",
       "4  2    164      audi      gas      std        four   sedan     fwd        \n",
       "5  2    164      audi      gas      std        four   sedan     4wd        \n",
       "7  1    158      audi      gas      std        four   sedan     fwd        \n",
       "9  1    158      audi      gas      turbo      four   sedan     fwd        \n",
       "11 2    192      bmw       gas      std        two    sedan     rwd        \n",
       "12 0    192      bmw       gas      std        four   sedan     rwd        \n",
       "13 0    188      bmw       gas      std        two    sedan     rwd        \n",
       "14 0    188      bmw       gas      std        four   sedan     rwd        \n",
       "19 2    121      chevrolet gas      std        two    hatchback fwd        \n",
       "20 1     98      chevrolet gas      std        two    hatchback fwd        \n",
       "   engineLocation wheelBase ⋯ engineSize fuelSystem bore stroke\n",
       "4  front           99.8     ⋯ 109        mpfi       3.19 3.40  \n",
       "5  front           99.4     ⋯ 136        mpfi       3.19 3.40  \n",
       "7  front          105.8     ⋯ 136        mpfi       3.19 3.40  \n",
       "9  front          105.8     ⋯ 131        mpfi       3.13 3.40  \n",
       "11 front          101.2     ⋯ 108        mpfi       3.50 2.80  \n",
       "12 front          101.2     ⋯ 108        mpfi       3.50 2.80  \n",
       "13 front          101.2     ⋯ 164        mpfi       3.31 3.19  \n",
       "14 front          101.2     ⋯ 164        mpfi       3.31 3.19  \n",
       "19 front           88.4     ⋯  61        2bbl       2.91 3.03  \n",
       "20 front           94.5     ⋯  90        2bbl       3.03 3.11  \n",
       "   compressionRatio horsePower peakRpm cityMpg highwayMpg price\n",
       "4  10.0             102        5500    24      30         13950\n",
       "5   8.0             115        5500    18      22         17450\n",
       "7   8.5             110        5500    19      25         17710\n",
       "9   8.3             140        5500    17      20         23875\n",
       "11  8.8             101        5800    23      29         16430\n",
       "12  8.8             101        5800    23      29         16925\n",
       "13  9.0             121        4250    21      28         20970\n",
       "14  9.0             121        4250    21      28         21105\n",
       "19  9.5              48        5100    47      53          5151\n",
       "20  9.6              70        5400    38      43          6295"
      ]
     },
     "metadata": {},
     "output_type": "display_data"
    }
   ],
   "source": [
    "# Calculate the most frequent value of \"nDoors\"\n",
    "most_frequent_nDoors <- new_df %>%\n",
    "  count(nDoors) %>%\n",
    "  filter(n == max(n)) %>%\n",
    "  pull(nDoors)\n",
    "\n",
    "# Create a new data set by imputing the most frequent value to the \"nDoors\" column\n",
    "new_dataset3 <- new_df %>%\n",
    "  mutate(nDoors = if_else(is.na(nDoors), most_frequent_nDoors, nDoors))\n",
    "head(new_dataset3,10)"
   ]
  },
  {
   "cell_type": "markdown",
   "metadata": {},
   "source": [
    "### (h) Combine the three last imputations to obtain a final dataset. Are there any duplicated cases?Tip: use the functions distinct() and count()\n"
   ]
  },
  {
   "cell_type": "code",
   "execution_count": 11,
   "metadata": {},
   "outputs": [
    {
     "data": {
      "text/html": [
       "<table class=\"dataframe\">\n",
       "<caption>A data.frame: 10 × 26</caption>\n",
       "<thead>\n",
       "\t<tr><th></th><th scope=col>symb</th><th scope=col>normLoss</th><th scope=col>make</th><th scope=col>fuelType</th><th scope=col>aspiration</th><th scope=col>nDoors</th><th scope=col>bodyStyle</th><th scope=col>driveWheels</th><th scope=col>engineLocation</th><th scope=col>wheelBase</th><th scope=col>⋯</th><th scope=col>engineSize</th><th scope=col>fuelSystem</th><th scope=col>bore</th><th scope=col>stroke</th><th scope=col>compressionRatio</th><th scope=col>horsePower</th><th scope=col>peakRpm</th><th scope=col>cityMpg</th><th scope=col>highwayMpg</th><th scope=col>price</th></tr>\n",
       "\t<tr><th></th><th scope=col>&lt;int&gt;</th><th scope=col>&lt;int&gt;</th><th scope=col>&lt;fct&gt;</th><th scope=col>&lt;fct&gt;</th><th scope=col>&lt;fct&gt;</th><th scope=col>&lt;fct&gt;</th><th scope=col>&lt;fct&gt;</th><th scope=col>&lt;fct&gt;</th><th scope=col>&lt;fct&gt;</th><th scope=col>&lt;dbl&gt;</th><th scope=col>⋯</th><th scope=col>&lt;int&gt;</th><th scope=col>&lt;fct&gt;</th><th scope=col>&lt;dbl&gt;</th><th scope=col>&lt;dbl&gt;</th><th scope=col>&lt;dbl&gt;</th><th scope=col>&lt;int&gt;</th><th scope=col>&lt;int&gt;</th><th scope=col>&lt;int&gt;</th><th scope=col>&lt;int&gt;</th><th scope=col>&lt;int&gt;</th></tr>\n",
       "</thead>\n",
       "<tbody>\n",
       "\t<tr><th scope=row>1</th><td>2</td><td>164</td><td>audi     </td><td>gas</td><td>std  </td><td>four</td><td>sedan    </td><td>fwd</td><td>front</td><td> 99.8</td><td>⋯</td><td>109</td><td>mpfi</td><td>3.19</td><td>3.40</td><td>10.0</td><td>102</td><td>5500</td><td>24</td><td>30</td><td>13950</td></tr>\n",
       "\t<tr><th scope=row>2</th><td>2</td><td>164</td><td>audi     </td><td>gas</td><td>std  </td><td>four</td><td>sedan    </td><td>4wd</td><td>front</td><td> 99.4</td><td>⋯</td><td>136</td><td>mpfi</td><td>3.19</td><td>3.40</td><td> 8.0</td><td>115</td><td>5500</td><td>18</td><td>22</td><td>17450</td></tr>\n",
       "\t<tr><th scope=row>3</th><td>1</td><td>158</td><td>audi     </td><td>gas</td><td>std  </td><td>four</td><td>sedan    </td><td>fwd</td><td>front</td><td>105.8</td><td>⋯</td><td>136</td><td>mpfi</td><td>3.19</td><td>3.40</td><td> 8.5</td><td>110</td><td>5500</td><td>19</td><td>25</td><td>17710</td></tr>\n",
       "\t<tr><th scope=row>4</th><td>1</td><td>158</td><td>audi     </td><td>gas</td><td>turbo</td><td>four</td><td>sedan    </td><td>fwd</td><td>front</td><td>105.8</td><td>⋯</td><td>131</td><td>mpfi</td><td>3.13</td><td>3.40</td><td> 8.3</td><td>140</td><td>5500</td><td>17</td><td>20</td><td>23875</td></tr>\n",
       "\t<tr><th scope=row>5</th><td>2</td><td>192</td><td>bmw      </td><td>gas</td><td>std  </td><td>two </td><td>sedan    </td><td>rwd</td><td>front</td><td>101.2</td><td>⋯</td><td>108</td><td>mpfi</td><td>3.50</td><td>2.80</td><td> 8.8</td><td>101</td><td>5800</td><td>23</td><td>29</td><td>16430</td></tr>\n",
       "\t<tr><th scope=row>6</th><td>0</td><td>192</td><td>bmw      </td><td>gas</td><td>std  </td><td>four</td><td>sedan    </td><td>rwd</td><td>front</td><td>101.2</td><td>⋯</td><td>108</td><td>mpfi</td><td>3.50</td><td>2.80</td><td> 8.8</td><td>101</td><td>5800</td><td>23</td><td>29</td><td>16925</td></tr>\n",
       "\t<tr><th scope=row>7</th><td>0</td><td>188</td><td>bmw      </td><td>gas</td><td>std  </td><td>two </td><td>sedan    </td><td>rwd</td><td>front</td><td>101.2</td><td>⋯</td><td>164</td><td>mpfi</td><td>3.31</td><td>3.19</td><td> 9.0</td><td>121</td><td>4250</td><td>21</td><td>28</td><td>20970</td></tr>\n",
       "\t<tr><th scope=row>8</th><td>0</td><td>188</td><td>bmw      </td><td>gas</td><td>std  </td><td>four</td><td>sedan    </td><td>rwd</td><td>front</td><td>101.2</td><td>⋯</td><td>164</td><td>mpfi</td><td>3.31</td><td>3.19</td><td> 9.0</td><td>121</td><td>4250</td><td>21</td><td>28</td><td>21105</td></tr>\n",
       "\t<tr><th scope=row>9</th><td>2</td><td>121</td><td>chevrolet</td><td>gas</td><td>std  </td><td>two </td><td>hatchback</td><td>fwd</td><td>front</td><td> 88.4</td><td>⋯</td><td> 61</td><td>2bbl</td><td>2.91</td><td>3.03</td><td> 9.5</td><td> 48</td><td>5100</td><td>47</td><td>53</td><td> 5151</td></tr>\n",
       "\t<tr><th scope=row>10</th><td>1</td><td> 98</td><td>chevrolet</td><td>gas</td><td>std  </td><td>two </td><td>hatchback</td><td>fwd</td><td>front</td><td> 94.5</td><td>⋯</td><td> 90</td><td>2bbl</td><td>3.03</td><td>3.11</td><td> 9.6</td><td> 70</td><td>5400</td><td>38</td><td>43</td><td> 6295</td></tr>\n",
       "</tbody>\n",
       "</table>\n"
      ],
      "text/latex": [
       "A data.frame: 10 × 26\n",
       "\\begin{tabular}{r|lllllllllllllllllllll}\n",
       "  & symb & normLoss & make & fuelType & aspiration & nDoors & bodyStyle & driveWheels & engineLocation & wheelBase & ⋯ & engineSize & fuelSystem & bore & stroke & compressionRatio & horsePower & peakRpm & cityMpg & highwayMpg & price\\\\\n",
       "  & <int> & <int> & <fct> & <fct> & <fct> & <fct> & <fct> & <fct> & <fct> & <dbl> & ⋯ & <int> & <fct> & <dbl> & <dbl> & <dbl> & <int> & <int> & <int> & <int> & <int>\\\\\n",
       "\\hline\n",
       "\t1 & 2 & 164 & audi      & gas & std   & four & sedan     & fwd & front &  99.8 & ⋯ & 109 & mpfi & 3.19 & 3.40 & 10.0 & 102 & 5500 & 24 & 30 & 13950\\\\\n",
       "\t2 & 2 & 164 & audi      & gas & std   & four & sedan     & 4wd & front &  99.4 & ⋯ & 136 & mpfi & 3.19 & 3.40 &  8.0 & 115 & 5500 & 18 & 22 & 17450\\\\\n",
       "\t3 & 1 & 158 & audi      & gas & std   & four & sedan     & fwd & front & 105.8 & ⋯ & 136 & mpfi & 3.19 & 3.40 &  8.5 & 110 & 5500 & 19 & 25 & 17710\\\\\n",
       "\t4 & 1 & 158 & audi      & gas & turbo & four & sedan     & fwd & front & 105.8 & ⋯ & 131 & mpfi & 3.13 & 3.40 &  8.3 & 140 & 5500 & 17 & 20 & 23875\\\\\n",
       "\t5 & 2 & 192 & bmw       & gas & std   & two  & sedan     & rwd & front & 101.2 & ⋯ & 108 & mpfi & 3.50 & 2.80 &  8.8 & 101 & 5800 & 23 & 29 & 16430\\\\\n",
       "\t6 & 0 & 192 & bmw       & gas & std   & four & sedan     & rwd & front & 101.2 & ⋯ & 108 & mpfi & 3.50 & 2.80 &  8.8 & 101 & 5800 & 23 & 29 & 16925\\\\\n",
       "\t7 & 0 & 188 & bmw       & gas & std   & two  & sedan     & rwd & front & 101.2 & ⋯ & 164 & mpfi & 3.31 & 3.19 &  9.0 & 121 & 4250 & 21 & 28 & 20970\\\\\n",
       "\t8 & 0 & 188 & bmw       & gas & std   & four & sedan     & rwd & front & 101.2 & ⋯ & 164 & mpfi & 3.31 & 3.19 &  9.0 & 121 & 4250 & 21 & 28 & 21105\\\\\n",
       "\t9 & 2 & 121 & chevrolet & gas & std   & two  & hatchback & fwd & front &  88.4 & ⋯ &  61 & 2bbl & 2.91 & 3.03 &  9.5 &  48 & 5100 & 47 & 53 &  5151\\\\\n",
       "\t10 & 1 &  98 & chevrolet & gas & std   & two  & hatchback & fwd & front &  94.5 & ⋯ &  90 & 2bbl & 3.03 & 3.11 &  9.6 &  70 & 5400 & 38 & 43 &  6295\\\\\n",
       "\\end{tabular}\n"
      ],
      "text/markdown": [
       "\n",
       "A data.frame: 10 × 26\n",
       "\n",
       "| <!--/--> | symb &lt;int&gt; | normLoss &lt;int&gt; | make &lt;fct&gt; | fuelType &lt;fct&gt; | aspiration &lt;fct&gt; | nDoors &lt;fct&gt; | bodyStyle &lt;fct&gt; | driveWheels &lt;fct&gt; | engineLocation &lt;fct&gt; | wheelBase &lt;dbl&gt; | ⋯ ⋯ | engineSize &lt;int&gt; | fuelSystem &lt;fct&gt; | bore &lt;dbl&gt; | stroke &lt;dbl&gt; | compressionRatio &lt;dbl&gt; | horsePower &lt;int&gt; | peakRpm &lt;int&gt; | cityMpg &lt;int&gt; | highwayMpg &lt;int&gt; | price &lt;int&gt; |\n",
       "|---|---|---|---|---|---|---|---|---|---|---|---|---|---|---|---|---|---|---|---|---|---|\n",
       "| 1 | 2 | 164 | audi      | gas | std   | four | sedan     | fwd | front |  99.8 | ⋯ | 109 | mpfi | 3.19 | 3.40 | 10.0 | 102 | 5500 | 24 | 30 | 13950 |\n",
       "| 2 | 2 | 164 | audi      | gas | std   | four | sedan     | 4wd | front |  99.4 | ⋯ | 136 | mpfi | 3.19 | 3.40 |  8.0 | 115 | 5500 | 18 | 22 | 17450 |\n",
       "| 3 | 1 | 158 | audi      | gas | std   | four | sedan     | fwd | front | 105.8 | ⋯ | 136 | mpfi | 3.19 | 3.40 |  8.5 | 110 | 5500 | 19 | 25 | 17710 |\n",
       "| 4 | 1 | 158 | audi      | gas | turbo | four | sedan     | fwd | front | 105.8 | ⋯ | 131 | mpfi | 3.13 | 3.40 |  8.3 | 140 | 5500 | 17 | 20 | 23875 |\n",
       "| 5 | 2 | 192 | bmw       | gas | std   | two  | sedan     | rwd | front | 101.2 | ⋯ | 108 | mpfi | 3.50 | 2.80 |  8.8 | 101 | 5800 | 23 | 29 | 16430 |\n",
       "| 6 | 0 | 192 | bmw       | gas | std   | four | sedan     | rwd | front | 101.2 | ⋯ | 108 | mpfi | 3.50 | 2.80 |  8.8 | 101 | 5800 | 23 | 29 | 16925 |\n",
       "| 7 | 0 | 188 | bmw       | gas | std   | two  | sedan     | rwd | front | 101.2 | ⋯ | 164 | mpfi | 3.31 | 3.19 |  9.0 | 121 | 4250 | 21 | 28 | 20970 |\n",
       "| 8 | 0 | 188 | bmw       | gas | std   | four | sedan     | rwd | front | 101.2 | ⋯ | 164 | mpfi | 3.31 | 3.19 |  9.0 | 121 | 4250 | 21 | 28 | 21105 |\n",
       "| 9 | 2 | 121 | chevrolet | gas | std   | two  | hatchback | fwd | front |  88.4 | ⋯ |  61 | 2bbl | 2.91 | 3.03 |  9.5 |  48 | 5100 | 47 | 53 |  5151 |\n",
       "| 10 | 1 |  98 | chevrolet | gas | std   | two  | hatchback | fwd | front |  94.5 | ⋯ |  90 | 2bbl | 3.03 | 3.11 |  9.6 |  70 | 5400 | 38 | 43 |  6295 |\n",
       "\n"
      ],
      "text/plain": [
       "   symb normLoss make      fuelType aspiration nDoors bodyStyle driveWheels\n",
       "1  2    164      audi      gas      std        four   sedan     fwd        \n",
       "2  2    164      audi      gas      std        four   sedan     4wd        \n",
       "3  1    158      audi      gas      std        four   sedan     fwd        \n",
       "4  1    158      audi      gas      turbo      four   sedan     fwd        \n",
       "5  2    192      bmw       gas      std        two    sedan     rwd        \n",
       "6  0    192      bmw       gas      std        four   sedan     rwd        \n",
       "7  0    188      bmw       gas      std        two    sedan     rwd        \n",
       "8  0    188      bmw       gas      std        four   sedan     rwd        \n",
       "9  2    121      chevrolet gas      std        two    hatchback fwd        \n",
       "10 1     98      chevrolet gas      std        two    hatchback fwd        \n",
       "   engineLocation wheelBase ⋯ engineSize fuelSystem bore stroke\n",
       "1  front           99.8     ⋯ 109        mpfi       3.19 3.40  \n",
       "2  front           99.4     ⋯ 136        mpfi       3.19 3.40  \n",
       "3  front          105.8     ⋯ 136        mpfi       3.19 3.40  \n",
       "4  front          105.8     ⋯ 131        mpfi       3.13 3.40  \n",
       "5  front          101.2     ⋯ 108        mpfi       3.50 2.80  \n",
       "6  front          101.2     ⋯ 108        mpfi       3.50 2.80  \n",
       "7  front          101.2     ⋯ 164        mpfi       3.31 3.19  \n",
       "8  front          101.2     ⋯ 164        mpfi       3.31 3.19  \n",
       "9  front           88.4     ⋯  61        2bbl       2.91 3.03  \n",
       "10 front           94.5     ⋯  90        2bbl       3.03 3.11  \n",
       "   compressionRatio horsePower peakRpm cityMpg highwayMpg price\n",
       "1  10.0             102        5500    24      30         13950\n",
       "2   8.0             115        5500    18      22         17450\n",
       "3   8.5             110        5500    19      25         17710\n",
       "4   8.3             140        5500    17      20         23875\n",
       "5   8.8             101        5800    23      29         16430\n",
       "6   8.8             101        5800    23      29         16925\n",
       "7   9.0             121        4250    21      28         20970\n",
       "8   9.0             121        4250    21      28         21105\n",
       "9   9.5              48        5100    47      53          5151\n",
       "10  9.6              70        5400    38      43          6295"
      ]
     },
     "metadata": {},
     "output_type": "display_data"
    },
    {
     "name": "stdout",
     "output_type": "stream",
     "text": [
      "    n\n",
      "1 159\n"
     ]
    }
   ],
   "source": [
    "# Combine the three imputed datasets into a final dataset\n",
    "final_dataset <- bind_rows(new_dataset1, new_dataset2, new_dataset3)\n",
    "\n",
    "head (final_dataset,10)\n",
    "# Check for duplicated cases\n",
    "duplicated_cases <- final_dataset %>%\n",
    "  distinct() %>%\n",
    "  count() %>%\n",
    "  filter(n > 1)\n",
    "\n",
    "# Print the duplicated cases\n",
    "print(duplicated_cases)\n"
   ]
  },
  {
   "cell_type": "code",
   "execution_count": 30,
   "metadata": {},
   "outputs": [],
   "source": [
    "# Export to .csv file\n",
    "write.csv(final_dataset, file = \"carInsu_fin.csv\", row.names = FALSE)\n"
   ]
  },
  {
   "cell_type": "markdown",
   "metadata": {},
   "source": [
    "## 2. Data Pre-Processing"
   ]
  },
  {
   "cell_type": "markdown",
   "metadata": {},
   "source": [
    "### 2. Load the package dlookr. Use the same car insurance data set above and apply the following transformations to the price attribute. Be critical regarding the obtained results."
   ]
  },
  {
   "cell_type": "code",
   "execution_count": 12,
   "metadata": {},
   "outputs": [
    {
     "name": "stderr",
     "output_type": "stream",
     "text": [
      "Installing package into 'C:/Users/Paola/AppData/Local/R/win-library/4.3'\n",
      "(as 'lib' is unspecified)\n",
      "\n"
     ]
    },
    {
     "name": "stdout",
     "output_type": "stream",
     "text": [
      "package 'dlookr' successfully unpacked and MD5 sums checked\n",
      "\n",
      "The downloaded binary packages are in\n",
      "\tC:\\Users\\Paola\\AppData\\Local\\Temp\\Rtmp21qe5a\\downloaded_packages\n"
     ]
    },
    {
     "name": "stderr",
     "output_type": "stream",
     "text": [
      "\n",
      "Attaching package: 'dlookr'\n",
      "\n",
      "\n",
      "The following object is masked from 'package:base':\n",
      "\n",
      "    transform\n",
      "\n",
      "\n"
     ]
    }
   ],
   "source": [
    "#Install package\n",
    "install.packages(\"dlookr\")\n",
    "#Load\n",
    "library(dlookr)"
   ]
  },
  {
   "cell_type": "code",
   "execution_count": 13,
   "metadata": {},
   "outputs": [
    {
     "data": {
      "text/html": [
       "<table class=\"dataframe\">\n",
       "<caption>A data.frame: 5 × 26</caption>\n",
       "<thead>\n",
       "\t<tr><th></th><th scope=col>symb</th><th scope=col>normLoss</th><th scope=col>make</th><th scope=col>fuelType</th><th scope=col>aspiration</th><th scope=col>nDoors</th><th scope=col>bodyStyle</th><th scope=col>driveWheels</th><th scope=col>engineLocation</th><th scope=col>wheelBase</th><th scope=col>⋯</th><th scope=col>engineSize</th><th scope=col>fuelSystem</th><th scope=col>bore</th><th scope=col>stroke</th><th scope=col>compressionRatio</th><th scope=col>horsePower</th><th scope=col>peakRpm</th><th scope=col>cityMpg</th><th scope=col>highwayMpg</th><th scope=col>price</th></tr>\n",
       "\t<tr><th></th><th scope=col>&lt;int&gt;</th><th scope=col>&lt;int&gt;</th><th scope=col>&lt;fct&gt;</th><th scope=col>&lt;fct&gt;</th><th scope=col>&lt;fct&gt;</th><th scope=col>&lt;fct&gt;</th><th scope=col>&lt;fct&gt;</th><th scope=col>&lt;fct&gt;</th><th scope=col>&lt;fct&gt;</th><th scope=col>&lt;dbl&gt;</th><th scope=col>⋯</th><th scope=col>&lt;int&gt;</th><th scope=col>&lt;fct&gt;</th><th scope=col>&lt;dbl&gt;</th><th scope=col>&lt;dbl&gt;</th><th scope=col>&lt;dbl&gt;</th><th scope=col>&lt;int&gt;</th><th scope=col>&lt;int&gt;</th><th scope=col>&lt;int&gt;</th><th scope=col>&lt;int&gt;</th><th scope=col>&lt;int&gt;</th></tr>\n",
       "</thead>\n",
       "<tbody>\n",
       "\t<tr><th scope=row>1</th><td>3</td><td> NA</td><td>alfa-romero</td><td>gas</td><td>std</td><td>two </td><td>convertible</td><td>rwd</td><td>front</td><td>88.6</td><td>⋯</td><td>130</td><td>mpfi</td><td>3.47</td><td>2.68</td><td> 9</td><td>111</td><td>5000</td><td>21</td><td>27</td><td>13495</td></tr>\n",
       "\t<tr><th scope=row>2</th><td>3</td><td> NA</td><td>alfa-romero</td><td>gas</td><td>std</td><td>two </td><td>convertible</td><td>rwd</td><td>front</td><td>88.6</td><td>⋯</td><td>130</td><td>mpfi</td><td>3.47</td><td>2.68</td><td> 9</td><td>111</td><td>5000</td><td>21</td><td>27</td><td>16500</td></tr>\n",
       "\t<tr><th scope=row>3</th><td>1</td><td> NA</td><td>alfa-romero</td><td>gas</td><td>std</td><td>two </td><td>hatchback  </td><td>rwd</td><td>front</td><td>94.5</td><td>⋯</td><td>152</td><td>mpfi</td><td>2.68</td><td>3.47</td><td> 9</td><td>154</td><td>5000</td><td>19</td><td>26</td><td>16500</td></tr>\n",
       "\t<tr><th scope=row>4</th><td>2</td><td>164</td><td>audi       </td><td>gas</td><td>std</td><td>four</td><td>sedan      </td><td>fwd</td><td>front</td><td>99.8</td><td>⋯</td><td>109</td><td>mpfi</td><td>3.19</td><td>3.40</td><td>10</td><td>102</td><td>5500</td><td>24</td><td>30</td><td>13950</td></tr>\n",
       "\t<tr><th scope=row>5</th><td>2</td><td>164</td><td>audi       </td><td>gas</td><td>std</td><td>four</td><td>sedan      </td><td>4wd</td><td>front</td><td>99.4</td><td>⋯</td><td>136</td><td>mpfi</td><td>3.19</td><td>3.40</td><td> 8</td><td>115</td><td>5500</td><td>18</td><td>22</td><td>17450</td></tr>\n",
       "</tbody>\n",
       "</table>\n"
      ],
      "text/latex": [
       "A data.frame: 5 × 26\n",
       "\\begin{tabular}{r|lllllllllllllllllllll}\n",
       "  & symb & normLoss & make & fuelType & aspiration & nDoors & bodyStyle & driveWheels & engineLocation & wheelBase & ⋯ & engineSize & fuelSystem & bore & stroke & compressionRatio & horsePower & peakRpm & cityMpg & highwayMpg & price\\\\\n",
       "  & <int> & <int> & <fct> & <fct> & <fct> & <fct> & <fct> & <fct> & <fct> & <dbl> & ⋯ & <int> & <fct> & <dbl> & <dbl> & <dbl> & <int> & <int> & <int> & <int> & <int>\\\\\n",
       "\\hline\n",
       "\t1 & 3 &  NA & alfa-romero & gas & std & two  & convertible & rwd & front & 88.6 & ⋯ & 130 & mpfi & 3.47 & 2.68 &  9 & 111 & 5000 & 21 & 27 & 13495\\\\\n",
       "\t2 & 3 &  NA & alfa-romero & gas & std & two  & convertible & rwd & front & 88.6 & ⋯ & 130 & mpfi & 3.47 & 2.68 &  9 & 111 & 5000 & 21 & 27 & 16500\\\\\n",
       "\t3 & 1 &  NA & alfa-romero & gas & std & two  & hatchback   & rwd & front & 94.5 & ⋯ & 152 & mpfi & 2.68 & 3.47 &  9 & 154 & 5000 & 19 & 26 & 16500\\\\\n",
       "\t4 & 2 & 164 & audi        & gas & std & four & sedan       & fwd & front & 99.8 & ⋯ & 109 & mpfi & 3.19 & 3.40 & 10 & 102 & 5500 & 24 & 30 & 13950\\\\\n",
       "\t5 & 2 & 164 & audi        & gas & std & four & sedan       & 4wd & front & 99.4 & ⋯ & 136 & mpfi & 3.19 & 3.40 &  8 & 115 & 5500 & 18 & 22 & 17450\\\\\n",
       "\\end{tabular}\n"
      ],
      "text/markdown": [
       "\n",
       "A data.frame: 5 × 26\n",
       "\n",
       "| <!--/--> | symb &lt;int&gt; | normLoss &lt;int&gt; | make &lt;fct&gt; | fuelType &lt;fct&gt; | aspiration &lt;fct&gt; | nDoors &lt;fct&gt; | bodyStyle &lt;fct&gt; | driveWheels &lt;fct&gt; | engineLocation &lt;fct&gt; | wheelBase &lt;dbl&gt; | ⋯ ⋯ | engineSize &lt;int&gt; | fuelSystem &lt;fct&gt; | bore &lt;dbl&gt; | stroke &lt;dbl&gt; | compressionRatio &lt;dbl&gt; | horsePower &lt;int&gt; | peakRpm &lt;int&gt; | cityMpg &lt;int&gt; | highwayMpg &lt;int&gt; | price &lt;int&gt; |\n",
       "|---|---|---|---|---|---|---|---|---|---|---|---|---|---|---|---|---|---|---|---|---|---|\n",
       "| 1 | 3 |  NA | alfa-romero | gas | std | two  | convertible | rwd | front | 88.6 | ⋯ | 130 | mpfi | 3.47 | 2.68 |  9 | 111 | 5000 | 21 | 27 | 13495 |\n",
       "| 2 | 3 |  NA | alfa-romero | gas | std | two  | convertible | rwd | front | 88.6 | ⋯ | 130 | mpfi | 3.47 | 2.68 |  9 | 111 | 5000 | 21 | 27 | 16500 |\n",
       "| 3 | 1 |  NA | alfa-romero | gas | std | two  | hatchback   | rwd | front | 94.5 | ⋯ | 152 | mpfi | 2.68 | 3.47 |  9 | 154 | 5000 | 19 | 26 | 16500 |\n",
       "| 4 | 2 | 164 | audi        | gas | std | four | sedan       | fwd | front | 99.8 | ⋯ | 109 | mpfi | 3.19 | 3.40 | 10 | 102 | 5500 | 24 | 30 | 13950 |\n",
       "| 5 | 2 | 164 | audi        | gas | std | four | sedan       | 4wd | front | 99.4 | ⋯ | 136 | mpfi | 3.19 | 3.40 |  8 | 115 | 5500 | 18 | 22 | 17450 |\n",
       "\n"
      ],
      "text/plain": [
       "  symb normLoss make        fuelType aspiration nDoors bodyStyle   driveWheels\n",
       "1 3     NA      alfa-romero gas      std        two    convertible rwd        \n",
       "2 3     NA      alfa-romero gas      std        two    convertible rwd        \n",
       "3 1     NA      alfa-romero gas      std        two    hatchback   rwd        \n",
       "4 2    164      audi        gas      std        four   sedan       fwd        \n",
       "5 2    164      audi        gas      std        four   sedan       4wd        \n",
       "  engineLocation wheelBase ⋯ engineSize fuelSystem bore stroke compressionRatio\n",
       "1 front          88.6      ⋯ 130        mpfi       3.47 2.68    9              \n",
       "2 front          88.6      ⋯ 130        mpfi       3.47 2.68    9              \n",
       "3 front          94.5      ⋯ 152        mpfi       2.68 3.47    9              \n",
       "4 front          99.8      ⋯ 109        mpfi       3.19 3.40   10              \n",
       "5 front          99.4      ⋯ 136        mpfi       3.19 3.40    8              \n",
       "  horsePower peakRpm cityMpg highwayMpg price\n",
       "1 111        5000    21      27         13495\n",
       "2 111        5000    21      27         16500\n",
       "3 154        5000    19      26         16500\n",
       "4 102        5500    24      30         13950\n",
       "5 115        5500    18      22         17450"
      ]
     },
     "metadata": {},
     "output_type": "display_data"
    }
   ],
   "source": [
    "head(df,5)"
   ]
  },
  {
   "cell_type": "markdown",
   "metadata": {},
   "source": [
    "#### (a) Apply range-based normalization and z-score normalization. Tip: use the function transform()."
   ]
  },
  {
   "cell_type": "code",
   "execution_count": 14,
   "metadata": {},
   "outputs": [
    {
     "ename": "ERROR",
     "evalue": "Error in transform(df, price_range = scale_range(price), price_zscore = scale_z(price)): unused arguments (price_range = scale_range(price), price_zscore = scale_z(price))\n",
     "output_type": "error",
     "traceback": [
      "Error in transform(df, price_range = scale_range(price), price_zscore = scale_z(price)): unused arguments (price_range = scale_range(price), price_zscore = scale_z(price))\nTraceback:\n"
     ]
    }
   ],
   "source": [
    "# Apply range-based normalization and z-score normalization\n",
    "transformed_data <- transform(df, \n",
    "                              price_range = scale_range(price),\n",
    "                              price_zscore = scale_z(price))\n",
    "\n",
    "# View the transformed data\n",
    "head(transformed_data,5)"
   ]
  },
  {
   "cell_type": "code",
   "execution_count": 15,
   "metadata": {},
   "outputs": [
    {
     "data": {
      "text/html": [
       "<table class=\"dataframe\">\n",
       "<caption>A data.frame: 5 × 27</caption>\n",
       "<thead>\n",
       "\t<tr><th></th><th scope=col>symb</th><th scope=col>normLoss</th><th scope=col>make</th><th scope=col>fuelType</th><th scope=col>aspiration</th><th scope=col>nDoors</th><th scope=col>bodyStyle</th><th scope=col>driveWheels</th><th scope=col>engineLocation</th><th scope=col>wheelBase</th><th scope=col>⋯</th><th scope=col>fuelSystem</th><th scope=col>bore</th><th scope=col>stroke</th><th scope=col>compressionRatio</th><th scope=col>horsePower</th><th scope=col>peakRpm</th><th scope=col>cityMpg</th><th scope=col>highwayMpg</th><th scope=col>price</th><th scope=col>price_range_norm</th></tr>\n",
       "\t<tr><th></th><th scope=col>&lt;int&gt;</th><th scope=col>&lt;int&gt;</th><th scope=col>&lt;fct&gt;</th><th scope=col>&lt;fct&gt;</th><th scope=col>&lt;fct&gt;</th><th scope=col>&lt;fct&gt;</th><th scope=col>&lt;fct&gt;</th><th scope=col>&lt;fct&gt;</th><th scope=col>&lt;fct&gt;</th><th scope=col>&lt;dbl&gt;</th><th scope=col>⋯</th><th scope=col>&lt;fct&gt;</th><th scope=col>&lt;dbl&gt;</th><th scope=col>&lt;dbl&gt;</th><th scope=col>&lt;dbl&gt;</th><th scope=col>&lt;int&gt;</th><th scope=col>&lt;int&gt;</th><th scope=col>&lt;int&gt;</th><th scope=col>&lt;int&gt;</th><th scope=col>&lt;int&gt;</th><th scope=col>&lt;dbl&gt;</th></tr>\n",
       "</thead>\n",
       "<tbody>\n",
       "\t<tr><th scope=row>1</th><td>3</td><td> NA</td><td>alfa-romero</td><td>gas</td><td>std</td><td>two </td><td>convertible</td><td>rwd</td><td>front</td><td>88.6</td><td>⋯</td><td>mpfi</td><td>3.47</td><td>2.68</td><td> 9</td><td>111</td><td>5000</td><td>21</td><td>27</td><td>13495</td><td>NA</td></tr>\n",
       "\t<tr><th scope=row>2</th><td>3</td><td> NA</td><td>alfa-romero</td><td>gas</td><td>std</td><td>two </td><td>convertible</td><td>rwd</td><td>front</td><td>88.6</td><td>⋯</td><td>mpfi</td><td>3.47</td><td>2.68</td><td> 9</td><td>111</td><td>5000</td><td>21</td><td>27</td><td>16500</td><td>NA</td></tr>\n",
       "\t<tr><th scope=row>3</th><td>1</td><td> NA</td><td>alfa-romero</td><td>gas</td><td>std</td><td>two </td><td>hatchback  </td><td>rwd</td><td>front</td><td>94.5</td><td>⋯</td><td>mpfi</td><td>2.68</td><td>3.47</td><td> 9</td><td>154</td><td>5000</td><td>19</td><td>26</td><td>16500</td><td>NA</td></tr>\n",
       "\t<tr><th scope=row>4</th><td>2</td><td>164</td><td>audi       </td><td>gas</td><td>std</td><td>four</td><td>sedan      </td><td>fwd</td><td>front</td><td>99.8</td><td>⋯</td><td>mpfi</td><td>3.19</td><td>3.40</td><td>10</td><td>102</td><td>5500</td><td>24</td><td>30</td><td>13950</td><td>NA</td></tr>\n",
       "\t<tr><th scope=row>5</th><td>2</td><td>164</td><td>audi       </td><td>gas</td><td>std</td><td>four</td><td>sedan      </td><td>4wd</td><td>front</td><td>99.4</td><td>⋯</td><td>mpfi</td><td>3.19</td><td>3.40</td><td> 8</td><td>115</td><td>5500</td><td>18</td><td>22</td><td>17450</td><td>NA</td></tr>\n",
       "</tbody>\n",
       "</table>\n"
      ],
      "text/latex": [
       "A data.frame: 5 × 27\n",
       "\\begin{tabular}{r|lllllllllllllllllllll}\n",
       "  & symb & normLoss & make & fuelType & aspiration & nDoors & bodyStyle & driveWheels & engineLocation & wheelBase & ⋯ & fuelSystem & bore & stroke & compressionRatio & horsePower & peakRpm & cityMpg & highwayMpg & price & price\\_range\\_norm\\\\\n",
       "  & <int> & <int> & <fct> & <fct> & <fct> & <fct> & <fct> & <fct> & <fct> & <dbl> & ⋯ & <fct> & <dbl> & <dbl> & <dbl> & <int> & <int> & <int> & <int> & <int> & <dbl>\\\\\n",
       "\\hline\n",
       "\t1 & 3 &  NA & alfa-romero & gas & std & two  & convertible & rwd & front & 88.6 & ⋯ & mpfi & 3.47 & 2.68 &  9 & 111 & 5000 & 21 & 27 & 13495 & NA\\\\\n",
       "\t2 & 3 &  NA & alfa-romero & gas & std & two  & convertible & rwd & front & 88.6 & ⋯ & mpfi & 3.47 & 2.68 &  9 & 111 & 5000 & 21 & 27 & 16500 & NA\\\\\n",
       "\t3 & 1 &  NA & alfa-romero & gas & std & two  & hatchback   & rwd & front & 94.5 & ⋯ & mpfi & 2.68 & 3.47 &  9 & 154 & 5000 & 19 & 26 & 16500 & NA\\\\\n",
       "\t4 & 2 & 164 & audi        & gas & std & four & sedan       & fwd & front & 99.8 & ⋯ & mpfi & 3.19 & 3.40 & 10 & 102 & 5500 & 24 & 30 & 13950 & NA\\\\\n",
       "\t5 & 2 & 164 & audi        & gas & std & four & sedan       & 4wd & front & 99.4 & ⋯ & mpfi & 3.19 & 3.40 &  8 & 115 & 5500 & 18 & 22 & 17450 & NA\\\\\n",
       "\\end{tabular}\n"
      ],
      "text/markdown": [
       "\n",
       "A data.frame: 5 × 27\n",
       "\n",
       "| <!--/--> | symb &lt;int&gt; | normLoss &lt;int&gt; | make &lt;fct&gt; | fuelType &lt;fct&gt; | aspiration &lt;fct&gt; | nDoors &lt;fct&gt; | bodyStyle &lt;fct&gt; | driveWheels &lt;fct&gt; | engineLocation &lt;fct&gt; | wheelBase &lt;dbl&gt; | ⋯ ⋯ | fuelSystem &lt;fct&gt; | bore &lt;dbl&gt; | stroke &lt;dbl&gt; | compressionRatio &lt;dbl&gt; | horsePower &lt;int&gt; | peakRpm &lt;int&gt; | cityMpg &lt;int&gt; | highwayMpg &lt;int&gt; | price &lt;int&gt; | price_range_norm &lt;dbl&gt; |\n",
       "|---|---|---|---|---|---|---|---|---|---|---|---|---|---|---|---|---|---|---|---|---|---|\n",
       "| 1 | 3 |  NA | alfa-romero | gas | std | two  | convertible | rwd | front | 88.6 | ⋯ | mpfi | 3.47 | 2.68 |  9 | 111 | 5000 | 21 | 27 | 13495 | NA |\n",
       "| 2 | 3 |  NA | alfa-romero | gas | std | two  | convertible | rwd | front | 88.6 | ⋯ | mpfi | 3.47 | 2.68 |  9 | 111 | 5000 | 21 | 27 | 16500 | NA |\n",
       "| 3 | 1 |  NA | alfa-romero | gas | std | two  | hatchback   | rwd | front | 94.5 | ⋯ | mpfi | 2.68 | 3.47 |  9 | 154 | 5000 | 19 | 26 | 16500 | NA |\n",
       "| 4 | 2 | 164 | audi        | gas | std | four | sedan       | fwd | front | 99.8 | ⋯ | mpfi | 3.19 | 3.40 | 10 | 102 | 5500 | 24 | 30 | 13950 | NA |\n",
       "| 5 | 2 | 164 | audi        | gas | std | four | sedan       | 4wd | front | 99.4 | ⋯ | mpfi | 3.19 | 3.40 |  8 | 115 | 5500 | 18 | 22 | 17450 | NA |\n",
       "\n"
      ],
      "text/plain": [
       "  symb normLoss make        fuelType aspiration nDoors bodyStyle   driveWheels\n",
       "1 3     NA      alfa-romero gas      std        two    convertible rwd        \n",
       "2 3     NA      alfa-romero gas      std        two    convertible rwd        \n",
       "3 1     NA      alfa-romero gas      std        two    hatchback   rwd        \n",
       "4 2    164      audi        gas      std        four   sedan       fwd        \n",
       "5 2    164      audi        gas      std        four   sedan       4wd        \n",
       "  engineLocation wheelBase ⋯ fuelSystem bore stroke compressionRatio horsePower\n",
       "1 front          88.6      ⋯ mpfi       3.47 2.68    9               111       \n",
       "2 front          88.6      ⋯ mpfi       3.47 2.68    9               111       \n",
       "3 front          94.5      ⋯ mpfi       2.68 3.47    9               154       \n",
       "4 front          99.8      ⋯ mpfi       3.19 3.40   10               102       \n",
       "5 front          99.4      ⋯ mpfi       3.19 3.40    8               115       \n",
       "  peakRpm cityMpg highwayMpg price price_range_norm\n",
       "1 5000    21      27         13495 NA              \n",
       "2 5000    21      27         16500 NA              \n",
       "3 5000    19      26         16500 NA              \n",
       "4 5500    24      30         13950 NA              \n",
       "5 5500    18      22         17450 NA              "
      ]
     },
     "metadata": {},
     "output_type": "display_data"
    }
   ],
   "source": [
    "# Range-based normalization\n",
    "df_norm <- df %>%\n",
    "  mutate(price_range_norm = (price - min(price)) / (max(price) - min(price)))\n",
    "head(df_norm,5)"
   ]
  },
  {
   "cell_type": "code",
   "execution_count": 16,
   "metadata": {},
   "outputs": [
    {
     "data": {
      "text/html": [
       "<table class=\"dataframe\">\n",
       "<caption>A data.frame: 5 × 27</caption>\n",
       "<thead>\n",
       "\t<tr><th></th><th scope=col>symb</th><th scope=col>normLoss</th><th scope=col>make</th><th scope=col>fuelType</th><th scope=col>aspiration</th><th scope=col>nDoors</th><th scope=col>bodyStyle</th><th scope=col>driveWheels</th><th scope=col>engineLocation</th><th scope=col>wheelBase</th><th scope=col>⋯</th><th scope=col>fuelSystem</th><th scope=col>bore</th><th scope=col>stroke</th><th scope=col>compressionRatio</th><th scope=col>horsePower</th><th scope=col>peakRpm</th><th scope=col>cityMpg</th><th scope=col>highwayMpg</th><th scope=col>price</th><th scope=col>price_zscore_norm</th></tr>\n",
       "\t<tr><th></th><th scope=col>&lt;int&gt;</th><th scope=col>&lt;int&gt;</th><th scope=col>&lt;fct&gt;</th><th scope=col>&lt;fct&gt;</th><th scope=col>&lt;fct&gt;</th><th scope=col>&lt;fct&gt;</th><th scope=col>&lt;fct&gt;</th><th scope=col>&lt;fct&gt;</th><th scope=col>&lt;fct&gt;</th><th scope=col>&lt;dbl&gt;</th><th scope=col>⋯</th><th scope=col>&lt;fct&gt;</th><th scope=col>&lt;dbl&gt;</th><th scope=col>&lt;dbl&gt;</th><th scope=col>&lt;dbl&gt;</th><th scope=col>&lt;int&gt;</th><th scope=col>&lt;int&gt;</th><th scope=col>&lt;int&gt;</th><th scope=col>&lt;int&gt;</th><th scope=col>&lt;int&gt;</th><th scope=col>&lt;dbl&gt;</th></tr>\n",
       "</thead>\n",
       "<tbody>\n",
       "\t<tr><th scope=row>1</th><td>3</td><td> NA</td><td>alfa-romero</td><td>gas</td><td>std</td><td>two </td><td>convertible</td><td>rwd</td><td>front</td><td>88.6</td><td>⋯</td><td>mpfi</td><td>3.47</td><td>2.68</td><td> 9</td><td>111</td><td>5000</td><td>21</td><td>27</td><td>13495</td><td>NA</td></tr>\n",
       "\t<tr><th scope=row>2</th><td>3</td><td> NA</td><td>alfa-romero</td><td>gas</td><td>std</td><td>two </td><td>convertible</td><td>rwd</td><td>front</td><td>88.6</td><td>⋯</td><td>mpfi</td><td>3.47</td><td>2.68</td><td> 9</td><td>111</td><td>5000</td><td>21</td><td>27</td><td>16500</td><td>NA</td></tr>\n",
       "\t<tr><th scope=row>3</th><td>1</td><td> NA</td><td>alfa-romero</td><td>gas</td><td>std</td><td>two </td><td>hatchback  </td><td>rwd</td><td>front</td><td>94.5</td><td>⋯</td><td>mpfi</td><td>2.68</td><td>3.47</td><td> 9</td><td>154</td><td>5000</td><td>19</td><td>26</td><td>16500</td><td>NA</td></tr>\n",
       "\t<tr><th scope=row>4</th><td>2</td><td>164</td><td>audi       </td><td>gas</td><td>std</td><td>four</td><td>sedan      </td><td>fwd</td><td>front</td><td>99.8</td><td>⋯</td><td>mpfi</td><td>3.19</td><td>3.40</td><td>10</td><td>102</td><td>5500</td><td>24</td><td>30</td><td>13950</td><td>NA</td></tr>\n",
       "\t<tr><th scope=row>5</th><td>2</td><td>164</td><td>audi       </td><td>gas</td><td>std</td><td>four</td><td>sedan      </td><td>4wd</td><td>front</td><td>99.4</td><td>⋯</td><td>mpfi</td><td>3.19</td><td>3.40</td><td> 8</td><td>115</td><td>5500</td><td>18</td><td>22</td><td>17450</td><td>NA</td></tr>\n",
       "</tbody>\n",
       "</table>\n"
      ],
      "text/latex": [
       "A data.frame: 5 × 27\n",
       "\\begin{tabular}{r|lllllllllllllllllllll}\n",
       "  & symb & normLoss & make & fuelType & aspiration & nDoors & bodyStyle & driveWheels & engineLocation & wheelBase & ⋯ & fuelSystem & bore & stroke & compressionRatio & horsePower & peakRpm & cityMpg & highwayMpg & price & price\\_zscore\\_norm\\\\\n",
       "  & <int> & <int> & <fct> & <fct> & <fct> & <fct> & <fct> & <fct> & <fct> & <dbl> & ⋯ & <fct> & <dbl> & <dbl> & <dbl> & <int> & <int> & <int> & <int> & <int> & <dbl>\\\\\n",
       "\\hline\n",
       "\t1 & 3 &  NA & alfa-romero & gas & std & two  & convertible & rwd & front & 88.6 & ⋯ & mpfi & 3.47 & 2.68 &  9 & 111 & 5000 & 21 & 27 & 13495 & NA\\\\\n",
       "\t2 & 3 &  NA & alfa-romero & gas & std & two  & convertible & rwd & front & 88.6 & ⋯ & mpfi & 3.47 & 2.68 &  9 & 111 & 5000 & 21 & 27 & 16500 & NA\\\\\n",
       "\t3 & 1 &  NA & alfa-romero & gas & std & two  & hatchback   & rwd & front & 94.5 & ⋯ & mpfi & 2.68 & 3.47 &  9 & 154 & 5000 & 19 & 26 & 16500 & NA\\\\\n",
       "\t4 & 2 & 164 & audi        & gas & std & four & sedan       & fwd & front & 99.8 & ⋯ & mpfi & 3.19 & 3.40 & 10 & 102 & 5500 & 24 & 30 & 13950 & NA\\\\\n",
       "\t5 & 2 & 164 & audi        & gas & std & four & sedan       & 4wd & front & 99.4 & ⋯ & mpfi & 3.19 & 3.40 &  8 & 115 & 5500 & 18 & 22 & 17450 & NA\\\\\n",
       "\\end{tabular}\n"
      ],
      "text/markdown": [
       "\n",
       "A data.frame: 5 × 27\n",
       "\n",
       "| <!--/--> | symb &lt;int&gt; | normLoss &lt;int&gt; | make &lt;fct&gt; | fuelType &lt;fct&gt; | aspiration &lt;fct&gt; | nDoors &lt;fct&gt; | bodyStyle &lt;fct&gt; | driveWheels &lt;fct&gt; | engineLocation &lt;fct&gt; | wheelBase &lt;dbl&gt; | ⋯ ⋯ | fuelSystem &lt;fct&gt; | bore &lt;dbl&gt; | stroke &lt;dbl&gt; | compressionRatio &lt;dbl&gt; | horsePower &lt;int&gt; | peakRpm &lt;int&gt; | cityMpg &lt;int&gt; | highwayMpg &lt;int&gt; | price &lt;int&gt; | price_zscore_norm &lt;dbl&gt; |\n",
       "|---|---|---|---|---|---|---|---|---|---|---|---|---|---|---|---|---|---|---|---|---|---|\n",
       "| 1 | 3 |  NA | alfa-romero | gas | std | two  | convertible | rwd | front | 88.6 | ⋯ | mpfi | 3.47 | 2.68 |  9 | 111 | 5000 | 21 | 27 | 13495 | NA |\n",
       "| 2 | 3 |  NA | alfa-romero | gas | std | two  | convertible | rwd | front | 88.6 | ⋯ | mpfi | 3.47 | 2.68 |  9 | 111 | 5000 | 21 | 27 | 16500 | NA |\n",
       "| 3 | 1 |  NA | alfa-romero | gas | std | two  | hatchback   | rwd | front | 94.5 | ⋯ | mpfi | 2.68 | 3.47 |  9 | 154 | 5000 | 19 | 26 | 16500 | NA |\n",
       "| 4 | 2 | 164 | audi        | gas | std | four | sedan       | fwd | front | 99.8 | ⋯ | mpfi | 3.19 | 3.40 | 10 | 102 | 5500 | 24 | 30 | 13950 | NA |\n",
       "| 5 | 2 | 164 | audi        | gas | std | four | sedan       | 4wd | front | 99.4 | ⋯ | mpfi | 3.19 | 3.40 |  8 | 115 | 5500 | 18 | 22 | 17450 | NA |\n",
       "\n"
      ],
      "text/plain": [
       "  symb normLoss make        fuelType aspiration nDoors bodyStyle   driveWheels\n",
       "1 3     NA      alfa-romero gas      std        two    convertible rwd        \n",
       "2 3     NA      alfa-romero gas      std        two    convertible rwd        \n",
       "3 1     NA      alfa-romero gas      std        two    hatchback   rwd        \n",
       "4 2    164      audi        gas      std        four   sedan       fwd        \n",
       "5 2    164      audi        gas      std        four   sedan       4wd        \n",
       "  engineLocation wheelBase ⋯ fuelSystem bore stroke compressionRatio horsePower\n",
       "1 front          88.6      ⋯ mpfi       3.47 2.68    9               111       \n",
       "2 front          88.6      ⋯ mpfi       3.47 2.68    9               111       \n",
       "3 front          94.5      ⋯ mpfi       2.68 3.47    9               154       \n",
       "4 front          99.8      ⋯ mpfi       3.19 3.40   10               102       \n",
       "5 front          99.4      ⋯ mpfi       3.19 3.40    8               115       \n",
       "  peakRpm cityMpg highwayMpg price price_zscore_norm\n",
       "1 5000    21      27         13495 NA               \n",
       "2 5000    21      27         16500 NA               \n",
       "3 5000    19      26         16500 NA               \n",
       "4 5500    24      30         13950 NA               \n",
       "5 5500    18      22         17450 NA               "
      ]
     },
     "metadata": {},
     "output_type": "display_data"
    }
   ],
   "source": [
    "# Z-score normalization\n",
    "df_z <- df %>%\n",
    "  mutate(price_zscore_norm = (price - mean(price)) / sd(price))\n",
    "head(df_z,5)"
   ]
  },
  {
   "cell_type": "markdown",
   "metadata": {},
   "source": [
    "#### (b) Discretize it into 4 equal-frequency ranges an into 4 equal-width ranges. Tip: use the function binning()."
   ]
  },
  {
   "cell_type": "code",
   "execution_count": null,
   "metadata": {},
   "outputs": [],
   "source": [
    "# Discretize the price attribute into equal-frequency ranges and equal-width ranges\n",
    "discretized_data <- binning(transformed_data, vars(price), n = 4, type = \"equal_frequency\")"
   ]
  },
  {
   "cell_type": "markdown",
   "metadata": {},
   "source": [
    "### 3. With the seed 111019 obtain the following samples on the car insurance data set. Tip: use the function sample_frac()."
   ]
  },
  {
   "cell_type": "code",
   "execution_count": 17,
   "metadata": {},
   "outputs": [
    {
     "data": {
      "text/html": [
       "<table class=\"dataframe\">\n",
       "<caption>A data.frame: 5 × 26</caption>\n",
       "<thead>\n",
       "\t<tr><th></th><th scope=col>symb</th><th scope=col>normLoss</th><th scope=col>make</th><th scope=col>fuelType</th><th scope=col>aspiration</th><th scope=col>nDoors</th><th scope=col>bodyStyle</th><th scope=col>driveWheels</th><th scope=col>engineLocation</th><th scope=col>wheelBase</th><th scope=col>⋯</th><th scope=col>engineSize</th><th scope=col>fuelSystem</th><th scope=col>bore</th><th scope=col>stroke</th><th scope=col>compressionRatio</th><th scope=col>horsePower</th><th scope=col>peakRpm</th><th scope=col>cityMpg</th><th scope=col>highwayMpg</th><th scope=col>price</th></tr>\n",
       "\t<tr><th></th><th scope=col>&lt;int&gt;</th><th scope=col>&lt;int&gt;</th><th scope=col>&lt;fct&gt;</th><th scope=col>&lt;fct&gt;</th><th scope=col>&lt;fct&gt;</th><th scope=col>&lt;fct&gt;</th><th scope=col>&lt;fct&gt;</th><th scope=col>&lt;fct&gt;</th><th scope=col>&lt;fct&gt;</th><th scope=col>&lt;dbl&gt;</th><th scope=col>⋯</th><th scope=col>&lt;int&gt;</th><th scope=col>&lt;fct&gt;</th><th scope=col>&lt;dbl&gt;</th><th scope=col>&lt;dbl&gt;</th><th scope=col>&lt;dbl&gt;</th><th scope=col>&lt;int&gt;</th><th scope=col>&lt;int&gt;</th><th scope=col>&lt;int&gt;</th><th scope=col>&lt;int&gt;</th><th scope=col>&lt;int&gt;</th></tr>\n",
       "</thead>\n",
       "<tbody>\n",
       "\t<tr><th scope=row>1</th><td>3</td><td> NA</td><td>alfa-romero</td><td>gas</td><td>std</td><td>two </td><td>convertible</td><td>rwd</td><td>front</td><td>88.6</td><td>⋯</td><td>130</td><td>mpfi</td><td>3.47</td><td>2.68</td><td> 9</td><td>111</td><td>5000</td><td>21</td><td>27</td><td>13495</td></tr>\n",
       "\t<tr><th scope=row>2</th><td>3</td><td> NA</td><td>alfa-romero</td><td>gas</td><td>std</td><td>two </td><td>convertible</td><td>rwd</td><td>front</td><td>88.6</td><td>⋯</td><td>130</td><td>mpfi</td><td>3.47</td><td>2.68</td><td> 9</td><td>111</td><td>5000</td><td>21</td><td>27</td><td>16500</td></tr>\n",
       "\t<tr><th scope=row>3</th><td>1</td><td> NA</td><td>alfa-romero</td><td>gas</td><td>std</td><td>two </td><td>hatchback  </td><td>rwd</td><td>front</td><td>94.5</td><td>⋯</td><td>152</td><td>mpfi</td><td>2.68</td><td>3.47</td><td> 9</td><td>154</td><td>5000</td><td>19</td><td>26</td><td>16500</td></tr>\n",
       "\t<tr><th scope=row>4</th><td>2</td><td>164</td><td>audi       </td><td>gas</td><td>std</td><td>four</td><td>sedan      </td><td>fwd</td><td>front</td><td>99.8</td><td>⋯</td><td>109</td><td>mpfi</td><td>3.19</td><td>3.40</td><td>10</td><td>102</td><td>5500</td><td>24</td><td>30</td><td>13950</td></tr>\n",
       "\t<tr><th scope=row>5</th><td>2</td><td>164</td><td>audi       </td><td>gas</td><td>std</td><td>four</td><td>sedan      </td><td>4wd</td><td>front</td><td>99.4</td><td>⋯</td><td>136</td><td>mpfi</td><td>3.19</td><td>3.40</td><td> 8</td><td>115</td><td>5500</td><td>18</td><td>22</td><td>17450</td></tr>\n",
       "</tbody>\n",
       "</table>\n"
      ],
      "text/latex": [
       "A data.frame: 5 × 26\n",
       "\\begin{tabular}{r|lllllllllllllllllllll}\n",
       "  & symb & normLoss & make & fuelType & aspiration & nDoors & bodyStyle & driveWheels & engineLocation & wheelBase & ⋯ & engineSize & fuelSystem & bore & stroke & compressionRatio & horsePower & peakRpm & cityMpg & highwayMpg & price\\\\\n",
       "  & <int> & <int> & <fct> & <fct> & <fct> & <fct> & <fct> & <fct> & <fct> & <dbl> & ⋯ & <int> & <fct> & <dbl> & <dbl> & <dbl> & <int> & <int> & <int> & <int> & <int>\\\\\n",
       "\\hline\n",
       "\t1 & 3 &  NA & alfa-romero & gas & std & two  & convertible & rwd & front & 88.6 & ⋯ & 130 & mpfi & 3.47 & 2.68 &  9 & 111 & 5000 & 21 & 27 & 13495\\\\\n",
       "\t2 & 3 &  NA & alfa-romero & gas & std & two  & convertible & rwd & front & 88.6 & ⋯ & 130 & mpfi & 3.47 & 2.68 &  9 & 111 & 5000 & 21 & 27 & 16500\\\\\n",
       "\t3 & 1 &  NA & alfa-romero & gas & std & two  & hatchback   & rwd & front & 94.5 & ⋯ & 152 & mpfi & 2.68 & 3.47 &  9 & 154 & 5000 & 19 & 26 & 16500\\\\\n",
       "\t4 & 2 & 164 & audi        & gas & std & four & sedan       & fwd & front & 99.8 & ⋯ & 109 & mpfi & 3.19 & 3.40 & 10 & 102 & 5500 & 24 & 30 & 13950\\\\\n",
       "\t5 & 2 & 164 & audi        & gas & std & four & sedan       & 4wd & front & 99.4 & ⋯ & 136 & mpfi & 3.19 & 3.40 &  8 & 115 & 5500 & 18 & 22 & 17450\\\\\n",
       "\\end{tabular}\n"
      ],
      "text/markdown": [
       "\n",
       "A data.frame: 5 × 26\n",
       "\n",
       "| <!--/--> | symb &lt;int&gt; | normLoss &lt;int&gt; | make &lt;fct&gt; | fuelType &lt;fct&gt; | aspiration &lt;fct&gt; | nDoors &lt;fct&gt; | bodyStyle &lt;fct&gt; | driveWheels &lt;fct&gt; | engineLocation &lt;fct&gt; | wheelBase &lt;dbl&gt; | ⋯ ⋯ | engineSize &lt;int&gt; | fuelSystem &lt;fct&gt; | bore &lt;dbl&gt; | stroke &lt;dbl&gt; | compressionRatio &lt;dbl&gt; | horsePower &lt;int&gt; | peakRpm &lt;int&gt; | cityMpg &lt;int&gt; | highwayMpg &lt;int&gt; | price &lt;int&gt; |\n",
       "|---|---|---|---|---|---|---|---|---|---|---|---|---|---|---|---|---|---|---|---|---|---|\n",
       "| 1 | 3 |  NA | alfa-romero | gas | std | two  | convertible | rwd | front | 88.6 | ⋯ | 130 | mpfi | 3.47 | 2.68 |  9 | 111 | 5000 | 21 | 27 | 13495 |\n",
       "| 2 | 3 |  NA | alfa-romero | gas | std | two  | convertible | rwd | front | 88.6 | ⋯ | 130 | mpfi | 3.47 | 2.68 |  9 | 111 | 5000 | 21 | 27 | 16500 |\n",
       "| 3 | 1 |  NA | alfa-romero | gas | std | two  | hatchback   | rwd | front | 94.5 | ⋯ | 152 | mpfi | 2.68 | 3.47 |  9 | 154 | 5000 | 19 | 26 | 16500 |\n",
       "| 4 | 2 | 164 | audi        | gas | std | four | sedan       | fwd | front | 99.8 | ⋯ | 109 | mpfi | 3.19 | 3.40 | 10 | 102 | 5500 | 24 | 30 | 13950 |\n",
       "| 5 | 2 | 164 | audi        | gas | std | four | sedan       | 4wd | front | 99.4 | ⋯ | 136 | mpfi | 3.19 | 3.40 |  8 | 115 | 5500 | 18 | 22 | 17450 |\n",
       "\n"
      ],
      "text/plain": [
       "  symb normLoss make        fuelType aspiration nDoors bodyStyle   driveWheels\n",
       "1 3     NA      alfa-romero gas      std        two    convertible rwd        \n",
       "2 3     NA      alfa-romero gas      std        two    convertible rwd        \n",
       "3 1     NA      alfa-romero gas      std        two    hatchback   rwd        \n",
       "4 2    164      audi        gas      std        four   sedan       fwd        \n",
       "5 2    164      audi        gas      std        four   sedan       4wd        \n",
       "  engineLocation wheelBase ⋯ engineSize fuelSystem bore stroke compressionRatio\n",
       "1 front          88.6      ⋯ 130        mpfi       3.47 2.68    9              \n",
       "2 front          88.6      ⋯ 130        mpfi       3.47 2.68    9              \n",
       "3 front          94.5      ⋯ 152        mpfi       2.68 3.47    9              \n",
       "4 front          99.8      ⋯ 109        mpfi       3.19 3.40   10              \n",
       "5 front          99.4      ⋯ 136        mpfi       3.19 3.40    8              \n",
       "  horsePower peakRpm cityMpg highwayMpg price\n",
       "1 111        5000    21      27         13495\n",
       "2 111        5000    21      27         16500\n",
       "3 154        5000    19      26         16500\n",
       "4 102        5500    24      30         13950\n",
       "5 115        5500    18      22         17450"
      ]
     },
     "metadata": {},
     "output_type": "display_data"
    }
   ],
   "source": [
    "# Set the seed\n",
    "set.seed(111019)\n",
    "#View dataset\n",
    "head(df,5)"
   ]
  },
  {
   "cell_type": "markdown",
   "metadata": {},
   "source": [
    "#### (a) A random sample of 60% of the cases, with replacement"
   ]
  },
  {
   "cell_type": "code",
   "execution_count": 18,
   "metadata": {},
   "outputs": [
    {
     "data": {
      "text/html": [
       "<table class=\"dataframe\">\n",
       "<caption>A data.frame: 5 × 26</caption>\n",
       "<thead>\n",
       "\t<tr><th></th><th scope=col>symb</th><th scope=col>normLoss</th><th scope=col>make</th><th scope=col>fuelType</th><th scope=col>aspiration</th><th scope=col>nDoors</th><th scope=col>bodyStyle</th><th scope=col>driveWheels</th><th scope=col>engineLocation</th><th scope=col>wheelBase</th><th scope=col>⋯</th><th scope=col>engineSize</th><th scope=col>fuelSystem</th><th scope=col>bore</th><th scope=col>stroke</th><th scope=col>compressionRatio</th><th scope=col>horsePower</th><th scope=col>peakRpm</th><th scope=col>cityMpg</th><th scope=col>highwayMpg</th><th scope=col>price</th></tr>\n",
       "\t<tr><th></th><th scope=col>&lt;int&gt;</th><th scope=col>&lt;int&gt;</th><th scope=col>&lt;fct&gt;</th><th scope=col>&lt;fct&gt;</th><th scope=col>&lt;fct&gt;</th><th scope=col>&lt;fct&gt;</th><th scope=col>&lt;fct&gt;</th><th scope=col>&lt;fct&gt;</th><th scope=col>&lt;fct&gt;</th><th scope=col>&lt;dbl&gt;</th><th scope=col>⋯</th><th scope=col>&lt;int&gt;</th><th scope=col>&lt;fct&gt;</th><th scope=col>&lt;dbl&gt;</th><th scope=col>&lt;dbl&gt;</th><th scope=col>&lt;dbl&gt;</th><th scope=col>&lt;int&gt;</th><th scope=col>&lt;int&gt;</th><th scope=col>&lt;int&gt;</th><th scope=col>&lt;int&gt;</th><th scope=col>&lt;int&gt;</th></tr>\n",
       "</thead>\n",
       "<tbody>\n",
       "\t<tr><th scope=row>1</th><td>1</td><td>128</td><td>nissan</td><td>diesel</td><td>std</td><td>two </td><td>sedan    </td><td>fwd</td><td>front</td><td> 94.5</td><td>⋯</td><td>103</td><td>idi </td><td>2.99</td><td>3.47</td><td>21.9</td><td> 55</td><td>4800</td><td>45</td><td>50</td><td> 7099</td></tr>\n",
       "\t<tr><th scope=row>2</th><td>1</td><td>101</td><td>honda </td><td>gas   </td><td>std</td><td>two </td><td>hatchback</td><td>fwd</td><td>front</td><td> 93.7</td><td>⋯</td><td> 92</td><td>1bbl</td><td>2.91</td><td>3.41</td><td> 9.2</td><td> 76</td><td>6000</td><td>30</td><td>34</td><td> 6529</td></tr>\n",
       "\t<tr><th scope=row>3</th><td>0</td><td>161</td><td>peugot</td><td>gas   </td><td>std</td><td>four</td><td>sedan    </td><td>rwd</td><td>front</td><td>107.9</td><td>⋯</td><td>120</td><td>mpfi</td><td>3.46</td><td>3.19</td><td> 8.4</td><td> 97</td><td>5000</td><td>19</td><td>24</td><td>16630</td></tr>\n",
       "\t<tr><th scope=row>4</th><td>2</td><td> NA</td><td>audi  </td><td>gas   </td><td>std</td><td>two </td><td>sedan    </td><td>fwd</td><td>front</td><td> 99.8</td><td>⋯</td><td>136</td><td>mpfi</td><td>3.19</td><td>3.40</td><td> 8.5</td><td>110</td><td>5500</td><td>19</td><td>25</td><td>15250</td></tr>\n",
       "\t<tr><th scope=row>5</th><td>0</td><td>102</td><td>subaru</td><td>gas   </td><td>std</td><td>four</td><td>sedan    </td><td>4wd</td><td>front</td><td> 97.0</td><td>⋯</td><td>108</td><td>2bbl</td><td>3.62</td><td>2.64</td><td> 9.0</td><td> 82</td><td>4800</td><td>24</td><td>25</td><td> 9233</td></tr>\n",
       "</tbody>\n",
       "</table>\n"
      ],
      "text/latex": [
       "A data.frame: 5 × 26\n",
       "\\begin{tabular}{r|lllllllllllllllllllll}\n",
       "  & symb & normLoss & make & fuelType & aspiration & nDoors & bodyStyle & driveWheels & engineLocation & wheelBase & ⋯ & engineSize & fuelSystem & bore & stroke & compressionRatio & horsePower & peakRpm & cityMpg & highwayMpg & price\\\\\n",
       "  & <int> & <int> & <fct> & <fct> & <fct> & <fct> & <fct> & <fct> & <fct> & <dbl> & ⋯ & <int> & <fct> & <dbl> & <dbl> & <dbl> & <int> & <int> & <int> & <int> & <int>\\\\\n",
       "\\hline\n",
       "\t1 & 1 & 128 & nissan & diesel & std & two  & sedan     & fwd & front &  94.5 & ⋯ & 103 & idi  & 2.99 & 3.47 & 21.9 &  55 & 4800 & 45 & 50 &  7099\\\\\n",
       "\t2 & 1 & 101 & honda  & gas    & std & two  & hatchback & fwd & front &  93.7 & ⋯ &  92 & 1bbl & 2.91 & 3.41 &  9.2 &  76 & 6000 & 30 & 34 &  6529\\\\\n",
       "\t3 & 0 & 161 & peugot & gas    & std & four & sedan     & rwd & front & 107.9 & ⋯ & 120 & mpfi & 3.46 & 3.19 &  8.4 &  97 & 5000 & 19 & 24 & 16630\\\\\n",
       "\t4 & 2 &  NA & audi   & gas    & std & two  & sedan     & fwd & front &  99.8 & ⋯ & 136 & mpfi & 3.19 & 3.40 &  8.5 & 110 & 5500 & 19 & 25 & 15250\\\\\n",
       "\t5 & 0 & 102 & subaru & gas    & std & four & sedan     & 4wd & front &  97.0 & ⋯ & 108 & 2bbl & 3.62 & 2.64 &  9.0 &  82 & 4800 & 24 & 25 &  9233\\\\\n",
       "\\end{tabular}\n"
      ],
      "text/markdown": [
       "\n",
       "A data.frame: 5 × 26\n",
       "\n",
       "| <!--/--> | symb &lt;int&gt; | normLoss &lt;int&gt; | make &lt;fct&gt; | fuelType &lt;fct&gt; | aspiration &lt;fct&gt; | nDoors &lt;fct&gt; | bodyStyle &lt;fct&gt; | driveWheels &lt;fct&gt; | engineLocation &lt;fct&gt; | wheelBase &lt;dbl&gt; | ⋯ ⋯ | engineSize &lt;int&gt; | fuelSystem &lt;fct&gt; | bore &lt;dbl&gt; | stroke &lt;dbl&gt; | compressionRatio &lt;dbl&gt; | horsePower &lt;int&gt; | peakRpm &lt;int&gt; | cityMpg &lt;int&gt; | highwayMpg &lt;int&gt; | price &lt;int&gt; |\n",
       "|---|---|---|---|---|---|---|---|---|---|---|---|---|---|---|---|---|---|---|---|---|---|\n",
       "| 1 | 1 | 128 | nissan | diesel | std | two  | sedan     | fwd | front |  94.5 | ⋯ | 103 | idi  | 2.99 | 3.47 | 21.9 |  55 | 4800 | 45 | 50 |  7099 |\n",
       "| 2 | 1 | 101 | honda  | gas    | std | two  | hatchback | fwd | front |  93.7 | ⋯ |  92 | 1bbl | 2.91 | 3.41 |  9.2 |  76 | 6000 | 30 | 34 |  6529 |\n",
       "| 3 | 0 | 161 | peugot | gas    | std | four | sedan     | rwd | front | 107.9 | ⋯ | 120 | mpfi | 3.46 | 3.19 |  8.4 |  97 | 5000 | 19 | 24 | 16630 |\n",
       "| 4 | 2 |  NA | audi   | gas    | std | two  | sedan     | fwd | front |  99.8 | ⋯ | 136 | mpfi | 3.19 | 3.40 |  8.5 | 110 | 5500 | 19 | 25 | 15250 |\n",
       "| 5 | 0 | 102 | subaru | gas    | std | four | sedan     | 4wd | front |  97.0 | ⋯ | 108 | 2bbl | 3.62 | 2.64 |  9.0 |  82 | 4800 | 24 | 25 |  9233 |\n",
       "\n"
      ],
      "text/plain": [
       "  symb normLoss make   fuelType aspiration nDoors bodyStyle driveWheels\n",
       "1 1    128      nissan diesel   std        two    sedan     fwd        \n",
       "2 1    101      honda  gas      std        two    hatchback fwd        \n",
       "3 0    161      peugot gas      std        four   sedan     rwd        \n",
       "4 2     NA      audi   gas      std        two    sedan     fwd        \n",
       "5 0    102      subaru gas      std        four   sedan     4wd        \n",
       "  engineLocation wheelBase ⋯ engineSize fuelSystem bore stroke compressionRatio\n",
       "1 front           94.5     ⋯ 103        idi        2.99 3.47   21.9            \n",
       "2 front           93.7     ⋯  92        1bbl       2.91 3.41    9.2            \n",
       "3 front          107.9     ⋯ 120        mpfi       3.46 3.19    8.4            \n",
       "4 front           99.8     ⋯ 136        mpfi       3.19 3.40    8.5            \n",
       "5 front           97.0     ⋯ 108        2bbl       3.62 2.64    9.0            \n",
       "  horsePower peakRpm cityMpg highwayMpg price\n",
       "1  55        4800    45      50          7099\n",
       "2  76        6000    30      34          6529\n",
       "3  97        5000    19      24         16630\n",
       "4 110        5500    19      25         15250\n",
       "5  82        4800    24      25          9233"
      ]
     },
     "metadata": {},
     "output_type": "display_data"
    }
   ],
   "source": [
    "# Random sample of 60% of the cases, with replacement\n",
    "random_sample <- sample_frac(df, 0.6, replace = TRUE)\n",
    "#Print \n",
    "head(random_sample,5)"
   ]
  },
  {
   "cell_type": "markdown",
   "metadata": {},
   "source": [
    "#### (b) A stratified sample of 60% of the cases of cars, according to the fuelType attribute."
   ]
  },
  {
   "cell_type": "code",
   "execution_count": 19,
   "metadata": {},
   "outputs": [
    {
     "data": {
      "text/html": [
       "<table class=\"dataframe\">\n",
       "<caption>A grouped_df: 5 × 26</caption>\n",
       "<thead>\n",
       "\t<tr><th scope=col>symb</th><th scope=col>normLoss</th><th scope=col>make</th><th scope=col>fuelType</th><th scope=col>aspiration</th><th scope=col>nDoors</th><th scope=col>bodyStyle</th><th scope=col>driveWheels</th><th scope=col>engineLocation</th><th scope=col>wheelBase</th><th scope=col>⋯</th><th scope=col>engineSize</th><th scope=col>fuelSystem</th><th scope=col>bore</th><th scope=col>stroke</th><th scope=col>compressionRatio</th><th scope=col>horsePower</th><th scope=col>peakRpm</th><th scope=col>cityMpg</th><th scope=col>highwayMpg</th><th scope=col>price</th></tr>\n",
       "\t<tr><th scope=col>&lt;int&gt;</th><th scope=col>&lt;int&gt;</th><th scope=col>&lt;fct&gt;</th><th scope=col>&lt;fct&gt;</th><th scope=col>&lt;fct&gt;</th><th scope=col>&lt;fct&gt;</th><th scope=col>&lt;fct&gt;</th><th scope=col>&lt;fct&gt;</th><th scope=col>&lt;fct&gt;</th><th scope=col>&lt;dbl&gt;</th><th scope=col>⋯</th><th scope=col>&lt;int&gt;</th><th scope=col>&lt;fct&gt;</th><th scope=col>&lt;dbl&gt;</th><th scope=col>&lt;dbl&gt;</th><th scope=col>&lt;dbl&gt;</th><th scope=col>&lt;int&gt;</th><th scope=col>&lt;int&gt;</th><th scope=col>&lt;int&gt;</th><th scope=col>&lt;int&gt;</th><th scope=col>&lt;int&gt;</th></tr>\n",
       "</thead>\n",
       "<tbody>\n",
       "\t<tr><td>0</td><td> 91</td><td>toyota    </td><td>diesel</td><td>std  </td><td>four</td><td>hatchback</td><td>fwd</td><td>front</td><td> 95.7</td><td>⋯</td><td>110</td><td>idi</td><td>3.27</td><td>3.35</td><td>22.5</td><td>56</td><td>4500</td><td>38</td><td>47</td><td> 7788</td></tr>\n",
       "\t<tr><td>2</td><td> 94</td><td>volkswagen</td><td>diesel</td><td>std  </td><td>four</td><td>sedan    </td><td>fwd</td><td>front</td><td> 97.3</td><td>⋯</td><td> 97</td><td>idi</td><td>3.01</td><td>3.40</td><td>23.0</td><td>52</td><td>4800</td><td>37</td><td>46</td><td> 7995</td></tr>\n",
       "\t<tr><td>0</td><td> NA</td><td>peugot    </td><td>diesel</td><td>turbo</td><td>four</td><td>wagon    </td><td>rwd</td><td>front</td><td>114.2</td><td>⋯</td><td>152</td><td>idi</td><td>3.70</td><td>3.52</td><td>21.0</td><td>95</td><td>4150</td><td>25</td><td>25</td><td>13860</td></tr>\n",
       "\t<tr><td>2</td><td>122</td><td>volkswagen</td><td>diesel</td><td>std  </td><td>two </td><td>sedan    </td><td>fwd</td><td>front</td><td> 97.3</td><td>⋯</td><td> 97</td><td>idi</td><td>3.01</td><td>3.40</td><td>23.0</td><td>52</td><td>4800</td><td>37</td><td>46</td><td> 7775</td></tr>\n",
       "\t<tr><td>0</td><td> NA</td><td>peugot    </td><td>diesel</td><td>turbo</td><td>four</td><td>wagon    </td><td>rwd</td><td>front</td><td>114.2</td><td>⋯</td><td>152</td><td>idi</td><td>3.70</td><td>3.52</td><td>21.0</td><td>95</td><td>4150</td><td>25</td><td>25</td><td>17075</td></tr>\n",
       "</tbody>\n",
       "</table>\n"
      ],
      "text/latex": [
       "A grouped\\_df: 5 × 26\n",
       "\\begin{tabular}{lllllllllllllllllllll}\n",
       " symb & normLoss & make & fuelType & aspiration & nDoors & bodyStyle & driveWheels & engineLocation & wheelBase & ⋯ & engineSize & fuelSystem & bore & stroke & compressionRatio & horsePower & peakRpm & cityMpg & highwayMpg & price\\\\\n",
       " <int> & <int> & <fct> & <fct> & <fct> & <fct> & <fct> & <fct> & <fct> & <dbl> & ⋯ & <int> & <fct> & <dbl> & <dbl> & <dbl> & <int> & <int> & <int> & <int> & <int>\\\\\n",
       "\\hline\n",
       "\t 0 &  91 & toyota     & diesel & std   & four & hatchback & fwd & front &  95.7 & ⋯ & 110 & idi & 3.27 & 3.35 & 22.5 & 56 & 4500 & 38 & 47 &  7788\\\\\n",
       "\t 2 &  94 & volkswagen & diesel & std   & four & sedan     & fwd & front &  97.3 & ⋯ &  97 & idi & 3.01 & 3.40 & 23.0 & 52 & 4800 & 37 & 46 &  7995\\\\\n",
       "\t 0 &  NA & peugot     & diesel & turbo & four & wagon     & rwd & front & 114.2 & ⋯ & 152 & idi & 3.70 & 3.52 & 21.0 & 95 & 4150 & 25 & 25 & 13860\\\\\n",
       "\t 2 & 122 & volkswagen & diesel & std   & two  & sedan     & fwd & front &  97.3 & ⋯ &  97 & idi & 3.01 & 3.40 & 23.0 & 52 & 4800 & 37 & 46 &  7775\\\\\n",
       "\t 0 &  NA & peugot     & diesel & turbo & four & wagon     & rwd & front & 114.2 & ⋯ & 152 & idi & 3.70 & 3.52 & 21.0 & 95 & 4150 & 25 & 25 & 17075\\\\\n",
       "\\end{tabular}\n"
      ],
      "text/markdown": [
       "\n",
       "A grouped_df: 5 × 26\n",
       "\n",
       "| symb &lt;int&gt; | normLoss &lt;int&gt; | make &lt;fct&gt; | fuelType &lt;fct&gt; | aspiration &lt;fct&gt; | nDoors &lt;fct&gt; | bodyStyle &lt;fct&gt; | driveWheels &lt;fct&gt; | engineLocation &lt;fct&gt; | wheelBase &lt;dbl&gt; | ⋯ ⋯ | engineSize &lt;int&gt; | fuelSystem &lt;fct&gt; | bore &lt;dbl&gt; | stroke &lt;dbl&gt; | compressionRatio &lt;dbl&gt; | horsePower &lt;int&gt; | peakRpm &lt;int&gt; | cityMpg &lt;int&gt; | highwayMpg &lt;int&gt; | price &lt;int&gt; |\n",
       "|---|---|---|---|---|---|---|---|---|---|---|---|---|---|---|---|---|---|---|---|---|\n",
       "| 0 |  91 | toyota     | diesel | std   | four | hatchback | fwd | front |  95.7 | ⋯ | 110 | idi | 3.27 | 3.35 | 22.5 | 56 | 4500 | 38 | 47 |  7788 |\n",
       "| 2 |  94 | volkswagen | diesel | std   | four | sedan     | fwd | front |  97.3 | ⋯ |  97 | idi | 3.01 | 3.40 | 23.0 | 52 | 4800 | 37 | 46 |  7995 |\n",
       "| 0 |  NA | peugot     | diesel | turbo | four | wagon     | rwd | front | 114.2 | ⋯ | 152 | idi | 3.70 | 3.52 | 21.0 | 95 | 4150 | 25 | 25 | 13860 |\n",
       "| 2 | 122 | volkswagen | diesel | std   | two  | sedan     | fwd | front |  97.3 | ⋯ |  97 | idi | 3.01 | 3.40 | 23.0 | 52 | 4800 | 37 | 46 |  7775 |\n",
       "| 0 |  NA | peugot     | diesel | turbo | four | wagon     | rwd | front | 114.2 | ⋯ | 152 | idi | 3.70 | 3.52 | 21.0 | 95 | 4150 | 25 | 25 | 17075 |\n",
       "\n"
      ],
      "text/plain": [
       "  symb normLoss make       fuelType aspiration nDoors bodyStyle driveWheels\n",
       "1 0     91      toyota     diesel   std        four   hatchback fwd        \n",
       "2 2     94      volkswagen diesel   std        four   sedan     fwd        \n",
       "3 0     NA      peugot     diesel   turbo      four   wagon     rwd        \n",
       "4 2    122      volkswagen diesel   std        two    sedan     fwd        \n",
       "5 0     NA      peugot     diesel   turbo      four   wagon     rwd        \n",
       "  engineLocation wheelBase ⋯ engineSize fuelSystem bore stroke compressionRatio\n",
       "1 front           95.7     ⋯ 110        idi        3.27 3.35   22.5            \n",
       "2 front           97.3     ⋯  97        idi        3.01 3.40   23.0            \n",
       "3 front          114.2     ⋯ 152        idi        3.70 3.52   21.0            \n",
       "4 front           97.3     ⋯  97        idi        3.01 3.40   23.0            \n",
       "5 front          114.2     ⋯ 152        idi        3.70 3.52   21.0            \n",
       "  horsePower peakRpm cityMpg highwayMpg price\n",
       "1 56         4500    38      47          7788\n",
       "2 52         4800    37      46          7995\n",
       "3 95         4150    25      25         13860\n",
       "4 52         4800    37      46          7775\n",
       "5 95         4150    25      25         17075"
      ]
     },
     "metadata": {},
     "output_type": "display_data"
    }
   ],
   "source": [
    "# Stratified sample of 60% of the cases of cars, according to the fuelType attribute\n",
    "stratified_sample <- df %>%\n",
    "  group_by(fuelType) %>%\n",
    "  sample_frac(0.6, replace = FALSE)\n",
    "head(stratified_sample,5)"
   ]
  },
  {
   "cell_type": "markdown",
   "metadata": {},
   "source": [
    "#### (c) Use the table() function to inspect the distribution of values in each of the two samples above."
   ]
  },
  {
   "cell_type": "code",
   "execution_count": 20,
   "metadata": {},
   "outputs": [
    {
     "data": {
      "text/plain": [
       "\n",
       "diesel    gas \n",
       "     8    115 "
      ]
     },
     "metadata": {},
     "output_type": "display_data"
    },
    {
     "data": {
      "text/plain": [
       "\n",
       "diesel    gas \n",
       "    12    111 "
      ]
     },
     "metadata": {},
     "output_type": "display_data"
    }
   ],
   "source": [
    "# Inspect the distribution of values in each of the two samples\n",
    "table(random_sample$fuelType)\n",
    "table(stratified_sample$fuelType)"
   ]
  },
  {
   "cell_type": "markdown",
   "metadata": {},
   "source": [
    "### 4. Load the package corrplot and select the numeric attributes of the car insurance data set."
   ]
  },
  {
   "cell_type": "code",
   "execution_count": 21,
   "metadata": {},
   "outputs": [
    {
     "name": "stderr",
     "output_type": "stream",
     "text": [
      "Installing package into 'C:/Users/Paola/AppData/Local/R/win-library/4.3'\n",
      "(as 'lib' is unspecified)\n",
      "\n"
     ]
    },
    {
     "name": "stdout",
     "output_type": "stream",
     "text": [
      "package 'corrplot' successfully unpacked and MD5 sums checked\n",
      "\n",
      "The downloaded binary packages are in\n",
      "\tC:\\Users\\Paola\\AppData\\Local\\Temp\\Rtmp21qe5a\\downloaded_packages\n"
     ]
    },
    {
     "name": "stderr",
     "output_type": "stream",
     "text": [
      "corrplot 0.92 loaded\n",
      "\n"
     ]
    }
   ],
   "source": [
    "#To install the package\n",
    "install.packages(\"corrplot\")\n",
    "# Load the package\n",
    "library(corrplot)\n"
   ]
  },
  {
   "cell_type": "code",
   "execution_count": 22,
   "metadata": {},
   "outputs": [
    {
     "data": {
      "text/html": [
       "<table class=\"dataframe\">\n",
       "<caption>A data.frame: 5 × 16</caption>\n",
       "<thead>\n",
       "\t<tr><th></th><th scope=col>symb</th><th scope=col>normLoss</th><th scope=col>wheelBase</th><th scope=col>length</th><th scope=col>width</th><th scope=col>height</th><th scope=col>curbWeight</th><th scope=col>engineSize</th><th scope=col>bore</th><th scope=col>stroke</th><th scope=col>compressionRatio</th><th scope=col>horsePower</th><th scope=col>peakRpm</th><th scope=col>cityMpg</th><th scope=col>highwayMpg</th><th scope=col>price</th></tr>\n",
       "\t<tr><th></th><th scope=col>&lt;int&gt;</th><th scope=col>&lt;int&gt;</th><th scope=col>&lt;dbl&gt;</th><th scope=col>&lt;dbl&gt;</th><th scope=col>&lt;dbl&gt;</th><th scope=col>&lt;dbl&gt;</th><th scope=col>&lt;int&gt;</th><th scope=col>&lt;int&gt;</th><th scope=col>&lt;dbl&gt;</th><th scope=col>&lt;dbl&gt;</th><th scope=col>&lt;dbl&gt;</th><th scope=col>&lt;int&gt;</th><th scope=col>&lt;int&gt;</th><th scope=col>&lt;int&gt;</th><th scope=col>&lt;int&gt;</th><th scope=col>&lt;int&gt;</th></tr>\n",
       "</thead>\n",
       "<tbody>\n",
       "\t<tr><th scope=row>1</th><td>3</td><td> NA</td><td>88.6</td><td>168.8</td><td>64.1</td><td>48.8</td><td>2548</td><td>130</td><td>3.47</td><td>2.68</td><td> 9</td><td>111</td><td>5000</td><td>21</td><td>27</td><td>13495</td></tr>\n",
       "\t<tr><th scope=row>2</th><td>3</td><td> NA</td><td>88.6</td><td>168.8</td><td>64.1</td><td>48.8</td><td>2548</td><td>130</td><td>3.47</td><td>2.68</td><td> 9</td><td>111</td><td>5000</td><td>21</td><td>27</td><td>16500</td></tr>\n",
       "\t<tr><th scope=row>3</th><td>1</td><td> NA</td><td>94.5</td><td>171.2</td><td>65.5</td><td>52.4</td><td>2823</td><td>152</td><td>2.68</td><td>3.47</td><td> 9</td><td>154</td><td>5000</td><td>19</td><td>26</td><td>16500</td></tr>\n",
       "\t<tr><th scope=row>4</th><td>2</td><td>164</td><td>99.8</td><td>176.6</td><td>66.2</td><td>54.3</td><td>2337</td><td>109</td><td>3.19</td><td>3.40</td><td>10</td><td>102</td><td>5500</td><td>24</td><td>30</td><td>13950</td></tr>\n",
       "\t<tr><th scope=row>5</th><td>2</td><td>164</td><td>99.4</td><td>176.6</td><td>66.4</td><td>54.3</td><td>2824</td><td>136</td><td>3.19</td><td>3.40</td><td> 8</td><td>115</td><td>5500</td><td>18</td><td>22</td><td>17450</td></tr>\n",
       "</tbody>\n",
       "</table>\n"
      ],
      "text/latex": [
       "A data.frame: 5 × 16\n",
       "\\begin{tabular}{r|llllllllllllllll}\n",
       "  & symb & normLoss & wheelBase & length & width & height & curbWeight & engineSize & bore & stroke & compressionRatio & horsePower & peakRpm & cityMpg & highwayMpg & price\\\\\n",
       "  & <int> & <int> & <dbl> & <dbl> & <dbl> & <dbl> & <int> & <int> & <dbl> & <dbl> & <dbl> & <int> & <int> & <int> & <int> & <int>\\\\\n",
       "\\hline\n",
       "\t1 & 3 &  NA & 88.6 & 168.8 & 64.1 & 48.8 & 2548 & 130 & 3.47 & 2.68 &  9 & 111 & 5000 & 21 & 27 & 13495\\\\\n",
       "\t2 & 3 &  NA & 88.6 & 168.8 & 64.1 & 48.8 & 2548 & 130 & 3.47 & 2.68 &  9 & 111 & 5000 & 21 & 27 & 16500\\\\\n",
       "\t3 & 1 &  NA & 94.5 & 171.2 & 65.5 & 52.4 & 2823 & 152 & 2.68 & 3.47 &  9 & 154 & 5000 & 19 & 26 & 16500\\\\\n",
       "\t4 & 2 & 164 & 99.8 & 176.6 & 66.2 & 54.3 & 2337 & 109 & 3.19 & 3.40 & 10 & 102 & 5500 & 24 & 30 & 13950\\\\\n",
       "\t5 & 2 & 164 & 99.4 & 176.6 & 66.4 & 54.3 & 2824 & 136 & 3.19 & 3.40 &  8 & 115 & 5500 & 18 & 22 & 17450\\\\\n",
       "\\end{tabular}\n"
      ],
      "text/markdown": [
       "\n",
       "A data.frame: 5 × 16\n",
       "\n",
       "| <!--/--> | symb &lt;int&gt; | normLoss &lt;int&gt; | wheelBase &lt;dbl&gt; | length &lt;dbl&gt; | width &lt;dbl&gt; | height &lt;dbl&gt; | curbWeight &lt;int&gt; | engineSize &lt;int&gt; | bore &lt;dbl&gt; | stroke &lt;dbl&gt; | compressionRatio &lt;dbl&gt; | horsePower &lt;int&gt; | peakRpm &lt;int&gt; | cityMpg &lt;int&gt; | highwayMpg &lt;int&gt; | price &lt;int&gt; |\n",
       "|---|---|---|---|---|---|---|---|---|---|---|---|---|---|---|---|---|\n",
       "| 1 | 3 |  NA | 88.6 | 168.8 | 64.1 | 48.8 | 2548 | 130 | 3.47 | 2.68 |  9 | 111 | 5000 | 21 | 27 | 13495 |\n",
       "| 2 | 3 |  NA | 88.6 | 168.8 | 64.1 | 48.8 | 2548 | 130 | 3.47 | 2.68 |  9 | 111 | 5000 | 21 | 27 | 16500 |\n",
       "| 3 | 1 |  NA | 94.5 | 171.2 | 65.5 | 52.4 | 2823 | 152 | 2.68 | 3.47 |  9 | 154 | 5000 | 19 | 26 | 16500 |\n",
       "| 4 | 2 | 164 | 99.8 | 176.6 | 66.2 | 54.3 | 2337 | 109 | 3.19 | 3.40 | 10 | 102 | 5500 | 24 | 30 | 13950 |\n",
       "| 5 | 2 | 164 | 99.4 | 176.6 | 66.4 | 54.3 | 2824 | 136 | 3.19 | 3.40 |  8 | 115 | 5500 | 18 | 22 | 17450 |\n",
       "\n"
      ],
      "text/plain": [
       "  symb normLoss wheelBase length width height curbWeight engineSize bore stroke\n",
       "1 3     NA      88.6      168.8  64.1  48.8   2548       130        3.47 2.68  \n",
       "2 3     NA      88.6      168.8  64.1  48.8   2548       130        3.47 2.68  \n",
       "3 1     NA      94.5      171.2  65.5  52.4   2823       152        2.68 3.47  \n",
       "4 2    164      99.8      176.6  66.2  54.3   2337       109        3.19 3.40  \n",
       "5 2    164      99.4      176.6  66.4  54.3   2824       136        3.19 3.40  \n",
       "  compressionRatio horsePower peakRpm cityMpg highwayMpg price\n",
       "1  9               111        5000    21      27         13495\n",
       "2  9               111        5000    21      27         16500\n",
       "3  9               154        5000    19      26         16500\n",
       "4 10               102        5500    24      30         13950\n",
       "5  8               115        5500    18      22         17450"
      ]
     },
     "metadata": {},
     "output_type": "display_data"
    }
   ],
   "source": [
    "# Select numeric attributes from the carInsurance dataset\n",
    "num_attri <- df %>% select_if(is.numeric)\n",
    "head (num_attri, 5)"
   ]
  },
  {
   "cell_type": "markdown",
   "metadata": {},
   "source": [
    "#### (a) Using the function cor(), obtain the pearson correlation coefficient between each pair of variables."
   ]
  },
  {
   "cell_type": "code",
   "execution_count": 23,
   "metadata": {},
   "outputs": [
    {
     "data": {
      "text/html": [
       "<table class=\"dataframe\">\n",
       "<caption>A matrix: 16 × 16 of type dbl</caption>\n",
       "<thead>\n",
       "\t<tr><th></th><th scope=col>symb</th><th scope=col>normLoss</th><th scope=col>wheelBase</th><th scope=col>length</th><th scope=col>width</th><th scope=col>height</th><th scope=col>curbWeight</th><th scope=col>engineSize</th><th scope=col>bore</th><th scope=col>stroke</th><th scope=col>compressionRatio</th><th scope=col>horsePower</th><th scope=col>peakRpm</th><th scope=col>cityMpg</th><th scope=col>highwayMpg</th><th scope=col>price</th></tr>\n",
       "</thead>\n",
       "<tbody>\n",
       "\t<tr><th scope=row>symb</th><td> 1.00000000</td><td>NA</td><td>-0.5319537</td><td>-0.3576115</td><td>-0.2329191</td><td>-0.54103820</td><td>-0.2276906</td><td>-0.10578971</td><td>NA</td><td>NA</td><td>-0.17851508</td><td>NA</td><td>NA</td><td>-0.03582263</td><td> 0.0346060</td><td>NA</td></tr>\n",
       "\t<tr><th scope=row>normLoss</th><td>         NA</td><td> 1</td><td>        NA</td><td>        NA</td><td>        NA</td><td>         NA</td><td>        NA</td><td>         NA</td><td>NA</td><td>NA</td><td>         NA</td><td>NA</td><td>NA</td><td>         NA</td><td>        NA</td><td>NA</td></tr>\n",
       "\t<tr><th scope=row>wheelBase</th><td>-0.53195368</td><td>NA</td><td> 1.0000000</td><td> 0.8745875</td><td> 0.7951436</td><td> 0.58943476</td><td> 0.7763863</td><td> 0.56932868</td><td>NA</td><td>NA</td><td> 0.24978585</td><td>NA</td><td>NA</td><td>-0.47041361</td><td>-0.5440819</td><td>NA</td></tr>\n",
       "\t<tr><th scope=row>length</th><td>-0.35761152</td><td>NA</td><td> 0.8745875</td><td> 1.0000000</td><td> 0.8411183</td><td> 0.49102946</td><td> 0.8777285</td><td> 0.68335987</td><td>NA</td><td>NA</td><td> 0.15841371</td><td>NA</td><td>NA</td><td>-0.67090866</td><td>-0.7046616</td><td>NA</td></tr>\n",
       "\t<tr><th scope=row>width</th><td>-0.23291906</td><td>NA</td><td> 0.7951436</td><td> 0.8411183</td><td> 1.0000000</td><td> 0.27921032</td><td> 0.8670325</td><td> 0.73543340</td><td>NA</td><td>NA</td><td> 0.18112863</td><td>NA</td><td>NA</td><td>-0.64270434</td><td>-0.6772179</td><td>NA</td></tr>\n",
       "\t<tr><th scope=row>height</th><td>-0.54103820</td><td>NA</td><td> 0.5894348</td><td> 0.4910295</td><td> 0.2792103</td><td> 1.00000000</td><td> 0.2955717</td><td> 0.06714874</td><td>NA</td><td>NA</td><td> 0.26121423</td><td>NA</td><td>NA</td><td>-0.04863963</td><td>-0.1073576</td><td>NA</td></tr>\n",
       "\t<tr><th scope=row>curbWeight</th><td>-0.22769059</td><td>NA</td><td> 0.7763863</td><td> 0.8777285</td><td> 0.8670325</td><td> 0.29557173</td><td> 1.0000000</td><td> 0.85059407</td><td>NA</td><td>NA</td><td> 0.15136174</td><td>NA</td><td>NA</td><td>-0.75741378</td><td>-0.7974648</td><td>NA</td></tr>\n",
       "\t<tr><th scope=row>engineSize</th><td>-0.10578971</td><td>NA</td><td> 0.5693287</td><td> 0.6833599</td><td> 0.7354334</td><td> 0.06714874</td><td> 0.8505941</td><td> 1.00000000</td><td>NA</td><td>NA</td><td> 0.02897136</td><td>NA</td><td>NA</td><td>-0.65365792</td><td>-0.6774699</td><td>NA</td></tr>\n",
       "\t<tr><th scope=row>bore</th><td>         NA</td><td>NA</td><td>        NA</td><td>        NA</td><td>        NA</td><td>         NA</td><td>        NA</td><td>         NA</td><td> 1</td><td>NA</td><td>         NA</td><td>NA</td><td>NA</td><td>         NA</td><td>        NA</td><td>NA</td></tr>\n",
       "\t<tr><th scope=row>stroke</th><td>         NA</td><td>NA</td><td>        NA</td><td>        NA</td><td>        NA</td><td>         NA</td><td>        NA</td><td>         NA</td><td>NA</td><td> 1</td><td>         NA</td><td>NA</td><td>NA</td><td>         NA</td><td>        NA</td><td>NA</td></tr>\n",
       "\t<tr><th scope=row>compressionRatio</th><td>-0.17851508</td><td>NA</td><td> 0.2497858</td><td> 0.1584137</td><td> 0.1811286</td><td> 0.26121423</td><td> 0.1513617</td><td> 0.02897136</td><td>NA</td><td>NA</td><td> 1.00000000</td><td>NA</td><td>NA</td><td> 0.32470142</td><td> 0.2652014</td><td>NA</td></tr>\n",
       "\t<tr><th scope=row>horsePower</th><td>         NA</td><td>NA</td><td>        NA</td><td>        NA</td><td>        NA</td><td>         NA</td><td>        NA</td><td>         NA</td><td>NA</td><td>NA</td><td>         NA</td><td> 1</td><td>NA</td><td>         NA</td><td>        NA</td><td>NA</td></tr>\n",
       "\t<tr><th scope=row>peakRpm</th><td>         NA</td><td>NA</td><td>        NA</td><td>        NA</td><td>        NA</td><td>         NA</td><td>        NA</td><td>         NA</td><td>NA</td><td>NA</td><td>         NA</td><td>NA</td><td> 1</td><td>         NA</td><td>        NA</td><td>NA</td></tr>\n",
       "\t<tr><th scope=row>cityMpg</th><td>-0.03582263</td><td>NA</td><td>-0.4704136</td><td>-0.6709087</td><td>-0.6427043</td><td>-0.04863963</td><td>-0.7574138</td><td>-0.65365792</td><td>NA</td><td>NA</td><td> 0.32470142</td><td>NA</td><td>NA</td><td> 1.00000000</td><td> 0.9713370</td><td>NA</td></tr>\n",
       "\t<tr><th scope=row>highwayMpg</th><td> 0.03460600</td><td>NA</td><td>-0.5440819</td><td>-0.7046616</td><td>-0.6772179</td><td>-0.10735763</td><td>-0.7974648</td><td>-0.67746991</td><td>NA</td><td>NA</td><td> 0.26520139</td><td>NA</td><td>NA</td><td> 0.97133704</td><td> 1.0000000</td><td>NA</td></tr>\n",
       "\t<tr><th scope=row>price</th><td>         NA</td><td>NA</td><td>        NA</td><td>        NA</td><td>        NA</td><td>         NA</td><td>        NA</td><td>         NA</td><td>NA</td><td>NA</td><td>         NA</td><td>NA</td><td>NA</td><td>         NA</td><td>        NA</td><td> 1</td></tr>\n",
       "</tbody>\n",
       "</table>\n"
      ],
      "text/latex": [
       "A matrix: 16 × 16 of type dbl\n",
       "\\begin{tabular}{r|llllllllllllllll}\n",
       "  & symb & normLoss & wheelBase & length & width & height & curbWeight & engineSize & bore & stroke & compressionRatio & horsePower & peakRpm & cityMpg & highwayMpg & price\\\\\n",
       "\\hline\n",
       "\tsymb &  1.00000000 & NA & -0.5319537 & -0.3576115 & -0.2329191 & -0.54103820 & -0.2276906 & -0.10578971 & NA & NA & -0.17851508 & NA & NA & -0.03582263 &  0.0346060 & NA\\\\\n",
       "\tnormLoss &          NA &  1 &         NA &         NA &         NA &          NA &         NA &          NA & NA & NA &          NA & NA & NA &          NA &         NA & NA\\\\\n",
       "\twheelBase & -0.53195368 & NA &  1.0000000 &  0.8745875 &  0.7951436 &  0.58943476 &  0.7763863 &  0.56932868 & NA & NA &  0.24978585 & NA & NA & -0.47041361 & -0.5440819 & NA\\\\\n",
       "\tlength & -0.35761152 & NA &  0.8745875 &  1.0000000 &  0.8411183 &  0.49102946 &  0.8777285 &  0.68335987 & NA & NA &  0.15841371 & NA & NA & -0.67090866 & -0.7046616 & NA\\\\\n",
       "\twidth & -0.23291906 & NA &  0.7951436 &  0.8411183 &  1.0000000 &  0.27921032 &  0.8670325 &  0.73543340 & NA & NA &  0.18112863 & NA & NA & -0.64270434 & -0.6772179 & NA\\\\\n",
       "\theight & -0.54103820 & NA &  0.5894348 &  0.4910295 &  0.2792103 &  1.00000000 &  0.2955717 &  0.06714874 & NA & NA &  0.26121423 & NA & NA & -0.04863963 & -0.1073576 & NA\\\\\n",
       "\tcurbWeight & -0.22769059 & NA &  0.7763863 &  0.8777285 &  0.8670325 &  0.29557173 &  1.0000000 &  0.85059407 & NA & NA &  0.15136174 & NA & NA & -0.75741378 & -0.7974648 & NA\\\\\n",
       "\tengineSize & -0.10578971 & NA &  0.5693287 &  0.6833599 &  0.7354334 &  0.06714874 &  0.8505941 &  1.00000000 & NA & NA &  0.02897136 & NA & NA & -0.65365792 & -0.6774699 & NA\\\\\n",
       "\tbore &          NA & NA &         NA &         NA &         NA &          NA &         NA &          NA &  1 & NA &          NA & NA & NA &          NA &         NA & NA\\\\\n",
       "\tstroke &          NA & NA &         NA &         NA &         NA &          NA &         NA &          NA & NA &  1 &          NA & NA & NA &          NA &         NA & NA\\\\\n",
       "\tcompressionRatio & -0.17851508 & NA &  0.2497858 &  0.1584137 &  0.1811286 &  0.26121423 &  0.1513617 &  0.02897136 & NA & NA &  1.00000000 & NA & NA &  0.32470142 &  0.2652014 & NA\\\\\n",
       "\thorsePower &          NA & NA &         NA &         NA &         NA &          NA &         NA &          NA & NA & NA &          NA &  1 & NA &          NA &         NA & NA\\\\\n",
       "\tpeakRpm &          NA & NA &         NA &         NA &         NA &          NA &         NA &          NA & NA & NA &          NA & NA &  1 &          NA &         NA & NA\\\\\n",
       "\tcityMpg & -0.03582263 & NA & -0.4704136 & -0.6709087 & -0.6427043 & -0.04863963 & -0.7574138 & -0.65365792 & NA & NA &  0.32470142 & NA & NA &  1.00000000 &  0.9713370 & NA\\\\\n",
       "\thighwayMpg &  0.03460600 & NA & -0.5440819 & -0.7046616 & -0.6772179 & -0.10735763 & -0.7974648 & -0.67746991 & NA & NA &  0.26520139 & NA & NA &  0.97133704 &  1.0000000 & NA\\\\\n",
       "\tprice &          NA & NA &         NA &         NA &         NA &          NA &         NA &          NA & NA & NA &          NA & NA & NA &          NA &         NA &  1\\\\\n",
       "\\end{tabular}\n"
      ],
      "text/markdown": [
       "\n",
       "A matrix: 16 × 16 of type dbl\n",
       "\n",
       "| <!--/--> | symb | normLoss | wheelBase | length | width | height | curbWeight | engineSize | bore | stroke | compressionRatio | horsePower | peakRpm | cityMpg | highwayMpg | price |\n",
       "|---|---|---|---|---|---|---|---|---|---|---|---|---|---|---|---|---|\n",
       "| symb |  1.00000000 | NA | -0.5319537 | -0.3576115 | -0.2329191 | -0.54103820 | -0.2276906 | -0.10578971 | NA | NA | -0.17851508 | NA | NA | -0.03582263 |  0.0346060 | NA |\n",
       "| normLoss |          NA |  1 |         NA |         NA |         NA |          NA |         NA |          NA | NA | NA |          NA | NA | NA |          NA |         NA | NA |\n",
       "| wheelBase | -0.53195368 | NA |  1.0000000 |  0.8745875 |  0.7951436 |  0.58943476 |  0.7763863 |  0.56932868 | NA | NA |  0.24978585 | NA | NA | -0.47041361 | -0.5440819 | NA |\n",
       "| length | -0.35761152 | NA |  0.8745875 |  1.0000000 |  0.8411183 |  0.49102946 |  0.8777285 |  0.68335987 | NA | NA |  0.15841371 | NA | NA | -0.67090866 | -0.7046616 | NA |\n",
       "| width | -0.23291906 | NA |  0.7951436 |  0.8411183 |  1.0000000 |  0.27921032 |  0.8670325 |  0.73543340 | NA | NA |  0.18112863 | NA | NA | -0.64270434 | -0.6772179 | NA |\n",
       "| height | -0.54103820 | NA |  0.5894348 |  0.4910295 |  0.2792103 |  1.00000000 |  0.2955717 |  0.06714874 | NA | NA |  0.26121423 | NA | NA | -0.04863963 | -0.1073576 | NA |\n",
       "| curbWeight | -0.22769059 | NA |  0.7763863 |  0.8777285 |  0.8670325 |  0.29557173 |  1.0000000 |  0.85059407 | NA | NA |  0.15136174 | NA | NA | -0.75741378 | -0.7974648 | NA |\n",
       "| engineSize | -0.10578971 | NA |  0.5693287 |  0.6833599 |  0.7354334 |  0.06714874 |  0.8505941 |  1.00000000 | NA | NA |  0.02897136 | NA | NA | -0.65365792 | -0.6774699 | NA |\n",
       "| bore |          NA | NA |         NA |         NA |         NA |          NA |         NA |          NA |  1 | NA |          NA | NA | NA |          NA |         NA | NA |\n",
       "| stroke |          NA | NA |         NA |         NA |         NA |          NA |         NA |          NA | NA |  1 |          NA | NA | NA |          NA |         NA | NA |\n",
       "| compressionRatio | -0.17851508 | NA |  0.2497858 |  0.1584137 |  0.1811286 |  0.26121423 |  0.1513617 |  0.02897136 | NA | NA |  1.00000000 | NA | NA |  0.32470142 |  0.2652014 | NA |\n",
       "| horsePower |          NA | NA |         NA |         NA |         NA |          NA |         NA |          NA | NA | NA |          NA |  1 | NA |          NA |         NA | NA |\n",
       "| peakRpm |          NA | NA |         NA |         NA |         NA |          NA |         NA |          NA | NA | NA |          NA | NA |  1 |          NA |         NA | NA |\n",
       "| cityMpg | -0.03582263 | NA | -0.4704136 | -0.6709087 | -0.6427043 | -0.04863963 | -0.7574138 | -0.65365792 | NA | NA |  0.32470142 | NA | NA |  1.00000000 |  0.9713370 | NA |\n",
       "| highwayMpg |  0.03460600 | NA | -0.5440819 | -0.7046616 | -0.6772179 | -0.10735763 | -0.7974648 | -0.67746991 | NA | NA |  0.26520139 | NA | NA |  0.97133704 |  1.0000000 | NA |\n",
       "| price |          NA | NA |         NA |         NA |         NA |          NA |         NA |          NA | NA | NA |          NA | NA | NA |          NA |         NA |  1 |\n",
       "\n"
      ],
      "text/plain": [
       "                 symb        normLoss wheelBase  length     width     \n",
       "symb              1.00000000 NA       -0.5319537 -0.3576115 -0.2329191\n",
       "normLoss                  NA  1               NA         NA         NA\n",
       "wheelBase        -0.53195368 NA        1.0000000  0.8745875  0.7951436\n",
       "length           -0.35761152 NA        0.8745875  1.0000000  0.8411183\n",
       "width            -0.23291906 NA        0.7951436  0.8411183  1.0000000\n",
       "height           -0.54103820 NA        0.5894348  0.4910295  0.2792103\n",
       "curbWeight       -0.22769059 NA        0.7763863  0.8777285  0.8670325\n",
       "engineSize       -0.10578971 NA        0.5693287  0.6833599  0.7354334\n",
       "bore                      NA NA               NA         NA         NA\n",
       "stroke                    NA NA               NA         NA         NA\n",
       "compressionRatio -0.17851508 NA        0.2497858  0.1584137  0.1811286\n",
       "horsePower                NA NA               NA         NA         NA\n",
       "peakRpm                   NA NA               NA         NA         NA\n",
       "cityMpg          -0.03582263 NA       -0.4704136 -0.6709087 -0.6427043\n",
       "highwayMpg        0.03460600 NA       -0.5440819 -0.7046616 -0.6772179\n",
       "price                     NA NA               NA         NA         NA\n",
       "                 height      curbWeight engineSize  bore stroke\n",
       "symb             -0.54103820 -0.2276906 -0.10578971 NA   NA    \n",
       "normLoss                  NA         NA          NA NA   NA    \n",
       "wheelBase         0.58943476  0.7763863  0.56932868 NA   NA    \n",
       "length            0.49102946  0.8777285  0.68335987 NA   NA    \n",
       "width             0.27921032  0.8670325  0.73543340 NA   NA    \n",
       "height            1.00000000  0.2955717  0.06714874 NA   NA    \n",
       "curbWeight        0.29557173  1.0000000  0.85059407 NA   NA    \n",
       "engineSize        0.06714874  0.8505941  1.00000000 NA   NA    \n",
       "bore                      NA         NA          NA  1   NA    \n",
       "stroke                    NA         NA          NA NA    1    \n",
       "compressionRatio  0.26121423  0.1513617  0.02897136 NA   NA    \n",
       "horsePower                NA         NA          NA NA   NA    \n",
       "peakRpm                   NA         NA          NA NA   NA    \n",
       "cityMpg          -0.04863963 -0.7574138 -0.65365792 NA   NA    \n",
       "highwayMpg       -0.10735763 -0.7974648 -0.67746991 NA   NA    \n",
       "price                     NA         NA          NA NA   NA    \n",
       "                 compressionRatio horsePower peakRpm cityMpg     highwayMpg\n",
       "symb             -0.17851508      NA         NA      -0.03582263  0.0346060\n",
       "normLoss                  NA      NA         NA               NA         NA\n",
       "wheelBase         0.24978585      NA         NA      -0.47041361 -0.5440819\n",
       "length            0.15841371      NA         NA      -0.67090866 -0.7046616\n",
       "width             0.18112863      NA         NA      -0.64270434 -0.6772179\n",
       "height            0.26121423      NA         NA      -0.04863963 -0.1073576\n",
       "curbWeight        0.15136174      NA         NA      -0.75741378 -0.7974648\n",
       "engineSize        0.02897136      NA         NA      -0.65365792 -0.6774699\n",
       "bore                      NA      NA         NA               NA         NA\n",
       "stroke                    NA      NA         NA               NA         NA\n",
       "compressionRatio  1.00000000      NA         NA       0.32470142  0.2652014\n",
       "horsePower                NA       1         NA               NA         NA\n",
       "peakRpm                   NA      NA          1               NA         NA\n",
       "cityMpg           0.32470142      NA         NA       1.00000000  0.9713370\n",
       "highwayMpg        0.26520139      NA         NA       0.97133704  1.0000000\n",
       "price                     NA      NA         NA               NA         NA\n",
       "                 price\n",
       "symb             NA   \n",
       "normLoss         NA   \n",
       "wheelBase        NA   \n",
       "length           NA   \n",
       "width            NA   \n",
       "height           NA   \n",
       "curbWeight       NA   \n",
       "engineSize       NA   \n",
       "bore             NA   \n",
       "stroke           NA   \n",
       "compressionRatio NA   \n",
       "horsePower       NA   \n",
       "peakRpm          NA   \n",
       "cityMpg          NA   \n",
       "highwayMpg       NA   \n",
       "price             1   "
      ]
     },
     "metadata": {},
     "output_type": "display_data"
    }
   ],
   "source": [
    "# Calculate Pearson correlation coefficient\n",
    "cor_coeff <- cor(num_attri, method = \"pearson\")\n",
    "cor_coeff"
   ]
  },
  {
   "cell_type": "markdown",
   "metadata": {},
   "source": [
    "#### (b) Apply the function cor.mtest() to the previous result to calculate the p-values and confidence intervals of the correlation coefficient for each pair of variables."
   ]
  },
  {
   "cell_type": "code",
   "execution_count": 24,
   "metadata": {},
   "outputs": [
    {
     "data": {
      "text/html": [
       "<dl>\n",
       "\t<dt>$p</dt>\n",
       "\t\t<dd><table class=\"dataframe\">\n",
       "<caption>A matrix: 16 × 16 of type dbl</caption>\n",
       "<thead>\n",
       "\t<tr><th></th><th scope=col>symb</th><th scope=col>normLoss</th><th scope=col>wheelBase</th><th scope=col>length</th><th scope=col>width</th><th scope=col>height</th><th scope=col>curbWeight</th><th scope=col>engineSize</th><th scope=col>bore</th><th scope=col>stroke</th><th scope=col>compressionRatio</th><th scope=col>horsePower</th><th scope=col>peakRpm</th><th scope=col>cityMpg</th><th scope=col>highwayMpg</th><th scope=col>price</th></tr>\n",
       "</thead>\n",
       "<tbody>\n",
       "\t<tr><th scope=row>symb</th><td>0.000000e+00</td><td>3.432929e-13</td><td>2.255894e-16</td><td>1.409339e-07</td><td>7.770414e-04</td><td>5.531350e-17</td><td>1.025874e-03</td><td>1.311313e-01</td><td>5.750916e-02</td><td>0.899491367</td><td>1.043948e-02</td><td>3.098897e-01</td><td>7.359080e-05</td><td> 6.101009e-01</td><td> 6.222950e-01</td><td>2.449149e-01</td></tr>\n",
       "\t<tr><th scope=row>normLoss</th><td>3.432929e-13</td><td>0.000000e+00</td><td>3.439849e-01</td><td>7.679017e-01</td><td>1.805700e-01</td><td>7.428895e-09</td><td>1.262266e-01</td><td>3.218897e-02</td><td>6.497992e-01</td><td>0.409653480</td><td>9.039883e-02</td><td>1.204793e-04</td><td>6.174988e-04</td><td> 8.314261e-04</td><td> 6.748692e-03</td><td>9.045759e-03</td></tr>\n",
       "\t<tr><th scope=row>wheelBase</th><td>2.255894e-16</td><td>3.439849e-01</td><td>0.000000e+00</td><td>9.699227e-66</td><td>5.612752e-46</td><td>1.437985e-20</td><td>1.439877e-42</td><td>5.233096e-19</td><td>1.475771e-13</td><td>0.022015524</td><td>3.039092e-04</td><td>2.540628e-07</td><td>1.209679e-07</td><td> 1.103347e-12</td><td> 3.420917e-17</td><td>8.076488e-20</td></tr>\n",
       "\t<tr><th scope=row>length</th><td>1.409339e-07</td><td>7.679017e-01</td><td>9.699227e-66</td><td>0.000000e+00</td><td>4.332386e-56</td><td>7.731666e-14</td><td>8.728146e-67</td><td>1.496334e-29</td><td>1.162914e-21</td><td>0.066407079</td><td>2.329180e-02</td><td>8.505849e-18</td><td>3.232254e-05</td><td> 3.595529e-28</td><td> 4.428948e-32</td><td>8.016477e-30</td></tr>\n",
       "\t<tr><th scope=row>width</th><td>7.770414e-04</td><td>1.805700e-01</td><td>5.612752e-46</td><td>4.332386e-56</td><td>0.000000e+00</td><td>5.031446e-05</td><td>2.460481e-63</td><td>3.685904e-36</td><td>6.240938e-18</td><td>0.009331725</td><td>9.348405e-03</td><td>5.048681e-25</td><td>1.614542e-03</td><td> 2.807249e-25</td><td> 7.321537e-29</td><td>9.200336e-38</td></tr>\n",
       "\t<tr><th scope=row>height</th><td>5.531350e-17</td><td>7.428895e-09</td><td>1.437985e-20</td><td>7.731666e-14</td><td>5.031446e-05</td><td>0.000000e+00</td><td>1.688129e-05</td><td>3.387566e-01</td><td>1.234844e-02</td><td>0.421560143</td><td>1.549235e-04</td><td>1.158388e-01</td><td>2.745139e-06</td><td> 4.885825e-01</td><td> 1.254830e-01</td><td>5.514627e-02</td></tr>\n",
       "\t<tr><th scope=row>curbWeight</th><td>1.025874e-03</td><td>1.262266e-01</td><td>1.439877e-42</td><td>8.728146e-67</td><td>2.460481e-63</td><td>1.688129e-05</td><td>0.000000e+00</td><td>1.404581e-58</td><td>2.013256e-25</td><td>0.016516670</td><td>3.027941e-02</td><td>4.321574e-38</td><td>1.228169e-04</td><td> 1.929250e-39</td><td> 2.007127e-46</td><td>2.189577e-53</td></tr>\n",
       "\t<tr><th scope=row>engineSize</th><td>1.311313e-01</td><td>3.218897e-02</td><td>5.233096e-19</td><td>1.496334e-29</td><td>3.685904e-36</td><td>3.387566e-01</td><td>1.404581e-58</td><td>0.000000e+00</td><td>1.455497e-20</td><td>0.003243224</td><td>6.800779e-01</td><td>1.236008e-48</td><td>4.359121e-04</td><td> 2.298962e-26</td><td> 6.864987e-29</td><td>9.265492e-64</td></tr>\n",
       "\t<tr><th scope=row>bore</th><td>5.750916e-02</td><td>6.497992e-01</td><td>1.475771e-13</td><td>1.162914e-21</td><td>6.240938e-18</td><td>1.234844e-02</td><td>2.013256e-25</td><td>1.455497e-20</td><td>0.000000e+00</td><td>0.430509785</td><td>9.415682e-01</td><td>4.459091e-19</td><td>1.620994e-04</td><td> 1.328843e-20</td><td> 1.331729e-20</td><td>1.567358e-16</td></tr>\n",
       "\t<tr><th scope=row>stroke</th><td>8.994914e-01</td><td>4.096535e-01</td><td>2.201552e-02</td><td>6.640708e-02</td><td>9.331725e-03</td><td>4.215601e-01</td><td>1.651667e-02</td><td>3.243224e-03</td><td>4.305098e-01</td><td>0.000000000</td><td>8.141820e-03</td><td>2.048853e-01</td><td>3.156381e-01</td><td> 5.453234e-01</td><td> 5.302181e-01</td><td>2.501958e-01</td></tr>\n",
       "\t<tr><th scope=row>compressionRatio</th><td>1.043948e-02</td><td>9.039883e-02</td><td>3.039092e-04</td><td>2.329180e-02</td><td>9.348405e-03</td><td>1.549235e-04</td><td>3.027941e-02</td><td>6.800779e-01</td><td>9.415682e-01</td><td>0.008141820</td><td>0.000000e+00</td><td>3.211079e-03</td><td>7.737735e-11</td><td> 2.034939e-06</td><td> 1.215757e-04</td><td>3.158110e-01</td></tr>\n",
       "\t<tr><th scope=row>horsePower</th><td>3.098897e-01</td><td>1.204793e-04</td><td>2.540628e-07</td><td>8.505849e-18</td><td>5.048681e-25</td><td>1.158388e-01</td><td>4.321574e-38</td><td>1.236008e-48</td><td>4.459091e-19</td><td>0.204885309</td><td>3.211079e-03</td><td>0.000000e+00</td><td>6.252497e-02</td><td> 3.486622e-47</td><td> 3.062649e-41</td><td>1.189128e-47</td></tr>\n",
       "\t<tr><th scope=row>peakRpm</th><td>7.359080e-05</td><td>6.174988e-04</td><td>1.209679e-07</td><td>3.232254e-05</td><td>1.614542e-03</td><td>2.745139e-06</td><td>1.228169e-04</td><td>4.359121e-04</td><td>1.620994e-04</td><td>0.315638096</td><td>7.737735e-11</td><td>6.252497e-02</td><td>0.000000e+00</td><td> 1.059931e-01</td><td> 4.419900e-01</td><td>1.531182e-01</td></tr>\n",
       "\t<tr><th scope=row>cityMpg</th><td>6.101009e-01</td><td>8.314261e-04</td><td>1.103347e-12</td><td>3.595529e-28</td><td>2.807249e-25</td><td>4.885825e-01</td><td>1.929250e-39</td><td>2.298962e-26</td><td>1.328843e-20</td><td>0.545323380</td><td>2.034939e-06</td><td>3.486622e-47</td><td>1.059931e-01</td><td> 0.000000e+00</td><td>1.248739e-128</td><td>2.321132e-29</td></tr>\n",
       "\t<tr><th scope=row>highwayMpg</th><td>6.222950e-01</td><td>6.748692e-03</td><td>3.420917e-17</td><td>4.428948e-32</td><td>7.321537e-29</td><td>1.254830e-01</td><td>2.007127e-46</td><td>6.864987e-29</td><td>1.331729e-20</td><td>0.530218077</td><td>1.215757e-04</td><td>3.062649e-41</td><td>4.419900e-01</td><td>1.248739e-128</td><td> 0.000000e+00</td><td>1.749547e-31</td></tr>\n",
       "\t<tr><th scope=row>price</th><td>2.449149e-01</td><td>9.045759e-03</td><td>8.076488e-20</td><td>8.016477e-30</td><td>9.200336e-38</td><td>5.514627e-02</td><td>2.189577e-53</td><td>9.265492e-64</td><td>1.567358e-16</td><td>0.250195842</td><td>3.158110e-01</td><td>1.189128e-47</td><td>1.531182e-01</td><td> 2.321132e-29</td><td> 1.749547e-31</td><td>0.000000e+00</td></tr>\n",
       "</tbody>\n",
       "</table>\n",
       "</dd>\n",
       "\t<dt>$lowCI</dt>\n",
       "\t\t<dd><table class=\"dataframe\">\n",
       "<caption>A matrix: 16 × 16 of type dbl</caption>\n",
       "<thead>\n",
       "\t<tr><th></th><th scope=col>symb</th><th scope=col>normLoss</th><th scope=col>wheelBase</th><th scope=col>length</th><th scope=col>width</th><th scope=col>height</th><th scope=col>curbWeight</th><th scope=col>engineSize</th><th scope=col>bore</th><th scope=col>stroke</th><th scope=col>compressionRatio</th><th scope=col>horsePower</th><th scope=col>peakRpm</th><th scope=col>cityMpg</th><th scope=col>highwayMpg</th><th scope=col>price</th></tr>\n",
       "</thead>\n",
       "<tbody>\n",
       "\t<tr><th scope=row>symb</th><td> 1.00000000</td><td> 0.40851384</td><td>-0.62353529</td><td>-0.471538643</td><td>-0.35851109</td><td>-0.631270105</td><td>-0.35368992</td><td>-0.23935482</td><td>-0.26762909</td><td>-0.147176645</td><td>-0.30801518</td><td>-0.066746590</td><td> 0.142241439</td><td>-0.1720132</td><td>-0.1029171</td><td>-0.218296775</td></tr>\n",
       "\t<tr><th scope=row>normLoss</th><td> 0.40851384</td><td> 1.00000000</td><td>-0.22504693</td><td>-0.130494691</td><td>-0.04896585</td><td>-0.549197503</td><td>-0.03398157</td><td> 0.01448665</td><td>-0.19025803</td><td>-0.090452803</td><td>-0.28020747</td><td> 0.149288902</td><td> 0.116053224</td><td>-0.3960620</td><td>-0.3526276</td><td> 0.051611926</td></tr>\n",
       "\t<tr><th scope=row>wheelBase</th><td>-0.62353529</td><td>-0.22504693</td><td> 1.00000000</td><td> 0.837984109</td><td> 0.73858692</td><td> 0.492152479</td><td> 0.71547188</td><td> 0.46887428</td><td> 0.37761061</td><td> 0.023609653</td><td> 0.11674701</td><td> 0.225528543</td><td>-0.475137574</td><td>-0.5706620</td><td>-0.6338576</td><td> 0.485532162</td></tr>\n",
       "\t<tr><th scope=row>length</th><td>-0.47153864</td><td>-0.13049469</td><td> 0.83798411</td><td> 1.000000000</td><td> 0.79581048</td><td> 0.379532515</td><td> 0.84196455</td><td> 0.60277087</td><td> 0.51214213</td><td>-0.008813702</td><td> 0.02185308</td><td> 0.451825669</td><td>-0.408857318</td><td>-0.7399172</td><td>-0.7675769</td><td> 0.610593803</td></tr>\n",
       "\t<tr><th scope=row>width</th><td>-0.35851109</td><td>-0.04896585</td><td> 0.73858692</td><td> 0.795810483</td><td> 1.00000000</td><td> 0.147831579</td><td> 0.82842588</td><td> 0.66546393</td><td> 0.45610802</td><td> 0.045719202</td><td> 0.04521592</td><td> 0.553767617</td><td>-0.347151907</td><td>-0.7166241</td><td>-0.7451053</td><td> 0.683985376</td></tr>\n",
       "\t<tr><th scope=row>height</th><td>-0.63127010</td><td>-0.54919750</td><td> 0.49215248</td><td> 0.379532515</td><td> 0.14783158</td><td> 1.000000000</td><td> 0.16522910</td><td>-0.07053532</td><td> 0.03874548</td><td>-0.193864682</td><td> 0.12878929</td><td>-0.244690026</td><td>-0.440435133</td><td>-0.1844453</td><td>-0.2408493</td><td>-0.002963987</td></tr>\n",
       "\t<tr><th scope=row>curbWeight</th><td>-0.35368992</td><td>-0.03398157</td><td> 0.71547188</td><td> 0.841964549</td><td> 0.82842588</td><td> 0.165229098</td><td> 1.00000000</td><td> 0.80770625</td><td> 0.56104621</td><td> 0.031264816</td><td> 0.01463018</td><td> 0.684074738</td><td>-0.389723822</td><td>-0.8103416</td><td>-0.8424377</td><td> 0.786888569</td></tr>\n",
       "\t<tr><th scope=row>engineSize</th><td>-0.23935482</td><td> 0.01448665</td><td> 0.46887428</td><td> 0.602770873</td><td> 0.66546393</td><td>-0.070535319</td><td> 0.80770625</td><td> 1.00000000</td><td> 0.49651873</td><td> 0.070290363</td><td>-0.10849439</td><td> 0.757656046</td><td>-0.369867899</td><td>-0.7256900</td><td>-0.7453123</td><td> 0.834712425</td></tr>\n",
       "\t<tr><th scope=row>bore</th><td>-0.26762909</td><td>-0.19025803</td><td> 0.37761061</td><td> 0.512142132</td><td> 0.45610802</td><td> 0.038745476</td><td> 0.56104621</td><td> 0.49651873</td><td> 1.00000000</td><td>-0.192811796</td><td>-0.13328816</td><td> 0.476437623</td><td>-0.389058093</td><td>-0.6772494</td><td>-0.6772395</td><td> 0.436825810</td></tr>\n",
       "\t<tr><th scope=row>stroke</th><td>-0.14717665</td><td>-0.09045280</td><td> 0.02360965</td><td>-0.008813702</td><td> 0.04571920</td><td>-0.193864682</td><td> 0.03126482</td><td> 0.07029036</td><td>-0.19281180</td><td> 1.000000000</td><td> 0.04903901</td><td>-0.049456938</td><td>-0.208509354</td><td>-0.1802305</td><td>-0.1818028</td><td>-0.058155052</td></tr>\n",
       "\t<tr><th scope=row>compressionRatio</th><td>-0.30801518</td><td>-0.28020747</td><td> 0.11674701</td><td> 0.021853085</td><td> 0.04521592</td><td> 0.128789289</td><td> 0.01463018</td><td>-0.10849439</td><td>-0.13328816</td><td> 0.049039007</td><td> 1.00000000</td><td>-0.334111606</td><td>-0.541407255</td><td> 0.1964056</td><td> 0.1329998</td><td>-0.067956139</td></tr>\n",
       "\t<tr><th scope=row>horsePower</th><td>-0.06674659</td><td> 0.14928890</td><td> 0.22552854</td><td> 0.451825669</td><td> 0.55376762</td><td>-0.244690026</td><td> 0.68407474</td><td> 0.75765605</td><td> 0.47643762</td><td>-0.049456938</td><td>-0.33411161</td><td> 1.000000000</td><td>-0.006862804</td><td>-0.8475362</td><td>-0.8214148</td><td> 0.756757744</td></tr>\n",
       "\t<tr><th scope=row>peakRpm</th><td> 0.14224144</td><td> 0.11605322</td><td>-0.47513757</td><td>-0.408857318</td><td>-0.34715191</td><td>-0.440435133</td><td>-0.38972382</td><td>-0.36986790</td><td>-0.38905809</td><td>-0.208509354</td><td>-0.54140725</td><td>-0.006862804</td><td> 1.000000000</td><td>-0.2476174</td><td>-0.1905432</td><td>-0.237382597</td></tr>\n",
       "\t<tr><th scope=row>cityMpg</th><td>-0.17201324</td><td>-0.39606203</td><td>-0.57066197</td><td>-0.739917186</td><td>-0.71662412</td><td>-0.184445253</td><td>-0.81034165</td><td>-0.72568996</td><td>-0.67724936</td><td>-0.180230543</td><td> 0.19640557</td><td>-0.847536212</td><td>-0.247617447</td><td> 1.0000000</td><td> 0.9624051</td><td>-0.753381109</td></tr>\n",
       "\t<tr><th scope=row>highwayMpg</th><td>-0.10291707</td><td>-0.35262756</td><td>-0.63385761</td><td>-0.767576854</td><td>-0.74510525</td><td>-0.240849324</td><td>-0.84243771</td><td>-0.74531229</td><td>-0.67723953</td><td>-0.181802756</td><td> 0.13299984</td><td>-0.821414837</td><td>-0.190543210</td><td> 0.9624051</td><td> 1.0000000</td><td>-0.768170616</td></tr>\n",
       "\t<tr><th scope=row>price</th><td>-0.21829677</td><td> 0.05161193</td><td> 0.48553216</td><td> 0.610593803</td><td> 0.68398538</td><td>-0.002963987</td><td> 0.78688857</td><td> 0.83471243</td><td> 0.43682581</td><td>-0.058155052</td><td>-0.06795614</td><td> 0.756757744</td><td>-0.237382597</td><td>-0.7533811</td><td>-0.7681706</td><td> 1.000000000</td></tr>\n",
       "</tbody>\n",
       "</table>\n",
       "</dd>\n",
       "\t<dt>$uppCI</dt>\n",
       "\t\t<dd><table class=\"dataframe\">\n",
       "<caption>A matrix: 16 × 16 of type dbl</caption>\n",
       "<thead>\n",
       "\t<tr><th></th><th scope=col>symb</th><th scope=col>normLoss</th><th scope=col>wheelBase</th><th scope=col>length</th><th scope=col>width</th><th scope=col>height</th><th scope=col>curbWeight</th><th scope=col>engineSize</th><th scope=col>bore</th><th scope=col>stroke</th><th scope=col>compressionRatio</th><th scope=col>horsePower</th><th scope=col>peakRpm</th><th scope=col>cityMpg</th><th scope=col>highwayMpg</th><th scope=col>price</th></tr>\n",
       "</thead>\n",
       "<tbody>\n",
       "\t<tr><th scope=row>symb</th><td> 1.000000000</td><td> 0.63080959</td><td>-0.4259703</td><td>-0.2319429</td><td>-0.09904538</td><td>-0.43635506</td><td>-0.09357527</td><td> 0.03170493</td><td> 0.004268885</td><td>0.12959097</td><td>-0.04252024</td><td> 0.20728692</td><td> 0.39726174</td><td> 0.10171168</td><td> 0.17083089</td><td> 0.05664948</td></tr>\n",
       "\t<tr><th scope=row>normLoss</th><td> 0.630809591</td><td> 1.00000000</td><td> 0.0797976</td><td> 0.1758437</td><td> 0.25422871</td><td>-0.29888785</td><td> 0.26821452</td><td> 0.31259716</td><td> 0.119663313</td><td>0.21856022</td><td> 0.02102330</td><td> 0.42955157</td><td> 0.40156389</td><td>-0.10959405</td><td>-0.05943753</td><td> 0.34573487</td></tr>\n",
       "\t<tr><th scope=row>wheelBase</th><td>-0.425970320</td><td> 0.07979760</td><td> 1.0000000</td><td> 0.9033561</td><td> 0.84058626</td><td> 0.67217597</td><td> 0.82558555</td><td> 0.65524297</td><td> 0.588812949</td><td>0.29331657</td><td> 0.37401843</td><td> 0.46733415</td><td>-0.23502759</td><td>-0.35635004</td><td>-0.43984067</td><td> 0.66891383</td></tr>\n",
       "\t<tr><th scope=row>length</th><td>-0.231942943</td><td> 0.17584372</td><td> 0.9033561</td><td> 1.0000000</td><td> 0.87706091</td><td> 0.58846753</td><td> 0.90581274</td><td> 0.75014787</td><td> 0.688030613</td><td>0.26340450</td><td> 0.28917132</td><td> 0.64352816</td><td>-0.15577888</td><td>-0.58792641</td><td>-0.62829703</td><td> 0.75669838</td></tr>\n",
       "\t<tr><th scope=row>width</th><td>-0.099045385</td><td> 0.25422871</td><td> 0.8405863</td><td> 0.8770609</td><td> 1.00000000</td><td> 0.40090603</td><td> 0.89743930</td><td> 0.79259100</td><td> 0.647489085</td><td>0.31341529</td><td> 0.31045778</td><td> 0.71677463</td><td>-0.08481670</td><td>-0.55450637</td><td>-0.59544139</td><td> 0.80587256</td></tr>\n",
       "\t<tr><th scope=row>height</th><td>-0.436355064</td><td>-0.29888785</td><td> 0.6721760</td><td> 0.5884675</td><td> 0.40090603</td><td> 1.00000000</td><td> 0.41576666</td><td> 0.20232204</td><td> 0.307101599</td><td>0.08204266</td><td> 0.38448636</td><td> 0.02741710</td><td>-0.19313323</td><td> 0.08898852</td><td> 0.03012051</td><td> 0.26884011</td></tr>\n",
       "\t<tr><th scope=row>curbWeight</th><td>-0.093575272</td><td> 0.26821452</td><td> 0.8255856</td><td> 0.9058127</td><td> 0.89743930</td><td> 0.41576666</td><td> 1.00000000</td><td> 0.88452752</td><td> 0.722538385</td><td>0.30030259</td><td> 0.28253642</td><td> 0.80544148</td><td>-0.13349205</td><td>-0.69222649</td><td>-0.74145660</td><td> 0.87210035</td></tr>\n",
       "\t<tr><th scope=row>engineSize</th><td> 0.031704927</td><td> 0.31259716</td><td> 0.6552430</td><td> 0.7501479</td><td> 0.79259100</td><td> 0.20232204</td><td> 0.88452752</td><td> 1.00000000</td><td> 0.676836166</td><td>0.33547386</td><td> 0.16534992</td><td> 0.85321930</td><td>-0.11063456</td><td>-0.56745185</td><td>-0.59574184</td><td> 0.90185234</td></tr>\n",
       "\t<tr><th scope=row>bore</th><td> 0.004268885</td><td> 0.11966331</td><td> 0.5888129</td><td> 0.6880306</td><td> 0.64748909</td><td> 0.30710160</td><td> 0.72253838</td><td> 0.67683617</td><td> 1.000000000</td><td>0.08312897</td><td> 0.14349393</td><td> 0.66311920</td><td>-0.12995570</td><td>-0.49709334</td><td>-0.49707966</td><td> 0.63499129</td></tr>\n",
       "\t<tr><th scope=row>stroke</th><td> 0.129590973</td><td> 0.21856022</td><td> 0.2933166</td><td> 0.2634045</td><td> 0.31341529</td><td> 0.08204266</td><td> 0.30030259</td><td> 0.33547386</td><td> 0.083128969</td><td>1.00000000</td><td> 0.31641259</td><td> 0.22650041</td><td> 0.06827603</td><td> 0.09605909</td><td> 0.09444836</td><td> 0.21957894</td></tr>\n",
       "\t<tr><th scope=row>compressionRatio</th><td>-0.042520236</td><td> 0.02102330</td><td> 0.3740184</td><td> 0.2891713</td><td> 0.31045778</td><td> 0.38448636</td><td> 0.28253642</td><td> 0.16534992</td><td> 0.143493926</td><td>0.31641259</td><td> 1.00000000</td><td>-0.07015321</td><td>-0.31758913</td><td> 0.44206648</td><td> 0.38813099</td><td> 0.20746045</td></tr>\n",
       "\t<tr><th scope=row>horsePower</th><td> 0.207286925</td><td> 0.42955157</td><td> 0.4673341</td><td> 0.6435282</td><td> 0.71677463</td><td> 0.02741710</td><td> 0.80544148</td><td> 0.85321930</td><td> 0.663119197</td><td>0.22650041</td><td>-0.07015321</td><td> 1.00000000</td><td> 0.26392057</td><td>-0.74877450</td><td>-0.70840304</td><td> 0.85341192</td></tr>\n",
       "\t<tr><th scope=row>peakRpm</th><td> 0.397261736</td><td> 0.40156389</td><td>-0.2350276</td><td>-0.1557789</td><td>-0.08481670</td><td>-0.19313323</td><td>-0.13349205</td><td>-0.11063456</td><td>-0.129955701</td><td>0.06827603</td><td>-0.31758913</td><td> 0.26392057</td><td> 1.00000000</td><td> 0.02430295</td><td> 0.08408100</td><td> 0.03797800</td></tr>\n",
       "\t<tr><th scope=row>cityMpg</th><td> 0.101711684</td><td>-0.10959405</td><td>-0.3563500</td><td>-0.5879264</td><td>-0.55450637</td><td> 0.08898852</td><td>-0.69222649</td><td>-0.56745185</td><td>-0.497093339</td><td>0.09605909</td><td> 0.44206648</td><td>-0.74877450</td><td> 0.02430295</td><td> 1.00000000</td><td> 0.97817053</td><td>-0.60573157</td></tr>\n",
       "\t<tr><th scope=row>highwayMpg</th><td> 0.170830894</td><td>-0.05943753</td><td>-0.4398407</td><td>-0.6282970</td><td>-0.59544139</td><td> 0.03012051</td><td>-0.74145660</td><td>-0.59574184</td><td>-0.497079655</td><td>0.09444836</td><td> 0.38813099</td><td>-0.70840304</td><td> 0.08408100</td><td> 0.97817053</td><td> 1.00000000</td><td>-0.62749437</td></tr>\n",
       "\t<tr><th scope=row>price</th><td> 0.056649477</td><td> 0.34573487</td><td> 0.6689138</td><td> 0.7566984</td><td> 0.80587256</td><td> 0.26884011</td><td> 0.87210035</td><td> 0.90185234</td><td> 0.634991290</td><td>0.21957894</td><td> 0.20746045</td><td> 0.85341192</td><td> 0.03797800</td><td>-0.60573157</td><td>-0.62749437</td><td> 1.00000000</td></tr>\n",
       "</tbody>\n",
       "</table>\n",
       "</dd>\n",
       "</dl>\n"
      ],
      "text/latex": [
       "\\begin{description}\n",
       "\\item[\\$p] A matrix: 16 × 16 of type dbl\n",
       "\\begin{tabular}{r|llllllllllllllll}\n",
       "  & symb & normLoss & wheelBase & length & width & height & curbWeight & engineSize & bore & stroke & compressionRatio & horsePower & peakRpm & cityMpg & highwayMpg & price\\\\\n",
       "\\hline\n",
       "\tsymb & 0.000000e+00 & 3.432929e-13 & 2.255894e-16 & 1.409339e-07 & 7.770414e-04 & 5.531350e-17 & 1.025874e-03 & 1.311313e-01 & 5.750916e-02 & 0.899491367 & 1.043948e-02 & 3.098897e-01 & 7.359080e-05 &  6.101009e-01 &  6.222950e-01 & 2.449149e-01\\\\\n",
       "\tnormLoss & 3.432929e-13 & 0.000000e+00 & 3.439849e-01 & 7.679017e-01 & 1.805700e-01 & 7.428895e-09 & 1.262266e-01 & 3.218897e-02 & 6.497992e-01 & 0.409653480 & 9.039883e-02 & 1.204793e-04 & 6.174988e-04 &  8.314261e-04 &  6.748692e-03 & 9.045759e-03\\\\\n",
       "\twheelBase & 2.255894e-16 & 3.439849e-01 & 0.000000e+00 & 9.699227e-66 & 5.612752e-46 & 1.437985e-20 & 1.439877e-42 & 5.233096e-19 & 1.475771e-13 & 0.022015524 & 3.039092e-04 & 2.540628e-07 & 1.209679e-07 &  1.103347e-12 &  3.420917e-17 & 8.076488e-20\\\\\n",
       "\tlength & 1.409339e-07 & 7.679017e-01 & 9.699227e-66 & 0.000000e+00 & 4.332386e-56 & 7.731666e-14 & 8.728146e-67 & 1.496334e-29 & 1.162914e-21 & 0.066407079 & 2.329180e-02 & 8.505849e-18 & 3.232254e-05 &  3.595529e-28 &  4.428948e-32 & 8.016477e-30\\\\\n",
       "\twidth & 7.770414e-04 & 1.805700e-01 & 5.612752e-46 & 4.332386e-56 & 0.000000e+00 & 5.031446e-05 & 2.460481e-63 & 3.685904e-36 & 6.240938e-18 & 0.009331725 & 9.348405e-03 & 5.048681e-25 & 1.614542e-03 &  2.807249e-25 &  7.321537e-29 & 9.200336e-38\\\\\n",
       "\theight & 5.531350e-17 & 7.428895e-09 & 1.437985e-20 & 7.731666e-14 & 5.031446e-05 & 0.000000e+00 & 1.688129e-05 & 3.387566e-01 & 1.234844e-02 & 0.421560143 & 1.549235e-04 & 1.158388e-01 & 2.745139e-06 &  4.885825e-01 &  1.254830e-01 & 5.514627e-02\\\\\n",
       "\tcurbWeight & 1.025874e-03 & 1.262266e-01 & 1.439877e-42 & 8.728146e-67 & 2.460481e-63 & 1.688129e-05 & 0.000000e+00 & 1.404581e-58 & 2.013256e-25 & 0.016516670 & 3.027941e-02 & 4.321574e-38 & 1.228169e-04 &  1.929250e-39 &  2.007127e-46 & 2.189577e-53\\\\\n",
       "\tengineSize & 1.311313e-01 & 3.218897e-02 & 5.233096e-19 & 1.496334e-29 & 3.685904e-36 & 3.387566e-01 & 1.404581e-58 & 0.000000e+00 & 1.455497e-20 & 0.003243224 & 6.800779e-01 & 1.236008e-48 & 4.359121e-04 &  2.298962e-26 &  6.864987e-29 & 9.265492e-64\\\\\n",
       "\tbore & 5.750916e-02 & 6.497992e-01 & 1.475771e-13 & 1.162914e-21 & 6.240938e-18 & 1.234844e-02 & 2.013256e-25 & 1.455497e-20 & 0.000000e+00 & 0.430509785 & 9.415682e-01 & 4.459091e-19 & 1.620994e-04 &  1.328843e-20 &  1.331729e-20 & 1.567358e-16\\\\\n",
       "\tstroke & 8.994914e-01 & 4.096535e-01 & 2.201552e-02 & 6.640708e-02 & 9.331725e-03 & 4.215601e-01 & 1.651667e-02 & 3.243224e-03 & 4.305098e-01 & 0.000000000 & 8.141820e-03 & 2.048853e-01 & 3.156381e-01 &  5.453234e-01 &  5.302181e-01 & 2.501958e-01\\\\\n",
       "\tcompressionRatio & 1.043948e-02 & 9.039883e-02 & 3.039092e-04 & 2.329180e-02 & 9.348405e-03 & 1.549235e-04 & 3.027941e-02 & 6.800779e-01 & 9.415682e-01 & 0.008141820 & 0.000000e+00 & 3.211079e-03 & 7.737735e-11 &  2.034939e-06 &  1.215757e-04 & 3.158110e-01\\\\\n",
       "\thorsePower & 3.098897e-01 & 1.204793e-04 & 2.540628e-07 & 8.505849e-18 & 5.048681e-25 & 1.158388e-01 & 4.321574e-38 & 1.236008e-48 & 4.459091e-19 & 0.204885309 & 3.211079e-03 & 0.000000e+00 & 6.252497e-02 &  3.486622e-47 &  3.062649e-41 & 1.189128e-47\\\\\n",
       "\tpeakRpm & 7.359080e-05 & 6.174988e-04 & 1.209679e-07 & 3.232254e-05 & 1.614542e-03 & 2.745139e-06 & 1.228169e-04 & 4.359121e-04 & 1.620994e-04 & 0.315638096 & 7.737735e-11 & 6.252497e-02 & 0.000000e+00 &  1.059931e-01 &  4.419900e-01 & 1.531182e-01\\\\\n",
       "\tcityMpg & 6.101009e-01 & 8.314261e-04 & 1.103347e-12 & 3.595529e-28 & 2.807249e-25 & 4.885825e-01 & 1.929250e-39 & 2.298962e-26 & 1.328843e-20 & 0.545323380 & 2.034939e-06 & 3.486622e-47 & 1.059931e-01 &  0.000000e+00 & 1.248739e-128 & 2.321132e-29\\\\\n",
       "\thighwayMpg & 6.222950e-01 & 6.748692e-03 & 3.420917e-17 & 4.428948e-32 & 7.321537e-29 & 1.254830e-01 & 2.007127e-46 & 6.864987e-29 & 1.331729e-20 & 0.530218077 & 1.215757e-04 & 3.062649e-41 & 4.419900e-01 & 1.248739e-128 &  0.000000e+00 & 1.749547e-31\\\\\n",
       "\tprice & 2.449149e-01 & 9.045759e-03 & 8.076488e-20 & 8.016477e-30 & 9.200336e-38 & 5.514627e-02 & 2.189577e-53 & 9.265492e-64 & 1.567358e-16 & 0.250195842 & 3.158110e-01 & 1.189128e-47 & 1.531182e-01 &  2.321132e-29 &  1.749547e-31 & 0.000000e+00\\\\\n",
       "\\end{tabular}\n",
       "\n",
       "\\item[\\$lowCI] A matrix: 16 × 16 of type dbl\n",
       "\\begin{tabular}{r|llllllllllllllll}\n",
       "  & symb & normLoss & wheelBase & length & width & height & curbWeight & engineSize & bore & stroke & compressionRatio & horsePower & peakRpm & cityMpg & highwayMpg & price\\\\\n",
       "\\hline\n",
       "\tsymb &  1.00000000 &  0.40851384 & -0.62353529 & -0.471538643 & -0.35851109 & -0.631270105 & -0.35368992 & -0.23935482 & -0.26762909 & -0.147176645 & -0.30801518 & -0.066746590 &  0.142241439 & -0.1720132 & -0.1029171 & -0.218296775\\\\\n",
       "\tnormLoss &  0.40851384 &  1.00000000 & -0.22504693 & -0.130494691 & -0.04896585 & -0.549197503 & -0.03398157 &  0.01448665 & -0.19025803 & -0.090452803 & -0.28020747 &  0.149288902 &  0.116053224 & -0.3960620 & -0.3526276 &  0.051611926\\\\\n",
       "\twheelBase & -0.62353529 & -0.22504693 &  1.00000000 &  0.837984109 &  0.73858692 &  0.492152479 &  0.71547188 &  0.46887428 &  0.37761061 &  0.023609653 &  0.11674701 &  0.225528543 & -0.475137574 & -0.5706620 & -0.6338576 &  0.485532162\\\\\n",
       "\tlength & -0.47153864 & -0.13049469 &  0.83798411 &  1.000000000 &  0.79581048 &  0.379532515 &  0.84196455 &  0.60277087 &  0.51214213 & -0.008813702 &  0.02185308 &  0.451825669 & -0.408857318 & -0.7399172 & -0.7675769 &  0.610593803\\\\\n",
       "\twidth & -0.35851109 & -0.04896585 &  0.73858692 &  0.795810483 &  1.00000000 &  0.147831579 &  0.82842588 &  0.66546393 &  0.45610802 &  0.045719202 &  0.04521592 &  0.553767617 & -0.347151907 & -0.7166241 & -0.7451053 &  0.683985376\\\\\n",
       "\theight & -0.63127010 & -0.54919750 &  0.49215248 &  0.379532515 &  0.14783158 &  1.000000000 &  0.16522910 & -0.07053532 &  0.03874548 & -0.193864682 &  0.12878929 & -0.244690026 & -0.440435133 & -0.1844453 & -0.2408493 & -0.002963987\\\\\n",
       "\tcurbWeight & -0.35368992 & -0.03398157 &  0.71547188 &  0.841964549 &  0.82842588 &  0.165229098 &  1.00000000 &  0.80770625 &  0.56104621 &  0.031264816 &  0.01463018 &  0.684074738 & -0.389723822 & -0.8103416 & -0.8424377 &  0.786888569\\\\\n",
       "\tengineSize & -0.23935482 &  0.01448665 &  0.46887428 &  0.602770873 &  0.66546393 & -0.070535319 &  0.80770625 &  1.00000000 &  0.49651873 &  0.070290363 & -0.10849439 &  0.757656046 & -0.369867899 & -0.7256900 & -0.7453123 &  0.834712425\\\\\n",
       "\tbore & -0.26762909 & -0.19025803 &  0.37761061 &  0.512142132 &  0.45610802 &  0.038745476 &  0.56104621 &  0.49651873 &  1.00000000 & -0.192811796 & -0.13328816 &  0.476437623 & -0.389058093 & -0.6772494 & -0.6772395 &  0.436825810\\\\\n",
       "\tstroke & -0.14717665 & -0.09045280 &  0.02360965 & -0.008813702 &  0.04571920 & -0.193864682 &  0.03126482 &  0.07029036 & -0.19281180 &  1.000000000 &  0.04903901 & -0.049456938 & -0.208509354 & -0.1802305 & -0.1818028 & -0.058155052\\\\\n",
       "\tcompressionRatio & -0.30801518 & -0.28020747 &  0.11674701 &  0.021853085 &  0.04521592 &  0.128789289 &  0.01463018 & -0.10849439 & -0.13328816 &  0.049039007 &  1.00000000 & -0.334111606 & -0.541407255 &  0.1964056 &  0.1329998 & -0.067956139\\\\\n",
       "\thorsePower & -0.06674659 &  0.14928890 &  0.22552854 &  0.451825669 &  0.55376762 & -0.244690026 &  0.68407474 &  0.75765605 &  0.47643762 & -0.049456938 & -0.33411161 &  1.000000000 & -0.006862804 & -0.8475362 & -0.8214148 &  0.756757744\\\\\n",
       "\tpeakRpm &  0.14224144 &  0.11605322 & -0.47513757 & -0.408857318 & -0.34715191 & -0.440435133 & -0.38972382 & -0.36986790 & -0.38905809 & -0.208509354 & -0.54140725 & -0.006862804 &  1.000000000 & -0.2476174 & -0.1905432 & -0.237382597\\\\\n",
       "\tcityMpg & -0.17201324 & -0.39606203 & -0.57066197 & -0.739917186 & -0.71662412 & -0.184445253 & -0.81034165 & -0.72568996 & -0.67724936 & -0.180230543 &  0.19640557 & -0.847536212 & -0.247617447 &  1.0000000 &  0.9624051 & -0.753381109\\\\\n",
       "\thighwayMpg & -0.10291707 & -0.35262756 & -0.63385761 & -0.767576854 & -0.74510525 & -0.240849324 & -0.84243771 & -0.74531229 & -0.67723953 & -0.181802756 &  0.13299984 & -0.821414837 & -0.190543210 &  0.9624051 &  1.0000000 & -0.768170616\\\\\n",
       "\tprice & -0.21829677 &  0.05161193 &  0.48553216 &  0.610593803 &  0.68398538 & -0.002963987 &  0.78688857 &  0.83471243 &  0.43682581 & -0.058155052 & -0.06795614 &  0.756757744 & -0.237382597 & -0.7533811 & -0.7681706 &  1.000000000\\\\\n",
       "\\end{tabular}\n",
       "\n",
       "\\item[\\$uppCI] A matrix: 16 × 16 of type dbl\n",
       "\\begin{tabular}{r|llllllllllllllll}\n",
       "  & symb & normLoss & wheelBase & length & width & height & curbWeight & engineSize & bore & stroke & compressionRatio & horsePower & peakRpm & cityMpg & highwayMpg & price\\\\\n",
       "\\hline\n",
       "\tsymb &  1.000000000 &  0.63080959 & -0.4259703 & -0.2319429 & -0.09904538 & -0.43635506 & -0.09357527 &  0.03170493 &  0.004268885 & 0.12959097 & -0.04252024 &  0.20728692 &  0.39726174 &  0.10171168 &  0.17083089 &  0.05664948\\\\\n",
       "\tnormLoss &  0.630809591 &  1.00000000 &  0.0797976 &  0.1758437 &  0.25422871 & -0.29888785 &  0.26821452 &  0.31259716 &  0.119663313 & 0.21856022 &  0.02102330 &  0.42955157 &  0.40156389 & -0.10959405 & -0.05943753 &  0.34573487\\\\\n",
       "\twheelBase & -0.425970320 &  0.07979760 &  1.0000000 &  0.9033561 &  0.84058626 &  0.67217597 &  0.82558555 &  0.65524297 &  0.588812949 & 0.29331657 &  0.37401843 &  0.46733415 & -0.23502759 & -0.35635004 & -0.43984067 &  0.66891383\\\\\n",
       "\tlength & -0.231942943 &  0.17584372 &  0.9033561 &  1.0000000 &  0.87706091 &  0.58846753 &  0.90581274 &  0.75014787 &  0.688030613 & 0.26340450 &  0.28917132 &  0.64352816 & -0.15577888 & -0.58792641 & -0.62829703 &  0.75669838\\\\\n",
       "\twidth & -0.099045385 &  0.25422871 &  0.8405863 &  0.8770609 &  1.00000000 &  0.40090603 &  0.89743930 &  0.79259100 &  0.647489085 & 0.31341529 &  0.31045778 &  0.71677463 & -0.08481670 & -0.55450637 & -0.59544139 &  0.80587256\\\\\n",
       "\theight & -0.436355064 & -0.29888785 &  0.6721760 &  0.5884675 &  0.40090603 &  1.00000000 &  0.41576666 &  0.20232204 &  0.307101599 & 0.08204266 &  0.38448636 &  0.02741710 & -0.19313323 &  0.08898852 &  0.03012051 &  0.26884011\\\\\n",
       "\tcurbWeight & -0.093575272 &  0.26821452 &  0.8255856 &  0.9058127 &  0.89743930 &  0.41576666 &  1.00000000 &  0.88452752 &  0.722538385 & 0.30030259 &  0.28253642 &  0.80544148 & -0.13349205 & -0.69222649 & -0.74145660 &  0.87210035\\\\\n",
       "\tengineSize &  0.031704927 &  0.31259716 &  0.6552430 &  0.7501479 &  0.79259100 &  0.20232204 &  0.88452752 &  1.00000000 &  0.676836166 & 0.33547386 &  0.16534992 &  0.85321930 & -0.11063456 & -0.56745185 & -0.59574184 &  0.90185234\\\\\n",
       "\tbore &  0.004268885 &  0.11966331 &  0.5888129 &  0.6880306 &  0.64748909 &  0.30710160 &  0.72253838 &  0.67683617 &  1.000000000 & 0.08312897 &  0.14349393 &  0.66311920 & -0.12995570 & -0.49709334 & -0.49707966 &  0.63499129\\\\\n",
       "\tstroke &  0.129590973 &  0.21856022 &  0.2933166 &  0.2634045 &  0.31341529 &  0.08204266 &  0.30030259 &  0.33547386 &  0.083128969 & 1.00000000 &  0.31641259 &  0.22650041 &  0.06827603 &  0.09605909 &  0.09444836 &  0.21957894\\\\\n",
       "\tcompressionRatio & -0.042520236 &  0.02102330 &  0.3740184 &  0.2891713 &  0.31045778 &  0.38448636 &  0.28253642 &  0.16534992 &  0.143493926 & 0.31641259 &  1.00000000 & -0.07015321 & -0.31758913 &  0.44206648 &  0.38813099 &  0.20746045\\\\\n",
       "\thorsePower &  0.207286925 &  0.42955157 &  0.4673341 &  0.6435282 &  0.71677463 &  0.02741710 &  0.80544148 &  0.85321930 &  0.663119197 & 0.22650041 & -0.07015321 &  1.00000000 &  0.26392057 & -0.74877450 & -0.70840304 &  0.85341192\\\\\n",
       "\tpeakRpm &  0.397261736 &  0.40156389 & -0.2350276 & -0.1557789 & -0.08481670 & -0.19313323 & -0.13349205 & -0.11063456 & -0.129955701 & 0.06827603 & -0.31758913 &  0.26392057 &  1.00000000 &  0.02430295 &  0.08408100 &  0.03797800\\\\\n",
       "\tcityMpg &  0.101711684 & -0.10959405 & -0.3563500 & -0.5879264 & -0.55450637 &  0.08898852 & -0.69222649 & -0.56745185 & -0.497093339 & 0.09605909 &  0.44206648 & -0.74877450 &  0.02430295 &  1.00000000 &  0.97817053 & -0.60573157\\\\\n",
       "\thighwayMpg &  0.170830894 & -0.05943753 & -0.4398407 & -0.6282970 & -0.59544139 &  0.03012051 & -0.74145660 & -0.59574184 & -0.497079655 & 0.09444836 &  0.38813099 & -0.70840304 &  0.08408100 &  0.97817053 &  1.00000000 & -0.62749437\\\\\n",
       "\tprice &  0.056649477 &  0.34573487 &  0.6689138 &  0.7566984 &  0.80587256 &  0.26884011 &  0.87210035 &  0.90185234 &  0.634991290 & 0.21957894 &  0.20746045 &  0.85341192 &  0.03797800 & -0.60573157 & -0.62749437 &  1.00000000\\\\\n",
       "\\end{tabular}\n",
       "\n",
       "\\end{description}\n"
      ],
      "text/markdown": [
       "$p\n",
       ":   \n",
       "A matrix: 16 × 16 of type dbl\n",
       "\n",
       "| <!--/--> | symb | normLoss | wheelBase | length | width | height | curbWeight | engineSize | bore | stroke | compressionRatio | horsePower | peakRpm | cityMpg | highwayMpg | price |\n",
       "|---|---|---|---|---|---|---|---|---|---|---|---|---|---|---|---|---|\n",
       "| symb | 0.000000e+00 | 3.432929e-13 | 2.255894e-16 | 1.409339e-07 | 7.770414e-04 | 5.531350e-17 | 1.025874e-03 | 1.311313e-01 | 5.750916e-02 | 0.899491367 | 1.043948e-02 | 3.098897e-01 | 7.359080e-05 |  6.101009e-01 |  6.222950e-01 | 2.449149e-01 |\n",
       "| normLoss | 3.432929e-13 | 0.000000e+00 | 3.439849e-01 | 7.679017e-01 | 1.805700e-01 | 7.428895e-09 | 1.262266e-01 | 3.218897e-02 | 6.497992e-01 | 0.409653480 | 9.039883e-02 | 1.204793e-04 | 6.174988e-04 |  8.314261e-04 |  6.748692e-03 | 9.045759e-03 |\n",
       "| wheelBase | 2.255894e-16 | 3.439849e-01 | 0.000000e+00 | 9.699227e-66 | 5.612752e-46 | 1.437985e-20 | 1.439877e-42 | 5.233096e-19 | 1.475771e-13 | 0.022015524 | 3.039092e-04 | 2.540628e-07 | 1.209679e-07 |  1.103347e-12 |  3.420917e-17 | 8.076488e-20 |\n",
       "| length | 1.409339e-07 | 7.679017e-01 | 9.699227e-66 | 0.000000e+00 | 4.332386e-56 | 7.731666e-14 | 8.728146e-67 | 1.496334e-29 | 1.162914e-21 | 0.066407079 | 2.329180e-02 | 8.505849e-18 | 3.232254e-05 |  3.595529e-28 |  4.428948e-32 | 8.016477e-30 |\n",
       "| width | 7.770414e-04 | 1.805700e-01 | 5.612752e-46 | 4.332386e-56 | 0.000000e+00 | 5.031446e-05 | 2.460481e-63 | 3.685904e-36 | 6.240938e-18 | 0.009331725 | 9.348405e-03 | 5.048681e-25 | 1.614542e-03 |  2.807249e-25 |  7.321537e-29 | 9.200336e-38 |\n",
       "| height | 5.531350e-17 | 7.428895e-09 | 1.437985e-20 | 7.731666e-14 | 5.031446e-05 | 0.000000e+00 | 1.688129e-05 | 3.387566e-01 | 1.234844e-02 | 0.421560143 | 1.549235e-04 | 1.158388e-01 | 2.745139e-06 |  4.885825e-01 |  1.254830e-01 | 5.514627e-02 |\n",
       "| curbWeight | 1.025874e-03 | 1.262266e-01 | 1.439877e-42 | 8.728146e-67 | 2.460481e-63 | 1.688129e-05 | 0.000000e+00 | 1.404581e-58 | 2.013256e-25 | 0.016516670 | 3.027941e-02 | 4.321574e-38 | 1.228169e-04 |  1.929250e-39 |  2.007127e-46 | 2.189577e-53 |\n",
       "| engineSize | 1.311313e-01 | 3.218897e-02 | 5.233096e-19 | 1.496334e-29 | 3.685904e-36 | 3.387566e-01 | 1.404581e-58 | 0.000000e+00 | 1.455497e-20 | 0.003243224 | 6.800779e-01 | 1.236008e-48 | 4.359121e-04 |  2.298962e-26 |  6.864987e-29 | 9.265492e-64 |\n",
       "| bore | 5.750916e-02 | 6.497992e-01 | 1.475771e-13 | 1.162914e-21 | 6.240938e-18 | 1.234844e-02 | 2.013256e-25 | 1.455497e-20 | 0.000000e+00 | 0.430509785 | 9.415682e-01 | 4.459091e-19 | 1.620994e-04 |  1.328843e-20 |  1.331729e-20 | 1.567358e-16 |\n",
       "| stroke | 8.994914e-01 | 4.096535e-01 | 2.201552e-02 | 6.640708e-02 | 9.331725e-03 | 4.215601e-01 | 1.651667e-02 | 3.243224e-03 | 4.305098e-01 | 0.000000000 | 8.141820e-03 | 2.048853e-01 | 3.156381e-01 |  5.453234e-01 |  5.302181e-01 | 2.501958e-01 |\n",
       "| compressionRatio | 1.043948e-02 | 9.039883e-02 | 3.039092e-04 | 2.329180e-02 | 9.348405e-03 | 1.549235e-04 | 3.027941e-02 | 6.800779e-01 | 9.415682e-01 | 0.008141820 | 0.000000e+00 | 3.211079e-03 | 7.737735e-11 |  2.034939e-06 |  1.215757e-04 | 3.158110e-01 |\n",
       "| horsePower | 3.098897e-01 | 1.204793e-04 | 2.540628e-07 | 8.505849e-18 | 5.048681e-25 | 1.158388e-01 | 4.321574e-38 | 1.236008e-48 | 4.459091e-19 | 0.204885309 | 3.211079e-03 | 0.000000e+00 | 6.252497e-02 |  3.486622e-47 |  3.062649e-41 | 1.189128e-47 |\n",
       "| peakRpm | 7.359080e-05 | 6.174988e-04 | 1.209679e-07 | 3.232254e-05 | 1.614542e-03 | 2.745139e-06 | 1.228169e-04 | 4.359121e-04 | 1.620994e-04 | 0.315638096 | 7.737735e-11 | 6.252497e-02 | 0.000000e+00 |  1.059931e-01 |  4.419900e-01 | 1.531182e-01 |\n",
       "| cityMpg | 6.101009e-01 | 8.314261e-04 | 1.103347e-12 | 3.595529e-28 | 2.807249e-25 | 4.885825e-01 | 1.929250e-39 | 2.298962e-26 | 1.328843e-20 | 0.545323380 | 2.034939e-06 | 3.486622e-47 | 1.059931e-01 |  0.000000e+00 | 1.248739e-128 | 2.321132e-29 |\n",
       "| highwayMpg | 6.222950e-01 | 6.748692e-03 | 3.420917e-17 | 4.428948e-32 | 7.321537e-29 | 1.254830e-01 | 2.007127e-46 | 6.864987e-29 | 1.331729e-20 | 0.530218077 | 1.215757e-04 | 3.062649e-41 | 4.419900e-01 | 1.248739e-128 |  0.000000e+00 | 1.749547e-31 |\n",
       "| price | 2.449149e-01 | 9.045759e-03 | 8.076488e-20 | 8.016477e-30 | 9.200336e-38 | 5.514627e-02 | 2.189577e-53 | 9.265492e-64 | 1.567358e-16 | 0.250195842 | 3.158110e-01 | 1.189128e-47 | 1.531182e-01 |  2.321132e-29 |  1.749547e-31 | 0.000000e+00 |\n",
       "\n",
       "\n",
       "$lowCI\n",
       ":   \n",
       "A matrix: 16 × 16 of type dbl\n",
       "\n",
       "| <!--/--> | symb | normLoss | wheelBase | length | width | height | curbWeight | engineSize | bore | stroke | compressionRatio | horsePower | peakRpm | cityMpg | highwayMpg | price |\n",
       "|---|---|---|---|---|---|---|---|---|---|---|---|---|---|---|---|---|\n",
       "| symb |  1.00000000 |  0.40851384 | -0.62353529 | -0.471538643 | -0.35851109 | -0.631270105 | -0.35368992 | -0.23935482 | -0.26762909 | -0.147176645 | -0.30801518 | -0.066746590 |  0.142241439 | -0.1720132 | -0.1029171 | -0.218296775 |\n",
       "| normLoss |  0.40851384 |  1.00000000 | -0.22504693 | -0.130494691 | -0.04896585 | -0.549197503 | -0.03398157 |  0.01448665 | -0.19025803 | -0.090452803 | -0.28020747 |  0.149288902 |  0.116053224 | -0.3960620 | -0.3526276 |  0.051611926 |\n",
       "| wheelBase | -0.62353529 | -0.22504693 |  1.00000000 |  0.837984109 |  0.73858692 |  0.492152479 |  0.71547188 |  0.46887428 |  0.37761061 |  0.023609653 |  0.11674701 |  0.225528543 | -0.475137574 | -0.5706620 | -0.6338576 |  0.485532162 |\n",
       "| length | -0.47153864 | -0.13049469 |  0.83798411 |  1.000000000 |  0.79581048 |  0.379532515 |  0.84196455 |  0.60277087 |  0.51214213 | -0.008813702 |  0.02185308 |  0.451825669 | -0.408857318 | -0.7399172 | -0.7675769 |  0.610593803 |\n",
       "| width | -0.35851109 | -0.04896585 |  0.73858692 |  0.795810483 |  1.00000000 |  0.147831579 |  0.82842588 |  0.66546393 |  0.45610802 |  0.045719202 |  0.04521592 |  0.553767617 | -0.347151907 | -0.7166241 | -0.7451053 |  0.683985376 |\n",
       "| height | -0.63127010 | -0.54919750 |  0.49215248 |  0.379532515 |  0.14783158 |  1.000000000 |  0.16522910 | -0.07053532 |  0.03874548 | -0.193864682 |  0.12878929 | -0.244690026 | -0.440435133 | -0.1844453 | -0.2408493 | -0.002963987 |\n",
       "| curbWeight | -0.35368992 | -0.03398157 |  0.71547188 |  0.841964549 |  0.82842588 |  0.165229098 |  1.00000000 |  0.80770625 |  0.56104621 |  0.031264816 |  0.01463018 |  0.684074738 | -0.389723822 | -0.8103416 | -0.8424377 |  0.786888569 |\n",
       "| engineSize | -0.23935482 |  0.01448665 |  0.46887428 |  0.602770873 |  0.66546393 | -0.070535319 |  0.80770625 |  1.00000000 |  0.49651873 |  0.070290363 | -0.10849439 |  0.757656046 | -0.369867899 | -0.7256900 | -0.7453123 |  0.834712425 |\n",
       "| bore | -0.26762909 | -0.19025803 |  0.37761061 |  0.512142132 |  0.45610802 |  0.038745476 |  0.56104621 |  0.49651873 |  1.00000000 | -0.192811796 | -0.13328816 |  0.476437623 | -0.389058093 | -0.6772494 | -0.6772395 |  0.436825810 |\n",
       "| stroke | -0.14717665 | -0.09045280 |  0.02360965 | -0.008813702 |  0.04571920 | -0.193864682 |  0.03126482 |  0.07029036 | -0.19281180 |  1.000000000 |  0.04903901 | -0.049456938 | -0.208509354 | -0.1802305 | -0.1818028 | -0.058155052 |\n",
       "| compressionRatio | -0.30801518 | -0.28020747 |  0.11674701 |  0.021853085 |  0.04521592 |  0.128789289 |  0.01463018 | -0.10849439 | -0.13328816 |  0.049039007 |  1.00000000 | -0.334111606 | -0.541407255 |  0.1964056 |  0.1329998 | -0.067956139 |\n",
       "| horsePower | -0.06674659 |  0.14928890 |  0.22552854 |  0.451825669 |  0.55376762 | -0.244690026 |  0.68407474 |  0.75765605 |  0.47643762 | -0.049456938 | -0.33411161 |  1.000000000 | -0.006862804 | -0.8475362 | -0.8214148 |  0.756757744 |\n",
       "| peakRpm |  0.14224144 |  0.11605322 | -0.47513757 | -0.408857318 | -0.34715191 | -0.440435133 | -0.38972382 | -0.36986790 | -0.38905809 | -0.208509354 | -0.54140725 | -0.006862804 |  1.000000000 | -0.2476174 | -0.1905432 | -0.237382597 |\n",
       "| cityMpg | -0.17201324 | -0.39606203 | -0.57066197 | -0.739917186 | -0.71662412 | -0.184445253 | -0.81034165 | -0.72568996 | -0.67724936 | -0.180230543 |  0.19640557 | -0.847536212 | -0.247617447 |  1.0000000 |  0.9624051 | -0.753381109 |\n",
       "| highwayMpg | -0.10291707 | -0.35262756 | -0.63385761 | -0.767576854 | -0.74510525 | -0.240849324 | -0.84243771 | -0.74531229 | -0.67723953 | -0.181802756 |  0.13299984 | -0.821414837 | -0.190543210 |  0.9624051 |  1.0000000 | -0.768170616 |\n",
       "| price | -0.21829677 |  0.05161193 |  0.48553216 |  0.610593803 |  0.68398538 | -0.002963987 |  0.78688857 |  0.83471243 |  0.43682581 | -0.058155052 | -0.06795614 |  0.756757744 | -0.237382597 | -0.7533811 | -0.7681706 |  1.000000000 |\n",
       "\n",
       "\n",
       "$uppCI\n",
       ":   \n",
       "A matrix: 16 × 16 of type dbl\n",
       "\n",
       "| <!--/--> | symb | normLoss | wheelBase | length | width | height | curbWeight | engineSize | bore | stroke | compressionRatio | horsePower | peakRpm | cityMpg | highwayMpg | price |\n",
       "|---|---|---|---|---|---|---|---|---|---|---|---|---|---|---|---|---|\n",
       "| symb |  1.000000000 |  0.63080959 | -0.4259703 | -0.2319429 | -0.09904538 | -0.43635506 | -0.09357527 |  0.03170493 |  0.004268885 | 0.12959097 | -0.04252024 |  0.20728692 |  0.39726174 |  0.10171168 |  0.17083089 |  0.05664948 |\n",
       "| normLoss |  0.630809591 |  1.00000000 |  0.0797976 |  0.1758437 |  0.25422871 | -0.29888785 |  0.26821452 |  0.31259716 |  0.119663313 | 0.21856022 |  0.02102330 |  0.42955157 |  0.40156389 | -0.10959405 | -0.05943753 |  0.34573487 |\n",
       "| wheelBase | -0.425970320 |  0.07979760 |  1.0000000 |  0.9033561 |  0.84058626 |  0.67217597 |  0.82558555 |  0.65524297 |  0.588812949 | 0.29331657 |  0.37401843 |  0.46733415 | -0.23502759 | -0.35635004 | -0.43984067 |  0.66891383 |\n",
       "| length | -0.231942943 |  0.17584372 |  0.9033561 |  1.0000000 |  0.87706091 |  0.58846753 |  0.90581274 |  0.75014787 |  0.688030613 | 0.26340450 |  0.28917132 |  0.64352816 | -0.15577888 | -0.58792641 | -0.62829703 |  0.75669838 |\n",
       "| width | -0.099045385 |  0.25422871 |  0.8405863 |  0.8770609 |  1.00000000 |  0.40090603 |  0.89743930 |  0.79259100 |  0.647489085 | 0.31341529 |  0.31045778 |  0.71677463 | -0.08481670 | -0.55450637 | -0.59544139 |  0.80587256 |\n",
       "| height | -0.436355064 | -0.29888785 |  0.6721760 |  0.5884675 |  0.40090603 |  1.00000000 |  0.41576666 |  0.20232204 |  0.307101599 | 0.08204266 |  0.38448636 |  0.02741710 | -0.19313323 |  0.08898852 |  0.03012051 |  0.26884011 |\n",
       "| curbWeight | -0.093575272 |  0.26821452 |  0.8255856 |  0.9058127 |  0.89743930 |  0.41576666 |  1.00000000 |  0.88452752 |  0.722538385 | 0.30030259 |  0.28253642 |  0.80544148 | -0.13349205 | -0.69222649 | -0.74145660 |  0.87210035 |\n",
       "| engineSize |  0.031704927 |  0.31259716 |  0.6552430 |  0.7501479 |  0.79259100 |  0.20232204 |  0.88452752 |  1.00000000 |  0.676836166 | 0.33547386 |  0.16534992 |  0.85321930 | -0.11063456 | -0.56745185 | -0.59574184 |  0.90185234 |\n",
       "| bore |  0.004268885 |  0.11966331 |  0.5888129 |  0.6880306 |  0.64748909 |  0.30710160 |  0.72253838 |  0.67683617 |  1.000000000 | 0.08312897 |  0.14349393 |  0.66311920 | -0.12995570 | -0.49709334 | -0.49707966 |  0.63499129 |\n",
       "| stroke |  0.129590973 |  0.21856022 |  0.2933166 |  0.2634045 |  0.31341529 |  0.08204266 |  0.30030259 |  0.33547386 |  0.083128969 | 1.00000000 |  0.31641259 |  0.22650041 |  0.06827603 |  0.09605909 |  0.09444836 |  0.21957894 |\n",
       "| compressionRatio | -0.042520236 |  0.02102330 |  0.3740184 |  0.2891713 |  0.31045778 |  0.38448636 |  0.28253642 |  0.16534992 |  0.143493926 | 0.31641259 |  1.00000000 | -0.07015321 | -0.31758913 |  0.44206648 |  0.38813099 |  0.20746045 |\n",
       "| horsePower |  0.207286925 |  0.42955157 |  0.4673341 |  0.6435282 |  0.71677463 |  0.02741710 |  0.80544148 |  0.85321930 |  0.663119197 | 0.22650041 | -0.07015321 |  1.00000000 |  0.26392057 | -0.74877450 | -0.70840304 |  0.85341192 |\n",
       "| peakRpm |  0.397261736 |  0.40156389 | -0.2350276 | -0.1557789 | -0.08481670 | -0.19313323 | -0.13349205 | -0.11063456 | -0.129955701 | 0.06827603 | -0.31758913 |  0.26392057 |  1.00000000 |  0.02430295 |  0.08408100 |  0.03797800 |\n",
       "| cityMpg |  0.101711684 | -0.10959405 | -0.3563500 | -0.5879264 | -0.55450637 |  0.08898852 | -0.69222649 | -0.56745185 | -0.497093339 | 0.09605909 |  0.44206648 | -0.74877450 |  0.02430295 |  1.00000000 |  0.97817053 | -0.60573157 |\n",
       "| highwayMpg |  0.170830894 | -0.05943753 | -0.4398407 | -0.6282970 | -0.59544139 |  0.03012051 | -0.74145660 | -0.59574184 | -0.497079655 | 0.09444836 |  0.38813099 | -0.70840304 |  0.08408100 |  0.97817053 |  1.00000000 | -0.62749437 |\n",
       "| price |  0.056649477 |  0.34573487 |  0.6689138 |  0.7566984 |  0.80587256 |  0.26884011 |  0.87210035 |  0.90185234 |  0.634991290 | 0.21957894 |  0.20746045 |  0.85341192 |  0.03797800 | -0.60573157 | -0.62749437 |  1.00000000 |\n",
       "\n",
       "\n",
       "\n",
       "\n"
      ],
      "text/plain": [
       "$p\n",
       "                         symb     normLoss    wheelBase       length\n",
       "symb             0.000000e+00 3.432929e-13 2.255894e-16 1.409339e-07\n",
       "normLoss         3.432929e-13 0.000000e+00 3.439849e-01 7.679017e-01\n",
       "wheelBase        2.255894e-16 3.439849e-01 0.000000e+00 9.699227e-66\n",
       "length           1.409339e-07 7.679017e-01 9.699227e-66 0.000000e+00\n",
       "width            7.770414e-04 1.805700e-01 5.612752e-46 4.332386e-56\n",
       "height           5.531350e-17 7.428895e-09 1.437985e-20 7.731666e-14\n",
       "curbWeight       1.025874e-03 1.262266e-01 1.439877e-42 8.728146e-67\n",
       "engineSize       1.311313e-01 3.218897e-02 5.233096e-19 1.496334e-29\n",
       "bore             5.750916e-02 6.497992e-01 1.475771e-13 1.162914e-21\n",
       "stroke           8.994914e-01 4.096535e-01 2.201552e-02 6.640708e-02\n",
       "compressionRatio 1.043948e-02 9.039883e-02 3.039092e-04 2.329180e-02\n",
       "horsePower       3.098897e-01 1.204793e-04 2.540628e-07 8.505849e-18\n",
       "peakRpm          7.359080e-05 6.174988e-04 1.209679e-07 3.232254e-05\n",
       "cityMpg          6.101009e-01 8.314261e-04 1.103347e-12 3.595529e-28\n",
       "highwayMpg       6.222950e-01 6.748692e-03 3.420917e-17 4.428948e-32\n",
       "price            2.449149e-01 9.045759e-03 8.076488e-20 8.016477e-30\n",
       "                        width       height   curbWeight   engineSize\n",
       "symb             7.770414e-04 5.531350e-17 1.025874e-03 1.311313e-01\n",
       "normLoss         1.805700e-01 7.428895e-09 1.262266e-01 3.218897e-02\n",
       "wheelBase        5.612752e-46 1.437985e-20 1.439877e-42 5.233096e-19\n",
       "length           4.332386e-56 7.731666e-14 8.728146e-67 1.496334e-29\n",
       "width            0.000000e+00 5.031446e-05 2.460481e-63 3.685904e-36\n",
       "height           5.031446e-05 0.000000e+00 1.688129e-05 3.387566e-01\n",
       "curbWeight       2.460481e-63 1.688129e-05 0.000000e+00 1.404581e-58\n",
       "engineSize       3.685904e-36 3.387566e-01 1.404581e-58 0.000000e+00\n",
       "bore             6.240938e-18 1.234844e-02 2.013256e-25 1.455497e-20\n",
       "stroke           9.331725e-03 4.215601e-01 1.651667e-02 3.243224e-03\n",
       "compressionRatio 9.348405e-03 1.549235e-04 3.027941e-02 6.800779e-01\n",
       "horsePower       5.048681e-25 1.158388e-01 4.321574e-38 1.236008e-48\n",
       "peakRpm          1.614542e-03 2.745139e-06 1.228169e-04 4.359121e-04\n",
       "cityMpg          2.807249e-25 4.885825e-01 1.929250e-39 2.298962e-26\n",
       "highwayMpg       7.321537e-29 1.254830e-01 2.007127e-46 6.864987e-29\n",
       "price            9.200336e-38 5.514627e-02 2.189577e-53 9.265492e-64\n",
       "                         bore      stroke compressionRatio   horsePower\n",
       "symb             5.750916e-02 0.899491367     1.043948e-02 3.098897e-01\n",
       "normLoss         6.497992e-01 0.409653480     9.039883e-02 1.204793e-04\n",
       "wheelBase        1.475771e-13 0.022015524     3.039092e-04 2.540628e-07\n",
       "length           1.162914e-21 0.066407079     2.329180e-02 8.505849e-18\n",
       "width            6.240938e-18 0.009331725     9.348405e-03 5.048681e-25\n",
       "height           1.234844e-02 0.421560143     1.549235e-04 1.158388e-01\n",
       "curbWeight       2.013256e-25 0.016516670     3.027941e-02 4.321574e-38\n",
       "engineSize       1.455497e-20 0.003243224     6.800779e-01 1.236008e-48\n",
       "bore             0.000000e+00 0.430509785     9.415682e-01 4.459091e-19\n",
       "stroke           4.305098e-01 0.000000000     8.141820e-03 2.048853e-01\n",
       "compressionRatio 9.415682e-01 0.008141820     0.000000e+00 3.211079e-03\n",
       "horsePower       4.459091e-19 0.204885309     3.211079e-03 0.000000e+00\n",
       "peakRpm          1.620994e-04 0.315638096     7.737735e-11 6.252497e-02\n",
       "cityMpg          1.328843e-20 0.545323380     2.034939e-06 3.486622e-47\n",
       "highwayMpg       1.331729e-20 0.530218077     1.215757e-04 3.062649e-41\n",
       "price            1.567358e-16 0.250195842     3.158110e-01 1.189128e-47\n",
       "                      peakRpm       cityMpg    highwayMpg        price\n",
       "symb             7.359080e-05  6.101009e-01  6.222950e-01 2.449149e-01\n",
       "normLoss         6.174988e-04  8.314261e-04  6.748692e-03 9.045759e-03\n",
       "wheelBase        1.209679e-07  1.103347e-12  3.420917e-17 8.076488e-20\n",
       "length           3.232254e-05  3.595529e-28  4.428948e-32 8.016477e-30\n",
       "width            1.614542e-03  2.807249e-25  7.321537e-29 9.200336e-38\n",
       "height           2.745139e-06  4.885825e-01  1.254830e-01 5.514627e-02\n",
       "curbWeight       1.228169e-04  1.929250e-39  2.007127e-46 2.189577e-53\n",
       "engineSize       4.359121e-04  2.298962e-26  6.864987e-29 9.265492e-64\n",
       "bore             1.620994e-04  1.328843e-20  1.331729e-20 1.567358e-16\n",
       "stroke           3.156381e-01  5.453234e-01  5.302181e-01 2.501958e-01\n",
       "compressionRatio 7.737735e-11  2.034939e-06  1.215757e-04 3.158110e-01\n",
       "horsePower       6.252497e-02  3.486622e-47  3.062649e-41 1.189128e-47\n",
       "peakRpm          0.000000e+00  1.059931e-01  4.419900e-01 1.531182e-01\n",
       "cityMpg          1.059931e-01  0.000000e+00 1.248739e-128 2.321132e-29\n",
       "highwayMpg       4.419900e-01 1.248739e-128  0.000000e+00 1.749547e-31\n",
       "price            1.531182e-01  2.321132e-29  1.749547e-31 0.000000e+00\n",
       "\n",
       "$lowCI\n",
       "                        symb    normLoss   wheelBase       length       width\n",
       "symb              1.00000000  0.40851384 -0.62353529 -0.471538643 -0.35851109\n",
       "normLoss          0.40851384  1.00000000 -0.22504693 -0.130494691 -0.04896585\n",
       "wheelBase        -0.62353529 -0.22504693  1.00000000  0.837984109  0.73858692\n",
       "length           -0.47153864 -0.13049469  0.83798411  1.000000000  0.79581048\n",
       "width            -0.35851109 -0.04896585  0.73858692  0.795810483  1.00000000\n",
       "height           -0.63127010 -0.54919750  0.49215248  0.379532515  0.14783158\n",
       "curbWeight       -0.35368992 -0.03398157  0.71547188  0.841964549  0.82842588\n",
       "engineSize       -0.23935482  0.01448665  0.46887428  0.602770873  0.66546393\n",
       "bore             -0.26762909 -0.19025803  0.37761061  0.512142132  0.45610802\n",
       "stroke           -0.14717665 -0.09045280  0.02360965 -0.008813702  0.04571920\n",
       "compressionRatio -0.30801518 -0.28020747  0.11674701  0.021853085  0.04521592\n",
       "horsePower       -0.06674659  0.14928890  0.22552854  0.451825669  0.55376762\n",
       "peakRpm           0.14224144  0.11605322 -0.47513757 -0.408857318 -0.34715191\n",
       "cityMpg          -0.17201324 -0.39606203 -0.57066197 -0.739917186 -0.71662412\n",
       "highwayMpg       -0.10291707 -0.35262756 -0.63385761 -0.767576854 -0.74510525\n",
       "price            -0.21829677  0.05161193  0.48553216  0.610593803  0.68398538\n",
       "                       height  curbWeight  engineSize        bore       stroke\n",
       "symb             -0.631270105 -0.35368992 -0.23935482 -0.26762909 -0.147176645\n",
       "normLoss         -0.549197503 -0.03398157  0.01448665 -0.19025803 -0.090452803\n",
       "wheelBase         0.492152479  0.71547188  0.46887428  0.37761061  0.023609653\n",
       "length            0.379532515  0.84196455  0.60277087  0.51214213 -0.008813702\n",
       "width             0.147831579  0.82842588  0.66546393  0.45610802  0.045719202\n",
       "height            1.000000000  0.16522910 -0.07053532  0.03874548 -0.193864682\n",
       "curbWeight        0.165229098  1.00000000  0.80770625  0.56104621  0.031264816\n",
       "engineSize       -0.070535319  0.80770625  1.00000000  0.49651873  0.070290363\n",
       "bore              0.038745476  0.56104621  0.49651873  1.00000000 -0.192811796\n",
       "stroke           -0.193864682  0.03126482  0.07029036 -0.19281180  1.000000000\n",
       "compressionRatio  0.128789289  0.01463018 -0.10849439 -0.13328816  0.049039007\n",
       "horsePower       -0.244690026  0.68407474  0.75765605  0.47643762 -0.049456938\n",
       "peakRpm          -0.440435133 -0.38972382 -0.36986790 -0.38905809 -0.208509354\n",
       "cityMpg          -0.184445253 -0.81034165 -0.72568996 -0.67724936 -0.180230543\n",
       "highwayMpg       -0.240849324 -0.84243771 -0.74531229 -0.67723953 -0.181802756\n",
       "price            -0.002963987  0.78688857  0.83471243  0.43682581 -0.058155052\n",
       "                 compressionRatio   horsePower      peakRpm    cityMpg\n",
       "symb                  -0.30801518 -0.066746590  0.142241439 -0.1720132\n",
       "normLoss              -0.28020747  0.149288902  0.116053224 -0.3960620\n",
       "wheelBase              0.11674701  0.225528543 -0.475137574 -0.5706620\n",
       "length                 0.02185308  0.451825669 -0.408857318 -0.7399172\n",
       "width                  0.04521592  0.553767617 -0.347151907 -0.7166241\n",
       "height                 0.12878929 -0.244690026 -0.440435133 -0.1844453\n",
       "curbWeight             0.01463018  0.684074738 -0.389723822 -0.8103416\n",
       "engineSize            -0.10849439  0.757656046 -0.369867899 -0.7256900\n",
       "bore                  -0.13328816  0.476437623 -0.389058093 -0.6772494\n",
       "stroke                 0.04903901 -0.049456938 -0.208509354 -0.1802305\n",
       "compressionRatio       1.00000000 -0.334111606 -0.541407255  0.1964056\n",
       "horsePower            -0.33411161  1.000000000 -0.006862804 -0.8475362\n",
       "peakRpm               -0.54140725 -0.006862804  1.000000000 -0.2476174\n",
       "cityMpg                0.19640557 -0.847536212 -0.247617447  1.0000000\n",
       "highwayMpg             0.13299984 -0.821414837 -0.190543210  0.9624051\n",
       "price                 -0.06795614  0.756757744 -0.237382597 -0.7533811\n",
       "                 highwayMpg        price\n",
       "symb             -0.1029171 -0.218296775\n",
       "normLoss         -0.3526276  0.051611926\n",
       "wheelBase        -0.6338576  0.485532162\n",
       "length           -0.7675769  0.610593803\n",
       "width            -0.7451053  0.683985376\n",
       "height           -0.2408493 -0.002963987\n",
       "curbWeight       -0.8424377  0.786888569\n",
       "engineSize       -0.7453123  0.834712425\n",
       "bore             -0.6772395  0.436825810\n",
       "stroke           -0.1818028 -0.058155052\n",
       "compressionRatio  0.1329998 -0.067956139\n",
       "horsePower       -0.8214148  0.756757744\n",
       "peakRpm          -0.1905432 -0.237382597\n",
       "cityMpg           0.9624051 -0.753381109\n",
       "highwayMpg        1.0000000 -0.768170616\n",
       "price            -0.7681706  1.000000000\n",
       "\n",
       "$uppCI\n",
       "                         symb    normLoss  wheelBase     length       width\n",
       "symb              1.000000000  0.63080959 -0.4259703 -0.2319429 -0.09904538\n",
       "normLoss          0.630809591  1.00000000  0.0797976  0.1758437  0.25422871\n",
       "wheelBase        -0.425970320  0.07979760  1.0000000  0.9033561  0.84058626\n",
       "length           -0.231942943  0.17584372  0.9033561  1.0000000  0.87706091\n",
       "width            -0.099045385  0.25422871  0.8405863  0.8770609  1.00000000\n",
       "height           -0.436355064 -0.29888785  0.6721760  0.5884675  0.40090603\n",
       "curbWeight       -0.093575272  0.26821452  0.8255856  0.9058127  0.89743930\n",
       "engineSize        0.031704927  0.31259716  0.6552430  0.7501479  0.79259100\n",
       "bore              0.004268885  0.11966331  0.5888129  0.6880306  0.64748909\n",
       "stroke            0.129590973  0.21856022  0.2933166  0.2634045  0.31341529\n",
       "compressionRatio -0.042520236  0.02102330  0.3740184  0.2891713  0.31045778\n",
       "horsePower        0.207286925  0.42955157  0.4673341  0.6435282  0.71677463\n",
       "peakRpm           0.397261736  0.40156389 -0.2350276 -0.1557789 -0.08481670\n",
       "cityMpg           0.101711684 -0.10959405 -0.3563500 -0.5879264 -0.55450637\n",
       "highwayMpg        0.170830894 -0.05943753 -0.4398407 -0.6282970 -0.59544139\n",
       "price             0.056649477  0.34573487  0.6689138  0.7566984  0.80587256\n",
       "                      height  curbWeight  engineSize         bore     stroke\n",
       "symb             -0.43635506 -0.09357527  0.03170493  0.004268885 0.12959097\n",
       "normLoss         -0.29888785  0.26821452  0.31259716  0.119663313 0.21856022\n",
       "wheelBase         0.67217597  0.82558555  0.65524297  0.588812949 0.29331657\n",
       "length            0.58846753  0.90581274  0.75014787  0.688030613 0.26340450\n",
       "width             0.40090603  0.89743930  0.79259100  0.647489085 0.31341529\n",
       "height            1.00000000  0.41576666  0.20232204  0.307101599 0.08204266\n",
       "curbWeight        0.41576666  1.00000000  0.88452752  0.722538385 0.30030259\n",
       "engineSize        0.20232204  0.88452752  1.00000000  0.676836166 0.33547386\n",
       "bore              0.30710160  0.72253838  0.67683617  1.000000000 0.08312897\n",
       "stroke            0.08204266  0.30030259  0.33547386  0.083128969 1.00000000\n",
       "compressionRatio  0.38448636  0.28253642  0.16534992  0.143493926 0.31641259\n",
       "horsePower        0.02741710  0.80544148  0.85321930  0.663119197 0.22650041\n",
       "peakRpm          -0.19313323 -0.13349205 -0.11063456 -0.129955701 0.06827603\n",
       "cityMpg           0.08898852 -0.69222649 -0.56745185 -0.497093339 0.09605909\n",
       "highwayMpg        0.03012051 -0.74145660 -0.59574184 -0.497079655 0.09444836\n",
       "price             0.26884011  0.87210035  0.90185234  0.634991290 0.21957894\n",
       "                 compressionRatio  horsePower     peakRpm     cityMpg\n",
       "symb                  -0.04252024  0.20728692  0.39726174  0.10171168\n",
       "normLoss               0.02102330  0.42955157  0.40156389 -0.10959405\n",
       "wheelBase              0.37401843  0.46733415 -0.23502759 -0.35635004\n",
       "length                 0.28917132  0.64352816 -0.15577888 -0.58792641\n",
       "width                  0.31045778  0.71677463 -0.08481670 -0.55450637\n",
       "height                 0.38448636  0.02741710 -0.19313323  0.08898852\n",
       "curbWeight             0.28253642  0.80544148 -0.13349205 -0.69222649\n",
       "engineSize             0.16534992  0.85321930 -0.11063456 -0.56745185\n",
       "bore                   0.14349393  0.66311920 -0.12995570 -0.49709334\n",
       "stroke                 0.31641259  0.22650041  0.06827603  0.09605909\n",
       "compressionRatio       1.00000000 -0.07015321 -0.31758913  0.44206648\n",
       "horsePower            -0.07015321  1.00000000  0.26392057 -0.74877450\n",
       "peakRpm               -0.31758913  0.26392057  1.00000000  0.02430295\n",
       "cityMpg                0.44206648 -0.74877450  0.02430295  1.00000000\n",
       "highwayMpg             0.38813099 -0.70840304  0.08408100  0.97817053\n",
       "price                  0.20746045  0.85341192  0.03797800 -0.60573157\n",
       "                  highwayMpg       price\n",
       "symb              0.17083089  0.05664948\n",
       "normLoss         -0.05943753  0.34573487\n",
       "wheelBase        -0.43984067  0.66891383\n",
       "length           -0.62829703  0.75669838\n",
       "width            -0.59544139  0.80587256\n",
       "height            0.03012051  0.26884011\n",
       "curbWeight       -0.74145660  0.87210035\n",
       "engineSize       -0.59574184  0.90185234\n",
       "bore             -0.49707966  0.63499129\n",
       "stroke            0.09444836  0.21957894\n",
       "compressionRatio  0.38813099  0.20746045\n",
       "horsePower       -0.70840304  0.85341192\n",
       "peakRpm           0.08408100  0.03797800\n",
       "cityMpg           0.97817053 -0.60573157\n",
       "highwayMpg        1.00000000 -0.62749437\n",
       "price            -0.62749437  1.00000000\n"
      ]
     },
     "metadata": {},
     "output_type": "display_data"
    }
   ],
   "source": [
    "# Calculate p-values and confidence intervals of the correlation coefficient\n",
    "cor_test <- cor.mtest(num_attri, conf.level = 0.95)\n",
    "cor_test"
   ]
  },
  {
   "cell_type": "markdown",
   "metadata": {},
   "source": [
    "#### (c) Plot the all correlation information using the function corrplot. Explore some of its parameters."
   ]
  },
  {
   "cell_type": "code",
   "execution_count": 25,
   "metadata": {},
   "outputs": [
    {
     "data": {
      "image/png": "[encoded data removed]",
      "text/plain": [
       "Plot with title \"\""
      ]
     },
     "metadata": {
      "image/png": {
       "height": 420,
       "width": 420
      }
     },
     "output_type": "display_data"
    }
   ],
   "source": [
    "# Plot correlation matrix using corrplot\n",
    "corrplot(cor_coeff, method = \"circle\", type = \"full\", tl.col = \"green\")"
   ]
  },
  {
   "cell_type": "markdown",
   "metadata": {},
   "source": [
    "### 5. Load the data set USJudgeRatings, from the datasets package, containing lawyers’ ratings of state judges in the US Superior Court regarding a set of attributes."
   ]
  },
  {
   "cell_type": "code",
   "execution_count": 26,
   "metadata": {},
   "outputs": [
    {
     "data": {
      "text/html": [
       "<table class=\"dataframe\">\n",
       "<caption>A data.frame: 5 × 12</caption>\n",
       "<thead>\n",
       "\t<tr><th></th><th scope=col>CONT</th><th scope=col>INTG</th><th scope=col>DMNR</th><th scope=col>DILG</th><th scope=col>CFMG</th><th scope=col>DECI</th><th scope=col>PREP</th><th scope=col>FAMI</th><th scope=col>ORAL</th><th scope=col>WRIT</th><th scope=col>PHYS</th><th scope=col>RTEN</th></tr>\n",
       "\t<tr><th></th><th scope=col>&lt;dbl&gt;</th><th scope=col>&lt;dbl&gt;</th><th scope=col>&lt;dbl&gt;</th><th scope=col>&lt;dbl&gt;</th><th scope=col>&lt;dbl&gt;</th><th scope=col>&lt;dbl&gt;</th><th scope=col>&lt;dbl&gt;</th><th scope=col>&lt;dbl&gt;</th><th scope=col>&lt;dbl&gt;</th><th scope=col>&lt;dbl&gt;</th><th scope=col>&lt;dbl&gt;</th><th scope=col>&lt;dbl&gt;</th></tr>\n",
       "</thead>\n",
       "<tbody>\n",
       "\t<tr><th scope=row>AARONSON,L.H.</th><td>5.7</td><td>7.9</td><td>7.7</td><td>7.3</td><td>7.1</td><td>7.4</td><td>7.1</td><td>7.1</td><td>7.1</td><td>7.0</td><td>8.3</td><td>7.8</td></tr>\n",
       "\t<tr><th scope=row>ALEXANDER,J.M.</th><td>6.8</td><td>8.9</td><td>8.8</td><td>8.5</td><td>7.8</td><td>8.1</td><td>8.0</td><td>8.0</td><td>7.8</td><td>7.9</td><td>8.5</td><td>8.7</td></tr>\n",
       "\t<tr><th scope=row>ARMENTANO,A.J.</th><td>7.2</td><td>8.1</td><td>7.8</td><td>7.8</td><td>7.5</td><td>7.6</td><td>7.5</td><td>7.5</td><td>7.3</td><td>7.4</td><td>7.9</td><td>7.8</td></tr>\n",
       "\t<tr><th scope=row>BERDON,R.I.</th><td>6.8</td><td>8.8</td><td>8.5</td><td>8.8</td><td>8.3</td><td>8.5</td><td>8.7</td><td>8.7</td><td>8.4</td><td>8.5</td><td>8.8</td><td>8.7</td></tr>\n",
       "\t<tr><th scope=row>BRACKEN,J.J.</th><td>7.3</td><td>6.4</td><td>4.3</td><td>6.5</td><td>6.0</td><td>6.2</td><td>5.7</td><td>5.7</td><td>5.1</td><td>5.3</td><td>5.5</td><td>4.8</td></tr>\n",
       "</tbody>\n",
       "</table>\n"
      ],
      "text/latex": [
       "A data.frame: 5 × 12\n",
       "\\begin{tabular}{r|llllllllllll}\n",
       "  & CONT & INTG & DMNR & DILG & CFMG & DECI & PREP & FAMI & ORAL & WRIT & PHYS & RTEN\\\\\n",
       "  & <dbl> & <dbl> & <dbl> & <dbl> & <dbl> & <dbl> & <dbl> & <dbl> & <dbl> & <dbl> & <dbl> & <dbl>\\\\\n",
       "\\hline\n",
       "\tAARONSON,L.H. & 5.7 & 7.9 & 7.7 & 7.3 & 7.1 & 7.4 & 7.1 & 7.1 & 7.1 & 7.0 & 8.3 & 7.8\\\\\n",
       "\tALEXANDER,J.M. & 6.8 & 8.9 & 8.8 & 8.5 & 7.8 & 8.1 & 8.0 & 8.0 & 7.8 & 7.9 & 8.5 & 8.7\\\\\n",
       "\tARMENTANO,A.J. & 7.2 & 8.1 & 7.8 & 7.8 & 7.5 & 7.6 & 7.5 & 7.5 & 7.3 & 7.4 & 7.9 & 7.8\\\\\n",
       "\tBERDON,R.I. & 6.8 & 8.8 & 8.5 & 8.8 & 8.3 & 8.5 & 8.7 & 8.7 & 8.4 & 8.5 & 8.8 & 8.7\\\\\n",
       "\tBRACKEN,J.J. & 7.3 & 6.4 & 4.3 & 6.5 & 6.0 & 6.2 & 5.7 & 5.7 & 5.1 & 5.3 & 5.5 & 4.8\\\\\n",
       "\\end{tabular}\n"
      ],
      "text/markdown": [
       "\n",
       "A data.frame: 5 × 12\n",
       "\n",
       "| <!--/--> | CONT &lt;dbl&gt; | INTG &lt;dbl&gt; | DMNR &lt;dbl&gt; | DILG &lt;dbl&gt; | CFMG &lt;dbl&gt; | DECI &lt;dbl&gt; | PREP &lt;dbl&gt; | FAMI &lt;dbl&gt; | ORAL &lt;dbl&gt; | WRIT &lt;dbl&gt; | PHYS &lt;dbl&gt; | RTEN &lt;dbl&gt; |\n",
       "|---|---|---|---|---|---|---|---|---|---|---|---|---|\n",
       "| AARONSON,L.H. | 5.7 | 7.9 | 7.7 | 7.3 | 7.1 | 7.4 | 7.1 | 7.1 | 7.1 | 7.0 | 8.3 | 7.8 |\n",
       "| ALEXANDER,J.M. | 6.8 | 8.9 | 8.8 | 8.5 | 7.8 | 8.1 | 8.0 | 8.0 | 7.8 | 7.9 | 8.5 | 8.7 |\n",
       "| ARMENTANO,A.J. | 7.2 | 8.1 | 7.8 | 7.8 | 7.5 | 7.6 | 7.5 | 7.5 | 7.3 | 7.4 | 7.9 | 7.8 |\n",
       "| BERDON,R.I. | 6.8 | 8.8 | 8.5 | 8.8 | 8.3 | 8.5 | 8.7 | 8.7 | 8.4 | 8.5 | 8.8 | 8.7 |\n",
       "| BRACKEN,J.J. | 7.3 | 6.4 | 4.3 | 6.5 | 6.0 | 6.2 | 5.7 | 5.7 | 5.1 | 5.3 | 5.5 | 4.8 |\n",
       "\n"
      ],
      "text/plain": [
       "               CONT INTG DMNR DILG CFMG DECI PREP FAMI ORAL WRIT PHYS RTEN\n",
       "AARONSON,L.H.  5.7  7.9  7.7  7.3  7.1  7.4  7.1  7.1  7.1  7.0  8.3  7.8 \n",
       "ALEXANDER,J.M. 6.8  8.9  8.8  8.5  7.8  8.1  8.0  8.0  7.8  7.9  8.5  8.7 \n",
       "ARMENTANO,A.J. 7.2  8.1  7.8  7.8  7.5  7.6  7.5  7.5  7.3  7.4  7.9  7.8 \n",
       "BERDON,R.I.    6.8  8.8  8.5  8.8  8.3  8.5  8.7  8.7  8.4  8.5  8.8  8.7 \n",
       "BRACKEN,J.J.   7.3  6.4  4.3  6.5  6.0  6.2  5.7  5.7  5.1  5.3  5.5  4.8 "
      ]
     },
     "metadata": {},
     "output_type": "display_data"
    }
   ],
   "source": [
    "# Load the USJudgeRatings dataset\n",
    "data(USJudgeRatings, package = \"datasets\")\n",
    "#Print\n",
    "head(USJudgeRatings,5)"
   ]
  },
  {
   "cell_type": "markdown",
   "metadata": {},
   "source": [
    "#### (a) Apply the function prcomp() to obtain the principal components. Inspect how each variable is obtained by the linear combination of each component."
   ]
  },
  {
   "cell_type": "code",
   "execution_count": 27,
   "metadata": {},
   "outputs": [
    {
     "data": {
      "text/html": [
       "<table class=\"dataframe\">\n",
       "<caption>A matrix: 11 × 11 of type dbl</caption>\n",
       "<thead>\n",
       "\t<tr><th></th><th scope=col>PC1</th><th scope=col>PC2</th><th scope=col>PC3</th><th scope=col>PC4</th><th scope=col>PC5</th><th scope=col>PC6</th><th scope=col>PC7</th><th scope=col>PC8</th><th scope=col>PC9</th><th scope=col>PC10</th><th scope=col>PC11</th></tr>\n",
       "</thead>\n",
       "<tbody>\n",
       "\t<tr><th scope=row>INTG</th><td>0.2885122</td><td>-0.5744682517</td><td> 0.117763148</td><td>-0.08380834</td><td>-0.37493974</td><td> 0.50952871</td><td> 0.229705308</td><td>-0.284903977</td><td> 0.145484887</td><td> 0.10273495</td><td>-0.0006869163</td></tr>\n",
       "\t<tr><th scope=row>DMNR</th><td>0.2868395</td><td>-0.5763568072</td><td>-0.176986952</td><td>-0.23977262</td><td> 0.39860809</td><td>-0.51407811</td><td>-0.167067325</td><td>-0.169286228</td><td>-0.005467441</td><td>-0.10539158</td><td>-0.0764809505</td></tr>\n",
       "\t<tr><th scope=row>DILG</th><td>0.3043623</td><td> 0.1385605824</td><td> 0.334740068</td><td>-0.26555601</td><td>-0.59149417</td><td>-0.29806148</td><td>-0.367529033</td><td> 0.004789352</td><td>-0.354685540</td><td>-0.02389188</td><td>-0.0735829555</td></tr>\n",
       "\t<tr><th scope=row>CFMG</th><td>0.3026194</td><td> 0.3100115588</td><td> 0.019545609</td><td>-0.47773553</td><td> 0.08202695</td><td>-0.10089374</td><td> 0.722336184</td><td> 0.035844452</td><td>-0.026425045</td><td>-0.20704699</td><td>-0.0131126895</td></tr>\n",
       "\t<tr><th scope=row>DECI</th><td>0.3019234</td><td> 0.3364674872</td><td> 0.054443551</td><td>-0.38036525</td><td> 0.39888902</td><td> 0.44826185</td><td>-0.452351620</td><td>-0.199576677</td><td> 0.150276288</td><td> 0.13826398</td><td>-0.0422633237</td></tr>\n",
       "\t<tr><th scope=row>PREP</th><td>0.3094144</td><td> 0.1252540296</td><td> 0.229233996</td><td> 0.20132809</td><td>-0.08469611</td><td>-0.33583565</td><td> 0.006823921</td><td> 0.068955312</td><td> 0.717150217</td><td> 0.25188457</td><td> 0.3049299442</td></tr>\n",
       "\t<tr><th scope=row>FAMI</th><td>0.3066761</td><td> 0.1228593988</td><td> 0.227525865</td><td> 0.52405105</td><td> 0.09943784</td><td> 0.03818923</td><td> 0.002372688</td><td>-0.222092249</td><td> 0.060538415</td><td>-0.54400573</td><td>-0.4518559528</td></tr>\n",
       "\t<tr><th scope=row>ORAL</th><td>0.3127088</td><td>-0.0052082558</td><td>-0.005507203</td><td> 0.22936834</td><td> 0.14642044</td><td>-0.01945629</td><td> 0.163555968</td><td> 0.274475348</td><td>-0.252450059</td><td> 0.66684780</td><td>-0.4660731103</td></tr>\n",
       "\t<tr><th scope=row>WRIT</th><td>0.3110520</td><td> 0.0002999784</td><td> 0.148245297</td><td> 0.31656247</td><td> 0.23702291</td><td> 0.07288963</td><td> 0.060729628</td><td>-0.099198510</td><td>-0.492809116</td><td> 0.01152927</td><td> 0.6804727629</td></tr>\n",
       "\t<tr><th scope=row>PHYS</th><td>0.2807447</td><td> 0.2347983520</td><td>-0.820161360</td><td> 0.15475146</td><td>-0.29791670</td><td>-0.03755338</td><td>-0.042123360</td><td>-0.272363503</td><td>-0.001096901</td><td> 0.03061736</td><td> 0.0487848868</td></tr>\n",
       "\t<tr><th scope=row>RTEN</th><td>0.3097836</td><td>-0.1527808928</td><td>-0.201053522</td><td>-0.01114254</td><td>-0.03729716</td><td> 0.23409315</td><td>-0.159967574</td><td> 0.797241835</td><td> 0.071824676</td><td>-0.33262222</td><td> 0.0835119540</td></tr>\n",
       "</tbody>\n",
       "</table>\n"
      ],
      "text/latex": [
       "A matrix: 11 × 11 of type dbl\n",
       "\\begin{tabular}{r|lllllllllll}\n",
       "  & PC1 & PC2 & PC3 & PC4 & PC5 & PC6 & PC7 & PC8 & PC9 & PC10 & PC11\\\\\n",
       "\\hline\n",
       "\tINTG & 0.2885122 & -0.5744682517 &  0.117763148 & -0.08380834 & -0.37493974 &  0.50952871 &  0.229705308 & -0.284903977 &  0.145484887 &  0.10273495 & -0.0006869163\\\\\n",
       "\tDMNR & 0.2868395 & -0.5763568072 & -0.176986952 & -0.23977262 &  0.39860809 & -0.51407811 & -0.167067325 & -0.169286228 & -0.005467441 & -0.10539158 & -0.0764809505\\\\\n",
       "\tDILG & 0.3043623 &  0.1385605824 &  0.334740068 & -0.26555601 & -0.59149417 & -0.29806148 & -0.367529033 &  0.004789352 & -0.354685540 & -0.02389188 & -0.0735829555\\\\\n",
       "\tCFMG & 0.3026194 &  0.3100115588 &  0.019545609 & -0.47773553 &  0.08202695 & -0.10089374 &  0.722336184 &  0.035844452 & -0.026425045 & -0.20704699 & -0.0131126895\\\\\n",
       "\tDECI & 0.3019234 &  0.3364674872 &  0.054443551 & -0.38036525 &  0.39888902 &  0.44826185 & -0.452351620 & -0.199576677 &  0.150276288 &  0.13826398 & -0.0422633237\\\\\n",
       "\tPREP & 0.3094144 &  0.1252540296 &  0.229233996 &  0.20132809 & -0.08469611 & -0.33583565 &  0.006823921 &  0.068955312 &  0.717150217 &  0.25188457 &  0.3049299442\\\\\n",
       "\tFAMI & 0.3066761 &  0.1228593988 &  0.227525865 &  0.52405105 &  0.09943784 &  0.03818923 &  0.002372688 & -0.222092249 &  0.060538415 & -0.54400573 & -0.4518559528\\\\\n",
       "\tORAL & 0.3127088 & -0.0052082558 & -0.005507203 &  0.22936834 &  0.14642044 & -0.01945629 &  0.163555968 &  0.274475348 & -0.252450059 &  0.66684780 & -0.4660731103\\\\\n",
       "\tWRIT & 0.3110520 &  0.0002999784 &  0.148245297 &  0.31656247 &  0.23702291 &  0.07288963 &  0.060729628 & -0.099198510 & -0.492809116 &  0.01152927 &  0.6804727629\\\\\n",
       "\tPHYS & 0.2807447 &  0.2347983520 & -0.820161360 &  0.15475146 & -0.29791670 & -0.03755338 & -0.042123360 & -0.272363503 & -0.001096901 &  0.03061736 &  0.0487848868\\\\\n",
       "\tRTEN & 0.3097836 & -0.1527808928 & -0.201053522 & -0.01114254 & -0.03729716 &  0.23409315 & -0.159967574 &  0.797241835 &  0.071824676 & -0.33262222 &  0.0835119540\\\\\n",
       "\\end{tabular}\n"
      ],
      "text/markdown": [
       "\n",
       "A matrix: 11 × 11 of type dbl\n",
       "\n",
       "| <!--/--> | PC1 | PC2 | PC3 | PC4 | PC5 | PC6 | PC7 | PC8 | PC9 | PC10 | PC11 |\n",
       "|---|---|---|---|---|---|---|---|---|---|---|---|\n",
       "| INTG | 0.2885122 | -0.5744682517 |  0.117763148 | -0.08380834 | -0.37493974 |  0.50952871 |  0.229705308 | -0.284903977 |  0.145484887 |  0.10273495 | -0.0006869163 |\n",
       "| DMNR | 0.2868395 | -0.5763568072 | -0.176986952 | -0.23977262 |  0.39860809 | -0.51407811 | -0.167067325 | -0.169286228 | -0.005467441 | -0.10539158 | -0.0764809505 |\n",
       "| DILG | 0.3043623 |  0.1385605824 |  0.334740068 | -0.26555601 | -0.59149417 | -0.29806148 | -0.367529033 |  0.004789352 | -0.354685540 | -0.02389188 | -0.0735829555 |\n",
       "| CFMG | 0.3026194 |  0.3100115588 |  0.019545609 | -0.47773553 |  0.08202695 | -0.10089374 |  0.722336184 |  0.035844452 | -0.026425045 | -0.20704699 | -0.0131126895 |\n",
       "| DECI | 0.3019234 |  0.3364674872 |  0.054443551 | -0.38036525 |  0.39888902 |  0.44826185 | -0.452351620 | -0.199576677 |  0.150276288 |  0.13826398 | -0.0422633237 |\n",
       "| PREP | 0.3094144 |  0.1252540296 |  0.229233996 |  0.20132809 | -0.08469611 | -0.33583565 |  0.006823921 |  0.068955312 |  0.717150217 |  0.25188457 |  0.3049299442 |\n",
       "| FAMI | 0.3066761 |  0.1228593988 |  0.227525865 |  0.52405105 |  0.09943784 |  0.03818923 |  0.002372688 | -0.222092249 |  0.060538415 | -0.54400573 | -0.4518559528 |\n",
       "| ORAL | 0.3127088 | -0.0052082558 | -0.005507203 |  0.22936834 |  0.14642044 | -0.01945629 |  0.163555968 |  0.274475348 | -0.252450059 |  0.66684780 | -0.4660731103 |\n",
       "| WRIT | 0.3110520 |  0.0002999784 |  0.148245297 |  0.31656247 |  0.23702291 |  0.07288963 |  0.060729628 | -0.099198510 | -0.492809116 |  0.01152927 |  0.6804727629 |\n",
       "| PHYS | 0.2807447 |  0.2347983520 | -0.820161360 |  0.15475146 | -0.29791670 | -0.03755338 | -0.042123360 | -0.272363503 | -0.001096901 |  0.03061736 |  0.0487848868 |\n",
       "| RTEN | 0.3097836 | -0.1527808928 | -0.201053522 | -0.01114254 | -0.03729716 |  0.23409315 | -0.159967574 |  0.797241835 |  0.071824676 | -0.33262222 |  0.0835119540 |\n",
       "\n"
      ],
      "text/plain": [
       "     PC1       PC2           PC3          PC4         PC5         PC6        \n",
       "INTG 0.2885122 -0.5744682517  0.117763148 -0.08380834 -0.37493974  0.50952871\n",
       "DMNR 0.2868395 -0.5763568072 -0.176986952 -0.23977262  0.39860809 -0.51407811\n",
       "DILG 0.3043623  0.1385605824  0.334740068 -0.26555601 -0.59149417 -0.29806148\n",
       "CFMG 0.3026194  0.3100115588  0.019545609 -0.47773553  0.08202695 -0.10089374\n",
       "DECI 0.3019234  0.3364674872  0.054443551 -0.38036525  0.39888902  0.44826185\n",
       "PREP 0.3094144  0.1252540296  0.229233996  0.20132809 -0.08469611 -0.33583565\n",
       "FAMI 0.3066761  0.1228593988  0.227525865  0.52405105  0.09943784  0.03818923\n",
       "ORAL 0.3127088 -0.0052082558 -0.005507203  0.22936834  0.14642044 -0.01945629\n",
       "WRIT 0.3110520  0.0002999784  0.148245297  0.31656247  0.23702291  0.07288963\n",
       "PHYS 0.2807447  0.2347983520 -0.820161360  0.15475146 -0.29791670 -0.03755338\n",
       "RTEN 0.3097836 -0.1527808928 -0.201053522 -0.01114254 -0.03729716  0.23409315\n",
       "     PC7          PC8          PC9          PC10        PC11         \n",
       "INTG  0.229705308 -0.284903977  0.145484887  0.10273495 -0.0006869163\n",
       "DMNR -0.167067325 -0.169286228 -0.005467441 -0.10539158 -0.0764809505\n",
       "DILG -0.367529033  0.004789352 -0.354685540 -0.02389188 -0.0735829555\n",
       "CFMG  0.722336184  0.035844452 -0.026425045 -0.20704699 -0.0131126895\n",
       "DECI -0.452351620 -0.199576677  0.150276288  0.13826398 -0.0422633237\n",
       "PREP  0.006823921  0.068955312  0.717150217  0.25188457  0.3049299442\n",
       "FAMI  0.002372688 -0.222092249  0.060538415 -0.54400573 -0.4518559528\n",
       "ORAL  0.163555968  0.274475348 -0.252450059  0.66684780 -0.4660731103\n",
       "WRIT  0.060729628 -0.099198510 -0.492809116  0.01152927  0.6804727629\n",
       "PHYS -0.042123360 -0.272363503 -0.001096901  0.03061736  0.0487848868\n",
       "RTEN -0.159967574  0.797241835  0.071824676 -0.33262222  0.0835119540"
      ]
     },
     "metadata": {},
     "output_type": "display_data"
    }
   ],
   "source": [
    "# Apply prcomp() for principal components analysis\n",
    "pca <- prcomp(USJudgeRatings[, -1], scale = TRUE)\n",
    "\n",
    "# Inspect the variables obtained by linear combination of each component\n",
    "pca$rotation\n"
   ]
  },
  {
   "cell_type": "markdown",
   "metadata": {},
   "source": [
    "#### (b) Load the package ggbiplot and plot the two first components with the function ggbiplot(). You can label each point with the lawyer’s name by setting the labels parameter."
   ]
  },
  {
   "cell_type": "code",
   "execution_count": 28,
   "metadata": {},
   "outputs": [
    {
     "name": "stderr",
     "output_type": "stream",
     "text": [
      "Skipping install of 'ggbiplot' from a github remote, the SHA1 (7325e880) has not changed since last install.\n",
      "  Use `force = TRUE` to force installation\n",
      "\n",
      "Loading required package: ggplot2\n",
      "\n",
      "Loading required package: plyr\n",
      "\n",
      "------------------------------------------------------------------------------\n",
      "\n",
      "You have loaded plyr after dplyr - this is likely to cause problems.\n",
      "If you need functions from both plyr and dplyr, please load plyr first, then dplyr:\n",
      "library(plyr); library(dplyr)\n",
      "\n",
      "------------------------------------------------------------------------------\n",
      "\n",
      "\n",
      "Attaching package: 'plyr'\n",
      "\n",
      "\n",
      "The following objects are masked from 'package:dplyr':\n",
      "\n",
      "    arrange, count, desc, failwith, id, mutate, rename, summarise,\n",
      "    summarize\n",
      "\n",
      "\n",
      "Loading required package: scales\n",
      "\n",
      "Loading required package: grid\n",
      "\n"
     ]
    }
   ],
   "source": [
    "# Install the package from github\n",
    "remotes::install_github(\"vqv/ggbiplot\")\n",
    "# Load the package\n",
    "library(ggbiplot)"
   ]
  },
  {
   "cell_type": "code",
   "execution_count": 29,
   "metadata": {},
   "outputs": [
    {
     "data": {
      "image/png": "[encoded data removed]",
      "text/plain": [
       "plot without title"
      ]
     },
     "metadata": {
      "image/png": {
       "height": 420,
       "width": 420
      }
     },
     "output_type": "display_data"
    }
   ],
   "source": [
    "# Plot the first two components with labels\n",
    "ggbiplot(pca, choices = c(1, 2), obs.scale = 0.1, var.scale = 0.1, labels = rownames(USJudgeRatings))\n"
   ]
  }
 ],
 "metadata": {
  "anaconda-cloud": "",
  "kernelspec": {
   "display_name": "R",
   "language": "R",
   "name": "ir"
  },
  "language_info": {
   "codemirror_mode": "r",
   "file_extension": ".r",
   "mimetype": "text/x-r-source",
   "name": "R",
   "pygments_lexer": "r",
   "version": "4.3.0"
  }
 },
 "nbformat": 4,
 "nbformat_minor": 4
}
