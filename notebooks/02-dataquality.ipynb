{
 "cells": [
  {
   "cell_type": "markdown",
   "metadata": {},
   "source": [
    "# 2 Hands On: Data Quality and Pre-Processing\n",
    "\n",
    "## 1. Assessing Data Quality\n",
    "\n",
    "Load the following packages: dplyr, na.tools, tidyimpute (version from github decisionpatterns/tidyimpute\")\n"
   ]
  },
  {
   "cell_type": "code",
   "execution_count": 1,
   "metadata": {},
   "outputs": [
    {
     "name": "stderr",
     "output_type": "stream",
     "text": [
      "Installing packages into 'C:/Users/Paola/AppData/Local/R/win-library/4.3'\n",
      "(as 'lib' is unspecified)\n",
      "\n"
     ]
    },
    {
     "name": "stdout",
     "output_type": "stream",
     "text": [
      "package 'dplyr' successfully unpacked and MD5 sums checked\n",
      "package 'na.tools' successfully unpacked and MD5 sums checked\n",
      "\n",
      "The downloaded binary packages are in\n",
      "\tC:\\Users\\Paola\\AppData\\Local\\Temp\\RtmpY19noq\\downloaded_packages\n"
     ]
    },
    {
     "name": "stderr",
     "output_type": "stream",
     "text": [
      "\n",
      "Attaching package: 'dplyr'\n",
      "\n",
      "\n",
      "The following objects are masked from 'package:stats':\n",
      "\n",
      "    filter, lag\n",
      "\n",
      "\n",
      "The following objects are masked from 'package:base':\n",
      "\n",
      "    intersect, setdiff, setequal, union\n",
      "\n",
      "\n"
     ]
    }
   ],
   "source": [
    "# Install packages \n",
    "install.packages(c(\"dplyr\", \"na.tools\"))\n",
    "#Load packages\n",
    "library(dplyr)\n",
    "library(na.tools)\n"
   ]
  },
  {
   "cell_type": "markdown",
   "metadata": {},
   "source": [
    "\n"
   ]
  },
  {
   "cell_type": "code",
   "execution_count": 2,
   "metadata": {},
   "outputs": [
    {
     "name": "stderr",
     "output_type": "stream",
     "text": [
      "Installing package into 'C:/Users/Paola/AppData/Local/R/win-library/4.3'\n",
      "(as 'lib' is unspecified)\n",
      "\n"
     ]
    },
    {
     "name": "stdout",
     "output_type": "stream",
     "text": [
      "package 'remotes' successfully unpacked and MD5 sums checked\n",
      "\n",
      "The downloaded binary packages are in\n",
      "\tC:\\Users\\Paola\\AppData\\Local\\Temp\\RtmpY19noq\\downloaded_packages\n"
     ]
    },
    {
     "name": "stderr",
     "output_type": "stream",
     "text": [
      "Skipping install of 'tidyimpute' from a github remote, the SHA1 (9e07748f) has not changed since last install.\n",
      "  Use `force = TRUE` to force installation\n",
      "\n"
     ]
    }
   ],
   "source": [
    "#To install tidyimpute, install remotes \n",
    "install.packages(\"remotes\")\n",
    "# Install tidyimpute\n",
    "remotes::install_github(\"decisionpatterns/tidyimpute\")\n",
    "#Load package\n",
    "library(tidyimpute)\n"
   ]
  },
  {
   "cell_type": "markdown",
   "metadata": {},
   "source": [
    "\n"
   ]
  },
  {
   "cell_type": "markdown",
   "metadata": {},
   "source": [
    "Load the carInsurance data set about the insurance risk rating of cars based on several characteristics of each car.\n",
    "\n"
   ]
  },
  {
   "cell_type": "code",
   "execution_count": 7,
   "metadata": {},
   "outputs": [
    {
     "data": {
      "text/html": [
       "<table class=\"dataframe\">\n",
       "<caption>A data.frame: 10 × 26</caption>\n",
       "<thead>\n",
       "\t<tr><th></th><th scope=col>symb</th><th scope=col>normLoss</th><th scope=col>make</th><th scope=col>fuelType</th><th scope=col>aspiration</th><th scope=col>nDoors</th><th scope=col>bodyStyle</th><th scope=col>driveWheels</th><th scope=col>engineLocation</th><th scope=col>wheelBase</th><th scope=col>⋯</th><th scope=col>engineSize</th><th scope=col>fuelSystem</th><th scope=col>bore</th><th scope=col>stroke</th><th scope=col>compressionRatio</th><th scope=col>horsePower</th><th scope=col>peakRpm</th><th scope=col>cityMpg</th><th scope=col>highwayMpg</th><th scope=col>price</th></tr>\n",
       "\t<tr><th></th><th scope=col>&lt;int&gt;</th><th scope=col>&lt;int&gt;</th><th scope=col>&lt;fct&gt;</th><th scope=col>&lt;fct&gt;</th><th scope=col>&lt;fct&gt;</th><th scope=col>&lt;fct&gt;</th><th scope=col>&lt;fct&gt;</th><th scope=col>&lt;fct&gt;</th><th scope=col>&lt;fct&gt;</th><th scope=col>&lt;dbl&gt;</th><th scope=col>⋯</th><th scope=col>&lt;int&gt;</th><th scope=col>&lt;fct&gt;</th><th scope=col>&lt;dbl&gt;</th><th scope=col>&lt;dbl&gt;</th><th scope=col>&lt;dbl&gt;</th><th scope=col>&lt;int&gt;</th><th scope=col>&lt;int&gt;</th><th scope=col>&lt;int&gt;</th><th scope=col>&lt;int&gt;</th><th scope=col>&lt;int&gt;</th></tr>\n",
       "</thead>\n",
       "<tbody>\n",
       "\t<tr><th scope=row>1</th><td>3</td><td> NA</td><td>alfa-romero</td><td>gas</td><td>std  </td><td>two </td><td>convertible</td><td>rwd</td><td>front</td><td> 88.6</td><td>⋯</td><td>130</td><td>mpfi</td><td>3.47</td><td>2.68</td><td> 9.0</td><td>111</td><td>5000</td><td>21</td><td>27</td><td>13495</td></tr>\n",
       "\t<tr><th scope=row>2</th><td>3</td><td> NA</td><td>alfa-romero</td><td>gas</td><td>std  </td><td>two </td><td>convertible</td><td>rwd</td><td>front</td><td> 88.6</td><td>⋯</td><td>130</td><td>mpfi</td><td>3.47</td><td>2.68</td><td> 9.0</td><td>111</td><td>5000</td><td>21</td><td>27</td><td>16500</td></tr>\n",
       "\t<tr><th scope=row>3</th><td>1</td><td> NA</td><td>alfa-romero</td><td>gas</td><td>std  </td><td>two </td><td>hatchback  </td><td>rwd</td><td>front</td><td> 94.5</td><td>⋯</td><td>152</td><td>mpfi</td><td>2.68</td><td>3.47</td><td> 9.0</td><td>154</td><td>5000</td><td>19</td><td>26</td><td>16500</td></tr>\n",
       "\t<tr><th scope=row>4</th><td>2</td><td>164</td><td>audi       </td><td>gas</td><td>std  </td><td>four</td><td>sedan      </td><td>fwd</td><td>front</td><td> 99.8</td><td>⋯</td><td>109</td><td>mpfi</td><td>3.19</td><td>3.40</td><td>10.0</td><td>102</td><td>5500</td><td>24</td><td>30</td><td>13950</td></tr>\n",
       "\t<tr><th scope=row>5</th><td>2</td><td>164</td><td>audi       </td><td>gas</td><td>std  </td><td>four</td><td>sedan      </td><td>4wd</td><td>front</td><td> 99.4</td><td>⋯</td><td>136</td><td>mpfi</td><td>3.19</td><td>3.40</td><td> 8.0</td><td>115</td><td>5500</td><td>18</td><td>22</td><td>17450</td></tr>\n",
       "\t<tr><th scope=row>6</th><td>2</td><td> NA</td><td>audi       </td><td>gas</td><td>std  </td><td>two </td><td>sedan      </td><td>fwd</td><td>front</td><td> 99.8</td><td>⋯</td><td>136</td><td>mpfi</td><td>3.19</td><td>3.40</td><td> 8.5</td><td>110</td><td>5500</td><td>19</td><td>25</td><td>15250</td></tr>\n",
       "\t<tr><th scope=row>7</th><td>1</td><td>158</td><td>audi       </td><td>gas</td><td>std  </td><td>four</td><td>sedan      </td><td>fwd</td><td>front</td><td>105.8</td><td>⋯</td><td>136</td><td>mpfi</td><td>3.19</td><td>3.40</td><td> 8.5</td><td>110</td><td>5500</td><td>19</td><td>25</td><td>17710</td></tr>\n",
       "\t<tr><th scope=row>8</th><td>1</td><td> NA</td><td>audi       </td><td>gas</td><td>std  </td><td>four</td><td>wagon      </td><td>fwd</td><td>front</td><td>105.8</td><td>⋯</td><td>136</td><td>mpfi</td><td>3.19</td><td>3.40</td><td> 8.5</td><td>110</td><td>5500</td><td>19</td><td>25</td><td>18920</td></tr>\n",
       "\t<tr><th scope=row>9</th><td>1</td><td>158</td><td>audi       </td><td>gas</td><td>turbo</td><td>four</td><td>sedan      </td><td>fwd</td><td>front</td><td>105.8</td><td>⋯</td><td>131</td><td>mpfi</td><td>3.13</td><td>3.40</td><td> 8.3</td><td>140</td><td>5500</td><td>17</td><td>20</td><td>23875</td></tr>\n",
       "\t<tr><th scope=row>10</th><td>0</td><td> NA</td><td>audi       </td><td>gas</td><td>turbo</td><td>two </td><td>hatchback  </td><td>4wd</td><td>front</td><td> 99.5</td><td>⋯</td><td>131</td><td>mpfi</td><td>3.13</td><td>3.40</td><td> 7.0</td><td>160</td><td>5500</td><td>16</td><td>22</td><td>   NA</td></tr>\n",
       "</tbody>\n",
       "</table>\n"
      ],
      "text/latex": [
       "A data.frame: 10 × 26\n",
       "\\begin{tabular}{r|lllllllllllllllllllll}\n",
       "  & symb & normLoss & make & fuelType & aspiration & nDoors & bodyStyle & driveWheels & engineLocation & wheelBase & ⋯ & engineSize & fuelSystem & bore & stroke & compressionRatio & horsePower & peakRpm & cityMpg & highwayMpg & price\\\\\n",
       "  & <int> & <int> & <fct> & <fct> & <fct> & <fct> & <fct> & <fct> & <fct> & <dbl> & ⋯ & <int> & <fct> & <dbl> & <dbl> & <dbl> & <int> & <int> & <int> & <int> & <int>\\\\\n",
       "\\hline\n",
       "\t1 & 3 &  NA & alfa-romero & gas & std   & two  & convertible & rwd & front &  88.6 & ⋯ & 130 & mpfi & 3.47 & 2.68 &  9.0 & 111 & 5000 & 21 & 27 & 13495\\\\\n",
       "\t2 & 3 &  NA & alfa-romero & gas & std   & two  & convertible & rwd & front &  88.6 & ⋯ & 130 & mpfi & 3.47 & 2.68 &  9.0 & 111 & 5000 & 21 & 27 & 16500\\\\\n",
       "\t3 & 1 &  NA & alfa-romero & gas & std   & two  & hatchback   & rwd & front &  94.5 & ⋯ & 152 & mpfi & 2.68 & 3.47 &  9.0 & 154 & 5000 & 19 & 26 & 16500\\\\\n",
       "\t4 & 2 & 164 & audi        & gas & std   & four & sedan       & fwd & front &  99.8 & ⋯ & 109 & mpfi & 3.19 & 3.40 & 10.0 & 102 & 5500 & 24 & 30 & 13950\\\\\n",
       "\t5 & 2 & 164 & audi        & gas & std   & four & sedan       & 4wd & front &  99.4 & ⋯ & 136 & mpfi & 3.19 & 3.40 &  8.0 & 115 & 5500 & 18 & 22 & 17450\\\\\n",
       "\t6 & 2 &  NA & audi        & gas & std   & two  & sedan       & fwd & front &  99.8 & ⋯ & 136 & mpfi & 3.19 & 3.40 &  8.5 & 110 & 5500 & 19 & 25 & 15250\\\\\n",
       "\t7 & 1 & 158 & audi        & gas & std   & four & sedan       & fwd & front & 105.8 & ⋯ & 136 & mpfi & 3.19 & 3.40 &  8.5 & 110 & 5500 & 19 & 25 & 17710\\\\\n",
       "\t8 & 1 &  NA & audi        & gas & std   & four & wagon       & fwd & front & 105.8 & ⋯ & 136 & mpfi & 3.19 & 3.40 &  8.5 & 110 & 5500 & 19 & 25 & 18920\\\\\n",
       "\t9 & 1 & 158 & audi        & gas & turbo & four & sedan       & fwd & front & 105.8 & ⋯ & 131 & mpfi & 3.13 & 3.40 &  8.3 & 140 & 5500 & 17 & 20 & 23875\\\\\n",
       "\t10 & 0 &  NA & audi        & gas & turbo & two  & hatchback   & 4wd & front &  99.5 & ⋯ & 131 & mpfi & 3.13 & 3.40 &  7.0 & 160 & 5500 & 16 & 22 &    NA\\\\\n",
       "\\end{tabular}\n"
      ],
      "text/markdown": [
       "\n",
       "A data.frame: 10 × 26\n",
       "\n",
       "| <!--/--> | symb &lt;int&gt; | normLoss &lt;int&gt; | make &lt;fct&gt; | fuelType &lt;fct&gt; | aspiration &lt;fct&gt; | nDoors &lt;fct&gt; | bodyStyle &lt;fct&gt; | driveWheels &lt;fct&gt; | engineLocation &lt;fct&gt; | wheelBase &lt;dbl&gt; | ⋯ ⋯ | engineSize &lt;int&gt; | fuelSystem &lt;fct&gt; | bore &lt;dbl&gt; | stroke &lt;dbl&gt; | compressionRatio &lt;dbl&gt; | horsePower &lt;int&gt; | peakRpm &lt;int&gt; | cityMpg &lt;int&gt; | highwayMpg &lt;int&gt; | price &lt;int&gt; |\n",
       "|---|---|---|---|---|---|---|---|---|---|---|---|---|---|---|---|---|---|---|---|---|---|\n",
       "| 1 | 3 |  NA | alfa-romero | gas | std   | two  | convertible | rwd | front |  88.6 | ⋯ | 130 | mpfi | 3.47 | 2.68 |  9.0 | 111 | 5000 | 21 | 27 | 13495 |\n",
       "| 2 | 3 |  NA | alfa-romero | gas | std   | two  | convertible | rwd | front |  88.6 | ⋯ | 130 | mpfi | 3.47 | 2.68 |  9.0 | 111 | 5000 | 21 | 27 | 16500 |\n",
       "| 3 | 1 |  NA | alfa-romero | gas | std   | two  | hatchback   | rwd | front |  94.5 | ⋯ | 152 | mpfi | 2.68 | 3.47 |  9.0 | 154 | 5000 | 19 | 26 | 16500 |\n",
       "| 4 | 2 | 164 | audi        | gas | std   | four | sedan       | fwd | front |  99.8 | ⋯ | 109 | mpfi | 3.19 | 3.40 | 10.0 | 102 | 5500 | 24 | 30 | 13950 |\n",
       "| 5 | 2 | 164 | audi        | gas | std   | four | sedan       | 4wd | front |  99.4 | ⋯ | 136 | mpfi | 3.19 | 3.40 |  8.0 | 115 | 5500 | 18 | 22 | 17450 |\n",
       "| 6 | 2 |  NA | audi        | gas | std   | two  | sedan       | fwd | front |  99.8 | ⋯ | 136 | mpfi | 3.19 | 3.40 |  8.5 | 110 | 5500 | 19 | 25 | 15250 |\n",
       "| 7 | 1 | 158 | audi        | gas | std   | four | sedan       | fwd | front | 105.8 | ⋯ | 136 | mpfi | 3.19 | 3.40 |  8.5 | 110 | 5500 | 19 | 25 | 17710 |\n",
       "| 8 | 1 |  NA | audi        | gas | std   | four | wagon       | fwd | front | 105.8 | ⋯ | 136 | mpfi | 3.19 | 3.40 |  8.5 | 110 | 5500 | 19 | 25 | 18920 |\n",
       "| 9 | 1 | 158 | audi        | gas | turbo | four | sedan       | fwd | front | 105.8 | ⋯ | 131 | mpfi | 3.13 | 3.40 |  8.3 | 140 | 5500 | 17 | 20 | 23875 |\n",
       "| 10 | 0 |  NA | audi        | gas | turbo | two  | hatchback   | 4wd | front |  99.5 | ⋯ | 131 | mpfi | 3.13 | 3.40 |  7.0 | 160 | 5500 | 16 | 22 |    NA |\n",
       "\n"
      ],
      "text/plain": [
       "   symb normLoss make        fuelType aspiration nDoors bodyStyle   driveWheels\n",
       "1  3     NA      alfa-romero gas      std        two    convertible rwd        \n",
       "2  3     NA      alfa-romero gas      std        two    convertible rwd        \n",
       "3  1     NA      alfa-romero gas      std        two    hatchback   rwd        \n",
       "4  2    164      audi        gas      std        four   sedan       fwd        \n",
       "5  2    164      audi        gas      std        four   sedan       4wd        \n",
       "6  2     NA      audi        gas      std        two    sedan       fwd        \n",
       "7  1    158      audi        gas      std        four   sedan       fwd        \n",
       "8  1     NA      audi        gas      std        four   wagon       fwd        \n",
       "9  1    158      audi        gas      turbo      four   sedan       fwd        \n",
       "10 0     NA      audi        gas      turbo      two    hatchback   4wd        \n",
       "   engineLocation wheelBase ⋯ engineSize fuelSystem bore stroke\n",
       "1  front           88.6     ⋯ 130        mpfi       3.47 2.68  \n",
       "2  front           88.6     ⋯ 130        mpfi       3.47 2.68  \n",
       "3  front           94.5     ⋯ 152        mpfi       2.68 3.47  \n",
       "4  front           99.8     ⋯ 109        mpfi       3.19 3.40  \n",
       "5  front           99.4     ⋯ 136        mpfi       3.19 3.40  \n",
       "6  front           99.8     ⋯ 136        mpfi       3.19 3.40  \n",
       "7  front          105.8     ⋯ 136        mpfi       3.19 3.40  \n",
       "8  front          105.8     ⋯ 136        mpfi       3.19 3.40  \n",
       "9  front          105.8     ⋯ 131        mpfi       3.13 3.40  \n",
       "10 front           99.5     ⋯ 131        mpfi       3.13 3.40  \n",
       "   compressionRatio horsePower peakRpm cityMpg highwayMpg price\n",
       "1   9.0             111        5000    21      27         13495\n",
       "2   9.0             111        5000    21      27         16500\n",
       "3   9.0             154        5000    19      26         16500\n",
       "4  10.0             102        5500    24      30         13950\n",
       "5   8.0             115        5500    18      22         17450\n",
       "6   8.5             110        5500    19      25         15250\n",
       "7   8.5             110        5500    19      25         17710\n",
       "8   8.5             110        5500    19      25         18920\n",
       "9   8.3             140        5500    17      20         23875\n",
       "10  7.0             160        5500    16      22            NA"
      ]
     },
     "metadata": {},
     "output_type": "display_data"
    }
   ],
   "source": [
    "#Load the data set\n",
    "load(\"C:/Users/Paola/Documents/GitHub/hands-on-2023A/data/02_dataquality/carInsurance.Rdata\")\n",
    "\n",
    "# Convert the loaded object to a data frame \n",
    "df <- as.data.frame(carIns)\n",
    "\n",
    "# Write the data frame to a CSV file\n",
    "write.csv(df, \"carInsurance.csv\", row.names = FALSE)\n",
    "\n",
    "#Check the new file .csv\n",
    "head(df, 10)"
   ]
  },
  {
   "cell_type": "markdown",
   "metadata": {},
   "source": [
    "### (a) Check if there are any missing values.Tip: use the function any_na()."
   ]
  },
  {
   "cell_type": "code",
   "execution_count": 13,
   "metadata": {},
   "outputs": [
    {
     "name": "stdout",
     "output_type": "stream",
     "text": [
      "[1] \"There are missing values in the dataset.\"\n"
     ]
    }
   ],
   "source": [
    "# Check for missing values\n",
    "if (any_na(df)) {\n",
    "  print(\"There are missing values in the dataset.\")\n",
    "} else {\n",
    "  print(\"There are no missing values in the dataset.\")\n",
    "}\n"
   ]
  },
  {
   "cell_type": "markdown",
   "metadata": {},
   "source": [
    "### (b) Count the number of cases that have, at least, one missing value.Tip: use the function filter_any_na() and then count().\n"
   ]
  },
  {
   "cell_type": "code",
   "execution_count": 14,
   "metadata": {},
   "outputs": [
    {
     "name": "stdout",
     "output_type": "stream",
     "text": [
      "    n\n",
      "1 159\n"
     ]
    }
   ],
   "source": [
    "# Filter cases with at least one missing value and count them\n",
    "missing_cases <- df %>% filter_any_na() %>% count()\n",
    "\n",
    "# Print the number of cases with missing values\n",
    "print(missing_cases)\n"
   ]
  },
  {
   "cell_type": "markdown",
   "metadata": {},
   "source": [
    "### (c) Create a new data set by removing all the cases that have missing values.Tip: use the function drop_rows_any_na()"
   ]
  },
  {
   "cell_type": "code",
   "execution_count": 46,
   "metadata": {
    "tags": []
   },
   "outputs": [
    {
     "data": {
      "text/html": [
       "<table class=\"dataframe\">\n",
       "<caption>A data.frame: 10 × 26</caption>\n",
       "<thead>\n",
       "\t<tr><th></th><th scope=col>symb</th><th scope=col>normLoss</th><th scope=col>make</th><th scope=col>fuelType</th><th scope=col>aspiration</th><th scope=col>nDoors</th><th scope=col>bodyStyle</th><th scope=col>driveWheels</th><th scope=col>engineLocation</th><th scope=col>wheelBase</th><th scope=col>⋯</th><th scope=col>engineSize</th><th scope=col>fuelSystem</th><th scope=col>bore</th><th scope=col>stroke</th><th scope=col>compressionRatio</th><th scope=col>horsePower</th><th scope=col>peakRpm</th><th scope=col>cityMpg</th><th scope=col>highwayMpg</th><th scope=col>price</th></tr>\n",
       "\t<tr><th></th><th scope=col>&lt;int&gt;</th><th scope=col>&lt;int&gt;</th><th scope=col>&lt;fct&gt;</th><th scope=col>&lt;fct&gt;</th><th scope=col>&lt;fct&gt;</th><th scope=col>&lt;fct&gt;</th><th scope=col>&lt;fct&gt;</th><th scope=col>&lt;fct&gt;</th><th scope=col>&lt;fct&gt;</th><th scope=col>&lt;dbl&gt;</th><th scope=col>⋯</th><th scope=col>&lt;int&gt;</th><th scope=col>&lt;fct&gt;</th><th scope=col>&lt;dbl&gt;</th><th scope=col>&lt;dbl&gt;</th><th scope=col>&lt;dbl&gt;</th><th scope=col>&lt;int&gt;</th><th scope=col>&lt;int&gt;</th><th scope=col>&lt;int&gt;</th><th scope=col>&lt;int&gt;</th><th scope=col>&lt;int&gt;</th></tr>\n",
       "</thead>\n",
       "<tbody>\n",
       "\t<tr><th scope=row>4</th><td>2</td><td>164</td><td>audi     </td><td>gas</td><td>std  </td><td>four</td><td>sedan    </td><td>fwd</td><td>front</td><td> 99.8</td><td>⋯</td><td>109</td><td>mpfi</td><td>3.19</td><td>3.40</td><td>10.0</td><td>102</td><td>5500</td><td>24</td><td>30</td><td>13950</td></tr>\n",
       "\t<tr><th scope=row>5</th><td>2</td><td>164</td><td>audi     </td><td>gas</td><td>std  </td><td>four</td><td>sedan    </td><td>4wd</td><td>front</td><td> 99.4</td><td>⋯</td><td>136</td><td>mpfi</td><td>3.19</td><td>3.40</td><td> 8.0</td><td>115</td><td>5500</td><td>18</td><td>22</td><td>17450</td></tr>\n",
       "\t<tr><th scope=row>7</th><td>1</td><td>158</td><td>audi     </td><td>gas</td><td>std  </td><td>four</td><td>sedan    </td><td>fwd</td><td>front</td><td>105.8</td><td>⋯</td><td>136</td><td>mpfi</td><td>3.19</td><td>3.40</td><td> 8.5</td><td>110</td><td>5500</td><td>19</td><td>25</td><td>17710</td></tr>\n",
       "\t<tr><th scope=row>9</th><td>1</td><td>158</td><td>audi     </td><td>gas</td><td>turbo</td><td>four</td><td>sedan    </td><td>fwd</td><td>front</td><td>105.8</td><td>⋯</td><td>131</td><td>mpfi</td><td>3.13</td><td>3.40</td><td> 8.3</td><td>140</td><td>5500</td><td>17</td><td>20</td><td>23875</td></tr>\n",
       "\t<tr><th scope=row>11</th><td>2</td><td>192</td><td>bmw      </td><td>gas</td><td>std  </td><td>two </td><td>sedan    </td><td>rwd</td><td>front</td><td>101.2</td><td>⋯</td><td>108</td><td>mpfi</td><td>3.50</td><td>2.80</td><td> 8.8</td><td>101</td><td>5800</td><td>23</td><td>29</td><td>16430</td></tr>\n",
       "\t<tr><th scope=row>12</th><td>0</td><td>192</td><td>bmw      </td><td>gas</td><td>std  </td><td>four</td><td>sedan    </td><td>rwd</td><td>front</td><td>101.2</td><td>⋯</td><td>108</td><td>mpfi</td><td>3.50</td><td>2.80</td><td> 8.8</td><td>101</td><td>5800</td><td>23</td><td>29</td><td>16925</td></tr>\n",
       "\t<tr><th scope=row>13</th><td>0</td><td>188</td><td>bmw      </td><td>gas</td><td>std  </td><td>two </td><td>sedan    </td><td>rwd</td><td>front</td><td>101.2</td><td>⋯</td><td>164</td><td>mpfi</td><td>3.31</td><td>3.19</td><td> 9.0</td><td>121</td><td>4250</td><td>21</td><td>28</td><td>20970</td></tr>\n",
       "\t<tr><th scope=row>14</th><td>0</td><td>188</td><td>bmw      </td><td>gas</td><td>std  </td><td>four</td><td>sedan    </td><td>rwd</td><td>front</td><td>101.2</td><td>⋯</td><td>164</td><td>mpfi</td><td>3.31</td><td>3.19</td><td> 9.0</td><td>121</td><td>4250</td><td>21</td><td>28</td><td>21105</td></tr>\n",
       "\t<tr><th scope=row>19</th><td>2</td><td>121</td><td>chevrolet</td><td>gas</td><td>std  </td><td>two </td><td>hatchback</td><td>fwd</td><td>front</td><td> 88.4</td><td>⋯</td><td> 61</td><td>2bbl</td><td>2.91</td><td>3.03</td><td> 9.5</td><td> 48</td><td>5100</td><td>47</td><td>53</td><td> 5151</td></tr>\n",
       "\t<tr><th scope=row>20</th><td>1</td><td> 98</td><td>chevrolet</td><td>gas</td><td>std  </td><td>two </td><td>hatchback</td><td>fwd</td><td>front</td><td> 94.5</td><td>⋯</td><td> 90</td><td>2bbl</td><td>3.03</td><td>3.11</td><td> 9.6</td><td> 70</td><td>5400</td><td>38</td><td>43</td><td> 6295</td></tr>\n",
       "</tbody>\n",
       "</table>\n"
      ],
      "text/latex": [
       "A data.frame: 10 × 26\n",
       "\\begin{tabular}{r|lllllllllllllllllllll}\n",
       "  & symb & normLoss & make & fuelType & aspiration & nDoors & bodyStyle & driveWheels & engineLocation & wheelBase & ⋯ & engineSize & fuelSystem & bore & stroke & compressionRatio & horsePower & peakRpm & cityMpg & highwayMpg & price\\\\\n",
       "  & <int> & <int> & <fct> & <fct> & <fct> & <fct> & <fct> & <fct> & <fct> & <dbl> & ⋯ & <int> & <fct> & <dbl> & <dbl> & <dbl> & <int> & <int> & <int> & <int> & <int>\\\\\n",
       "\\hline\n",
       "\t4 & 2 & 164 & audi      & gas & std   & four & sedan     & fwd & front &  99.8 & ⋯ & 109 & mpfi & 3.19 & 3.40 & 10.0 & 102 & 5500 & 24 & 30 & 13950\\\\\n",
       "\t5 & 2 & 164 & audi      & gas & std   & four & sedan     & 4wd & front &  99.4 & ⋯ & 136 & mpfi & 3.19 & 3.40 &  8.0 & 115 & 5500 & 18 & 22 & 17450\\\\\n",
       "\t7 & 1 & 158 & audi      & gas & std   & four & sedan     & fwd & front & 105.8 & ⋯ & 136 & mpfi & 3.19 & 3.40 &  8.5 & 110 & 5500 & 19 & 25 & 17710\\\\\n",
       "\t9 & 1 & 158 & audi      & gas & turbo & four & sedan     & fwd & front & 105.8 & ⋯ & 131 & mpfi & 3.13 & 3.40 &  8.3 & 140 & 5500 & 17 & 20 & 23875\\\\\n",
       "\t11 & 2 & 192 & bmw       & gas & std   & two  & sedan     & rwd & front & 101.2 & ⋯ & 108 & mpfi & 3.50 & 2.80 &  8.8 & 101 & 5800 & 23 & 29 & 16430\\\\\n",
       "\t12 & 0 & 192 & bmw       & gas & std   & four & sedan     & rwd & front & 101.2 & ⋯ & 108 & mpfi & 3.50 & 2.80 &  8.8 & 101 & 5800 & 23 & 29 & 16925\\\\\n",
       "\t13 & 0 & 188 & bmw       & gas & std   & two  & sedan     & rwd & front & 101.2 & ⋯ & 164 & mpfi & 3.31 & 3.19 &  9.0 & 121 & 4250 & 21 & 28 & 20970\\\\\n",
       "\t14 & 0 & 188 & bmw       & gas & std   & four & sedan     & rwd & front & 101.2 & ⋯ & 164 & mpfi & 3.31 & 3.19 &  9.0 & 121 & 4250 & 21 & 28 & 21105\\\\\n",
       "\t19 & 2 & 121 & chevrolet & gas & std   & two  & hatchback & fwd & front &  88.4 & ⋯ &  61 & 2bbl & 2.91 & 3.03 &  9.5 &  48 & 5100 & 47 & 53 &  5151\\\\\n",
       "\t20 & 1 &  98 & chevrolet & gas & std   & two  & hatchback & fwd & front &  94.5 & ⋯ &  90 & 2bbl & 3.03 & 3.11 &  9.6 &  70 & 5400 & 38 & 43 &  6295\\\\\n",
       "\\end{tabular}\n"
      ],
      "text/markdown": [
       "\n",
       "A data.frame: 10 × 26\n",
       "\n",
       "| <!--/--> | symb &lt;int&gt; | normLoss &lt;int&gt; | make &lt;fct&gt; | fuelType &lt;fct&gt; | aspiration &lt;fct&gt; | nDoors &lt;fct&gt; | bodyStyle &lt;fct&gt; | driveWheels &lt;fct&gt; | engineLocation &lt;fct&gt; | wheelBase &lt;dbl&gt; | ⋯ ⋯ | engineSize &lt;int&gt; | fuelSystem &lt;fct&gt; | bore &lt;dbl&gt; | stroke &lt;dbl&gt; | compressionRatio &lt;dbl&gt; | horsePower &lt;int&gt; | peakRpm &lt;int&gt; | cityMpg &lt;int&gt; | highwayMpg &lt;int&gt; | price &lt;int&gt; |\n",
       "|---|---|---|---|---|---|---|---|---|---|---|---|---|---|---|---|---|---|---|---|---|---|\n",
       "| 4 | 2 | 164 | audi      | gas | std   | four | sedan     | fwd | front |  99.8 | ⋯ | 109 | mpfi | 3.19 | 3.40 | 10.0 | 102 | 5500 | 24 | 30 | 13950 |\n",
       "| 5 | 2 | 164 | audi      | gas | std   | four | sedan     | 4wd | front |  99.4 | ⋯ | 136 | mpfi | 3.19 | 3.40 |  8.0 | 115 | 5500 | 18 | 22 | 17450 |\n",
       "| 7 | 1 | 158 | audi      | gas | std   | four | sedan     | fwd | front | 105.8 | ⋯ | 136 | mpfi | 3.19 | 3.40 |  8.5 | 110 | 5500 | 19 | 25 | 17710 |\n",
       "| 9 | 1 | 158 | audi      | gas | turbo | four | sedan     | fwd | front | 105.8 | ⋯ | 131 | mpfi | 3.13 | 3.40 |  8.3 | 140 | 5500 | 17 | 20 | 23875 |\n",
       "| 11 | 2 | 192 | bmw       | gas | std   | two  | sedan     | rwd | front | 101.2 | ⋯ | 108 | mpfi | 3.50 | 2.80 |  8.8 | 101 | 5800 | 23 | 29 | 16430 |\n",
       "| 12 | 0 | 192 | bmw       | gas | std   | four | sedan     | rwd | front | 101.2 | ⋯ | 108 | mpfi | 3.50 | 2.80 |  8.8 | 101 | 5800 | 23 | 29 | 16925 |\n",
       "| 13 | 0 | 188 | bmw       | gas | std   | two  | sedan     | rwd | front | 101.2 | ⋯ | 164 | mpfi | 3.31 | 3.19 |  9.0 | 121 | 4250 | 21 | 28 | 20970 |\n",
       "| 14 | 0 | 188 | bmw       | gas | std   | four | sedan     | rwd | front | 101.2 | ⋯ | 164 | mpfi | 3.31 | 3.19 |  9.0 | 121 | 4250 | 21 | 28 | 21105 |\n",
       "| 19 | 2 | 121 | chevrolet | gas | std   | two  | hatchback | fwd | front |  88.4 | ⋯ |  61 | 2bbl | 2.91 | 3.03 |  9.5 |  48 | 5100 | 47 | 53 |  5151 |\n",
       "| 20 | 1 |  98 | chevrolet | gas | std   | two  | hatchback | fwd | front |  94.5 | ⋯ |  90 | 2bbl | 3.03 | 3.11 |  9.6 |  70 | 5400 | 38 | 43 |  6295 |\n",
       "\n"
      ],
      "text/plain": [
       "   symb normLoss make      fuelType aspiration nDoors bodyStyle driveWheels\n",
       "4  2    164      audi      gas      std        four   sedan     fwd        \n",
       "5  2    164      audi      gas      std        four   sedan     4wd        \n",
       "7  1    158      audi      gas      std        four   sedan     fwd        \n",
       "9  1    158      audi      gas      turbo      four   sedan     fwd        \n",
       "11 2    192      bmw       gas      std        two    sedan     rwd        \n",
       "12 0    192      bmw       gas      std        four   sedan     rwd        \n",
       "13 0    188      bmw       gas      std        two    sedan     rwd        \n",
       "14 0    188      bmw       gas      std        four   sedan     rwd        \n",
       "19 2    121      chevrolet gas      std        two    hatchback fwd        \n",
       "20 1     98      chevrolet gas      std        two    hatchback fwd        \n",
       "   engineLocation wheelBase ⋯ engineSize fuelSystem bore stroke\n",
       "4  front           99.8     ⋯ 109        mpfi       3.19 3.40  \n",
       "5  front           99.4     ⋯ 136        mpfi       3.19 3.40  \n",
       "7  front          105.8     ⋯ 136        mpfi       3.19 3.40  \n",
       "9  front          105.8     ⋯ 131        mpfi       3.13 3.40  \n",
       "11 front          101.2     ⋯ 108        mpfi       3.50 2.80  \n",
       "12 front          101.2     ⋯ 108        mpfi       3.50 2.80  \n",
       "13 front          101.2     ⋯ 164        mpfi       3.31 3.19  \n",
       "14 front          101.2     ⋯ 164        mpfi       3.31 3.19  \n",
       "19 front           88.4     ⋯  61        2bbl       2.91 3.03  \n",
       "20 front           94.5     ⋯  90        2bbl       3.03 3.11  \n",
       "   compressionRatio horsePower peakRpm cityMpg highwayMpg price\n",
       "4  10.0             102        5500    24      30         13950\n",
       "5   8.0             115        5500    18      22         17450\n",
       "7   8.5             110        5500    19      25         17710\n",
       "9   8.3             140        5500    17      20         23875\n",
       "11  8.8             101        5800    23      29         16430\n",
       "12  8.8             101        5800    23      29         16925\n",
       "13  9.0             121        4250    21      28         20970\n",
       "14  9.0             121        4250    21      28         21105\n",
       "19  9.5              48        5100    47      53          5151\n",
       "20  9.6              70        5400    38      43          6295"
      ]
     },
     "metadata": {},
     "output_type": "display_data"
    }
   ],
   "source": [
    "# Create a new dataset without missing values\n",
    "new_df <- drop_rows_any_na(df)\n",
    "#Print the first 10 rows\n",
    "head(new_df,10)\n"
   ]
  },
  {
   "cell_type": "markdown",
   "metadata": {},
   "source": [
    "### (d) Create a new data set by imputing all the missing values with 0. Tip: explore the variants of the function impute()\n"
   ]
  },
  {
   "cell_type": "code",
   "execution_count": 47,
   "metadata": {},
   "outputs": [
    {
     "data": {
      "text/html": [
       "<table class=\"dataframe\">\n",
       "<caption>A data.frame: 10 × 26</caption>\n",
       "<thead>\n",
       "\t<tr><th></th><th scope=col>symb</th><th scope=col>normLoss</th><th scope=col>make</th><th scope=col>fuelType</th><th scope=col>aspiration</th><th scope=col>nDoors</th><th scope=col>bodyStyle</th><th scope=col>driveWheels</th><th scope=col>engineLocation</th><th scope=col>wheelBase</th><th scope=col>⋯</th><th scope=col>engineSize</th><th scope=col>fuelSystem</th><th scope=col>bore</th><th scope=col>stroke</th><th scope=col>compressionRatio</th><th scope=col>horsePower</th><th scope=col>peakRpm</th><th scope=col>cityMpg</th><th scope=col>highwayMpg</th><th scope=col>price</th></tr>\n",
       "\t<tr><th></th><th scope=col>&lt;int&gt;</th><th scope=col>&lt;int&gt;</th><th scope=col>&lt;fct&gt;</th><th scope=col>&lt;fct&gt;</th><th scope=col>&lt;fct&gt;</th><th scope=col>&lt;fct&gt;</th><th scope=col>&lt;fct&gt;</th><th scope=col>&lt;fct&gt;</th><th scope=col>&lt;fct&gt;</th><th scope=col>&lt;dbl&gt;</th><th scope=col>⋯</th><th scope=col>&lt;int&gt;</th><th scope=col>&lt;fct&gt;</th><th scope=col>&lt;dbl&gt;</th><th scope=col>&lt;dbl&gt;</th><th scope=col>&lt;dbl&gt;</th><th scope=col>&lt;int&gt;</th><th scope=col>&lt;int&gt;</th><th scope=col>&lt;int&gt;</th><th scope=col>&lt;int&gt;</th><th scope=col>&lt;int&gt;</th></tr>\n",
       "</thead>\n",
       "<tbody>\n",
       "\t<tr><th scope=row>4</th><td>2</td><td>164</td><td>audi     </td><td>gas</td><td>std  </td><td>four</td><td>sedan    </td><td>fwd</td><td>front</td><td> 99.8</td><td>⋯</td><td>109</td><td>mpfi</td><td>3.19</td><td>3.40</td><td>10.0</td><td>102</td><td>5500</td><td>24</td><td>30</td><td>13950</td></tr>\n",
       "\t<tr><th scope=row>5</th><td>2</td><td>164</td><td>audi     </td><td>gas</td><td>std  </td><td>four</td><td>sedan    </td><td>4wd</td><td>front</td><td> 99.4</td><td>⋯</td><td>136</td><td>mpfi</td><td>3.19</td><td>3.40</td><td> 8.0</td><td>115</td><td>5500</td><td>18</td><td>22</td><td>17450</td></tr>\n",
       "\t<tr><th scope=row>7</th><td>1</td><td>158</td><td>audi     </td><td>gas</td><td>std  </td><td>four</td><td>sedan    </td><td>fwd</td><td>front</td><td>105.8</td><td>⋯</td><td>136</td><td>mpfi</td><td>3.19</td><td>3.40</td><td> 8.5</td><td>110</td><td>5500</td><td>19</td><td>25</td><td>17710</td></tr>\n",
       "\t<tr><th scope=row>9</th><td>1</td><td>158</td><td>audi     </td><td>gas</td><td>turbo</td><td>four</td><td>sedan    </td><td>fwd</td><td>front</td><td>105.8</td><td>⋯</td><td>131</td><td>mpfi</td><td>3.13</td><td>3.40</td><td> 8.3</td><td>140</td><td>5500</td><td>17</td><td>20</td><td>23875</td></tr>\n",
       "\t<tr><th scope=row>11</th><td>2</td><td>192</td><td>bmw      </td><td>gas</td><td>std  </td><td>two </td><td>sedan    </td><td>rwd</td><td>front</td><td>101.2</td><td>⋯</td><td>108</td><td>mpfi</td><td>3.50</td><td>2.80</td><td> 8.8</td><td>101</td><td>5800</td><td>23</td><td>29</td><td>16430</td></tr>\n",
       "\t<tr><th scope=row>12</th><td>0</td><td>192</td><td>bmw      </td><td>gas</td><td>std  </td><td>four</td><td>sedan    </td><td>rwd</td><td>front</td><td>101.2</td><td>⋯</td><td>108</td><td>mpfi</td><td>3.50</td><td>2.80</td><td> 8.8</td><td>101</td><td>5800</td><td>23</td><td>29</td><td>16925</td></tr>\n",
       "\t<tr><th scope=row>13</th><td>0</td><td>188</td><td>bmw      </td><td>gas</td><td>std  </td><td>two </td><td>sedan    </td><td>rwd</td><td>front</td><td>101.2</td><td>⋯</td><td>164</td><td>mpfi</td><td>3.31</td><td>3.19</td><td> 9.0</td><td>121</td><td>4250</td><td>21</td><td>28</td><td>20970</td></tr>\n",
       "\t<tr><th scope=row>14</th><td>0</td><td>188</td><td>bmw      </td><td>gas</td><td>std  </td><td>four</td><td>sedan    </td><td>rwd</td><td>front</td><td>101.2</td><td>⋯</td><td>164</td><td>mpfi</td><td>3.31</td><td>3.19</td><td> 9.0</td><td>121</td><td>4250</td><td>21</td><td>28</td><td>21105</td></tr>\n",
       "\t<tr><th scope=row>19</th><td>2</td><td>121</td><td>chevrolet</td><td>gas</td><td>std  </td><td>two </td><td>hatchback</td><td>fwd</td><td>front</td><td> 88.4</td><td>⋯</td><td> 61</td><td>2bbl</td><td>2.91</td><td>3.03</td><td> 9.5</td><td> 48</td><td>5100</td><td>47</td><td>53</td><td> 5151</td></tr>\n",
       "\t<tr><th scope=row>20</th><td>1</td><td> 98</td><td>chevrolet</td><td>gas</td><td>std  </td><td>two </td><td>hatchback</td><td>fwd</td><td>front</td><td> 94.5</td><td>⋯</td><td> 90</td><td>2bbl</td><td>3.03</td><td>3.11</td><td> 9.6</td><td> 70</td><td>5400</td><td>38</td><td>43</td><td> 6295</td></tr>\n",
       "</tbody>\n",
       "</table>\n"
      ],
      "text/latex": [
       "A data.frame: 10 × 26\n",
       "\\begin{tabular}{r|lllllllllllllllllllll}\n",
       "  & symb & normLoss & make & fuelType & aspiration & nDoors & bodyStyle & driveWheels & engineLocation & wheelBase & ⋯ & engineSize & fuelSystem & bore & stroke & compressionRatio & horsePower & peakRpm & cityMpg & highwayMpg & price\\\\\n",
       "  & <int> & <int> & <fct> & <fct> & <fct> & <fct> & <fct> & <fct> & <fct> & <dbl> & ⋯ & <int> & <fct> & <dbl> & <dbl> & <dbl> & <int> & <int> & <int> & <int> & <int>\\\\\n",
       "\\hline\n",
       "\t4 & 2 & 164 & audi      & gas & std   & four & sedan     & fwd & front &  99.8 & ⋯ & 109 & mpfi & 3.19 & 3.40 & 10.0 & 102 & 5500 & 24 & 30 & 13950\\\\\n",
       "\t5 & 2 & 164 & audi      & gas & std   & four & sedan     & 4wd & front &  99.4 & ⋯ & 136 & mpfi & 3.19 & 3.40 &  8.0 & 115 & 5500 & 18 & 22 & 17450\\\\\n",
       "\t7 & 1 & 158 & audi      & gas & std   & four & sedan     & fwd & front & 105.8 & ⋯ & 136 & mpfi & 3.19 & 3.40 &  8.5 & 110 & 5500 & 19 & 25 & 17710\\\\\n",
       "\t9 & 1 & 158 & audi      & gas & turbo & four & sedan     & fwd & front & 105.8 & ⋯ & 131 & mpfi & 3.13 & 3.40 &  8.3 & 140 & 5500 & 17 & 20 & 23875\\\\\n",
       "\t11 & 2 & 192 & bmw       & gas & std   & two  & sedan     & rwd & front & 101.2 & ⋯ & 108 & mpfi & 3.50 & 2.80 &  8.8 & 101 & 5800 & 23 & 29 & 16430\\\\\n",
       "\t12 & 0 & 192 & bmw       & gas & std   & four & sedan     & rwd & front & 101.2 & ⋯ & 108 & mpfi & 3.50 & 2.80 &  8.8 & 101 & 5800 & 23 & 29 & 16925\\\\\n",
       "\t13 & 0 & 188 & bmw       & gas & std   & two  & sedan     & rwd & front & 101.2 & ⋯ & 164 & mpfi & 3.31 & 3.19 &  9.0 & 121 & 4250 & 21 & 28 & 20970\\\\\n",
       "\t14 & 0 & 188 & bmw       & gas & std   & four & sedan     & rwd & front & 101.2 & ⋯ & 164 & mpfi & 3.31 & 3.19 &  9.0 & 121 & 4250 & 21 & 28 & 21105\\\\\n",
       "\t19 & 2 & 121 & chevrolet & gas & std   & two  & hatchback & fwd & front &  88.4 & ⋯ &  61 & 2bbl & 2.91 & 3.03 &  9.5 &  48 & 5100 & 47 & 53 &  5151\\\\\n",
       "\t20 & 1 &  98 & chevrolet & gas & std   & two  & hatchback & fwd & front &  94.5 & ⋯ &  90 & 2bbl & 3.03 & 3.11 &  9.6 &  70 & 5400 & 38 & 43 &  6295\\\\\n",
       "\\end{tabular}\n"
      ],
      "text/markdown": [
       "\n",
       "A data.frame: 10 × 26\n",
       "\n",
       "| <!--/--> | symb &lt;int&gt; | normLoss &lt;int&gt; | make &lt;fct&gt; | fuelType &lt;fct&gt; | aspiration &lt;fct&gt; | nDoors &lt;fct&gt; | bodyStyle &lt;fct&gt; | driveWheels &lt;fct&gt; | engineLocation &lt;fct&gt; | wheelBase &lt;dbl&gt; | ⋯ ⋯ | engineSize &lt;int&gt; | fuelSystem &lt;fct&gt; | bore &lt;dbl&gt; | stroke &lt;dbl&gt; | compressionRatio &lt;dbl&gt; | horsePower &lt;int&gt; | peakRpm &lt;int&gt; | cityMpg &lt;int&gt; | highwayMpg &lt;int&gt; | price &lt;int&gt; |\n",
       "|---|---|---|---|---|---|---|---|---|---|---|---|---|---|---|---|---|---|---|---|---|---|\n",
       "| 4 | 2 | 164 | audi      | gas | std   | four | sedan     | fwd | front |  99.8 | ⋯ | 109 | mpfi | 3.19 | 3.40 | 10.0 | 102 | 5500 | 24 | 30 | 13950 |\n",
       "| 5 | 2 | 164 | audi      | gas | std   | four | sedan     | 4wd | front |  99.4 | ⋯ | 136 | mpfi | 3.19 | 3.40 |  8.0 | 115 | 5500 | 18 | 22 | 17450 |\n",
       "| 7 | 1 | 158 | audi      | gas | std   | four | sedan     | fwd | front | 105.8 | ⋯ | 136 | mpfi | 3.19 | 3.40 |  8.5 | 110 | 5500 | 19 | 25 | 17710 |\n",
       "| 9 | 1 | 158 | audi      | gas | turbo | four | sedan     | fwd | front | 105.8 | ⋯ | 131 | mpfi | 3.13 | 3.40 |  8.3 | 140 | 5500 | 17 | 20 | 23875 |\n",
       "| 11 | 2 | 192 | bmw       | gas | std   | two  | sedan     | rwd | front | 101.2 | ⋯ | 108 | mpfi | 3.50 | 2.80 |  8.8 | 101 | 5800 | 23 | 29 | 16430 |\n",
       "| 12 | 0 | 192 | bmw       | gas | std   | four | sedan     | rwd | front | 101.2 | ⋯ | 108 | mpfi | 3.50 | 2.80 |  8.8 | 101 | 5800 | 23 | 29 | 16925 |\n",
       "| 13 | 0 | 188 | bmw       | gas | std   | two  | sedan     | rwd | front | 101.2 | ⋯ | 164 | mpfi | 3.31 | 3.19 |  9.0 | 121 | 4250 | 21 | 28 | 20970 |\n",
       "| 14 | 0 | 188 | bmw       | gas | std   | four | sedan     | rwd | front | 101.2 | ⋯ | 164 | mpfi | 3.31 | 3.19 |  9.0 | 121 | 4250 | 21 | 28 | 21105 |\n",
       "| 19 | 2 | 121 | chevrolet | gas | std   | two  | hatchback | fwd | front |  88.4 | ⋯ |  61 | 2bbl | 2.91 | 3.03 |  9.5 |  48 | 5100 | 47 | 53 |  5151 |\n",
       "| 20 | 1 |  98 | chevrolet | gas | std   | two  | hatchback | fwd | front |  94.5 | ⋯ |  90 | 2bbl | 3.03 | 3.11 |  9.6 |  70 | 5400 | 38 | 43 |  6295 |\n",
       "\n"
      ],
      "text/plain": [
       "   symb normLoss make      fuelType aspiration nDoors bodyStyle driveWheels\n",
       "4  2    164      audi      gas      std        four   sedan     fwd        \n",
       "5  2    164      audi      gas      std        four   sedan     4wd        \n",
       "7  1    158      audi      gas      std        four   sedan     fwd        \n",
       "9  1    158      audi      gas      turbo      four   sedan     fwd        \n",
       "11 2    192      bmw       gas      std        two    sedan     rwd        \n",
       "12 0    192      bmw       gas      std        four   sedan     rwd        \n",
       "13 0    188      bmw       gas      std        two    sedan     rwd        \n",
       "14 0    188      bmw       gas      std        four   sedan     rwd        \n",
       "19 2    121      chevrolet gas      std        two    hatchback fwd        \n",
       "20 1     98      chevrolet gas      std        two    hatchback fwd        \n",
       "   engineLocation wheelBase ⋯ engineSize fuelSystem bore stroke\n",
       "4  front           99.8     ⋯ 109        mpfi       3.19 3.40  \n",
       "5  front           99.4     ⋯ 136        mpfi       3.19 3.40  \n",
       "7  front          105.8     ⋯ 136        mpfi       3.19 3.40  \n",
       "9  front          105.8     ⋯ 131        mpfi       3.13 3.40  \n",
       "11 front          101.2     ⋯ 108        mpfi       3.50 2.80  \n",
       "12 front          101.2     ⋯ 108        mpfi       3.50 2.80  \n",
       "13 front          101.2     ⋯ 164        mpfi       3.31 3.19  \n",
       "14 front          101.2     ⋯ 164        mpfi       3.31 3.19  \n",
       "19 front           88.4     ⋯  61        2bbl       2.91 3.03  \n",
       "20 front           94.5     ⋯  90        2bbl       3.03 3.11  \n",
       "   compressionRatio horsePower peakRpm cityMpg highwayMpg price\n",
       "4  10.0             102        5500    24      30         13950\n",
       "5   8.0             115        5500    18      22         17450\n",
       "7   8.5             110        5500    19      25         17710\n",
       "9   8.3             140        5500    17      20         23875\n",
       "11  8.8             101        5800    23      29         16430\n",
       "12  8.8             101        5800    23      29         16925\n",
       "13  9.0             121        4250    21      28         20970\n",
       "14  9.0             121        4250    21      28         21105\n",
       "19  9.5              48        5100    47      53          5151\n",
       "20  9.6              70        5400    38      43          6295"
      ]
     },
     "metadata": {},
     "output_type": "display_data"
    }
   ],
   "source": [
    "# Create a new dataset with missing values imputed as 0\n",
    "new_dataset <- impute(new_df, method = \"fixed\", fixed_value = 0)\n",
    "#Print the first 10 rows\n",
    "head(new_dataset,10)\n"
   ]
  },
  {
   "cell_type": "markdown",
   "metadata": {},
   "source": [
    "### (e) Create a new data set by imputing the mean in all the columns which have double type values.\n"
   ]
  },
  {
   "cell_type": "code",
   "execution_count": 48,
   "metadata": {},
   "outputs": [
    {
     "data": {
      "text/html": [
       "<table class=\"dataframe\">\n",
       "<caption>A data.frame: 10 × 26</caption>\n",
       "<thead>\n",
       "\t<tr><th></th><th scope=col>symb</th><th scope=col>normLoss</th><th scope=col>make</th><th scope=col>fuelType</th><th scope=col>aspiration</th><th scope=col>nDoors</th><th scope=col>bodyStyle</th><th scope=col>driveWheels</th><th scope=col>engineLocation</th><th scope=col>wheelBase</th><th scope=col>⋯</th><th scope=col>engineSize</th><th scope=col>fuelSystem</th><th scope=col>bore</th><th scope=col>stroke</th><th scope=col>compressionRatio</th><th scope=col>horsePower</th><th scope=col>peakRpm</th><th scope=col>cityMpg</th><th scope=col>highwayMpg</th><th scope=col>price</th></tr>\n",
       "\t<tr><th></th><th scope=col>&lt;int&gt;</th><th scope=col>&lt;int&gt;</th><th scope=col>&lt;fct&gt;</th><th scope=col>&lt;fct&gt;</th><th scope=col>&lt;fct&gt;</th><th scope=col>&lt;fct&gt;</th><th scope=col>&lt;fct&gt;</th><th scope=col>&lt;fct&gt;</th><th scope=col>&lt;fct&gt;</th><th scope=col>&lt;dbl&gt;</th><th scope=col>⋯</th><th scope=col>&lt;int&gt;</th><th scope=col>&lt;fct&gt;</th><th scope=col>&lt;dbl&gt;</th><th scope=col>&lt;dbl&gt;</th><th scope=col>&lt;dbl&gt;</th><th scope=col>&lt;int&gt;</th><th scope=col>&lt;int&gt;</th><th scope=col>&lt;int&gt;</th><th scope=col>&lt;int&gt;</th><th scope=col>&lt;int&gt;</th></tr>\n",
       "</thead>\n",
       "<tbody>\n",
       "\t<tr><th scope=row>4</th><td>2</td><td>164</td><td>audi     </td><td>gas</td><td>std  </td><td>four</td><td>sedan    </td><td>fwd</td><td>front</td><td> 99.8</td><td>⋯</td><td>109</td><td>mpfi</td><td>3.19</td><td>3.40</td><td>10.0</td><td>102</td><td>5500</td><td>24</td><td>30</td><td>13950</td></tr>\n",
       "\t<tr><th scope=row>5</th><td>2</td><td>164</td><td>audi     </td><td>gas</td><td>std  </td><td>four</td><td>sedan    </td><td>4wd</td><td>front</td><td> 99.4</td><td>⋯</td><td>136</td><td>mpfi</td><td>3.19</td><td>3.40</td><td> 8.0</td><td>115</td><td>5500</td><td>18</td><td>22</td><td>17450</td></tr>\n",
       "\t<tr><th scope=row>7</th><td>1</td><td>158</td><td>audi     </td><td>gas</td><td>std  </td><td>four</td><td>sedan    </td><td>fwd</td><td>front</td><td>105.8</td><td>⋯</td><td>136</td><td>mpfi</td><td>3.19</td><td>3.40</td><td> 8.5</td><td>110</td><td>5500</td><td>19</td><td>25</td><td>17710</td></tr>\n",
       "\t<tr><th scope=row>9</th><td>1</td><td>158</td><td>audi     </td><td>gas</td><td>turbo</td><td>four</td><td>sedan    </td><td>fwd</td><td>front</td><td>105.8</td><td>⋯</td><td>131</td><td>mpfi</td><td>3.13</td><td>3.40</td><td> 8.3</td><td>140</td><td>5500</td><td>17</td><td>20</td><td>23875</td></tr>\n",
       "\t<tr><th scope=row>11</th><td>2</td><td>192</td><td>bmw      </td><td>gas</td><td>std  </td><td>two </td><td>sedan    </td><td>rwd</td><td>front</td><td>101.2</td><td>⋯</td><td>108</td><td>mpfi</td><td>3.50</td><td>2.80</td><td> 8.8</td><td>101</td><td>5800</td><td>23</td><td>29</td><td>16430</td></tr>\n",
       "\t<tr><th scope=row>12</th><td>0</td><td>192</td><td>bmw      </td><td>gas</td><td>std  </td><td>four</td><td>sedan    </td><td>rwd</td><td>front</td><td>101.2</td><td>⋯</td><td>108</td><td>mpfi</td><td>3.50</td><td>2.80</td><td> 8.8</td><td>101</td><td>5800</td><td>23</td><td>29</td><td>16925</td></tr>\n",
       "\t<tr><th scope=row>13</th><td>0</td><td>188</td><td>bmw      </td><td>gas</td><td>std  </td><td>two </td><td>sedan    </td><td>rwd</td><td>front</td><td>101.2</td><td>⋯</td><td>164</td><td>mpfi</td><td>3.31</td><td>3.19</td><td> 9.0</td><td>121</td><td>4250</td><td>21</td><td>28</td><td>20970</td></tr>\n",
       "\t<tr><th scope=row>14</th><td>0</td><td>188</td><td>bmw      </td><td>gas</td><td>std  </td><td>four</td><td>sedan    </td><td>rwd</td><td>front</td><td>101.2</td><td>⋯</td><td>164</td><td>mpfi</td><td>3.31</td><td>3.19</td><td> 9.0</td><td>121</td><td>4250</td><td>21</td><td>28</td><td>21105</td></tr>\n",
       "\t<tr><th scope=row>19</th><td>2</td><td>121</td><td>chevrolet</td><td>gas</td><td>std  </td><td>two </td><td>hatchback</td><td>fwd</td><td>front</td><td> 88.4</td><td>⋯</td><td> 61</td><td>2bbl</td><td>2.91</td><td>3.03</td><td> 9.5</td><td> 48</td><td>5100</td><td>47</td><td>53</td><td> 5151</td></tr>\n",
       "\t<tr><th scope=row>20</th><td>1</td><td> 98</td><td>chevrolet</td><td>gas</td><td>std  </td><td>two </td><td>hatchback</td><td>fwd</td><td>front</td><td> 94.5</td><td>⋯</td><td> 90</td><td>2bbl</td><td>3.03</td><td>3.11</td><td> 9.6</td><td> 70</td><td>5400</td><td>38</td><td>43</td><td> 6295</td></tr>\n",
       "</tbody>\n",
       "</table>\n"
      ],
      "text/latex": [
       "A data.frame: 10 × 26\n",
       "\\begin{tabular}{r|lllllllllllllllllllll}\n",
       "  & symb & normLoss & make & fuelType & aspiration & nDoors & bodyStyle & driveWheels & engineLocation & wheelBase & ⋯ & engineSize & fuelSystem & bore & stroke & compressionRatio & horsePower & peakRpm & cityMpg & highwayMpg & price\\\\\n",
       "  & <int> & <int> & <fct> & <fct> & <fct> & <fct> & <fct> & <fct> & <fct> & <dbl> & ⋯ & <int> & <fct> & <dbl> & <dbl> & <dbl> & <int> & <int> & <int> & <int> & <int>\\\\\n",
       "\\hline\n",
       "\t4 & 2 & 164 & audi      & gas & std   & four & sedan     & fwd & front &  99.8 & ⋯ & 109 & mpfi & 3.19 & 3.40 & 10.0 & 102 & 5500 & 24 & 30 & 13950\\\\\n",
       "\t5 & 2 & 164 & audi      & gas & std   & four & sedan     & 4wd & front &  99.4 & ⋯ & 136 & mpfi & 3.19 & 3.40 &  8.0 & 115 & 5500 & 18 & 22 & 17450\\\\\n",
       "\t7 & 1 & 158 & audi      & gas & std   & four & sedan     & fwd & front & 105.8 & ⋯ & 136 & mpfi & 3.19 & 3.40 &  8.5 & 110 & 5500 & 19 & 25 & 17710\\\\\n",
       "\t9 & 1 & 158 & audi      & gas & turbo & four & sedan     & fwd & front & 105.8 & ⋯ & 131 & mpfi & 3.13 & 3.40 &  8.3 & 140 & 5500 & 17 & 20 & 23875\\\\\n",
       "\t11 & 2 & 192 & bmw       & gas & std   & two  & sedan     & rwd & front & 101.2 & ⋯ & 108 & mpfi & 3.50 & 2.80 &  8.8 & 101 & 5800 & 23 & 29 & 16430\\\\\n",
       "\t12 & 0 & 192 & bmw       & gas & std   & four & sedan     & rwd & front & 101.2 & ⋯ & 108 & mpfi & 3.50 & 2.80 &  8.8 & 101 & 5800 & 23 & 29 & 16925\\\\\n",
       "\t13 & 0 & 188 & bmw       & gas & std   & two  & sedan     & rwd & front & 101.2 & ⋯ & 164 & mpfi & 3.31 & 3.19 &  9.0 & 121 & 4250 & 21 & 28 & 20970\\\\\n",
       "\t14 & 0 & 188 & bmw       & gas & std   & four & sedan     & rwd & front & 101.2 & ⋯ & 164 & mpfi & 3.31 & 3.19 &  9.0 & 121 & 4250 & 21 & 28 & 21105\\\\\n",
       "\t19 & 2 & 121 & chevrolet & gas & std   & two  & hatchback & fwd & front &  88.4 & ⋯ &  61 & 2bbl & 2.91 & 3.03 &  9.5 &  48 & 5100 & 47 & 53 &  5151\\\\\n",
       "\t20 & 1 &  98 & chevrolet & gas & std   & two  & hatchback & fwd & front &  94.5 & ⋯ &  90 & 2bbl & 3.03 & 3.11 &  9.6 &  70 & 5400 & 38 & 43 &  6295\\\\\n",
       "\\end{tabular}\n"
      ],
      "text/markdown": [
       "\n",
       "A data.frame: 10 × 26\n",
       "\n",
       "| <!--/--> | symb &lt;int&gt; | normLoss &lt;int&gt; | make &lt;fct&gt; | fuelType &lt;fct&gt; | aspiration &lt;fct&gt; | nDoors &lt;fct&gt; | bodyStyle &lt;fct&gt; | driveWheels &lt;fct&gt; | engineLocation &lt;fct&gt; | wheelBase &lt;dbl&gt; | ⋯ ⋯ | engineSize &lt;int&gt; | fuelSystem &lt;fct&gt; | bore &lt;dbl&gt; | stroke &lt;dbl&gt; | compressionRatio &lt;dbl&gt; | horsePower &lt;int&gt; | peakRpm &lt;int&gt; | cityMpg &lt;int&gt; | highwayMpg &lt;int&gt; | price &lt;int&gt; |\n",
       "|---|---|---|---|---|---|---|---|---|---|---|---|---|---|---|---|---|---|---|---|---|---|\n",
       "| 4 | 2 | 164 | audi      | gas | std   | four | sedan     | fwd | front |  99.8 | ⋯ | 109 | mpfi | 3.19 | 3.40 | 10.0 | 102 | 5500 | 24 | 30 | 13950 |\n",
       "| 5 | 2 | 164 | audi      | gas | std   | four | sedan     | 4wd | front |  99.4 | ⋯ | 136 | mpfi | 3.19 | 3.40 |  8.0 | 115 | 5500 | 18 | 22 | 17450 |\n",
       "| 7 | 1 | 158 | audi      | gas | std   | four | sedan     | fwd | front | 105.8 | ⋯ | 136 | mpfi | 3.19 | 3.40 |  8.5 | 110 | 5500 | 19 | 25 | 17710 |\n",
       "| 9 | 1 | 158 | audi      | gas | turbo | four | sedan     | fwd | front | 105.8 | ⋯ | 131 | mpfi | 3.13 | 3.40 |  8.3 | 140 | 5500 | 17 | 20 | 23875 |\n",
       "| 11 | 2 | 192 | bmw       | gas | std   | two  | sedan     | rwd | front | 101.2 | ⋯ | 108 | mpfi | 3.50 | 2.80 |  8.8 | 101 | 5800 | 23 | 29 | 16430 |\n",
       "| 12 | 0 | 192 | bmw       | gas | std   | four | sedan     | rwd | front | 101.2 | ⋯ | 108 | mpfi | 3.50 | 2.80 |  8.8 | 101 | 5800 | 23 | 29 | 16925 |\n",
       "| 13 | 0 | 188 | bmw       | gas | std   | two  | sedan     | rwd | front | 101.2 | ⋯ | 164 | mpfi | 3.31 | 3.19 |  9.0 | 121 | 4250 | 21 | 28 | 20970 |\n",
       "| 14 | 0 | 188 | bmw       | gas | std   | four | sedan     | rwd | front | 101.2 | ⋯ | 164 | mpfi | 3.31 | 3.19 |  9.0 | 121 | 4250 | 21 | 28 | 21105 |\n",
       "| 19 | 2 | 121 | chevrolet | gas | std   | two  | hatchback | fwd | front |  88.4 | ⋯ |  61 | 2bbl | 2.91 | 3.03 |  9.5 |  48 | 5100 | 47 | 53 |  5151 |\n",
       "| 20 | 1 |  98 | chevrolet | gas | std   | two  | hatchback | fwd | front |  94.5 | ⋯ |  90 | 2bbl | 3.03 | 3.11 |  9.6 |  70 | 5400 | 38 | 43 |  6295 |\n",
       "\n"
      ],
      "text/plain": [
       "   symb normLoss make      fuelType aspiration nDoors bodyStyle driveWheels\n",
       "4  2    164      audi      gas      std        four   sedan     fwd        \n",
       "5  2    164      audi      gas      std        four   sedan     4wd        \n",
       "7  1    158      audi      gas      std        four   sedan     fwd        \n",
       "9  1    158      audi      gas      turbo      four   sedan     fwd        \n",
       "11 2    192      bmw       gas      std        two    sedan     rwd        \n",
       "12 0    192      bmw       gas      std        four   sedan     rwd        \n",
       "13 0    188      bmw       gas      std        two    sedan     rwd        \n",
       "14 0    188      bmw       gas      std        four   sedan     rwd        \n",
       "19 2    121      chevrolet gas      std        two    hatchback fwd        \n",
       "20 1     98      chevrolet gas      std        two    hatchback fwd        \n",
       "   engineLocation wheelBase ⋯ engineSize fuelSystem bore stroke\n",
       "4  front           99.8     ⋯ 109        mpfi       3.19 3.40  \n",
       "5  front           99.4     ⋯ 136        mpfi       3.19 3.40  \n",
       "7  front          105.8     ⋯ 136        mpfi       3.19 3.40  \n",
       "9  front          105.8     ⋯ 131        mpfi       3.13 3.40  \n",
       "11 front          101.2     ⋯ 108        mpfi       3.50 2.80  \n",
       "12 front          101.2     ⋯ 108        mpfi       3.50 2.80  \n",
       "13 front          101.2     ⋯ 164        mpfi       3.31 3.19  \n",
       "14 front          101.2     ⋯ 164        mpfi       3.31 3.19  \n",
       "19 front           88.4     ⋯  61        2bbl       2.91 3.03  \n",
       "20 front           94.5     ⋯  90        2bbl       3.03 3.11  \n",
       "   compressionRatio horsePower peakRpm cityMpg highwayMpg price\n",
       "4  10.0             102        5500    24      30         13950\n",
       "5   8.0             115        5500    18      22         17450\n",
       "7   8.5             110        5500    19      25         17710\n",
       "9   8.3             140        5500    17      20         23875\n",
       "11  8.8             101        5800    23      29         16430\n",
       "12  8.8             101        5800    23      29         16925\n",
       "13  9.0             121        4250    21      28         20970\n",
       "14  9.0             121        4250    21      28         21105\n",
       "19  9.5              48        5100    47      53          5151\n",
       "20  9.6              70        5400    38      43          6295"
      ]
     },
     "metadata": {},
     "output_type": "display_data"
    }
   ],
   "source": [
    "# Identify columns with double type values\n",
    "double_columns <- sapply(new_df, is.double)\n",
    "\n",
    "# Impute the mean in the identified columns\n",
    "new_dataset1 <- new_df\n",
    "for (col in names(new_dataset1)[double_columns]) {\n",
    "  new_dataset1[[col]][is.na(new_dataset1[[col]])] <- mean(new_dataset1[[col]], na.rm = TRUE)\n",
    "}\n",
    "head(new_dataset1,10)"
   ]
  },
  {
   "cell_type": "markdown",
   "metadata": {
    "tags": []
   },
   "source": [
    "### (f) Create a new data set by imputing the mode in all the columns which have integer type values."
   ]
  },
  {
   "cell_type": "code",
   "execution_count": 49,
   "metadata": {},
   "outputs": [
    {
     "data": {
      "text/html": [
       "<table class=\"dataframe\">\n",
       "<caption>A data.frame: 10 × 26</caption>\n",
       "<thead>\n",
       "\t<tr><th></th><th scope=col>symb</th><th scope=col>normLoss</th><th scope=col>make</th><th scope=col>fuelType</th><th scope=col>aspiration</th><th scope=col>nDoors</th><th scope=col>bodyStyle</th><th scope=col>driveWheels</th><th scope=col>engineLocation</th><th scope=col>wheelBase</th><th scope=col>⋯</th><th scope=col>engineSize</th><th scope=col>fuelSystem</th><th scope=col>bore</th><th scope=col>stroke</th><th scope=col>compressionRatio</th><th scope=col>horsePower</th><th scope=col>peakRpm</th><th scope=col>cityMpg</th><th scope=col>highwayMpg</th><th scope=col>price</th></tr>\n",
       "\t<tr><th></th><th scope=col>&lt;int&gt;</th><th scope=col>&lt;int&gt;</th><th scope=col>&lt;fct&gt;</th><th scope=col>&lt;fct&gt;</th><th scope=col>&lt;fct&gt;</th><th scope=col>&lt;fct&gt;</th><th scope=col>&lt;fct&gt;</th><th scope=col>&lt;fct&gt;</th><th scope=col>&lt;fct&gt;</th><th scope=col>&lt;dbl&gt;</th><th scope=col>⋯</th><th scope=col>&lt;int&gt;</th><th scope=col>&lt;fct&gt;</th><th scope=col>&lt;dbl&gt;</th><th scope=col>&lt;dbl&gt;</th><th scope=col>&lt;dbl&gt;</th><th scope=col>&lt;int&gt;</th><th scope=col>&lt;int&gt;</th><th scope=col>&lt;int&gt;</th><th scope=col>&lt;int&gt;</th><th scope=col>&lt;int&gt;</th></tr>\n",
       "</thead>\n",
       "<tbody>\n",
       "\t<tr><th scope=row>4</th><td>2</td><td>164</td><td>audi     </td><td>gas</td><td>std  </td><td>four</td><td>sedan    </td><td>fwd</td><td>front</td><td> 99.8</td><td>⋯</td><td>109</td><td>mpfi</td><td>3.19</td><td>3.40</td><td>10.0</td><td>102</td><td>5500</td><td>24</td><td>30</td><td>13950</td></tr>\n",
       "\t<tr><th scope=row>5</th><td>2</td><td>164</td><td>audi     </td><td>gas</td><td>std  </td><td>four</td><td>sedan    </td><td>4wd</td><td>front</td><td> 99.4</td><td>⋯</td><td>136</td><td>mpfi</td><td>3.19</td><td>3.40</td><td> 8.0</td><td>115</td><td>5500</td><td>18</td><td>22</td><td>17450</td></tr>\n",
       "\t<tr><th scope=row>7</th><td>1</td><td>158</td><td>audi     </td><td>gas</td><td>std  </td><td>four</td><td>sedan    </td><td>fwd</td><td>front</td><td>105.8</td><td>⋯</td><td>136</td><td>mpfi</td><td>3.19</td><td>3.40</td><td> 8.5</td><td>110</td><td>5500</td><td>19</td><td>25</td><td>17710</td></tr>\n",
       "\t<tr><th scope=row>9</th><td>1</td><td>158</td><td>audi     </td><td>gas</td><td>turbo</td><td>four</td><td>sedan    </td><td>fwd</td><td>front</td><td>105.8</td><td>⋯</td><td>131</td><td>mpfi</td><td>3.13</td><td>3.40</td><td> 8.3</td><td>140</td><td>5500</td><td>17</td><td>20</td><td>23875</td></tr>\n",
       "\t<tr><th scope=row>11</th><td>2</td><td>192</td><td>bmw      </td><td>gas</td><td>std  </td><td>two </td><td>sedan    </td><td>rwd</td><td>front</td><td>101.2</td><td>⋯</td><td>108</td><td>mpfi</td><td>3.50</td><td>2.80</td><td> 8.8</td><td>101</td><td>5800</td><td>23</td><td>29</td><td>16430</td></tr>\n",
       "\t<tr><th scope=row>12</th><td>0</td><td>192</td><td>bmw      </td><td>gas</td><td>std  </td><td>four</td><td>sedan    </td><td>rwd</td><td>front</td><td>101.2</td><td>⋯</td><td>108</td><td>mpfi</td><td>3.50</td><td>2.80</td><td> 8.8</td><td>101</td><td>5800</td><td>23</td><td>29</td><td>16925</td></tr>\n",
       "\t<tr><th scope=row>13</th><td>0</td><td>188</td><td>bmw      </td><td>gas</td><td>std  </td><td>two </td><td>sedan    </td><td>rwd</td><td>front</td><td>101.2</td><td>⋯</td><td>164</td><td>mpfi</td><td>3.31</td><td>3.19</td><td> 9.0</td><td>121</td><td>4250</td><td>21</td><td>28</td><td>20970</td></tr>\n",
       "\t<tr><th scope=row>14</th><td>0</td><td>188</td><td>bmw      </td><td>gas</td><td>std  </td><td>four</td><td>sedan    </td><td>rwd</td><td>front</td><td>101.2</td><td>⋯</td><td>164</td><td>mpfi</td><td>3.31</td><td>3.19</td><td> 9.0</td><td>121</td><td>4250</td><td>21</td><td>28</td><td>21105</td></tr>\n",
       "\t<tr><th scope=row>19</th><td>2</td><td>121</td><td>chevrolet</td><td>gas</td><td>std  </td><td>two </td><td>hatchback</td><td>fwd</td><td>front</td><td> 88.4</td><td>⋯</td><td> 61</td><td>2bbl</td><td>2.91</td><td>3.03</td><td> 9.5</td><td> 48</td><td>5100</td><td>47</td><td>53</td><td> 5151</td></tr>\n",
       "\t<tr><th scope=row>20</th><td>1</td><td> 98</td><td>chevrolet</td><td>gas</td><td>std  </td><td>two </td><td>hatchback</td><td>fwd</td><td>front</td><td> 94.5</td><td>⋯</td><td> 90</td><td>2bbl</td><td>3.03</td><td>3.11</td><td> 9.6</td><td> 70</td><td>5400</td><td>38</td><td>43</td><td> 6295</td></tr>\n",
       "</tbody>\n",
       "</table>\n"
      ],
      "text/latex": [
       "A data.frame: 10 × 26\n",
       "\\begin{tabular}{r|lllllllllllllllllllll}\n",
       "  & symb & normLoss & make & fuelType & aspiration & nDoors & bodyStyle & driveWheels & engineLocation & wheelBase & ⋯ & engineSize & fuelSystem & bore & stroke & compressionRatio & horsePower & peakRpm & cityMpg & highwayMpg & price\\\\\n",
       "  & <int> & <int> & <fct> & <fct> & <fct> & <fct> & <fct> & <fct> & <fct> & <dbl> & ⋯ & <int> & <fct> & <dbl> & <dbl> & <dbl> & <int> & <int> & <int> & <int> & <int>\\\\\n",
       "\\hline\n",
       "\t4 & 2 & 164 & audi      & gas & std   & four & sedan     & fwd & front &  99.8 & ⋯ & 109 & mpfi & 3.19 & 3.40 & 10.0 & 102 & 5500 & 24 & 30 & 13950\\\\\n",
       "\t5 & 2 & 164 & audi      & gas & std   & four & sedan     & 4wd & front &  99.4 & ⋯ & 136 & mpfi & 3.19 & 3.40 &  8.0 & 115 & 5500 & 18 & 22 & 17450\\\\\n",
       "\t7 & 1 & 158 & audi      & gas & std   & four & sedan     & fwd & front & 105.8 & ⋯ & 136 & mpfi & 3.19 & 3.40 &  8.5 & 110 & 5500 & 19 & 25 & 17710\\\\\n",
       "\t9 & 1 & 158 & audi      & gas & turbo & four & sedan     & fwd & front & 105.8 & ⋯ & 131 & mpfi & 3.13 & 3.40 &  8.3 & 140 & 5500 & 17 & 20 & 23875\\\\\n",
       "\t11 & 2 & 192 & bmw       & gas & std   & two  & sedan     & rwd & front & 101.2 & ⋯ & 108 & mpfi & 3.50 & 2.80 &  8.8 & 101 & 5800 & 23 & 29 & 16430\\\\\n",
       "\t12 & 0 & 192 & bmw       & gas & std   & four & sedan     & rwd & front & 101.2 & ⋯ & 108 & mpfi & 3.50 & 2.80 &  8.8 & 101 & 5800 & 23 & 29 & 16925\\\\\n",
       "\t13 & 0 & 188 & bmw       & gas & std   & two  & sedan     & rwd & front & 101.2 & ⋯ & 164 & mpfi & 3.31 & 3.19 &  9.0 & 121 & 4250 & 21 & 28 & 20970\\\\\n",
       "\t14 & 0 & 188 & bmw       & gas & std   & four & sedan     & rwd & front & 101.2 & ⋯ & 164 & mpfi & 3.31 & 3.19 &  9.0 & 121 & 4250 & 21 & 28 & 21105\\\\\n",
       "\t19 & 2 & 121 & chevrolet & gas & std   & two  & hatchback & fwd & front &  88.4 & ⋯ &  61 & 2bbl & 2.91 & 3.03 &  9.5 &  48 & 5100 & 47 & 53 &  5151\\\\\n",
       "\t20 & 1 &  98 & chevrolet & gas & std   & two  & hatchback & fwd & front &  94.5 & ⋯ &  90 & 2bbl & 3.03 & 3.11 &  9.6 &  70 & 5400 & 38 & 43 &  6295\\\\\n",
       "\\end{tabular}\n"
      ],
      "text/markdown": [
       "\n",
       "A data.frame: 10 × 26\n",
       "\n",
       "| <!--/--> | symb &lt;int&gt; | normLoss &lt;int&gt; | make &lt;fct&gt; | fuelType &lt;fct&gt; | aspiration &lt;fct&gt; | nDoors &lt;fct&gt; | bodyStyle &lt;fct&gt; | driveWheels &lt;fct&gt; | engineLocation &lt;fct&gt; | wheelBase &lt;dbl&gt; | ⋯ ⋯ | engineSize &lt;int&gt; | fuelSystem &lt;fct&gt; | bore &lt;dbl&gt; | stroke &lt;dbl&gt; | compressionRatio &lt;dbl&gt; | horsePower &lt;int&gt; | peakRpm &lt;int&gt; | cityMpg &lt;int&gt; | highwayMpg &lt;int&gt; | price &lt;int&gt; |\n",
       "|---|---|---|---|---|---|---|---|---|---|---|---|---|---|---|---|---|---|---|---|---|---|\n",
       "| 4 | 2 | 164 | audi      | gas | std   | four | sedan     | fwd | front |  99.8 | ⋯ | 109 | mpfi | 3.19 | 3.40 | 10.0 | 102 | 5500 | 24 | 30 | 13950 |\n",
       "| 5 | 2 | 164 | audi      | gas | std   | four | sedan     | 4wd | front |  99.4 | ⋯ | 136 | mpfi | 3.19 | 3.40 |  8.0 | 115 | 5500 | 18 | 22 | 17450 |\n",
       "| 7 | 1 | 158 | audi      | gas | std   | four | sedan     | fwd | front | 105.8 | ⋯ | 136 | mpfi | 3.19 | 3.40 |  8.5 | 110 | 5500 | 19 | 25 | 17710 |\n",
       "| 9 | 1 | 158 | audi      | gas | turbo | four | sedan     | fwd | front | 105.8 | ⋯ | 131 | mpfi | 3.13 | 3.40 |  8.3 | 140 | 5500 | 17 | 20 | 23875 |\n",
       "| 11 | 2 | 192 | bmw       | gas | std   | two  | sedan     | rwd | front | 101.2 | ⋯ | 108 | mpfi | 3.50 | 2.80 |  8.8 | 101 | 5800 | 23 | 29 | 16430 |\n",
       "| 12 | 0 | 192 | bmw       | gas | std   | four | sedan     | rwd | front | 101.2 | ⋯ | 108 | mpfi | 3.50 | 2.80 |  8.8 | 101 | 5800 | 23 | 29 | 16925 |\n",
       "| 13 | 0 | 188 | bmw       | gas | std   | two  | sedan     | rwd | front | 101.2 | ⋯ | 164 | mpfi | 3.31 | 3.19 |  9.0 | 121 | 4250 | 21 | 28 | 20970 |\n",
       "| 14 | 0 | 188 | bmw       | gas | std   | four | sedan     | rwd | front | 101.2 | ⋯ | 164 | mpfi | 3.31 | 3.19 |  9.0 | 121 | 4250 | 21 | 28 | 21105 |\n",
       "| 19 | 2 | 121 | chevrolet | gas | std   | two  | hatchback | fwd | front |  88.4 | ⋯ |  61 | 2bbl | 2.91 | 3.03 |  9.5 |  48 | 5100 | 47 | 53 |  5151 |\n",
       "| 20 | 1 |  98 | chevrolet | gas | std   | two  | hatchback | fwd | front |  94.5 | ⋯ |  90 | 2bbl | 3.03 | 3.11 |  9.6 |  70 | 5400 | 38 | 43 |  6295 |\n",
       "\n"
      ],
      "text/plain": [
       "   symb normLoss make      fuelType aspiration nDoors bodyStyle driveWheels\n",
       "4  2    164      audi      gas      std        four   sedan     fwd        \n",
       "5  2    164      audi      gas      std        four   sedan     4wd        \n",
       "7  1    158      audi      gas      std        four   sedan     fwd        \n",
       "9  1    158      audi      gas      turbo      four   sedan     fwd        \n",
       "11 2    192      bmw       gas      std        two    sedan     rwd        \n",
       "12 0    192      bmw       gas      std        four   sedan     rwd        \n",
       "13 0    188      bmw       gas      std        two    sedan     rwd        \n",
       "14 0    188      bmw       gas      std        four   sedan     rwd        \n",
       "19 2    121      chevrolet gas      std        two    hatchback fwd        \n",
       "20 1     98      chevrolet gas      std        two    hatchback fwd        \n",
       "   engineLocation wheelBase ⋯ engineSize fuelSystem bore stroke\n",
       "4  front           99.8     ⋯ 109        mpfi       3.19 3.40  \n",
       "5  front           99.4     ⋯ 136        mpfi       3.19 3.40  \n",
       "7  front          105.8     ⋯ 136        mpfi       3.19 3.40  \n",
       "9  front          105.8     ⋯ 131        mpfi       3.13 3.40  \n",
       "11 front          101.2     ⋯ 108        mpfi       3.50 2.80  \n",
       "12 front          101.2     ⋯ 108        mpfi       3.50 2.80  \n",
       "13 front          101.2     ⋯ 164        mpfi       3.31 3.19  \n",
       "14 front          101.2     ⋯ 164        mpfi       3.31 3.19  \n",
       "19 front           88.4     ⋯  61        2bbl       2.91 3.03  \n",
       "20 front           94.5     ⋯  90        2bbl       3.03 3.11  \n",
       "   compressionRatio horsePower peakRpm cityMpg highwayMpg price\n",
       "4  10.0             102        5500    24      30         13950\n",
       "5   8.0             115        5500    18      22         17450\n",
       "7   8.5             110        5500    19      25         17710\n",
       "9   8.3             140        5500    17      20         23875\n",
       "11  8.8             101        5800    23      29         16430\n",
       "12  8.8             101        5800    23      29         16925\n",
       "13  9.0             121        4250    21      28         20970\n",
       "14  9.0             121        4250    21      28         21105\n",
       "19  9.5              48        5100    47      53          5151\n",
       "20  9.6              70        5400    38      43          6295"
      ]
     },
     "metadata": {},
     "output_type": "display_data"
    }
   ],
   "source": [
    "# Function to calculate the mode\n",
    "Mode <- function(x) {\n",
    "  ux <- unique(x)\n",
    "  ux[which.max(tabulate(match(x, ux)))]\n",
    "}\n",
    "\n",
    "# Identify columns with integer type values\n",
    "integer_columns <- sapply(new_df, is.integer)\n",
    "\n",
    "# Impute the mode in the identified columns\n",
    "new_dataset2 <- new_df\n",
    "for (col in names(new_dataset2)[integer_columns]) {\n",
    "  new_dataset2[[col]][is.na(new_dataset2[[col]])] <- Mode(new_dataset2[[col]])\n",
    "}\n",
    "head(new_dataset2,10)"
   ]
  },
  {
   "cell_type": "markdown",
   "metadata": {},
   "source": [
    "### (g) Create a new data set by imputing the most frequent value to the column \\\"nDoors\\\". Tip: use the function impute_replace()"
   ]
  },
  {
   "cell_type": "code",
   "execution_count": 50,
   "metadata": {},
   "outputs": [
    {
     "data": {
      "text/html": [
       "<table class=\"dataframe\">\n",
       "<caption>A data.frame: 10 × 26</caption>\n",
       "<thead>\n",
       "\t<tr><th></th><th scope=col>symb</th><th scope=col>normLoss</th><th scope=col>make</th><th scope=col>fuelType</th><th scope=col>aspiration</th><th scope=col>nDoors</th><th scope=col>bodyStyle</th><th scope=col>driveWheels</th><th scope=col>engineLocation</th><th scope=col>wheelBase</th><th scope=col>⋯</th><th scope=col>engineSize</th><th scope=col>fuelSystem</th><th scope=col>bore</th><th scope=col>stroke</th><th scope=col>compressionRatio</th><th scope=col>horsePower</th><th scope=col>peakRpm</th><th scope=col>cityMpg</th><th scope=col>highwayMpg</th><th scope=col>price</th></tr>\n",
       "\t<tr><th></th><th scope=col>&lt;int&gt;</th><th scope=col>&lt;int&gt;</th><th scope=col>&lt;fct&gt;</th><th scope=col>&lt;fct&gt;</th><th scope=col>&lt;fct&gt;</th><th scope=col>&lt;fct&gt;</th><th scope=col>&lt;fct&gt;</th><th scope=col>&lt;fct&gt;</th><th scope=col>&lt;fct&gt;</th><th scope=col>&lt;dbl&gt;</th><th scope=col>⋯</th><th scope=col>&lt;int&gt;</th><th scope=col>&lt;fct&gt;</th><th scope=col>&lt;dbl&gt;</th><th scope=col>&lt;dbl&gt;</th><th scope=col>&lt;dbl&gt;</th><th scope=col>&lt;int&gt;</th><th scope=col>&lt;int&gt;</th><th scope=col>&lt;int&gt;</th><th scope=col>&lt;int&gt;</th><th scope=col>&lt;int&gt;</th></tr>\n",
       "</thead>\n",
       "<tbody>\n",
       "\t<tr><th scope=row>4</th><td>2</td><td>164</td><td>audi     </td><td>gas</td><td>std  </td><td>four</td><td>sedan    </td><td>fwd</td><td>front</td><td> 99.8</td><td>⋯</td><td>109</td><td>mpfi</td><td>3.19</td><td>3.40</td><td>10.0</td><td>102</td><td>5500</td><td>24</td><td>30</td><td>13950</td></tr>\n",
       "\t<tr><th scope=row>5</th><td>2</td><td>164</td><td>audi     </td><td>gas</td><td>std  </td><td>four</td><td>sedan    </td><td>4wd</td><td>front</td><td> 99.4</td><td>⋯</td><td>136</td><td>mpfi</td><td>3.19</td><td>3.40</td><td> 8.0</td><td>115</td><td>5500</td><td>18</td><td>22</td><td>17450</td></tr>\n",
       "\t<tr><th scope=row>7</th><td>1</td><td>158</td><td>audi     </td><td>gas</td><td>std  </td><td>four</td><td>sedan    </td><td>fwd</td><td>front</td><td>105.8</td><td>⋯</td><td>136</td><td>mpfi</td><td>3.19</td><td>3.40</td><td> 8.5</td><td>110</td><td>5500</td><td>19</td><td>25</td><td>17710</td></tr>\n",
       "\t<tr><th scope=row>9</th><td>1</td><td>158</td><td>audi     </td><td>gas</td><td>turbo</td><td>four</td><td>sedan    </td><td>fwd</td><td>front</td><td>105.8</td><td>⋯</td><td>131</td><td>mpfi</td><td>3.13</td><td>3.40</td><td> 8.3</td><td>140</td><td>5500</td><td>17</td><td>20</td><td>23875</td></tr>\n",
       "\t<tr><th scope=row>11</th><td>2</td><td>192</td><td>bmw      </td><td>gas</td><td>std  </td><td>two </td><td>sedan    </td><td>rwd</td><td>front</td><td>101.2</td><td>⋯</td><td>108</td><td>mpfi</td><td>3.50</td><td>2.80</td><td> 8.8</td><td>101</td><td>5800</td><td>23</td><td>29</td><td>16430</td></tr>\n",
       "\t<tr><th scope=row>12</th><td>0</td><td>192</td><td>bmw      </td><td>gas</td><td>std  </td><td>four</td><td>sedan    </td><td>rwd</td><td>front</td><td>101.2</td><td>⋯</td><td>108</td><td>mpfi</td><td>3.50</td><td>2.80</td><td> 8.8</td><td>101</td><td>5800</td><td>23</td><td>29</td><td>16925</td></tr>\n",
       "\t<tr><th scope=row>13</th><td>0</td><td>188</td><td>bmw      </td><td>gas</td><td>std  </td><td>two </td><td>sedan    </td><td>rwd</td><td>front</td><td>101.2</td><td>⋯</td><td>164</td><td>mpfi</td><td>3.31</td><td>3.19</td><td> 9.0</td><td>121</td><td>4250</td><td>21</td><td>28</td><td>20970</td></tr>\n",
       "\t<tr><th scope=row>14</th><td>0</td><td>188</td><td>bmw      </td><td>gas</td><td>std  </td><td>four</td><td>sedan    </td><td>rwd</td><td>front</td><td>101.2</td><td>⋯</td><td>164</td><td>mpfi</td><td>3.31</td><td>3.19</td><td> 9.0</td><td>121</td><td>4250</td><td>21</td><td>28</td><td>21105</td></tr>\n",
       "\t<tr><th scope=row>19</th><td>2</td><td>121</td><td>chevrolet</td><td>gas</td><td>std  </td><td>two </td><td>hatchback</td><td>fwd</td><td>front</td><td> 88.4</td><td>⋯</td><td> 61</td><td>2bbl</td><td>2.91</td><td>3.03</td><td> 9.5</td><td> 48</td><td>5100</td><td>47</td><td>53</td><td> 5151</td></tr>\n",
       "\t<tr><th scope=row>20</th><td>1</td><td> 98</td><td>chevrolet</td><td>gas</td><td>std  </td><td>two </td><td>hatchback</td><td>fwd</td><td>front</td><td> 94.5</td><td>⋯</td><td> 90</td><td>2bbl</td><td>3.03</td><td>3.11</td><td> 9.6</td><td> 70</td><td>5400</td><td>38</td><td>43</td><td> 6295</td></tr>\n",
       "</tbody>\n",
       "</table>\n"
      ],
      "text/latex": [
       "A data.frame: 10 × 26\n",
       "\\begin{tabular}{r|lllllllllllllllllllll}\n",
       "  & symb & normLoss & make & fuelType & aspiration & nDoors & bodyStyle & driveWheels & engineLocation & wheelBase & ⋯ & engineSize & fuelSystem & bore & stroke & compressionRatio & horsePower & peakRpm & cityMpg & highwayMpg & price\\\\\n",
       "  & <int> & <int> & <fct> & <fct> & <fct> & <fct> & <fct> & <fct> & <fct> & <dbl> & ⋯ & <int> & <fct> & <dbl> & <dbl> & <dbl> & <int> & <int> & <int> & <int> & <int>\\\\\n",
       "\\hline\n",
       "\t4 & 2 & 164 & audi      & gas & std   & four & sedan     & fwd & front &  99.8 & ⋯ & 109 & mpfi & 3.19 & 3.40 & 10.0 & 102 & 5500 & 24 & 30 & 13950\\\\\n",
       "\t5 & 2 & 164 & audi      & gas & std   & four & sedan     & 4wd & front &  99.4 & ⋯ & 136 & mpfi & 3.19 & 3.40 &  8.0 & 115 & 5500 & 18 & 22 & 17450\\\\\n",
       "\t7 & 1 & 158 & audi      & gas & std   & four & sedan     & fwd & front & 105.8 & ⋯ & 136 & mpfi & 3.19 & 3.40 &  8.5 & 110 & 5500 & 19 & 25 & 17710\\\\\n",
       "\t9 & 1 & 158 & audi      & gas & turbo & four & sedan     & fwd & front & 105.8 & ⋯ & 131 & mpfi & 3.13 & 3.40 &  8.3 & 140 & 5500 & 17 & 20 & 23875\\\\\n",
       "\t11 & 2 & 192 & bmw       & gas & std   & two  & sedan     & rwd & front & 101.2 & ⋯ & 108 & mpfi & 3.50 & 2.80 &  8.8 & 101 & 5800 & 23 & 29 & 16430\\\\\n",
       "\t12 & 0 & 192 & bmw       & gas & std   & four & sedan     & rwd & front & 101.2 & ⋯ & 108 & mpfi & 3.50 & 2.80 &  8.8 & 101 & 5800 & 23 & 29 & 16925\\\\\n",
       "\t13 & 0 & 188 & bmw       & gas & std   & two  & sedan     & rwd & front & 101.2 & ⋯ & 164 & mpfi & 3.31 & 3.19 &  9.0 & 121 & 4250 & 21 & 28 & 20970\\\\\n",
       "\t14 & 0 & 188 & bmw       & gas & std   & four & sedan     & rwd & front & 101.2 & ⋯ & 164 & mpfi & 3.31 & 3.19 &  9.0 & 121 & 4250 & 21 & 28 & 21105\\\\\n",
       "\t19 & 2 & 121 & chevrolet & gas & std   & two  & hatchback & fwd & front &  88.4 & ⋯ &  61 & 2bbl & 2.91 & 3.03 &  9.5 &  48 & 5100 & 47 & 53 &  5151\\\\\n",
       "\t20 & 1 &  98 & chevrolet & gas & std   & two  & hatchback & fwd & front &  94.5 & ⋯ &  90 & 2bbl & 3.03 & 3.11 &  9.6 &  70 & 5400 & 38 & 43 &  6295\\\\\n",
       "\\end{tabular}\n"
      ],
      "text/markdown": [
       "\n",
       "A data.frame: 10 × 26\n",
       "\n",
       "| <!--/--> | symb &lt;int&gt; | normLoss &lt;int&gt; | make &lt;fct&gt; | fuelType &lt;fct&gt; | aspiration &lt;fct&gt; | nDoors &lt;fct&gt; | bodyStyle &lt;fct&gt; | driveWheels &lt;fct&gt; | engineLocation &lt;fct&gt; | wheelBase &lt;dbl&gt; | ⋯ ⋯ | engineSize &lt;int&gt; | fuelSystem &lt;fct&gt; | bore &lt;dbl&gt; | stroke &lt;dbl&gt; | compressionRatio &lt;dbl&gt; | horsePower &lt;int&gt; | peakRpm &lt;int&gt; | cityMpg &lt;int&gt; | highwayMpg &lt;int&gt; | price &lt;int&gt; |\n",
       "|---|---|---|---|---|---|---|---|---|---|---|---|---|---|---|---|---|---|---|---|---|---|\n",
       "| 4 | 2 | 164 | audi      | gas | std   | four | sedan     | fwd | front |  99.8 | ⋯ | 109 | mpfi | 3.19 | 3.40 | 10.0 | 102 | 5500 | 24 | 30 | 13950 |\n",
       "| 5 | 2 | 164 | audi      | gas | std   | four | sedan     | 4wd | front |  99.4 | ⋯ | 136 | mpfi | 3.19 | 3.40 |  8.0 | 115 | 5500 | 18 | 22 | 17450 |\n",
       "| 7 | 1 | 158 | audi      | gas | std   | four | sedan     | fwd | front | 105.8 | ⋯ | 136 | mpfi | 3.19 | 3.40 |  8.5 | 110 | 5500 | 19 | 25 | 17710 |\n",
       "| 9 | 1 | 158 | audi      | gas | turbo | four | sedan     | fwd | front | 105.8 | ⋯ | 131 | mpfi | 3.13 | 3.40 |  8.3 | 140 | 5500 | 17 | 20 | 23875 |\n",
       "| 11 | 2 | 192 | bmw       | gas | std   | two  | sedan     | rwd | front | 101.2 | ⋯ | 108 | mpfi | 3.50 | 2.80 |  8.8 | 101 | 5800 | 23 | 29 | 16430 |\n",
       "| 12 | 0 | 192 | bmw       | gas | std   | four | sedan     | rwd | front | 101.2 | ⋯ | 108 | mpfi | 3.50 | 2.80 |  8.8 | 101 | 5800 | 23 | 29 | 16925 |\n",
       "| 13 | 0 | 188 | bmw       | gas | std   | two  | sedan     | rwd | front | 101.2 | ⋯ | 164 | mpfi | 3.31 | 3.19 |  9.0 | 121 | 4250 | 21 | 28 | 20970 |\n",
       "| 14 | 0 | 188 | bmw       | gas | std   | four | sedan     | rwd | front | 101.2 | ⋯ | 164 | mpfi | 3.31 | 3.19 |  9.0 | 121 | 4250 | 21 | 28 | 21105 |\n",
       "| 19 | 2 | 121 | chevrolet | gas | std   | two  | hatchback | fwd | front |  88.4 | ⋯ |  61 | 2bbl | 2.91 | 3.03 |  9.5 |  48 | 5100 | 47 | 53 |  5151 |\n",
       "| 20 | 1 |  98 | chevrolet | gas | std   | two  | hatchback | fwd | front |  94.5 | ⋯ |  90 | 2bbl | 3.03 | 3.11 |  9.6 |  70 | 5400 | 38 | 43 |  6295 |\n",
       "\n"
      ],
      "text/plain": [
       "   symb normLoss make      fuelType aspiration nDoors bodyStyle driveWheels\n",
       "4  2    164      audi      gas      std        four   sedan     fwd        \n",
       "5  2    164      audi      gas      std        four   sedan     4wd        \n",
       "7  1    158      audi      gas      std        four   sedan     fwd        \n",
       "9  1    158      audi      gas      turbo      four   sedan     fwd        \n",
       "11 2    192      bmw       gas      std        two    sedan     rwd        \n",
       "12 0    192      bmw       gas      std        four   sedan     rwd        \n",
       "13 0    188      bmw       gas      std        two    sedan     rwd        \n",
       "14 0    188      bmw       gas      std        four   sedan     rwd        \n",
       "19 2    121      chevrolet gas      std        two    hatchback fwd        \n",
       "20 1     98      chevrolet gas      std        two    hatchback fwd        \n",
       "   engineLocation wheelBase ⋯ engineSize fuelSystem bore stroke\n",
       "4  front           99.8     ⋯ 109        mpfi       3.19 3.40  \n",
       "5  front           99.4     ⋯ 136        mpfi       3.19 3.40  \n",
       "7  front          105.8     ⋯ 136        mpfi       3.19 3.40  \n",
       "9  front          105.8     ⋯ 131        mpfi       3.13 3.40  \n",
       "11 front          101.2     ⋯ 108        mpfi       3.50 2.80  \n",
       "12 front          101.2     ⋯ 108        mpfi       3.50 2.80  \n",
       "13 front          101.2     ⋯ 164        mpfi       3.31 3.19  \n",
       "14 front          101.2     ⋯ 164        mpfi       3.31 3.19  \n",
       "19 front           88.4     ⋯  61        2bbl       2.91 3.03  \n",
       "20 front           94.5     ⋯  90        2bbl       3.03 3.11  \n",
       "   compressionRatio horsePower peakRpm cityMpg highwayMpg price\n",
       "4  10.0             102        5500    24      30         13950\n",
       "5   8.0             115        5500    18      22         17450\n",
       "7   8.5             110        5500    19      25         17710\n",
       "9   8.3             140        5500    17      20         23875\n",
       "11  8.8             101        5800    23      29         16430\n",
       "12  8.8             101        5800    23      29         16925\n",
       "13  9.0             121        4250    21      28         20970\n",
       "14  9.0             121        4250    21      28         21105\n",
       "19  9.5              48        5100    47      53          5151\n",
       "20  9.6              70        5400    38      43          6295"
      ]
     },
     "metadata": {},
     "output_type": "display_data"
    }
   ],
   "source": [
    "# Calculate the most frequent value of \"nDoors\"\n",
    "most_frequent_nDoors <- new_df %>%\n",
    "  count(nDoors) %>%\n",
    "  filter(n == max(n)) %>%\n",
    "  pull(nDoors)\n",
    "\n",
    "# Create a new data set by imputing the most frequent value to the \"nDoors\" column\n",
    "new_dataset3 <- new_df %>%\n",
    "  mutate(nDoors = if_else(is.na(nDoors), most_frequent_nDoors, nDoors))\n",
    "head(new_dataset3,10)"
   ]
  },
  {
   "cell_type": "markdown",
   "metadata": {},
   "source": [
    "### (h) Combine the three last imputations to obtain a final dataset. Are there any duplicated cases?Tip: use the functions distinct() and count()\n"
   ]
  },
  {
   "cell_type": "code",
   "execution_count": 51,
   "metadata": {},
   "outputs": [
    {
     "data": {
      "text/html": [
       "<table class=\"dataframe\">\n",
       "<caption>A data.frame: 477 × 26</caption>\n",
       "<thead>\n",
       "\t<tr><th scope=col>symb</th><th scope=col>normLoss</th><th scope=col>make</th><th scope=col>fuelType</th><th scope=col>aspiration</th><th scope=col>nDoors</th><th scope=col>bodyStyle</th><th scope=col>driveWheels</th><th scope=col>engineLocation</th><th scope=col>wheelBase</th><th scope=col>⋯</th><th scope=col>engineSize</th><th scope=col>fuelSystem</th><th scope=col>bore</th><th scope=col>stroke</th><th scope=col>compressionRatio</th><th scope=col>horsePower</th><th scope=col>peakRpm</th><th scope=col>cityMpg</th><th scope=col>highwayMpg</th><th scope=col>price</th></tr>\n",
       "\t<tr><th scope=col>&lt;int&gt;</th><th scope=col>&lt;int&gt;</th><th scope=col>&lt;fct&gt;</th><th scope=col>&lt;fct&gt;</th><th scope=col>&lt;fct&gt;</th><th scope=col>&lt;fct&gt;</th><th scope=col>&lt;fct&gt;</th><th scope=col>&lt;fct&gt;</th><th scope=col>&lt;fct&gt;</th><th scope=col>&lt;dbl&gt;</th><th scope=col>⋯</th><th scope=col>&lt;int&gt;</th><th scope=col>&lt;fct&gt;</th><th scope=col>&lt;dbl&gt;</th><th scope=col>&lt;dbl&gt;</th><th scope=col>&lt;dbl&gt;</th><th scope=col>&lt;int&gt;</th><th scope=col>&lt;int&gt;</th><th scope=col>&lt;int&gt;</th><th scope=col>&lt;int&gt;</th><th scope=col>&lt;int&gt;</th></tr>\n",
       "</thead>\n",
       "<tbody>\n",
       "\t<tr><td> 2</td><td>164</td><td>audi     </td><td>gas</td><td>std  </td><td>four</td><td>sedan    </td><td>fwd</td><td>front</td><td> 99.8</td><td>⋯</td><td>109</td><td>mpfi</td><td>3.19</td><td>3.40</td><td>10.00</td><td>102</td><td>5500</td><td>24</td><td>30</td><td>13950</td></tr>\n",
       "\t<tr><td> 2</td><td>164</td><td>audi     </td><td>gas</td><td>std  </td><td>four</td><td>sedan    </td><td>4wd</td><td>front</td><td> 99.4</td><td>⋯</td><td>136</td><td>mpfi</td><td>3.19</td><td>3.40</td><td> 8.00</td><td>115</td><td>5500</td><td>18</td><td>22</td><td>17450</td></tr>\n",
       "\t<tr><td> 1</td><td>158</td><td>audi     </td><td>gas</td><td>std  </td><td>four</td><td>sedan    </td><td>fwd</td><td>front</td><td>105.8</td><td>⋯</td><td>136</td><td>mpfi</td><td>3.19</td><td>3.40</td><td> 8.50</td><td>110</td><td>5500</td><td>19</td><td>25</td><td>17710</td></tr>\n",
       "\t<tr><td> 1</td><td>158</td><td>audi     </td><td>gas</td><td>turbo</td><td>four</td><td>sedan    </td><td>fwd</td><td>front</td><td>105.8</td><td>⋯</td><td>131</td><td>mpfi</td><td>3.13</td><td>3.40</td><td> 8.30</td><td>140</td><td>5500</td><td>17</td><td>20</td><td>23875</td></tr>\n",
       "\t<tr><td> 2</td><td>192</td><td>bmw      </td><td>gas</td><td>std  </td><td>two </td><td>sedan    </td><td>rwd</td><td>front</td><td>101.2</td><td>⋯</td><td>108</td><td>mpfi</td><td>3.50</td><td>2.80</td><td> 8.80</td><td>101</td><td>5800</td><td>23</td><td>29</td><td>16430</td></tr>\n",
       "\t<tr><td> 0</td><td>192</td><td>bmw      </td><td>gas</td><td>std  </td><td>four</td><td>sedan    </td><td>rwd</td><td>front</td><td>101.2</td><td>⋯</td><td>108</td><td>mpfi</td><td>3.50</td><td>2.80</td><td> 8.80</td><td>101</td><td>5800</td><td>23</td><td>29</td><td>16925</td></tr>\n",
       "\t<tr><td> 0</td><td>188</td><td>bmw      </td><td>gas</td><td>std  </td><td>two </td><td>sedan    </td><td>rwd</td><td>front</td><td>101.2</td><td>⋯</td><td>164</td><td>mpfi</td><td>3.31</td><td>3.19</td><td> 9.00</td><td>121</td><td>4250</td><td>21</td><td>28</td><td>20970</td></tr>\n",
       "\t<tr><td> 0</td><td>188</td><td>bmw      </td><td>gas</td><td>std  </td><td>four</td><td>sedan    </td><td>rwd</td><td>front</td><td>101.2</td><td>⋯</td><td>164</td><td>mpfi</td><td>3.31</td><td>3.19</td><td> 9.00</td><td>121</td><td>4250</td><td>21</td><td>28</td><td>21105</td></tr>\n",
       "\t<tr><td> 2</td><td>121</td><td>chevrolet</td><td>gas</td><td>std  </td><td>two </td><td>hatchback</td><td>fwd</td><td>front</td><td> 88.4</td><td>⋯</td><td> 61</td><td>2bbl</td><td>2.91</td><td>3.03</td><td> 9.50</td><td> 48</td><td>5100</td><td>47</td><td>53</td><td> 5151</td></tr>\n",
       "\t<tr><td> 1</td><td> 98</td><td>chevrolet</td><td>gas</td><td>std  </td><td>two </td><td>hatchback</td><td>fwd</td><td>front</td><td> 94.5</td><td>⋯</td><td> 90</td><td>2bbl</td><td>3.03</td><td>3.11</td><td> 9.60</td><td> 70</td><td>5400</td><td>38</td><td>43</td><td> 6295</td></tr>\n",
       "\t<tr><td> 0</td><td> 81</td><td>chevrolet</td><td>gas</td><td>std  </td><td>four</td><td>sedan    </td><td>fwd</td><td>front</td><td> 94.5</td><td>⋯</td><td> 90</td><td>2bbl</td><td>3.03</td><td>3.11</td><td> 9.60</td><td> 70</td><td>5400</td><td>38</td><td>43</td><td> 6575</td></tr>\n",
       "\t<tr><td> 1</td><td>118</td><td>dodge    </td><td>gas</td><td>std  </td><td>two </td><td>hatchback</td><td>fwd</td><td>front</td><td> 93.7</td><td>⋯</td><td> 90</td><td>2bbl</td><td>2.97</td><td>3.23</td><td> 9.41</td><td> 68</td><td>5500</td><td>37</td><td>41</td><td> 5572</td></tr>\n",
       "\t<tr><td> 1</td><td>118</td><td>dodge    </td><td>gas</td><td>std  </td><td>two </td><td>hatchback</td><td>fwd</td><td>front</td><td> 93.7</td><td>⋯</td><td> 90</td><td>2bbl</td><td>2.97</td><td>3.23</td><td> 9.40</td><td> 68</td><td>5500</td><td>31</td><td>38</td><td> 6377</td></tr>\n",
       "\t<tr><td> 1</td><td>118</td><td>dodge    </td><td>gas</td><td>turbo</td><td>two </td><td>hatchback</td><td>fwd</td><td>front</td><td> 93.7</td><td>⋯</td><td> 98</td><td>mpfi</td><td>3.03</td><td>3.39</td><td> 7.60</td><td>102</td><td>5500</td><td>24</td><td>30</td><td> 7957</td></tr>\n",
       "\t<tr><td> 1</td><td>148</td><td>dodge    </td><td>gas</td><td>std  </td><td>four</td><td>hatchback</td><td>fwd</td><td>front</td><td> 93.7</td><td>⋯</td><td> 90</td><td>2bbl</td><td>2.97</td><td>3.23</td><td> 9.40</td><td> 68</td><td>5500</td><td>31</td><td>38</td><td> 6229</td></tr>\n",
       "\t<tr><td> 1</td><td>148</td><td>dodge    </td><td>gas</td><td>std  </td><td>four</td><td>sedan    </td><td>fwd</td><td>front</td><td> 93.7</td><td>⋯</td><td> 90</td><td>2bbl</td><td>2.97</td><td>3.23</td><td> 9.40</td><td> 68</td><td>5500</td><td>31</td><td>38</td><td> 6692</td></tr>\n",
       "\t<tr><td> 1</td><td>148</td><td>dodge    </td><td>gas</td><td>std  </td><td>four</td><td>sedan    </td><td>fwd</td><td>front</td><td> 93.7</td><td>⋯</td><td> 90</td><td>2bbl</td><td>2.97</td><td>3.23</td><td> 9.40</td><td> 68</td><td>5500</td><td>31</td><td>38</td><td> 7609</td></tr>\n",
       "\t<tr><td>-1</td><td>110</td><td>dodge    </td><td>gas</td><td>std  </td><td>four</td><td>wagon    </td><td>fwd</td><td>front</td><td>103.3</td><td>⋯</td><td>122</td><td>2bbl</td><td>3.34</td><td>3.46</td><td> 8.50</td><td> 88</td><td>5000</td><td>24</td><td>30</td><td> 8921</td></tr>\n",
       "\t<tr><td> 3</td><td>145</td><td>dodge    </td><td>gas</td><td>turbo</td><td>two </td><td>hatchback</td><td>fwd</td><td>front</td><td> 95.9</td><td>⋯</td><td>156</td><td>mfi </td><td>3.60</td><td>3.90</td><td> 7.00</td><td>145</td><td>5000</td><td>19</td><td>24</td><td>12964</td></tr>\n",
       "\t<tr><td> 2</td><td>137</td><td>honda    </td><td>gas</td><td>std  </td><td>two </td><td>hatchback</td><td>fwd</td><td>front</td><td> 86.6</td><td>⋯</td><td> 92</td><td>1bbl</td><td>2.91</td><td>3.41</td><td> 9.60</td><td> 58</td><td>4800</td><td>49</td><td>54</td><td> 6479</td></tr>\n",
       "\t<tr><td> 2</td><td>137</td><td>honda    </td><td>gas</td><td>std  </td><td>two </td><td>hatchback</td><td>fwd</td><td>front</td><td> 86.6</td><td>⋯</td><td> 92</td><td>1bbl</td><td>2.91</td><td>3.41</td><td> 9.20</td><td> 76</td><td>6000</td><td>31</td><td>38</td><td> 6855</td></tr>\n",
       "\t<tr><td> 1</td><td>101</td><td>honda    </td><td>gas</td><td>std  </td><td>two </td><td>hatchback</td><td>fwd</td><td>front</td><td> 93.7</td><td>⋯</td><td> 79</td><td>1bbl</td><td>2.91</td><td>3.07</td><td>10.10</td><td> 60</td><td>5500</td><td>38</td><td>42</td><td> 5399</td></tr>\n",
       "\t<tr><td> 1</td><td>101</td><td>honda    </td><td>gas</td><td>std  </td><td>two </td><td>hatchback</td><td>fwd</td><td>front</td><td> 93.7</td><td>⋯</td><td> 92</td><td>1bbl</td><td>2.91</td><td>3.41</td><td> 9.20</td><td> 76</td><td>6000</td><td>30</td><td>34</td><td> 6529</td></tr>\n",
       "\t<tr><td> 1</td><td>101</td><td>honda    </td><td>gas</td><td>std  </td><td>two </td><td>hatchback</td><td>fwd</td><td>front</td><td> 93.7</td><td>⋯</td><td> 92</td><td>1bbl</td><td>2.91</td><td>3.41</td><td> 9.20</td><td> 76</td><td>6000</td><td>30</td><td>34</td><td> 7129</td></tr>\n",
       "\t<tr><td> 0</td><td>110</td><td>honda    </td><td>gas</td><td>std  </td><td>four</td><td>sedan    </td><td>fwd</td><td>front</td><td> 96.5</td><td>⋯</td><td> 92</td><td>1bbl</td><td>2.91</td><td>3.41</td><td> 9.20</td><td> 76</td><td>6000</td><td>30</td><td>34</td><td> 7295</td></tr>\n",
       "\t<tr><td> 0</td><td> 78</td><td>honda    </td><td>gas</td><td>std  </td><td>four</td><td>wagon    </td><td>fwd</td><td>front</td><td> 96.5</td><td>⋯</td><td> 92</td><td>1bbl</td><td>2.92</td><td>3.41</td><td> 9.20</td><td> 76</td><td>6000</td><td>30</td><td>34</td><td> 7295</td></tr>\n",
       "\t<tr><td> 0</td><td>106</td><td>honda    </td><td>gas</td><td>std  </td><td>two </td><td>hatchback</td><td>fwd</td><td>front</td><td> 96.5</td><td>⋯</td><td>110</td><td>1bbl</td><td>3.15</td><td>3.58</td><td> 9.00</td><td> 86</td><td>5800</td><td>27</td><td>33</td><td> 7895</td></tr>\n",
       "\t<tr><td> 0</td><td>106</td><td>honda    </td><td>gas</td><td>std  </td><td>two </td><td>hatchback</td><td>fwd</td><td>front</td><td> 96.5</td><td>⋯</td><td>110</td><td>1bbl</td><td>3.15</td><td>3.58</td><td> 9.00</td><td> 86</td><td>5800</td><td>27</td><td>33</td><td> 9095</td></tr>\n",
       "\t<tr><td> 0</td><td> 85</td><td>honda    </td><td>gas</td><td>std  </td><td>four</td><td>sedan    </td><td>fwd</td><td>front</td><td> 96.5</td><td>⋯</td><td>110</td><td>1bbl</td><td>3.15</td><td>3.58</td><td> 9.00</td><td> 86</td><td>5800</td><td>27</td><td>33</td><td> 8845</td></tr>\n",
       "\t<tr><td> 0</td><td> 85</td><td>honda    </td><td>gas</td><td>std  </td><td>four</td><td>sedan    </td><td>fwd</td><td>front</td><td> 96.5</td><td>⋯</td><td>110</td><td>1bbl</td><td>3.15</td><td>3.58</td><td> 9.00</td><td> 86</td><td>5800</td><td>27</td><td>33</td><td>10295</td></tr>\n",
       "\t<tr><td>⋮</td><td>⋮</td><td>⋮</td><td>⋮</td><td>⋮</td><td>⋮</td><td>⋮</td><td>⋮</td><td>⋮</td><td>⋮</td><td>⋱</td><td>⋮</td><td>⋮</td><td>⋮</td><td>⋮</td><td>⋮</td><td>⋮</td><td>⋮</td><td>⋮</td><td>⋮</td><td>⋮</td></tr>\n",
       "\t<tr><td> 2</td><td>134</td><td>toyota    </td><td>gas   </td><td>std  </td><td>two </td><td>hardtop    </td><td>rwd</td><td>front</td><td> 98.4</td><td>⋯</td><td>146</td><td>mpfi</td><td>3.62</td><td>3.50</td><td> 9.3</td><td>116</td><td>4800</td><td>24</td><td>30</td><td>11199</td></tr>\n",
       "\t<tr><td> 2</td><td>134</td><td>toyota    </td><td>gas   </td><td>std  </td><td>two </td><td>hatchback  </td><td>rwd</td><td>front</td><td> 98.4</td><td>⋯</td><td>146</td><td>mpfi</td><td>3.62</td><td>3.50</td><td> 9.3</td><td>116</td><td>4800</td><td>24</td><td>30</td><td>11549</td></tr>\n",
       "\t<tr><td> 2</td><td>134</td><td>toyota    </td><td>gas   </td><td>std  </td><td>two </td><td>convertible</td><td>rwd</td><td>front</td><td> 98.4</td><td>⋯</td><td>146</td><td>mpfi</td><td>3.62</td><td>3.50</td><td> 9.3</td><td>116</td><td>4800</td><td>24</td><td>30</td><td>17669</td></tr>\n",
       "\t<tr><td>-1</td><td> 65</td><td>toyota    </td><td>gas   </td><td>std  </td><td>four</td><td>sedan      </td><td>fwd</td><td>front</td><td>102.4</td><td>⋯</td><td>122</td><td>mpfi</td><td>3.31</td><td>3.54</td><td> 8.7</td><td> 92</td><td>4200</td><td>29</td><td>34</td><td> 8948</td></tr>\n",
       "\t<tr><td>-1</td><td> 65</td><td>toyota    </td><td>diesel</td><td>turbo</td><td>four</td><td>sedan      </td><td>fwd</td><td>front</td><td>102.4</td><td>⋯</td><td>110</td><td>idi </td><td>3.27</td><td>3.35</td><td>22.5</td><td> 73</td><td>4500</td><td>30</td><td>33</td><td>10698</td></tr>\n",
       "\t<tr><td>-1</td><td> 65</td><td>toyota    </td><td>gas   </td><td>std  </td><td>four</td><td>hatchback  </td><td>fwd</td><td>front</td><td>102.4</td><td>⋯</td><td>122</td><td>mpfi</td><td>3.31</td><td>3.54</td><td> 8.7</td><td> 92</td><td>4200</td><td>27</td><td>32</td><td> 9988</td></tr>\n",
       "\t<tr><td>-1</td><td> 65</td><td>toyota    </td><td>gas   </td><td>std  </td><td>four</td><td>sedan      </td><td>fwd</td><td>front</td><td>102.4</td><td>⋯</td><td>122</td><td>mpfi</td><td>3.31</td><td>3.54</td><td> 8.7</td><td> 92</td><td>4200</td><td>27</td><td>32</td><td>10898</td></tr>\n",
       "\t<tr><td>-1</td><td> 65</td><td>toyota    </td><td>gas   </td><td>std  </td><td>four</td><td>hatchback  </td><td>fwd</td><td>front</td><td>102.4</td><td>⋯</td><td>122</td><td>mpfi</td><td>3.31</td><td>3.54</td><td> 8.7</td><td> 92</td><td>4200</td><td>27</td><td>32</td><td>11248</td></tr>\n",
       "\t<tr><td> 3</td><td>197</td><td>toyota    </td><td>gas   </td><td>std  </td><td>two </td><td>hatchback  </td><td>rwd</td><td>front</td><td>102.9</td><td>⋯</td><td>171</td><td>mpfi</td><td>3.27</td><td>3.35</td><td> 9.3</td><td>161</td><td>5200</td><td>20</td><td>24</td><td>16558</td></tr>\n",
       "\t<tr><td> 3</td><td>197</td><td>toyota    </td><td>gas   </td><td>std  </td><td>two </td><td>hatchback  </td><td>rwd</td><td>front</td><td>102.9</td><td>⋯</td><td>171</td><td>mpfi</td><td>3.27</td><td>3.35</td><td> 9.3</td><td>161</td><td>5200</td><td>19</td><td>24</td><td>15998</td></tr>\n",
       "\t<tr><td>-1</td><td> 90</td><td>toyota    </td><td>gas   </td><td>std  </td><td>four</td><td>sedan      </td><td>rwd</td><td>front</td><td>104.5</td><td>⋯</td><td>171</td><td>mpfi</td><td>3.27</td><td>3.35</td><td> 9.2</td><td>156</td><td>5200</td><td>20</td><td>24</td><td>15690</td></tr>\n",
       "\t<tr><td> 2</td><td>122</td><td>volkswagen</td><td>diesel</td><td>std  </td><td>two </td><td>sedan      </td><td>fwd</td><td>front</td><td> 97.3</td><td>⋯</td><td> 97</td><td>idi </td><td>3.01</td><td>3.40</td><td>23.0</td><td> 52</td><td>4800</td><td>37</td><td>46</td><td> 7775</td></tr>\n",
       "\t<tr><td> 2</td><td>122</td><td>volkswagen</td><td>gas   </td><td>std  </td><td>two </td><td>sedan      </td><td>fwd</td><td>front</td><td> 97.3</td><td>⋯</td><td>109</td><td>mpfi</td><td>3.19</td><td>3.40</td><td> 9.0</td><td> 85</td><td>5250</td><td>27</td><td>34</td><td> 7975</td></tr>\n",
       "\t<tr><td> 2</td><td> 94</td><td>volkswagen</td><td>diesel</td><td>std  </td><td>four</td><td>sedan      </td><td>fwd</td><td>front</td><td> 97.3</td><td>⋯</td><td> 97</td><td>idi </td><td>3.01</td><td>3.40</td><td>23.0</td><td> 52</td><td>4800</td><td>37</td><td>46</td><td> 7995</td></tr>\n",
       "\t<tr><td> 2</td><td> 94</td><td>volkswagen</td><td>gas   </td><td>std  </td><td>four</td><td>sedan      </td><td>fwd</td><td>front</td><td> 97.3</td><td>⋯</td><td>109</td><td>mpfi</td><td>3.19</td><td>3.40</td><td> 9.0</td><td> 85</td><td>5250</td><td>27</td><td>34</td><td> 8195</td></tr>\n",
       "\t<tr><td> 2</td><td> 94</td><td>volkswagen</td><td>gas   </td><td>std  </td><td>four</td><td>sedan      </td><td>fwd</td><td>front</td><td> 97.3</td><td>⋯</td><td>109</td><td>mpfi</td><td>3.19</td><td>3.40</td><td> 9.0</td><td> 85</td><td>5250</td><td>27</td><td>34</td><td> 8495</td></tr>\n",
       "\t<tr><td> 2</td><td> 94</td><td>volkswagen</td><td>diesel</td><td>turbo</td><td>four</td><td>sedan      </td><td>fwd</td><td>front</td><td> 97.3</td><td>⋯</td><td> 97</td><td>idi </td><td>3.01</td><td>3.40</td><td>23.0</td><td> 68</td><td>4500</td><td>37</td><td>42</td><td> 9495</td></tr>\n",
       "\t<tr><td> 2</td><td> 94</td><td>volkswagen</td><td>gas   </td><td>std  </td><td>four</td><td>sedan      </td><td>fwd</td><td>front</td><td> 97.3</td><td>⋯</td><td>109</td><td>mpfi</td><td>3.19</td><td>3.40</td><td>10.0</td><td>100</td><td>5500</td><td>26</td><td>32</td><td> 9995</td></tr>\n",
       "\t<tr><td> 3</td><td>256</td><td>volkswagen</td><td>gas   </td><td>std  </td><td>two </td><td>hatchback  </td><td>fwd</td><td>front</td><td> 94.5</td><td>⋯</td><td>109</td><td>mpfi</td><td>3.19</td><td>3.40</td><td> 8.5</td><td> 90</td><td>5500</td><td>24</td><td>29</td><td> 9980</td></tr>\n",
       "\t<tr><td>-2</td><td>103</td><td>volvo     </td><td>gas   </td><td>std  </td><td>four</td><td>sedan      </td><td>rwd</td><td>front</td><td>104.3</td><td>⋯</td><td>141</td><td>mpfi</td><td>3.78</td><td>3.15</td><td> 9.5</td><td>114</td><td>5400</td><td>23</td><td>28</td><td>12940</td></tr>\n",
       "\t<tr><td>-1</td><td> 74</td><td>volvo     </td><td>gas   </td><td>std  </td><td>four</td><td>wagon      </td><td>rwd</td><td>front</td><td>104.3</td><td>⋯</td><td>141</td><td>mpfi</td><td>3.78</td><td>3.15</td><td> 9.5</td><td>114</td><td>5400</td><td>23</td><td>28</td><td>13415</td></tr>\n",
       "\t<tr><td>-2</td><td>103</td><td>volvo     </td><td>gas   </td><td>std  </td><td>four</td><td>sedan      </td><td>rwd</td><td>front</td><td>104.3</td><td>⋯</td><td>141</td><td>mpfi</td><td>3.78</td><td>3.15</td><td> 9.5</td><td>114</td><td>5400</td><td>24</td><td>28</td><td>15985</td></tr>\n",
       "\t<tr><td>-1</td><td> 74</td><td>volvo     </td><td>gas   </td><td>std  </td><td>four</td><td>wagon      </td><td>rwd</td><td>front</td><td>104.3</td><td>⋯</td><td>141</td><td>mpfi</td><td>3.78</td><td>3.15</td><td> 9.5</td><td>114</td><td>5400</td><td>24</td><td>28</td><td>16515</td></tr>\n",
       "\t<tr><td>-2</td><td>103</td><td>volvo     </td><td>gas   </td><td>turbo</td><td>four</td><td>sedan      </td><td>rwd</td><td>front</td><td>104.3</td><td>⋯</td><td>130</td><td>mpfi</td><td>3.62</td><td>3.15</td><td> 7.5</td><td>162</td><td>5100</td><td>17</td><td>22</td><td>18420</td></tr>\n",
       "\t<tr><td>-1</td><td> 74</td><td>volvo     </td><td>gas   </td><td>turbo</td><td>four</td><td>wagon      </td><td>rwd</td><td>front</td><td>104.3</td><td>⋯</td><td>130</td><td>mpfi</td><td>3.62</td><td>3.15</td><td> 7.5</td><td>162</td><td>5100</td><td>17</td><td>22</td><td>18950</td></tr>\n",
       "\t<tr><td>-1</td><td> 95</td><td>volvo     </td><td>gas   </td><td>std  </td><td>four</td><td>sedan      </td><td>rwd</td><td>front</td><td>109.1</td><td>⋯</td><td>141</td><td>mpfi</td><td>3.78</td><td>3.15</td><td> 9.5</td><td>114</td><td>5400</td><td>23</td><td>28</td><td>16845</td></tr>\n",
       "\t<tr><td>-1</td><td> 95</td><td>volvo     </td><td>gas   </td><td>turbo</td><td>four</td><td>sedan      </td><td>rwd</td><td>front</td><td>109.1</td><td>⋯</td><td>141</td><td>mpfi</td><td>3.78</td><td>3.15</td><td> 8.7</td><td>160</td><td>5300</td><td>19</td><td>25</td><td>19045</td></tr>\n",
       "\t<tr><td>-1</td><td> 95</td><td>volvo     </td><td>gas   </td><td>std  </td><td>four</td><td>sedan      </td><td>rwd</td><td>front</td><td>109.1</td><td>⋯</td><td>173</td><td>mpfi</td><td>3.58</td><td>2.87</td><td> 8.8</td><td>134</td><td>5500</td><td>18</td><td>23</td><td>21485</td></tr>\n",
       "\t<tr><td>-1</td><td> 95</td><td>volvo     </td><td>diesel</td><td>turbo</td><td>four</td><td>sedan      </td><td>rwd</td><td>front</td><td>109.1</td><td>⋯</td><td>145</td><td>idi </td><td>3.01</td><td>3.40</td><td>23.0</td><td>106</td><td>4800</td><td>26</td><td>27</td><td>22470</td></tr>\n",
       "\t<tr><td>-1</td><td> 95</td><td>volvo     </td><td>gas   </td><td>turbo</td><td>four</td><td>sedan      </td><td>rwd</td><td>front</td><td>109.1</td><td>⋯</td><td>141</td><td>mpfi</td><td>3.78</td><td>3.15</td><td> 9.5</td><td>114</td><td>5400</td><td>19</td><td>25</td><td>22625</td></tr>\n",
       "</tbody>\n",
       "</table>\n"
      ],
      "text/latex": [
       "A data.frame: 477 × 26\n",
       "\\begin{tabular}{lllllllllllllllllllll}\n",
       " symb & normLoss & make & fuelType & aspiration & nDoors & bodyStyle & driveWheels & engineLocation & wheelBase & ⋯ & engineSize & fuelSystem & bore & stroke & compressionRatio & horsePower & peakRpm & cityMpg & highwayMpg & price\\\\\n",
       " <int> & <int> & <fct> & <fct> & <fct> & <fct> & <fct> & <fct> & <fct> & <dbl> & ⋯ & <int> & <fct> & <dbl> & <dbl> & <dbl> & <int> & <int> & <int> & <int> & <int>\\\\\n",
       "\\hline\n",
       "\t  2 & 164 & audi      & gas & std   & four & sedan     & fwd & front &  99.8 & ⋯ & 109 & mpfi & 3.19 & 3.40 & 10.00 & 102 & 5500 & 24 & 30 & 13950\\\\\n",
       "\t  2 & 164 & audi      & gas & std   & four & sedan     & 4wd & front &  99.4 & ⋯ & 136 & mpfi & 3.19 & 3.40 &  8.00 & 115 & 5500 & 18 & 22 & 17450\\\\\n",
       "\t  1 & 158 & audi      & gas & std   & four & sedan     & fwd & front & 105.8 & ⋯ & 136 & mpfi & 3.19 & 3.40 &  8.50 & 110 & 5500 & 19 & 25 & 17710\\\\\n",
       "\t  1 & 158 & audi      & gas & turbo & four & sedan     & fwd & front & 105.8 & ⋯ & 131 & mpfi & 3.13 & 3.40 &  8.30 & 140 & 5500 & 17 & 20 & 23875\\\\\n",
       "\t  2 & 192 & bmw       & gas & std   & two  & sedan     & rwd & front & 101.2 & ⋯ & 108 & mpfi & 3.50 & 2.80 &  8.80 & 101 & 5800 & 23 & 29 & 16430\\\\\n",
       "\t  0 & 192 & bmw       & gas & std   & four & sedan     & rwd & front & 101.2 & ⋯ & 108 & mpfi & 3.50 & 2.80 &  8.80 & 101 & 5800 & 23 & 29 & 16925\\\\\n",
       "\t  0 & 188 & bmw       & gas & std   & two  & sedan     & rwd & front & 101.2 & ⋯ & 164 & mpfi & 3.31 & 3.19 &  9.00 & 121 & 4250 & 21 & 28 & 20970\\\\\n",
       "\t  0 & 188 & bmw       & gas & std   & four & sedan     & rwd & front & 101.2 & ⋯ & 164 & mpfi & 3.31 & 3.19 &  9.00 & 121 & 4250 & 21 & 28 & 21105\\\\\n",
       "\t  2 & 121 & chevrolet & gas & std   & two  & hatchback & fwd & front &  88.4 & ⋯ &  61 & 2bbl & 2.91 & 3.03 &  9.50 &  48 & 5100 & 47 & 53 &  5151\\\\\n",
       "\t  1 &  98 & chevrolet & gas & std   & two  & hatchback & fwd & front &  94.5 & ⋯ &  90 & 2bbl & 3.03 & 3.11 &  9.60 &  70 & 5400 & 38 & 43 &  6295\\\\\n",
       "\t  0 &  81 & chevrolet & gas & std   & four & sedan     & fwd & front &  94.5 & ⋯ &  90 & 2bbl & 3.03 & 3.11 &  9.60 &  70 & 5400 & 38 & 43 &  6575\\\\\n",
       "\t  1 & 118 & dodge     & gas & std   & two  & hatchback & fwd & front &  93.7 & ⋯ &  90 & 2bbl & 2.97 & 3.23 &  9.41 &  68 & 5500 & 37 & 41 &  5572\\\\\n",
       "\t  1 & 118 & dodge     & gas & std   & two  & hatchback & fwd & front &  93.7 & ⋯ &  90 & 2bbl & 2.97 & 3.23 &  9.40 &  68 & 5500 & 31 & 38 &  6377\\\\\n",
       "\t  1 & 118 & dodge     & gas & turbo & two  & hatchback & fwd & front &  93.7 & ⋯ &  98 & mpfi & 3.03 & 3.39 &  7.60 & 102 & 5500 & 24 & 30 &  7957\\\\\n",
       "\t  1 & 148 & dodge     & gas & std   & four & hatchback & fwd & front &  93.7 & ⋯ &  90 & 2bbl & 2.97 & 3.23 &  9.40 &  68 & 5500 & 31 & 38 &  6229\\\\\n",
       "\t  1 & 148 & dodge     & gas & std   & four & sedan     & fwd & front &  93.7 & ⋯ &  90 & 2bbl & 2.97 & 3.23 &  9.40 &  68 & 5500 & 31 & 38 &  6692\\\\\n",
       "\t  1 & 148 & dodge     & gas & std   & four & sedan     & fwd & front &  93.7 & ⋯ &  90 & 2bbl & 2.97 & 3.23 &  9.40 &  68 & 5500 & 31 & 38 &  7609\\\\\n",
       "\t -1 & 110 & dodge     & gas & std   & four & wagon     & fwd & front & 103.3 & ⋯ & 122 & 2bbl & 3.34 & 3.46 &  8.50 &  88 & 5000 & 24 & 30 &  8921\\\\\n",
       "\t  3 & 145 & dodge     & gas & turbo & two  & hatchback & fwd & front &  95.9 & ⋯ & 156 & mfi  & 3.60 & 3.90 &  7.00 & 145 & 5000 & 19 & 24 & 12964\\\\\n",
       "\t  2 & 137 & honda     & gas & std   & two  & hatchback & fwd & front &  86.6 & ⋯ &  92 & 1bbl & 2.91 & 3.41 &  9.60 &  58 & 4800 & 49 & 54 &  6479\\\\\n",
       "\t  2 & 137 & honda     & gas & std   & two  & hatchback & fwd & front &  86.6 & ⋯ &  92 & 1bbl & 2.91 & 3.41 &  9.20 &  76 & 6000 & 31 & 38 &  6855\\\\\n",
       "\t  1 & 101 & honda     & gas & std   & two  & hatchback & fwd & front &  93.7 & ⋯ &  79 & 1bbl & 2.91 & 3.07 & 10.10 &  60 & 5500 & 38 & 42 &  5399\\\\\n",
       "\t  1 & 101 & honda     & gas & std   & two  & hatchback & fwd & front &  93.7 & ⋯ &  92 & 1bbl & 2.91 & 3.41 &  9.20 &  76 & 6000 & 30 & 34 &  6529\\\\\n",
       "\t  1 & 101 & honda     & gas & std   & two  & hatchback & fwd & front &  93.7 & ⋯ &  92 & 1bbl & 2.91 & 3.41 &  9.20 &  76 & 6000 & 30 & 34 &  7129\\\\\n",
       "\t  0 & 110 & honda     & gas & std   & four & sedan     & fwd & front &  96.5 & ⋯ &  92 & 1bbl & 2.91 & 3.41 &  9.20 &  76 & 6000 & 30 & 34 &  7295\\\\\n",
       "\t  0 &  78 & honda     & gas & std   & four & wagon     & fwd & front &  96.5 & ⋯ &  92 & 1bbl & 2.92 & 3.41 &  9.20 &  76 & 6000 & 30 & 34 &  7295\\\\\n",
       "\t  0 & 106 & honda     & gas & std   & two  & hatchback & fwd & front &  96.5 & ⋯ & 110 & 1bbl & 3.15 & 3.58 &  9.00 &  86 & 5800 & 27 & 33 &  7895\\\\\n",
       "\t  0 & 106 & honda     & gas & std   & two  & hatchback & fwd & front &  96.5 & ⋯ & 110 & 1bbl & 3.15 & 3.58 &  9.00 &  86 & 5800 & 27 & 33 &  9095\\\\\n",
       "\t  0 &  85 & honda     & gas & std   & four & sedan     & fwd & front &  96.5 & ⋯ & 110 & 1bbl & 3.15 & 3.58 &  9.00 &  86 & 5800 & 27 & 33 &  8845\\\\\n",
       "\t  0 &  85 & honda     & gas & std   & four & sedan     & fwd & front &  96.5 & ⋯ & 110 & 1bbl & 3.15 & 3.58 &  9.00 &  86 & 5800 & 27 & 33 & 10295\\\\\n",
       "\t ⋮ & ⋮ & ⋮ & ⋮ & ⋮ & ⋮ & ⋮ & ⋮ & ⋮ & ⋮ & ⋱ & ⋮ & ⋮ & ⋮ & ⋮ & ⋮ & ⋮ & ⋮ & ⋮ & ⋮ & ⋮\\\\\n",
       "\t  2 & 134 & toyota     & gas    & std   & two  & hardtop     & rwd & front &  98.4 & ⋯ & 146 & mpfi & 3.62 & 3.50 &  9.3 & 116 & 4800 & 24 & 30 & 11199\\\\\n",
       "\t  2 & 134 & toyota     & gas    & std   & two  & hatchback   & rwd & front &  98.4 & ⋯ & 146 & mpfi & 3.62 & 3.50 &  9.3 & 116 & 4800 & 24 & 30 & 11549\\\\\n",
       "\t  2 & 134 & toyota     & gas    & std   & two  & convertible & rwd & front &  98.4 & ⋯ & 146 & mpfi & 3.62 & 3.50 &  9.3 & 116 & 4800 & 24 & 30 & 17669\\\\\n",
       "\t -1 &  65 & toyota     & gas    & std   & four & sedan       & fwd & front & 102.4 & ⋯ & 122 & mpfi & 3.31 & 3.54 &  8.7 &  92 & 4200 & 29 & 34 &  8948\\\\\n",
       "\t -1 &  65 & toyota     & diesel & turbo & four & sedan       & fwd & front & 102.4 & ⋯ & 110 & idi  & 3.27 & 3.35 & 22.5 &  73 & 4500 & 30 & 33 & 10698\\\\\n",
       "\t -1 &  65 & toyota     & gas    & std   & four & hatchback   & fwd & front & 102.4 & ⋯ & 122 & mpfi & 3.31 & 3.54 &  8.7 &  92 & 4200 & 27 & 32 &  9988\\\\\n",
       "\t -1 &  65 & toyota     & gas    & std   & four & sedan       & fwd & front & 102.4 & ⋯ & 122 & mpfi & 3.31 & 3.54 &  8.7 &  92 & 4200 & 27 & 32 & 10898\\\\\n",
       "\t -1 &  65 & toyota     & gas    & std   & four & hatchback   & fwd & front & 102.4 & ⋯ & 122 & mpfi & 3.31 & 3.54 &  8.7 &  92 & 4200 & 27 & 32 & 11248\\\\\n",
       "\t  3 & 197 & toyota     & gas    & std   & two  & hatchback   & rwd & front & 102.9 & ⋯ & 171 & mpfi & 3.27 & 3.35 &  9.3 & 161 & 5200 & 20 & 24 & 16558\\\\\n",
       "\t  3 & 197 & toyota     & gas    & std   & two  & hatchback   & rwd & front & 102.9 & ⋯ & 171 & mpfi & 3.27 & 3.35 &  9.3 & 161 & 5200 & 19 & 24 & 15998\\\\\n",
       "\t -1 &  90 & toyota     & gas    & std   & four & sedan       & rwd & front & 104.5 & ⋯ & 171 & mpfi & 3.27 & 3.35 &  9.2 & 156 & 5200 & 20 & 24 & 15690\\\\\n",
       "\t  2 & 122 & volkswagen & diesel & std   & two  & sedan       & fwd & front &  97.3 & ⋯ &  97 & idi  & 3.01 & 3.40 & 23.0 &  52 & 4800 & 37 & 46 &  7775\\\\\n",
       "\t  2 & 122 & volkswagen & gas    & std   & two  & sedan       & fwd & front &  97.3 & ⋯ & 109 & mpfi & 3.19 & 3.40 &  9.0 &  85 & 5250 & 27 & 34 &  7975\\\\\n",
       "\t  2 &  94 & volkswagen & diesel & std   & four & sedan       & fwd & front &  97.3 & ⋯ &  97 & idi  & 3.01 & 3.40 & 23.0 &  52 & 4800 & 37 & 46 &  7995\\\\\n",
       "\t  2 &  94 & volkswagen & gas    & std   & four & sedan       & fwd & front &  97.3 & ⋯ & 109 & mpfi & 3.19 & 3.40 &  9.0 &  85 & 5250 & 27 & 34 &  8195\\\\\n",
       "\t  2 &  94 & volkswagen & gas    & std   & four & sedan       & fwd & front &  97.3 & ⋯ & 109 & mpfi & 3.19 & 3.40 &  9.0 &  85 & 5250 & 27 & 34 &  8495\\\\\n",
       "\t  2 &  94 & volkswagen & diesel & turbo & four & sedan       & fwd & front &  97.3 & ⋯ &  97 & idi  & 3.01 & 3.40 & 23.0 &  68 & 4500 & 37 & 42 &  9495\\\\\n",
       "\t  2 &  94 & volkswagen & gas    & std   & four & sedan       & fwd & front &  97.3 & ⋯ & 109 & mpfi & 3.19 & 3.40 & 10.0 & 100 & 5500 & 26 & 32 &  9995\\\\\n",
       "\t  3 & 256 & volkswagen & gas    & std   & two  & hatchback   & fwd & front &  94.5 & ⋯ & 109 & mpfi & 3.19 & 3.40 &  8.5 &  90 & 5500 & 24 & 29 &  9980\\\\\n",
       "\t -2 & 103 & volvo      & gas    & std   & four & sedan       & rwd & front & 104.3 & ⋯ & 141 & mpfi & 3.78 & 3.15 &  9.5 & 114 & 5400 & 23 & 28 & 12940\\\\\n",
       "\t -1 &  74 & volvo      & gas    & std   & four & wagon       & rwd & front & 104.3 & ⋯ & 141 & mpfi & 3.78 & 3.15 &  9.5 & 114 & 5400 & 23 & 28 & 13415\\\\\n",
       "\t -2 & 103 & volvo      & gas    & std   & four & sedan       & rwd & front & 104.3 & ⋯ & 141 & mpfi & 3.78 & 3.15 &  9.5 & 114 & 5400 & 24 & 28 & 15985\\\\\n",
       "\t -1 &  74 & volvo      & gas    & std   & four & wagon       & rwd & front & 104.3 & ⋯ & 141 & mpfi & 3.78 & 3.15 &  9.5 & 114 & 5400 & 24 & 28 & 16515\\\\\n",
       "\t -2 & 103 & volvo      & gas    & turbo & four & sedan       & rwd & front & 104.3 & ⋯ & 130 & mpfi & 3.62 & 3.15 &  7.5 & 162 & 5100 & 17 & 22 & 18420\\\\\n",
       "\t -1 &  74 & volvo      & gas    & turbo & four & wagon       & rwd & front & 104.3 & ⋯ & 130 & mpfi & 3.62 & 3.15 &  7.5 & 162 & 5100 & 17 & 22 & 18950\\\\\n",
       "\t -1 &  95 & volvo      & gas    & std   & four & sedan       & rwd & front & 109.1 & ⋯ & 141 & mpfi & 3.78 & 3.15 &  9.5 & 114 & 5400 & 23 & 28 & 16845\\\\\n",
       "\t -1 &  95 & volvo      & gas    & turbo & four & sedan       & rwd & front & 109.1 & ⋯ & 141 & mpfi & 3.78 & 3.15 &  8.7 & 160 & 5300 & 19 & 25 & 19045\\\\\n",
       "\t -1 &  95 & volvo      & gas    & std   & four & sedan       & rwd & front & 109.1 & ⋯ & 173 & mpfi & 3.58 & 2.87 &  8.8 & 134 & 5500 & 18 & 23 & 21485\\\\\n",
       "\t -1 &  95 & volvo      & diesel & turbo & four & sedan       & rwd & front & 109.1 & ⋯ & 145 & idi  & 3.01 & 3.40 & 23.0 & 106 & 4800 & 26 & 27 & 22470\\\\\n",
       "\t -1 &  95 & volvo      & gas    & turbo & four & sedan       & rwd & front & 109.1 & ⋯ & 141 & mpfi & 3.78 & 3.15 &  9.5 & 114 & 5400 & 19 & 25 & 22625\\\\\n",
       "\\end{tabular}\n"
      ],
      "text/markdown": [
       "\n",
       "A data.frame: 477 × 26\n",
       "\n",
       "| symb &lt;int&gt; | normLoss &lt;int&gt; | make &lt;fct&gt; | fuelType &lt;fct&gt; | aspiration &lt;fct&gt; | nDoors &lt;fct&gt; | bodyStyle &lt;fct&gt; | driveWheels &lt;fct&gt; | engineLocation &lt;fct&gt; | wheelBase &lt;dbl&gt; | ⋯ ⋯ | engineSize &lt;int&gt; | fuelSystem &lt;fct&gt; | bore &lt;dbl&gt; | stroke &lt;dbl&gt; | compressionRatio &lt;dbl&gt; | horsePower &lt;int&gt; | peakRpm &lt;int&gt; | cityMpg &lt;int&gt; | highwayMpg &lt;int&gt; | price &lt;int&gt; |\n",
       "|---|---|---|---|---|---|---|---|---|---|---|---|---|---|---|---|---|---|---|---|---|\n",
       "|  2 | 164 | audi      | gas | std   | four | sedan     | fwd | front |  99.8 | ⋯ | 109 | mpfi | 3.19 | 3.40 | 10.00 | 102 | 5500 | 24 | 30 | 13950 |\n",
       "|  2 | 164 | audi      | gas | std   | four | sedan     | 4wd | front |  99.4 | ⋯ | 136 | mpfi | 3.19 | 3.40 |  8.00 | 115 | 5500 | 18 | 22 | 17450 |\n",
       "|  1 | 158 | audi      | gas | std   | four | sedan     | fwd | front | 105.8 | ⋯ | 136 | mpfi | 3.19 | 3.40 |  8.50 | 110 | 5500 | 19 | 25 | 17710 |\n",
       "|  1 | 158 | audi      | gas | turbo | four | sedan     | fwd | front | 105.8 | ⋯ | 131 | mpfi | 3.13 | 3.40 |  8.30 | 140 | 5500 | 17 | 20 | 23875 |\n",
       "|  2 | 192 | bmw       | gas | std   | two  | sedan     | rwd | front | 101.2 | ⋯ | 108 | mpfi | 3.50 | 2.80 |  8.80 | 101 | 5800 | 23 | 29 | 16430 |\n",
       "|  0 | 192 | bmw       | gas | std   | four | sedan     | rwd | front | 101.2 | ⋯ | 108 | mpfi | 3.50 | 2.80 |  8.80 | 101 | 5800 | 23 | 29 | 16925 |\n",
       "|  0 | 188 | bmw       | gas | std   | two  | sedan     | rwd | front | 101.2 | ⋯ | 164 | mpfi | 3.31 | 3.19 |  9.00 | 121 | 4250 | 21 | 28 | 20970 |\n",
       "|  0 | 188 | bmw       | gas | std   | four | sedan     | rwd | front | 101.2 | ⋯ | 164 | mpfi | 3.31 | 3.19 |  9.00 | 121 | 4250 | 21 | 28 | 21105 |\n",
       "|  2 | 121 | chevrolet | gas | std   | two  | hatchback | fwd | front |  88.4 | ⋯ |  61 | 2bbl | 2.91 | 3.03 |  9.50 |  48 | 5100 | 47 | 53 |  5151 |\n",
       "|  1 |  98 | chevrolet | gas | std   | two  | hatchback | fwd | front |  94.5 | ⋯ |  90 | 2bbl | 3.03 | 3.11 |  9.60 |  70 | 5400 | 38 | 43 |  6295 |\n",
       "|  0 |  81 | chevrolet | gas | std   | four | sedan     | fwd | front |  94.5 | ⋯ |  90 | 2bbl | 3.03 | 3.11 |  9.60 |  70 | 5400 | 38 | 43 |  6575 |\n",
       "|  1 | 118 | dodge     | gas | std   | two  | hatchback | fwd | front |  93.7 | ⋯ |  90 | 2bbl | 2.97 | 3.23 |  9.41 |  68 | 5500 | 37 | 41 |  5572 |\n",
       "|  1 | 118 | dodge     | gas | std   | two  | hatchback | fwd | front |  93.7 | ⋯ |  90 | 2bbl | 2.97 | 3.23 |  9.40 |  68 | 5500 | 31 | 38 |  6377 |\n",
       "|  1 | 118 | dodge     | gas | turbo | two  | hatchback | fwd | front |  93.7 | ⋯ |  98 | mpfi | 3.03 | 3.39 |  7.60 | 102 | 5500 | 24 | 30 |  7957 |\n",
       "|  1 | 148 | dodge     | gas | std   | four | hatchback | fwd | front |  93.7 | ⋯ |  90 | 2bbl | 2.97 | 3.23 |  9.40 |  68 | 5500 | 31 | 38 |  6229 |\n",
       "|  1 | 148 | dodge     | gas | std   | four | sedan     | fwd | front |  93.7 | ⋯ |  90 | 2bbl | 2.97 | 3.23 |  9.40 |  68 | 5500 | 31 | 38 |  6692 |\n",
       "|  1 | 148 | dodge     | gas | std   | four | sedan     | fwd | front |  93.7 | ⋯ |  90 | 2bbl | 2.97 | 3.23 |  9.40 |  68 | 5500 | 31 | 38 |  7609 |\n",
       "| -1 | 110 | dodge     | gas | std   | four | wagon     | fwd | front | 103.3 | ⋯ | 122 | 2bbl | 3.34 | 3.46 |  8.50 |  88 | 5000 | 24 | 30 |  8921 |\n",
       "|  3 | 145 | dodge     | gas | turbo | two  | hatchback | fwd | front |  95.9 | ⋯ | 156 | mfi  | 3.60 | 3.90 |  7.00 | 145 | 5000 | 19 | 24 | 12964 |\n",
       "|  2 | 137 | honda     | gas | std   | two  | hatchback | fwd | front |  86.6 | ⋯ |  92 | 1bbl | 2.91 | 3.41 |  9.60 |  58 | 4800 | 49 | 54 |  6479 |\n",
       "|  2 | 137 | honda     | gas | std   | two  | hatchback | fwd | front |  86.6 | ⋯ |  92 | 1bbl | 2.91 | 3.41 |  9.20 |  76 | 6000 | 31 | 38 |  6855 |\n",
       "|  1 | 101 | honda     | gas | std   | two  | hatchback | fwd | front |  93.7 | ⋯ |  79 | 1bbl | 2.91 | 3.07 | 10.10 |  60 | 5500 | 38 | 42 |  5399 |\n",
       "|  1 | 101 | honda     | gas | std   | two  | hatchback | fwd | front |  93.7 | ⋯ |  92 | 1bbl | 2.91 | 3.41 |  9.20 |  76 | 6000 | 30 | 34 |  6529 |\n",
       "|  1 | 101 | honda     | gas | std   | two  | hatchback | fwd | front |  93.7 | ⋯ |  92 | 1bbl | 2.91 | 3.41 |  9.20 |  76 | 6000 | 30 | 34 |  7129 |\n",
       "|  0 | 110 | honda     | gas | std   | four | sedan     | fwd | front |  96.5 | ⋯ |  92 | 1bbl | 2.91 | 3.41 |  9.20 |  76 | 6000 | 30 | 34 |  7295 |\n",
       "|  0 |  78 | honda     | gas | std   | four | wagon     | fwd | front |  96.5 | ⋯ |  92 | 1bbl | 2.92 | 3.41 |  9.20 |  76 | 6000 | 30 | 34 |  7295 |\n",
       "|  0 | 106 | honda     | gas | std   | two  | hatchback | fwd | front |  96.5 | ⋯ | 110 | 1bbl | 3.15 | 3.58 |  9.00 |  86 | 5800 | 27 | 33 |  7895 |\n",
       "|  0 | 106 | honda     | gas | std   | two  | hatchback | fwd | front |  96.5 | ⋯ | 110 | 1bbl | 3.15 | 3.58 |  9.00 |  86 | 5800 | 27 | 33 |  9095 |\n",
       "|  0 |  85 | honda     | gas | std   | four | sedan     | fwd | front |  96.5 | ⋯ | 110 | 1bbl | 3.15 | 3.58 |  9.00 |  86 | 5800 | 27 | 33 |  8845 |\n",
       "|  0 |  85 | honda     | gas | std   | four | sedan     | fwd | front |  96.5 | ⋯ | 110 | 1bbl | 3.15 | 3.58 |  9.00 |  86 | 5800 | 27 | 33 | 10295 |\n",
       "| ⋮ | ⋮ | ⋮ | ⋮ | ⋮ | ⋮ | ⋮ | ⋮ | ⋮ | ⋮ | ⋱ | ⋮ | ⋮ | ⋮ | ⋮ | ⋮ | ⋮ | ⋮ | ⋮ | ⋮ | ⋮ |\n",
       "|  2 | 134 | toyota     | gas    | std   | two  | hardtop     | rwd | front |  98.4 | ⋯ | 146 | mpfi | 3.62 | 3.50 |  9.3 | 116 | 4800 | 24 | 30 | 11199 |\n",
       "|  2 | 134 | toyota     | gas    | std   | two  | hatchback   | rwd | front |  98.4 | ⋯ | 146 | mpfi | 3.62 | 3.50 |  9.3 | 116 | 4800 | 24 | 30 | 11549 |\n",
       "|  2 | 134 | toyota     | gas    | std   | two  | convertible | rwd | front |  98.4 | ⋯ | 146 | mpfi | 3.62 | 3.50 |  9.3 | 116 | 4800 | 24 | 30 | 17669 |\n",
       "| -1 |  65 | toyota     | gas    | std   | four | sedan       | fwd | front | 102.4 | ⋯ | 122 | mpfi | 3.31 | 3.54 |  8.7 |  92 | 4200 | 29 | 34 |  8948 |\n",
       "| -1 |  65 | toyota     | diesel | turbo | four | sedan       | fwd | front | 102.4 | ⋯ | 110 | idi  | 3.27 | 3.35 | 22.5 |  73 | 4500 | 30 | 33 | 10698 |\n",
       "| -1 |  65 | toyota     | gas    | std   | four | hatchback   | fwd | front | 102.4 | ⋯ | 122 | mpfi | 3.31 | 3.54 |  8.7 |  92 | 4200 | 27 | 32 |  9988 |\n",
       "| -1 |  65 | toyota     | gas    | std   | four | sedan       | fwd | front | 102.4 | ⋯ | 122 | mpfi | 3.31 | 3.54 |  8.7 |  92 | 4200 | 27 | 32 | 10898 |\n",
       "| -1 |  65 | toyota     | gas    | std   | four | hatchback   | fwd | front | 102.4 | ⋯ | 122 | mpfi | 3.31 | 3.54 |  8.7 |  92 | 4200 | 27 | 32 | 11248 |\n",
       "|  3 | 197 | toyota     | gas    | std   | two  | hatchback   | rwd | front | 102.9 | ⋯ | 171 | mpfi | 3.27 | 3.35 |  9.3 | 161 | 5200 | 20 | 24 | 16558 |\n",
       "|  3 | 197 | toyota     | gas    | std   | two  | hatchback   | rwd | front | 102.9 | ⋯ | 171 | mpfi | 3.27 | 3.35 |  9.3 | 161 | 5200 | 19 | 24 | 15998 |\n",
       "| -1 |  90 | toyota     | gas    | std   | four | sedan       | rwd | front | 104.5 | ⋯ | 171 | mpfi | 3.27 | 3.35 |  9.2 | 156 | 5200 | 20 | 24 | 15690 |\n",
       "|  2 | 122 | volkswagen | diesel | std   | two  | sedan       | fwd | front |  97.3 | ⋯ |  97 | idi  | 3.01 | 3.40 | 23.0 |  52 | 4800 | 37 | 46 |  7775 |\n",
       "|  2 | 122 | volkswagen | gas    | std   | two  | sedan       | fwd | front |  97.3 | ⋯ | 109 | mpfi | 3.19 | 3.40 |  9.0 |  85 | 5250 | 27 | 34 |  7975 |\n",
       "|  2 |  94 | volkswagen | diesel | std   | four | sedan       | fwd | front |  97.3 | ⋯ |  97 | idi  | 3.01 | 3.40 | 23.0 |  52 | 4800 | 37 | 46 |  7995 |\n",
       "|  2 |  94 | volkswagen | gas    | std   | four | sedan       | fwd | front |  97.3 | ⋯ | 109 | mpfi | 3.19 | 3.40 |  9.0 |  85 | 5250 | 27 | 34 |  8195 |\n",
       "|  2 |  94 | volkswagen | gas    | std   | four | sedan       | fwd | front |  97.3 | ⋯ | 109 | mpfi | 3.19 | 3.40 |  9.0 |  85 | 5250 | 27 | 34 |  8495 |\n",
       "|  2 |  94 | volkswagen | diesel | turbo | four | sedan       | fwd | front |  97.3 | ⋯ |  97 | idi  | 3.01 | 3.40 | 23.0 |  68 | 4500 | 37 | 42 |  9495 |\n",
       "|  2 |  94 | volkswagen | gas    | std   | four | sedan       | fwd | front |  97.3 | ⋯ | 109 | mpfi | 3.19 | 3.40 | 10.0 | 100 | 5500 | 26 | 32 |  9995 |\n",
       "|  3 | 256 | volkswagen | gas    | std   | two  | hatchback   | fwd | front |  94.5 | ⋯ | 109 | mpfi | 3.19 | 3.40 |  8.5 |  90 | 5500 | 24 | 29 |  9980 |\n",
       "| -2 | 103 | volvo      | gas    | std   | four | sedan       | rwd | front | 104.3 | ⋯ | 141 | mpfi | 3.78 | 3.15 |  9.5 | 114 | 5400 | 23 | 28 | 12940 |\n",
       "| -1 |  74 | volvo      | gas    | std   | four | wagon       | rwd | front | 104.3 | ⋯ | 141 | mpfi | 3.78 | 3.15 |  9.5 | 114 | 5400 | 23 | 28 | 13415 |\n",
       "| -2 | 103 | volvo      | gas    | std   | four | sedan       | rwd | front | 104.3 | ⋯ | 141 | mpfi | 3.78 | 3.15 |  9.5 | 114 | 5400 | 24 | 28 | 15985 |\n",
       "| -1 |  74 | volvo      | gas    | std   | four | wagon       | rwd | front | 104.3 | ⋯ | 141 | mpfi | 3.78 | 3.15 |  9.5 | 114 | 5400 | 24 | 28 | 16515 |\n",
       "| -2 | 103 | volvo      | gas    | turbo | four | sedan       | rwd | front | 104.3 | ⋯ | 130 | mpfi | 3.62 | 3.15 |  7.5 | 162 | 5100 | 17 | 22 | 18420 |\n",
       "| -1 |  74 | volvo      | gas    | turbo | four | wagon       | rwd | front | 104.3 | ⋯ | 130 | mpfi | 3.62 | 3.15 |  7.5 | 162 | 5100 | 17 | 22 | 18950 |\n",
       "| -1 |  95 | volvo      | gas    | std   | four | sedan       | rwd | front | 109.1 | ⋯ | 141 | mpfi | 3.78 | 3.15 |  9.5 | 114 | 5400 | 23 | 28 | 16845 |\n",
       "| -1 |  95 | volvo      | gas    | turbo | four | sedan       | rwd | front | 109.1 | ⋯ | 141 | mpfi | 3.78 | 3.15 |  8.7 | 160 | 5300 | 19 | 25 | 19045 |\n",
       "| -1 |  95 | volvo      | gas    | std   | four | sedan       | rwd | front | 109.1 | ⋯ | 173 | mpfi | 3.58 | 2.87 |  8.8 | 134 | 5500 | 18 | 23 | 21485 |\n",
       "| -1 |  95 | volvo      | diesel | turbo | four | sedan       | rwd | front | 109.1 | ⋯ | 145 | idi  | 3.01 | 3.40 | 23.0 | 106 | 4800 | 26 | 27 | 22470 |\n",
       "| -1 |  95 | volvo      | gas    | turbo | four | sedan       | rwd | front | 109.1 | ⋯ | 141 | mpfi | 3.78 | 3.15 |  9.5 | 114 | 5400 | 19 | 25 | 22625 |\n",
       "\n"
      ],
      "text/plain": [
       "    symb normLoss make       fuelType aspiration nDoors bodyStyle   driveWheels\n",
       "1    2   164      audi       gas      std        four   sedan       fwd        \n",
       "2    2   164      audi       gas      std        four   sedan       4wd        \n",
       "3    1   158      audi       gas      std        four   sedan       fwd        \n",
       "4    1   158      audi       gas      turbo      four   sedan       fwd        \n",
       "5    2   192      bmw        gas      std        two    sedan       rwd        \n",
       "6    0   192      bmw        gas      std        four   sedan       rwd        \n",
       "7    0   188      bmw        gas      std        two    sedan       rwd        \n",
       "8    0   188      bmw        gas      std        four   sedan       rwd        \n",
       "9    2   121      chevrolet  gas      std        two    hatchback   fwd        \n",
       "10   1    98      chevrolet  gas      std        two    hatchback   fwd        \n",
       "11   0    81      chevrolet  gas      std        four   sedan       fwd        \n",
       "12   1   118      dodge      gas      std        two    hatchback   fwd        \n",
       "13   1   118      dodge      gas      std        two    hatchback   fwd        \n",
       "14   1   118      dodge      gas      turbo      two    hatchback   fwd        \n",
       "15   1   148      dodge      gas      std        four   hatchback   fwd        \n",
       "16   1   148      dodge      gas      std        four   sedan       fwd        \n",
       "17   1   148      dodge      gas      std        four   sedan       fwd        \n",
       "18  -1   110      dodge      gas      std        four   wagon       fwd        \n",
       "19   3   145      dodge      gas      turbo      two    hatchback   fwd        \n",
       "20   2   137      honda      gas      std        two    hatchback   fwd        \n",
       "21   2   137      honda      gas      std        two    hatchback   fwd        \n",
       "22   1   101      honda      gas      std        two    hatchback   fwd        \n",
       "23   1   101      honda      gas      std        two    hatchback   fwd        \n",
       "24   1   101      honda      gas      std        two    hatchback   fwd        \n",
       "25   0   110      honda      gas      std        four   sedan       fwd        \n",
       "26   0    78      honda      gas      std        four   wagon       fwd        \n",
       "27   0   106      honda      gas      std        two    hatchback   fwd        \n",
       "28   0   106      honda      gas      std        two    hatchback   fwd        \n",
       "29   0    85      honda      gas      std        four   sedan       fwd        \n",
       "30   0    85      honda      gas      std        four   sedan       fwd        \n",
       "⋮   ⋮    ⋮        ⋮          ⋮        ⋮          ⋮      ⋮           ⋮          \n",
       "448  2   134      toyota     gas      std        two    hardtop     rwd        \n",
       "449  2   134      toyota     gas      std        two    hatchback   rwd        \n",
       "450  2   134      toyota     gas      std        two    convertible rwd        \n",
       "451 -1    65      toyota     gas      std        four   sedan       fwd        \n",
       "452 -1    65      toyota     diesel   turbo      four   sedan       fwd        \n",
       "453 -1    65      toyota     gas      std        four   hatchback   fwd        \n",
       "454 -1    65      toyota     gas      std        four   sedan       fwd        \n",
       "455 -1    65      toyota     gas      std        four   hatchback   fwd        \n",
       "456  3   197      toyota     gas      std        two    hatchback   rwd        \n",
       "457  3   197      toyota     gas      std        two    hatchback   rwd        \n",
       "458 -1    90      toyota     gas      std        four   sedan       rwd        \n",
       "459  2   122      volkswagen diesel   std        two    sedan       fwd        \n",
       "460  2   122      volkswagen gas      std        two    sedan       fwd        \n",
       "461  2    94      volkswagen diesel   std        four   sedan       fwd        \n",
       "462  2    94      volkswagen gas      std        four   sedan       fwd        \n",
       "463  2    94      volkswagen gas      std        four   sedan       fwd        \n",
       "464  2    94      volkswagen diesel   turbo      four   sedan       fwd        \n",
       "465  2    94      volkswagen gas      std        four   sedan       fwd        \n",
       "466  3   256      volkswagen gas      std        two    hatchback   fwd        \n",
       "467 -2   103      volvo      gas      std        four   sedan       rwd        \n",
       "468 -1    74      volvo      gas      std        four   wagon       rwd        \n",
       "469 -2   103      volvo      gas      std        four   sedan       rwd        \n",
       "470 -1    74      volvo      gas      std        four   wagon       rwd        \n",
       "471 -2   103      volvo      gas      turbo      four   sedan       rwd        \n",
       "472 -1    74      volvo      gas      turbo      four   wagon       rwd        \n",
       "473 -1    95      volvo      gas      std        four   sedan       rwd        \n",
       "474 -1    95      volvo      gas      turbo      four   sedan       rwd        \n",
       "475 -1    95      volvo      gas      std        four   sedan       rwd        \n",
       "476 -1    95      volvo      diesel   turbo      four   sedan       rwd        \n",
       "477 -1    95      volvo      gas      turbo      four   sedan       rwd        \n",
       "    engineLocation wheelBase ⋯ engineSize fuelSystem bore stroke\n",
       "1   front           99.8     ⋯ 109        mpfi       3.19 3.40  \n",
       "2   front           99.4     ⋯ 136        mpfi       3.19 3.40  \n",
       "3   front          105.8     ⋯ 136        mpfi       3.19 3.40  \n",
       "4   front          105.8     ⋯ 131        mpfi       3.13 3.40  \n",
       "5   front          101.2     ⋯ 108        mpfi       3.50 2.80  \n",
       "6   front          101.2     ⋯ 108        mpfi       3.50 2.80  \n",
       "7   front          101.2     ⋯ 164        mpfi       3.31 3.19  \n",
       "8   front          101.2     ⋯ 164        mpfi       3.31 3.19  \n",
       "9   front           88.4     ⋯  61        2bbl       2.91 3.03  \n",
       "10  front           94.5     ⋯  90        2bbl       3.03 3.11  \n",
       "11  front           94.5     ⋯  90        2bbl       3.03 3.11  \n",
       "12  front           93.7     ⋯  90        2bbl       2.97 3.23  \n",
       "13  front           93.7     ⋯  90        2bbl       2.97 3.23  \n",
       "14  front           93.7     ⋯  98        mpfi       3.03 3.39  \n",
       "15  front           93.7     ⋯  90        2bbl       2.97 3.23  \n",
       "16  front           93.7     ⋯  90        2bbl       2.97 3.23  \n",
       "17  front           93.7     ⋯  90        2bbl       2.97 3.23  \n",
       "18  front          103.3     ⋯ 122        2bbl       3.34 3.46  \n",
       "19  front           95.9     ⋯ 156        mfi        3.60 3.90  \n",
       "20  front           86.6     ⋯  92        1bbl       2.91 3.41  \n",
       "21  front           86.6     ⋯  92        1bbl       2.91 3.41  \n",
       "22  front           93.7     ⋯  79        1bbl       2.91 3.07  \n",
       "23  front           93.7     ⋯  92        1bbl       2.91 3.41  \n",
       "24  front           93.7     ⋯  92        1bbl       2.91 3.41  \n",
       "25  front           96.5     ⋯  92        1bbl       2.91 3.41  \n",
       "26  front           96.5     ⋯  92        1bbl       2.92 3.41  \n",
       "27  front           96.5     ⋯ 110        1bbl       3.15 3.58  \n",
       "28  front           96.5     ⋯ 110        1bbl       3.15 3.58  \n",
       "29  front           96.5     ⋯ 110        1bbl       3.15 3.58  \n",
       "30  front           96.5     ⋯ 110        1bbl       3.15 3.58  \n",
       "⋮   ⋮              ⋮         ⋱ ⋮          ⋮          ⋮    ⋮     \n",
       "448 front           98.4     ⋯ 146        mpfi       3.62 3.50  \n",
       "449 front           98.4     ⋯ 146        mpfi       3.62 3.50  \n",
       "450 front           98.4     ⋯ 146        mpfi       3.62 3.50  \n",
       "451 front          102.4     ⋯ 122        mpfi       3.31 3.54  \n",
       "452 front          102.4     ⋯ 110        idi        3.27 3.35  \n",
       "453 front          102.4     ⋯ 122        mpfi       3.31 3.54  \n",
       "454 front          102.4     ⋯ 122        mpfi       3.31 3.54  \n",
       "455 front          102.4     ⋯ 122        mpfi       3.31 3.54  \n",
       "456 front          102.9     ⋯ 171        mpfi       3.27 3.35  \n",
       "457 front          102.9     ⋯ 171        mpfi       3.27 3.35  \n",
       "458 front          104.5     ⋯ 171        mpfi       3.27 3.35  \n",
       "459 front           97.3     ⋯  97        idi        3.01 3.40  \n",
       "460 front           97.3     ⋯ 109        mpfi       3.19 3.40  \n",
       "461 front           97.3     ⋯  97        idi        3.01 3.40  \n",
       "462 front           97.3     ⋯ 109        mpfi       3.19 3.40  \n",
       "463 front           97.3     ⋯ 109        mpfi       3.19 3.40  \n",
       "464 front           97.3     ⋯  97        idi        3.01 3.40  \n",
       "465 front           97.3     ⋯ 109        mpfi       3.19 3.40  \n",
       "466 front           94.5     ⋯ 109        mpfi       3.19 3.40  \n",
       "467 front          104.3     ⋯ 141        mpfi       3.78 3.15  \n",
       "468 front          104.3     ⋯ 141        mpfi       3.78 3.15  \n",
       "469 front          104.3     ⋯ 141        mpfi       3.78 3.15  \n",
       "470 front          104.3     ⋯ 141        mpfi       3.78 3.15  \n",
       "471 front          104.3     ⋯ 130        mpfi       3.62 3.15  \n",
       "472 front          104.3     ⋯ 130        mpfi       3.62 3.15  \n",
       "473 front          109.1     ⋯ 141        mpfi       3.78 3.15  \n",
       "474 front          109.1     ⋯ 141        mpfi       3.78 3.15  \n",
       "475 front          109.1     ⋯ 173        mpfi       3.58 2.87  \n",
       "476 front          109.1     ⋯ 145        idi        3.01 3.40  \n",
       "477 front          109.1     ⋯ 141        mpfi       3.78 3.15  \n",
       "    compressionRatio horsePower peakRpm cityMpg highwayMpg price\n",
       "1   10.00            102        5500    24      30         13950\n",
       "2    8.00            115        5500    18      22         17450\n",
       "3    8.50            110        5500    19      25         17710\n",
       "4    8.30            140        5500    17      20         23875\n",
       "5    8.80            101        5800    23      29         16430\n",
       "6    8.80            101        5800    23      29         16925\n",
       "7    9.00            121        4250    21      28         20970\n",
       "8    9.00            121        4250    21      28         21105\n",
       "9    9.50             48        5100    47      53          5151\n",
       "10   9.60             70        5400    38      43          6295\n",
       "11   9.60             70        5400    38      43          6575\n",
       "12   9.41             68        5500    37      41          5572\n",
       "13   9.40             68        5500    31      38          6377\n",
       "14   7.60            102        5500    24      30          7957\n",
       "15   9.40             68        5500    31      38          6229\n",
       "16   9.40             68        5500    31      38          6692\n",
       "17   9.40             68        5500    31      38          7609\n",
       "18   8.50             88        5000    24      30          8921\n",
       "19   7.00            145        5000    19      24         12964\n",
       "20   9.60             58        4800    49      54          6479\n",
       "21   9.20             76        6000    31      38          6855\n",
       "22  10.10             60        5500    38      42          5399\n",
       "23   9.20             76        6000    30      34          6529\n",
       "24   9.20             76        6000    30      34          7129\n",
       "25   9.20             76        6000    30      34          7295\n",
       "26   9.20             76        6000    30      34          7295\n",
       "27   9.00             86        5800    27      33          7895\n",
       "28   9.00             86        5800    27      33          9095\n",
       "29   9.00             86        5800    27      33          8845\n",
       "30   9.00             86        5800    27      33         10295\n",
       "⋮   ⋮                ⋮          ⋮       ⋮       ⋮          ⋮    \n",
       "448  9.3             116        4800    24      30         11199\n",
       "449  9.3             116        4800    24      30         11549\n",
       "450  9.3             116        4800    24      30         17669\n",
       "451  8.7              92        4200    29      34          8948\n",
       "452 22.5              73        4500    30      33         10698\n",
       "453  8.7              92        4200    27      32          9988\n",
       "454  8.7              92        4200    27      32         10898\n",
       "455  8.7              92        4200    27      32         11248\n",
       "456  9.3             161        5200    20      24         16558\n",
       "457  9.3             161        5200    19      24         15998\n",
       "458  9.2             156        5200    20      24         15690\n",
       "459 23.0              52        4800    37      46          7775\n",
       "460  9.0              85        5250    27      34          7975\n",
       "461 23.0              52        4800    37      46          7995\n",
       "462  9.0              85        5250    27      34          8195\n",
       "463  9.0              85        5250    27      34          8495\n",
       "464 23.0              68        4500    37      42          9495\n",
       "465 10.0             100        5500    26      32          9995\n",
       "466  8.5              90        5500    24      29          9980\n",
       "467  9.5             114        5400    23      28         12940\n",
       "468  9.5             114        5400    23      28         13415\n",
       "469  9.5             114        5400    24      28         15985\n",
       "470  9.5             114        5400    24      28         16515\n",
       "471  7.5             162        5100    17      22         18420\n",
       "472  7.5             162        5100    17      22         18950\n",
       "473  9.5             114        5400    23      28         16845\n",
       "474  8.7             160        5300    19      25         19045\n",
       "475  8.8             134        5500    18      23         21485\n",
       "476 23.0             106        4800    26      27         22470\n",
       "477  9.5             114        5400    19      25         22625"
      ]
     },
     "metadata": {},
     "output_type": "display_data"
    },
    {
     "name": "stdout",
     "output_type": "stream",
     "text": [
      "    n\n",
      "1 159\n"
     ]
    }
   ],
   "source": [
    "# Combine the three imputed datasets into a final dataset\n",
    "final_dataset <- bind_rows(new_dataset1, new_dataset2, new_dataset3)\n",
    "final_dataset\n",
    "# Check for duplicated cases\n",
    "duplicated_cases <- final_dataset %>%\n",
    "  distinct() %>%\n",
    "  count() %>%\n",
    "  filter(n > 1)\n",
    "\n",
    "# Print the duplicated cases\n",
    "print(duplicated_cases)"
   ]
  },
  {
   "cell_type": "markdown",
   "metadata": {},
   "source": [
    "## 2. Data Pre-Processing"
   ]
  },
  {
   "cell_type": "markdown",
   "metadata": {},
   "source": [
    "### 2. Load the package dlookr. Use the same car insurance data set above and apply the following transformations to the price attribute. Be critical regarding the obtained results."
   ]
  },
  {
   "cell_type": "code",
   "execution_count": 53,
   "metadata": {},
   "outputs": [
    {
     "name": "stderr",
     "output_type": "stream",
     "text": [
      "Installing package into 'C:/Users/Paola/AppData/Local/R/win-library/4.3'\n",
      "(as 'lib' is unspecified)\n",
      "\n",
      "also installing the dependencies 'bit', 'triebeard', 'bit64', 'progress', 'urltools', 'httpcode', 'minqa', 'nloptr', 'ucminf', 'numDeriv', 'vroom', 'tzdb', 'colorspace', 'crul', 'fontBitstreamVera', 'fontLiberation', 'iterators', 'lme4', 'ordinal', 'forcats', 'hms', 'readr', 'farver', 'labeling', 'munsell', 'RColorBrewer', 'extrafontdb', 'Rttf2pt1', 'gfonts', 'fontquiver', 'selectr', 'backports', 'foreach', 'shape', 'RcppEigen', 'pan', 'jomo', 'haven', 'AsioHeaders', 'showtextdb', 'gtable', 'isoband', 'scales', 'extrafont', 'gdtools', 'rvest', 'viridisLite', 'webshot', 'svglite', 'broom', 'glmnet', 'mitml', 'bookdown', 'servr', 'websocket', 'libcoin', 'mvtnorm', 'Formula', 'inum', 'reactR', 'showtext', 'sysfonts', 'ggplot2', 'gridExtra', 'hrbrthemes', 'kableExtra', 'mice', 'pagedown', 'partykit', 'reactable', 'tidyr'\n",
      "\n",
      "\n"
     ]
    },
    {
     "name": "stdout",
     "output_type": "stream",
     "text": [
      "package 'bit' successfully unpacked and MD5 sums checked\n",
      "package 'triebeard' successfully unpacked and MD5 sums checked\n",
      "package 'bit64' successfully unpacked and MD5 sums checked\n",
      "package 'progress' successfully unpacked and MD5 sums checked\n",
      "package 'urltools' successfully unpacked and MD5 sums checked\n",
      "package 'httpcode' successfully unpacked and MD5 sums checked\n",
      "package 'minqa' successfully unpacked and MD5 sums checked\n",
      "package 'nloptr' successfully unpacked and MD5 sums checked\n",
      "package 'ucminf' successfully unpacked and MD5 sums checked\n",
      "package 'numDeriv' successfully unpacked and MD5 sums checked\n",
      "package 'vroom' successfully unpacked and MD5 sums checked\n",
      "package 'tzdb' successfully unpacked and MD5 sums checked\n",
      "package 'colorspace' successfully unpacked and MD5 sums checked\n",
      "package 'crul' successfully unpacked and MD5 sums checked\n",
      "package 'fontBitstreamVera' successfully unpacked and MD5 sums checked\n",
      "package 'fontLiberation' successfully unpacked and MD5 sums checked\n",
      "package 'iterators' successfully unpacked and MD5 sums checked\n",
      "package 'lme4' successfully unpacked and MD5 sums checked\n",
      "package 'ordinal' successfully unpacked and MD5 sums checked\n",
      "package 'forcats' successfully unpacked and MD5 sums checked\n",
      "package 'hms' successfully unpacked and MD5 sums checked\n",
      "package 'readr' successfully unpacked and MD5 sums checked\n",
      "package 'farver' successfully unpacked and MD5 sums checked\n",
      "package 'labeling' successfully unpacked and MD5 sums checked\n",
      "package 'munsell' successfully unpacked and MD5 sums checked\n",
      "package 'RColorBrewer' successfully unpacked and MD5 sums checked\n",
      "package 'extrafontdb' successfully unpacked and MD5 sums checked\n",
      "package 'Rttf2pt1' successfully unpacked and MD5 sums checked\n",
      "package 'gfonts' successfully unpacked and MD5 sums checked\n",
      "package 'fontquiver' successfully unpacked and MD5 sums checked\n",
      "package 'selectr' successfully unpacked and MD5 sums checked\n",
      "package 'backports' successfully unpacked and MD5 sums checked\n",
      "package 'foreach' successfully unpacked and MD5 sums checked\n",
      "package 'shape' successfully unpacked and MD5 sums checked\n",
      "package 'RcppEigen' successfully unpacked and MD5 sums checked\n",
      "package 'pan' successfully unpacked and MD5 sums checked\n",
      "package 'jomo' successfully unpacked and MD5 sums checked\n",
      "package 'haven' successfully unpacked and MD5 sums checked\n",
      "package 'AsioHeaders' successfully unpacked and MD5 sums checked\n",
      "package 'showtextdb' successfully unpacked and MD5 sums checked\n",
      "package 'gtable' successfully unpacked and MD5 sums checked\n",
      "package 'isoband' successfully unpacked and MD5 sums checked\n",
      "package 'scales' successfully unpacked and MD5 sums checked\n",
      "package 'extrafont' successfully unpacked and MD5 sums checked\n",
      "package 'gdtools' successfully unpacked and MD5 sums checked\n",
      "package 'rvest' successfully unpacked and MD5 sums checked\n",
      "package 'viridisLite' successfully unpacked and MD5 sums checked\n",
      "package 'webshot' successfully unpacked and MD5 sums checked\n",
      "package 'svglite' successfully unpacked and MD5 sums checked\n",
      "package 'broom' successfully unpacked and MD5 sums checked\n",
      "package 'glmnet' successfully unpacked and MD5 sums checked\n",
      "package 'mitml' successfully unpacked and MD5 sums checked\n",
      "package 'bookdown' successfully unpacked and MD5 sums checked\n",
      "package 'servr' successfully unpacked and MD5 sums checked\n",
      "package 'websocket' successfully unpacked and MD5 sums checked\n",
      "package 'libcoin' successfully unpacked and MD5 sums checked\n",
      "package 'mvtnorm' successfully unpacked and MD5 sums checked\n",
      "package 'Formula' successfully unpacked and MD5 sums checked\n",
      "package 'inum' successfully unpacked and MD5 sums checked\n",
      "package 'reactR' successfully unpacked and MD5 sums checked\n",
      "package 'showtext' successfully unpacked and MD5 sums checked\n",
      "package 'sysfonts' successfully unpacked and MD5 sums checked\n",
      "package 'ggplot2' successfully unpacked and MD5 sums checked\n",
      "package 'gridExtra' successfully unpacked and MD5 sums checked\n",
      "package 'hrbrthemes' successfully unpacked and MD5 sums checked\n",
      "package 'kableExtra' successfully unpacked and MD5 sums checked\n",
      "package 'mice' successfully unpacked and MD5 sums checked\n",
      "package 'pagedown' successfully unpacked and MD5 sums checked\n",
      "package 'partykit' successfully unpacked and MD5 sums checked\n",
      "package 'reactable' successfully unpacked and MD5 sums checked\n",
      "package 'tidyr' successfully unpacked and MD5 sums checked\n",
      "package 'dlookr' successfully unpacked and MD5 sums checked\n",
      "\n",
      "The downloaded binary packages are in\n",
      "\tC:\\Users\\Paola\\AppData\\Local\\Temp\\RtmpY19noq\\downloaded_packages\n"
     ]
    },
    {
     "name": "stderr",
     "output_type": "stream",
     "text": [
      "\n",
      "Attaching package: 'dlookr'\n",
      "\n",
      "\n",
      "The following object is masked from 'package:base':\n",
      "\n",
      "    transform\n",
      "\n",
      "\n"
     ]
    }
   ],
   "source": [
    "#Install package\n",
    "install.packages(\"dlookr\")\n",
    "#Load\n",
    "library(dlookr)"
   ]
  },
  {
   "cell_type": "markdown",
   "metadata": {},
   "source": [
    "#### (a) Apply range-based normalization and z-score normalization. Tip: use the function transform()."
   ]
  },
  {
   "cell_type": "code",
   "execution_count": 54,
   "metadata": {},
   "outputs": [
    {
     "data": {
      "text/html": [
       "<table class=\"dataframe\">\n",
       "<caption>A data.frame: 5 × 26</caption>\n",
       "<thead>\n",
       "\t<tr><th></th><th scope=col>symb</th><th scope=col>normLoss</th><th scope=col>make</th><th scope=col>fuelType</th><th scope=col>aspiration</th><th scope=col>nDoors</th><th scope=col>bodyStyle</th><th scope=col>driveWheels</th><th scope=col>engineLocation</th><th scope=col>wheelBase</th><th scope=col>⋯</th><th scope=col>engineSize</th><th scope=col>fuelSystem</th><th scope=col>bore</th><th scope=col>stroke</th><th scope=col>compressionRatio</th><th scope=col>horsePower</th><th scope=col>peakRpm</th><th scope=col>cityMpg</th><th scope=col>highwayMpg</th><th scope=col>price</th></tr>\n",
       "\t<tr><th></th><th scope=col>&lt;int&gt;</th><th scope=col>&lt;int&gt;</th><th scope=col>&lt;fct&gt;</th><th scope=col>&lt;fct&gt;</th><th scope=col>&lt;fct&gt;</th><th scope=col>&lt;fct&gt;</th><th scope=col>&lt;fct&gt;</th><th scope=col>&lt;fct&gt;</th><th scope=col>&lt;fct&gt;</th><th scope=col>&lt;dbl&gt;</th><th scope=col>⋯</th><th scope=col>&lt;int&gt;</th><th scope=col>&lt;fct&gt;</th><th scope=col>&lt;dbl&gt;</th><th scope=col>&lt;dbl&gt;</th><th scope=col>&lt;dbl&gt;</th><th scope=col>&lt;int&gt;</th><th scope=col>&lt;int&gt;</th><th scope=col>&lt;int&gt;</th><th scope=col>&lt;int&gt;</th><th scope=col>&lt;int&gt;</th></tr>\n",
       "</thead>\n",
       "<tbody>\n",
       "\t<tr><th scope=row>1</th><td>3</td><td> NA</td><td>alfa-romero</td><td>gas</td><td>std</td><td>two </td><td>convertible</td><td>rwd</td><td>front</td><td>88.6</td><td>⋯</td><td>130</td><td>mpfi</td><td>3.47</td><td>2.68</td><td> 9</td><td>111</td><td>5000</td><td>21</td><td>27</td><td>13495</td></tr>\n",
       "\t<tr><th scope=row>2</th><td>3</td><td> NA</td><td>alfa-romero</td><td>gas</td><td>std</td><td>two </td><td>convertible</td><td>rwd</td><td>front</td><td>88.6</td><td>⋯</td><td>130</td><td>mpfi</td><td>3.47</td><td>2.68</td><td> 9</td><td>111</td><td>5000</td><td>21</td><td>27</td><td>16500</td></tr>\n",
       "\t<tr><th scope=row>3</th><td>1</td><td> NA</td><td>alfa-romero</td><td>gas</td><td>std</td><td>two </td><td>hatchback  </td><td>rwd</td><td>front</td><td>94.5</td><td>⋯</td><td>152</td><td>mpfi</td><td>2.68</td><td>3.47</td><td> 9</td><td>154</td><td>5000</td><td>19</td><td>26</td><td>16500</td></tr>\n",
       "\t<tr><th scope=row>4</th><td>2</td><td>164</td><td>audi       </td><td>gas</td><td>std</td><td>four</td><td>sedan      </td><td>fwd</td><td>front</td><td>99.8</td><td>⋯</td><td>109</td><td>mpfi</td><td>3.19</td><td>3.40</td><td>10</td><td>102</td><td>5500</td><td>24</td><td>30</td><td>13950</td></tr>\n",
       "\t<tr><th scope=row>5</th><td>2</td><td>164</td><td>audi       </td><td>gas</td><td>std</td><td>four</td><td>sedan      </td><td>4wd</td><td>front</td><td>99.4</td><td>⋯</td><td>136</td><td>mpfi</td><td>3.19</td><td>3.40</td><td> 8</td><td>115</td><td>5500</td><td>18</td><td>22</td><td>17450</td></tr>\n",
       "</tbody>\n",
       "</table>\n"
      ],
      "text/latex": [
       "A data.frame: 5 × 26\n",
       "\\begin{tabular}{r|lllllllllllllllllllll}\n",
       "  & symb & normLoss & make & fuelType & aspiration & nDoors & bodyStyle & driveWheels & engineLocation & wheelBase & ⋯ & engineSize & fuelSystem & bore & stroke & compressionRatio & horsePower & peakRpm & cityMpg & highwayMpg & price\\\\\n",
       "  & <int> & <int> & <fct> & <fct> & <fct> & <fct> & <fct> & <fct> & <fct> & <dbl> & ⋯ & <int> & <fct> & <dbl> & <dbl> & <dbl> & <int> & <int> & <int> & <int> & <int>\\\\\n",
       "\\hline\n",
       "\t1 & 3 &  NA & alfa-romero & gas & std & two  & convertible & rwd & front & 88.6 & ⋯ & 130 & mpfi & 3.47 & 2.68 &  9 & 111 & 5000 & 21 & 27 & 13495\\\\\n",
       "\t2 & 3 &  NA & alfa-romero & gas & std & two  & convertible & rwd & front & 88.6 & ⋯ & 130 & mpfi & 3.47 & 2.68 &  9 & 111 & 5000 & 21 & 27 & 16500\\\\\n",
       "\t3 & 1 &  NA & alfa-romero & gas & std & two  & hatchback   & rwd & front & 94.5 & ⋯ & 152 & mpfi & 2.68 & 3.47 &  9 & 154 & 5000 & 19 & 26 & 16500\\\\\n",
       "\t4 & 2 & 164 & audi        & gas & std & four & sedan       & fwd & front & 99.8 & ⋯ & 109 & mpfi & 3.19 & 3.40 & 10 & 102 & 5500 & 24 & 30 & 13950\\\\\n",
       "\t5 & 2 & 164 & audi        & gas & std & four & sedan       & 4wd & front & 99.4 & ⋯ & 136 & mpfi & 3.19 & 3.40 &  8 & 115 & 5500 & 18 & 22 & 17450\\\\\n",
       "\\end{tabular}\n"
      ],
      "text/markdown": [
       "\n",
       "A data.frame: 5 × 26\n",
       "\n",
       "| <!--/--> | symb &lt;int&gt; | normLoss &lt;int&gt; | make &lt;fct&gt; | fuelType &lt;fct&gt; | aspiration &lt;fct&gt; | nDoors &lt;fct&gt; | bodyStyle &lt;fct&gt; | driveWheels &lt;fct&gt; | engineLocation &lt;fct&gt; | wheelBase &lt;dbl&gt; | ⋯ ⋯ | engineSize &lt;int&gt; | fuelSystem &lt;fct&gt; | bore &lt;dbl&gt; | stroke &lt;dbl&gt; | compressionRatio &lt;dbl&gt; | horsePower &lt;int&gt; | peakRpm &lt;int&gt; | cityMpg &lt;int&gt; | highwayMpg &lt;int&gt; | price &lt;int&gt; |\n",
       "|---|---|---|---|---|---|---|---|---|---|---|---|---|---|---|---|---|---|---|---|---|---|\n",
       "| 1 | 3 |  NA | alfa-romero | gas | std | two  | convertible | rwd | front | 88.6 | ⋯ | 130 | mpfi | 3.47 | 2.68 |  9 | 111 | 5000 | 21 | 27 | 13495 |\n",
       "| 2 | 3 |  NA | alfa-romero | gas | std | two  | convertible | rwd | front | 88.6 | ⋯ | 130 | mpfi | 3.47 | 2.68 |  9 | 111 | 5000 | 21 | 27 | 16500 |\n",
       "| 3 | 1 |  NA | alfa-romero | gas | std | two  | hatchback   | rwd | front | 94.5 | ⋯ | 152 | mpfi | 2.68 | 3.47 |  9 | 154 | 5000 | 19 | 26 | 16500 |\n",
       "| 4 | 2 | 164 | audi        | gas | std | four | sedan       | fwd | front | 99.8 | ⋯ | 109 | mpfi | 3.19 | 3.40 | 10 | 102 | 5500 | 24 | 30 | 13950 |\n",
       "| 5 | 2 | 164 | audi        | gas | std | four | sedan       | 4wd | front | 99.4 | ⋯ | 136 | mpfi | 3.19 | 3.40 |  8 | 115 | 5500 | 18 | 22 | 17450 |\n",
       "\n"
      ],
      "text/plain": [
       "  symb normLoss make        fuelType aspiration nDoors bodyStyle   driveWheels\n",
       "1 3     NA      alfa-romero gas      std        two    convertible rwd        \n",
       "2 3     NA      alfa-romero gas      std        two    convertible rwd        \n",
       "3 1     NA      alfa-romero gas      std        two    hatchback   rwd        \n",
       "4 2    164      audi        gas      std        four   sedan       fwd        \n",
       "5 2    164      audi        gas      std        four   sedan       4wd        \n",
       "  engineLocation wheelBase ⋯ engineSize fuelSystem bore stroke compressionRatio\n",
       "1 front          88.6      ⋯ 130        mpfi       3.47 2.68    9              \n",
       "2 front          88.6      ⋯ 130        mpfi       3.47 2.68    9              \n",
       "3 front          94.5      ⋯ 152        mpfi       2.68 3.47    9              \n",
       "4 front          99.8      ⋯ 109        mpfi       3.19 3.40   10              \n",
       "5 front          99.4      ⋯ 136        mpfi       3.19 3.40    8              \n",
       "  horsePower peakRpm cityMpg highwayMpg price\n",
       "1 111        5000    21      27         13495\n",
       "2 111        5000    21      27         16500\n",
       "3 154        5000    19      26         16500\n",
       "4 102        5500    24      30         13950\n",
       "5 115        5500    18      22         17450"
      ]
     },
     "metadata": {},
     "output_type": "display_data"
    }
   ],
   "source": [
    "head(df,5)"
   ]
  },
  {
   "cell_type": "code",
   "execution_count": 60,
   "metadata": {},
   "outputs": [
    {
     "ename": "ERROR",
     "evalue": "Error in transform(df, price_range_norm = (price - min(price))/(max(price) - : unused argument (price_range_norm = (price - min(price))/(max(price) - min(price)))\n",
     "output_type": "error",
     "traceback": [
      "Error in transform(df, price_range_norm = (price - min(price))/(max(price) - : unused argument (price_range_norm = (price - min(price))/(max(price) - min(price)))\nTraceback:\n"
     ]
    }
   ],
   "source": [
    "# Range-based normalization\n",
    "df$price_range_norm <- transform(df, price_range_norm = (price - min(price)) / (max(price) - min(price)))$price_range_norm\n"
   ]
  },
  {
   "cell_type": "code",
   "execution_count": 61,
   "metadata": {},
   "outputs": [
    {
     "ename": "ERROR",
     "evalue": "Error in transform(df, price_zscore_norm = (price - mean(price))/sd(price)): unused argument (price_zscore_norm = (price - mean(price))/sd(price))\n",
     "output_type": "error",
     "traceback": [
      "Error in transform(df, price_zscore_norm = (price - mean(price))/sd(price)): unused argument (price_zscore_norm = (price - mean(price))/sd(price))\nTraceback:\n"
     ]
    }
   ],
   "source": [
    "# Z-score normalization\n",
    "df$price_zscore_norm <- transform(df, price_zscore_norm = (price - mean(price)) / sd(price))$price_zscore_norm\n",
    "\n"
   ]
  },
  {
   "cell_type": "markdown",
   "metadata": {},
   "source": [
    "#### (b) Discretize it into 4 equal-frequency ranges an into 4 equal-width ranges. Tip: use the function binning()."
   ]
  },
  {
   "cell_type": "code",
   "execution_count": 62,
   "metadata": {},
   "outputs": [
    {
     "ename": "ERROR",
     "evalue": "Error in dlookr::binning(df$price, method = \"equalfreq\", n = 4): unused argument (method = \"equalfreq\")\n",
     "output_type": "error",
     "traceback": [
      "Error in dlookr::binning(df$price, method = \"equalfreq\", n = 4): unused argument (method = \"equalfreq\")\nTraceback:\n"
     ]
    }
   ],
   "source": [
    "# Equal-frequency binning\n",
    "df$price_eqfreq <- dlookr::binning(df$price, method = \"equalfreq\", n = 4)\n"
   ]
  },
  {
   "cell_type": "markdown",
   "metadata": {},
   "source": [
    "### 3. With the seed 111019 obtain the following samples on the car insurance data set. Tip: use the function sample_frac()."
   ]
  },
  {
   "cell_type": "markdown",
   "metadata": {},
   "source": [
    "#### (a) A random sample of 60% of the cases, with replacement"
   ]
  },
  {
   "cell_type": "markdown",
   "metadata": {},
   "source": [
    "#### (b) A stratified sample of 60% of the cases of cars, according to the fuelType attribute."
   ]
  },
  {
   "cell_type": "markdown",
   "metadata": {},
   "source": [
    "#### (c) Use the table() function to inspect the distribution of values in each of the two samples above."
   ]
  }
 ],
 "metadata": {
  "anaconda-cloud": "",
  "kernelspec": {
   "display_name": "R",
   "language": "R",
   "name": "ir"
  },
  "language_info": {
   "codemirror_mode": "r",
   "file_extension": ".r",
   "mimetype": "text/x-r-source",
   "name": "R",
   "pygments_lexer": "r",
   "version": "4.3.0"
  }
 },
 "nbformat": 4,
 "nbformat_minor": 4
}
