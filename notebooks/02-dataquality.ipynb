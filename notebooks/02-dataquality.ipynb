{
    "cells": [
        {
            "cell_type": "markdown",
            "metadata": {},
            "source": [
                "# 2 Hands On: Data Quality and Pre-Processing\n",
                "\n",
                "## 1. Assessing Data Quality\n",
                "\n",
                "Load the following packages: dplyr, na.tools, tidyimpute (version from github decisionpatterns/tidyimpute\")\n"
            ]
        },
        {
            "cell_type": "code",
            "execution_count": null,
            "metadata": {},
            "outputs": [],
            "source": [
                "# Install packages if not already installed\n",
                "install.packages(c(\"dplyr\", \"na.tools\"))\n",
                "#Load packages\n",
                "library(dplyr)\n",
                "library(na.tools)\n"
            ]
        },
        {
            "cell_type": "markdown",
            "metadata": {},
            "source": "\n"
        },
        {
            "cell_type": "code",
            "execution_count": null,
            "metadata": {},
            "outputs": [],
            "source": [
                "install.packages(\"remotes\")  # Install the remotes package if you don't have it\n",
                "\n",
                "remotes::install_github(\"decisionpatterns/tidyimpute\")\n"
            ]
        },
        {
            "cell_type": "markdown",
            "metadata": {},
            "source": "\n"
        },
        {
            "cell_type": "code",
            "execution_count": null,
            "metadata": {},
            "outputs": [],
            "source": [
                "library(tidyimpute)\n",
                "\n"
            ]
        },
        {
            "cell_type": "markdown",
            "metadata": {},
            "source": [
                "Load the carInsurance data set about the insurance risk rating of cars based on several characteristics of each car.\n",
                "\n"
            ]
        },
        {
            "cell_type": "code",
            "execution_count": null,
            "metadata": {},
            "outputs": [],
            "source": [
                "load(\"C:/Users/Paola/Documents/GitHub/hands-on-2023A/data/02_dataquality/carInsurance.Rdata\")\n",
                "\n",
                "# Convert the loaded object to a data frame (if necessary)\n",
                "# Replace `object_name` with the name of the object you loaded from the .Rdata file\n",
                "data_df <- as.data.frame(carIns)\n",
                "\n",
                "# Write the data frame to a CSV file\n",
                "write.csv(data_df, \"carInsurance.csv\", row.names = FALSE)\n"
            ]
        },
        {
            "cell_type": "markdown",
            "metadata": {},
            "source": "\n"
        },
        {
            "cell_type": "code",
            "execution_count": null,
            "metadata": {},
            "outputs": [],
            "source": [
                "#Check the new file .csv\n",
                "data_df\n"
            ]
        },
        {
            "cell_type": "markdown",
            "metadata": {},
            "source": [
                "### \n",
                "(a) Check if there are any missing values.\n",
                "Tip: use the function any_na().\n"
            ]
        },
        {
            "cell_type": "code",
            "execution_count": null,
            "metadata": {},
            "outputs": [],
            "source": [
                "# Check for missing values\n",
                "if (any_na(data_df)) {\n",
                "  print(\"There are missing values in the dataset.\")\n",
                "} else {\n",
                "  print(\"There are no missing values in the dataset.\")\n",
                "}\n"
            ]
        },
        {
            "cell_type": "markdown",
            "metadata": {},
            "source": [
                "### \n",
                "(b) Count the number of cases that have, at least, one missing value.\n",
                "Tip: use the function filter_any_na() and then count().\n"
            ]
        },
        {
            "cell_type": "code",
            "execution_count": null,
            "metadata": {},
            "outputs": [],
            "source": [
                "# Filter cases with at least one missing value and count them\n",
                "missing_cases <- data_df %>% filter_any_na() %>% count()\n",
                "\n",
                "# Print the number of cases with missing values\n",
                "print(missing_cases)\n"
            ]
        },
        {
            "cell_type": "markdown",
            "metadata": {},
            "source": [
                "### \n",
                "(c) Create a new data set by removing all the cases that have missing values.\n",
                "Tip: use the function drop_rows_any_na()\n",
                "\n",
                "### \n",
                "(d) Create a new data set by imputing all the missing values with 0.\n",
                "Tip: explore the variants of the function impute()\n",
                "\n",
                "### \n",
                "(e) Create a new data set by imputing the mean in all the columns which have double type values.\n",
                "\n",
                "### \n",
                "(f) Create a new data set by imputing the mode in all the columns which have integer type values.\n",
                "\n",
                "### \n",
                "(g) Create a new data set by imputing the most frequent value to the column \\\"nDoors\\\".\n",
                "Tip: use the function impute_replace()\n",
                "\n",
                "### \n",
                "(h) Combine the three last imputations to obtain a final dataset. Are there any duplicated cases?\n",
                "Tip: use the functions distinct() and count()\n",
                "\n",
                "## \n",
                "2. Data Pre-Processing\n",
                "\n",
                "### \n",
                "2. Load the package dlookr. Use the same car insurance data set above and apply the following\n",
                "transformations to the price attribute. Be critical regarding the obtained results.\n",
                "(a) Apply range-based normalization and z-score normalization.\n",
                "Tip: use the function transform().\n",
                "(b) Discretize it into 4 equal-frequency ranges an into 4 equal-width ranges.\n",
                "Tip: use the function binning().\n",
                "3. With the seed 111019 obtain the following samples on the car insurance data set.\n",
                "Tip: use the function sample_frac().\n",
                "(a) A random sample of 60% of the cases, with replacement\n",
                "(b) A stratified sample of 60% of the cases of cars, according to the fuelType attribute.\n",
                "(c) Use the table() function to inspect the distribution of values in each of the two samples above.\n"
            ]
        }
    ],
    "metadata": {
        "anaconda-cloud": "",
        "kernelspec": {
            "display_name": "R",
            "langauge": "R",
            "name": "ir"
        },
        "language_info": {
            "codemirror_mode": "r",
            "file_extension": ".r",
            "mimetype": "text/x-r-source",
            "name": "R",
            "pygments_lexer": "r",
            "version": "3.4.1"
        }
    },
    "nbformat": 4,
    "nbformat_minor": 1
}
