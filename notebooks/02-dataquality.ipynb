{
 "cells": [
  {
   "cell_type": "markdown",
   "metadata": {},
   "source": [
    "# 2 Hands On: Data Quality and Pre-Processing\n",
    "\n",
    "## 1. Assessing Data Quality\n",
    "\n",
    "Load the following packages: dplyr, na.tools, tidyimpute (version from github decisionpatterns/tidyimpute\")\n"
   ]
  },
  {
   "cell_type": "code",
   "execution_count": 1,
   "metadata": {},
   "outputs": [
    {
     "name": "stderr",
     "output_type": "stream",
     "text": [
      "Installing packages into 'C:/Users/Paola/AppData/Local/R/win-library/4.3'\n",
      "(as 'lib' is unspecified)\n",
      "\n"
     ]
    },
    {
     "name": "stdout",
     "output_type": "stream",
     "text": [
      "package 'dplyr' successfully unpacked and MD5 sums checked\n",
      "package 'na.tools' successfully unpacked and MD5 sums checked\n",
      "\n",
      "The downloaded binary packages are in\n",
      "\tC:\\Users\\Paola\\AppData\\Local\\Temp\\RtmpY19noq\\downloaded_packages\n"
     ]
    },
    {
     "name": "stderr",
     "output_type": "stream",
     "text": [
      "\n",
      "Attaching package: 'dplyr'\n",
      "\n",
      "\n",
      "The following objects are masked from 'package:stats':\n",
      "\n",
      "    filter, lag\n",
      "\n",
      "\n",
      "The following objects are masked from 'package:base':\n",
      "\n",
      "    intersect, setdiff, setequal, union\n",
      "\n",
      "\n"
     ]
    }
   ],
   "source": [
    "# Install packages \n",
    "install.packages(c(\"dplyr\", \"na.tools\"))\n",
    "#Load packages\n",
    "library(dplyr)\n",
    "library(na.tools)\n"
   ]
  },
  {
   "cell_type": "markdown",
   "metadata": {},
   "source": [
    "\n"
   ]
  },
  {
   "cell_type": "code",
   "execution_count": 2,
   "metadata": {},
   "outputs": [
    {
     "name": "stderr",
     "output_type": "stream",
     "text": [
      "Installing package into 'C:/Users/Paola/AppData/Local/R/win-library/4.3'\n",
      "(as 'lib' is unspecified)\n",
      "\n"
     ]
    },
    {
     "name": "stdout",
     "output_type": "stream",
     "text": [
      "package 'remotes' successfully unpacked and MD5 sums checked\n",
      "\n",
      "The downloaded binary packages are in\n",
      "\tC:\\Users\\Paola\\AppData\\Local\\Temp\\RtmpY19noq\\downloaded_packages\n"
     ]
    },
    {
     "name": "stderr",
     "output_type": "stream",
     "text": [
      "Skipping install of 'tidyimpute' from a github remote, the SHA1 (9e07748f) has not changed since last install.\n",
      "  Use `force = TRUE` to force installation\n",
      "\n"
     ]
    }
   ],
   "source": [
    "#To install tidyimpute, install remotes \n",
    "install.packages(\"remotes\")\n",
    "# Install tidyimpute\n",
    "remotes::install_github(\"decisionpatterns/tidyimpute\")\n",
    "#Load package\n",
    "library(tidyimpute)\n"
   ]
  },
  {
   "cell_type": "markdown",
   "metadata": {},
   "source": [
    "\n"
   ]
  },
  {
   "cell_type": "markdown",
   "metadata": {},
   "source": [
    "Load the carInsurance data set about the insurance risk rating of cars based on several characteristics of each car.\n",
    "\n"
   ]
  },
  {
   "cell_type": "code",
   "execution_count": 7,
   "metadata": {},
   "outputs": [
    {
     "data": {
      "text/html": [
       "<table class=\"dataframe\">\n",
       "<caption>A data.frame: 10 × 26</caption>\n",
       "<thead>\n",
       "\t<tr><th></th><th scope=col>symb</th><th scope=col>normLoss</th><th scope=col>make</th><th scope=col>fuelType</th><th scope=col>aspiration</th><th scope=col>nDoors</th><th scope=col>bodyStyle</th><th scope=col>driveWheels</th><th scope=col>engineLocation</th><th scope=col>wheelBase</th><th scope=col>⋯</th><th scope=col>engineSize</th><th scope=col>fuelSystem</th><th scope=col>bore</th><th scope=col>stroke</th><th scope=col>compressionRatio</th><th scope=col>horsePower</th><th scope=col>peakRpm</th><th scope=col>cityMpg</th><th scope=col>highwayMpg</th><th scope=col>price</th></tr>\n",
       "\t<tr><th></th><th scope=col>&lt;int&gt;</th><th scope=col>&lt;int&gt;</th><th scope=col>&lt;fct&gt;</th><th scope=col>&lt;fct&gt;</th><th scope=col>&lt;fct&gt;</th><th scope=col>&lt;fct&gt;</th><th scope=col>&lt;fct&gt;</th><th scope=col>&lt;fct&gt;</th><th scope=col>&lt;fct&gt;</th><th scope=col>&lt;dbl&gt;</th><th scope=col>⋯</th><th scope=col>&lt;int&gt;</th><th scope=col>&lt;fct&gt;</th><th scope=col>&lt;dbl&gt;</th><th scope=col>&lt;dbl&gt;</th><th scope=col>&lt;dbl&gt;</th><th scope=col>&lt;int&gt;</th><th scope=col>&lt;int&gt;</th><th scope=col>&lt;int&gt;</th><th scope=col>&lt;int&gt;</th><th scope=col>&lt;int&gt;</th></tr>\n",
       "</thead>\n",
       "<tbody>\n",
       "\t<tr><th scope=row>1</th><td>3</td><td> NA</td><td>alfa-romero</td><td>gas</td><td>std  </td><td>two </td><td>convertible</td><td>rwd</td><td>front</td><td> 88.6</td><td>⋯</td><td>130</td><td>mpfi</td><td>3.47</td><td>2.68</td><td> 9.0</td><td>111</td><td>5000</td><td>21</td><td>27</td><td>13495</td></tr>\n",
       "\t<tr><th scope=row>2</th><td>3</td><td> NA</td><td>alfa-romero</td><td>gas</td><td>std  </td><td>two </td><td>convertible</td><td>rwd</td><td>front</td><td> 88.6</td><td>⋯</td><td>130</td><td>mpfi</td><td>3.47</td><td>2.68</td><td> 9.0</td><td>111</td><td>5000</td><td>21</td><td>27</td><td>16500</td></tr>\n",
       "\t<tr><th scope=row>3</th><td>1</td><td> NA</td><td>alfa-romero</td><td>gas</td><td>std  </td><td>two </td><td>hatchback  </td><td>rwd</td><td>front</td><td> 94.5</td><td>⋯</td><td>152</td><td>mpfi</td><td>2.68</td><td>3.47</td><td> 9.0</td><td>154</td><td>5000</td><td>19</td><td>26</td><td>16500</td></tr>\n",
       "\t<tr><th scope=row>4</th><td>2</td><td>164</td><td>audi       </td><td>gas</td><td>std  </td><td>four</td><td>sedan      </td><td>fwd</td><td>front</td><td> 99.8</td><td>⋯</td><td>109</td><td>mpfi</td><td>3.19</td><td>3.40</td><td>10.0</td><td>102</td><td>5500</td><td>24</td><td>30</td><td>13950</td></tr>\n",
       "\t<tr><th scope=row>5</th><td>2</td><td>164</td><td>audi       </td><td>gas</td><td>std  </td><td>four</td><td>sedan      </td><td>4wd</td><td>front</td><td> 99.4</td><td>⋯</td><td>136</td><td>mpfi</td><td>3.19</td><td>3.40</td><td> 8.0</td><td>115</td><td>5500</td><td>18</td><td>22</td><td>17450</td></tr>\n",
       "\t<tr><th scope=row>6</th><td>2</td><td> NA</td><td>audi       </td><td>gas</td><td>std  </td><td>two </td><td>sedan      </td><td>fwd</td><td>front</td><td> 99.8</td><td>⋯</td><td>136</td><td>mpfi</td><td>3.19</td><td>3.40</td><td> 8.5</td><td>110</td><td>5500</td><td>19</td><td>25</td><td>15250</td></tr>\n",
       "\t<tr><th scope=row>7</th><td>1</td><td>158</td><td>audi       </td><td>gas</td><td>std  </td><td>four</td><td>sedan      </td><td>fwd</td><td>front</td><td>105.8</td><td>⋯</td><td>136</td><td>mpfi</td><td>3.19</td><td>3.40</td><td> 8.5</td><td>110</td><td>5500</td><td>19</td><td>25</td><td>17710</td></tr>\n",
       "\t<tr><th scope=row>8</th><td>1</td><td> NA</td><td>audi       </td><td>gas</td><td>std  </td><td>four</td><td>wagon      </td><td>fwd</td><td>front</td><td>105.8</td><td>⋯</td><td>136</td><td>mpfi</td><td>3.19</td><td>3.40</td><td> 8.5</td><td>110</td><td>5500</td><td>19</td><td>25</td><td>18920</td></tr>\n",
       "\t<tr><th scope=row>9</th><td>1</td><td>158</td><td>audi       </td><td>gas</td><td>turbo</td><td>four</td><td>sedan      </td><td>fwd</td><td>front</td><td>105.8</td><td>⋯</td><td>131</td><td>mpfi</td><td>3.13</td><td>3.40</td><td> 8.3</td><td>140</td><td>5500</td><td>17</td><td>20</td><td>23875</td></tr>\n",
       "\t<tr><th scope=row>10</th><td>0</td><td> NA</td><td>audi       </td><td>gas</td><td>turbo</td><td>two </td><td>hatchback  </td><td>4wd</td><td>front</td><td> 99.5</td><td>⋯</td><td>131</td><td>mpfi</td><td>3.13</td><td>3.40</td><td> 7.0</td><td>160</td><td>5500</td><td>16</td><td>22</td><td>   NA</td></tr>\n",
       "</tbody>\n",
       "</table>\n"
      ],
      "text/latex": [
       "A data.frame: 10 × 26\n",
       "\\begin{tabular}{r|lllllllllllllllllllll}\n",
       "  & symb & normLoss & make & fuelType & aspiration & nDoors & bodyStyle & driveWheels & engineLocation & wheelBase & ⋯ & engineSize & fuelSystem & bore & stroke & compressionRatio & horsePower & peakRpm & cityMpg & highwayMpg & price\\\\\n",
       "  & <int> & <int> & <fct> & <fct> & <fct> & <fct> & <fct> & <fct> & <fct> & <dbl> & ⋯ & <int> & <fct> & <dbl> & <dbl> & <dbl> & <int> & <int> & <int> & <int> & <int>\\\\\n",
       "\\hline\n",
       "\t1 & 3 &  NA & alfa-romero & gas & std   & two  & convertible & rwd & front &  88.6 & ⋯ & 130 & mpfi & 3.47 & 2.68 &  9.0 & 111 & 5000 & 21 & 27 & 13495\\\\\n",
       "\t2 & 3 &  NA & alfa-romero & gas & std   & two  & convertible & rwd & front &  88.6 & ⋯ & 130 & mpfi & 3.47 & 2.68 &  9.0 & 111 & 5000 & 21 & 27 & 16500\\\\\n",
       "\t3 & 1 &  NA & alfa-romero & gas & std   & two  & hatchback   & rwd & front &  94.5 & ⋯ & 152 & mpfi & 2.68 & 3.47 &  9.0 & 154 & 5000 & 19 & 26 & 16500\\\\\n",
       "\t4 & 2 & 164 & audi        & gas & std   & four & sedan       & fwd & front &  99.8 & ⋯ & 109 & mpfi & 3.19 & 3.40 & 10.0 & 102 & 5500 & 24 & 30 & 13950\\\\\n",
       "\t5 & 2 & 164 & audi        & gas & std   & four & sedan       & 4wd & front &  99.4 & ⋯ & 136 & mpfi & 3.19 & 3.40 &  8.0 & 115 & 5500 & 18 & 22 & 17450\\\\\n",
       "\t6 & 2 &  NA & audi        & gas & std   & two  & sedan       & fwd & front &  99.8 & ⋯ & 136 & mpfi & 3.19 & 3.40 &  8.5 & 110 & 5500 & 19 & 25 & 15250\\\\\n",
       "\t7 & 1 & 158 & audi        & gas & std   & four & sedan       & fwd & front & 105.8 & ⋯ & 136 & mpfi & 3.19 & 3.40 &  8.5 & 110 & 5500 & 19 & 25 & 17710\\\\\n",
       "\t8 & 1 &  NA & audi        & gas & std   & four & wagon       & fwd & front & 105.8 & ⋯ & 136 & mpfi & 3.19 & 3.40 &  8.5 & 110 & 5500 & 19 & 25 & 18920\\\\\n",
       "\t9 & 1 & 158 & audi        & gas & turbo & four & sedan       & fwd & front & 105.8 & ⋯ & 131 & mpfi & 3.13 & 3.40 &  8.3 & 140 & 5500 & 17 & 20 & 23875\\\\\n",
       "\t10 & 0 &  NA & audi        & gas & turbo & two  & hatchback   & 4wd & front &  99.5 & ⋯ & 131 & mpfi & 3.13 & 3.40 &  7.0 & 160 & 5500 & 16 & 22 &    NA\\\\\n",
       "\\end{tabular}\n"
      ],
      "text/markdown": [
       "\n",
       "A data.frame: 10 × 26\n",
       "\n",
       "| <!--/--> | symb &lt;int&gt; | normLoss &lt;int&gt; | make &lt;fct&gt; | fuelType &lt;fct&gt; | aspiration &lt;fct&gt; | nDoors &lt;fct&gt; | bodyStyle &lt;fct&gt; | driveWheels &lt;fct&gt; | engineLocation &lt;fct&gt; | wheelBase &lt;dbl&gt; | ⋯ ⋯ | engineSize &lt;int&gt; | fuelSystem &lt;fct&gt; | bore &lt;dbl&gt; | stroke &lt;dbl&gt; | compressionRatio &lt;dbl&gt; | horsePower &lt;int&gt; | peakRpm &lt;int&gt; | cityMpg &lt;int&gt; | highwayMpg &lt;int&gt; | price &lt;int&gt; |\n",
       "|---|---|---|---|---|---|---|---|---|---|---|---|---|---|---|---|---|---|---|---|---|---|\n",
       "| 1 | 3 |  NA | alfa-romero | gas | std   | two  | convertible | rwd | front |  88.6 | ⋯ | 130 | mpfi | 3.47 | 2.68 |  9.0 | 111 | 5000 | 21 | 27 | 13495 |\n",
       "| 2 | 3 |  NA | alfa-romero | gas | std   | two  | convertible | rwd | front |  88.6 | ⋯ | 130 | mpfi | 3.47 | 2.68 |  9.0 | 111 | 5000 | 21 | 27 | 16500 |\n",
       "| 3 | 1 |  NA | alfa-romero | gas | std   | two  | hatchback   | rwd | front |  94.5 | ⋯ | 152 | mpfi | 2.68 | 3.47 |  9.0 | 154 | 5000 | 19 | 26 | 16500 |\n",
       "| 4 | 2 | 164 | audi        | gas | std   | four | sedan       | fwd | front |  99.8 | ⋯ | 109 | mpfi | 3.19 | 3.40 | 10.0 | 102 | 5500 | 24 | 30 | 13950 |\n",
       "| 5 | 2 | 164 | audi        | gas | std   | four | sedan       | 4wd | front |  99.4 | ⋯ | 136 | mpfi | 3.19 | 3.40 |  8.0 | 115 | 5500 | 18 | 22 | 17450 |\n",
       "| 6 | 2 |  NA | audi        | gas | std   | two  | sedan       | fwd | front |  99.8 | ⋯ | 136 | mpfi | 3.19 | 3.40 |  8.5 | 110 | 5500 | 19 | 25 | 15250 |\n",
       "| 7 | 1 | 158 | audi        | gas | std   | four | sedan       | fwd | front | 105.8 | ⋯ | 136 | mpfi | 3.19 | 3.40 |  8.5 | 110 | 5500 | 19 | 25 | 17710 |\n",
       "| 8 | 1 |  NA | audi        | gas | std   | four | wagon       | fwd | front | 105.8 | ⋯ | 136 | mpfi | 3.19 | 3.40 |  8.5 | 110 | 5500 | 19 | 25 | 18920 |\n",
       "| 9 | 1 | 158 | audi        | gas | turbo | four | sedan       | fwd | front | 105.8 | ⋯ | 131 | mpfi | 3.13 | 3.40 |  8.3 | 140 | 5500 | 17 | 20 | 23875 |\n",
       "| 10 | 0 |  NA | audi        | gas | turbo | two  | hatchback   | 4wd | front |  99.5 | ⋯ | 131 | mpfi | 3.13 | 3.40 |  7.0 | 160 | 5500 | 16 | 22 |    NA |\n",
       "\n"
      ],
      "text/plain": [
       "   symb normLoss make        fuelType aspiration nDoors bodyStyle   driveWheels\n",
       "1  3     NA      alfa-romero gas      std        two    convertible rwd        \n",
       "2  3     NA      alfa-romero gas      std        two    convertible rwd        \n",
       "3  1     NA      alfa-romero gas      std        two    hatchback   rwd        \n",
       "4  2    164      audi        gas      std        four   sedan       fwd        \n",
       "5  2    164      audi        gas      std        four   sedan       4wd        \n",
       "6  2     NA      audi        gas      std        two    sedan       fwd        \n",
       "7  1    158      audi        gas      std        four   sedan       fwd        \n",
       "8  1     NA      audi        gas      std        four   wagon       fwd        \n",
       "9  1    158      audi        gas      turbo      four   sedan       fwd        \n",
       "10 0     NA      audi        gas      turbo      two    hatchback   4wd        \n",
       "   engineLocation wheelBase ⋯ engineSize fuelSystem bore stroke\n",
       "1  front           88.6     ⋯ 130        mpfi       3.47 2.68  \n",
       "2  front           88.6     ⋯ 130        mpfi       3.47 2.68  \n",
       "3  front           94.5     ⋯ 152        mpfi       2.68 3.47  \n",
       "4  front           99.8     ⋯ 109        mpfi       3.19 3.40  \n",
       "5  front           99.4     ⋯ 136        mpfi       3.19 3.40  \n",
       "6  front           99.8     ⋯ 136        mpfi       3.19 3.40  \n",
       "7  front          105.8     ⋯ 136        mpfi       3.19 3.40  \n",
       "8  front          105.8     ⋯ 136        mpfi       3.19 3.40  \n",
       "9  front          105.8     ⋯ 131        mpfi       3.13 3.40  \n",
       "10 front           99.5     ⋯ 131        mpfi       3.13 3.40  \n",
       "   compressionRatio horsePower peakRpm cityMpg highwayMpg price\n",
       "1   9.0             111        5000    21      27         13495\n",
       "2   9.0             111        5000    21      27         16500\n",
       "3   9.0             154        5000    19      26         16500\n",
       "4  10.0             102        5500    24      30         13950\n",
       "5   8.0             115        5500    18      22         17450\n",
       "6   8.5             110        5500    19      25         15250\n",
       "7   8.5             110        5500    19      25         17710\n",
       "8   8.5             110        5500    19      25         18920\n",
       "9   8.3             140        5500    17      20         23875\n",
       "10  7.0             160        5500    16      22            NA"
      ]
     },
     "metadata": {},
     "output_type": "display_data"
    }
   ],
   "source": [
    "#Load the data set\n",
    "load(\"C:/Users/Paola/Documents/GitHub/hands-on-2023A/data/02_dataquality/carInsurance.Rdata\")\n",
    "\n",
    "# Convert the loaded object to a data frame \n",
    "df <- as.data.frame(carIns)\n",
    "\n",
    "# Write the data frame to a CSV file\n",
    "write.csv(df, \"carInsurance.csv\", row.names = FALSE)\n",
    "\n",
    "#Check the new file .csv\n",
    "head(df, 10)"
   ]
  },
  {
   "cell_type": "markdown",
   "metadata": {},
   "source": [
    "### (a) Check if there are any missing values.Tip: use the function any_na()."
   ]
  },
  {
   "cell_type": "code",
   "execution_count": 13,
   "metadata": {},
   "outputs": [
    {
     "name": "stdout",
     "output_type": "stream",
     "text": [
      "[1] \"There are missing values in the dataset.\"\n"
     ]
    }
   ],
   "source": [
    "# Check for missing values\n",
    "if (any_na(df)) {\n",
    "  print(\"There are missing values in the dataset.\")\n",
    "} else {\n",
    "  print(\"There are no missing values in the dataset.\")\n",
    "}\n"
   ]
  },
  {
   "cell_type": "markdown",
   "metadata": {},
   "source": [
    "### (b) Count the number of cases that have, at least, one missing value.Tip: use the function filter_any_na() and then count().\n"
   ]
  },
  {
   "cell_type": "code",
   "execution_count": 14,
   "metadata": {},
   "outputs": [
    {
     "name": "stdout",
     "output_type": "stream",
     "text": [
      "    n\n",
      "1 159\n"
     ]
    }
   ],
   "source": [
    "# Filter cases with at least one missing value and count them\n",
    "missing_cases <- df %>% filter_any_na() %>% count()\n",
    "\n",
    "# Print the number of cases with missing values\n",
    "print(missing_cases)\n"
   ]
  },
  {
   "cell_type": "markdown",
   "metadata": {},
   "source": [
    "### (c) Create a new data set by removing all the cases that have missing values.Tip: use the function drop_rows_any_na()"
   ]
  },
  {
   "cell_type": "code",
   "execution_count": 15,
   "metadata": {
    "tags": []
   },
   "outputs": [
    {
     "data": {
      "text/html": [
       "<table class=\"dataframe\">\n",
       "<caption>A data.frame: 10 × 26</caption>\n",
       "<thead>\n",
       "\t<tr><th></th><th scope=col>symb</th><th scope=col>normLoss</th><th scope=col>make</th><th scope=col>fuelType</th><th scope=col>aspiration</th><th scope=col>nDoors</th><th scope=col>bodyStyle</th><th scope=col>driveWheels</th><th scope=col>engineLocation</th><th scope=col>wheelBase</th><th scope=col>⋯</th><th scope=col>engineSize</th><th scope=col>fuelSystem</th><th scope=col>bore</th><th scope=col>stroke</th><th scope=col>compressionRatio</th><th scope=col>horsePower</th><th scope=col>peakRpm</th><th scope=col>cityMpg</th><th scope=col>highwayMpg</th><th scope=col>price</th></tr>\n",
       "\t<tr><th></th><th scope=col>&lt;int&gt;</th><th scope=col>&lt;int&gt;</th><th scope=col>&lt;fct&gt;</th><th scope=col>&lt;fct&gt;</th><th scope=col>&lt;fct&gt;</th><th scope=col>&lt;fct&gt;</th><th scope=col>&lt;fct&gt;</th><th scope=col>&lt;fct&gt;</th><th scope=col>&lt;fct&gt;</th><th scope=col>&lt;dbl&gt;</th><th scope=col>⋯</th><th scope=col>&lt;int&gt;</th><th scope=col>&lt;fct&gt;</th><th scope=col>&lt;dbl&gt;</th><th scope=col>&lt;dbl&gt;</th><th scope=col>&lt;dbl&gt;</th><th scope=col>&lt;int&gt;</th><th scope=col>&lt;int&gt;</th><th scope=col>&lt;int&gt;</th><th scope=col>&lt;int&gt;</th><th scope=col>&lt;int&gt;</th></tr>\n",
       "</thead>\n",
       "<tbody>\n",
       "\t<tr><th scope=row>4</th><td>2</td><td>164</td><td>audi     </td><td>gas</td><td>std  </td><td>four</td><td>sedan    </td><td>fwd</td><td>front</td><td> 99.8</td><td>⋯</td><td>109</td><td>mpfi</td><td>3.19</td><td>3.40</td><td>10.0</td><td>102</td><td>5500</td><td>24</td><td>30</td><td>13950</td></tr>\n",
       "\t<tr><th scope=row>5</th><td>2</td><td>164</td><td>audi     </td><td>gas</td><td>std  </td><td>four</td><td>sedan    </td><td>4wd</td><td>front</td><td> 99.4</td><td>⋯</td><td>136</td><td>mpfi</td><td>3.19</td><td>3.40</td><td> 8.0</td><td>115</td><td>5500</td><td>18</td><td>22</td><td>17450</td></tr>\n",
       "\t<tr><th scope=row>7</th><td>1</td><td>158</td><td>audi     </td><td>gas</td><td>std  </td><td>four</td><td>sedan    </td><td>fwd</td><td>front</td><td>105.8</td><td>⋯</td><td>136</td><td>mpfi</td><td>3.19</td><td>3.40</td><td> 8.5</td><td>110</td><td>5500</td><td>19</td><td>25</td><td>17710</td></tr>\n",
       "\t<tr><th scope=row>9</th><td>1</td><td>158</td><td>audi     </td><td>gas</td><td>turbo</td><td>four</td><td>sedan    </td><td>fwd</td><td>front</td><td>105.8</td><td>⋯</td><td>131</td><td>mpfi</td><td>3.13</td><td>3.40</td><td> 8.3</td><td>140</td><td>5500</td><td>17</td><td>20</td><td>23875</td></tr>\n",
       "\t<tr><th scope=row>11</th><td>2</td><td>192</td><td>bmw      </td><td>gas</td><td>std  </td><td>two </td><td>sedan    </td><td>rwd</td><td>front</td><td>101.2</td><td>⋯</td><td>108</td><td>mpfi</td><td>3.50</td><td>2.80</td><td> 8.8</td><td>101</td><td>5800</td><td>23</td><td>29</td><td>16430</td></tr>\n",
       "\t<tr><th scope=row>12</th><td>0</td><td>192</td><td>bmw      </td><td>gas</td><td>std  </td><td>four</td><td>sedan    </td><td>rwd</td><td>front</td><td>101.2</td><td>⋯</td><td>108</td><td>mpfi</td><td>3.50</td><td>2.80</td><td> 8.8</td><td>101</td><td>5800</td><td>23</td><td>29</td><td>16925</td></tr>\n",
       "\t<tr><th scope=row>13</th><td>0</td><td>188</td><td>bmw      </td><td>gas</td><td>std  </td><td>two </td><td>sedan    </td><td>rwd</td><td>front</td><td>101.2</td><td>⋯</td><td>164</td><td>mpfi</td><td>3.31</td><td>3.19</td><td> 9.0</td><td>121</td><td>4250</td><td>21</td><td>28</td><td>20970</td></tr>\n",
       "\t<tr><th scope=row>14</th><td>0</td><td>188</td><td>bmw      </td><td>gas</td><td>std  </td><td>four</td><td>sedan    </td><td>rwd</td><td>front</td><td>101.2</td><td>⋯</td><td>164</td><td>mpfi</td><td>3.31</td><td>3.19</td><td> 9.0</td><td>121</td><td>4250</td><td>21</td><td>28</td><td>21105</td></tr>\n",
       "\t<tr><th scope=row>19</th><td>2</td><td>121</td><td>chevrolet</td><td>gas</td><td>std  </td><td>two </td><td>hatchback</td><td>fwd</td><td>front</td><td> 88.4</td><td>⋯</td><td> 61</td><td>2bbl</td><td>2.91</td><td>3.03</td><td> 9.5</td><td> 48</td><td>5100</td><td>47</td><td>53</td><td> 5151</td></tr>\n",
       "\t<tr><th scope=row>20</th><td>1</td><td> 98</td><td>chevrolet</td><td>gas</td><td>std  </td><td>two </td><td>hatchback</td><td>fwd</td><td>front</td><td> 94.5</td><td>⋯</td><td> 90</td><td>2bbl</td><td>3.03</td><td>3.11</td><td> 9.6</td><td> 70</td><td>5400</td><td>38</td><td>43</td><td> 6295</td></tr>\n",
       "</tbody>\n",
       "</table>\n"
      ],
      "text/latex": [
       "A data.frame: 10 × 26\n",
       "\\begin{tabular}{r|lllllllllllllllllllll}\n",
       "  & symb & normLoss & make & fuelType & aspiration & nDoors & bodyStyle & driveWheels & engineLocation & wheelBase & ⋯ & engineSize & fuelSystem & bore & stroke & compressionRatio & horsePower & peakRpm & cityMpg & highwayMpg & price\\\\\n",
       "  & <int> & <int> & <fct> & <fct> & <fct> & <fct> & <fct> & <fct> & <fct> & <dbl> & ⋯ & <int> & <fct> & <dbl> & <dbl> & <dbl> & <int> & <int> & <int> & <int> & <int>\\\\\n",
       "\\hline\n",
       "\t4 & 2 & 164 & audi      & gas & std   & four & sedan     & fwd & front &  99.8 & ⋯ & 109 & mpfi & 3.19 & 3.40 & 10.0 & 102 & 5500 & 24 & 30 & 13950\\\\\n",
       "\t5 & 2 & 164 & audi      & gas & std   & four & sedan     & 4wd & front &  99.4 & ⋯ & 136 & mpfi & 3.19 & 3.40 &  8.0 & 115 & 5500 & 18 & 22 & 17450\\\\\n",
       "\t7 & 1 & 158 & audi      & gas & std   & four & sedan     & fwd & front & 105.8 & ⋯ & 136 & mpfi & 3.19 & 3.40 &  8.5 & 110 & 5500 & 19 & 25 & 17710\\\\\n",
       "\t9 & 1 & 158 & audi      & gas & turbo & four & sedan     & fwd & front & 105.8 & ⋯ & 131 & mpfi & 3.13 & 3.40 &  8.3 & 140 & 5500 & 17 & 20 & 23875\\\\\n",
       "\t11 & 2 & 192 & bmw       & gas & std   & two  & sedan     & rwd & front & 101.2 & ⋯ & 108 & mpfi & 3.50 & 2.80 &  8.8 & 101 & 5800 & 23 & 29 & 16430\\\\\n",
       "\t12 & 0 & 192 & bmw       & gas & std   & four & sedan     & rwd & front & 101.2 & ⋯ & 108 & mpfi & 3.50 & 2.80 &  8.8 & 101 & 5800 & 23 & 29 & 16925\\\\\n",
       "\t13 & 0 & 188 & bmw       & gas & std   & two  & sedan     & rwd & front & 101.2 & ⋯ & 164 & mpfi & 3.31 & 3.19 &  9.0 & 121 & 4250 & 21 & 28 & 20970\\\\\n",
       "\t14 & 0 & 188 & bmw       & gas & std   & four & sedan     & rwd & front & 101.2 & ⋯ & 164 & mpfi & 3.31 & 3.19 &  9.0 & 121 & 4250 & 21 & 28 & 21105\\\\\n",
       "\t19 & 2 & 121 & chevrolet & gas & std   & two  & hatchback & fwd & front &  88.4 & ⋯ &  61 & 2bbl & 2.91 & 3.03 &  9.5 &  48 & 5100 & 47 & 53 &  5151\\\\\n",
       "\t20 & 1 &  98 & chevrolet & gas & std   & two  & hatchback & fwd & front &  94.5 & ⋯ &  90 & 2bbl & 3.03 & 3.11 &  9.6 &  70 & 5400 & 38 & 43 &  6295\\\\\n",
       "\\end{tabular}\n"
      ],
      "text/markdown": [
       "\n",
       "A data.frame: 10 × 26\n",
       "\n",
       "| <!--/--> | symb &lt;int&gt; | normLoss &lt;int&gt; | make &lt;fct&gt; | fuelType &lt;fct&gt; | aspiration &lt;fct&gt; | nDoors &lt;fct&gt; | bodyStyle &lt;fct&gt; | driveWheels &lt;fct&gt; | engineLocation &lt;fct&gt; | wheelBase &lt;dbl&gt; | ⋯ ⋯ | engineSize &lt;int&gt; | fuelSystem &lt;fct&gt; | bore &lt;dbl&gt; | stroke &lt;dbl&gt; | compressionRatio &lt;dbl&gt; | horsePower &lt;int&gt; | peakRpm &lt;int&gt; | cityMpg &lt;int&gt; | highwayMpg &lt;int&gt; | price &lt;int&gt; |\n",
       "|---|---|---|---|---|---|---|---|---|---|---|---|---|---|---|---|---|---|---|---|---|---|\n",
       "| 4 | 2 | 164 | audi      | gas | std   | four | sedan     | fwd | front |  99.8 | ⋯ | 109 | mpfi | 3.19 | 3.40 | 10.0 | 102 | 5500 | 24 | 30 | 13950 |\n",
       "| 5 | 2 | 164 | audi      | gas | std   | four | sedan     | 4wd | front |  99.4 | ⋯ | 136 | mpfi | 3.19 | 3.40 |  8.0 | 115 | 5500 | 18 | 22 | 17450 |\n",
       "| 7 | 1 | 158 | audi      | gas | std   | four | sedan     | fwd | front | 105.8 | ⋯ | 136 | mpfi | 3.19 | 3.40 |  8.5 | 110 | 5500 | 19 | 25 | 17710 |\n",
       "| 9 | 1 | 158 | audi      | gas | turbo | four | sedan     | fwd | front | 105.8 | ⋯ | 131 | mpfi | 3.13 | 3.40 |  8.3 | 140 | 5500 | 17 | 20 | 23875 |\n",
       "| 11 | 2 | 192 | bmw       | gas | std   | two  | sedan     | rwd | front | 101.2 | ⋯ | 108 | mpfi | 3.50 | 2.80 |  8.8 | 101 | 5800 | 23 | 29 | 16430 |\n",
       "| 12 | 0 | 192 | bmw       | gas | std   | four | sedan     | rwd | front | 101.2 | ⋯ | 108 | mpfi | 3.50 | 2.80 |  8.8 | 101 | 5800 | 23 | 29 | 16925 |\n",
       "| 13 | 0 | 188 | bmw       | gas | std   | two  | sedan     | rwd | front | 101.2 | ⋯ | 164 | mpfi | 3.31 | 3.19 |  9.0 | 121 | 4250 | 21 | 28 | 20970 |\n",
       "| 14 | 0 | 188 | bmw       | gas | std   | four | sedan     | rwd | front | 101.2 | ⋯ | 164 | mpfi | 3.31 | 3.19 |  9.0 | 121 | 4250 | 21 | 28 | 21105 |\n",
       "| 19 | 2 | 121 | chevrolet | gas | std   | two  | hatchback | fwd | front |  88.4 | ⋯ |  61 | 2bbl | 2.91 | 3.03 |  9.5 |  48 | 5100 | 47 | 53 |  5151 |\n",
       "| 20 | 1 |  98 | chevrolet | gas | std   | two  | hatchback | fwd | front |  94.5 | ⋯ |  90 | 2bbl | 3.03 | 3.11 |  9.6 |  70 | 5400 | 38 | 43 |  6295 |\n",
       "\n"
      ],
      "text/plain": [
       "   symb normLoss make      fuelType aspiration nDoors bodyStyle driveWheels\n",
       "4  2    164      audi      gas      std        four   sedan     fwd        \n",
       "5  2    164      audi      gas      std        four   sedan     4wd        \n",
       "7  1    158      audi      gas      std        four   sedan     fwd        \n",
       "9  1    158      audi      gas      turbo      four   sedan     fwd        \n",
       "11 2    192      bmw       gas      std        two    sedan     rwd        \n",
       "12 0    192      bmw       gas      std        four   sedan     rwd        \n",
       "13 0    188      bmw       gas      std        two    sedan     rwd        \n",
       "14 0    188      bmw       gas      std        four   sedan     rwd        \n",
       "19 2    121      chevrolet gas      std        two    hatchback fwd        \n",
       "20 1     98      chevrolet gas      std        two    hatchback fwd        \n",
       "   engineLocation wheelBase ⋯ engineSize fuelSystem bore stroke\n",
       "4  front           99.8     ⋯ 109        mpfi       3.19 3.40  \n",
       "5  front           99.4     ⋯ 136        mpfi       3.19 3.40  \n",
       "7  front          105.8     ⋯ 136        mpfi       3.19 3.40  \n",
       "9  front          105.8     ⋯ 131        mpfi       3.13 3.40  \n",
       "11 front          101.2     ⋯ 108        mpfi       3.50 2.80  \n",
       "12 front          101.2     ⋯ 108        mpfi       3.50 2.80  \n",
       "13 front          101.2     ⋯ 164        mpfi       3.31 3.19  \n",
       "14 front          101.2     ⋯ 164        mpfi       3.31 3.19  \n",
       "19 front           88.4     ⋯  61        2bbl       2.91 3.03  \n",
       "20 front           94.5     ⋯  90        2bbl       3.03 3.11  \n",
       "   compressionRatio horsePower peakRpm cityMpg highwayMpg price\n",
       "4  10.0             102        5500    24      30         13950\n",
       "5   8.0             115        5500    18      22         17450\n",
       "7   8.5             110        5500    19      25         17710\n",
       "9   8.3             140        5500    17      20         23875\n",
       "11  8.8             101        5800    23      29         16430\n",
       "12  8.8             101        5800    23      29         16925\n",
       "13  9.0             121        4250    21      28         20970\n",
       "14  9.0             121        4250    21      28         21105\n",
       "19  9.5              48        5100    47      53          5151\n",
       "20  9.6              70        5400    38      43          6295"
      ]
     },
     "metadata": {},
     "output_type": "display_data"
    }
   ],
   "source": [
    "# Create a new dataset without missing values\n",
    "new_dataset <- drop_rows_any_na(df)\n",
    "#Print the first 10 rows\n",
    "head(new_dataset,10)\n"
   ]
  },
  {
   "cell_type": "markdown",
   "metadata": {},
   "source": [
    "### (d) Create a new data set by imputing all the missing values with 0. Tip: explore the variants of the function impute()\n"
   ]
  },
  {
   "cell_type": "code",
   "execution_count": 16,
   "metadata": {},
   "outputs": [
    {
     "data": {
      "text/html": [
       "<table class=\"dataframe\">\n",
       "<caption>A data.frame: 10 × 26</caption>\n",
       "<thead>\n",
       "\t<tr><th></th><th scope=col>symb</th><th scope=col>normLoss</th><th scope=col>make</th><th scope=col>fuelType</th><th scope=col>aspiration</th><th scope=col>nDoors</th><th scope=col>bodyStyle</th><th scope=col>driveWheels</th><th scope=col>engineLocation</th><th scope=col>wheelBase</th><th scope=col>⋯</th><th scope=col>engineSize</th><th scope=col>fuelSystem</th><th scope=col>bore</th><th scope=col>stroke</th><th scope=col>compressionRatio</th><th scope=col>horsePower</th><th scope=col>peakRpm</th><th scope=col>cityMpg</th><th scope=col>highwayMpg</th><th scope=col>price</th></tr>\n",
       "\t<tr><th></th><th scope=col>&lt;int&gt;</th><th scope=col>&lt;int&gt;</th><th scope=col>&lt;fct&gt;</th><th scope=col>&lt;fct&gt;</th><th scope=col>&lt;fct&gt;</th><th scope=col>&lt;fct&gt;</th><th scope=col>&lt;fct&gt;</th><th scope=col>&lt;fct&gt;</th><th scope=col>&lt;fct&gt;</th><th scope=col>&lt;dbl&gt;</th><th scope=col>⋯</th><th scope=col>&lt;int&gt;</th><th scope=col>&lt;fct&gt;</th><th scope=col>&lt;dbl&gt;</th><th scope=col>&lt;dbl&gt;</th><th scope=col>&lt;dbl&gt;</th><th scope=col>&lt;int&gt;</th><th scope=col>&lt;int&gt;</th><th scope=col>&lt;int&gt;</th><th scope=col>&lt;int&gt;</th><th scope=col>&lt;int&gt;</th></tr>\n",
       "</thead>\n",
       "<tbody>\n",
       "\t<tr><th scope=row>1</th><td>3</td><td> NA</td><td>alfa-romero</td><td>gas</td><td>std  </td><td>two </td><td>convertible</td><td>rwd</td><td>front</td><td> 88.6</td><td>⋯</td><td>130</td><td>mpfi</td><td>3.47</td><td>2.68</td><td> 9.0</td><td>111</td><td>5000</td><td>21</td><td>27</td><td>13495</td></tr>\n",
       "\t<tr><th scope=row>2</th><td>3</td><td> NA</td><td>alfa-romero</td><td>gas</td><td>std  </td><td>two </td><td>convertible</td><td>rwd</td><td>front</td><td> 88.6</td><td>⋯</td><td>130</td><td>mpfi</td><td>3.47</td><td>2.68</td><td> 9.0</td><td>111</td><td>5000</td><td>21</td><td>27</td><td>16500</td></tr>\n",
       "\t<tr><th scope=row>3</th><td>1</td><td> NA</td><td>alfa-romero</td><td>gas</td><td>std  </td><td>two </td><td>hatchback  </td><td>rwd</td><td>front</td><td> 94.5</td><td>⋯</td><td>152</td><td>mpfi</td><td>2.68</td><td>3.47</td><td> 9.0</td><td>154</td><td>5000</td><td>19</td><td>26</td><td>16500</td></tr>\n",
       "\t<tr><th scope=row>4</th><td>2</td><td>164</td><td>audi       </td><td>gas</td><td>std  </td><td>four</td><td>sedan      </td><td>fwd</td><td>front</td><td> 99.8</td><td>⋯</td><td>109</td><td>mpfi</td><td>3.19</td><td>3.40</td><td>10.0</td><td>102</td><td>5500</td><td>24</td><td>30</td><td>13950</td></tr>\n",
       "\t<tr><th scope=row>5</th><td>2</td><td>164</td><td>audi       </td><td>gas</td><td>std  </td><td>four</td><td>sedan      </td><td>4wd</td><td>front</td><td> 99.4</td><td>⋯</td><td>136</td><td>mpfi</td><td>3.19</td><td>3.40</td><td> 8.0</td><td>115</td><td>5500</td><td>18</td><td>22</td><td>17450</td></tr>\n",
       "\t<tr><th scope=row>6</th><td>2</td><td> NA</td><td>audi       </td><td>gas</td><td>std  </td><td>two </td><td>sedan      </td><td>fwd</td><td>front</td><td> 99.8</td><td>⋯</td><td>136</td><td>mpfi</td><td>3.19</td><td>3.40</td><td> 8.5</td><td>110</td><td>5500</td><td>19</td><td>25</td><td>15250</td></tr>\n",
       "\t<tr><th scope=row>7</th><td>1</td><td>158</td><td>audi       </td><td>gas</td><td>std  </td><td>four</td><td>sedan      </td><td>fwd</td><td>front</td><td>105.8</td><td>⋯</td><td>136</td><td>mpfi</td><td>3.19</td><td>3.40</td><td> 8.5</td><td>110</td><td>5500</td><td>19</td><td>25</td><td>17710</td></tr>\n",
       "\t<tr><th scope=row>8</th><td>1</td><td> NA</td><td>audi       </td><td>gas</td><td>std  </td><td>four</td><td>wagon      </td><td>fwd</td><td>front</td><td>105.8</td><td>⋯</td><td>136</td><td>mpfi</td><td>3.19</td><td>3.40</td><td> 8.5</td><td>110</td><td>5500</td><td>19</td><td>25</td><td>18920</td></tr>\n",
       "\t<tr><th scope=row>9</th><td>1</td><td>158</td><td>audi       </td><td>gas</td><td>turbo</td><td>four</td><td>sedan      </td><td>fwd</td><td>front</td><td>105.8</td><td>⋯</td><td>131</td><td>mpfi</td><td>3.13</td><td>3.40</td><td> 8.3</td><td>140</td><td>5500</td><td>17</td><td>20</td><td>23875</td></tr>\n",
       "\t<tr><th scope=row>10</th><td>0</td><td> NA</td><td>audi       </td><td>gas</td><td>turbo</td><td>two </td><td>hatchback  </td><td>4wd</td><td>front</td><td> 99.5</td><td>⋯</td><td>131</td><td>mpfi</td><td>3.13</td><td>3.40</td><td> 7.0</td><td>160</td><td>5500</td><td>16</td><td>22</td><td>   NA</td></tr>\n",
       "</tbody>\n",
       "</table>\n"
      ],
      "text/latex": [
       "A data.frame: 10 × 26\n",
       "\\begin{tabular}{r|lllllllllllllllllllll}\n",
       "  & symb & normLoss & make & fuelType & aspiration & nDoors & bodyStyle & driveWheels & engineLocation & wheelBase & ⋯ & engineSize & fuelSystem & bore & stroke & compressionRatio & horsePower & peakRpm & cityMpg & highwayMpg & price\\\\\n",
       "  & <int> & <int> & <fct> & <fct> & <fct> & <fct> & <fct> & <fct> & <fct> & <dbl> & ⋯ & <int> & <fct> & <dbl> & <dbl> & <dbl> & <int> & <int> & <int> & <int> & <int>\\\\\n",
       "\\hline\n",
       "\t1 & 3 &  NA & alfa-romero & gas & std   & two  & convertible & rwd & front &  88.6 & ⋯ & 130 & mpfi & 3.47 & 2.68 &  9.0 & 111 & 5000 & 21 & 27 & 13495\\\\\n",
       "\t2 & 3 &  NA & alfa-romero & gas & std   & two  & convertible & rwd & front &  88.6 & ⋯ & 130 & mpfi & 3.47 & 2.68 &  9.0 & 111 & 5000 & 21 & 27 & 16500\\\\\n",
       "\t3 & 1 &  NA & alfa-romero & gas & std   & two  & hatchback   & rwd & front &  94.5 & ⋯ & 152 & mpfi & 2.68 & 3.47 &  9.0 & 154 & 5000 & 19 & 26 & 16500\\\\\n",
       "\t4 & 2 & 164 & audi        & gas & std   & four & sedan       & fwd & front &  99.8 & ⋯ & 109 & mpfi & 3.19 & 3.40 & 10.0 & 102 & 5500 & 24 & 30 & 13950\\\\\n",
       "\t5 & 2 & 164 & audi        & gas & std   & four & sedan       & 4wd & front &  99.4 & ⋯ & 136 & mpfi & 3.19 & 3.40 &  8.0 & 115 & 5500 & 18 & 22 & 17450\\\\\n",
       "\t6 & 2 &  NA & audi        & gas & std   & two  & sedan       & fwd & front &  99.8 & ⋯ & 136 & mpfi & 3.19 & 3.40 &  8.5 & 110 & 5500 & 19 & 25 & 15250\\\\\n",
       "\t7 & 1 & 158 & audi        & gas & std   & four & sedan       & fwd & front & 105.8 & ⋯ & 136 & mpfi & 3.19 & 3.40 &  8.5 & 110 & 5500 & 19 & 25 & 17710\\\\\n",
       "\t8 & 1 &  NA & audi        & gas & std   & four & wagon       & fwd & front & 105.8 & ⋯ & 136 & mpfi & 3.19 & 3.40 &  8.5 & 110 & 5500 & 19 & 25 & 18920\\\\\n",
       "\t9 & 1 & 158 & audi        & gas & turbo & four & sedan       & fwd & front & 105.8 & ⋯ & 131 & mpfi & 3.13 & 3.40 &  8.3 & 140 & 5500 & 17 & 20 & 23875\\\\\n",
       "\t10 & 0 &  NA & audi        & gas & turbo & two  & hatchback   & 4wd & front &  99.5 & ⋯ & 131 & mpfi & 3.13 & 3.40 &  7.0 & 160 & 5500 & 16 & 22 &    NA\\\\\n",
       "\\end{tabular}\n"
      ],
      "text/markdown": [
       "\n",
       "A data.frame: 10 × 26\n",
       "\n",
       "| <!--/--> | symb &lt;int&gt; | normLoss &lt;int&gt; | make &lt;fct&gt; | fuelType &lt;fct&gt; | aspiration &lt;fct&gt; | nDoors &lt;fct&gt; | bodyStyle &lt;fct&gt; | driveWheels &lt;fct&gt; | engineLocation &lt;fct&gt; | wheelBase &lt;dbl&gt; | ⋯ ⋯ | engineSize &lt;int&gt; | fuelSystem &lt;fct&gt; | bore &lt;dbl&gt; | stroke &lt;dbl&gt; | compressionRatio &lt;dbl&gt; | horsePower &lt;int&gt; | peakRpm &lt;int&gt; | cityMpg &lt;int&gt; | highwayMpg &lt;int&gt; | price &lt;int&gt; |\n",
       "|---|---|---|---|---|---|---|---|---|---|---|---|---|---|---|---|---|---|---|---|---|---|\n",
       "| 1 | 3 |  NA | alfa-romero | gas | std   | two  | convertible | rwd | front |  88.6 | ⋯ | 130 | mpfi | 3.47 | 2.68 |  9.0 | 111 | 5000 | 21 | 27 | 13495 |\n",
       "| 2 | 3 |  NA | alfa-romero | gas | std   | two  | convertible | rwd | front |  88.6 | ⋯ | 130 | mpfi | 3.47 | 2.68 |  9.0 | 111 | 5000 | 21 | 27 | 16500 |\n",
       "| 3 | 1 |  NA | alfa-romero | gas | std   | two  | hatchback   | rwd | front |  94.5 | ⋯ | 152 | mpfi | 2.68 | 3.47 |  9.0 | 154 | 5000 | 19 | 26 | 16500 |\n",
       "| 4 | 2 | 164 | audi        | gas | std   | four | sedan       | fwd | front |  99.8 | ⋯ | 109 | mpfi | 3.19 | 3.40 | 10.0 | 102 | 5500 | 24 | 30 | 13950 |\n",
       "| 5 | 2 | 164 | audi        | gas | std   | four | sedan       | 4wd | front |  99.4 | ⋯ | 136 | mpfi | 3.19 | 3.40 |  8.0 | 115 | 5500 | 18 | 22 | 17450 |\n",
       "| 6 | 2 |  NA | audi        | gas | std   | two  | sedan       | fwd | front |  99.8 | ⋯ | 136 | mpfi | 3.19 | 3.40 |  8.5 | 110 | 5500 | 19 | 25 | 15250 |\n",
       "| 7 | 1 | 158 | audi        | gas | std   | four | sedan       | fwd | front | 105.8 | ⋯ | 136 | mpfi | 3.19 | 3.40 |  8.5 | 110 | 5500 | 19 | 25 | 17710 |\n",
       "| 8 | 1 |  NA | audi        | gas | std   | four | wagon       | fwd | front | 105.8 | ⋯ | 136 | mpfi | 3.19 | 3.40 |  8.5 | 110 | 5500 | 19 | 25 | 18920 |\n",
       "| 9 | 1 | 158 | audi        | gas | turbo | four | sedan       | fwd | front | 105.8 | ⋯ | 131 | mpfi | 3.13 | 3.40 |  8.3 | 140 | 5500 | 17 | 20 | 23875 |\n",
       "| 10 | 0 |  NA | audi        | gas | turbo | two  | hatchback   | 4wd | front |  99.5 | ⋯ | 131 | mpfi | 3.13 | 3.40 |  7.0 | 160 | 5500 | 16 | 22 |    NA |\n",
       "\n"
      ],
      "text/plain": [
       "   symb normLoss make        fuelType aspiration nDoors bodyStyle   driveWheels\n",
       "1  3     NA      alfa-romero gas      std        two    convertible rwd        \n",
       "2  3     NA      alfa-romero gas      std        two    convertible rwd        \n",
       "3  1     NA      alfa-romero gas      std        two    hatchback   rwd        \n",
       "4  2    164      audi        gas      std        four   sedan       fwd        \n",
       "5  2    164      audi        gas      std        four   sedan       4wd        \n",
       "6  2     NA      audi        gas      std        two    sedan       fwd        \n",
       "7  1    158      audi        gas      std        four   sedan       fwd        \n",
       "8  1     NA      audi        gas      std        four   wagon       fwd        \n",
       "9  1    158      audi        gas      turbo      four   sedan       fwd        \n",
       "10 0     NA      audi        gas      turbo      two    hatchback   4wd        \n",
       "   engineLocation wheelBase ⋯ engineSize fuelSystem bore stroke\n",
       "1  front           88.6     ⋯ 130        mpfi       3.47 2.68  \n",
       "2  front           88.6     ⋯ 130        mpfi       3.47 2.68  \n",
       "3  front           94.5     ⋯ 152        mpfi       2.68 3.47  \n",
       "4  front           99.8     ⋯ 109        mpfi       3.19 3.40  \n",
       "5  front           99.4     ⋯ 136        mpfi       3.19 3.40  \n",
       "6  front           99.8     ⋯ 136        mpfi       3.19 3.40  \n",
       "7  front          105.8     ⋯ 136        mpfi       3.19 3.40  \n",
       "8  front          105.8     ⋯ 136        mpfi       3.19 3.40  \n",
       "9  front          105.8     ⋯ 131        mpfi       3.13 3.40  \n",
       "10 front           99.5     ⋯ 131        mpfi       3.13 3.40  \n",
       "   compressionRatio horsePower peakRpm cityMpg highwayMpg price\n",
       "1   9.0             111        5000    21      27         13495\n",
       "2   9.0             111        5000    21      27         16500\n",
       "3   9.0             154        5000    19      26         16500\n",
       "4  10.0             102        5500    24      30         13950\n",
       "5   8.0             115        5500    18      22         17450\n",
       "6   8.5             110        5500    19      25         15250\n",
       "7   8.5             110        5500    19      25         17710\n",
       "8   8.5             110        5500    19      25         18920\n",
       "9   8.3             140        5500    17      20         23875\n",
       "10  7.0             160        5500    16      22            NA"
      ]
     },
     "metadata": {},
     "output_type": "display_data"
    }
   ],
   "source": [
    "# Create a new dataset with missing values imputed as 0\n",
    "new_dataset <- impute(df, method = \"fixed\", fixed_value = 0)\n",
    "#Print the first 10 rows\n",
    "head(new_dataset,10)\n"
   ]
  },
  {
   "cell_type": "markdown",
   "metadata": {},
   "source": [
    "### (e) Create a new data set by imputing the mean in all the columns which have double type values.\n"
   ]
  },
  {
   "cell_type": "code",
   "execution_count": 23,
   "metadata": {},
   "outputs": [
    {
     "data": {
      "text/html": [
       "<table class=\"dataframe\">\n",
       "<caption>A data.frame: 10 × 26</caption>\n",
       "<thead>\n",
       "\t<tr><th></th><th scope=col>symb</th><th scope=col>normLoss</th><th scope=col>make</th><th scope=col>fuelType</th><th scope=col>aspiration</th><th scope=col>nDoors</th><th scope=col>bodyStyle</th><th scope=col>driveWheels</th><th scope=col>engineLocation</th><th scope=col>wheelBase</th><th scope=col>⋯</th><th scope=col>engineSize</th><th scope=col>fuelSystem</th><th scope=col>bore</th><th scope=col>stroke</th><th scope=col>compressionRatio</th><th scope=col>horsePower</th><th scope=col>peakRpm</th><th scope=col>cityMpg</th><th scope=col>highwayMpg</th><th scope=col>price</th></tr>\n",
       "\t<tr><th></th><th scope=col>&lt;int&gt;</th><th scope=col>&lt;int&gt;</th><th scope=col>&lt;fct&gt;</th><th scope=col>&lt;fct&gt;</th><th scope=col>&lt;fct&gt;</th><th scope=col>&lt;fct&gt;</th><th scope=col>&lt;fct&gt;</th><th scope=col>&lt;fct&gt;</th><th scope=col>&lt;fct&gt;</th><th scope=col>&lt;dbl&gt;</th><th scope=col>⋯</th><th scope=col>&lt;int&gt;</th><th scope=col>&lt;fct&gt;</th><th scope=col>&lt;dbl&gt;</th><th scope=col>&lt;dbl&gt;</th><th scope=col>&lt;dbl&gt;</th><th scope=col>&lt;int&gt;</th><th scope=col>&lt;int&gt;</th><th scope=col>&lt;int&gt;</th><th scope=col>&lt;int&gt;</th><th scope=col>&lt;int&gt;</th></tr>\n",
       "</thead>\n",
       "<tbody>\n",
       "\t<tr><th scope=row>1</th><td>3</td><td> NA</td><td>alfa-romero</td><td>gas</td><td>std  </td><td>two </td><td>convertible</td><td>rwd</td><td>front</td><td> 88.6</td><td>⋯</td><td>130</td><td>mpfi</td><td>3.47</td><td>2.68</td><td> 9.0</td><td>111</td><td>5000</td><td>21</td><td>27</td><td>13495</td></tr>\n",
       "\t<tr><th scope=row>2</th><td>3</td><td> NA</td><td>alfa-romero</td><td>gas</td><td>std  </td><td>two </td><td>convertible</td><td>rwd</td><td>front</td><td> 88.6</td><td>⋯</td><td>130</td><td>mpfi</td><td>3.47</td><td>2.68</td><td> 9.0</td><td>111</td><td>5000</td><td>21</td><td>27</td><td>16500</td></tr>\n",
       "\t<tr><th scope=row>3</th><td>1</td><td> NA</td><td>alfa-romero</td><td>gas</td><td>std  </td><td>two </td><td>hatchback  </td><td>rwd</td><td>front</td><td> 94.5</td><td>⋯</td><td>152</td><td>mpfi</td><td>2.68</td><td>3.47</td><td> 9.0</td><td>154</td><td>5000</td><td>19</td><td>26</td><td>16500</td></tr>\n",
       "\t<tr><th scope=row>4</th><td>2</td><td>164</td><td>audi       </td><td>gas</td><td>std  </td><td>four</td><td>sedan      </td><td>fwd</td><td>front</td><td> 99.8</td><td>⋯</td><td>109</td><td>mpfi</td><td>3.19</td><td>3.40</td><td>10.0</td><td>102</td><td>5500</td><td>24</td><td>30</td><td>13950</td></tr>\n",
       "\t<tr><th scope=row>5</th><td>2</td><td>164</td><td>audi       </td><td>gas</td><td>std  </td><td>four</td><td>sedan      </td><td>4wd</td><td>front</td><td> 99.4</td><td>⋯</td><td>136</td><td>mpfi</td><td>3.19</td><td>3.40</td><td> 8.0</td><td>115</td><td>5500</td><td>18</td><td>22</td><td>17450</td></tr>\n",
       "\t<tr><th scope=row>6</th><td>2</td><td> NA</td><td>audi       </td><td>gas</td><td>std  </td><td>two </td><td>sedan      </td><td>fwd</td><td>front</td><td> 99.8</td><td>⋯</td><td>136</td><td>mpfi</td><td>3.19</td><td>3.40</td><td> 8.5</td><td>110</td><td>5500</td><td>19</td><td>25</td><td>15250</td></tr>\n",
       "\t<tr><th scope=row>7</th><td>1</td><td>158</td><td>audi       </td><td>gas</td><td>std  </td><td>four</td><td>sedan      </td><td>fwd</td><td>front</td><td>105.8</td><td>⋯</td><td>136</td><td>mpfi</td><td>3.19</td><td>3.40</td><td> 8.5</td><td>110</td><td>5500</td><td>19</td><td>25</td><td>17710</td></tr>\n",
       "\t<tr><th scope=row>8</th><td>1</td><td> NA</td><td>audi       </td><td>gas</td><td>std  </td><td>four</td><td>wagon      </td><td>fwd</td><td>front</td><td>105.8</td><td>⋯</td><td>136</td><td>mpfi</td><td>3.19</td><td>3.40</td><td> 8.5</td><td>110</td><td>5500</td><td>19</td><td>25</td><td>18920</td></tr>\n",
       "\t<tr><th scope=row>9</th><td>1</td><td>158</td><td>audi       </td><td>gas</td><td>turbo</td><td>four</td><td>sedan      </td><td>fwd</td><td>front</td><td>105.8</td><td>⋯</td><td>131</td><td>mpfi</td><td>3.13</td><td>3.40</td><td> 8.3</td><td>140</td><td>5500</td><td>17</td><td>20</td><td>23875</td></tr>\n",
       "\t<tr><th scope=row>10</th><td>0</td><td> NA</td><td>audi       </td><td>gas</td><td>turbo</td><td>two </td><td>hatchback  </td><td>4wd</td><td>front</td><td> 99.5</td><td>⋯</td><td>131</td><td>mpfi</td><td>3.13</td><td>3.40</td><td> 7.0</td><td>160</td><td>5500</td><td>16</td><td>22</td><td>   NA</td></tr>\n",
       "</tbody>\n",
       "</table>\n"
      ],
      "text/latex": [
       "A data.frame: 10 × 26\n",
       "\\begin{tabular}{r|lllllllllllllllllllll}\n",
       "  & symb & normLoss & make & fuelType & aspiration & nDoors & bodyStyle & driveWheels & engineLocation & wheelBase & ⋯ & engineSize & fuelSystem & bore & stroke & compressionRatio & horsePower & peakRpm & cityMpg & highwayMpg & price\\\\\n",
       "  & <int> & <int> & <fct> & <fct> & <fct> & <fct> & <fct> & <fct> & <fct> & <dbl> & ⋯ & <int> & <fct> & <dbl> & <dbl> & <dbl> & <int> & <int> & <int> & <int> & <int>\\\\\n",
       "\\hline\n",
       "\t1 & 3 &  NA & alfa-romero & gas & std   & two  & convertible & rwd & front &  88.6 & ⋯ & 130 & mpfi & 3.47 & 2.68 &  9.0 & 111 & 5000 & 21 & 27 & 13495\\\\\n",
       "\t2 & 3 &  NA & alfa-romero & gas & std   & two  & convertible & rwd & front &  88.6 & ⋯ & 130 & mpfi & 3.47 & 2.68 &  9.0 & 111 & 5000 & 21 & 27 & 16500\\\\\n",
       "\t3 & 1 &  NA & alfa-romero & gas & std   & two  & hatchback   & rwd & front &  94.5 & ⋯ & 152 & mpfi & 2.68 & 3.47 &  9.0 & 154 & 5000 & 19 & 26 & 16500\\\\\n",
       "\t4 & 2 & 164 & audi        & gas & std   & four & sedan       & fwd & front &  99.8 & ⋯ & 109 & mpfi & 3.19 & 3.40 & 10.0 & 102 & 5500 & 24 & 30 & 13950\\\\\n",
       "\t5 & 2 & 164 & audi        & gas & std   & four & sedan       & 4wd & front &  99.4 & ⋯ & 136 & mpfi & 3.19 & 3.40 &  8.0 & 115 & 5500 & 18 & 22 & 17450\\\\\n",
       "\t6 & 2 &  NA & audi        & gas & std   & two  & sedan       & fwd & front &  99.8 & ⋯ & 136 & mpfi & 3.19 & 3.40 &  8.5 & 110 & 5500 & 19 & 25 & 15250\\\\\n",
       "\t7 & 1 & 158 & audi        & gas & std   & four & sedan       & fwd & front & 105.8 & ⋯ & 136 & mpfi & 3.19 & 3.40 &  8.5 & 110 & 5500 & 19 & 25 & 17710\\\\\n",
       "\t8 & 1 &  NA & audi        & gas & std   & four & wagon       & fwd & front & 105.8 & ⋯ & 136 & mpfi & 3.19 & 3.40 &  8.5 & 110 & 5500 & 19 & 25 & 18920\\\\\n",
       "\t9 & 1 & 158 & audi        & gas & turbo & four & sedan       & fwd & front & 105.8 & ⋯ & 131 & mpfi & 3.13 & 3.40 &  8.3 & 140 & 5500 & 17 & 20 & 23875\\\\\n",
       "\t10 & 0 &  NA & audi        & gas & turbo & two  & hatchback   & 4wd & front &  99.5 & ⋯ & 131 & mpfi & 3.13 & 3.40 &  7.0 & 160 & 5500 & 16 & 22 &    NA\\\\\n",
       "\\end{tabular}\n"
      ],
      "text/markdown": [
       "\n",
       "A data.frame: 10 × 26\n",
       "\n",
       "| <!--/--> | symb &lt;int&gt; | normLoss &lt;int&gt; | make &lt;fct&gt; | fuelType &lt;fct&gt; | aspiration &lt;fct&gt; | nDoors &lt;fct&gt; | bodyStyle &lt;fct&gt; | driveWheels &lt;fct&gt; | engineLocation &lt;fct&gt; | wheelBase &lt;dbl&gt; | ⋯ ⋯ | engineSize &lt;int&gt; | fuelSystem &lt;fct&gt; | bore &lt;dbl&gt; | stroke &lt;dbl&gt; | compressionRatio &lt;dbl&gt; | horsePower &lt;int&gt; | peakRpm &lt;int&gt; | cityMpg &lt;int&gt; | highwayMpg &lt;int&gt; | price &lt;int&gt; |\n",
       "|---|---|---|---|---|---|---|---|---|---|---|---|---|---|---|---|---|---|---|---|---|---|\n",
       "| 1 | 3 |  NA | alfa-romero | gas | std   | two  | convertible | rwd | front |  88.6 | ⋯ | 130 | mpfi | 3.47 | 2.68 |  9.0 | 111 | 5000 | 21 | 27 | 13495 |\n",
       "| 2 | 3 |  NA | alfa-romero | gas | std   | two  | convertible | rwd | front |  88.6 | ⋯ | 130 | mpfi | 3.47 | 2.68 |  9.0 | 111 | 5000 | 21 | 27 | 16500 |\n",
       "| 3 | 1 |  NA | alfa-romero | gas | std   | two  | hatchback   | rwd | front |  94.5 | ⋯ | 152 | mpfi | 2.68 | 3.47 |  9.0 | 154 | 5000 | 19 | 26 | 16500 |\n",
       "| 4 | 2 | 164 | audi        | gas | std   | four | sedan       | fwd | front |  99.8 | ⋯ | 109 | mpfi | 3.19 | 3.40 | 10.0 | 102 | 5500 | 24 | 30 | 13950 |\n",
       "| 5 | 2 | 164 | audi        | gas | std   | four | sedan       | 4wd | front |  99.4 | ⋯ | 136 | mpfi | 3.19 | 3.40 |  8.0 | 115 | 5500 | 18 | 22 | 17450 |\n",
       "| 6 | 2 |  NA | audi        | gas | std   | two  | sedan       | fwd | front |  99.8 | ⋯ | 136 | mpfi | 3.19 | 3.40 |  8.5 | 110 | 5500 | 19 | 25 | 15250 |\n",
       "| 7 | 1 | 158 | audi        | gas | std   | four | sedan       | fwd | front | 105.8 | ⋯ | 136 | mpfi | 3.19 | 3.40 |  8.5 | 110 | 5500 | 19 | 25 | 17710 |\n",
       "| 8 | 1 |  NA | audi        | gas | std   | four | wagon       | fwd | front | 105.8 | ⋯ | 136 | mpfi | 3.19 | 3.40 |  8.5 | 110 | 5500 | 19 | 25 | 18920 |\n",
       "| 9 | 1 | 158 | audi        | gas | turbo | four | sedan       | fwd | front | 105.8 | ⋯ | 131 | mpfi | 3.13 | 3.40 |  8.3 | 140 | 5500 | 17 | 20 | 23875 |\n",
       "| 10 | 0 |  NA | audi        | gas | turbo | two  | hatchback   | 4wd | front |  99.5 | ⋯ | 131 | mpfi | 3.13 | 3.40 |  7.0 | 160 | 5500 | 16 | 22 |    NA |\n",
       "\n"
      ],
      "text/plain": [
       "   symb normLoss make        fuelType aspiration nDoors bodyStyle   driveWheels\n",
       "1  3     NA      alfa-romero gas      std        two    convertible rwd        \n",
       "2  3     NA      alfa-romero gas      std        two    convertible rwd        \n",
       "3  1     NA      alfa-romero gas      std        two    hatchback   rwd        \n",
       "4  2    164      audi        gas      std        four   sedan       fwd        \n",
       "5  2    164      audi        gas      std        four   sedan       4wd        \n",
       "6  2     NA      audi        gas      std        two    sedan       fwd        \n",
       "7  1    158      audi        gas      std        four   sedan       fwd        \n",
       "8  1     NA      audi        gas      std        four   wagon       fwd        \n",
       "9  1    158      audi        gas      turbo      four   sedan       fwd        \n",
       "10 0     NA      audi        gas      turbo      two    hatchback   4wd        \n",
       "   engineLocation wheelBase ⋯ engineSize fuelSystem bore stroke\n",
       "1  front           88.6     ⋯ 130        mpfi       3.47 2.68  \n",
       "2  front           88.6     ⋯ 130        mpfi       3.47 2.68  \n",
       "3  front           94.5     ⋯ 152        mpfi       2.68 3.47  \n",
       "4  front           99.8     ⋯ 109        mpfi       3.19 3.40  \n",
       "5  front           99.4     ⋯ 136        mpfi       3.19 3.40  \n",
       "6  front           99.8     ⋯ 136        mpfi       3.19 3.40  \n",
       "7  front          105.8     ⋯ 136        mpfi       3.19 3.40  \n",
       "8  front          105.8     ⋯ 136        mpfi       3.19 3.40  \n",
       "9  front          105.8     ⋯ 131        mpfi       3.13 3.40  \n",
       "10 front           99.5     ⋯ 131        mpfi       3.13 3.40  \n",
       "   compressionRatio horsePower peakRpm cityMpg highwayMpg price\n",
       "1   9.0             111        5000    21      27         13495\n",
       "2   9.0             111        5000    21      27         16500\n",
       "3   9.0             154        5000    19      26         16500\n",
       "4  10.0             102        5500    24      30         13950\n",
       "5   8.0             115        5500    18      22         17450\n",
       "6   8.5             110        5500    19      25         15250\n",
       "7   8.5             110        5500    19      25         17710\n",
       "8   8.5             110        5500    19      25         18920\n",
       "9   8.3             140        5500    17      20         23875\n",
       "10  7.0             160        5500    16      22            NA"
      ]
     },
     "metadata": {},
     "output_type": "display_data"
    }
   ],
   "source": [
    "# Identify columns with double type values\n",
    "double_columns <- sapply(df, is.double)\n",
    "\n",
    "# Impute the mean in the identified columns\n",
    "new_dataset <- df\n",
    "for (col in names(new_dataset)[double_columns]) {\n",
    "  new_dataset[[col]][is.na(new_dataset[[col]])] <- mean(new_dataset[[col]], na.rm = TRUE)\n",
    "}\n",
    "head(new_dataset,10)"
   ]
  },
  {
   "cell_type": "markdown",
   "metadata": {
    "tags": []
   },
   "source": [
    "### (f) Create a new data set by imputing the mode in all the columns which have integer type values."
   ]
  },
  {
   "cell_type": "code",
   "execution_count": 26,
   "metadata": {},
   "outputs": [
    {
     "data": {
      "text/html": [
       "<table class=\"dataframe\">\n",
       "<caption>A data.frame: 10 × 26</caption>\n",
       "<thead>\n",
       "\t<tr><th></th><th scope=col>symb</th><th scope=col>normLoss</th><th scope=col>make</th><th scope=col>fuelType</th><th scope=col>aspiration</th><th scope=col>nDoors</th><th scope=col>bodyStyle</th><th scope=col>driveWheels</th><th scope=col>engineLocation</th><th scope=col>wheelBase</th><th scope=col>⋯</th><th scope=col>engineSize</th><th scope=col>fuelSystem</th><th scope=col>bore</th><th scope=col>stroke</th><th scope=col>compressionRatio</th><th scope=col>horsePower</th><th scope=col>peakRpm</th><th scope=col>cityMpg</th><th scope=col>highwayMpg</th><th scope=col>price</th></tr>\n",
       "\t<tr><th></th><th scope=col>&lt;int&gt;</th><th scope=col>&lt;int&gt;</th><th scope=col>&lt;fct&gt;</th><th scope=col>&lt;fct&gt;</th><th scope=col>&lt;fct&gt;</th><th scope=col>&lt;fct&gt;</th><th scope=col>&lt;fct&gt;</th><th scope=col>&lt;fct&gt;</th><th scope=col>&lt;fct&gt;</th><th scope=col>&lt;dbl&gt;</th><th scope=col>⋯</th><th scope=col>&lt;int&gt;</th><th scope=col>&lt;fct&gt;</th><th scope=col>&lt;dbl&gt;</th><th scope=col>&lt;dbl&gt;</th><th scope=col>&lt;dbl&gt;</th><th scope=col>&lt;int&gt;</th><th scope=col>&lt;int&gt;</th><th scope=col>&lt;int&gt;</th><th scope=col>&lt;int&gt;</th><th scope=col>&lt;int&gt;</th></tr>\n",
       "</thead>\n",
       "<tbody>\n",
       "\t<tr><th scope=row>1</th><td>3</td><td> NA</td><td>alfa-romero</td><td>gas</td><td>std  </td><td>two </td><td>convertible</td><td>rwd</td><td>front</td><td> 88.6</td><td>⋯</td><td>130</td><td>mpfi</td><td>3.47</td><td>2.68</td><td> 9.0</td><td>111</td><td>5000</td><td>21</td><td>27</td><td>13495</td></tr>\n",
       "\t<tr><th scope=row>2</th><td>3</td><td> NA</td><td>alfa-romero</td><td>gas</td><td>std  </td><td>two </td><td>convertible</td><td>rwd</td><td>front</td><td> 88.6</td><td>⋯</td><td>130</td><td>mpfi</td><td>3.47</td><td>2.68</td><td> 9.0</td><td>111</td><td>5000</td><td>21</td><td>27</td><td>16500</td></tr>\n",
       "\t<tr><th scope=row>3</th><td>1</td><td> NA</td><td>alfa-romero</td><td>gas</td><td>std  </td><td>two </td><td>hatchback  </td><td>rwd</td><td>front</td><td> 94.5</td><td>⋯</td><td>152</td><td>mpfi</td><td>2.68</td><td>3.47</td><td> 9.0</td><td>154</td><td>5000</td><td>19</td><td>26</td><td>16500</td></tr>\n",
       "\t<tr><th scope=row>4</th><td>2</td><td>164</td><td>audi       </td><td>gas</td><td>std  </td><td>four</td><td>sedan      </td><td>fwd</td><td>front</td><td> 99.8</td><td>⋯</td><td>109</td><td>mpfi</td><td>3.19</td><td>3.40</td><td>10.0</td><td>102</td><td>5500</td><td>24</td><td>30</td><td>13950</td></tr>\n",
       "\t<tr><th scope=row>5</th><td>2</td><td>164</td><td>audi       </td><td>gas</td><td>std  </td><td>four</td><td>sedan      </td><td>4wd</td><td>front</td><td> 99.4</td><td>⋯</td><td>136</td><td>mpfi</td><td>3.19</td><td>3.40</td><td> 8.0</td><td>115</td><td>5500</td><td>18</td><td>22</td><td>17450</td></tr>\n",
       "\t<tr><th scope=row>6</th><td>2</td><td> NA</td><td>audi       </td><td>gas</td><td>std  </td><td>two </td><td>sedan      </td><td>fwd</td><td>front</td><td> 99.8</td><td>⋯</td><td>136</td><td>mpfi</td><td>3.19</td><td>3.40</td><td> 8.5</td><td>110</td><td>5500</td><td>19</td><td>25</td><td>15250</td></tr>\n",
       "\t<tr><th scope=row>7</th><td>1</td><td>158</td><td>audi       </td><td>gas</td><td>std  </td><td>four</td><td>sedan      </td><td>fwd</td><td>front</td><td>105.8</td><td>⋯</td><td>136</td><td>mpfi</td><td>3.19</td><td>3.40</td><td> 8.5</td><td>110</td><td>5500</td><td>19</td><td>25</td><td>17710</td></tr>\n",
       "\t<tr><th scope=row>8</th><td>1</td><td> NA</td><td>audi       </td><td>gas</td><td>std  </td><td>four</td><td>wagon      </td><td>fwd</td><td>front</td><td>105.8</td><td>⋯</td><td>136</td><td>mpfi</td><td>3.19</td><td>3.40</td><td> 8.5</td><td>110</td><td>5500</td><td>19</td><td>25</td><td>18920</td></tr>\n",
       "\t<tr><th scope=row>9</th><td>1</td><td>158</td><td>audi       </td><td>gas</td><td>turbo</td><td>four</td><td>sedan      </td><td>fwd</td><td>front</td><td>105.8</td><td>⋯</td><td>131</td><td>mpfi</td><td>3.13</td><td>3.40</td><td> 8.3</td><td>140</td><td>5500</td><td>17</td><td>20</td><td>23875</td></tr>\n",
       "\t<tr><th scope=row>10</th><td>0</td><td> NA</td><td>audi       </td><td>gas</td><td>turbo</td><td>two </td><td>hatchback  </td><td>4wd</td><td>front</td><td> 99.5</td><td>⋯</td><td>131</td><td>mpfi</td><td>3.13</td><td>3.40</td><td> 7.0</td><td>160</td><td>5500</td><td>16</td><td>22</td><td>   NA</td></tr>\n",
       "</tbody>\n",
       "</table>\n"
      ],
      "text/latex": [
       "A data.frame: 10 × 26\n",
       "\\begin{tabular}{r|lllllllllllllllllllll}\n",
       "  & symb & normLoss & make & fuelType & aspiration & nDoors & bodyStyle & driveWheels & engineLocation & wheelBase & ⋯ & engineSize & fuelSystem & bore & stroke & compressionRatio & horsePower & peakRpm & cityMpg & highwayMpg & price\\\\\n",
       "  & <int> & <int> & <fct> & <fct> & <fct> & <fct> & <fct> & <fct> & <fct> & <dbl> & ⋯ & <int> & <fct> & <dbl> & <dbl> & <dbl> & <int> & <int> & <int> & <int> & <int>\\\\\n",
       "\\hline\n",
       "\t1 & 3 &  NA & alfa-romero & gas & std   & two  & convertible & rwd & front &  88.6 & ⋯ & 130 & mpfi & 3.47 & 2.68 &  9.0 & 111 & 5000 & 21 & 27 & 13495\\\\\n",
       "\t2 & 3 &  NA & alfa-romero & gas & std   & two  & convertible & rwd & front &  88.6 & ⋯ & 130 & mpfi & 3.47 & 2.68 &  9.0 & 111 & 5000 & 21 & 27 & 16500\\\\\n",
       "\t3 & 1 &  NA & alfa-romero & gas & std   & two  & hatchback   & rwd & front &  94.5 & ⋯ & 152 & mpfi & 2.68 & 3.47 &  9.0 & 154 & 5000 & 19 & 26 & 16500\\\\\n",
       "\t4 & 2 & 164 & audi        & gas & std   & four & sedan       & fwd & front &  99.8 & ⋯ & 109 & mpfi & 3.19 & 3.40 & 10.0 & 102 & 5500 & 24 & 30 & 13950\\\\\n",
       "\t5 & 2 & 164 & audi        & gas & std   & four & sedan       & 4wd & front &  99.4 & ⋯ & 136 & mpfi & 3.19 & 3.40 &  8.0 & 115 & 5500 & 18 & 22 & 17450\\\\\n",
       "\t6 & 2 &  NA & audi        & gas & std   & two  & sedan       & fwd & front &  99.8 & ⋯ & 136 & mpfi & 3.19 & 3.40 &  8.5 & 110 & 5500 & 19 & 25 & 15250\\\\\n",
       "\t7 & 1 & 158 & audi        & gas & std   & four & sedan       & fwd & front & 105.8 & ⋯ & 136 & mpfi & 3.19 & 3.40 &  8.5 & 110 & 5500 & 19 & 25 & 17710\\\\\n",
       "\t8 & 1 &  NA & audi        & gas & std   & four & wagon       & fwd & front & 105.8 & ⋯ & 136 & mpfi & 3.19 & 3.40 &  8.5 & 110 & 5500 & 19 & 25 & 18920\\\\\n",
       "\t9 & 1 & 158 & audi        & gas & turbo & four & sedan       & fwd & front & 105.8 & ⋯ & 131 & mpfi & 3.13 & 3.40 &  8.3 & 140 & 5500 & 17 & 20 & 23875\\\\\n",
       "\t10 & 0 &  NA & audi        & gas & turbo & two  & hatchback   & 4wd & front &  99.5 & ⋯ & 131 & mpfi & 3.13 & 3.40 &  7.0 & 160 & 5500 & 16 & 22 &    NA\\\\\n",
       "\\end{tabular}\n"
      ],
      "text/markdown": [
       "\n",
       "A data.frame: 10 × 26\n",
       "\n",
       "| <!--/--> | symb &lt;int&gt; | normLoss &lt;int&gt; | make &lt;fct&gt; | fuelType &lt;fct&gt; | aspiration &lt;fct&gt; | nDoors &lt;fct&gt; | bodyStyle &lt;fct&gt; | driveWheels &lt;fct&gt; | engineLocation &lt;fct&gt; | wheelBase &lt;dbl&gt; | ⋯ ⋯ | engineSize &lt;int&gt; | fuelSystem &lt;fct&gt; | bore &lt;dbl&gt; | stroke &lt;dbl&gt; | compressionRatio &lt;dbl&gt; | horsePower &lt;int&gt; | peakRpm &lt;int&gt; | cityMpg &lt;int&gt; | highwayMpg &lt;int&gt; | price &lt;int&gt; |\n",
       "|---|---|---|---|---|---|---|---|---|---|---|---|---|---|---|---|---|---|---|---|---|---|\n",
       "| 1 | 3 |  NA | alfa-romero | gas | std   | two  | convertible | rwd | front |  88.6 | ⋯ | 130 | mpfi | 3.47 | 2.68 |  9.0 | 111 | 5000 | 21 | 27 | 13495 |\n",
       "| 2 | 3 |  NA | alfa-romero | gas | std   | two  | convertible | rwd | front |  88.6 | ⋯ | 130 | mpfi | 3.47 | 2.68 |  9.0 | 111 | 5000 | 21 | 27 | 16500 |\n",
       "| 3 | 1 |  NA | alfa-romero | gas | std   | two  | hatchback   | rwd | front |  94.5 | ⋯ | 152 | mpfi | 2.68 | 3.47 |  9.0 | 154 | 5000 | 19 | 26 | 16500 |\n",
       "| 4 | 2 | 164 | audi        | gas | std   | four | sedan       | fwd | front |  99.8 | ⋯ | 109 | mpfi | 3.19 | 3.40 | 10.0 | 102 | 5500 | 24 | 30 | 13950 |\n",
       "| 5 | 2 | 164 | audi        | gas | std   | four | sedan       | 4wd | front |  99.4 | ⋯ | 136 | mpfi | 3.19 | 3.40 |  8.0 | 115 | 5500 | 18 | 22 | 17450 |\n",
       "| 6 | 2 |  NA | audi        | gas | std   | two  | sedan       | fwd | front |  99.8 | ⋯ | 136 | mpfi | 3.19 | 3.40 |  8.5 | 110 | 5500 | 19 | 25 | 15250 |\n",
       "| 7 | 1 | 158 | audi        | gas | std   | four | sedan       | fwd | front | 105.8 | ⋯ | 136 | mpfi | 3.19 | 3.40 |  8.5 | 110 | 5500 | 19 | 25 | 17710 |\n",
       "| 8 | 1 |  NA | audi        | gas | std   | four | wagon       | fwd | front | 105.8 | ⋯ | 136 | mpfi | 3.19 | 3.40 |  8.5 | 110 | 5500 | 19 | 25 | 18920 |\n",
       "| 9 | 1 | 158 | audi        | gas | turbo | four | sedan       | fwd | front | 105.8 | ⋯ | 131 | mpfi | 3.13 | 3.40 |  8.3 | 140 | 5500 | 17 | 20 | 23875 |\n",
       "| 10 | 0 |  NA | audi        | gas | turbo | two  | hatchback   | 4wd | front |  99.5 | ⋯ | 131 | mpfi | 3.13 | 3.40 |  7.0 | 160 | 5500 | 16 | 22 |    NA |\n",
       "\n"
      ],
      "text/plain": [
       "   symb normLoss make        fuelType aspiration nDoors bodyStyle   driveWheels\n",
       "1  3     NA      alfa-romero gas      std        two    convertible rwd        \n",
       "2  3     NA      alfa-romero gas      std        two    convertible rwd        \n",
       "3  1     NA      alfa-romero gas      std        two    hatchback   rwd        \n",
       "4  2    164      audi        gas      std        four   sedan       fwd        \n",
       "5  2    164      audi        gas      std        four   sedan       4wd        \n",
       "6  2     NA      audi        gas      std        two    sedan       fwd        \n",
       "7  1    158      audi        gas      std        four   sedan       fwd        \n",
       "8  1     NA      audi        gas      std        four   wagon       fwd        \n",
       "9  1    158      audi        gas      turbo      four   sedan       fwd        \n",
       "10 0     NA      audi        gas      turbo      two    hatchback   4wd        \n",
       "   engineLocation wheelBase ⋯ engineSize fuelSystem bore stroke\n",
       "1  front           88.6     ⋯ 130        mpfi       3.47 2.68  \n",
       "2  front           88.6     ⋯ 130        mpfi       3.47 2.68  \n",
       "3  front           94.5     ⋯ 152        mpfi       2.68 3.47  \n",
       "4  front           99.8     ⋯ 109        mpfi       3.19 3.40  \n",
       "5  front           99.4     ⋯ 136        mpfi       3.19 3.40  \n",
       "6  front           99.8     ⋯ 136        mpfi       3.19 3.40  \n",
       "7  front          105.8     ⋯ 136        mpfi       3.19 3.40  \n",
       "8  front          105.8     ⋯ 136        mpfi       3.19 3.40  \n",
       "9  front          105.8     ⋯ 131        mpfi       3.13 3.40  \n",
       "10 front           99.5     ⋯ 131        mpfi       3.13 3.40  \n",
       "   compressionRatio horsePower peakRpm cityMpg highwayMpg price\n",
       "1   9.0             111        5000    21      27         13495\n",
       "2   9.0             111        5000    21      27         16500\n",
       "3   9.0             154        5000    19      26         16500\n",
       "4  10.0             102        5500    24      30         13950\n",
       "5   8.0             115        5500    18      22         17450\n",
       "6   8.5             110        5500    19      25         15250\n",
       "7   8.5             110        5500    19      25         17710\n",
       "8   8.5             110        5500    19      25         18920\n",
       "9   8.3             140        5500    17      20         23875\n",
       "10  7.0             160        5500    16      22            NA"
      ]
     },
     "metadata": {},
     "output_type": "display_data"
    }
   ],
   "source": [
    "# Function to calculate the mode\n",
    "Mode <- function(x) {\n",
    "  ux <- unique(x)\n",
    "  ux[which.max(tabulate(match(x, ux)))]\n",
    "}\n",
    "\n",
    "# Identify columns with integer type values\n",
    "integer_columns <- sapply(df, is.integer)\n",
    "\n",
    "# Impute the mode in the identified columns\n",
    "new_dataset <- df\n",
    "for (col in names(new_dataset)[integer_columns]) {\n",
    "  new_dataset[[col]][is.na(new_dataset[[col]])] <- Mode(new_dataset[[col]])\n",
    "}\n",
    "head(new_dataset,10)"
   ]
  },
  {
   "cell_type": "markdown",
   "metadata": {},
   "source": [
    "### (g) Create a new data set by imputing the most frequent value to the column \\\"nDoors\\\". Tip: use the function impute_replace()"
   ]
  },
  {
   "cell_type": "code",
   "execution_count": 31,
   "metadata": {},
   "outputs": [
    {
     "ename": "ERROR",
     "evalue": "\u001b[1m\u001b[33mError\u001b[39m:\u001b[22m\n\u001b[1m\u001b[22m\u001b[33m!\u001b[39m `select_vars()` was deprecated in dplyr 0.8.4 and is now defunct.\n\u001b[36mℹ\u001b[39m Please use `tidyselect::vars_select()` instead.\n",
     "output_type": "error",
     "traceback": [
      "\u001b[1m\u001b[33mError\u001b[39m:\u001b[22m\n\u001b[1m\u001b[22m\u001b[33m!\u001b[39m `select_vars()` was deprecated in dplyr 0.8.4 and is now defunct.\n\u001b[36mℹ\u001b[39m Please use `tidyselect::vars_select()` instead.\nTraceback:\n",
      "1. impute_replace(df, \"nDoors\", method = \"mode\")",
      "2. impute(.tbl, .na = .na, ...)",
      "3. select_vars(names(.tbl), ...)",
      "4. lifecycle::deprecate_stop(\"0.8.4\", \"select_vars()\", \"tidyselect::vars_select()\")",
      "5. deprecate_stop0(msg)",
      "6. cnd_signal(error_cnd(c(\"lifecycle_error_deprecated\", \"defunctError\"), \n .     old = NULL, new = NULL, package = NULL, message = msg))",
      "7. signal_abort(cnd)"
     ]
    }
   ],
   "source": [
    "# Create a new data set by imputing the most frequent value to the \"nDoors\" column\n",
    "new_dataset <- impute_replace(df, \"nDoors\", method = \"mode\")\n",
    "head(new_dataset,10)"
   ]
  },
  {
   "cell_type": "markdown",
   "metadata": {},
   "source": [
    "### (h) Combine the three last imputations to obtain a final dataset. Are there any duplicated cases?Tip: use the functions distinct() and count()"
   ]
  },
  {
   "cell_type": "markdown",
   "metadata": {},
   "source": [
    "## 2. Data Pre-Processing"
   ]
  },
  {
   "cell_type": "markdown",
   "metadata": {},
   "source": [
    "### 2. Load the package dlookr. Use the same car insurance data set above and apply the following transformations to the price attribute. Be critical regarding the obtained results."
   ]
  },
  {
   "cell_type": "markdown",
   "metadata": {},
   "source": [
    "#### (a) Apply range-based normalization and z-score normalization. Tip: use the function transform()."
   ]
  },
  {
   "cell_type": "markdown",
   "metadata": {},
   "source": [
    "#### (b) Discretize it into 4 equal-frequency ranges an into 4 equal-width ranges. Tip: use the function binning()."
   ]
  },
  {
   "cell_type": "markdown",
   "metadata": {},
   "source": [
    "### 3. With the seed 111019 obtain the following samples on the car insurance data set. Tip: use the function sample_frac()."
   ]
  },
  {
   "cell_type": "markdown",
   "metadata": {},
   "source": [
    "#### (a) A random sample of 60% of the cases, with replacement"
   ]
  },
  {
   "cell_type": "markdown",
   "metadata": {},
   "source": [
    "#### (b) A stratified sample of 60% of the cases of cars, according to the fuelType attribute."
   ]
  },
  {
   "cell_type": "markdown",
   "metadata": {},
   "source": [
    "#### (c) Use the table() function to inspect the distribution of values in each of the two samples above."
   ]
  }
 ],
 "metadata": {
  "anaconda-cloud": "",
  "kernelspec": {
   "display_name": "R",
   "language": "R",
   "name": "ir"
  },
  "language_info": {
   "codemirror_mode": "r",
   "file_extension": ".r",
   "mimetype": "text/x-r-source",
   "name": "R",
   "pygments_lexer": "r",
   "version": "4.3.0"
  }
 },
 "nbformat": 4,
 "nbformat_minor": 4
}
