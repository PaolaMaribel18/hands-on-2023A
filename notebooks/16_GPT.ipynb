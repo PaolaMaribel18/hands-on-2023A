{
  "cells": [
    {
      "cell_type": "markdown",
      "metadata": {
        "id": "view-in-github",
        "colab_type": "text"
      },
      "source": [
        "<a href=\"https://colab.research.google.com/github/PaolaMaribel18/hands-on-2023A/blob/master/notebooks/16_GPT.ipynb\" target=\"_parent\"><img src=\"https://colab.research.google.com/assets/colab-badge.svg\" alt=\"Open In Colab\"/></a>"
      ]
    },
    {
      "cell_type": "markdown",
      "source": [
        "# 16 GPT: Generative Pre-trained Transformer\n",
        "\n",
        "GPT is a model and approach developed by OpenAI. It is primarily known for its capabilities in generating coherent and contextually relevant text over long passages.\n",
        "\n",
        "* Architecture: GPT is based on the Transformer architecture. Unlike some other models that use both an encoder and a decoder, GPT exclusively utilizes the decoder part of the Transformer for its tasks.\n",
        "* Pre-training and Fine-tuning:\n",
        "    - Pre-training: GPT is first pre-trained on a large corpus of text (like books, articles, websites, etc.). During this phase, it learns to predict the next word in a sentence. This process enables the model to learn grammar, facts about the world, reasoning abilities, and even some level of common sense.\n",
        "    - Fine-tuning: After pre-training, the model can be fine-tuned on a specific task, such as translation, question-answering, or summarization, using a smaller, task-specific dataset.\n",
        "\n",
        "* Autoregressive Nature: GPT generates text in an autoregressive manner. This means it produces one word at a time and uses what it's generated so far as a context to generate the next word.\n",
        "\n",
        "#### Key Features:\n",
        "\n",
        "* Generative Abilities: As the name suggests, GPT excels at generating text. It can produce text that is often indistinguishable from what a human might write.\n",
        "* Few-Shot Learning: Introduced with GPT-3, this capability allows the model to perform tasks even when provided with very few examples (sometimes as few as one). By just specifying a task in natural language, GPT-3 can often understand and perform the task without explicit fine-tuning.\n",
        "* Versatility: Unlike many models that are trained for a specific task, GPT models, especially GPT-3, are versatile and can handle a wide range of tasks without task-specific training. This includes writing essays, answering questions, creating poetry, generating code, and much more.\n",
        "\n",
        "#### Versions:\n",
        "\n",
        "* GPT: The original model introduced by OpenAI.\n",
        "\n",
        "* GPT-2: A larger and more powerful version that garnered significant attention due to its impressive text generation capabilities. OpenAI initially withheld the fully-trained model due to concerns about misuse, but later released it given the broader community's responsible usage.\n",
        "\n",
        "* GPT-3: The third iteration with 175 billion parameters, making it one of the largest models ever created. It introduced the concept of few-shot and zero-shot learning, further advancing the state-of-the-art in various NLP tasks."
      ],
      "metadata": {
        "collapsed": false,
        "id": "9d4EX-LiyiIJ"
      }
    },
    {
      "cell_type": "markdown",
      "source": [
        "### Exercise: Exploring Creative Writing with GPT\n",
        "\n",
        "Your task is to use OpenAI's GPT model to generate creative content. You'll explore various prompts and settings to see how GPT responds and creates different outputs."
      ],
      "metadata": {
        "collapsed": false,
        "id": "x405mNJ0yiIN"
      }
    },
    {
      "cell_type": "markdown",
      "source": [
        "Load GPT-2 Model and Tokenizer. GPT-2 is freely available in Hugging Face's model hub and is still highly effective."
      ],
      "metadata": {
        "collapsed": false,
        "id": "F_GIr1GAyiIO"
      }
    },
    {
      "cell_type": "code",
      "source": [
        "!pip install transformers"
      ],
      "metadata": {
        "colab": {
          "base_uri": "https://localhost:8080/"
        },
        "id": "cBEaZfGE2baX",
        "outputId": "c0c5c72a-5bd6-44bc-de0d-aa1dae5c7f13"
      },
      "execution_count": 2,
      "outputs": [
        {
          "output_type": "stream",
          "name": "stdout",
          "text": [
            "Requirement already satisfied: transformers in /usr/local/lib/python3.10/dist-packages (4.32.0)\n",
            "Requirement already satisfied: filelock in /usr/local/lib/python3.10/dist-packages (from transformers) (3.12.2)\n",
            "Requirement already satisfied: huggingface-hub<1.0,>=0.15.1 in /usr/local/lib/python3.10/dist-packages (from transformers) (0.16.4)\n",
            "Requirement already satisfied: numpy>=1.17 in /usr/local/lib/python3.10/dist-packages (from transformers) (1.23.5)\n",
            "Requirement already satisfied: packaging>=20.0 in /usr/local/lib/python3.10/dist-packages (from transformers) (23.1)\n",
            "Requirement already satisfied: pyyaml>=5.1 in /usr/local/lib/python3.10/dist-packages (from transformers) (6.0.1)\n",
            "Requirement already satisfied: regex!=2019.12.17 in /usr/local/lib/python3.10/dist-packages (from transformers) (2023.6.3)\n",
            "Requirement already satisfied: requests in /usr/local/lib/python3.10/dist-packages (from transformers) (2.31.0)\n",
            "Requirement already satisfied: tokenizers!=0.11.3,<0.14,>=0.11.1 in /usr/local/lib/python3.10/dist-packages (from transformers) (0.13.3)\n",
            "Requirement already satisfied: safetensors>=0.3.1 in /usr/local/lib/python3.10/dist-packages (from transformers) (0.3.3)\n",
            "Requirement already satisfied: tqdm>=4.27 in /usr/local/lib/python3.10/dist-packages (from transformers) (4.66.1)\n",
            "Requirement already satisfied: fsspec in /usr/local/lib/python3.10/dist-packages (from huggingface-hub<1.0,>=0.15.1->transformers) (2023.6.0)\n",
            "Requirement already satisfied: typing-extensions>=3.7.4.3 in /usr/local/lib/python3.10/dist-packages (from huggingface-hub<1.0,>=0.15.1->transformers) (4.7.1)\n",
            "Requirement already satisfied: charset-normalizer<4,>=2 in /usr/local/lib/python3.10/dist-packages (from requests->transformers) (3.2.0)\n",
            "Requirement already satisfied: idna<4,>=2.5 in /usr/local/lib/python3.10/dist-packages (from requests->transformers) (3.4)\n",
            "Requirement already satisfied: urllib3<3,>=1.21.1 in /usr/local/lib/python3.10/dist-packages (from requests->transformers) (2.0.4)\n",
            "Requirement already satisfied: certifi>=2017.4.17 in /usr/local/lib/python3.10/dist-packages (from requests->transformers) (2023.7.22)\n"
          ]
        }
      ]
    },
    {
      "cell_type": "code",
      "source": [
        "from transformers import GPT2LMHeadModel, GPT2Tokenizer"
      ],
      "metadata": {
        "id": "vFbTmLeT5qT_"
      },
      "execution_count": 2,
      "outputs": []
    },
    {
      "cell_type": "code",
      "execution_count": 4,
      "metadata": {
        "collapsed": true,
        "id": "VgwM-HuqyiIP"
      },
      "outputs": [],
      "source": [
        "model_name = 'gpt2-medium'  # You can start with 'gpt2' (smaller) and then experiment with larger models\n",
        "model = GPT2LMHeadModel.from_pretrained(model_name)\n",
        "tokenizer = GPT2Tokenizer.from_pretrained(model_name)"
      ]
    },
    {
      "cell_type": "markdown",
      "source": [
        "Generate Creative Content Function"
      ],
      "metadata": {
        "collapsed": false,
        "id": "jfkikpF1yiIR"
      }
    },
    {
      "cell_type": "code",
      "execution_count": 5,
      "outputs": [],
      "source": [
        "def generate_creative_content(prompt, max_length=150, temperature=1.0):\n",
        "    \"\"\"Generate creative content using GPT-2 based on a given prompt.\"\"\"\n",
        "\n",
        "    # Encode the prompt\n",
        "    input_ids = tokenizer.encode(prompt, return_tensors='pt')\n",
        "\n",
        "    # Generate text\n",
        "    output = model.generate(input_ids, max_length=max_length, temperature=temperature, pad_token_id=tokenizer.eos_token_id)\n",
        "\n",
        "    # Decode and print the generated text\n",
        "    generated_text = tokenizer.decode(output[:, input_ids.shape[-1]:][0], skip_special_tokens=True)\n",
        "\n",
        "    return generated_text"
      ],
      "metadata": {
        "id": "CmM_UhT6yiIR"
      }
    },
    {
      "cell_type": "markdown",
      "source": [
        "#### Experiment:\n",
        "Use various prompts and observe GPT's creative capabilities.\n",
        "Change parameters like *max_length* and *temperature* to see their impact. (Note: A higher temperature value makes output more random, while a lower value makes it more deterministic.)"
      ],
      "metadata": {
        "collapsed": false,
        "id": "m7XfmnZRyiIS"
      }
    },
    {
      "cell_type": "code",
      "execution_count": 6,
      "outputs": [
        {
          "output_type": "stream",
          "name": "stdout",
          "text": [
            "Prompt: Once upon a time, in a kingdom far away,\n",
            " there lived a king who was a great warrior. He was a great warrior, and he was a great king. He was a great king, and he was a great king. He was a great king, and he was a great king. He was a great king, and he was a great king. He was a great king, and he was a great king. He was a great king, and he was a great king. He was a great king, and he was a great king. He was a great king, and he was a great king. He was a great king, and he was a great king. He was a great king, and he was a great king\n",
            "\n",
            "--------------------------------------------------\n",
            "\n",
            "Prompt: In a dystopian future, where AI rules the world,\n",
            " the only way to survive is to become a cyborg.\n",
            "\n",
            "The game is set in a dystopian future where AI rules the world, and the only way to survive is to become a cyborg.\n",
            "\n",
            "The game is set in a dystopian future where AI rules the world, and the only way to survive is to become a cyborg.\n",
            "\n",
            "The game is set in a dystopian future where AI rules the world, and the only way to survive is to become a cyborg.\n",
            "\n",
            "The game is set in a dystopian future where AI rules the world, and the only way to survive is to become a cyborg.\n",
            "\n",
            "The game is set in a dystopian future where\n",
            "\n",
            "--------------------------------------------------\n",
            "\n",
            "Prompt: The last dinosaur on Earth was not like the others. It\n",
            " was a giant, bipedal, quadrupedal, quadrupedal, quadrupedal, quadrupedal, quadrupedal, quadrupedal, quadrupedal, quadrupedal, quadrupedal, quadrupedal, quadrupedal, quadrupedal, quadrupedal, quadrupedal, quadrupedal, quadrupedal, quadrupedal, quadrupedal, quadrupedal, quadrupedal, quadrupedal, quadrupedal, quadrupedal, quadrupedal, quadrupedal, quadrupedal, quadrupedal, quadrupedal, quadrupedal, quadrupedal, quadrupedal, quadrupedal, quadruped\n",
            "\n",
            "--------------------------------------------------\n",
            "\n",
            "Prompt: Deep beneath the ocean waves, a secret civilization\n",
            " has been building a vast network of underground tunnels. The tunnels are filled with powerful weapons and technology, and are guarded by powerful creatures.\n",
            "\n",
            "The game is set in the same universe as the original Fallout 3, but with a few changes. The game is set in the year 2277, and the player is a member of the Brotherhood of Steel. The player is tasked with finding a way to infiltrate the Brotherhood's underground network, and to stop the Brotherhood from destroying the world.\n",
            "\n",
            "The game is set in the same universe as the original Fallout 3, but with a few changes. The game is set in the year 2277, and the player is a member of the Brotherhood of Steel.\n",
            "\n",
            "--------------------------------------------------\n",
            "\n"
          ]
        }
      ],
      "source": [
        "prompts = [\n",
        "    \"Once upon a time, in a kingdom far away,\",\n",
        "    \"In a dystopian future, where AI rules the world,\",\n",
        "    \"The last dinosaur on Earth was not like the others. It\",\n",
        "    \"Deep beneath the ocean waves, a secret civilization\"\n",
        "]\n",
        "\n",
        "for prompt in prompts:\n",
        "    print(f\"Prompt: {prompt}\")\n",
        "    print(generate_creative_content(prompt))\n",
        "    print(\"\\n\" + \"-\"*50 + \"\\n\")"
      ],
      "metadata": {
        "colab": {
          "base_uri": "https://localhost:8080/"
        },
        "id": "nTPa7wvIyiIS",
        "outputId": "6e937db7-f0b6-4968-c5c5-c70b26b2efb9"
      }
    },
    {
      "cell_type": "markdown",
      "source": [
        "- max_length=200, temperature=3.0"
      ],
      "metadata": {
        "id": "JwpmAO-sbDwf"
      }
    },
    {
      "cell_type": "code",
      "source": [
        "def generate_creative_content(prompt, max_length=200, temperature=3.0):\n",
        "    \"\"\"Generate creative content using GPT-2 based on a given prompt.\"\"\"\n",
        "\n",
        "    # Encode the prompt\n",
        "    input_ids = tokenizer.encode(prompt, return_tensors='pt')\n",
        "\n",
        "    # Generate text\n",
        "    output = model.generate(input_ids, max_length=max_length, temperature=temperature, pad_token_id=tokenizer.eos_token_id)\n",
        "\n",
        "    # Decode and print the generated text\n",
        "    generated_text = tokenizer.decode(output[:, input_ids.shape[-1]:][0], skip_special_tokens=True)\n",
        "\n",
        "    return generated_text\n",
        "\n",
        "prompts = [\n",
        "    \"Once upon a time, in a kingdom far away,\",\n",
        "    \"In a dystopian future, where AI rules the world,\",\n",
        "    \"The last dinosaur on Earth was not like the others. It\",\n",
        "    \"Deep beneath the ocean waves, a secret civilization\"\n",
        "]\n",
        "\n",
        "for prompt in prompts:\n",
        "    print(f\"Prompt: {prompt}\")\n",
        "    print(generate_creative_content(prompt))\n",
        "    print(\"\\n\" + \"-\"*50 + \"\\n\")"
      ],
      "metadata": {
        "colab": {
          "base_uri": "https://localhost:8080/"
        },
        "id": "27moAWe0SG-U",
        "outputId": "fe39f312-317d-4cf8-ea0c-c16e141c9798"
      },
      "execution_count": 22,
      "outputs": [
        {
          "output_type": "stream",
          "name": "stdout",
          "text": [
            "Prompt: Once upon a time, in a kingdom far away,\n",
            " there lived a king who was a great warrior. He was a great warrior, and he was a great king. He was a great king, and he was a great king. He was a great king, and he was a great king. He was a great king, and he was a great king. He was a great king, and he was a great king. He was a great king, and he was a great king. He was a great king, and he was a great king. He was a great king, and he was a great king. He was a great king, and he was a great king. He was a great king, and he was a great king. He was a great king, and he was a great king. He was a great king, and he was a great king. He was a great king, and he was a great king. He was a great king, and he was a\n",
            "\n",
            "--------------------------------------------------\n",
            "\n",
            "Prompt: In a dystopian future, where AI rules the world,\n",
            " the only way to survive is to become a cyborg.\n",
            "\n",
            "The game is set in a dystopian future where AI rules the world, and the only way to survive is to become a cyborg.\n",
            "\n",
            "The game is set in a dystopian future where AI rules the world, and the only way to survive is to become a cyborg.\n",
            "\n",
            "The game is set in a dystopian future where AI rules the world, and the only way to survive is to become a cyborg.\n",
            "\n",
            "The game is set in a dystopian future where AI rules the world, and the only way to survive is to become a cyborg.\n",
            "\n",
            "The game is set in a dystopian future where AI rules the world, and the only way to survive is to become a cyborg.\n",
            "\n",
            "The game is set in a dystopian future where AI rules the world, and the only way to survive is to become a cyborg.\n",
            "\n",
            "The\n",
            "\n",
            "--------------------------------------------------\n",
            "\n",
            "Prompt: The last dinosaur on Earth was not like the others. It\n",
            " was a giant, bipedal, quadrupedal, quadrupedal, quadrupedal, quadrupedal, quadrupedal, quadrupedal, quadrupedal, quadrupedal, quadrupedal, quadrupedal, quadrupedal, quadrupedal, quadrupedal, quadrupedal, quadrupedal, quadrupedal, quadrupedal, quadrupedal, quadrupedal, quadrupedal, quadrupedal, quadrupedal, quadrupedal, quadrupedal, quadrupedal, quadrupedal, quadrupedal, quadrupedal, quadrupedal, quadrupedal, quadrupedal, quadrupedal, quadrupedal, quadrupedal, quadrupedal, quadrupedal, quadrupedal, quadrupedal, quadrupedal, quadrupedal, quadrupedal, quadrupedal, quadrupedal, quadrupedal, quadrupedal,\n",
            "\n",
            "--------------------------------------------------\n",
            "\n",
            "Prompt: Deep beneath the ocean waves, a secret civilization\n",
            " has been building a vast network of underground tunnels. The tunnels are filled with powerful weapons and technology, and are guarded by powerful creatures.\n",
            "\n",
            "The game is set in the same universe as the original Fallout 3, but with a few changes. The game is set in the year 2277, and the player is a member of the Brotherhood of Steel. The player is tasked with finding a way to infiltrate the Brotherhood's underground network, and to stop the Brotherhood from destroying the world.\n",
            "\n",
            "The game is set in the same universe as the original Fallout 3, but with a few changes. The game is set in the year 2277, and the player is a member of the Brotherhood of Steel. The player is tasked with finding a way to infiltrate the Brotherhood's underground network, and to stop the Brotherhood from destroying the world. The game is set in the same universe as the original Fallout 3, but with a few changes. The game is set\n",
            "\n",
            "--------------------------------------------------\n",
            "\n"
          ]
        }
      ]
    },
    {
      "cell_type": "markdown",
      "source": [
        "* max_length=300, temperature=0.5"
      ],
      "metadata": {
        "id": "NTVh8-c9bVl-"
      }
    },
    {
      "cell_type": "code",
      "source": [
        "def generate_creative_content(prompt, max_length=300, temperature=0.5):\n",
        "    \"\"\"Generate creative content using GPT-2 based on a given prompt.\"\"\"\n",
        "\n",
        "    # Encode the prompt\n",
        "    input_ids = tokenizer.encode(prompt, return_tensors='pt')\n",
        "\n",
        "    # Generate text\n",
        "    output = model.generate(input_ids, max_length=max_length, temperature=temperature, pad_token_id=tokenizer.eos_token_id)\n",
        "\n",
        "    # Decode and print the generated text\n",
        "    generated_text = tokenizer.decode(output[:, input_ids.shape[-1]:][0], skip_special_tokens=True)\n",
        "\n",
        "    return generated_text\n",
        "\n",
        "prompts = [\n",
        "    \"Once upon a time, in a kingdom far away,\",\n",
        "    \"In a dystopian future, where AI rules the world,\",\n",
        "    \"The last dinosaur on Earth was not like the others. It\",\n",
        "    \"Deep beneath the ocean waves, a secret civilization\"\n",
        "]\n",
        "\n",
        "for prompt in prompts:\n",
        "    print(f\"Prompt: {prompt}\")\n",
        "    print(generate_creative_content(prompt))\n",
        "    print(\"\\n\" + \"-\"*50 + \"\\n\")"
      ],
      "metadata": {
        "colab": {
          "base_uri": "https://localhost:8080/"
        },
        "id": "uLedCZ96TP-r",
        "outputId": "62100e17-b3f5-4cd5-ed6d-c7baefbdb8ba"
      },
      "execution_count": 23,
      "outputs": [
        {
          "output_type": "stream",
          "name": "stdout",
          "text": [
            "Prompt: Once upon a time, in a kingdom far away,\n",
            " there lived a king who was a great warrior. He was a great warrior, and he was a great king. He was a great king, and he was a great king. He was a great king, and he was a great king. He was a great king, and he was a great king. He was a great king, and he was a great king. He was a great king, and he was a great king. He was a great king, and he was a great king. He was a great king, and he was a great king. He was a great king, and he was a great king. He was a great king, and he was a great king. He was a great king, and he was a great king. He was a great king, and he was a great king. He was a great king, and he was a great king. He was a great king, and he was a great king. He was a great king, and he was a great king. He was a great king, and he was a great king. He was a great king, and he was a great king. He was a great king, and he was a great king. He was a great king, and he was a great king. He was a great king, and he was a great king. He was a great king, and he was a great king. He was a great king,\n",
            "\n",
            "--------------------------------------------------\n",
            "\n",
            "Prompt: In a dystopian future, where AI rules the world,\n",
            " the only way to survive is to become a cyborg.\n",
            "\n",
            "The game is set in a dystopian future where AI rules the world, and the only way to survive is to become a cyborg.\n",
            "\n",
            "The game is set in a dystopian future where AI rules the world, and the only way to survive is to become a cyborg.\n",
            "\n",
            "The game is set in a dystopian future where AI rules the world, and the only way to survive is to become a cyborg.\n",
            "\n",
            "The game is set in a dystopian future where AI rules the world, and the only way to survive is to become a cyborg.\n",
            "\n",
            "The game is set in a dystopian future where AI rules the world, and the only way to survive is to become a cyborg.\n",
            "\n",
            "The game is set in a dystopian future where AI rules the world, and the only way to survive is to become a cyborg.\n",
            "\n",
            "The game is set in a dystopian future where AI rules the world, and the only way to survive is to become a cyborg.\n",
            "\n",
            "The game is set in a dystopian future where AI rules the world, and the only way to survive is to become a cyborg.\n",
            "\n",
            "The game is set in a dystopian future where AI rules the world, and the only way to survive is to become a cyborg.\n",
            "\n",
            "The game is set in a dystopian future where AI rules the world,\n",
            "\n",
            "--------------------------------------------------\n",
            "\n",
            "Prompt: The last dinosaur on Earth was not like the others. It\n",
            " was a giant, bipedal, quadrupedal, quadrupedal, quadrupedal, quadrupedal, quadrupedal, quadrupedal, quadrupedal, quadrupedal, quadrupedal, quadrupedal, quadrupedal, quadrupedal, quadrupedal, quadrupedal, quadrupedal, quadrupedal, quadrupedal, quadrupedal, quadrupedal, quadrupedal, quadrupedal, quadrupedal, quadrupedal, quadrupedal, quadrupedal, quadrupedal, quadrupedal, quadrupedal, quadrupedal, quadrupedal, quadrupedal, quadrupedal, quadrupedal, quadrupedal, quadrupedal, quadrupedal, quadrupedal, quadrupedal, quadrupedal, quadrupedal, quadrupedal, quadrupedal, quadrupedal, quadrupedal, quadrupedal, quadrupedal, quadrupedal, quadrupedal, quadrupedal, quadrupedal, quadrupedal, quadrupedal, quadrupedal, quadrupedal, quadrupedal, quadrupedal, quadrupedal, quadrupedal, quadrupedal, quadrupedal, quadrupedal, quadrupedal, quadrupedal, quadrupedal, quadrupedal, quadrupedal, quadrupedal, quadrupedal, quadrupedal, quadrupedal,\n",
            "\n",
            "--------------------------------------------------\n",
            "\n",
            "Prompt: Deep beneath the ocean waves, a secret civilization\n",
            " has been building a vast network of underground tunnels. The tunnels are filled with powerful weapons and technology, and are guarded by powerful creatures.\n",
            "\n",
            "The game is set in the same universe as the original Fallout 3, but with a few changes. The game is set in the year 2277, and the player is a member of the Brotherhood of Steel. The player is tasked with finding a way to infiltrate the Brotherhood's underground network, and to stop the Brotherhood from destroying the world.\n",
            "\n",
            "The game is set in the same universe as the original Fallout 3, but with a few changes. The game is set in the year 2277, and the player is a member of the Brotherhood of Steel. The player is tasked with finding a way to infiltrate the Brotherhood's underground network, and to stop the Brotherhood from destroying the world. The game is set in the same universe as the original Fallout 3, but with a few changes. The game is set in the same universe as the original Fallout 3, but with a few changes. The game is set in the same universe as the original Fallout 3, but with a few changes. The game is set in the same universe as the original Fallout 3, but with a few changes. The game is set in the same universe as the original Fallout 3, but with a few changes. The game is set in the same universe as the original Fallout 3, but with a few changes. The game is set\n",
            "\n",
            "--------------------------------------------------\n",
            "\n"
          ]
        }
      ]
    },
    {
      "cell_type": "markdown",
      "source": [
        "####Discussion and Analysis:\n",
        "- Analyze the quality of the generated text: coherence, relevancy, and creativity.\n",
        "- Discuss how different prompts influence the direction of the story.\n",
        "- Experiment with custom prompts to generate different genres of creative content (e.g., horror, sci-fi, romance)."
      ],
      "metadata": {
        "collapsed": false,
        "id": "J6A3eTYxyiIT"
      }
    },
    {
      "cell_type": "markdown",
      "source": [
        "#####**Consistency, Relevance and Creativity:**\n",
        "\n"
      ],
      "metadata": {
        "id": "Gz2zaHDhizHa"
      }
    },
    {
      "cell_type": "markdown",
      "source": [
        "First Prompt: The coherence of the generated text is lacking, and it becomes repetitive and nonsensical. The text starts with a coherent premise but devolves into repeated phrases. The relevance diminishes as the text progresses. There's no creativity as the model seems to be recycling the same phrases.\n",
        "\n",
        "Second Prompt: The coherence is maintained, and the initial relevance is present with the concept of surviving as a cyborg. However, the text quickly loses coherence as it starts repeating itself, and the relevance wanes. There's limited creativity as the model sticks to the same idea without expanding upon it.\n",
        "\n",
        "Third Prompt: The generated text lacks coherence from the start and becomes nonsensical with repeated phrases. The relevance to the prompt is lost. There's minimal creativity as the model struggles to generate meaningful content.\n",
        "\n",
        "Fourth Prompt: The generated text starts coherently, but the relevance is lost when it unexpectedly transitions into a description of a video game. The coherence and relevance suffer greatly, and there's no creativity as the model regurgitates existing information."
      ],
      "metadata": {
        "id": "UJHsgpFwWYqQ"
      }
    },
    {
      "cell_type": "markdown",
      "source": [
        "#####**Different prompts influence the direction of the story.**\n",
        "\n",
        "As seen in the examples above, the model tends to repeat itself and to lose relevance and coherence when asked to continue the story without a clear stimulus."
      ],
      "metadata": {
        "id": "uRFgqHf8i9lj"
      }
    },
    {
      "cell_type": "markdown",
      "source": [
        "#####**Custom prompts**"
      ],
      "metadata": {
        "id": "GSWdPrhojSig"
      }
    },
    {
      "cell_type": "code",
      "source": [
        "prompts = [\n",
        "    \"On a dark and stormy night,\",\n",
        "    \"In the year 3025, humanity discovered a way to travel through time,\",\n",
        "    \"Under the starry sky, a cat was alone in a house,\"\n",
        "]\n",
        "\n",
        "for prompt in prompts:\n",
        "    print(f\"Prompt: {prompt}\")\n",
        "    print(generate_creative_content(prompt))\n",
        "    print(\"\\n\" + \"-\"*50 + \"\\n\")"
      ],
      "metadata": {
        "colab": {
          "base_uri": "https://localhost:8080/"
        },
        "id": "BWY67R4Eg-om",
        "outputId": "25f39cb7-1af1-4253-eabe-d249e76209b0"
      },
      "execution_count": 7,
      "outputs": [
        {
          "output_type": "stream",
          "name": "stdout",
          "text": [
            "Prompt: On a dark and stormy night,\n",
            " the two men were walking along the road when they came across a man who was carrying a large bag. The man was carrying a large bag of marijuana.\n",
            "\n",
            "\"I was like, 'What is that?' He said, 'It's a bag of marijuana,'\" said the man, who asked not to be identified.\n",
            "\n",
            "The man said he was carrying the bag because he was worried about his son's safety.\n",
            "\n",
            "\"I was like, 'What are you doing? You're going to get arrested,'\" the man said.\n",
            "\n",
            "The man said he was walking with his son when he saw the man carrying the bag.\n",
            "\n",
            "\"I was like, 'What are you doing?\n",
            "\n",
            "--------------------------------------------------\n",
            "\n",
            "Prompt: In the year 3025, humanity discovered a way to travel through time,\n",
            " and the first humans were born. The first humans were called the \"Firstborn\" and were born in the year 3025. The Firstborn were the first humans to be born in the year 3025.\n",
            "\n",
            "The Firstborn were the first humans to be born in the year 3025. The Firstborn were the first humans to be born in the year 3025.\n",
            "\n",
            "The Firstborn were the first humans to be born in the year 3025. The Firstborn were the first humans to be born in the year 3025.\n",
            "\n",
            "The Firstborn were the first humans to be born in the year 3025. The Firstborn were the first humans\n",
            "\n",
            "--------------------------------------------------\n",
            "\n",
            "Prompt: Under the starry sky, a cat was alone in a house,\n",
            " and the cat was crying.\n",
            "\n",
            "\"I'm sorry, I'm sorry, I'm sorry, I'm sorry, I'm sorry, I'm sorry, I'm sorry, I'm sorry, I'm sorry, I'm sorry, I'm sorry, I'm sorry, I'm sorry, I'm sorry, I'm sorry, I'm sorry, I'm sorry, I'm sorry, I'm sorry, I'm sorry, I'm sorry, I'm sorry, I'm sorry, I'm sorry, I'm sorry, I'm sorry, I'm sorry, I'm sorry, I'm sorry, I'm sorry, I'm sorry, I'm sorry\n",
            "\n",
            "--------------------------------------------------\n",
            "\n"
          ]
        }
      ]
    },
    {
      "cell_type": "markdown",
      "source": [
        "Tasks:\n",
        "* Use a larger GPT-2 variant (gpt2-large or gpt2-xl) and compare the quality of outputs.\n",
        "* Incorporate user feedback loops, where after getting an initial piece of text, they can provide a follow-up prompt to continue or steer the story."
      ],
      "metadata": {
        "collapsed": false,
        "id": "Avve6QtzyiIT"
      }
    },
    {
      "cell_type": "markdown",
      "source": [
        "####GPT2-large"
      ],
      "metadata": {
        "id": "DIZjXY5_gv_M"
      }
    },
    {
      "cell_type": "code",
      "execution_count": 8,
      "outputs": [],
      "source": [
        "model_name_l = 'gpt2-large'\n",
        "model_l = GPT2LMHeadModel.from_pretrained(model_name_l)\n",
        "tokenizer_l = GPT2Tokenizer.from_pretrained(model_name_l)"
      ],
      "metadata": {
        "id": "zER2NIvZyiIU"
      }
    },
    {
      "cell_type": "code",
      "source": [
        "def generate_creative_content_l(prompt, max_length=150, temperature=1.0):\n",
        "    \"\"\"Generate creative content using GPT-2 based on a given prompt.\"\"\"\n",
        "\n",
        "    # Encode the prompt\n",
        "    input_ids = tokenizer_l.encode(prompt, return_tensors='pt')\n",
        "\n",
        "    # Generate text\n",
        "    output = model_l.generate(input_ids, max_length=max_length, temperature=temperature, pad_token_id=tokenizer.eos_token_id)\n",
        "\n",
        "    # Decode and print the generated text\n",
        "    generated_text = tokenizer_l.decode(output[:, input_ids.shape[-1]:][0], skip_special_tokens=True)\n",
        "\n",
        "    return generated_text"
      ],
      "metadata": {
        "id": "1fKJTg9v37Ke"
      },
      "execution_count": 9,
      "outputs": []
    },
    {
      "cell_type": "code",
      "source": [
        "prompts = [\n",
        "    \"Once upon a time, in a kingdom far away,\",\n",
        "    \"In a dystopian future, where AI rules the world,\",\n",
        "    \"The last dinosaur on Earth was not like the others. It\",\n",
        "    \"Deep beneath the ocean waves, a secret civilization\"\n",
        "]\n",
        "\n",
        "for prompt in prompts:\n",
        "    user_feedback = \"\"\n",
        "    while not user_feedback.lower().startswith(\"exit\"):\n",
        "        print(f\"Prompt: {prompt}\")\n",
        "        generated = generate_creative_content_l(prompt)\n",
        "        print(generated)\n",
        "        user_feedback = input(\"Provide feedback or enter a follow-up prompt (type 'exit' to move to the next prompt): \")\n",
        "        if user_feedback.lower() != \"exit\":\n",
        "            prompt += \" \" + user_feedback\n",
        "        print(\"-\" * 50)\n",
        "    print(\"=\" * 50)"
      ],
      "metadata": {
        "colab": {
          "base_uri": "https://localhost:8080/"
        },
        "id": "KFxT4lpY4Qyw",
        "outputId": "4f4ad1f0-9ca3-4f0f-d76b-9cd6419dd6b8"
      },
      "execution_count": 10,
      "outputs": [
        {
          "output_type": "stream",
          "name": "stdout",
          "text": [
            "Prompt: Once upon a time, in a kingdom far away,\n",
            " the king and queen were blessed with a beautiful baby girl. Ever since that day, the princess has been growing up in a world of magic and adventure. But one day, the king and queen are kidnapped by a band of thieves. Now, the princess must find her way home and save her kingdom.\n",
            "\n",
            "The game is set in a fantasy world where the player controls a young girl named Princess Zelda. The game is set in a fantasy world where the player controls a young girl named Princess Zelda. The game is set in a fantasy world where the player controls a young girl named Princess Zelda. The game is set in a fantasy world where the player controls a young girl named Princess Zelda.\n",
            "Provide feedback or enter a follow-up prompt (type 'exit' to move to the next prompt): The princess was brave, \n",
            "--------------------------------------------------\n",
            "Prompt: Once upon a time, in a kingdom far away, The princess was brave, \n",
            " and she was the daughter of a king. She was the daughter of a king who ruled over a kingdom far away. She was the daughter of a king who ruled over a kingdom far away. She was the daughter of a king who ruled over a kingdom far away. She was the daughter of a king who ruled over a kingdom far away. She was the daughter of a king who ruled over a kingdom far away. She was the daughter of a king who ruled over a kingdom far away. She was the daughter of a king who ruled over a kingdom far away. She was the daughter of a king who ruled over a kingdom far away. She was the\n",
            "Provide feedback or enter a follow-up prompt (type 'exit' to move to the next prompt): exit\n",
            "--------------------------------------------------\n",
            "==================================================\n",
            "Prompt: In a dystopian future, where AI rules the world,\n",
            " the only way to survive is to become a super-soldier.\n",
            "\n",
            "The game is set in a future where the world is ruled by a super-intelligence called the AI. The AI is a powerful and intelligent being that has been created by the government to protect the world from the threat of a super-intelligence.\n",
            "\n",
            "The game is set in a dystopian future where the world is ruled by a super-intelligence called the AI. The AI is a powerful and intelligent being that has been created by the government to protect the world from the threat of a super-intelligence.\n",
            "\n",
            "The game is set in a dystopian future where the world is ruled by a super-intelligence called the\n",
            "Provide feedback or enter a follow-up prompt (type 'exit' to move to the next prompt): a young boy \n",
            "--------------------------------------------------\n",
            "Prompt: In a dystopian future, where AI rules the world, a young boy \n",
            " is sent to a remote island to find his father. He is sent to a place where the only way to survive is to kill the other inhabitants. The boy is given a gun and is told to kill the other inhabitants. The boy is given a gun and is told to kill the other inhabitants. The boy is given a gun and is told to kill the other inhabitants. The boy is given a gun and is told to kill the other inhabitants. The boy is given a gun and is told to kill the other inhabitants. The boy is given a gun and is told to kill the other inhabitants. The boy is given a gun and is told to kill the other inhabitants\n",
            "Provide feedback or enter a follow-up prompt (type 'exit' to move to the next prompt): exit\n",
            "--------------------------------------------------\n",
            "==================================================\n",
            "Prompt: The last dinosaur on Earth was not like the others. It\n",
            " was a giant, long-necked, long-necked, long-necked, long-necked, long-necked, long-necked, long-necked, long-necked, long-necked, long-necked, long-necked, long-necked, long-necked, long-necked, long-necked, long-necked, long-necked, long-necked, long-necked, long-necked, long-necked, long-necked, long-necked, long-necked, long-necked, long-necked, long-necked\n",
            "Provide feedback or enter a follow-up prompt (type 'exit' to move to the next prompt): was a little dinosaur\n",
            "--------------------------------------------------\n",
            "Prompt: The last dinosaur on Earth was not like the others. It was a little dinosaur\n",
            ", about the size of a small dog, with a long neck and a long tail. It had a long, thin neck and a long tail. It had a long, thin neck and a long tail. It had a long, thin neck and a long tail. It had a long, thin neck and a long tail. It had a long, thin neck and a long tail. It had a long, thin neck and a long tail. It had a long, thin neck and a long tail. It had a long, thin neck and a long tail. It had a long, thin neck and a long tail. It had a long, thin neck and\n",
            "Provide feedback or enter a follow-up prompt (type 'exit' to move to the next prompt): exit\n",
            "--------------------------------------------------\n",
            "==================================================\n",
            "Prompt: Deep beneath the ocean waves, a secret civilization\n",
            " has been building a massive, underground city. The city is called the City of the Dead, and it is home to a mysterious race of undead. The city is a living, breathing, breathing city, and it is the only place in the world where the dead can live. The City of the Dead is a living, breathing, breathing city. It is a living, breathing, breathing city. It is a living, breathing, breathing city. It is a living, breathing, breathing city. It is a living, breathing, breathing city. It is a living, breathing, breathing city. It is a living, breathing, breathing city. It is a living, breathing, breathing city. It\n",
            "Provide feedback or enter a follow-up prompt (type 'exit' to move to the next prompt): exit\n",
            "--------------------------------------------------\n",
            "==================================================\n"
          ]
        }
      ]
    }
  ],
  "metadata": {
    "kernelspec": {
      "display_name": "Python 3",
      "name": "python3"
    },
    "language_info": {
      "codemirror_mode": {
        "name": "ipython",
        "version": 2
      },
      "file_extension": ".py",
      "mimetype": "text/x-python",
      "name": "python",
      "nbconvert_exporter": "python",
      "pygments_lexer": "ipython2",
      "version": "2.7.6"
    },
    "colab": {
      "provenance": [],
      "gpuType": "T4",
      "toc_visible": true,
      "include_colab_link": true
    },
    "accelerator": "GPU"
  },
  "nbformat": 4,
  "nbformat_minor": 0
}